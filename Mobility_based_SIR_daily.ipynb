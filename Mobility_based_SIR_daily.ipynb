{
  "cells": [
    {
      "cell_type": "code",
      "execution_count": 57,
      "metadata": {
        "id": "c-VcGDaeOCCf"
      },
      "outputs": [],
      "source": [
        "import numpy as np                            #Library that has extensive set of math methods and functions.\n",
        "from scipy.integrate import odeint            #Library that has function for solving differentail equations\n",
        "from scipy.interpolate import interp1d        #Library containing fuctions of interpolating data\n",
        "from scipy.optimize import curve_fit          #Library containing fuctions of fitting paramaters to data\n",
        "from scipy.stats import t as tdist\n",
        "import pandas as pd\n",
        "from sklearn.metrics import mean_squared_error, mean_absolute_percentage_error\n",
        "import math\n",
        "from itertools import repeat\n",
        "from datetime import timedelta\n",
        "import csv\n",
        "\n",
        "\n",
        "\n",
        "#Library to plot data\n",
        "import plotly.graph_objects as go\n",
        "\n",
        "#använd curvefit för att anpassa parametrar \n",
        "\n",
        "mobility_data = pd.read_csv('https://raw.githubusercontent.com/Dan-Irl/MVEX-Matematiska-modeller-f-r-smittspridning/main/SwedenMobilityData.csv')   #imports mobility data from github\n",
        "\n",
        "temperature_data = pd.read_json('https://raw.githubusercontent.com/Dan-Irl/MVEX-Matematiska-modeller-f-r-smittspridning/main/smhidata_2020_2021.json')  #imports temperature data from github \n",
        "\n",
        "admission_data = pd.read_json('https://raw.githubusercontent.com/Dan-Irl/MVEX-Matematiska-modeller-f-r-smittspridning/main/Inskrivningsdata.json')                  #imports admission data from github\n",
        "\n",
        "VT_mobility_data = pd.read_csv('https://raw.githubusercontent.com/Dan-Irl/MVEX-Matematiska-modeller-f-r-smittspridning/main/VT_mobility.csv')\n",
        "\n",
        "\n",
        "#Jämför RMSE mellan modeller berode på antal datapunkter\n",
        "#jämför hur ofta prediction hamnar i predictionsintervall mellan modeller berode på antal datapunkter"
      ]
    },
    {
      "cell_type": "code",
      "execution_count": 108,
      "metadata": {},
      "outputs": [],
      "source": [
        "# A array of time points in days for the model to use\n",
        "prediction_time = 173\n",
        "t = np.linspace(1, prediction_time, prediction_time)\n",
        "\n",
        "#Defines how many data point are to be used for model fitting\n",
        "fittingPoints = 173 # Max 173 days\n",
        "t_fittingdata = np.linspace(0, fittingPoints, fittingPoints)\n",
        "\n",
        "\n",
        "dailyAdmissions = admission_data['Inskrivningar']\n"
      ]
    },
    {
      "cell_type": "markdown",
      "metadata": {},
      "source": [
        "Created the mobility function for Västtrafik"
      ]
    },
    {
      "cell_type": "code",
      "execution_count": 84,
      "metadata": {},
      "outputs": [
        {
          "data": {
            "application/vnd.plotly.v1+json": {
              "config": {
                "plotlyServerURL": "https://plot.ly"
              },
              "data": [
                {
                  "mode": "lines",
                  "name": "Mobility function",
                  "type": "scatter",
                  "x": [
                    1,
                    2,
                    3,
                    4,
                    5,
                    6,
                    7,
                    8,
                    9,
                    10,
                    11,
                    12,
                    13,
                    14,
                    15,
                    16,
                    17,
                    18,
                    19,
                    20,
                    21,
                    22,
                    23,
                    24,
                    25,
                    26,
                    27,
                    28,
                    29,
                    30,
                    31,
                    32,
                    33,
                    34,
                    35,
                    36,
                    37,
                    38,
                    39,
                    40,
                    41,
                    42,
                    43,
                    44,
                    45,
                    46,
                    47,
                    48,
                    49,
                    50,
                    51,
                    52,
                    53,
                    54,
                    55,
                    56,
                    57,
                    58,
                    59,
                    60,
                    61,
                    62,
                    63,
                    64,
                    65,
                    66,
                    67,
                    68,
                    69,
                    70,
                    71,
                    72,
                    73,
                    74,
                    75,
                    76,
                    77,
                    78,
                    79,
                    80,
                    81,
                    82,
                    83,
                    84,
                    85,
                    86,
                    87,
                    88,
                    89,
                    90,
                    91,
                    92,
                    93,
                    94,
                    95,
                    96,
                    97,
                    98,
                    99,
                    100
                  ],
                  "y": [
                    0,
                    -0.6285714285714287,
                    -1.2571428571428573,
                    -1.8857142857142861,
                    -2.5142857142857147,
                    -3.1428571428571432,
                    -3.7714285714285722,
                    -4.4,
                    -5.800000000000001,
                    -7.2,
                    -8.6,
                    -10,
                    -11.4,
                    -12.799999999999999,
                    -14.2,
                    -18.085714285714285,
                    -21.97142857142857,
                    -25.857142857142854,
                    -29.74285714285714,
                    -33.628571428571426,
                    -37.51428571428571,
                    -41.4,
                    -42.48571428571429,
                    -43.57142857142857,
                    -44.65714285714286,
                    -45.74285714285714,
                    -46.82857142857143,
                    -47.91428571428571,
                    -49,
                    -49.44285714285714,
                    -49.885714285714286,
                    -50.32857142857143,
                    -50.77142857142857,
                    -51.214285714285715,
                    -51.65714285714286,
                    -52.1,
                    -53.24285714285715,
                    -54.385714285714286,
                    -55.52857142857143,
                    -56.67142857142857,
                    -57.81428571428572,
                    -58.957142857142856,
                    -60.1,
                    -59.58571428571429,
                    -59.07142857142857,
                    -58.55714285714286,
                    -58.042857142857144,
                    -57.52857142857143,
                    -57.01428571428571,
                    -56.5,
                    -55.58571428571429,
                    -54.67142857142857,
                    -53.75714285714286,
                    -52.84285714285714,
                    -51.92857142857143,
                    -51.01428571428572,
                    -50.1,
                    -50.57142857142857,
                    -51.042857142857144,
                    -51.51428571428571,
                    -51.98571428571429,
                    -52.457142857142856,
                    -52.92857142857143,
                    -53.4,
                    -52.75714285714285,
                    -52.114285714285714,
                    -51.47142857142857,
                    -50.82857142857143,
                    -50.18571428571428,
                    -49.542857142857144,
                    -48.9,
                    -48.77142857142857,
                    -48.64285714285714,
                    -48.51428571428571,
                    -48.385714285714286,
                    -48.25714285714286,
                    -48.128571428571426,
                    -48,
                    -48.65714285714286,
                    -49.31428571428572,
                    -49.971428571428575,
                    -50.628571428571426,
                    -51.285714285714285,
                    -51.94285714285714,
                    -52.6,
                    -51.15714285714286,
                    -49.714285714285715,
                    -48.27142857142857,
                    -46.82857142857143,
                    -45.385714285714286,
                    -43.94285714285714,
                    -42.5,
                    -42.614285714285714,
                    -42.72857142857143,
                    -42.84285714285714,
                    -42.957142857142856,
                    -43.07142857142857,
                    -43.18571428571428,
                    -43.3,
                    -42.74285714285714
                  ]
                }
              ],
              "layout": {
                "autosize": false,
                "font": {
                  "color": "RebeccaPurple",
                  "family": "Courier New, monospace",
                  "size": 14
                },
                "template": {
                  "data": {
                    "bar": [
                      {
                        "error_x": {
                          "color": "#2a3f5f"
                        },
                        "error_y": {
                          "color": "#2a3f5f"
                        },
                        "marker": {
                          "line": {
                            "color": "#E5ECF6",
                            "width": 0.5
                          },
                          "pattern": {
                            "fillmode": "overlay",
                            "size": 10,
                            "solidity": 0.2
                          }
                        },
                        "type": "bar"
                      }
                    ],
                    "barpolar": [
                      {
                        "marker": {
                          "line": {
                            "color": "#E5ECF6",
                            "width": 0.5
                          },
                          "pattern": {
                            "fillmode": "overlay",
                            "size": 10,
                            "solidity": 0.2
                          }
                        },
                        "type": "barpolar"
                      }
                    ],
                    "carpet": [
                      {
                        "aaxis": {
                          "endlinecolor": "#2a3f5f",
                          "gridcolor": "white",
                          "linecolor": "white",
                          "minorgridcolor": "white",
                          "startlinecolor": "#2a3f5f"
                        },
                        "baxis": {
                          "endlinecolor": "#2a3f5f",
                          "gridcolor": "white",
                          "linecolor": "white",
                          "minorgridcolor": "white",
                          "startlinecolor": "#2a3f5f"
                        },
                        "type": "carpet"
                      }
                    ],
                    "choropleth": [
                      {
                        "colorbar": {
                          "outlinewidth": 0,
                          "ticks": ""
                        },
                        "type": "choropleth"
                      }
                    ],
                    "contour": [
                      {
                        "colorbar": {
                          "outlinewidth": 0,
                          "ticks": ""
                        },
                        "colorscale": [
                          [
                            0,
                            "#0d0887"
                          ],
                          [
                            0.1111111111111111,
                            "#46039f"
                          ],
                          [
                            0.2222222222222222,
                            "#7201a8"
                          ],
                          [
                            0.3333333333333333,
                            "#9c179e"
                          ],
                          [
                            0.4444444444444444,
                            "#bd3786"
                          ],
                          [
                            0.5555555555555556,
                            "#d8576b"
                          ],
                          [
                            0.6666666666666666,
                            "#ed7953"
                          ],
                          [
                            0.7777777777777778,
                            "#fb9f3a"
                          ],
                          [
                            0.8888888888888888,
                            "#fdca26"
                          ],
                          [
                            1,
                            "#f0f921"
                          ]
                        ],
                        "type": "contour"
                      }
                    ],
                    "contourcarpet": [
                      {
                        "colorbar": {
                          "outlinewidth": 0,
                          "ticks": ""
                        },
                        "type": "contourcarpet"
                      }
                    ],
                    "heatmap": [
                      {
                        "colorbar": {
                          "outlinewidth": 0,
                          "ticks": ""
                        },
                        "colorscale": [
                          [
                            0,
                            "#0d0887"
                          ],
                          [
                            0.1111111111111111,
                            "#46039f"
                          ],
                          [
                            0.2222222222222222,
                            "#7201a8"
                          ],
                          [
                            0.3333333333333333,
                            "#9c179e"
                          ],
                          [
                            0.4444444444444444,
                            "#bd3786"
                          ],
                          [
                            0.5555555555555556,
                            "#d8576b"
                          ],
                          [
                            0.6666666666666666,
                            "#ed7953"
                          ],
                          [
                            0.7777777777777778,
                            "#fb9f3a"
                          ],
                          [
                            0.8888888888888888,
                            "#fdca26"
                          ],
                          [
                            1,
                            "#f0f921"
                          ]
                        ],
                        "type": "heatmap"
                      }
                    ],
                    "heatmapgl": [
                      {
                        "colorbar": {
                          "outlinewidth": 0,
                          "ticks": ""
                        },
                        "colorscale": [
                          [
                            0,
                            "#0d0887"
                          ],
                          [
                            0.1111111111111111,
                            "#46039f"
                          ],
                          [
                            0.2222222222222222,
                            "#7201a8"
                          ],
                          [
                            0.3333333333333333,
                            "#9c179e"
                          ],
                          [
                            0.4444444444444444,
                            "#bd3786"
                          ],
                          [
                            0.5555555555555556,
                            "#d8576b"
                          ],
                          [
                            0.6666666666666666,
                            "#ed7953"
                          ],
                          [
                            0.7777777777777778,
                            "#fb9f3a"
                          ],
                          [
                            0.8888888888888888,
                            "#fdca26"
                          ],
                          [
                            1,
                            "#f0f921"
                          ]
                        ],
                        "type": "heatmapgl"
                      }
                    ],
                    "histogram": [
                      {
                        "marker": {
                          "pattern": {
                            "fillmode": "overlay",
                            "size": 10,
                            "solidity": 0.2
                          }
                        },
                        "type": "histogram"
                      }
                    ],
                    "histogram2d": [
                      {
                        "colorbar": {
                          "outlinewidth": 0,
                          "ticks": ""
                        },
                        "colorscale": [
                          [
                            0,
                            "#0d0887"
                          ],
                          [
                            0.1111111111111111,
                            "#46039f"
                          ],
                          [
                            0.2222222222222222,
                            "#7201a8"
                          ],
                          [
                            0.3333333333333333,
                            "#9c179e"
                          ],
                          [
                            0.4444444444444444,
                            "#bd3786"
                          ],
                          [
                            0.5555555555555556,
                            "#d8576b"
                          ],
                          [
                            0.6666666666666666,
                            "#ed7953"
                          ],
                          [
                            0.7777777777777778,
                            "#fb9f3a"
                          ],
                          [
                            0.8888888888888888,
                            "#fdca26"
                          ],
                          [
                            1,
                            "#f0f921"
                          ]
                        ],
                        "type": "histogram2d"
                      }
                    ],
                    "histogram2dcontour": [
                      {
                        "colorbar": {
                          "outlinewidth": 0,
                          "ticks": ""
                        },
                        "colorscale": [
                          [
                            0,
                            "#0d0887"
                          ],
                          [
                            0.1111111111111111,
                            "#46039f"
                          ],
                          [
                            0.2222222222222222,
                            "#7201a8"
                          ],
                          [
                            0.3333333333333333,
                            "#9c179e"
                          ],
                          [
                            0.4444444444444444,
                            "#bd3786"
                          ],
                          [
                            0.5555555555555556,
                            "#d8576b"
                          ],
                          [
                            0.6666666666666666,
                            "#ed7953"
                          ],
                          [
                            0.7777777777777778,
                            "#fb9f3a"
                          ],
                          [
                            0.8888888888888888,
                            "#fdca26"
                          ],
                          [
                            1,
                            "#f0f921"
                          ]
                        ],
                        "type": "histogram2dcontour"
                      }
                    ],
                    "mesh3d": [
                      {
                        "colorbar": {
                          "outlinewidth": 0,
                          "ticks": ""
                        },
                        "type": "mesh3d"
                      }
                    ],
                    "parcoords": [
                      {
                        "line": {
                          "colorbar": {
                            "outlinewidth": 0,
                            "ticks": ""
                          }
                        },
                        "type": "parcoords"
                      }
                    ],
                    "pie": [
                      {
                        "automargin": true,
                        "type": "pie"
                      }
                    ],
                    "scatter": [
                      {
                        "marker": {
                          "colorbar": {
                            "outlinewidth": 0,
                            "ticks": ""
                          }
                        },
                        "type": "scatter"
                      }
                    ],
                    "scatter3d": [
                      {
                        "line": {
                          "colorbar": {
                            "outlinewidth": 0,
                            "ticks": ""
                          }
                        },
                        "marker": {
                          "colorbar": {
                            "outlinewidth": 0,
                            "ticks": ""
                          }
                        },
                        "type": "scatter3d"
                      }
                    ],
                    "scattercarpet": [
                      {
                        "marker": {
                          "colorbar": {
                            "outlinewidth": 0,
                            "ticks": ""
                          }
                        },
                        "type": "scattercarpet"
                      }
                    ],
                    "scattergeo": [
                      {
                        "marker": {
                          "colorbar": {
                            "outlinewidth": 0,
                            "ticks": ""
                          }
                        },
                        "type": "scattergeo"
                      }
                    ],
                    "scattergl": [
                      {
                        "marker": {
                          "colorbar": {
                            "outlinewidth": 0,
                            "ticks": ""
                          }
                        },
                        "type": "scattergl"
                      }
                    ],
                    "scattermapbox": [
                      {
                        "marker": {
                          "colorbar": {
                            "outlinewidth": 0,
                            "ticks": ""
                          }
                        },
                        "type": "scattermapbox"
                      }
                    ],
                    "scatterpolar": [
                      {
                        "marker": {
                          "colorbar": {
                            "outlinewidth": 0,
                            "ticks": ""
                          }
                        },
                        "type": "scatterpolar"
                      }
                    ],
                    "scatterpolargl": [
                      {
                        "marker": {
                          "colorbar": {
                            "outlinewidth": 0,
                            "ticks": ""
                          }
                        },
                        "type": "scatterpolargl"
                      }
                    ],
                    "scatterternary": [
                      {
                        "marker": {
                          "colorbar": {
                            "outlinewidth": 0,
                            "ticks": ""
                          }
                        },
                        "type": "scatterternary"
                      }
                    ],
                    "surface": [
                      {
                        "colorbar": {
                          "outlinewidth": 0,
                          "ticks": ""
                        },
                        "colorscale": [
                          [
                            0,
                            "#0d0887"
                          ],
                          [
                            0.1111111111111111,
                            "#46039f"
                          ],
                          [
                            0.2222222222222222,
                            "#7201a8"
                          ],
                          [
                            0.3333333333333333,
                            "#9c179e"
                          ],
                          [
                            0.4444444444444444,
                            "#bd3786"
                          ],
                          [
                            0.5555555555555556,
                            "#d8576b"
                          ],
                          [
                            0.6666666666666666,
                            "#ed7953"
                          ],
                          [
                            0.7777777777777778,
                            "#fb9f3a"
                          ],
                          [
                            0.8888888888888888,
                            "#fdca26"
                          ],
                          [
                            1,
                            "#f0f921"
                          ]
                        ],
                        "type": "surface"
                      }
                    ],
                    "table": [
                      {
                        "cells": {
                          "fill": {
                            "color": "#EBF0F8"
                          },
                          "line": {
                            "color": "white"
                          }
                        },
                        "header": {
                          "fill": {
                            "color": "#C8D4E3"
                          },
                          "line": {
                            "color": "white"
                          }
                        },
                        "type": "table"
                      }
                    ]
                  },
                  "layout": {
                    "annotationdefaults": {
                      "arrowcolor": "#2a3f5f",
                      "arrowhead": 0,
                      "arrowwidth": 1
                    },
                    "autotypenumbers": "strict",
                    "coloraxis": {
                      "colorbar": {
                        "outlinewidth": 0,
                        "ticks": ""
                      }
                    },
                    "colorscale": {
                      "diverging": [
                        [
                          0,
                          "#8e0152"
                        ],
                        [
                          0.1,
                          "#c51b7d"
                        ],
                        [
                          0.2,
                          "#de77ae"
                        ],
                        [
                          0.3,
                          "#f1b6da"
                        ],
                        [
                          0.4,
                          "#fde0ef"
                        ],
                        [
                          0.5,
                          "#f7f7f7"
                        ],
                        [
                          0.6,
                          "#e6f5d0"
                        ],
                        [
                          0.7,
                          "#b8e186"
                        ],
                        [
                          0.8,
                          "#7fbc41"
                        ],
                        [
                          0.9,
                          "#4d9221"
                        ],
                        [
                          1,
                          "#276419"
                        ]
                      ],
                      "sequential": [
                        [
                          0,
                          "#0d0887"
                        ],
                        [
                          0.1111111111111111,
                          "#46039f"
                        ],
                        [
                          0.2222222222222222,
                          "#7201a8"
                        ],
                        [
                          0.3333333333333333,
                          "#9c179e"
                        ],
                        [
                          0.4444444444444444,
                          "#bd3786"
                        ],
                        [
                          0.5555555555555556,
                          "#d8576b"
                        ],
                        [
                          0.6666666666666666,
                          "#ed7953"
                        ],
                        [
                          0.7777777777777778,
                          "#fb9f3a"
                        ],
                        [
                          0.8888888888888888,
                          "#fdca26"
                        ],
                        [
                          1,
                          "#f0f921"
                        ]
                      ],
                      "sequentialminus": [
                        [
                          0,
                          "#0d0887"
                        ],
                        [
                          0.1111111111111111,
                          "#46039f"
                        ],
                        [
                          0.2222222222222222,
                          "#7201a8"
                        ],
                        [
                          0.3333333333333333,
                          "#9c179e"
                        ],
                        [
                          0.4444444444444444,
                          "#bd3786"
                        ],
                        [
                          0.5555555555555556,
                          "#d8576b"
                        ],
                        [
                          0.6666666666666666,
                          "#ed7953"
                        ],
                        [
                          0.7777777777777778,
                          "#fb9f3a"
                        ],
                        [
                          0.8888888888888888,
                          "#fdca26"
                        ],
                        [
                          1,
                          "#f0f921"
                        ]
                      ]
                    },
                    "colorway": [
                      "#636efa",
                      "#EF553B",
                      "#00cc96",
                      "#ab63fa",
                      "#FFA15A",
                      "#19d3f3",
                      "#FF6692",
                      "#B6E880",
                      "#FF97FF",
                      "#FECB52"
                    ],
                    "font": {
                      "color": "#2a3f5f"
                    },
                    "geo": {
                      "bgcolor": "white",
                      "lakecolor": "white",
                      "landcolor": "#E5ECF6",
                      "showlakes": true,
                      "showland": true,
                      "subunitcolor": "white"
                    },
                    "hoverlabel": {
                      "align": "left"
                    },
                    "hovermode": "closest",
                    "mapbox": {
                      "style": "light"
                    },
                    "paper_bgcolor": "white",
                    "plot_bgcolor": "#E5ECF6",
                    "polar": {
                      "angularaxis": {
                        "gridcolor": "white",
                        "linecolor": "white",
                        "ticks": ""
                      },
                      "bgcolor": "#E5ECF6",
                      "radialaxis": {
                        "gridcolor": "white",
                        "linecolor": "white",
                        "ticks": ""
                      }
                    },
                    "scene": {
                      "xaxis": {
                        "backgroundcolor": "#E5ECF6",
                        "gridcolor": "white",
                        "gridwidth": 2,
                        "linecolor": "white",
                        "showbackground": true,
                        "ticks": "",
                        "zerolinecolor": "white"
                      },
                      "yaxis": {
                        "backgroundcolor": "#E5ECF6",
                        "gridcolor": "white",
                        "gridwidth": 2,
                        "linecolor": "white",
                        "showbackground": true,
                        "ticks": "",
                        "zerolinecolor": "white"
                      },
                      "zaxis": {
                        "backgroundcolor": "#E5ECF6",
                        "gridcolor": "white",
                        "gridwidth": 2,
                        "linecolor": "white",
                        "showbackground": true,
                        "ticks": "",
                        "zerolinecolor": "white"
                      }
                    },
                    "shapedefaults": {
                      "line": {
                        "color": "#2a3f5f"
                      }
                    },
                    "ternary": {
                      "aaxis": {
                        "gridcolor": "white",
                        "linecolor": "white",
                        "ticks": ""
                      },
                      "baxis": {
                        "gridcolor": "white",
                        "linecolor": "white",
                        "ticks": ""
                      },
                      "bgcolor": "#E5ECF6",
                      "caxis": {
                        "gridcolor": "white",
                        "linecolor": "white",
                        "ticks": ""
                      }
                    },
                    "title": {
                      "x": 0.05
                    },
                    "xaxis": {
                      "automargin": true,
                      "gridcolor": "white",
                      "linecolor": "white",
                      "ticks": "",
                      "title": {
                        "standoff": 15
                      },
                      "zerolinecolor": "white",
                      "zerolinewidth": 2
                    },
                    "yaxis": {
                      "automargin": true,
                      "gridcolor": "white",
                      "linecolor": "white",
                      "ticks": "",
                      "title": {
                        "standoff": 15
                      },
                      "zerolinecolor": "white",
                      "zerolinewidth": 2
                    }
                  }
                },
                "title": {
                  "text": "Mobility functions"
                },
                "width": 1000,
                "xaxis": {
                  "title": {
                    "text": "Weeks"
                  }
                },
                "yaxis": {
                  "title": {
                    "text": "Weekly change in mobility %"
                  }
                }
              }
            }
          },
          "metadata": {},
          "output_type": "display_data"
        }
      ],
      "source": [
        "temp_VT = VT_mobility_data['Totalt']\n",
        "\n",
        "T = []\n",
        "for week in range(len(temp_VT)-1):\n",
        "    T.extend(np.linspace(temp_VT[week],temp_VT[week+1],8)[:7])\n",
        "    \n",
        "VT_mobilityfunc = interp1d(t,T[:prediction_time],kind='linear',fill_value=\"extrapolate\")\n",
        "\n",
        "functionfig = go.Figure()\n",
        "\n",
        "functionfig.add_trace(go.Scatter(x=t, y=VT_mobilityfunc(t),\n",
        "                    mode='lines',\n",
        "                    name='Mobility function'))\n",
        "functionfig.update_layout(\n",
        "                title='Mobility functions',\n",
        "                xaxis_title='Weeks',\n",
        "                yaxis_title='Weekly change in mobility %',\n",
        "                autosize=False,\n",
        "                width=1000,\n",
        "                \n",
        "                font=dict(\n",
        "                family=\"Courier New, monospace\",\n",
        "                size=14,\n",
        "                color=\"RebeccaPurple\"\n",
        "    )\n",
        ") \n",
        "functionfig.show()"
      ]
    },
    {
      "cell_type": "markdown",
      "metadata": {
        "id": "SuIarxTfu7iZ"
      },
      "source": [
        "This cell defines the model function and contains most of its dependensies. The SIR model is defined as presendted my Wiess (STORT FEL Gamma är 0.2 vilket är för dagar inte "
      ]
    },
    {
      "cell_type": "code",
      "execution_count": 109,
      "metadata": {
        "id": "S_ZaIieuKfP1"
      },
      "outputs": [
        {
          "name": "stdout",
          "output_type": "stream",
          "text": [
            "[0.4198   0.003781]\n",
            "[[3.29666948e-06 5.99101111e-08]\n",
            " [5.99101111e-08 1.81675581e-08]]\n",
            "120.332638366\n"
          ]
        },
        {
          "data": {
            "application/vnd.plotly.v1+json": {
              "config": {
                "plotlyServerURL": "https://plot.ly"
              },
              "data": [
                {
                  "mode": "markers",
                  "name": "Admission data",
                  "type": "scatter",
                  "x": [
                    "2020-03-01T00:00:00",
                    "2020-03-02T00:00:00",
                    "2020-03-03T00:00:00",
                    "2020-03-04T00:00:00",
                    "2020-03-05T00:00:00",
                    "2020-03-06T00:00:00",
                    "2020-03-07T00:00:00",
                    "2020-03-08T00:00:00",
                    "2020-03-09T00:00:00",
                    "2020-03-10T00:00:00",
                    "2020-03-11T00:00:00",
                    "2020-03-12T00:00:00",
                    "2020-03-13T00:00:00",
                    "2020-03-14T00:00:00",
                    "2020-03-15T00:00:00",
                    "2020-03-16T00:00:00",
                    "2020-03-17T00:00:00",
                    "2020-03-18T00:00:00",
                    "2020-03-19T00:00:00",
                    "2020-03-20T00:00:00",
                    "2020-03-21T00:00:00",
                    "2020-03-22T00:00:00",
                    "2020-03-23T00:00:00",
                    "2020-03-24T00:00:00",
                    "2020-03-25T00:00:00",
                    "2020-03-26T00:00:00",
                    "2020-03-27T00:00:00",
                    "2020-03-28T00:00:00",
                    "2020-03-29T00:00:00",
                    "2020-03-30T00:00:00",
                    "2020-03-31T00:00:00",
                    "2020-04-01T00:00:00",
                    "2020-04-02T00:00:00",
                    "2020-04-03T00:00:00",
                    "2020-04-04T00:00:00",
                    "2020-04-05T00:00:00",
                    "2020-04-06T00:00:00",
                    "2020-04-07T00:00:00",
                    "2020-04-08T00:00:00",
                    "2020-04-09T00:00:00",
                    "2020-04-10T00:00:00",
                    "2020-04-11T00:00:00",
                    "2020-04-12T00:00:00",
                    "2020-04-13T00:00:00",
                    "2020-04-14T00:00:00",
                    "2020-04-15T00:00:00",
                    "2020-04-16T00:00:00",
                    "2020-04-17T00:00:00",
                    "2020-04-18T00:00:00",
                    "2020-04-19T00:00:00",
                    "2020-04-20T00:00:00",
                    "2020-04-21T00:00:00",
                    "2020-04-22T00:00:00",
                    "2020-04-23T00:00:00",
                    "2020-04-24T00:00:00",
                    "2020-04-25T00:00:00",
                    "2020-04-26T00:00:00",
                    "2020-04-27T00:00:00",
                    "2020-04-28T00:00:00",
                    "2020-04-29T00:00:00",
                    "2020-04-30T00:00:00",
                    "2020-05-01T00:00:00",
                    "2020-05-02T00:00:00",
                    "2020-05-03T00:00:00",
                    "2020-05-04T00:00:00",
                    "2020-05-05T00:00:00",
                    "2020-05-06T00:00:00",
                    "2020-05-07T00:00:00",
                    "2020-05-08T00:00:00",
                    "2020-05-09T00:00:00",
                    "2020-05-10T00:00:00",
                    "2020-05-11T00:00:00",
                    "2020-05-12T00:00:00",
                    "2020-05-13T00:00:00",
                    "2020-05-14T00:00:00",
                    "2020-05-15T00:00:00",
                    "2020-05-16T00:00:00",
                    "2020-05-17T00:00:00",
                    "2020-05-18T00:00:00",
                    "2020-05-19T00:00:00",
                    "2020-05-20T00:00:00",
                    "2020-05-21T00:00:00",
                    "2020-05-22T00:00:00",
                    "2020-05-23T00:00:00",
                    "2020-05-24T00:00:00",
                    "2020-05-25T00:00:00",
                    "2020-05-26T00:00:00",
                    "2020-05-27T00:00:00",
                    "2020-05-28T00:00:00",
                    "2020-05-29T00:00:00",
                    "2020-05-30T00:00:00",
                    "2020-05-31T00:00:00",
                    "2020-06-01T00:00:00",
                    "2020-06-02T00:00:00",
                    "2020-06-03T00:00:00",
                    "2020-06-04T00:00:00",
                    "2020-06-05T00:00:00",
                    "2020-06-06T00:00:00",
                    "2020-06-07T00:00:00",
                    "2020-06-08T00:00:00",
                    "2020-06-09T00:00:00",
                    "2020-06-10T00:00:00",
                    "2020-06-11T00:00:00",
                    "2020-06-12T00:00:00",
                    "2020-06-13T00:00:00",
                    "2020-06-14T00:00:00",
                    "2020-06-15T00:00:00",
                    "2020-06-16T00:00:00",
                    "2020-06-17T00:00:00",
                    "2020-06-18T00:00:00",
                    "2020-06-19T00:00:00",
                    "2020-06-20T00:00:00",
                    "2020-06-21T00:00:00",
                    "2020-06-22T00:00:00",
                    "2020-06-23T00:00:00",
                    "2020-06-24T00:00:00",
                    "2020-06-25T00:00:00",
                    "2020-06-26T00:00:00",
                    "2020-06-27T00:00:00",
                    "2020-06-28T00:00:00",
                    "2020-06-29T00:00:00",
                    "2020-06-30T00:00:00",
                    "2020-07-01T00:00:00",
                    "2020-07-02T00:00:00",
                    "2020-07-03T00:00:00",
                    "2020-07-04T00:00:00",
                    "2020-07-05T00:00:00",
                    "2020-07-06T00:00:00",
                    "2020-07-07T00:00:00",
                    "2020-07-08T00:00:00",
                    "2020-07-09T00:00:00",
                    "2020-07-10T00:00:00",
                    "2020-07-11T00:00:00",
                    "2020-07-12T00:00:00",
                    "2020-07-13T00:00:00",
                    "2020-07-14T00:00:00",
                    "2020-07-15T00:00:00",
                    "2020-07-16T00:00:00",
                    "2020-07-17T00:00:00",
                    "2020-07-18T00:00:00",
                    "2020-07-19T00:00:00",
                    "2020-07-20T00:00:00",
                    "2020-07-21T00:00:00",
                    "2020-07-22T00:00:00",
                    "2020-07-23T00:00:00",
                    "2020-07-24T00:00:00",
                    "2020-07-25T00:00:00",
                    "2020-07-26T00:00:00",
                    "2020-07-27T00:00:00",
                    "2020-07-28T00:00:00",
                    "2020-07-29T00:00:00",
                    "2020-07-30T00:00:00",
                    "2020-07-31T00:00:00",
                    "2020-08-01T00:00:00",
                    "2020-08-02T00:00:00",
                    "2020-08-03T00:00:00",
                    "2020-08-04T00:00:00",
                    "2020-08-05T00:00:00",
                    "2020-08-06T00:00:00",
                    "2020-08-07T00:00:00",
                    "2020-08-08T00:00:00",
                    "2020-08-09T00:00:00",
                    "2020-08-10T00:00:00",
                    "2020-08-11T00:00:00",
                    "2020-08-12T00:00:00",
                    "2020-08-13T00:00:00",
                    "2020-08-14T00:00:00",
                    "2020-08-15T00:00:00",
                    "2020-08-16T00:00:00",
                    "2020-08-17T00:00:00",
                    "2020-08-18T00:00:00",
                    "2020-08-19T00:00:00",
                    "2020-08-20T00:00:00"
                  ],
                  "y": [
                    0,
                    0,
                    0,
                    0,
                    0,
                    0,
                    0,
                    0,
                    0,
                    0,
                    0,
                    0,
                    0,
                    0,
                    0,
                    0,
                    0,
                    0,
                    0,
                    0,
                    0,
                    1,
                    0,
                    0,
                    0,
                    3,
                    1,
                    1,
                    1,
                    1,
                    1,
                    3,
                    4,
                    1,
                    1,
                    6,
                    4,
                    5,
                    10,
                    4,
                    2,
                    1,
                    5,
                    9,
                    8,
                    6,
                    9,
                    7,
                    7,
                    10,
                    9,
                    15,
                    9,
                    7,
                    10,
                    15,
                    14,
                    21,
                    17,
                    25,
                    15,
                    16,
                    15,
                    10,
                    15,
                    16,
                    20,
                    23,
                    14,
                    16,
                    34,
                    18,
                    18,
                    26,
                    22,
                    25,
                    18,
                    22,
                    24,
                    18,
                    21,
                    20,
                    18,
                    12,
                    18,
                    26,
                    19,
                    19,
                    14,
                    16,
                    7,
                    11,
                    8,
                    16,
                    12,
                    14,
                    8,
                    5,
                    13,
                    14,
                    13,
                    14,
                    16,
                    8,
                    8,
                    14,
                    13,
                    17,
                    14,
                    16,
                    18,
                    6,
                    16,
                    17,
                    8,
                    11,
                    10,
                    7,
                    9,
                    13,
                    13,
                    9,
                    13,
                    17,
                    7,
                    9,
                    11,
                    14,
                    14,
                    11,
                    8,
                    13,
                    11,
                    2,
                    9,
                    12,
                    8,
                    8,
                    3,
                    9,
                    7,
                    14,
                    7,
                    8,
                    7,
                    4,
                    4,
                    8,
                    4,
                    5,
                    5,
                    6,
                    0,
                    5,
                    5,
                    5,
                    4,
                    4,
                    3,
                    1,
                    2,
                    3,
                    3,
                    3,
                    5,
                    2,
                    2,
                    1,
                    1,
                    5,
                    3,
                    1,
                    1
                  ]
                },
                {
                  "mode": "lines",
                  "name": "Predicted admissions",
                  "type": "scatter",
                  "x": [
                    "2020-03-01T00:00:00",
                    "2020-03-02T00:00:00",
                    "2020-03-03T00:00:00",
                    "2020-03-04T00:00:00",
                    "2020-03-05T00:00:00",
                    "2020-03-06T00:00:00",
                    "2020-03-07T00:00:00",
                    "2020-03-08T00:00:00",
                    "2020-03-09T00:00:00",
                    "2020-03-10T00:00:00",
                    "2020-03-11T00:00:00",
                    "2020-03-12T00:00:00",
                    "2020-03-13T00:00:00",
                    "2020-03-14T00:00:00",
                    "2020-03-15T00:00:00",
                    "2020-03-16T00:00:00",
                    "2020-03-17T00:00:00",
                    "2020-03-18T00:00:00",
                    "2020-03-19T00:00:00",
                    "2020-03-20T00:00:00",
                    "2020-03-21T00:00:00",
                    "2020-03-22T00:00:00",
                    "2020-03-23T00:00:00",
                    "2020-03-24T00:00:00",
                    "2020-03-25T00:00:00",
                    "2020-03-26T00:00:00",
                    "2020-03-27T00:00:00",
                    "2020-03-28T00:00:00",
                    "2020-03-29T00:00:00",
                    "2020-03-30T00:00:00",
                    "2020-03-31T00:00:00",
                    "2020-04-01T00:00:00",
                    "2020-04-02T00:00:00",
                    "2020-04-03T00:00:00",
                    "2020-04-04T00:00:00",
                    "2020-04-05T00:00:00",
                    "2020-04-06T00:00:00",
                    "2020-04-07T00:00:00",
                    "2020-04-08T00:00:00",
                    "2020-04-09T00:00:00",
                    "2020-04-10T00:00:00",
                    "2020-04-11T00:00:00",
                    "2020-04-12T00:00:00",
                    "2020-04-13T00:00:00",
                    "2020-04-14T00:00:00",
                    "2020-04-15T00:00:00",
                    "2020-04-16T00:00:00",
                    "2020-04-17T00:00:00",
                    "2020-04-18T00:00:00",
                    "2020-04-19T00:00:00",
                    "2020-04-20T00:00:00",
                    "2020-04-21T00:00:00",
                    "2020-04-22T00:00:00",
                    "2020-04-23T00:00:00",
                    "2020-04-24T00:00:00",
                    "2020-04-25T00:00:00",
                    "2020-04-26T00:00:00",
                    "2020-04-27T00:00:00",
                    "2020-04-28T00:00:00",
                    "2020-04-29T00:00:00",
                    "2020-04-30T00:00:00",
                    "2020-05-01T00:00:00",
                    "2020-05-02T00:00:00",
                    "2020-05-03T00:00:00",
                    "2020-05-04T00:00:00",
                    "2020-05-05T00:00:00",
                    "2020-05-06T00:00:00",
                    "2020-05-07T00:00:00",
                    "2020-05-08T00:00:00",
                    "2020-05-09T00:00:00",
                    "2020-05-10T00:00:00",
                    "2020-05-11T00:00:00",
                    "2020-05-12T00:00:00",
                    "2020-05-13T00:00:00",
                    "2020-05-14T00:00:00",
                    "2020-05-15T00:00:00",
                    "2020-05-16T00:00:00",
                    "2020-05-17T00:00:00",
                    "2020-05-18T00:00:00",
                    "2020-05-19T00:00:00",
                    "2020-05-20T00:00:00",
                    "2020-05-21T00:00:00",
                    "2020-05-22T00:00:00",
                    "2020-05-23T00:00:00",
                    "2020-05-24T00:00:00",
                    "2020-05-25T00:00:00",
                    "2020-05-26T00:00:00",
                    "2020-05-27T00:00:00",
                    "2020-05-28T00:00:00",
                    "2020-05-29T00:00:00",
                    "2020-05-30T00:00:00",
                    "2020-05-31T00:00:00",
                    "2020-06-01T00:00:00",
                    "2020-06-02T00:00:00",
                    "2020-06-03T00:00:00",
                    "2020-06-04T00:00:00",
                    "2020-06-05T00:00:00",
                    "2020-06-06T00:00:00",
                    "2020-06-07T00:00:00",
                    "2020-06-08T00:00:00",
                    "2020-06-09T00:00:00",
                    "2020-06-10T00:00:00",
                    "2020-06-11T00:00:00",
                    "2020-06-12T00:00:00",
                    "2020-06-13T00:00:00",
                    "2020-06-14T00:00:00",
                    "2020-06-15T00:00:00",
                    "2020-06-16T00:00:00",
                    "2020-06-17T00:00:00",
                    "2020-06-18T00:00:00",
                    "2020-06-19T00:00:00",
                    "2020-06-20T00:00:00",
                    "2020-06-21T00:00:00",
                    "2020-06-22T00:00:00",
                    "2020-06-23T00:00:00",
                    "2020-06-24T00:00:00",
                    "2020-06-25T00:00:00",
                    "2020-06-26T00:00:00",
                    "2020-06-27T00:00:00",
                    "2020-06-28T00:00:00",
                    "2020-06-29T00:00:00",
                    "2020-06-30T00:00:00",
                    "2020-07-01T00:00:00",
                    "2020-07-02T00:00:00",
                    "2020-07-03T00:00:00",
                    "2020-07-04T00:00:00",
                    "2020-07-05T00:00:00",
                    "2020-07-06T00:00:00",
                    "2020-07-07T00:00:00",
                    "2020-07-08T00:00:00",
                    "2020-07-09T00:00:00",
                    "2020-07-10T00:00:00",
                    "2020-07-11T00:00:00",
                    "2020-07-12T00:00:00",
                    "2020-07-13T00:00:00",
                    "2020-07-14T00:00:00",
                    "2020-07-15T00:00:00",
                    "2020-07-16T00:00:00",
                    "2020-07-17T00:00:00",
                    "2020-07-18T00:00:00",
                    "2020-07-19T00:00:00",
                    "2020-07-20T00:00:00",
                    "2020-07-21T00:00:00",
                    "2020-07-22T00:00:00",
                    "2020-07-23T00:00:00",
                    "2020-07-24T00:00:00",
                    "2020-07-25T00:00:00",
                    "2020-07-26T00:00:00",
                    "2020-07-27T00:00:00",
                    "2020-07-28T00:00:00",
                    "2020-07-29T00:00:00",
                    "2020-07-30T00:00:00",
                    "2020-07-31T00:00:00",
                    "2020-08-01T00:00:00",
                    "2020-08-02T00:00:00",
                    "2020-08-03T00:00:00",
                    "2020-08-04T00:00:00",
                    "2020-08-05T00:00:00",
                    "2020-08-06T00:00:00",
                    "2020-08-07T00:00:00",
                    "2020-08-08T00:00:00",
                    "2020-08-09T00:00:00",
                    "2020-08-10T00:00:00",
                    "2020-08-11T00:00:00",
                    "2020-08-12T00:00:00",
                    "2020-08-13T00:00:00",
                    "2020-08-14T00:00:00",
                    "2020-08-15T00:00:00",
                    "2020-08-16T00:00:00",
                    "2020-08-17T00:00:00",
                    "2020-08-18T00:00:00",
                    "2020-08-19T00:00:00",
                    "2020-08-20T00:00:00"
                  ],
                  "y": [
                    0.013,
                    0.017004353598042622,
                    0.02218934929069887,
                    0.02888661361983224,
                    0.03751597497473984,
                    0.04860750363581213,
                    0.06282865463974836,
                    0.08101761064694041,
                    0.10422410221808859,
                    0.13375922487970116,
                    0.1712560427724062,
                    0.2187430739555609,
                    0.27873309773667077,
                    0.35433011994824526,
                    0.4493577605912246,
                    0.568512811561486,
                    0.7175482246439209,
                    0.9034903523131579,
                    1.134895827284315,
                    1.4221540874553023,
                    1.7778420639675176,
                    2.217138127439046,
                    2.7583027702265737,
                    3.423233733830566,
                    4.238103272113673,
                    5.2340847787074924,
                    6.448175009463784,
                    7.924116286026827,
                    9.71342011809812,
                    11.859225663374621,
                    14.399848244083643,
                    17.38849508273972,
                    20.881020000794727,
                    24.93493022540027,
                    29.608085487721784,
                    34.95707417236612,
                    40.844692498544205,
                    47.00863277328493,
                    53.29156517717177,
                    59.50875555776503,
                    65.45655337547366,
                    70.92338654251142,
                    75.70240624267522,
                    80.01737395879572,
                    84.19127457264457,
                    88.17752557545158,
                    91.9301530455075,
                    95.40474763400107,
                    98.55938721118129,
                    101.35554101766556,
                    103.87999849224322,
                    106.23324016239876,
                    108.4010452247621,
                    110.37029132617421,
                    112.12909872442391,
                    113.66696443470306,
                    114.97487673065818,
                    115.9009298648278,
                    116.29354482345938,
                    116.15113364794792,
                    115.47970172083039,
                    114.29256922500203,
                    112.60992645732125,
                    110.45824406709357,
                    108.18251846459837,
                    106.1002353388325,
                    104.20161691972994,
                    102.47779097097666,
                    100.92072914121093,
                    99.52318622643212,
                    98.27864597194406,
                    97.24819085894839,
                    96.49055621940118,
                    95.99789001122137,
                    95.76444486829895,
                    95.78647572552121,
                    96.06215142508144,
                    96.59149760988083,
                    97.1481994225325,
                    97.50356556585712,
                    97.65644681557482,
                    97.6070567828509,
                    97.35695195717939,
                    96.90899557170904,
                    96.26730938486602,
                    95.61442055277497,
                    95.12672309828307,
                    94.80063428341155,
                    94.63334149994827,
                    94.62276397470549,
                    94.76752497418364,
                    95.06692057282942,
                    95.4405106662305,
                    95.80768543946307,
                    96.1679916750211,
                    96.52097710456194,
                    96.86618922017794,
                    97.20317665027221,
                    97.53148764802638,
                    97.72707151557573,
                    97.66656861962387,
                    97.35216093211375,
                    96.78808963968034,
                    95.98056613581852,
                    94.9376516572636,
                    93.66911964275997,
                    92.49306076386154,
                    91.70967156294795,
                    91.30671273947947,
                    91.27655294370345,
                    91.6159368045104,
                    92.32583970948859,
                    93.4113872126858,
                    94.65243927350251,
                    95.82104526557887,
                    96.91387621573342,
                    97.92782162616636,
                    98.86000625053794,
                    99.70780724383603,
                    100.46886985450868,
                    101.24471755100235,
                    102.13892773476542,
                    103.15263492923111,
                    104.28722639882918,
                    105.54432370088095,
                    106.9257720321848,
                    108.43362390106928,
                    110.07012642712179,
                    111.83769617738747,
                    113.73890348836412,
                    115.77645181322177,
                    117.95314950063162,
                    120.27188343303969,
                    122.73558749664554,
                    125.34720619615666,
                    128.10965713182037,
                    131.0257855590027,
                    134.09831494280124,
                    137.32979477614933,
                    140.72253750018928,
                    144.27855368563192,
                    147.9994812109847,
                    151.88650294853966,
                    155.9402648512275,
                    160.160784591636,
                    164.5473515268493,
                    169.09842732069296,
                    173.8115355271118,
                    178.6831535696609,
                    183.70859720214486,
                    188.881908051873,
                    194.19573846934958,
                    199.6412419617351,
                    205.20797027669494,
                    210.8837756732894,
                    216.65473092951441,
                    222.50505985818262,
                    228.4170890479582,
                    234.37122593373144,
                    240.34595688059736,
                    246.31788447673034,
                    252.26179316850525,
                    258.15075143143747,
                    263.95625803306405,
                    269.648433131696,
                    275.1962326195169,
                    280.56772664858426,
                    285.7303955217112,
                    290.6514811427827,
                    295.2983491941297,
                    299.6388957650677,
                    303.6419507619913,
                    307.2777107541323
                  ]
                }
              ],
              "layout": {
                "autosize": false,
                "font": {
                  "color": "RebeccaPurple",
                  "family": "Courier New, monospace",
                  "size": 14
                },
                "template": {
                  "data": {
                    "bar": [
                      {
                        "error_x": {
                          "color": "#2a3f5f"
                        },
                        "error_y": {
                          "color": "#2a3f5f"
                        },
                        "marker": {
                          "line": {
                            "color": "#E5ECF6",
                            "width": 0.5
                          },
                          "pattern": {
                            "fillmode": "overlay",
                            "size": 10,
                            "solidity": 0.2
                          }
                        },
                        "type": "bar"
                      }
                    ],
                    "barpolar": [
                      {
                        "marker": {
                          "line": {
                            "color": "#E5ECF6",
                            "width": 0.5
                          },
                          "pattern": {
                            "fillmode": "overlay",
                            "size": 10,
                            "solidity": 0.2
                          }
                        },
                        "type": "barpolar"
                      }
                    ],
                    "carpet": [
                      {
                        "aaxis": {
                          "endlinecolor": "#2a3f5f",
                          "gridcolor": "white",
                          "linecolor": "white",
                          "minorgridcolor": "white",
                          "startlinecolor": "#2a3f5f"
                        },
                        "baxis": {
                          "endlinecolor": "#2a3f5f",
                          "gridcolor": "white",
                          "linecolor": "white",
                          "minorgridcolor": "white",
                          "startlinecolor": "#2a3f5f"
                        },
                        "type": "carpet"
                      }
                    ],
                    "choropleth": [
                      {
                        "colorbar": {
                          "outlinewidth": 0,
                          "ticks": ""
                        },
                        "type": "choropleth"
                      }
                    ],
                    "contour": [
                      {
                        "colorbar": {
                          "outlinewidth": 0,
                          "ticks": ""
                        },
                        "colorscale": [
                          [
                            0,
                            "#0d0887"
                          ],
                          [
                            0.1111111111111111,
                            "#46039f"
                          ],
                          [
                            0.2222222222222222,
                            "#7201a8"
                          ],
                          [
                            0.3333333333333333,
                            "#9c179e"
                          ],
                          [
                            0.4444444444444444,
                            "#bd3786"
                          ],
                          [
                            0.5555555555555556,
                            "#d8576b"
                          ],
                          [
                            0.6666666666666666,
                            "#ed7953"
                          ],
                          [
                            0.7777777777777778,
                            "#fb9f3a"
                          ],
                          [
                            0.8888888888888888,
                            "#fdca26"
                          ],
                          [
                            1,
                            "#f0f921"
                          ]
                        ],
                        "type": "contour"
                      }
                    ],
                    "contourcarpet": [
                      {
                        "colorbar": {
                          "outlinewidth": 0,
                          "ticks": ""
                        },
                        "type": "contourcarpet"
                      }
                    ],
                    "heatmap": [
                      {
                        "colorbar": {
                          "outlinewidth": 0,
                          "ticks": ""
                        },
                        "colorscale": [
                          [
                            0,
                            "#0d0887"
                          ],
                          [
                            0.1111111111111111,
                            "#46039f"
                          ],
                          [
                            0.2222222222222222,
                            "#7201a8"
                          ],
                          [
                            0.3333333333333333,
                            "#9c179e"
                          ],
                          [
                            0.4444444444444444,
                            "#bd3786"
                          ],
                          [
                            0.5555555555555556,
                            "#d8576b"
                          ],
                          [
                            0.6666666666666666,
                            "#ed7953"
                          ],
                          [
                            0.7777777777777778,
                            "#fb9f3a"
                          ],
                          [
                            0.8888888888888888,
                            "#fdca26"
                          ],
                          [
                            1,
                            "#f0f921"
                          ]
                        ],
                        "type": "heatmap"
                      }
                    ],
                    "heatmapgl": [
                      {
                        "colorbar": {
                          "outlinewidth": 0,
                          "ticks": ""
                        },
                        "colorscale": [
                          [
                            0,
                            "#0d0887"
                          ],
                          [
                            0.1111111111111111,
                            "#46039f"
                          ],
                          [
                            0.2222222222222222,
                            "#7201a8"
                          ],
                          [
                            0.3333333333333333,
                            "#9c179e"
                          ],
                          [
                            0.4444444444444444,
                            "#bd3786"
                          ],
                          [
                            0.5555555555555556,
                            "#d8576b"
                          ],
                          [
                            0.6666666666666666,
                            "#ed7953"
                          ],
                          [
                            0.7777777777777778,
                            "#fb9f3a"
                          ],
                          [
                            0.8888888888888888,
                            "#fdca26"
                          ],
                          [
                            1,
                            "#f0f921"
                          ]
                        ],
                        "type": "heatmapgl"
                      }
                    ],
                    "histogram": [
                      {
                        "marker": {
                          "pattern": {
                            "fillmode": "overlay",
                            "size": 10,
                            "solidity": 0.2
                          }
                        },
                        "type": "histogram"
                      }
                    ],
                    "histogram2d": [
                      {
                        "colorbar": {
                          "outlinewidth": 0,
                          "ticks": ""
                        },
                        "colorscale": [
                          [
                            0,
                            "#0d0887"
                          ],
                          [
                            0.1111111111111111,
                            "#46039f"
                          ],
                          [
                            0.2222222222222222,
                            "#7201a8"
                          ],
                          [
                            0.3333333333333333,
                            "#9c179e"
                          ],
                          [
                            0.4444444444444444,
                            "#bd3786"
                          ],
                          [
                            0.5555555555555556,
                            "#d8576b"
                          ],
                          [
                            0.6666666666666666,
                            "#ed7953"
                          ],
                          [
                            0.7777777777777778,
                            "#fb9f3a"
                          ],
                          [
                            0.8888888888888888,
                            "#fdca26"
                          ],
                          [
                            1,
                            "#f0f921"
                          ]
                        ],
                        "type": "histogram2d"
                      }
                    ],
                    "histogram2dcontour": [
                      {
                        "colorbar": {
                          "outlinewidth": 0,
                          "ticks": ""
                        },
                        "colorscale": [
                          [
                            0,
                            "#0d0887"
                          ],
                          [
                            0.1111111111111111,
                            "#46039f"
                          ],
                          [
                            0.2222222222222222,
                            "#7201a8"
                          ],
                          [
                            0.3333333333333333,
                            "#9c179e"
                          ],
                          [
                            0.4444444444444444,
                            "#bd3786"
                          ],
                          [
                            0.5555555555555556,
                            "#d8576b"
                          ],
                          [
                            0.6666666666666666,
                            "#ed7953"
                          ],
                          [
                            0.7777777777777778,
                            "#fb9f3a"
                          ],
                          [
                            0.8888888888888888,
                            "#fdca26"
                          ],
                          [
                            1,
                            "#f0f921"
                          ]
                        ],
                        "type": "histogram2dcontour"
                      }
                    ],
                    "mesh3d": [
                      {
                        "colorbar": {
                          "outlinewidth": 0,
                          "ticks": ""
                        },
                        "type": "mesh3d"
                      }
                    ],
                    "parcoords": [
                      {
                        "line": {
                          "colorbar": {
                            "outlinewidth": 0,
                            "ticks": ""
                          }
                        },
                        "type": "parcoords"
                      }
                    ],
                    "pie": [
                      {
                        "automargin": true,
                        "type": "pie"
                      }
                    ],
                    "scatter": [
                      {
                        "marker": {
                          "colorbar": {
                            "outlinewidth": 0,
                            "ticks": ""
                          }
                        },
                        "type": "scatter"
                      }
                    ],
                    "scatter3d": [
                      {
                        "line": {
                          "colorbar": {
                            "outlinewidth": 0,
                            "ticks": ""
                          }
                        },
                        "marker": {
                          "colorbar": {
                            "outlinewidth": 0,
                            "ticks": ""
                          }
                        },
                        "type": "scatter3d"
                      }
                    ],
                    "scattercarpet": [
                      {
                        "marker": {
                          "colorbar": {
                            "outlinewidth": 0,
                            "ticks": ""
                          }
                        },
                        "type": "scattercarpet"
                      }
                    ],
                    "scattergeo": [
                      {
                        "marker": {
                          "colorbar": {
                            "outlinewidth": 0,
                            "ticks": ""
                          }
                        },
                        "type": "scattergeo"
                      }
                    ],
                    "scattergl": [
                      {
                        "marker": {
                          "colorbar": {
                            "outlinewidth": 0,
                            "ticks": ""
                          }
                        },
                        "type": "scattergl"
                      }
                    ],
                    "scattermapbox": [
                      {
                        "marker": {
                          "colorbar": {
                            "outlinewidth": 0,
                            "ticks": ""
                          }
                        },
                        "type": "scattermapbox"
                      }
                    ],
                    "scatterpolar": [
                      {
                        "marker": {
                          "colorbar": {
                            "outlinewidth": 0,
                            "ticks": ""
                          }
                        },
                        "type": "scatterpolar"
                      }
                    ],
                    "scatterpolargl": [
                      {
                        "marker": {
                          "colorbar": {
                            "outlinewidth": 0,
                            "ticks": ""
                          }
                        },
                        "type": "scatterpolargl"
                      }
                    ],
                    "scatterternary": [
                      {
                        "marker": {
                          "colorbar": {
                            "outlinewidth": 0,
                            "ticks": ""
                          }
                        },
                        "type": "scatterternary"
                      }
                    ],
                    "surface": [
                      {
                        "colorbar": {
                          "outlinewidth": 0,
                          "ticks": ""
                        },
                        "colorscale": [
                          [
                            0,
                            "#0d0887"
                          ],
                          [
                            0.1111111111111111,
                            "#46039f"
                          ],
                          [
                            0.2222222222222222,
                            "#7201a8"
                          ],
                          [
                            0.3333333333333333,
                            "#9c179e"
                          ],
                          [
                            0.4444444444444444,
                            "#bd3786"
                          ],
                          [
                            0.5555555555555556,
                            "#d8576b"
                          ],
                          [
                            0.6666666666666666,
                            "#ed7953"
                          ],
                          [
                            0.7777777777777778,
                            "#fb9f3a"
                          ],
                          [
                            0.8888888888888888,
                            "#fdca26"
                          ],
                          [
                            1,
                            "#f0f921"
                          ]
                        ],
                        "type": "surface"
                      }
                    ],
                    "table": [
                      {
                        "cells": {
                          "fill": {
                            "color": "#EBF0F8"
                          },
                          "line": {
                            "color": "white"
                          }
                        },
                        "header": {
                          "fill": {
                            "color": "#C8D4E3"
                          },
                          "line": {
                            "color": "white"
                          }
                        },
                        "type": "table"
                      }
                    ]
                  },
                  "layout": {
                    "annotationdefaults": {
                      "arrowcolor": "#2a3f5f",
                      "arrowhead": 0,
                      "arrowwidth": 1
                    },
                    "autotypenumbers": "strict",
                    "coloraxis": {
                      "colorbar": {
                        "outlinewidth": 0,
                        "ticks": ""
                      }
                    },
                    "colorscale": {
                      "diverging": [
                        [
                          0,
                          "#8e0152"
                        ],
                        [
                          0.1,
                          "#c51b7d"
                        ],
                        [
                          0.2,
                          "#de77ae"
                        ],
                        [
                          0.3,
                          "#f1b6da"
                        ],
                        [
                          0.4,
                          "#fde0ef"
                        ],
                        [
                          0.5,
                          "#f7f7f7"
                        ],
                        [
                          0.6,
                          "#e6f5d0"
                        ],
                        [
                          0.7,
                          "#b8e186"
                        ],
                        [
                          0.8,
                          "#7fbc41"
                        ],
                        [
                          0.9,
                          "#4d9221"
                        ],
                        [
                          1,
                          "#276419"
                        ]
                      ],
                      "sequential": [
                        [
                          0,
                          "#0d0887"
                        ],
                        [
                          0.1111111111111111,
                          "#46039f"
                        ],
                        [
                          0.2222222222222222,
                          "#7201a8"
                        ],
                        [
                          0.3333333333333333,
                          "#9c179e"
                        ],
                        [
                          0.4444444444444444,
                          "#bd3786"
                        ],
                        [
                          0.5555555555555556,
                          "#d8576b"
                        ],
                        [
                          0.6666666666666666,
                          "#ed7953"
                        ],
                        [
                          0.7777777777777778,
                          "#fb9f3a"
                        ],
                        [
                          0.8888888888888888,
                          "#fdca26"
                        ],
                        [
                          1,
                          "#f0f921"
                        ]
                      ],
                      "sequentialminus": [
                        [
                          0,
                          "#0d0887"
                        ],
                        [
                          0.1111111111111111,
                          "#46039f"
                        ],
                        [
                          0.2222222222222222,
                          "#7201a8"
                        ],
                        [
                          0.3333333333333333,
                          "#9c179e"
                        ],
                        [
                          0.4444444444444444,
                          "#bd3786"
                        ],
                        [
                          0.5555555555555556,
                          "#d8576b"
                        ],
                        [
                          0.6666666666666666,
                          "#ed7953"
                        ],
                        [
                          0.7777777777777778,
                          "#fb9f3a"
                        ],
                        [
                          0.8888888888888888,
                          "#fdca26"
                        ],
                        [
                          1,
                          "#f0f921"
                        ]
                      ]
                    },
                    "colorway": [
                      "#636efa",
                      "#EF553B",
                      "#00cc96",
                      "#ab63fa",
                      "#FFA15A",
                      "#19d3f3",
                      "#FF6692",
                      "#B6E880",
                      "#FF97FF",
                      "#FECB52"
                    ],
                    "font": {
                      "color": "#2a3f5f"
                    },
                    "geo": {
                      "bgcolor": "white",
                      "lakecolor": "white",
                      "landcolor": "#E5ECF6",
                      "showlakes": true,
                      "showland": true,
                      "subunitcolor": "white"
                    },
                    "hoverlabel": {
                      "align": "left"
                    },
                    "hovermode": "closest",
                    "mapbox": {
                      "style": "light"
                    },
                    "paper_bgcolor": "white",
                    "plot_bgcolor": "#E5ECF6",
                    "polar": {
                      "angularaxis": {
                        "gridcolor": "white",
                        "linecolor": "white",
                        "ticks": ""
                      },
                      "bgcolor": "#E5ECF6",
                      "radialaxis": {
                        "gridcolor": "white",
                        "linecolor": "white",
                        "ticks": ""
                      }
                    },
                    "scene": {
                      "xaxis": {
                        "backgroundcolor": "#E5ECF6",
                        "gridcolor": "white",
                        "gridwidth": 2,
                        "linecolor": "white",
                        "showbackground": true,
                        "ticks": "",
                        "zerolinecolor": "white"
                      },
                      "yaxis": {
                        "backgroundcolor": "#E5ECF6",
                        "gridcolor": "white",
                        "gridwidth": 2,
                        "linecolor": "white",
                        "showbackground": true,
                        "ticks": "",
                        "zerolinecolor": "white"
                      },
                      "zaxis": {
                        "backgroundcolor": "#E5ECF6",
                        "gridcolor": "white",
                        "gridwidth": 2,
                        "linecolor": "white",
                        "showbackground": true,
                        "ticks": "",
                        "zerolinecolor": "white"
                      }
                    },
                    "shapedefaults": {
                      "line": {
                        "color": "#2a3f5f"
                      }
                    },
                    "ternary": {
                      "aaxis": {
                        "gridcolor": "white",
                        "linecolor": "white",
                        "ticks": ""
                      },
                      "baxis": {
                        "gridcolor": "white",
                        "linecolor": "white",
                        "ticks": ""
                      },
                      "bgcolor": "#E5ECF6",
                      "caxis": {
                        "gridcolor": "white",
                        "linecolor": "white",
                        "ticks": ""
                      }
                    },
                    "title": {
                      "x": 0.05
                    },
                    "xaxis": {
                      "automargin": true,
                      "gridcolor": "white",
                      "linecolor": "white",
                      "ticks": "",
                      "title": {
                        "standoff": 15
                      },
                      "zerolinecolor": "white",
                      "zerolinewidth": 2
                    },
                    "yaxis": {
                      "automargin": true,
                      "gridcolor": "white",
                      "linecolor": "white",
                      "ticks": "",
                      "title": {
                        "standoff": 15
                      },
                      "zerolinecolor": "white",
                      "zerolinewidth": 2
                    }
                  }
                },
                "title": {
                  "text": "Time dependant SIR model"
                },
                "width": 1000,
                "xaxis": {
                  "title": {
                    "text": "Weeks"
                  }
                },
                "yaxis": {
                  "title": {
                    "text": "Admissions"
                  }
                }
              }
            }
          },
          "metadata": {},
          "output_type": "display_data"
        }
      ],
      "source": [
        "#Weiss implementering \n",
        "\n",
        "# Contact rate, transmisabilty, beta, and mean recovery rate gamma.\n",
        "#nunmpy quantile för confidensintervall för beta\n",
        "#försjkut admissions\n",
        "#Lagen borde inte vara i modelfunction, för den modellerar antalet infected, lagen borde bara vara på predicted admissions\n",
        "\n",
        "# Total population, N.\n",
        "N = 700000 #göteborg stad\n",
        "# Initial number of infected and recovered individuals, I0 and R0.\n",
        "I0, R0 = 1, 0\n",
        "# Everyone else, S0, is susceptible to infection initially.\n",
        "S0 = N - I0 - R0\n",
        "\n",
        "tau = 1         #transmisability chance\n",
        "gamma =  0.2   #recovery rate 1/days\n",
        "lag = 21\n",
        "\n",
        "\n",
        "# Initial conditions vector\n",
        "y0 = S0, I0, R0\n",
        "p = 0.013 #fraction of the present number of infectious individuals\n",
        "\n",
        "def modelfunction(t,c0,c1): #Enbedded function that takes \n",
        "  def betafunc(t):\n",
        "    kappa =  c0+c1*VT_mobilityfunc(t)\n",
        "    b = kappa*tau\n",
        "    beta = b/N\n",
        "    return beta\n",
        "\n",
        "  # The SIR model differential equations.\n",
        "  def deriv(y, t, N):\n",
        "    S, I, R = y\n",
        "    dSdt = -betafunc(t-lag) * S * I \n",
        "    dIdt = betafunc(t-lag) * S * I - gamma * I\n",
        "    dRdt = gamma * I\n",
        "    return dSdt, dIdt, dRdt\n",
        "  \n",
        "  result = odeint(deriv, y0, t, args=(N,))\n",
        "  S, I, R = result.T\n",
        "  #Returerar totalt antal inskrivningar varje dag\n",
        "  return I*p\n",
        "\n",
        "\n",
        "\n",
        "#Curve fit function that takes the modelfunction with the given parameters to optimize and returns them with optimal value and covariance\n",
        "popt, pcov = curve_fit(modelfunction, t_fittingdata, dailyAdmissions[:fittingPoints], p0=[0.4198,0.003781])\n",
        "\n",
        "#best VT guess p0=[0.4198,0.003781])\n",
        "#Best google guess p0=[3,0.6])\n",
        "\n",
        "print(popt)\n",
        "print(pcov)\n",
        "print(mean_squared_error(dailyAdmissions[0:prediction_time],modelfunction(t,*popt), squared = False))\n",
        "\n",
        "fig = go.Figure() #Creates a plot using graph objects and then adds each graph to figure\n",
        "fig.add_trace(go.Scatter(\n",
        "                    x=pd.Series(pd.date_range(\"2020-03-01\", freq=\"D\", periods=fittingPoints)), \n",
        "                    y=dailyAdmissions,\n",
        "                    mode='markers',\n",
        "                    name='Admission data'))\n",
        "fig.add_trace(go.Scatter(\n",
        "                    x=pd.Series(pd.date_range(\"2020-03-01\", freq=\"D\", periods=prediction_time)), \n",
        "                    y=modelfunction(t,*popt),\n",
        "                    mode='lines',\n",
        "                    name='Predicted admissions'))\n",
        "fig.update_layout(\n",
        "                    title='Time dependant SIR model',\n",
        "                    xaxis_title='Weeks',\n",
        "                    yaxis_title='Admissions',\n",
        "                    autosize=False,\n",
        "                    width=1000,\n",
        "                    \n",
        "                    font=dict(\n",
        "                    family=\"Courier New, monospace\",\n",
        "                    size=14,\n",
        "                    color=\"RebeccaPurple\"\n",
        "    )\n",
        ")\n",
        "fig.show()"
      ]
    },
    {
      "cell_type": "markdown",
      "metadata": {
        "id": "oCXhPt4_1FF4"
      },
      "source": [
        "Plots the predicted admissions and the admission data, for comparison"
      ]
    },
    {
      "cell_type": "markdown",
      "metadata": {
        "id": "61q2IELFj0L4"
      },
      "source": [
        "Plots confidence intervals of model"
      ]
    },
    {
      "cell_type": "code",
      "execution_count": 110,
      "metadata": {
        "colab": {
          "base_uri": "https://localhost:8080/",
          "height": 542
        },
        "id": "txCxr1cdjxsY",
        "outputId": "3f9e8f82-3aa4-4397-a43f-b3b568d8a389"
      },
      "outputs": [
        {
          "data": {
            "application/vnd.plotly.v1+json": {
              "config": {
                "plotlyServerURL": "https://plot.ly"
              },
              "data": [
                {
                  "mode": "markers",
                  "name": "Fitting admission points",
                  "type": "scatter",
                  "x": [
                    "2020-03-01T00:00:00",
                    "2020-03-02T00:00:00",
                    "2020-03-03T00:00:00",
                    "2020-03-04T00:00:00",
                    "2020-03-05T00:00:00",
                    "2020-03-06T00:00:00",
                    "2020-03-07T00:00:00",
                    "2020-03-08T00:00:00",
                    "2020-03-09T00:00:00",
                    "2020-03-10T00:00:00",
                    "2020-03-11T00:00:00",
                    "2020-03-12T00:00:00",
                    "2020-03-13T00:00:00",
                    "2020-03-14T00:00:00",
                    "2020-03-15T00:00:00",
                    "2020-03-16T00:00:00",
                    "2020-03-17T00:00:00",
                    "2020-03-18T00:00:00",
                    "2020-03-19T00:00:00",
                    "2020-03-20T00:00:00",
                    "2020-03-21T00:00:00",
                    "2020-03-22T00:00:00",
                    "2020-03-23T00:00:00",
                    "2020-03-24T00:00:00",
                    "2020-03-25T00:00:00",
                    "2020-03-26T00:00:00",
                    "2020-03-27T00:00:00",
                    "2020-03-28T00:00:00",
                    "2020-03-29T00:00:00",
                    "2020-03-30T00:00:00",
                    "2020-03-31T00:00:00",
                    "2020-04-01T00:00:00",
                    "2020-04-02T00:00:00",
                    "2020-04-03T00:00:00",
                    "2020-04-04T00:00:00",
                    "2020-04-05T00:00:00",
                    "2020-04-06T00:00:00",
                    "2020-04-07T00:00:00",
                    "2020-04-08T00:00:00",
                    "2020-04-09T00:00:00",
                    "2020-04-10T00:00:00",
                    "2020-04-11T00:00:00",
                    "2020-04-12T00:00:00",
                    "2020-04-13T00:00:00",
                    "2020-04-14T00:00:00",
                    "2020-04-15T00:00:00",
                    "2020-04-16T00:00:00",
                    "2020-04-17T00:00:00",
                    "2020-04-18T00:00:00",
                    "2020-04-19T00:00:00",
                    "2020-04-20T00:00:00",
                    "2020-04-21T00:00:00",
                    "2020-04-22T00:00:00",
                    "2020-04-23T00:00:00",
                    "2020-04-24T00:00:00",
                    "2020-04-25T00:00:00",
                    "2020-04-26T00:00:00",
                    "2020-04-27T00:00:00",
                    "2020-04-28T00:00:00",
                    "2020-04-29T00:00:00",
                    "2020-04-30T00:00:00",
                    "2020-05-01T00:00:00",
                    "2020-05-02T00:00:00",
                    "2020-05-03T00:00:00",
                    "2020-05-04T00:00:00",
                    "2020-05-05T00:00:00",
                    "2020-05-06T00:00:00",
                    "2020-05-07T00:00:00",
                    "2020-05-08T00:00:00",
                    "2020-05-09T00:00:00",
                    "2020-05-10T00:00:00",
                    "2020-05-11T00:00:00",
                    "2020-05-12T00:00:00",
                    "2020-05-13T00:00:00",
                    "2020-05-14T00:00:00",
                    "2020-05-15T00:00:00",
                    "2020-05-16T00:00:00",
                    "2020-05-17T00:00:00",
                    "2020-05-18T00:00:00",
                    "2020-05-19T00:00:00",
                    "2020-05-20T00:00:00",
                    "2020-05-21T00:00:00",
                    "2020-05-22T00:00:00",
                    "2020-05-23T00:00:00",
                    "2020-05-24T00:00:00",
                    "2020-05-25T00:00:00",
                    "2020-05-26T00:00:00",
                    "2020-05-27T00:00:00",
                    "2020-05-28T00:00:00",
                    "2020-05-29T00:00:00",
                    "2020-05-30T00:00:00",
                    "2020-05-31T00:00:00",
                    "2020-06-01T00:00:00",
                    "2020-06-02T00:00:00",
                    "2020-06-03T00:00:00",
                    "2020-06-04T00:00:00",
                    "2020-06-05T00:00:00",
                    "2020-06-06T00:00:00",
                    "2020-06-07T00:00:00",
                    "2020-06-08T00:00:00",
                    "2020-06-09T00:00:00",
                    "2020-06-10T00:00:00",
                    "2020-06-11T00:00:00",
                    "2020-06-12T00:00:00",
                    "2020-06-13T00:00:00",
                    "2020-06-14T00:00:00",
                    "2020-06-15T00:00:00",
                    "2020-06-16T00:00:00",
                    "2020-06-17T00:00:00",
                    "2020-06-18T00:00:00",
                    "2020-06-19T00:00:00",
                    "2020-06-20T00:00:00",
                    "2020-06-21T00:00:00",
                    "2020-06-22T00:00:00",
                    "2020-06-23T00:00:00",
                    "2020-06-24T00:00:00",
                    "2020-06-25T00:00:00",
                    "2020-06-26T00:00:00",
                    "2020-06-27T00:00:00",
                    "2020-06-28T00:00:00",
                    "2020-06-29T00:00:00",
                    "2020-06-30T00:00:00",
                    "2020-07-01T00:00:00",
                    "2020-07-02T00:00:00",
                    "2020-07-03T00:00:00",
                    "2020-07-04T00:00:00",
                    "2020-07-05T00:00:00",
                    "2020-07-06T00:00:00",
                    "2020-07-07T00:00:00",
                    "2020-07-08T00:00:00",
                    "2020-07-09T00:00:00",
                    "2020-07-10T00:00:00",
                    "2020-07-11T00:00:00",
                    "2020-07-12T00:00:00",
                    "2020-07-13T00:00:00",
                    "2020-07-14T00:00:00",
                    "2020-07-15T00:00:00",
                    "2020-07-16T00:00:00",
                    "2020-07-17T00:00:00",
                    "2020-07-18T00:00:00",
                    "2020-07-19T00:00:00",
                    "2020-07-20T00:00:00",
                    "2020-07-21T00:00:00",
                    "2020-07-22T00:00:00",
                    "2020-07-23T00:00:00",
                    "2020-07-24T00:00:00",
                    "2020-07-25T00:00:00",
                    "2020-07-26T00:00:00",
                    "2020-07-27T00:00:00",
                    "2020-07-28T00:00:00",
                    "2020-07-29T00:00:00",
                    "2020-07-30T00:00:00",
                    "2020-07-31T00:00:00",
                    "2020-08-01T00:00:00",
                    "2020-08-02T00:00:00",
                    "2020-08-03T00:00:00",
                    "2020-08-04T00:00:00",
                    "2020-08-05T00:00:00",
                    "2020-08-06T00:00:00",
                    "2020-08-07T00:00:00",
                    "2020-08-08T00:00:00",
                    "2020-08-09T00:00:00",
                    "2020-08-10T00:00:00",
                    "2020-08-11T00:00:00",
                    "2020-08-12T00:00:00",
                    "2020-08-13T00:00:00",
                    "2020-08-14T00:00:00",
                    "2020-08-15T00:00:00",
                    "2020-08-16T00:00:00",
                    "2020-08-17T00:00:00",
                    "2020-08-18T00:00:00",
                    "2020-08-19T00:00:00",
                    "2020-08-20T00:00:00"
                  ],
                  "y": [
                    0,
                    0,
                    0,
                    0,
                    0,
                    0,
                    0,
                    0,
                    0,
                    0,
                    0,
                    0,
                    0,
                    0,
                    0,
                    0,
                    0,
                    0,
                    0,
                    0,
                    0,
                    1,
                    0,
                    0,
                    0,
                    3,
                    1,
                    1,
                    1,
                    1,
                    1,
                    3,
                    4,
                    1,
                    1,
                    6,
                    4,
                    5,
                    10,
                    4,
                    2,
                    1,
                    5,
                    9,
                    8,
                    6,
                    9,
                    7,
                    7,
                    10,
                    9,
                    15,
                    9,
                    7,
                    10,
                    15,
                    14,
                    21,
                    17,
                    25,
                    15,
                    16,
                    15,
                    10,
                    15,
                    16,
                    20,
                    23,
                    14,
                    16,
                    34,
                    18,
                    18,
                    26,
                    22,
                    25,
                    18,
                    22,
                    24,
                    18,
                    21,
                    20,
                    18,
                    12,
                    18,
                    26,
                    19,
                    19,
                    14,
                    16,
                    7,
                    11,
                    8,
                    16,
                    12,
                    14,
                    8,
                    5,
                    13,
                    14,
                    13,
                    14,
                    16,
                    8,
                    8,
                    14,
                    13,
                    17,
                    14,
                    16,
                    18,
                    6,
                    16,
                    17,
                    8,
                    11,
                    10,
                    7,
                    9,
                    13,
                    13,
                    9,
                    13,
                    17,
                    7,
                    9,
                    11,
                    14,
                    14,
                    11,
                    8,
                    13,
                    11,
                    2,
                    9,
                    12,
                    8,
                    8,
                    3,
                    9,
                    7,
                    14,
                    7,
                    8,
                    7,
                    4,
                    4,
                    8,
                    4,
                    5,
                    5,
                    6,
                    0,
                    5,
                    5,
                    5,
                    4,
                    4,
                    3,
                    1,
                    2,
                    3,
                    3,
                    3,
                    5,
                    2,
                    2,
                    1,
                    1,
                    5,
                    3,
                    1,
                    1
                  ]
                },
                {
                  "marker": {
                    "color": "firebrick"
                  },
                  "mode": "markers",
                  "name": "Admission data",
                  "type": "scatter",
                  "x": [],
                  "y": []
                },
                {
                  "mode": "lines",
                  "name": "Predicted admissions",
                  "type": "scatter",
                  "x": [
                    "2020-03-01T00:00:00",
                    "2020-03-02T00:00:00",
                    "2020-03-03T00:00:00",
                    "2020-03-04T00:00:00",
                    "2020-03-05T00:00:00",
                    "2020-03-06T00:00:00",
                    "2020-03-07T00:00:00",
                    "2020-03-08T00:00:00",
                    "2020-03-09T00:00:00",
                    "2020-03-10T00:00:00",
                    "2020-03-11T00:00:00",
                    "2020-03-12T00:00:00",
                    "2020-03-13T00:00:00",
                    "2020-03-14T00:00:00",
                    "2020-03-15T00:00:00",
                    "2020-03-16T00:00:00",
                    "2020-03-17T00:00:00",
                    "2020-03-18T00:00:00",
                    "2020-03-19T00:00:00",
                    "2020-03-20T00:00:00",
                    "2020-03-21T00:00:00",
                    "2020-03-22T00:00:00",
                    "2020-03-23T00:00:00",
                    "2020-03-24T00:00:00",
                    "2020-03-25T00:00:00",
                    "2020-03-26T00:00:00",
                    "2020-03-27T00:00:00",
                    "2020-03-28T00:00:00",
                    "2020-03-29T00:00:00",
                    "2020-03-30T00:00:00",
                    "2020-03-31T00:00:00",
                    "2020-04-01T00:00:00",
                    "2020-04-02T00:00:00",
                    "2020-04-03T00:00:00",
                    "2020-04-04T00:00:00",
                    "2020-04-05T00:00:00",
                    "2020-04-06T00:00:00",
                    "2020-04-07T00:00:00",
                    "2020-04-08T00:00:00",
                    "2020-04-09T00:00:00",
                    "2020-04-10T00:00:00",
                    "2020-04-11T00:00:00",
                    "2020-04-12T00:00:00",
                    "2020-04-13T00:00:00",
                    "2020-04-14T00:00:00",
                    "2020-04-15T00:00:00",
                    "2020-04-16T00:00:00",
                    "2020-04-17T00:00:00",
                    "2020-04-18T00:00:00",
                    "2020-04-19T00:00:00",
                    "2020-04-20T00:00:00",
                    "2020-04-21T00:00:00",
                    "2020-04-22T00:00:00",
                    "2020-04-23T00:00:00",
                    "2020-04-24T00:00:00",
                    "2020-04-25T00:00:00",
                    "2020-04-26T00:00:00",
                    "2020-04-27T00:00:00",
                    "2020-04-28T00:00:00",
                    "2020-04-29T00:00:00",
                    "2020-04-30T00:00:00",
                    "2020-05-01T00:00:00",
                    "2020-05-02T00:00:00",
                    "2020-05-03T00:00:00",
                    "2020-05-04T00:00:00",
                    "2020-05-05T00:00:00",
                    "2020-05-06T00:00:00",
                    "2020-05-07T00:00:00",
                    "2020-05-08T00:00:00",
                    "2020-05-09T00:00:00",
                    "2020-05-10T00:00:00",
                    "2020-05-11T00:00:00",
                    "2020-05-12T00:00:00",
                    "2020-05-13T00:00:00",
                    "2020-05-14T00:00:00",
                    "2020-05-15T00:00:00",
                    "2020-05-16T00:00:00",
                    "2020-05-17T00:00:00",
                    "2020-05-18T00:00:00",
                    "2020-05-19T00:00:00",
                    "2020-05-20T00:00:00",
                    "2020-05-21T00:00:00",
                    "2020-05-22T00:00:00",
                    "2020-05-23T00:00:00",
                    "2020-05-24T00:00:00",
                    "2020-05-25T00:00:00",
                    "2020-05-26T00:00:00",
                    "2020-05-27T00:00:00",
                    "2020-05-28T00:00:00",
                    "2020-05-29T00:00:00",
                    "2020-05-30T00:00:00",
                    "2020-05-31T00:00:00",
                    "2020-06-01T00:00:00",
                    "2020-06-02T00:00:00",
                    "2020-06-03T00:00:00",
                    "2020-06-04T00:00:00",
                    "2020-06-05T00:00:00",
                    "2020-06-06T00:00:00",
                    "2020-06-07T00:00:00",
                    "2020-06-08T00:00:00",
                    "2020-06-09T00:00:00",
                    "2020-06-10T00:00:00",
                    "2020-06-11T00:00:00",
                    "2020-06-12T00:00:00",
                    "2020-06-13T00:00:00",
                    "2020-06-14T00:00:00",
                    "2020-06-15T00:00:00",
                    "2020-06-16T00:00:00",
                    "2020-06-17T00:00:00",
                    "2020-06-18T00:00:00",
                    "2020-06-19T00:00:00",
                    "2020-06-20T00:00:00",
                    "2020-06-21T00:00:00",
                    "2020-06-22T00:00:00",
                    "2020-06-23T00:00:00",
                    "2020-06-24T00:00:00",
                    "2020-06-25T00:00:00",
                    "2020-06-26T00:00:00",
                    "2020-06-27T00:00:00",
                    "2020-06-28T00:00:00",
                    "2020-06-29T00:00:00",
                    "2020-06-30T00:00:00",
                    "2020-07-01T00:00:00",
                    "2020-07-02T00:00:00",
                    "2020-07-03T00:00:00",
                    "2020-07-04T00:00:00",
                    "2020-07-05T00:00:00",
                    "2020-07-06T00:00:00",
                    "2020-07-07T00:00:00",
                    "2020-07-08T00:00:00",
                    "2020-07-09T00:00:00",
                    "2020-07-10T00:00:00",
                    "2020-07-11T00:00:00",
                    "2020-07-12T00:00:00",
                    "2020-07-13T00:00:00",
                    "2020-07-14T00:00:00",
                    "2020-07-15T00:00:00",
                    "2020-07-16T00:00:00",
                    "2020-07-17T00:00:00",
                    "2020-07-18T00:00:00",
                    "2020-07-19T00:00:00",
                    "2020-07-20T00:00:00",
                    "2020-07-21T00:00:00",
                    "2020-07-22T00:00:00",
                    "2020-07-23T00:00:00",
                    "2020-07-24T00:00:00",
                    "2020-07-25T00:00:00",
                    "2020-07-26T00:00:00",
                    "2020-07-27T00:00:00",
                    "2020-07-28T00:00:00",
                    "2020-07-29T00:00:00",
                    "2020-07-30T00:00:00",
                    "2020-07-31T00:00:00",
                    "2020-08-01T00:00:00",
                    "2020-08-02T00:00:00",
                    "2020-08-03T00:00:00",
                    "2020-08-04T00:00:00",
                    "2020-08-05T00:00:00",
                    "2020-08-06T00:00:00",
                    "2020-08-07T00:00:00",
                    "2020-08-08T00:00:00",
                    "2020-08-09T00:00:00",
                    "2020-08-10T00:00:00",
                    "2020-08-11T00:00:00",
                    "2020-08-12T00:00:00",
                    "2020-08-13T00:00:00",
                    "2020-08-14T00:00:00",
                    "2020-08-15T00:00:00",
                    "2020-08-16T00:00:00",
                    "2020-08-17T00:00:00",
                    "2020-08-18T00:00:00",
                    "2020-08-19T00:00:00",
                    "2020-08-20T00:00:00"
                  ],
                  "y": [
                    0.013,
                    0.017004353598042622,
                    0.02218934929069887,
                    0.02888661361983224,
                    0.03751597497473984,
                    0.04860750363581213,
                    0.06282865463974836,
                    0.08101761064694041,
                    0.10422410221808859,
                    0.13375922487970116,
                    0.1712560427724062,
                    0.2187430739555609,
                    0.27873309773667077,
                    0.35433011994824526,
                    0.4493577605912246,
                    0.568512811561486,
                    0.7175482246439209,
                    0.9034903523131579,
                    1.134895827284315,
                    1.4221540874553023,
                    1.7778420639675176,
                    2.217138127439046,
                    2.7583027702265737,
                    3.423233733830566,
                    4.238103272113673,
                    5.2340847787074924,
                    6.448175009463784,
                    7.924116286026827,
                    9.71342011809812,
                    11.859225663374621,
                    14.399848244083643,
                    17.38849508273972,
                    20.881020000794727,
                    24.93493022540027,
                    29.608085487721784,
                    34.95707417236612,
                    40.844692498544205,
                    47.00863277328493,
                    53.29156517717177,
                    59.50875555776503,
                    65.45655337547366,
                    70.92338654251142,
                    75.70240624267522,
                    80.01737395879572,
                    84.19127457264457,
                    88.17752557545158,
                    91.9301530455075,
                    95.40474763400107,
                    98.55938721118129,
                    101.35554101766556,
                    103.87999849224322,
                    106.23324016239876,
                    108.4010452247621,
                    110.37029132617421,
                    112.12909872442391,
                    113.66696443470306,
                    114.97487673065818,
                    115.9009298648278,
                    116.29354482345938,
                    116.15113364794792,
                    115.47970172083039,
                    114.29256922500203,
                    112.60992645732125,
                    110.45824406709357,
                    108.18251846459837,
                    106.1002353388325,
                    104.20161691972994,
                    102.47779097097666,
                    100.92072914121093,
                    99.52318622643212,
                    98.27864597194406,
                    97.24819085894839,
                    96.49055621940118,
                    95.99789001122137,
                    95.76444486829895,
                    95.78647572552121,
                    96.06215142508144,
                    96.59149760988083,
                    97.1481994225325,
                    97.50356556585712,
                    97.65644681557482,
                    97.6070567828509,
                    97.35695195717939,
                    96.90899557170904,
                    96.26730938486602,
                    95.61442055277497,
                    95.12672309828307,
                    94.80063428341155,
                    94.63334149994827,
                    94.62276397470549,
                    94.76752497418364,
                    95.06692057282942,
                    95.4405106662305,
                    95.80768543946307,
                    96.1679916750211,
                    96.52097710456194,
                    96.86618922017794,
                    97.20317665027221,
                    97.53148764802638,
                    97.72707151557573,
                    97.66656861962387,
                    97.35216093211375,
                    96.78808963968034,
                    95.98056613581852,
                    94.9376516572636,
                    93.66911964275997,
                    92.49306076386154,
                    91.70967156294795,
                    91.30671273947947,
                    91.27655294370345,
                    91.6159368045104,
                    92.32583970948859,
                    93.4113872126858,
                    94.65243927350251,
                    95.82104526557887,
                    96.91387621573342,
                    97.92782162616636,
                    98.86000625053794,
                    99.70780724383603,
                    100.46886985450868,
                    101.24471755100235,
                    102.13892773476542,
                    103.15263492923111,
                    104.28722639882918,
                    105.54432370088095,
                    106.9257720321848,
                    108.43362390106928,
                    110.07012642712179,
                    111.83769617738747,
                    113.73890348836412,
                    115.77645181322177,
                    117.95314950063162,
                    120.27188343303969,
                    122.73558749664554,
                    125.34720619615666,
                    128.10965713182037,
                    131.0257855590027,
                    134.09831494280124,
                    137.32979477614933,
                    140.72253750018928,
                    144.27855368563192,
                    147.9994812109847,
                    151.88650294853966,
                    155.9402648512275,
                    160.160784591636,
                    164.5473515268493,
                    169.09842732069296,
                    173.8115355271118,
                    178.6831535696609,
                    183.70859720214486,
                    188.881908051873,
                    194.19573846934958,
                    199.6412419617351,
                    205.20797027669494,
                    210.8837756732894,
                    216.65473092951441,
                    222.50505985818262,
                    228.4170890479582,
                    234.37122593373144,
                    240.34595688059736,
                    246.31788447673034,
                    252.26179316850525,
                    258.15075143143747,
                    263.95625803306405,
                    269.648433131696,
                    275.1962326195169,
                    280.56772664858426,
                    285.7303955217112,
                    290.6514811427827,
                    295.2983491941297,
                    299.6388957650677,
                    303.6419507619913,
                    307.2777107541323
                  ]
                },
                {
                  "line": {
                    "dash": "dash",
                    "width": 2
                  },
                  "mode": "lines",
                  "name": "Lower confidence interval",
                  "type": "scatter",
                  "x": [
                    "2020-03-01T00:00:00",
                    "2020-03-02T00:00:00",
                    "2020-03-03T00:00:00",
                    "2020-03-04T00:00:00",
                    "2020-03-05T00:00:00",
                    "2020-03-06T00:00:00",
                    "2020-03-07T00:00:00",
                    "2020-03-08T00:00:00",
                    "2020-03-09T00:00:00",
                    "2020-03-10T00:00:00",
                    "2020-03-11T00:00:00",
                    "2020-03-12T00:00:00",
                    "2020-03-13T00:00:00",
                    "2020-03-14T00:00:00",
                    "2020-03-15T00:00:00",
                    "2020-03-16T00:00:00",
                    "2020-03-17T00:00:00",
                    "2020-03-18T00:00:00",
                    "2020-03-19T00:00:00",
                    "2020-03-20T00:00:00",
                    "2020-03-21T00:00:00",
                    "2020-03-22T00:00:00",
                    "2020-03-23T00:00:00",
                    "2020-03-24T00:00:00",
                    "2020-03-25T00:00:00",
                    "2020-03-26T00:00:00",
                    "2020-03-27T00:00:00",
                    "2020-03-28T00:00:00",
                    "2020-03-29T00:00:00",
                    "2020-03-30T00:00:00",
                    "2020-03-31T00:00:00",
                    "2020-04-01T00:00:00",
                    "2020-04-02T00:00:00",
                    "2020-04-03T00:00:00",
                    "2020-04-04T00:00:00",
                    "2020-04-05T00:00:00",
                    "2020-04-06T00:00:00",
                    "2020-04-07T00:00:00",
                    "2020-04-08T00:00:00",
                    "2020-04-09T00:00:00",
                    "2020-04-10T00:00:00",
                    "2020-04-11T00:00:00",
                    "2020-04-12T00:00:00",
                    "2020-04-13T00:00:00",
                    "2020-04-14T00:00:00",
                    "2020-04-15T00:00:00",
                    "2020-04-16T00:00:00",
                    "2020-04-17T00:00:00",
                    "2020-04-18T00:00:00",
                    "2020-04-19T00:00:00",
                    "2020-04-20T00:00:00",
                    "2020-04-21T00:00:00",
                    "2020-04-22T00:00:00",
                    "2020-04-23T00:00:00",
                    "2020-04-24T00:00:00",
                    "2020-04-25T00:00:00",
                    "2020-04-26T00:00:00",
                    "2020-04-27T00:00:00",
                    "2020-04-28T00:00:00",
                    "2020-04-29T00:00:00",
                    "2020-04-30T00:00:00",
                    "2020-05-01T00:00:00",
                    "2020-05-02T00:00:00",
                    "2020-05-03T00:00:00",
                    "2020-05-04T00:00:00",
                    "2020-05-05T00:00:00",
                    "2020-05-06T00:00:00",
                    "2020-05-07T00:00:00",
                    "2020-05-08T00:00:00",
                    "2020-05-09T00:00:00",
                    "2020-05-10T00:00:00",
                    "2020-05-11T00:00:00",
                    "2020-05-12T00:00:00",
                    "2020-05-13T00:00:00",
                    "2020-05-14T00:00:00",
                    "2020-05-15T00:00:00",
                    "2020-05-16T00:00:00",
                    "2020-05-17T00:00:00",
                    "2020-05-18T00:00:00",
                    "2020-05-19T00:00:00",
                    "2020-05-20T00:00:00",
                    "2020-05-21T00:00:00",
                    "2020-05-22T00:00:00",
                    "2020-05-23T00:00:00",
                    "2020-05-24T00:00:00",
                    "2020-05-25T00:00:00",
                    "2020-05-26T00:00:00",
                    "2020-05-27T00:00:00",
                    "2020-05-28T00:00:00",
                    "2020-05-29T00:00:00",
                    "2020-05-30T00:00:00",
                    "2020-05-31T00:00:00",
                    "2020-06-01T00:00:00",
                    "2020-06-02T00:00:00",
                    "2020-06-03T00:00:00",
                    "2020-06-04T00:00:00",
                    "2020-06-05T00:00:00",
                    "2020-06-06T00:00:00",
                    "2020-06-07T00:00:00",
                    "2020-06-08T00:00:00",
                    "2020-06-09T00:00:00",
                    "2020-06-10T00:00:00",
                    "2020-06-11T00:00:00",
                    "2020-06-12T00:00:00",
                    "2020-06-13T00:00:00",
                    "2020-06-14T00:00:00",
                    "2020-06-15T00:00:00",
                    "2020-06-16T00:00:00",
                    "2020-06-17T00:00:00",
                    "2020-06-18T00:00:00",
                    "2020-06-19T00:00:00",
                    "2020-06-20T00:00:00",
                    "2020-06-21T00:00:00",
                    "2020-06-22T00:00:00",
                    "2020-06-23T00:00:00",
                    "2020-06-24T00:00:00",
                    "2020-06-25T00:00:00",
                    "2020-06-26T00:00:00",
                    "2020-06-27T00:00:00",
                    "2020-06-28T00:00:00",
                    "2020-06-29T00:00:00",
                    "2020-06-30T00:00:00",
                    "2020-07-01T00:00:00",
                    "2020-07-02T00:00:00",
                    "2020-07-03T00:00:00",
                    "2020-07-04T00:00:00",
                    "2020-07-05T00:00:00",
                    "2020-07-06T00:00:00",
                    "2020-07-07T00:00:00",
                    "2020-07-08T00:00:00",
                    "2020-07-09T00:00:00",
                    "2020-07-10T00:00:00",
                    "2020-07-11T00:00:00",
                    "2020-07-12T00:00:00",
                    "2020-07-13T00:00:00",
                    "2020-07-14T00:00:00",
                    "2020-07-15T00:00:00",
                    "2020-07-16T00:00:00",
                    "2020-07-17T00:00:00",
                    "2020-07-18T00:00:00",
                    "2020-07-19T00:00:00",
                    "2020-07-20T00:00:00",
                    "2020-07-21T00:00:00",
                    "2020-07-22T00:00:00",
                    "2020-07-23T00:00:00",
                    "2020-07-24T00:00:00",
                    "2020-07-25T00:00:00",
                    "2020-07-26T00:00:00",
                    "2020-07-27T00:00:00",
                    "2020-07-28T00:00:00",
                    "2020-07-29T00:00:00",
                    "2020-07-30T00:00:00",
                    "2020-07-31T00:00:00",
                    "2020-08-01T00:00:00",
                    "2020-08-02T00:00:00",
                    "2020-08-03T00:00:00",
                    "2020-08-04T00:00:00",
                    "2020-08-05T00:00:00",
                    "2020-08-06T00:00:00",
                    "2020-08-07T00:00:00",
                    "2020-08-08T00:00:00",
                    "2020-08-09T00:00:00",
                    "2020-08-10T00:00:00",
                    "2020-08-11T00:00:00",
                    "2020-08-12T00:00:00",
                    "2020-08-13T00:00:00",
                    "2020-08-14T00:00:00",
                    "2020-08-15T00:00:00",
                    "2020-08-16T00:00:00",
                    "2020-08-17T00:00:00",
                    "2020-08-18T00:00:00",
                    "2020-08-19T00:00:00",
                    "2020-08-20T00:00:00"
                  ],
                  "y": [
                    0.013,
                    0.01690198381880461,
                    0.02192656574756978,
                    0.02838194224124538,
                    0.036656591347151,
                    0.04723897324633089,
                    0.060741723930568904,
                    0.07793130303652368,
                    0.09976420822455215,
                    0.12743108415638324,
                    0.16241028852447278,
                    0.20653274900619367,
                    0.26206024928419613,
                    0.33177963545959854,
                    0.41911581893094985,
                    0.5282668880422661,
                    0.664365117190055,
                    0.8336681740025446,
                    1.043785374096116,
                    1.3039444237028959,
                    1.625304630958193,
                    2.021323155899861,
                    2.508181374279066,
                    3.105278788326921,
                    3.8358021590677787,
                    4.727377429017931,
                    5.812811517100276,
                    7.130929958808306,
                    8.727513672592575,
                    10.641905398528982,
                    12.91016402703688,
                    15.58167477839677,
                    18.709026403462197,
                    22.347330032335687,
                    26.553279629497645,
                    31.38392956447234,
                    36.73537376153968,
                    42.39855096132628,
                    48.250495251866745,
                    54.14218438262886,
                    59.904132468469825,
                    65.21159675054601,
                    69.9518095716147,
                    74.34218390765942,
                    78.66514198116603,
                    82.53772952409055,
                    85.63614252815799,
                    88.44114397284325,
                    90.91793132258037,
                    93.03560529129894,
                    94.88156871143832,
                    96.55440495052811,
                    98.04413392143327,
                    99.34194984222182,
                    100.4403125917249,
                    101.3330274244582,
                    102.01530266841273,
                    102.35228037030238,
                    102.21160036891125,
                    101.59842136348182,
                    100.52451459119968,
                    99.00787978180573,
                    97.07222458462877,
                    94.74633084793538,
                    92.33944180412507,
                    90.1310646049834,
                    88.10962770502209,
                    86.26464804564863,
                    84.58664792683538,
                    83.06707557777003,
                    81.69823469966313,
                    80.53067303064401,
                    79.61237932014052,
                    78.93412679735336,
                    78.48882006947619,
                    78.2713772509399,
                    78.27862944541275,
                    78.50925452492602,
                    78.77128331944081,
                    78.87230311701808,
                    78.8124661946626,
                    78.59296122890851,
                    78.17786970992981,
                    77.58150015713365,
                    76.83602472010537,
                    76.09473401311617,
                    75.50432507080517,
                    75.06072036614286,
                    74.65065974710629,
                    74.3552260550805,
                    74.20125947378942,
                    74.18706710472115,
                    74.24522645973505,
                    74.3089758406611,
                    74.3781682492271,
                    74.45265513179429,
                    74.53228631040791,
                    74.61690991515398,
                    74.70637363908014,
                    74.69967297481506,
                    74.49689397115453,
                    74.1006932489286,
                    73.51526461441335,
                    72.74626267609234,
                    71.80070493083495,
                    70.6868628525746,
                    69.6617826233455,
                    68.96672653761604,
                    68.59059495945624,
                    68.52664228170288,
                    68.77227760919342,
                    69.32895015677953,
                    70.20211422277573,
                    71.21537837666455,
                    72.1850739123203,
                    73.10883832753254,
                    73.98440816865927,
                    74.80962932810156,
                    75.58246825162517,
                    76.30102246789949,
                    77.04885082514518,
                    77.91214103941917,
                    78.89332739192876,
                    79.9952417376545,
                    81.22111114315841,
                    82.5745602520685,
                    84.05961143303743,
                    85.68068534992292,
                    87.44260051325647,
                    89.35057189901796,
                    91.41020792384508,
                    93.62750638760355,
                    96.0088448834044,
                    98.55782217463214,
                    101.10670570117247,
                    103.83031191565057,
                    106.73559098863464,
                    109.8297500015106,
                    113.12021672644595,
                    116.6145935455171,
                    120.3206043741171,
                    124.24602686750504,
                    128.39861529328365,
                    132.78600913573678,
                    137.41562627162864,
                    142.29454067396534,
                    147.42934122294614,
                    152.82597209330305,
                    157.832590049541,
                    162.9487493338784,
                    167.82442945356493,
                    171.8847436971696,
                    174.75026228752333,
                    177.53154421162373,
                    179.70819451923498,
                    181.88576028320898,
                    184.05761679016484,
                    186.2168497277909,
                    188.35627356888415,
                    190.46845294110918,
                    192.545725871233,
                    194.58023610759693,
                    196.56396408880374,
                    198.48876571021685,
                    200.34641527119174,
                    202.12865256676267,
                    203.827228378317,
                    205.43395543078972,
                    206.94076727708875,
                    208.33977527612043,
                    209.62332214836775,
                    210.7840430708142,
                    211.8149240666759
                  ]
                },
                {
                  "line": {
                    "dash": "dash",
                    "width": 2
                  },
                  "mode": "lines",
                  "name": "Upper confidence interval",
                  "type": "scatter",
                  "x": [
                    "2020-03-01T00:00:00",
                    "2020-03-02T00:00:00",
                    "2020-03-03T00:00:00",
                    "2020-03-04T00:00:00",
                    "2020-03-05T00:00:00",
                    "2020-03-06T00:00:00",
                    "2020-03-07T00:00:00",
                    "2020-03-08T00:00:00",
                    "2020-03-09T00:00:00",
                    "2020-03-10T00:00:00",
                    "2020-03-11T00:00:00",
                    "2020-03-12T00:00:00",
                    "2020-03-13T00:00:00",
                    "2020-03-14T00:00:00",
                    "2020-03-15T00:00:00",
                    "2020-03-16T00:00:00",
                    "2020-03-17T00:00:00",
                    "2020-03-18T00:00:00",
                    "2020-03-19T00:00:00",
                    "2020-03-20T00:00:00",
                    "2020-03-21T00:00:00",
                    "2020-03-22T00:00:00",
                    "2020-03-23T00:00:00",
                    "2020-03-24T00:00:00",
                    "2020-03-25T00:00:00",
                    "2020-03-26T00:00:00",
                    "2020-03-27T00:00:00",
                    "2020-03-28T00:00:00",
                    "2020-03-29T00:00:00",
                    "2020-03-30T00:00:00",
                    "2020-03-31T00:00:00",
                    "2020-04-01T00:00:00",
                    "2020-04-02T00:00:00",
                    "2020-04-03T00:00:00",
                    "2020-04-04T00:00:00",
                    "2020-04-05T00:00:00",
                    "2020-04-06T00:00:00",
                    "2020-04-07T00:00:00",
                    "2020-04-08T00:00:00",
                    "2020-04-09T00:00:00",
                    "2020-04-10T00:00:00",
                    "2020-04-11T00:00:00",
                    "2020-04-12T00:00:00",
                    "2020-04-13T00:00:00",
                    "2020-04-14T00:00:00",
                    "2020-04-15T00:00:00",
                    "2020-04-16T00:00:00",
                    "2020-04-17T00:00:00",
                    "2020-04-18T00:00:00",
                    "2020-04-19T00:00:00",
                    "2020-04-20T00:00:00",
                    "2020-04-21T00:00:00",
                    "2020-04-22T00:00:00",
                    "2020-04-23T00:00:00",
                    "2020-04-24T00:00:00",
                    "2020-04-25T00:00:00",
                    "2020-04-26T00:00:00",
                    "2020-04-27T00:00:00",
                    "2020-04-28T00:00:00",
                    "2020-04-29T00:00:00",
                    "2020-04-30T00:00:00",
                    "2020-05-01T00:00:00",
                    "2020-05-02T00:00:00",
                    "2020-05-03T00:00:00",
                    "2020-05-04T00:00:00",
                    "2020-05-05T00:00:00",
                    "2020-05-06T00:00:00",
                    "2020-05-07T00:00:00",
                    "2020-05-08T00:00:00",
                    "2020-05-09T00:00:00",
                    "2020-05-10T00:00:00",
                    "2020-05-11T00:00:00",
                    "2020-05-12T00:00:00",
                    "2020-05-13T00:00:00",
                    "2020-05-14T00:00:00",
                    "2020-05-15T00:00:00",
                    "2020-05-16T00:00:00",
                    "2020-05-17T00:00:00",
                    "2020-05-18T00:00:00",
                    "2020-05-19T00:00:00",
                    "2020-05-20T00:00:00",
                    "2020-05-21T00:00:00",
                    "2020-05-22T00:00:00",
                    "2020-05-23T00:00:00",
                    "2020-05-24T00:00:00",
                    "2020-05-25T00:00:00",
                    "2020-05-26T00:00:00",
                    "2020-05-27T00:00:00",
                    "2020-05-28T00:00:00",
                    "2020-05-29T00:00:00",
                    "2020-05-30T00:00:00",
                    "2020-05-31T00:00:00",
                    "2020-06-01T00:00:00",
                    "2020-06-02T00:00:00",
                    "2020-06-03T00:00:00",
                    "2020-06-04T00:00:00",
                    "2020-06-05T00:00:00",
                    "2020-06-06T00:00:00",
                    "2020-06-07T00:00:00",
                    "2020-06-08T00:00:00",
                    "2020-06-09T00:00:00",
                    "2020-06-10T00:00:00",
                    "2020-06-11T00:00:00",
                    "2020-06-12T00:00:00",
                    "2020-06-13T00:00:00",
                    "2020-06-14T00:00:00",
                    "2020-06-15T00:00:00",
                    "2020-06-16T00:00:00",
                    "2020-06-17T00:00:00",
                    "2020-06-18T00:00:00",
                    "2020-06-19T00:00:00",
                    "2020-06-20T00:00:00",
                    "2020-06-21T00:00:00",
                    "2020-06-22T00:00:00",
                    "2020-06-23T00:00:00",
                    "2020-06-24T00:00:00",
                    "2020-06-25T00:00:00",
                    "2020-06-26T00:00:00",
                    "2020-06-27T00:00:00",
                    "2020-06-28T00:00:00",
                    "2020-06-29T00:00:00",
                    "2020-06-30T00:00:00",
                    "2020-07-01T00:00:00",
                    "2020-07-02T00:00:00",
                    "2020-07-03T00:00:00",
                    "2020-07-04T00:00:00",
                    "2020-07-05T00:00:00",
                    "2020-07-06T00:00:00",
                    "2020-07-07T00:00:00",
                    "2020-07-08T00:00:00",
                    "2020-07-09T00:00:00",
                    "2020-07-10T00:00:00",
                    "2020-07-11T00:00:00",
                    "2020-07-12T00:00:00",
                    "2020-07-13T00:00:00",
                    "2020-07-14T00:00:00",
                    "2020-07-15T00:00:00",
                    "2020-07-16T00:00:00",
                    "2020-07-17T00:00:00",
                    "2020-07-18T00:00:00",
                    "2020-07-19T00:00:00",
                    "2020-07-20T00:00:00",
                    "2020-07-21T00:00:00",
                    "2020-07-22T00:00:00",
                    "2020-07-23T00:00:00",
                    "2020-07-24T00:00:00",
                    "2020-07-25T00:00:00",
                    "2020-07-26T00:00:00",
                    "2020-07-27T00:00:00",
                    "2020-07-28T00:00:00",
                    "2020-07-29T00:00:00",
                    "2020-07-30T00:00:00",
                    "2020-07-31T00:00:00",
                    "2020-08-01T00:00:00",
                    "2020-08-02T00:00:00",
                    "2020-08-03T00:00:00",
                    "2020-08-04T00:00:00",
                    "2020-08-05T00:00:00",
                    "2020-08-06T00:00:00",
                    "2020-08-07T00:00:00",
                    "2020-08-08T00:00:00",
                    "2020-08-09T00:00:00",
                    "2020-08-10T00:00:00",
                    "2020-08-11T00:00:00",
                    "2020-08-12T00:00:00",
                    "2020-08-13T00:00:00",
                    "2020-08-14T00:00:00",
                    "2020-08-15T00:00:00",
                    "2020-08-16T00:00:00",
                    "2020-08-17T00:00:00",
                    "2020-08-18T00:00:00",
                    "2020-08-19T00:00:00",
                    "2020-08-20T00:00:00"
                  ],
                  "y": [
                    0.013,
                    0.017110203799801556,
                    0.02246445562136917,
                    0.029421544744275,
                    0.0384382688445024,
                    0.05009459667245597,
                    0.0651248231561723,
                    0.08445603789992288,
                    0.10925546160595236,
                    0.140988501768675,
                    0.18148972405355177,
                    0.23304931710981183,
                    0.2985180702875221,
                    0.3814343863327939,
                    0.48617740111080315,
                    0.6181508969542652,
                    0.7840033690074822,
                    0.9918903103061424,
                    1.2517855339925832,
                    1.5758491161587491,
                    1.9788602342718897,
                    2.4787238919070753,
                    3.0970609644301157,
                    3.8598912852507516,
                    4.798419325981853,
                    5.9499313003454235,
                    7.358810946040295,
                    9.077678465100547,
                    11.168652781151073,
                    13.684071184960645,
                    16.67043799093907,
                    20.19194270524326,
                    24.315798090135964,
                    29.110909258928512,
                    34.646134697848666,
                    40.98811753999851,
                    47.98959338534648,
                    55.32939470167517,
                    62.805249394200644,
                    70.18931151628843,
                    77.23104755928645,
                    83.6713614300929,
                    89.25872724578603,
                    94.26310324184819,
                    99.07360741798722,
                    103.63349581209711,
                    107.88738798301807,
                    111.78247828605126,
                    115.26970826061647,
                    118.30486797029702,
                    120.99343590577236,
                    123.45633636174097,
                    125.67790617486817,
                    127.6441167005865,
                    129.34273809661167,
                    130.9430558584929,
                    133.1038866150325,
                    135.0161864069404,
                    136.40798958316907,
                    137.22471884808442,
                    137.63650974144176,
                    137.53896050594918,
                    136.83784312995633,
                    135.5479424456977,
                    134.0538098046818,
                    132.72229190938978,
                    131.54782926394242,
                    130.52538902039998,
                    129.65042848709848,
                    128.9188635509598,
                    128.32704308793873,
                    127.95348138664816,
                    127.8754933119022,
                    128.08932896604486,
                    128.59300996715268,
                    129.3862562670151,
                    130.47041589602654,
                    131.8484119859702,
                    133.23612872356705,
                    134.3419508501218,
                    135.16026607640813,
                    135.68756537381304,
                    135.9224553215415,
                    135.86564343919335,
                    135.51989905197723,
                    135.11921474099265,
                    134.89237579348645,
                    134.83625649321414,
                    134.94826536367847,
                    135.22630901804763,
                    135.66876036911088,
                    136.2744268613991,
                    136.9378017109006,
                    137.55303562878072,
                    138.11878240249123,
                    138.63378128732882,
                    139.09685880307177,
                    139.50693391348054,
                    139.8630208874502,
                    140.04106324493816,
                    140.07383913625978,
                    139.75243904976406,
                    139.06804249370344,
                    138.02970017376373,
                    136.64923259128648,
                    134.940999181726,
                    133.3155704975144,
                    132.1594298094657,
                    131.45612492135962,
                    131.1936628871473,
                    131.36420833595525,
                    131.9638363456693,
                    132.99233708436194,
                    134.16588876997858,
                    135.1964881096149,
                    136.0807798649089,
                    136.8160220335561,
                    137.4000929697498,
                    137.83150830628583,
                    138.10942735962672,
                    138.35763751942292,
                    138.6990230593716,
                    139.13192972969762,
                    139.65477401358274,
                    140.26602743312927,
                    140.96420172854744,
                    141.74783278854642,
                    142.61546888896783,
                    143.56564678559485,
                    144.59687937944705,
                    145.70764252370876,
                    146.89635411977062,
                    148.16135843380314,
                    149.50090853139494,
                    150.91314906887774,
                    152.39609858752212,
                    153.94763186748818,
                    155.56546256536984,
                    157.24712570528726,
                    158.98996020190378,
                    160.7910905549542,
                    162.64741285698491,
                    164.55557872564123,
                    166.5119786546685,
                    168.5554683498244,
                    171.12201002788336,
                    173.74910640789864,
                    177.0626245334854,
                    181.24060566490726,
                    186.15551594380761,
                    191.5855445232603,
                    197.1688869453661,
                    204.3940706733647,
                    212.0605203030943,
                    219.96767066902697,
                    228.1007251991505,
                    236.44139367217412,
                    244.96765318625296,
                    253.65353888327047,
                    262.4689792735781,
                    271.3796981783195,
                    280.34717752044753,
                    289.32870793168905,
                    298.27753844957414,
                    307.1431203911305,
                    315.87147061629815,
                    324.40565084256053,
                    332.6863577081255,
                    340.65263278874085,
                    348.2426688838274,
                    355.3947125786962,
                    362.0480336368322,
                    368.1439379373181
                  ]
                },
                {
                  "line": {
                    "dash": "dot",
                    "width": 2
                  },
                  "mode": "lines",
                  "name": "Lower prediction interval",
                  "type": "scatter",
                  "x": [
                    "2020-03-01T00:00:00",
                    "2020-03-02T00:00:00",
                    "2020-03-03T00:00:00",
                    "2020-03-04T00:00:00",
                    "2020-03-05T00:00:00",
                    "2020-03-06T00:00:00",
                    "2020-03-07T00:00:00",
                    "2020-03-08T00:00:00",
                    "2020-03-09T00:00:00",
                    "2020-03-10T00:00:00",
                    "2020-03-11T00:00:00",
                    "2020-03-12T00:00:00",
                    "2020-03-13T00:00:00",
                    "2020-03-14T00:00:00",
                    "2020-03-15T00:00:00",
                    "2020-03-16T00:00:00",
                    "2020-03-17T00:00:00",
                    "2020-03-18T00:00:00",
                    "2020-03-19T00:00:00",
                    "2020-03-20T00:00:00",
                    "2020-03-21T00:00:00",
                    "2020-03-22T00:00:00",
                    "2020-03-23T00:00:00",
                    "2020-03-24T00:00:00",
                    "2020-03-25T00:00:00",
                    "2020-03-26T00:00:00",
                    "2020-03-27T00:00:00",
                    "2020-03-28T00:00:00",
                    "2020-03-29T00:00:00",
                    "2020-03-30T00:00:00",
                    "2020-03-31T00:00:00",
                    "2020-04-01T00:00:00",
                    "2020-04-02T00:00:00",
                    "2020-04-03T00:00:00",
                    "2020-04-04T00:00:00",
                    "2020-04-05T00:00:00",
                    "2020-04-06T00:00:00",
                    "2020-04-07T00:00:00",
                    "2020-04-08T00:00:00",
                    "2020-04-09T00:00:00",
                    "2020-04-10T00:00:00",
                    "2020-04-11T00:00:00",
                    "2020-04-12T00:00:00",
                    "2020-04-13T00:00:00",
                    "2020-04-14T00:00:00",
                    "2020-04-15T00:00:00",
                    "2020-04-16T00:00:00",
                    "2020-04-17T00:00:00",
                    "2020-04-18T00:00:00",
                    "2020-04-19T00:00:00",
                    "2020-04-20T00:00:00",
                    "2020-04-21T00:00:00",
                    "2020-04-22T00:00:00",
                    "2020-04-23T00:00:00",
                    "2020-04-24T00:00:00",
                    "2020-04-25T00:00:00",
                    "2020-04-26T00:00:00",
                    "2020-04-27T00:00:00",
                    "2020-04-28T00:00:00",
                    "2020-04-29T00:00:00",
                    "2020-04-30T00:00:00",
                    "2020-05-01T00:00:00",
                    "2020-05-02T00:00:00",
                    "2020-05-03T00:00:00",
                    "2020-05-04T00:00:00",
                    "2020-05-05T00:00:00",
                    "2020-05-06T00:00:00",
                    "2020-05-07T00:00:00",
                    "2020-05-08T00:00:00",
                    "2020-05-09T00:00:00",
                    "2020-05-10T00:00:00",
                    "2020-05-11T00:00:00",
                    "2020-05-12T00:00:00",
                    "2020-05-13T00:00:00",
                    "2020-05-14T00:00:00",
                    "2020-05-15T00:00:00",
                    "2020-05-16T00:00:00",
                    "2020-05-17T00:00:00",
                    "2020-05-18T00:00:00",
                    "2020-05-19T00:00:00",
                    "2020-05-20T00:00:00",
                    "2020-05-21T00:00:00",
                    "2020-05-22T00:00:00",
                    "2020-05-23T00:00:00",
                    "2020-05-24T00:00:00",
                    "2020-05-25T00:00:00",
                    "2020-05-26T00:00:00",
                    "2020-05-27T00:00:00",
                    "2020-05-28T00:00:00",
                    "2020-05-29T00:00:00",
                    "2020-05-30T00:00:00",
                    "2020-05-31T00:00:00",
                    "2020-06-01T00:00:00",
                    "2020-06-02T00:00:00",
                    "2020-06-03T00:00:00",
                    "2020-06-04T00:00:00",
                    "2020-06-05T00:00:00",
                    "2020-06-06T00:00:00",
                    "2020-06-07T00:00:00",
                    "2020-06-08T00:00:00",
                    "2020-06-09T00:00:00",
                    "2020-06-10T00:00:00",
                    "2020-06-11T00:00:00",
                    "2020-06-12T00:00:00",
                    "2020-06-13T00:00:00",
                    "2020-06-14T00:00:00",
                    "2020-06-15T00:00:00",
                    "2020-06-16T00:00:00",
                    "2020-06-17T00:00:00",
                    "2020-06-18T00:00:00",
                    "2020-06-19T00:00:00",
                    "2020-06-20T00:00:00",
                    "2020-06-21T00:00:00",
                    "2020-06-22T00:00:00",
                    "2020-06-23T00:00:00",
                    "2020-06-24T00:00:00",
                    "2020-06-25T00:00:00",
                    "2020-06-26T00:00:00",
                    "2020-06-27T00:00:00",
                    "2020-06-28T00:00:00",
                    "2020-06-29T00:00:00",
                    "2020-06-30T00:00:00",
                    "2020-07-01T00:00:00",
                    "2020-07-02T00:00:00",
                    "2020-07-03T00:00:00",
                    "2020-07-04T00:00:00",
                    "2020-07-05T00:00:00",
                    "2020-07-06T00:00:00",
                    "2020-07-07T00:00:00",
                    "2020-07-08T00:00:00",
                    "2020-07-09T00:00:00",
                    "2020-07-10T00:00:00",
                    "2020-07-11T00:00:00",
                    "2020-07-12T00:00:00",
                    "2020-07-13T00:00:00",
                    "2020-07-14T00:00:00",
                    "2020-07-15T00:00:00",
                    "2020-07-16T00:00:00",
                    "2020-07-17T00:00:00",
                    "2020-07-18T00:00:00",
                    "2020-07-19T00:00:00",
                    "2020-07-20T00:00:00",
                    "2020-07-21T00:00:00",
                    "2020-07-22T00:00:00",
                    "2020-07-23T00:00:00",
                    "2020-07-24T00:00:00",
                    "2020-07-25T00:00:00",
                    "2020-07-26T00:00:00",
                    "2020-07-27T00:00:00",
                    "2020-07-28T00:00:00",
                    "2020-07-29T00:00:00",
                    "2020-07-30T00:00:00",
                    "2020-07-31T00:00:00",
                    "2020-08-01T00:00:00",
                    "2020-08-02T00:00:00",
                    "2020-08-03T00:00:00",
                    "2020-08-04T00:00:00",
                    "2020-08-05T00:00:00",
                    "2020-08-06T00:00:00",
                    "2020-08-07T00:00:00",
                    "2020-08-08T00:00:00",
                    "2020-08-09T00:00:00",
                    "2020-08-10T00:00:00",
                    "2020-08-11T00:00:00",
                    "2020-08-12T00:00:00",
                    "2020-08-13T00:00:00",
                    "2020-08-14T00:00:00",
                    "2020-08-15T00:00:00",
                    "2020-08-16T00:00:00",
                    "2020-08-17T00:00:00",
                    "2020-08-18T00:00:00",
                    "2020-08-19T00:00:00",
                    "2020-08-20T00:00:00"
                  ],
                  "y": [
                    0,
                    0,
                    0,
                    0,
                    0,
                    0,
                    0,
                    0,
                    0,
                    0,
                    0,
                    0,
                    0,
                    0,
                    0,
                    0,
                    0,
                    0,
                    0,
                    0,
                    0,
                    0,
                    0,
                    0,
                    0,
                    0,
                    0,
                    0,
                    0,
                    0,
                    0,
                    0,
                    0,
                    0,
                    0,
                    0,
                    0,
                    0,
                    0,
                    0,
                    0,
                    0,
                    0,
                    0,
                    0,
                    0,
                    0,
                    0,
                    0,
                    0,
                    0,
                    0,
                    4.48379314696019,
                    0,
                    9.97347167069269,
                    0,
                    0,
                    14.488957691492367,
                    15.131056585522417,
                    0,
                    4.15982554012085,
                    9.346327206256348,
                    0,
                    8.252331607121036,
                    0,
                    0,
                    0,
                    7.635587298932731,
                    0,
                    0,
                    0,
                    0,
                    0,
                    0,
                    0,
                    0,
                    0,
                    0,
                    0,
                    0,
                    0,
                    0,
                    3.241021661404419,
                    0,
                    0,
                    0,
                    0,
                    0,
                    0,
                    0,
                    0,
                    0,
                    0,
                    0,
                    0.6561155223905576,
                    0,
                    0,
                    0,
                    0,
                    0,
                    0,
                    0,
                    0,
                    0,
                    0,
                    0,
                    0,
                    0,
                    0,
                    0,
                    0,
                    0,
                    0,
                    0,
                    0,
                    0,
                    0,
                    0,
                    0,
                    0,
                    0,
                    0,
                    0,
                    0,
                    0,
                    0,
                    0,
                    5.382834004862767,
                    0,
                    7.358326851225455,
                    0,
                    3.2308903687798534,
                    3.986123290588124,
                    9.928701391528135,
                    0,
                    3.215935409247795,
                    0,
                    12.253916955848661,
                    30.232969716774488,
                    27.17355762935,
                    31.54605216240564,
                    37.91989689713289,
                    17.939141001940225,
                    35.80127716635892,
                    26.56354614158509,
                    27.119810171320538,
                    53.936596662283165,
                    63.348770115582,
                    46.831244397919896,
                    48.54205789036982,
                    64.90726751622104,
                    48.96036100648685,
                    80.45250566060417,
                    90.0042889803798,
                    90.63793605955418,
                    104.8057232902949,
                    88.09707022566049,
                    98.43824354136292,
                    104.91472560188876,
                    89.82644759753137,
                    100.60431544885058,
                    118.88194020633333,
                    111.03408980365312,
                    124.33807385466064,
                    99.9879187776018,
                    130.0822382395875,
                    136.462384122712,
                    130.15723252819598,
                    99.62657055625931,
                    109.1894790917324,
                    138.18409277045825,
                    129.4308139309049,
                    122.50770822181819
                  ]
                },
                {
                  "line": {
                    "dash": "dot",
                    "width": 2
                  },
                  "mode": "lines",
                  "name": "Upper prediction interval",
                  "type": "scatter",
                  "x": [
                    "2020-03-01T00:00:00",
                    "2020-03-02T00:00:00",
                    "2020-03-03T00:00:00",
                    "2020-03-04T00:00:00",
                    "2020-03-05T00:00:00",
                    "2020-03-06T00:00:00",
                    "2020-03-07T00:00:00",
                    "2020-03-08T00:00:00",
                    "2020-03-09T00:00:00",
                    "2020-03-10T00:00:00",
                    "2020-03-11T00:00:00",
                    "2020-03-12T00:00:00",
                    "2020-03-13T00:00:00",
                    "2020-03-14T00:00:00",
                    "2020-03-15T00:00:00",
                    "2020-03-16T00:00:00",
                    "2020-03-17T00:00:00",
                    "2020-03-18T00:00:00",
                    "2020-03-19T00:00:00",
                    "2020-03-20T00:00:00",
                    "2020-03-21T00:00:00",
                    "2020-03-22T00:00:00",
                    "2020-03-23T00:00:00",
                    "2020-03-24T00:00:00",
                    "2020-03-25T00:00:00",
                    "2020-03-26T00:00:00",
                    "2020-03-27T00:00:00",
                    "2020-03-28T00:00:00",
                    "2020-03-29T00:00:00",
                    "2020-03-30T00:00:00",
                    "2020-03-31T00:00:00",
                    "2020-04-01T00:00:00",
                    "2020-04-02T00:00:00",
                    "2020-04-03T00:00:00",
                    "2020-04-04T00:00:00",
                    "2020-04-05T00:00:00",
                    "2020-04-06T00:00:00",
                    "2020-04-07T00:00:00",
                    "2020-04-08T00:00:00",
                    "2020-04-09T00:00:00",
                    "2020-04-10T00:00:00",
                    "2020-04-11T00:00:00",
                    "2020-04-12T00:00:00",
                    "2020-04-13T00:00:00",
                    "2020-04-14T00:00:00",
                    "2020-04-15T00:00:00",
                    "2020-04-16T00:00:00",
                    "2020-04-17T00:00:00",
                    "2020-04-18T00:00:00",
                    "2020-04-19T00:00:00",
                    "2020-04-20T00:00:00",
                    "2020-04-21T00:00:00",
                    "2020-04-22T00:00:00",
                    "2020-04-23T00:00:00",
                    "2020-04-24T00:00:00",
                    "2020-04-25T00:00:00",
                    "2020-04-26T00:00:00",
                    "2020-04-27T00:00:00",
                    "2020-04-28T00:00:00",
                    "2020-04-29T00:00:00",
                    "2020-04-30T00:00:00",
                    "2020-05-01T00:00:00",
                    "2020-05-02T00:00:00",
                    "2020-05-03T00:00:00",
                    "2020-05-04T00:00:00",
                    "2020-05-05T00:00:00",
                    "2020-05-06T00:00:00",
                    "2020-05-07T00:00:00",
                    "2020-05-08T00:00:00",
                    "2020-05-09T00:00:00",
                    "2020-05-10T00:00:00",
                    "2020-05-11T00:00:00",
                    "2020-05-12T00:00:00",
                    "2020-05-13T00:00:00",
                    "2020-05-14T00:00:00",
                    "2020-05-15T00:00:00",
                    "2020-05-16T00:00:00",
                    "2020-05-17T00:00:00",
                    "2020-05-18T00:00:00",
                    "2020-05-19T00:00:00",
                    "2020-05-20T00:00:00",
                    "2020-05-21T00:00:00",
                    "2020-05-22T00:00:00",
                    "2020-05-23T00:00:00",
                    "2020-05-24T00:00:00",
                    "2020-05-25T00:00:00",
                    "2020-05-26T00:00:00",
                    "2020-05-27T00:00:00",
                    "2020-05-28T00:00:00",
                    "2020-05-29T00:00:00",
                    "2020-05-30T00:00:00",
                    "2020-05-31T00:00:00",
                    "2020-06-01T00:00:00",
                    "2020-06-02T00:00:00",
                    "2020-06-03T00:00:00",
                    "2020-06-04T00:00:00",
                    "2020-06-05T00:00:00",
                    "2020-06-06T00:00:00",
                    "2020-06-07T00:00:00",
                    "2020-06-08T00:00:00",
                    "2020-06-09T00:00:00",
                    "2020-06-10T00:00:00",
                    "2020-06-11T00:00:00",
                    "2020-06-12T00:00:00",
                    "2020-06-13T00:00:00",
                    "2020-06-14T00:00:00",
                    "2020-06-15T00:00:00",
                    "2020-06-16T00:00:00",
                    "2020-06-17T00:00:00",
                    "2020-06-18T00:00:00",
                    "2020-06-19T00:00:00",
                    "2020-06-20T00:00:00",
                    "2020-06-21T00:00:00",
                    "2020-06-22T00:00:00",
                    "2020-06-23T00:00:00",
                    "2020-06-24T00:00:00",
                    "2020-06-25T00:00:00",
                    "2020-06-26T00:00:00",
                    "2020-06-27T00:00:00",
                    "2020-06-28T00:00:00",
                    "2020-06-29T00:00:00",
                    "2020-06-30T00:00:00",
                    "2020-07-01T00:00:00",
                    "2020-07-02T00:00:00",
                    "2020-07-03T00:00:00",
                    "2020-07-04T00:00:00",
                    "2020-07-05T00:00:00",
                    "2020-07-06T00:00:00",
                    "2020-07-07T00:00:00",
                    "2020-07-08T00:00:00",
                    "2020-07-09T00:00:00",
                    "2020-07-10T00:00:00",
                    "2020-07-11T00:00:00",
                    "2020-07-12T00:00:00",
                    "2020-07-13T00:00:00",
                    "2020-07-14T00:00:00",
                    "2020-07-15T00:00:00",
                    "2020-07-16T00:00:00",
                    "2020-07-17T00:00:00",
                    "2020-07-18T00:00:00",
                    "2020-07-19T00:00:00",
                    "2020-07-20T00:00:00",
                    "2020-07-21T00:00:00",
                    "2020-07-22T00:00:00",
                    "2020-07-23T00:00:00",
                    "2020-07-24T00:00:00",
                    "2020-07-25T00:00:00",
                    "2020-07-26T00:00:00",
                    "2020-07-27T00:00:00",
                    "2020-07-28T00:00:00",
                    "2020-07-29T00:00:00",
                    "2020-07-30T00:00:00",
                    "2020-07-31T00:00:00",
                    "2020-08-01T00:00:00",
                    "2020-08-02T00:00:00",
                    "2020-08-03T00:00:00",
                    "2020-08-04T00:00:00",
                    "2020-08-05T00:00:00",
                    "2020-08-06T00:00:00",
                    "2020-08-07T00:00:00",
                    "2020-08-08T00:00:00",
                    "2020-08-09T00:00:00",
                    "2020-08-10T00:00:00",
                    "2020-08-11T00:00:00",
                    "2020-08-12T00:00:00",
                    "2020-08-13T00:00:00",
                    "2020-08-14T00:00:00",
                    "2020-08-15T00:00:00",
                    "2020-08-16T00:00:00",
                    "2020-08-17T00:00:00",
                    "2020-08-18T00:00:00",
                    "2020-08-19T00:00:00",
                    "2020-08-20T00:00:00"
                  ],
                  "y": [
                    117.50040969075376,
                    113.74247411933327,
                    121.9357124070673,
                    116.5027033412642,
                    109.37783484038485,
                    101.90531525455846,
                    117.84112630356172,
                    122.1838659133708,
                    114.66846390126136,
                    124.79427213842601,
                    116.80429696701819,
                    120.37532577202677,
                    122.60331894151459,
                    91.31704677391143,
                    97.51406571602713,
                    118.29820379863035,
                    118.65455863706616,
                    102.313723597003,
                    124.65529511685543,
                    122.46389459791763,
                    113.22866991221557,
                    104.86075497243894,
                    118.1128503144492,
                    113.04400208765759,
                    119.16000481053608,
                    110.40406475102468,
                    121.36108507485119,
                    118.56528427825783,
                    147.36721244211125,
                    110.02394129850741,
                    113.81029479145631,
                    144.42649164510829,
                    149.91678883668334,
                    117.7896483213465,
                    125.84309660879647,
                    147.04735730973704,
                    155.71510026740353,
                    166.11394828633942,
                    175.06327930132412,
                    183.25813897634103,
                    183.62311165420812,
                    181.61463465706538,
                    210.43080277029102,
                    197.61741386398424,
                    205.48591246469178,
                    199.40490641922588,
                    220.71942769138263,
                    242.78672573971443,
                    206.17636606935704,
                    208.20073378903524,
                    215.75925031976058,
                    209.4565834799454,
                    215.8544445140248,
                    213.55037557427116,
                    236.84246312732654,
                    252.8847498156212,
                    236.7262702822121,
                    224.86193754487974,
                    226.89882574516025,
                    249.48466432228338,
                    255.3331361470422,
                    238.39548889170283,
                    242.99281683897289,
                    224.35508041953676,
                    217.59483324610773,
                    237.67362660168087,
                    231.71675680047207,
                    227.17563419104283,
                    212.5663848237949,
                    223.40412477873642,
                    247.2308225941962,
                    211.38225175963413,
                    229.04331285563066,
                    228.58268041812607,
                    245.3515344143192,
                    218.64691780982508,
                    216.3535364142625,
                    224.45356805783283,
                    241.57342896771672,
                    218.6138403385272,
                    226.06114137723432,
                    255.8667706942815,
                    232.84607279488023,
                    235.30264042256758,
                    235.8890454697457,
                    244.87411506719147,
                    218.746831227164,
                    229.858566353837,
                    239.16847262341142,
                    224.36627938885042,
                    239.75566157217347,
                    238.0138349514716,
                    229.96518442150895,
                    229.32145644838658,
                    219.85114852567656,
                    204.52481498610248,
                    213.923559175198,
                    241.2909367669888,
                    233.14507915923946,
                    231.46803492254307,
                    207.68594013194547,
                    226.20124472860203,
                    237.2221099158445,
                    235.34290191123046,
                    217.09459237090556,
                    205.25073194261006,
                    214.0404053930468,
                    223.49102381819233,
                    202.5117270932766,
                    210.80146760799522,
                    205.8152779391143,
                    208.96845867204996,
                    232.68883030428947,
                    238.9760729083634,
                    231.75900199113013,
                    230.06885325106143,
                    218.31537240798082,
                    218.89715913383438,
                    219.802190916058,
                    220.1765610516764,
                    216.03956352167987,
                    225.21445254386032,
                    237.0772778096533,
                    215.01105248252225,
                    237.3007690702475,
                    227.4762890197793,
                    220.52138638475978,
                    215.49392776726418,
                    231.6764164643225,
                    231.108975282116,
                    229.46953171267543,
                    245.17341432309752,
                    226.98012586751392,
                    255.66122349896818,
                    223.4949605863991,
                    239.80955661143392,
                    258.6989449526441,
                    254.29152125754362,
                    263.74591092131874,
                    257.696506467904,
                    255.21370786917754,
                    252.78812740448402,
                    259.91618064683166,
                    268.56934343810775,
                    270.8166597203625,
                    289.55101950496515,
                    292.86489361893825,
                    284.8030363759957,
                    286.2879441093807,
                    288.1898842231164,
                    290.3631542605067,
                    310.7772699197574,
                    315.52629612391524,
                    316.81319114986087,
                    304.83966681849506,
                    326.82158818837104,
                    323.6313957183495,
                    355.9541134004701,
                    350.41168487556666,
                    347.76684458569514,
                    377.0519542856516,
                    381.33330269738053,
                    387.4340668420135,
                    405.3637034961696,
                    396.29314294080285,
                    397.8645131502703,
                    411.3437160755287,
                    421.6818511398507,
                    419.25003382946545,
                    422.284506481666,
                    450.7057695204115,
                    437.2988716625745,
                    450.6730688033128
                  ]
                }
              ],
              "layout": {
                "annotations": [
                  {
                    "bordercolor": "black",
                    "showarrow": false,
                    "text": "RMSE: 120",
                    "x": "2020-03-01T00:00:00",
                    "xshift": 48,
                    "y": 0,
                    "yshift": 270
                  }
                ],
                "autosize": false,
                "font": {
                  "color": "RebeccaPurple",
                  "family": "Courier New, monospace",
                  "size": 14
                },
                "template": {
                  "data": {
                    "bar": [
                      {
                        "error_x": {
                          "color": "#2a3f5f"
                        },
                        "error_y": {
                          "color": "#2a3f5f"
                        },
                        "marker": {
                          "line": {
                            "color": "#E5ECF6",
                            "width": 0.5
                          },
                          "pattern": {
                            "fillmode": "overlay",
                            "size": 10,
                            "solidity": 0.2
                          }
                        },
                        "type": "bar"
                      }
                    ],
                    "barpolar": [
                      {
                        "marker": {
                          "line": {
                            "color": "#E5ECF6",
                            "width": 0.5
                          },
                          "pattern": {
                            "fillmode": "overlay",
                            "size": 10,
                            "solidity": 0.2
                          }
                        },
                        "type": "barpolar"
                      }
                    ],
                    "carpet": [
                      {
                        "aaxis": {
                          "endlinecolor": "#2a3f5f",
                          "gridcolor": "white",
                          "linecolor": "white",
                          "minorgridcolor": "white",
                          "startlinecolor": "#2a3f5f"
                        },
                        "baxis": {
                          "endlinecolor": "#2a3f5f",
                          "gridcolor": "white",
                          "linecolor": "white",
                          "minorgridcolor": "white",
                          "startlinecolor": "#2a3f5f"
                        },
                        "type": "carpet"
                      }
                    ],
                    "choropleth": [
                      {
                        "colorbar": {
                          "outlinewidth": 0,
                          "ticks": ""
                        },
                        "type": "choropleth"
                      }
                    ],
                    "contour": [
                      {
                        "colorbar": {
                          "outlinewidth": 0,
                          "ticks": ""
                        },
                        "colorscale": [
                          [
                            0,
                            "#0d0887"
                          ],
                          [
                            0.1111111111111111,
                            "#46039f"
                          ],
                          [
                            0.2222222222222222,
                            "#7201a8"
                          ],
                          [
                            0.3333333333333333,
                            "#9c179e"
                          ],
                          [
                            0.4444444444444444,
                            "#bd3786"
                          ],
                          [
                            0.5555555555555556,
                            "#d8576b"
                          ],
                          [
                            0.6666666666666666,
                            "#ed7953"
                          ],
                          [
                            0.7777777777777778,
                            "#fb9f3a"
                          ],
                          [
                            0.8888888888888888,
                            "#fdca26"
                          ],
                          [
                            1,
                            "#f0f921"
                          ]
                        ],
                        "type": "contour"
                      }
                    ],
                    "contourcarpet": [
                      {
                        "colorbar": {
                          "outlinewidth": 0,
                          "ticks": ""
                        },
                        "type": "contourcarpet"
                      }
                    ],
                    "heatmap": [
                      {
                        "colorbar": {
                          "outlinewidth": 0,
                          "ticks": ""
                        },
                        "colorscale": [
                          [
                            0,
                            "#0d0887"
                          ],
                          [
                            0.1111111111111111,
                            "#46039f"
                          ],
                          [
                            0.2222222222222222,
                            "#7201a8"
                          ],
                          [
                            0.3333333333333333,
                            "#9c179e"
                          ],
                          [
                            0.4444444444444444,
                            "#bd3786"
                          ],
                          [
                            0.5555555555555556,
                            "#d8576b"
                          ],
                          [
                            0.6666666666666666,
                            "#ed7953"
                          ],
                          [
                            0.7777777777777778,
                            "#fb9f3a"
                          ],
                          [
                            0.8888888888888888,
                            "#fdca26"
                          ],
                          [
                            1,
                            "#f0f921"
                          ]
                        ],
                        "type": "heatmap"
                      }
                    ],
                    "heatmapgl": [
                      {
                        "colorbar": {
                          "outlinewidth": 0,
                          "ticks": ""
                        },
                        "colorscale": [
                          [
                            0,
                            "#0d0887"
                          ],
                          [
                            0.1111111111111111,
                            "#46039f"
                          ],
                          [
                            0.2222222222222222,
                            "#7201a8"
                          ],
                          [
                            0.3333333333333333,
                            "#9c179e"
                          ],
                          [
                            0.4444444444444444,
                            "#bd3786"
                          ],
                          [
                            0.5555555555555556,
                            "#d8576b"
                          ],
                          [
                            0.6666666666666666,
                            "#ed7953"
                          ],
                          [
                            0.7777777777777778,
                            "#fb9f3a"
                          ],
                          [
                            0.8888888888888888,
                            "#fdca26"
                          ],
                          [
                            1,
                            "#f0f921"
                          ]
                        ],
                        "type": "heatmapgl"
                      }
                    ],
                    "histogram": [
                      {
                        "marker": {
                          "pattern": {
                            "fillmode": "overlay",
                            "size": 10,
                            "solidity": 0.2
                          }
                        },
                        "type": "histogram"
                      }
                    ],
                    "histogram2d": [
                      {
                        "colorbar": {
                          "outlinewidth": 0,
                          "ticks": ""
                        },
                        "colorscale": [
                          [
                            0,
                            "#0d0887"
                          ],
                          [
                            0.1111111111111111,
                            "#46039f"
                          ],
                          [
                            0.2222222222222222,
                            "#7201a8"
                          ],
                          [
                            0.3333333333333333,
                            "#9c179e"
                          ],
                          [
                            0.4444444444444444,
                            "#bd3786"
                          ],
                          [
                            0.5555555555555556,
                            "#d8576b"
                          ],
                          [
                            0.6666666666666666,
                            "#ed7953"
                          ],
                          [
                            0.7777777777777778,
                            "#fb9f3a"
                          ],
                          [
                            0.8888888888888888,
                            "#fdca26"
                          ],
                          [
                            1,
                            "#f0f921"
                          ]
                        ],
                        "type": "histogram2d"
                      }
                    ],
                    "histogram2dcontour": [
                      {
                        "colorbar": {
                          "outlinewidth": 0,
                          "ticks": ""
                        },
                        "colorscale": [
                          [
                            0,
                            "#0d0887"
                          ],
                          [
                            0.1111111111111111,
                            "#46039f"
                          ],
                          [
                            0.2222222222222222,
                            "#7201a8"
                          ],
                          [
                            0.3333333333333333,
                            "#9c179e"
                          ],
                          [
                            0.4444444444444444,
                            "#bd3786"
                          ],
                          [
                            0.5555555555555556,
                            "#d8576b"
                          ],
                          [
                            0.6666666666666666,
                            "#ed7953"
                          ],
                          [
                            0.7777777777777778,
                            "#fb9f3a"
                          ],
                          [
                            0.8888888888888888,
                            "#fdca26"
                          ],
                          [
                            1,
                            "#f0f921"
                          ]
                        ],
                        "type": "histogram2dcontour"
                      }
                    ],
                    "mesh3d": [
                      {
                        "colorbar": {
                          "outlinewidth": 0,
                          "ticks": ""
                        },
                        "type": "mesh3d"
                      }
                    ],
                    "parcoords": [
                      {
                        "line": {
                          "colorbar": {
                            "outlinewidth": 0,
                            "ticks": ""
                          }
                        },
                        "type": "parcoords"
                      }
                    ],
                    "pie": [
                      {
                        "automargin": true,
                        "type": "pie"
                      }
                    ],
                    "scatter": [
                      {
                        "marker": {
                          "colorbar": {
                            "outlinewidth": 0,
                            "ticks": ""
                          }
                        },
                        "type": "scatter"
                      }
                    ],
                    "scatter3d": [
                      {
                        "line": {
                          "colorbar": {
                            "outlinewidth": 0,
                            "ticks": ""
                          }
                        },
                        "marker": {
                          "colorbar": {
                            "outlinewidth": 0,
                            "ticks": ""
                          }
                        },
                        "type": "scatter3d"
                      }
                    ],
                    "scattercarpet": [
                      {
                        "marker": {
                          "colorbar": {
                            "outlinewidth": 0,
                            "ticks": ""
                          }
                        },
                        "type": "scattercarpet"
                      }
                    ],
                    "scattergeo": [
                      {
                        "marker": {
                          "colorbar": {
                            "outlinewidth": 0,
                            "ticks": ""
                          }
                        },
                        "type": "scattergeo"
                      }
                    ],
                    "scattergl": [
                      {
                        "marker": {
                          "colorbar": {
                            "outlinewidth": 0,
                            "ticks": ""
                          }
                        },
                        "type": "scattergl"
                      }
                    ],
                    "scattermapbox": [
                      {
                        "marker": {
                          "colorbar": {
                            "outlinewidth": 0,
                            "ticks": ""
                          }
                        },
                        "type": "scattermapbox"
                      }
                    ],
                    "scatterpolar": [
                      {
                        "marker": {
                          "colorbar": {
                            "outlinewidth": 0,
                            "ticks": ""
                          }
                        },
                        "type": "scatterpolar"
                      }
                    ],
                    "scatterpolargl": [
                      {
                        "marker": {
                          "colorbar": {
                            "outlinewidth": 0,
                            "ticks": ""
                          }
                        },
                        "type": "scatterpolargl"
                      }
                    ],
                    "scatterternary": [
                      {
                        "marker": {
                          "colorbar": {
                            "outlinewidth": 0,
                            "ticks": ""
                          }
                        },
                        "type": "scatterternary"
                      }
                    ],
                    "surface": [
                      {
                        "colorbar": {
                          "outlinewidth": 0,
                          "ticks": ""
                        },
                        "colorscale": [
                          [
                            0,
                            "#0d0887"
                          ],
                          [
                            0.1111111111111111,
                            "#46039f"
                          ],
                          [
                            0.2222222222222222,
                            "#7201a8"
                          ],
                          [
                            0.3333333333333333,
                            "#9c179e"
                          ],
                          [
                            0.4444444444444444,
                            "#bd3786"
                          ],
                          [
                            0.5555555555555556,
                            "#d8576b"
                          ],
                          [
                            0.6666666666666666,
                            "#ed7953"
                          ],
                          [
                            0.7777777777777778,
                            "#fb9f3a"
                          ],
                          [
                            0.8888888888888888,
                            "#fdca26"
                          ],
                          [
                            1,
                            "#f0f921"
                          ]
                        ],
                        "type": "surface"
                      }
                    ],
                    "table": [
                      {
                        "cells": {
                          "fill": {
                            "color": "#EBF0F8"
                          },
                          "line": {
                            "color": "white"
                          }
                        },
                        "header": {
                          "fill": {
                            "color": "#C8D4E3"
                          },
                          "line": {
                            "color": "white"
                          }
                        },
                        "type": "table"
                      }
                    ]
                  },
                  "layout": {
                    "annotationdefaults": {
                      "arrowcolor": "#2a3f5f",
                      "arrowhead": 0,
                      "arrowwidth": 1
                    },
                    "autotypenumbers": "strict",
                    "coloraxis": {
                      "colorbar": {
                        "outlinewidth": 0,
                        "ticks": ""
                      }
                    },
                    "colorscale": {
                      "diverging": [
                        [
                          0,
                          "#8e0152"
                        ],
                        [
                          0.1,
                          "#c51b7d"
                        ],
                        [
                          0.2,
                          "#de77ae"
                        ],
                        [
                          0.3,
                          "#f1b6da"
                        ],
                        [
                          0.4,
                          "#fde0ef"
                        ],
                        [
                          0.5,
                          "#f7f7f7"
                        ],
                        [
                          0.6,
                          "#e6f5d0"
                        ],
                        [
                          0.7,
                          "#b8e186"
                        ],
                        [
                          0.8,
                          "#7fbc41"
                        ],
                        [
                          0.9,
                          "#4d9221"
                        ],
                        [
                          1,
                          "#276419"
                        ]
                      ],
                      "sequential": [
                        [
                          0,
                          "#0d0887"
                        ],
                        [
                          0.1111111111111111,
                          "#46039f"
                        ],
                        [
                          0.2222222222222222,
                          "#7201a8"
                        ],
                        [
                          0.3333333333333333,
                          "#9c179e"
                        ],
                        [
                          0.4444444444444444,
                          "#bd3786"
                        ],
                        [
                          0.5555555555555556,
                          "#d8576b"
                        ],
                        [
                          0.6666666666666666,
                          "#ed7953"
                        ],
                        [
                          0.7777777777777778,
                          "#fb9f3a"
                        ],
                        [
                          0.8888888888888888,
                          "#fdca26"
                        ],
                        [
                          1,
                          "#f0f921"
                        ]
                      ],
                      "sequentialminus": [
                        [
                          0,
                          "#0d0887"
                        ],
                        [
                          0.1111111111111111,
                          "#46039f"
                        ],
                        [
                          0.2222222222222222,
                          "#7201a8"
                        ],
                        [
                          0.3333333333333333,
                          "#9c179e"
                        ],
                        [
                          0.4444444444444444,
                          "#bd3786"
                        ],
                        [
                          0.5555555555555556,
                          "#d8576b"
                        ],
                        [
                          0.6666666666666666,
                          "#ed7953"
                        ],
                        [
                          0.7777777777777778,
                          "#fb9f3a"
                        ],
                        [
                          0.8888888888888888,
                          "#fdca26"
                        ],
                        [
                          1,
                          "#f0f921"
                        ]
                      ]
                    },
                    "colorway": [
                      "#636efa",
                      "#EF553B",
                      "#00cc96",
                      "#ab63fa",
                      "#FFA15A",
                      "#19d3f3",
                      "#FF6692",
                      "#B6E880",
                      "#FF97FF",
                      "#FECB52"
                    ],
                    "font": {
                      "color": "#2a3f5f"
                    },
                    "geo": {
                      "bgcolor": "white",
                      "lakecolor": "white",
                      "landcolor": "#E5ECF6",
                      "showlakes": true,
                      "showland": true,
                      "subunitcolor": "white"
                    },
                    "hoverlabel": {
                      "align": "left"
                    },
                    "hovermode": "closest",
                    "mapbox": {
                      "style": "light"
                    },
                    "paper_bgcolor": "white",
                    "plot_bgcolor": "#E5ECF6",
                    "polar": {
                      "angularaxis": {
                        "gridcolor": "white",
                        "linecolor": "white",
                        "ticks": ""
                      },
                      "bgcolor": "#E5ECF6",
                      "radialaxis": {
                        "gridcolor": "white",
                        "linecolor": "white",
                        "ticks": ""
                      }
                    },
                    "scene": {
                      "xaxis": {
                        "backgroundcolor": "#E5ECF6",
                        "gridcolor": "white",
                        "gridwidth": 2,
                        "linecolor": "white",
                        "showbackground": true,
                        "ticks": "",
                        "zerolinecolor": "white"
                      },
                      "yaxis": {
                        "backgroundcolor": "#E5ECF6",
                        "gridcolor": "white",
                        "gridwidth": 2,
                        "linecolor": "white",
                        "showbackground": true,
                        "ticks": "",
                        "zerolinecolor": "white"
                      },
                      "zaxis": {
                        "backgroundcolor": "#E5ECF6",
                        "gridcolor": "white",
                        "gridwidth": 2,
                        "linecolor": "white",
                        "showbackground": true,
                        "ticks": "",
                        "zerolinecolor": "white"
                      }
                    },
                    "shapedefaults": {
                      "line": {
                        "color": "#2a3f5f"
                      }
                    },
                    "ternary": {
                      "aaxis": {
                        "gridcolor": "white",
                        "linecolor": "white",
                        "ticks": ""
                      },
                      "baxis": {
                        "gridcolor": "white",
                        "linecolor": "white",
                        "ticks": ""
                      },
                      "bgcolor": "#E5ECF6",
                      "caxis": {
                        "gridcolor": "white",
                        "linecolor": "white",
                        "ticks": ""
                      }
                    },
                    "title": {
                      "x": 0.05
                    },
                    "xaxis": {
                      "automargin": true,
                      "gridcolor": "white",
                      "linecolor": "white",
                      "ticks": "",
                      "title": {
                        "standoff": 15
                      },
                      "zerolinecolor": "white",
                      "zerolinewidth": 2
                    },
                    "yaxis": {
                      "automargin": true,
                      "gridcolor": "white",
                      "linecolor": "white",
                      "ticks": "",
                      "title": {
                        "standoff": 15
                      },
                      "zerolinecolor": "white",
                      "zerolinewidth": 2
                    }
                  }
                },
                "title": {
                  "text": "Västtrafik mobility based SIR model"
                },
                "width": 1000,
                "xaxis": {
                  "range": [
                    "2020-03-01",
                    "2020-08-21T00:00:00"
                  ],
                  "title": {
                    "text": "Date"
                  }
                },
                "yaxis": {
                  "title": {
                    "text": "Admissions"
                  }
                }
              }
            }
          },
          "metadata": {},
          "output_type": "display_data"
        }
      ],
      "source": [
        "numBetas = 10 #number of betas used for normal dist for conf. intervalls\n",
        "numEpsilon = 20\n",
        "\n",
        "##################  Confidence intervall calculation\n",
        "confint = np.zeros([prediction_time,2]) #defines confidence intervall arrays\n",
        "\n",
        "\n",
        "# Generates an array of betas using normal dist.\n",
        "betas=np.random.multivariate_normal(popt,pcov,numBetas) \n",
        "values = np.zeros((prediction_time,numBetas))\n",
        "\n",
        "for beta in range(len(betas)): \n",
        "  values[:,beta] = (modelfunction(t,*betas[beta]))\n",
        "  \n",
        "for day in range(len(t)):\n",
        "  confint[day,0]=np.quantile(values[day,:],0.025)\n",
        "  confint[day,1]=np.quantile(values[day,:],0.975)\n",
        "  \n",
        "\n",
        "##################  Prediction intervall calculation\n",
        "#få med beta skattning i predictionsintervall, dvs generera beta och fel för varje dag \n",
        "\n",
        "std_residual = np.std(modelfunction(t_fittingdata,*popt)-dailyAdmissions[:fittingPoints], ddof=2) #calcuales standard deviation of residual between model and data\n",
        "predint = np.zeros([prediction_time,2])\n",
        "\n",
        "temp = []\n",
        "pred_matrix = np.zeros((prediction_time,(numBetas*numEpsilon)))\n",
        "for day in range(prediction_time): #loops trough model values each day a adds the error values generated from t-dist to each prediction \n",
        "  for beta in range(len(betas)):\n",
        "      temp =  np.add(modelfunction(t,*betas[beta])[day],tdist.rvs(prediction_time,0,std_residual,numEpsilon))\n",
        "      pred_matrix[day,(beta*numEpsilon):(beta*numEpsilon+numEpsilon)] = temp\n",
        "\n",
        "for day in range(prediction_time): #calculates the prediction intervals\n",
        "    predint[day,0] = np.quantile(pred_matrix[day],0.025)\n",
        "    predint[day,1] = np.quantile(pred_matrix[day],0.975)\n",
        "    \n",
        "predint = np.clip(predint,0,None) #removes all negative values from lover prediction interval\n",
        "\n",
        "fig = go.Figure() #Creates a plot using graph objects and then adds each graph to figure\n",
        "fig.add_trace(go.Scatter( #plots the fitting admission data points\n",
        "                    x=pd.Series(pd.date_range(\"2020-03-01\", freq=\"D\", periods=fittingPoints)), \n",
        "                    y=dailyAdmissions,\n",
        "                    mode='markers',\n",
        "                    name='Fitting admission points'))\n",
        "fig.add_trace(go.Scatter( #plots all the available admission data points\n",
        "                    x=pd.Series(pd.date_range(pd.to_datetime('2020-03-01')+timedelta(days=fittingPoints), freq=\"D\", periods=prediction_time-fittingPoints)),\n",
        "                    y=dailyAdmissions[fittingPoints:],\n",
        "                    mode='markers',\n",
        "                    marker=dict(\n",
        "                        color='firebrick',\n",
        "                    ),\n",
        "                    name='Admission data'))\n",
        "fig.add_trace(go.Scatter(\n",
        "                    x=pd.Series(pd.date_range(\"2020-03-01\", freq=\"D\", periods=prediction_time)), \n",
        "                    y=modelfunction(t,*popt),\n",
        "                    mode='lines',\n",
        "                    name='Predicted admissions'))\n",
        "fig.add_trace(go.Scatter(\n",
        "                    x=pd.Series(pd.date_range(\"2020-03-01\", freq=\"D\", periods=prediction_time)), \n",
        "                    y=confint[:,0],\n",
        "                    mode='lines',\n",
        "                    name='Lower confidence interval',\n",
        "                    line = dict( width=2, dash='dash')))\n",
        "fig.add_trace(go.Scatter(\n",
        "                    x=pd.Series(pd.date_range(\"2020-03-01\", freq=\"D\", periods=prediction_time)), \n",
        "                    y=confint[:,1],\n",
        "                    mode='lines',\n",
        "                    name='Upper confidence interval',\n",
        "                    line = dict(width=2, dash='dash')))\n",
        "fig.add_trace(go.Scatter(\n",
        "                    x=pd.Series(pd.date_range(\"2020-03-01\", freq=\"D\", periods=prediction_time)), \n",
        "                    y=predint[:,0],\n",
        "                    mode='lines',\n",
        "                    name='Lower prediction interval',\n",
        "                    line = dict(width=2, dash='dot')))\n",
        "fig.add_trace(go.Scatter(\n",
        "                    x=pd.Series(pd.date_range(\"2020-03-01\", freq=\"D\", periods=prediction_time)), \n",
        "                    y=predint[:,1],\n",
        "                    mode='lines',\n",
        "                    name='Upper prediction interval',\n",
        "                    line = dict(width=2, dash='dot')))\n",
        "fig.add_annotation(x=pd.to_datetime(\"2020-03-01\"),y=0, \n",
        "                   text=f\"RMSE: {math.floor(mean_squared_error(dailyAdmissions[:prediction_time],modelfunction(t,*popt), squared = False))}\",\n",
        "                   showarrow=False,\n",
        "                   bordercolor=\"black\",\n",
        "                   xshift=48,\n",
        "                   yshift=270\n",
        "                  )\n",
        "fig.update_layout(\n",
        "                    title='Västtrafik mobility based SIR model',\n",
        "                    xaxis_title='Date',\n",
        "                    yaxis_title='Admissions',\n",
        "                    autosize=False,\n",
        "                    width=1000,\n",
        "                    xaxis_range=[\"2020-03-01\",pd.to_datetime('2020-03-01')+timedelta(days=prediction_time)],\n",
        "                    \n",
        "                    font=dict(\n",
        "                      family=\"Courier New, monospace\",\n",
        "                      size=14,\n",
        "                      color=\"RebeccaPurple\"\n",
        "                    )\n",
        ")\n",
        "fig.show()"
      ]
    },
    {
      "cell_type": "markdown",
      "metadata": {},
      "source": [
        "Cell calcualtes the cumulative admissions and confidens/prediktion intervalls"
      ]
    },
    {
      "cell_type": "code",
      "execution_count": 106,
      "metadata": {},
      "outputs": [
        {
          "data": {
            "application/vnd.plotly.v1+json": {
              "config": {
                "plotlyServerURL": "https://plot.ly"
              },
              "data": [
                {
                  "mode": "markers",
                  "name": "Fitting admission points",
                  "type": "scatter",
                  "x": [
                    "2020-03-01T00:00:00",
                    "2020-03-02T00:00:00",
                    "2020-03-03T00:00:00",
                    "2020-03-04T00:00:00",
                    "2020-03-05T00:00:00",
                    "2020-03-06T00:00:00",
                    "2020-03-07T00:00:00",
                    "2020-03-08T00:00:00",
                    "2020-03-09T00:00:00",
                    "2020-03-10T00:00:00",
                    "2020-03-11T00:00:00",
                    "2020-03-12T00:00:00",
                    "2020-03-13T00:00:00",
                    "2020-03-14T00:00:00",
                    "2020-03-15T00:00:00",
                    "2020-03-16T00:00:00",
                    "2020-03-17T00:00:00",
                    "2020-03-18T00:00:00",
                    "2020-03-19T00:00:00",
                    "2020-03-20T00:00:00",
                    "2020-03-21T00:00:00",
                    "2020-03-22T00:00:00",
                    "2020-03-23T00:00:00",
                    "2020-03-24T00:00:00",
                    "2020-03-25T00:00:00",
                    "2020-03-26T00:00:00",
                    "2020-03-27T00:00:00",
                    "2020-03-28T00:00:00",
                    "2020-03-29T00:00:00",
                    "2020-03-30T00:00:00",
                    "2020-03-31T00:00:00",
                    "2020-04-01T00:00:00",
                    "2020-04-02T00:00:00",
                    "2020-04-03T00:00:00",
                    "2020-04-04T00:00:00",
                    "2020-04-05T00:00:00",
                    "2020-04-06T00:00:00",
                    "2020-04-07T00:00:00",
                    "2020-04-08T00:00:00",
                    "2020-04-09T00:00:00",
                    "2020-04-10T00:00:00",
                    "2020-04-11T00:00:00",
                    "2020-04-12T00:00:00",
                    "2020-04-13T00:00:00",
                    "2020-04-14T00:00:00",
                    "2020-04-15T00:00:00",
                    "2020-04-16T00:00:00",
                    "2020-04-17T00:00:00",
                    "2020-04-18T00:00:00",
                    "2020-04-19T00:00:00",
                    "2020-04-20T00:00:00",
                    "2020-04-21T00:00:00",
                    "2020-04-22T00:00:00",
                    "2020-04-23T00:00:00",
                    "2020-04-24T00:00:00",
                    "2020-04-25T00:00:00",
                    "2020-04-26T00:00:00",
                    "2020-04-27T00:00:00",
                    "2020-04-28T00:00:00",
                    "2020-04-29T00:00:00",
                    "2020-04-30T00:00:00",
                    "2020-05-01T00:00:00",
                    "2020-05-02T00:00:00",
                    "2020-05-03T00:00:00",
                    "2020-05-04T00:00:00",
                    "2020-05-05T00:00:00",
                    "2020-05-06T00:00:00",
                    "2020-05-07T00:00:00",
                    "2020-05-08T00:00:00",
                    "2020-05-09T00:00:00",
                    "2020-05-10T00:00:00",
                    "2020-05-11T00:00:00",
                    "2020-05-12T00:00:00",
                    "2020-05-13T00:00:00",
                    "2020-05-14T00:00:00",
                    "2020-05-15T00:00:00",
                    "2020-05-16T00:00:00",
                    "2020-05-17T00:00:00",
                    "2020-05-18T00:00:00",
                    "2020-05-19T00:00:00",
                    "2020-05-20T00:00:00",
                    "2020-05-21T00:00:00",
                    "2020-05-22T00:00:00",
                    "2020-05-23T00:00:00",
                    "2020-05-24T00:00:00",
                    "2020-05-25T00:00:00",
                    "2020-05-26T00:00:00",
                    "2020-05-27T00:00:00",
                    "2020-05-28T00:00:00",
                    "2020-05-29T00:00:00",
                    "2020-05-30T00:00:00",
                    "2020-05-31T00:00:00",
                    "2020-06-01T00:00:00",
                    "2020-06-02T00:00:00",
                    "2020-06-03T00:00:00",
                    "2020-06-04T00:00:00",
                    "2020-06-05T00:00:00",
                    "2020-06-06T00:00:00",
                    "2020-06-07T00:00:00",
                    "2020-06-08T00:00:00",
                    "2020-06-09T00:00:00",
                    "2020-06-10T00:00:00",
                    "2020-06-11T00:00:00",
                    "2020-06-12T00:00:00",
                    "2020-06-13T00:00:00",
                    "2020-06-14T00:00:00",
                    "2020-06-15T00:00:00",
                    "2020-06-16T00:00:00",
                    "2020-06-17T00:00:00",
                    "2020-06-18T00:00:00",
                    "2020-06-19T00:00:00",
                    "2020-06-20T00:00:00",
                    "2020-06-21T00:00:00",
                    "2020-06-22T00:00:00",
                    "2020-06-23T00:00:00",
                    "2020-06-24T00:00:00",
                    "2020-06-25T00:00:00",
                    "2020-06-26T00:00:00",
                    "2020-06-27T00:00:00",
                    "2020-06-28T00:00:00",
                    "2020-06-29T00:00:00",
                    "2020-06-30T00:00:00",
                    "2020-07-01T00:00:00",
                    "2020-07-02T00:00:00",
                    "2020-07-03T00:00:00",
                    "2020-07-04T00:00:00",
                    "2020-07-05T00:00:00",
                    "2020-07-06T00:00:00",
                    "2020-07-07T00:00:00",
                    "2020-07-08T00:00:00",
                    "2020-07-09T00:00:00",
                    "2020-07-10T00:00:00",
                    "2020-07-11T00:00:00",
                    "2020-07-12T00:00:00",
                    "2020-07-13T00:00:00",
                    "2020-07-14T00:00:00",
                    "2020-07-15T00:00:00",
                    "2020-07-16T00:00:00",
                    "2020-07-17T00:00:00",
                    "2020-07-18T00:00:00",
                    "2020-07-19T00:00:00",
                    "2020-07-20T00:00:00",
                    "2020-07-21T00:00:00",
                    "2020-07-22T00:00:00",
                    "2020-07-23T00:00:00",
                    "2020-07-24T00:00:00",
                    "2020-07-25T00:00:00",
                    "2020-07-26T00:00:00",
                    "2020-07-27T00:00:00",
                    "2020-07-28T00:00:00",
                    "2020-07-29T00:00:00",
                    "2020-07-30T00:00:00",
                    "2020-07-31T00:00:00",
                    "2020-08-01T00:00:00",
                    "2020-08-02T00:00:00",
                    "2020-08-03T00:00:00",
                    "2020-08-04T00:00:00",
                    "2020-08-05T00:00:00",
                    "2020-08-06T00:00:00",
                    "2020-08-07T00:00:00"
                  ],
                  "y": [
                    0,
                    0,
                    0,
                    0,
                    0,
                    0,
                    0,
                    0,
                    0,
                    0,
                    0,
                    0,
                    0,
                    0,
                    0,
                    0,
                    0,
                    0,
                    0,
                    0,
                    0,
                    1,
                    1,
                    1,
                    1,
                    4,
                    5,
                    6,
                    7,
                    8,
                    9,
                    12,
                    16,
                    17,
                    18,
                    24,
                    28,
                    33,
                    43,
                    47,
                    49,
                    50,
                    55,
                    64,
                    72,
                    78,
                    87,
                    94,
                    101,
                    111,
                    120,
                    135,
                    144,
                    151,
                    161,
                    176,
                    190,
                    211,
                    228,
                    253,
                    268,
                    284,
                    299,
                    309,
                    324,
                    340,
                    360,
                    383,
                    397,
                    413,
                    447,
                    465,
                    483,
                    509,
                    531,
                    556,
                    574,
                    596,
                    620,
                    638,
                    659,
                    679,
                    697,
                    709,
                    727,
                    753,
                    772,
                    791,
                    805,
                    821,
                    828,
                    839,
                    847,
                    863,
                    875,
                    889,
                    897,
                    902,
                    915,
                    929,
                    942,
                    956,
                    972,
                    980,
                    988,
                    1002,
                    1015,
                    1032,
                    1046,
                    1062,
                    1080,
                    1086,
                    1102,
                    1119,
                    1127,
                    1138,
                    1148,
                    1155,
                    1164,
                    1177,
                    1190,
                    1199,
                    1212,
                    1229,
                    1236,
                    1245,
                    1256,
                    1270,
                    1284,
                    1295,
                    1303,
                    1316,
                    1327,
                    1329,
                    1338,
                    1350,
                    1358,
                    1366,
                    1369,
                    1378,
                    1385,
                    1399,
                    1406,
                    1414,
                    1421,
                    1425,
                    1429,
                    1437,
                    1441,
                    1446,
                    1451,
                    1457,
                    1457,
                    1462,
                    1467,
                    1472,
                    1476,
                    1480,
                    1483,
                    1484,
                    1486,
                    1489,
                    1492,
                    1495,
                    1500,
                    1502,
                    1504,
                    1505,
                    1506,
                    1511,
                    1514,
                    1515,
                    1516
                  ]
                },
                {
                  "marker": {
                    "color": "firebrick"
                  },
                  "mode": "markers",
                  "name": "Admission data",
                  "type": "scatter",
                  "x": [
                    "2020-08-08T00:00:00",
                    "2020-08-09T00:00:00",
                    "2020-08-10T00:00:00",
                    "2020-08-11T00:00:00",
                    "2020-08-12T00:00:00",
                    "2020-08-13T00:00:00",
                    "2020-08-14T00:00:00",
                    "2020-08-15T00:00:00",
                    "2020-08-16T00:00:00",
                    "2020-08-17T00:00:00",
                    "2020-08-18T00:00:00",
                    "2020-08-19T00:00:00",
                    "2020-08-20T00:00:00"
                  ],
                  "y": [
                    1486,
                    1489,
                    1492,
                    1495,
                    1500,
                    1502,
                    1504,
                    1505,
                    1506,
                    1511,
                    1514,
                    1515,
                    1516
                  ]
                },
                {
                  "mode": "lines",
                  "name": "Predicted cumulative admissions",
                  "type": "scatter",
                  "x": [
                    "2020-03-01T00:00:00",
                    "2020-03-02T00:00:00",
                    "2020-03-03T00:00:00",
                    "2020-03-04T00:00:00",
                    "2020-03-05T00:00:00",
                    "2020-03-06T00:00:00",
                    "2020-03-07T00:00:00",
                    "2020-03-08T00:00:00",
                    "2020-03-09T00:00:00",
                    "2020-03-10T00:00:00",
                    "2020-03-11T00:00:00",
                    "2020-03-12T00:00:00",
                    "2020-03-13T00:00:00",
                    "2020-03-14T00:00:00",
                    "2020-03-15T00:00:00",
                    "2020-03-16T00:00:00",
                    "2020-03-17T00:00:00",
                    "2020-03-18T00:00:00",
                    "2020-03-19T00:00:00",
                    "2020-03-20T00:00:00",
                    "2020-03-21T00:00:00",
                    "2020-03-22T00:00:00",
                    "2020-03-23T00:00:00",
                    "2020-03-24T00:00:00",
                    "2020-03-25T00:00:00",
                    "2020-03-26T00:00:00",
                    "2020-03-27T00:00:00",
                    "2020-03-28T00:00:00",
                    "2020-03-29T00:00:00",
                    "2020-03-30T00:00:00",
                    "2020-03-31T00:00:00",
                    "2020-04-01T00:00:00",
                    "2020-04-02T00:00:00",
                    "2020-04-03T00:00:00",
                    "2020-04-04T00:00:00",
                    "2020-04-05T00:00:00",
                    "2020-04-06T00:00:00",
                    "2020-04-07T00:00:00",
                    "2020-04-08T00:00:00",
                    "2020-04-09T00:00:00",
                    "2020-04-10T00:00:00",
                    "2020-04-11T00:00:00",
                    "2020-04-12T00:00:00",
                    "2020-04-13T00:00:00",
                    "2020-04-14T00:00:00",
                    "2020-04-15T00:00:00",
                    "2020-04-16T00:00:00",
                    "2020-04-17T00:00:00",
                    "2020-04-18T00:00:00",
                    "2020-04-19T00:00:00",
                    "2020-04-20T00:00:00",
                    "2020-04-21T00:00:00",
                    "2020-04-22T00:00:00",
                    "2020-04-23T00:00:00",
                    "2020-04-24T00:00:00",
                    "2020-04-25T00:00:00",
                    "2020-04-26T00:00:00",
                    "2020-04-27T00:00:00",
                    "2020-04-28T00:00:00",
                    "2020-04-29T00:00:00",
                    "2020-04-30T00:00:00",
                    "2020-05-01T00:00:00",
                    "2020-05-02T00:00:00",
                    "2020-05-03T00:00:00",
                    "2020-05-04T00:00:00",
                    "2020-05-05T00:00:00",
                    "2020-05-06T00:00:00",
                    "2020-05-07T00:00:00",
                    "2020-05-08T00:00:00",
                    "2020-05-09T00:00:00",
                    "2020-05-10T00:00:00",
                    "2020-05-11T00:00:00",
                    "2020-05-12T00:00:00",
                    "2020-05-13T00:00:00",
                    "2020-05-14T00:00:00",
                    "2020-05-15T00:00:00",
                    "2020-05-16T00:00:00",
                    "2020-05-17T00:00:00",
                    "2020-05-18T00:00:00",
                    "2020-05-19T00:00:00",
                    "2020-05-20T00:00:00",
                    "2020-05-21T00:00:00",
                    "2020-05-22T00:00:00",
                    "2020-05-23T00:00:00",
                    "2020-05-24T00:00:00",
                    "2020-05-25T00:00:00",
                    "2020-05-26T00:00:00",
                    "2020-05-27T00:00:00",
                    "2020-05-28T00:00:00",
                    "2020-05-29T00:00:00",
                    "2020-05-30T00:00:00",
                    "2020-05-31T00:00:00",
                    "2020-06-01T00:00:00",
                    "2020-06-02T00:00:00",
                    "2020-06-03T00:00:00",
                    "2020-06-04T00:00:00",
                    "2020-06-05T00:00:00",
                    "2020-06-06T00:00:00",
                    "2020-06-07T00:00:00",
                    "2020-06-08T00:00:00",
                    "2020-06-09T00:00:00",
                    "2020-06-10T00:00:00",
                    "2020-06-11T00:00:00",
                    "2020-06-12T00:00:00",
                    "2020-06-13T00:00:00",
                    "2020-06-14T00:00:00",
                    "2020-06-15T00:00:00",
                    "2020-06-16T00:00:00",
                    "2020-06-17T00:00:00",
                    "2020-06-18T00:00:00",
                    "2020-06-19T00:00:00",
                    "2020-06-20T00:00:00",
                    "2020-06-21T00:00:00",
                    "2020-06-22T00:00:00",
                    "2020-06-23T00:00:00",
                    "2020-06-24T00:00:00",
                    "2020-06-25T00:00:00",
                    "2020-06-26T00:00:00",
                    "2020-06-27T00:00:00",
                    "2020-06-28T00:00:00",
                    "2020-06-29T00:00:00",
                    "2020-06-30T00:00:00",
                    "2020-07-01T00:00:00",
                    "2020-07-02T00:00:00",
                    "2020-07-03T00:00:00",
                    "2020-07-04T00:00:00",
                    "2020-07-05T00:00:00",
                    "2020-07-06T00:00:00",
                    "2020-07-07T00:00:00",
                    "2020-07-08T00:00:00",
                    "2020-07-09T00:00:00",
                    "2020-07-10T00:00:00",
                    "2020-07-11T00:00:00",
                    "2020-07-12T00:00:00",
                    "2020-07-13T00:00:00",
                    "2020-07-14T00:00:00",
                    "2020-07-15T00:00:00",
                    "2020-07-16T00:00:00",
                    "2020-07-17T00:00:00",
                    "2020-07-18T00:00:00",
                    "2020-07-19T00:00:00",
                    "2020-07-20T00:00:00",
                    "2020-07-21T00:00:00",
                    "2020-07-22T00:00:00",
                    "2020-07-23T00:00:00",
                    "2020-07-24T00:00:00",
                    "2020-07-25T00:00:00",
                    "2020-07-26T00:00:00",
                    "2020-07-27T00:00:00",
                    "2020-07-28T00:00:00",
                    "2020-07-29T00:00:00",
                    "2020-07-30T00:00:00",
                    "2020-07-31T00:00:00",
                    "2020-08-01T00:00:00",
                    "2020-08-02T00:00:00",
                    "2020-08-03T00:00:00",
                    "2020-08-04T00:00:00",
                    "2020-08-05T00:00:00",
                    "2020-08-06T00:00:00",
                    "2020-08-07T00:00:00",
                    "2020-08-08T00:00:00",
                    "2020-08-09T00:00:00",
                    "2020-08-10T00:00:00",
                    "2020-08-11T00:00:00",
                    "2020-08-12T00:00:00",
                    "2020-08-13T00:00:00",
                    "2020-08-14T00:00:00",
                    "2020-08-15T00:00:00",
                    "2020-08-16T00:00:00",
                    "2020-08-17T00:00:00",
                    "2020-08-18T00:00:00",
                    "2020-08-19T00:00:00",
                    "2020-08-20T00:00:00"
                  ],
                  "y": [
                    0.013,
                    0.02934803860942717,
                    0.04985558601909701,
                    0.07551741041252252,
                    0.10754962914577441,
                    0.14743486411279888,
                    0.19697564748892712,
                    0.25835737281367943,
                    0.33422224491891755,
                    0.42775585102168834,
                    0.5427881522860488,
                    0.6839108803279677,
                    0.8566135130153141,
                    1.067440193499843,
                    1.3241701443578966,
                    1.6360243072217509,
                    2.013901103161882,
                    2.470644351272354,
                    3.021346494090052,
                    3.683690348762655,
                    4.478332620114684,
                    5.429332362673566,
                    6.564627448847183,
                    7.916561872975064,
                    9.522466377664383,
                    11.425294412895328,
                    13.674314802713935,
                    16.325861685700396,
                    19.444141314909267,
                    23.09655150919272,
                    27.35088732122485,
                    32.278870922035566,
                    37.95548531540828,
                    44.45812142439238,
                    51.8655350136213,
                    60.25661623125188,
                    69.66298483189996,
                    80.04688095681902,
                    91.33535525077559,
                    103.420448107929,
                    116.16159962070446,
                    129.39026936821395,
                    142.91653483274317,
                    156.61211725407017,
                    170.41938405384818,
                    184.27931504132863,
                    198.1322624391564,
                    211.9187229788594,
                    225.5801049885073,
                    239.0594739530409,
                    252.31890618637516,
                    265.33880089973553,
                    278.1007845017407,
                    290.5877825066421,
                    302.7840806416236,
                    314.67537581387654,
                    326.24881333215484,
                    337.47767330723633,
                    348.323372311818,
                    358.7520608471985,
                    368.73489222399394,
                    378.2481927975519,
                    387.2735336877598,
                    395.79770798589993,
                    403.83853646599357,
                    411.4385029604764,
                    418.6360596849577,
                    425.4660668399146,
                    431.96018129122234,
                    438.14720124136284,
                    444.053371398702,
                    449.70705491778494,
                    455.1382600774871,
                    460.3742636180333,
                    465.4399986974924,
                    470.3583959986695,
                    475.15068614861053,
                    479.83666911747935,
                    484.42257732424264,
                    488.902251321051,
                    493.2700663475093,
                    497.52094990608987,
                    501.6503949402407,
                    505.6544684623158,
                    509.529815780435,
                    513.2817805120832,
                    516.9233397641664,
                    520.4665464117036,
                    523.9226437291675,
                    527.3021693341444,
                    530.6150492943914,
                    533.8706842407997,
                    537.074825071978,
                    540.22982444121,
                    543.3379515795298,
                    546.4013968575239,
                    549.4222761318788,
                    552.4026347964398,
                    555.3444516795608,
                    558.2452119321648,
                    561.0981637204262,
                    563.8969111527389,
                    566.6354564711182,
                    569.3082375602731,
                    571.9101600024977,
                    574.4366238194347,
                    576.893543111424,
                    579.296238614485,
                    581.6590897151651,
                    583.9957923696234,
                    586.3195975485838,
                    588.64353691798,
                    590.9806423608985,
                    593.3370319820667,
                    595.7117840160485,
                    598.1039527071213,
                    600.5125694268376,
                    602.9366438546689,
                    605.37516521381,
                    607.8271035431228,
                    610.2946237576278,
                    612.7831704418227,
                    615.2983243066516,
                    617.8458395739046,
                    620.4316832047468,
                    623.0620765415412,
                    625.743539641011,
                    628.482938969501,
                    631.2875389787179,
                    634.1650581911913,
                    637.1237304516648,
                    640.172372326335,
                    643.3204572222763,
                    646.5781974453398,
                    649.9566352426028,
                    653.467744103231,
                    657.1245417538479,
                    660.9412165047708,
                    664.9332688028088,
                    669.1176701292206,
                    673.5130416840458,
                    678.1398556564765,
                    683.020662306356,
                    688.1803465090579,
                    693.6464180022091,
                    699.4493401836303,
                    705.6229030841224,
                    712.2046469499079,
                    719.2363438201805,
                    726.7645456642715,
                    734.8412089045457,
                    743.5244067908012,
                    752.8791426132331,
                    762.9782788411712,
                    773.9035999354915,
                    785.7470282050912,
                    798.6120165080898,
                    812.6151438964632,
                    827.8879448138981,
                    844.5790067274626,
                    862.8563760439163,
                    882.9103177367119,
                    904.9564802043051,
                    929.2395234783667,
                    956.0372759663502,
                    985.6654926510363,
                    1018.4832940750306,
                    1054.899373074499,
                    1095.3790618365842,
                    1140.4523557018636,
                    1190.7229903163745,
                    1246.8786640785502,
                    1309.7024853519533
                  ]
                },
                {
                  "line": {
                    "dash": "dash",
                    "width": 2
                  },
                  "mode": "lines",
                  "name": "Lower confidence interval",
                  "type": "scatter",
                  "x": [
                    "2020-03-01T00:00:00",
                    "2020-03-02T00:00:00",
                    "2020-03-03T00:00:00",
                    "2020-03-04T00:00:00",
                    "2020-03-05T00:00:00",
                    "2020-03-06T00:00:00",
                    "2020-03-07T00:00:00",
                    "2020-03-08T00:00:00",
                    "2020-03-09T00:00:00",
                    "2020-03-10T00:00:00",
                    "2020-03-11T00:00:00",
                    "2020-03-12T00:00:00",
                    "2020-03-13T00:00:00",
                    "2020-03-14T00:00:00",
                    "2020-03-15T00:00:00",
                    "2020-03-16T00:00:00",
                    "2020-03-17T00:00:00",
                    "2020-03-18T00:00:00",
                    "2020-03-19T00:00:00",
                    "2020-03-20T00:00:00",
                    "2020-03-21T00:00:00",
                    "2020-03-22T00:00:00",
                    "2020-03-23T00:00:00",
                    "2020-03-24T00:00:00",
                    "2020-03-25T00:00:00",
                    "2020-03-26T00:00:00",
                    "2020-03-27T00:00:00",
                    "2020-03-28T00:00:00",
                    "2020-03-29T00:00:00",
                    "2020-03-30T00:00:00",
                    "2020-03-31T00:00:00",
                    "2020-04-01T00:00:00",
                    "2020-04-02T00:00:00",
                    "2020-04-03T00:00:00",
                    "2020-04-04T00:00:00",
                    "2020-04-05T00:00:00",
                    "2020-04-06T00:00:00",
                    "2020-04-07T00:00:00",
                    "2020-04-08T00:00:00",
                    "2020-04-09T00:00:00",
                    "2020-04-10T00:00:00",
                    "2020-04-11T00:00:00",
                    "2020-04-12T00:00:00",
                    "2020-04-13T00:00:00",
                    "2020-04-14T00:00:00",
                    "2020-04-15T00:00:00",
                    "2020-04-16T00:00:00",
                    "2020-04-17T00:00:00",
                    "2020-04-18T00:00:00",
                    "2020-04-19T00:00:00",
                    "2020-04-20T00:00:00",
                    "2020-04-21T00:00:00",
                    "2020-04-22T00:00:00",
                    "2020-04-23T00:00:00",
                    "2020-04-24T00:00:00",
                    "2020-04-25T00:00:00",
                    "2020-04-26T00:00:00",
                    "2020-04-27T00:00:00",
                    "2020-04-28T00:00:00",
                    "2020-04-29T00:00:00",
                    "2020-04-30T00:00:00",
                    "2020-05-01T00:00:00",
                    "2020-05-02T00:00:00",
                    "2020-05-03T00:00:00",
                    "2020-05-04T00:00:00",
                    "2020-05-05T00:00:00",
                    "2020-05-06T00:00:00",
                    "2020-05-07T00:00:00",
                    "2020-05-08T00:00:00",
                    "2020-05-09T00:00:00",
                    "2020-05-10T00:00:00",
                    "2020-05-11T00:00:00",
                    "2020-05-12T00:00:00",
                    "2020-05-13T00:00:00",
                    "2020-05-14T00:00:00",
                    "2020-05-15T00:00:00",
                    "2020-05-16T00:00:00",
                    "2020-05-17T00:00:00",
                    "2020-05-18T00:00:00",
                    "2020-05-19T00:00:00",
                    "2020-05-20T00:00:00",
                    "2020-05-21T00:00:00",
                    "2020-05-22T00:00:00",
                    "2020-05-23T00:00:00",
                    "2020-05-24T00:00:00",
                    "2020-05-25T00:00:00",
                    "2020-05-26T00:00:00",
                    "2020-05-27T00:00:00",
                    "2020-05-28T00:00:00",
                    "2020-05-29T00:00:00",
                    "2020-05-30T00:00:00",
                    "2020-05-31T00:00:00",
                    "2020-06-01T00:00:00",
                    "2020-06-02T00:00:00",
                    "2020-06-03T00:00:00",
                    "2020-06-04T00:00:00",
                    "2020-06-05T00:00:00",
                    "2020-06-06T00:00:00",
                    "2020-06-07T00:00:00",
                    "2020-06-08T00:00:00",
                    "2020-06-09T00:00:00",
                    "2020-06-10T00:00:00",
                    "2020-06-11T00:00:00",
                    "2020-06-12T00:00:00",
                    "2020-06-13T00:00:00",
                    "2020-06-14T00:00:00",
                    "2020-06-15T00:00:00",
                    "2020-06-16T00:00:00",
                    "2020-06-17T00:00:00",
                    "2020-06-18T00:00:00",
                    "2020-06-19T00:00:00",
                    "2020-06-20T00:00:00",
                    "2020-06-21T00:00:00",
                    "2020-06-22T00:00:00",
                    "2020-06-23T00:00:00",
                    "2020-06-24T00:00:00",
                    "2020-06-25T00:00:00",
                    "2020-06-26T00:00:00",
                    "2020-06-27T00:00:00",
                    "2020-06-28T00:00:00",
                    "2020-06-29T00:00:00",
                    "2020-06-30T00:00:00",
                    "2020-07-01T00:00:00",
                    "2020-07-02T00:00:00",
                    "2020-07-03T00:00:00",
                    "2020-07-04T00:00:00",
                    "2020-07-05T00:00:00",
                    "2020-07-06T00:00:00",
                    "2020-07-07T00:00:00",
                    "2020-07-08T00:00:00",
                    "2020-07-09T00:00:00",
                    "2020-07-10T00:00:00",
                    "2020-07-11T00:00:00",
                    "2020-07-12T00:00:00",
                    "2020-07-13T00:00:00",
                    "2020-07-14T00:00:00",
                    "2020-07-15T00:00:00",
                    "2020-07-16T00:00:00",
                    "2020-07-17T00:00:00",
                    "2020-07-18T00:00:00",
                    "2020-07-19T00:00:00",
                    "2020-07-20T00:00:00",
                    "2020-07-21T00:00:00",
                    "2020-07-22T00:00:00",
                    "2020-07-23T00:00:00",
                    "2020-07-24T00:00:00",
                    "2020-07-25T00:00:00",
                    "2020-07-26T00:00:00",
                    "2020-07-27T00:00:00",
                    "2020-07-28T00:00:00",
                    "2020-07-29T00:00:00",
                    "2020-07-30T00:00:00",
                    "2020-07-31T00:00:00",
                    "2020-08-01T00:00:00",
                    "2020-08-02T00:00:00",
                    "2020-08-03T00:00:00",
                    "2020-08-04T00:00:00",
                    "2020-08-05T00:00:00",
                    "2020-08-06T00:00:00",
                    "2020-08-07T00:00:00",
                    "2020-08-08T00:00:00",
                    "2020-08-09T00:00:00",
                    "2020-08-10T00:00:00",
                    "2020-08-11T00:00:00",
                    "2020-08-12T00:00:00",
                    "2020-08-13T00:00:00",
                    "2020-08-14T00:00:00",
                    "2020-08-15T00:00:00",
                    "2020-08-16T00:00:00",
                    "2020-08-17T00:00:00",
                    "2020-08-18T00:00:00",
                    "2020-08-19T00:00:00",
                    "2020-08-20T00:00:00"
                  ],
                  "y": [
                    0.013,
                    0.029284267911158776,
                    0.04963317916827723,
                    0.07499976793850967,
                    0.10654478742697523,
                    0.14567815832715977,
                    0.19410780775317266,
                    0.25389702452301915,
                    0.3275315901511563,
                    0.41799808385192955,
                    0.5288749064018358,
                    0.6644377174919733,
                    0.8297811357097394,
                    1.0309587010565142,
                    1.2751432483459588,
                    1.5708099782777083,
                    1.9279446373980291,
                    2.35827932221394,
                    2.8755584984649403,
                    3.4958378660599907,
                    4.237818693920099,
                    5.123220186005387,
                    6.177192308806988,
                    7.428771295141238,
                    8.911379738044438,
                    10.66337276079792,
                    12.728631211871095,
                    15.157202143844307,
                    18.00598576532323,
                    21.33451465111301,
                    25.20246811093364,
                    29.67284315803191,
                    34.81136417612255,
                    40.685734524365756,
                    47.36472764145762,
                    54.91712059930517,
                    63.36993500085917,
                    72.68923201408703,
                    82.81043503835144,
                    93.63851023464939,
                    105.05005249005856,
                    116.89725720388282,
                    129.01358450681863,
                    141.28659037824286,
                    153.66584035512537,
                    166.09960435823214,
                    178.53550793856934,
                    190.92119611972907,
                    203.204995030626,
                    215.3365582367394,
                    227.28219479780728,
                    239.02431921767482,
                    250.54637117985052,
                    261.8328814184081,
                    272.8695283125849,
                    283.6431857729553,
                    294.1419613219215,
                    304.3415524147541,
                    314.2069632409113,
                    323.7072686719654,
                    332.8158673430041,
                    341.510650099917,
                    349.7740845038469,
                    357.5932166302969,
                    364.98296147014184,
                    371.9805618606973,
                    378.6197908122388,
                    384.93132551044044,
                    390.9430779614008,
                    396.6804890745064,
                    402.1667895334596,
                    407.42724770175573,
                    412.48874933326897,
                    417.37579859349904,
                    422.1108559024035,
                    426.71463646842733,
                    431.206375274463,
                    435.60406419380814,
                    439.913259351674,
                    444.1281032983381,
                    448.24320819970995,
                    452.25367375102746,
                    456.15510116635403,
                    459.94360322054155,
                    463.61581037916113,
                    467.17642843210746,
                    470.63729417051223,
                    474.0094303376984,
                    477.30314723091834,
                    480.5281349496475,
                    483.6935474224913,
                    486.8080792792847,
                    489.87702917561967,
                    492.9025193234962,
                    495.88660049768845,
                    498.8312558777386,
                    501.7384047880629,
                    504.6099062856381,
                    507.44756253017795,
                    510.1051103441848,
                    512.565578588087,
                    514.9765567346889,
                    517.3330139057099,
                    519.6303097998988,
                    521.8642203560694,
                    524.0309584472213,
                    526.1357428553023,
                    528.1918115519954,
                    530.2115539681289,
                    532.2067347520242,
                    534.1886996293582,
                    536.1685692534257,
                    538.1574267909327,
                    540.1604501894609,
                    542.1768322682524,
                    544.2057484357867,
                    546.2463577195233,
                    548.2978038078469,
                    550.3592161383075,
                    552.4297110810647,
                    554.5110982962408,
                    556.6079402446007,
                    558.7248989383121,
                    560.8667669006243,
                    563.038499552984,
                    565.2452493983084,
                    567.4924023321037,
                    569.7856165524676,
                    572.1308644429942,
                    574.534478125379,
                    577.0031990013704,
                    579.5442321056622,
                    582.1653058459439,
                    584.874738006751,
                    587.6815088700741,
                    590.5953424678111,
                    593.6267971102557,
                    596.787366515256,
                    600.0895930048517,
                    603.5471944683153,
                    607.1752070295798,
                    610.9901456725866,
                    615.010185341062,
                    619.255365436585,
                    623.747821078389,
                    628.5120450323535,
                    633.575184709124,
                    638.9673793084006,
                    644.7221432783641,
                    650.8768024902149,
                    657.2752334852804,
                    663.9663192631212,
                    671.167073972226,
                    678.9326973878873,
                    687.325147783549,
                    696.4140686852118,
                    706.2778519237829,
                    717.0048580107692,
                    728.6948181441417,
                    741.4604459267655,
                    755.4292911452619,
                    770.7458728855357,
                    787.5741347845416,
                    806.1002714503197,
                    826.5359820076636,
                    849.1222143416669,
                    874.1334718437301,
                    901.882763169324,
                    932.727284517015,
                    967.0749325536183,
                    1005.3917537866994,
                    1048.210443042408,
                    1096.1400052282083
                  ]
                },
                {
                  "line": {
                    "dash": "dash",
                    "width": 2
                  },
                  "mode": "lines",
                  "name": "Upper confidence interval",
                  "type": "scatter",
                  "x": [
                    "2020-03-01T00:00:00",
                    "2020-03-02T00:00:00",
                    "2020-03-03T00:00:00",
                    "2020-03-04T00:00:00",
                    "2020-03-05T00:00:00",
                    "2020-03-06T00:00:00",
                    "2020-03-07T00:00:00",
                    "2020-03-08T00:00:00",
                    "2020-03-09T00:00:00",
                    "2020-03-10T00:00:00",
                    "2020-03-11T00:00:00",
                    "2020-03-12T00:00:00",
                    "2020-03-13T00:00:00",
                    "2020-03-14T00:00:00",
                    "2020-03-15T00:00:00",
                    "2020-03-16T00:00:00",
                    "2020-03-17T00:00:00",
                    "2020-03-18T00:00:00",
                    "2020-03-19T00:00:00",
                    "2020-03-20T00:00:00",
                    "2020-03-21T00:00:00",
                    "2020-03-22T00:00:00",
                    "2020-03-23T00:00:00",
                    "2020-03-24T00:00:00",
                    "2020-03-25T00:00:00",
                    "2020-03-26T00:00:00",
                    "2020-03-27T00:00:00",
                    "2020-03-28T00:00:00",
                    "2020-03-29T00:00:00",
                    "2020-03-30T00:00:00",
                    "2020-03-31T00:00:00",
                    "2020-04-01T00:00:00",
                    "2020-04-02T00:00:00",
                    "2020-04-03T00:00:00",
                    "2020-04-04T00:00:00",
                    "2020-04-05T00:00:00",
                    "2020-04-06T00:00:00",
                    "2020-04-07T00:00:00",
                    "2020-04-08T00:00:00",
                    "2020-04-09T00:00:00",
                    "2020-04-10T00:00:00",
                    "2020-04-11T00:00:00",
                    "2020-04-12T00:00:00",
                    "2020-04-13T00:00:00",
                    "2020-04-14T00:00:00",
                    "2020-04-15T00:00:00",
                    "2020-04-16T00:00:00",
                    "2020-04-17T00:00:00",
                    "2020-04-18T00:00:00",
                    "2020-04-19T00:00:00",
                    "2020-04-20T00:00:00",
                    "2020-04-21T00:00:00",
                    "2020-04-22T00:00:00",
                    "2020-04-23T00:00:00",
                    "2020-04-24T00:00:00",
                    "2020-04-25T00:00:00",
                    "2020-04-26T00:00:00",
                    "2020-04-27T00:00:00",
                    "2020-04-28T00:00:00",
                    "2020-04-29T00:00:00",
                    "2020-04-30T00:00:00",
                    "2020-05-01T00:00:00",
                    "2020-05-02T00:00:00",
                    "2020-05-03T00:00:00",
                    "2020-05-04T00:00:00",
                    "2020-05-05T00:00:00",
                    "2020-05-06T00:00:00",
                    "2020-05-07T00:00:00",
                    "2020-05-08T00:00:00",
                    "2020-05-09T00:00:00",
                    "2020-05-10T00:00:00",
                    "2020-05-11T00:00:00",
                    "2020-05-12T00:00:00",
                    "2020-05-13T00:00:00",
                    "2020-05-14T00:00:00",
                    "2020-05-15T00:00:00",
                    "2020-05-16T00:00:00",
                    "2020-05-17T00:00:00",
                    "2020-05-18T00:00:00",
                    "2020-05-19T00:00:00",
                    "2020-05-20T00:00:00",
                    "2020-05-21T00:00:00",
                    "2020-05-22T00:00:00",
                    "2020-05-23T00:00:00",
                    "2020-05-24T00:00:00",
                    "2020-05-25T00:00:00",
                    "2020-05-26T00:00:00",
                    "2020-05-27T00:00:00",
                    "2020-05-28T00:00:00",
                    "2020-05-29T00:00:00",
                    "2020-05-30T00:00:00",
                    "2020-05-31T00:00:00",
                    "2020-06-01T00:00:00",
                    "2020-06-02T00:00:00",
                    "2020-06-03T00:00:00",
                    "2020-06-04T00:00:00",
                    "2020-06-05T00:00:00",
                    "2020-06-06T00:00:00",
                    "2020-06-07T00:00:00",
                    "2020-06-08T00:00:00",
                    "2020-06-09T00:00:00",
                    "2020-06-10T00:00:00",
                    "2020-06-11T00:00:00",
                    "2020-06-12T00:00:00",
                    "2020-06-13T00:00:00",
                    "2020-06-14T00:00:00",
                    "2020-06-15T00:00:00",
                    "2020-06-16T00:00:00",
                    "2020-06-17T00:00:00",
                    "2020-06-18T00:00:00",
                    "2020-06-19T00:00:00",
                    "2020-06-20T00:00:00",
                    "2020-06-21T00:00:00",
                    "2020-06-22T00:00:00",
                    "2020-06-23T00:00:00",
                    "2020-06-24T00:00:00",
                    "2020-06-25T00:00:00",
                    "2020-06-26T00:00:00",
                    "2020-06-27T00:00:00",
                    "2020-06-28T00:00:00",
                    "2020-06-29T00:00:00",
                    "2020-06-30T00:00:00",
                    "2020-07-01T00:00:00",
                    "2020-07-02T00:00:00",
                    "2020-07-03T00:00:00",
                    "2020-07-04T00:00:00",
                    "2020-07-05T00:00:00",
                    "2020-07-06T00:00:00",
                    "2020-07-07T00:00:00",
                    "2020-07-08T00:00:00",
                    "2020-07-09T00:00:00",
                    "2020-07-10T00:00:00",
                    "2020-07-11T00:00:00",
                    "2020-07-12T00:00:00",
                    "2020-07-13T00:00:00",
                    "2020-07-14T00:00:00",
                    "2020-07-15T00:00:00",
                    "2020-07-16T00:00:00",
                    "2020-07-17T00:00:00",
                    "2020-07-18T00:00:00",
                    "2020-07-19T00:00:00",
                    "2020-07-20T00:00:00",
                    "2020-07-21T00:00:00",
                    "2020-07-22T00:00:00",
                    "2020-07-23T00:00:00",
                    "2020-07-24T00:00:00",
                    "2020-07-25T00:00:00",
                    "2020-07-26T00:00:00",
                    "2020-07-27T00:00:00",
                    "2020-07-28T00:00:00",
                    "2020-07-29T00:00:00",
                    "2020-07-30T00:00:00",
                    "2020-07-31T00:00:00",
                    "2020-08-01T00:00:00",
                    "2020-08-02T00:00:00",
                    "2020-08-03T00:00:00",
                    "2020-08-04T00:00:00",
                    "2020-08-05T00:00:00",
                    "2020-08-06T00:00:00",
                    "2020-08-07T00:00:00",
                    "2020-08-08T00:00:00",
                    "2020-08-09T00:00:00",
                    "2020-08-10T00:00:00",
                    "2020-08-11T00:00:00",
                    "2020-08-12T00:00:00",
                    "2020-08-13T00:00:00",
                    "2020-08-14T00:00:00",
                    "2020-08-15T00:00:00",
                    "2020-08-16T00:00:00",
                    "2020-08-17T00:00:00",
                    "2020-08-18T00:00:00",
                    "2020-08-19T00:00:00",
                    "2020-08-20T00:00:00"
                  ],
                  "y": [
                    0.013,
                    0.029398536029167314,
                    0.05003252868838275,
                    0.07593122506410471,
                    0.10835689291273325,
                    0.14885328242905324,
                    0.19930314313757425,
                    0.26199625908204144,
                    0.33970965121876395,
                    0.4358017978728537,
                    0.5543229355145572,
                    0.7001437277825114,
                    0.879104822720946,
                    1.098190054578706,
                    1.3657262837349362,
                    1.6916130993899345,
                    2.0875858283528057,
                    2.5675154901095385,
                    3.147749504399689,
                    3.8474970797109824,
                    4.689263275761974,
                    5.699335724769909,
                    6.908327896338735,
                    8.351782578610155,
                    10.070838903620942,
                    12.112965738230185,
                    14.532763571187441,
                    17.392836121656533,
                    20.76473130855582,
                    24.723891105286025,
                    29.34660243194543,
                    34.713860990354,
                    40.910658650983514,
                    48.025055395795135,
                    56.1470295040985,
                    65.36710713016821,
                    75.72369658211608,
                    87.1780675259262,
                    99.65191866738176,
                    113.02736570268215,
                    127.14945923096325,
                    141.83122645956257,
                    156.86099048044846,
                    172.0954800086311,
                    187.47028642905778,
                    202.96762081290822,
                    218.49310128926825,
                    233.9693808592716,
                    249.3299802863456,
                    264.50998497176903,
                    279.46571275429943,
                    294.1740714959166,
                    308.61326698882743,
                    322.7628942728026,
                    336.6040174115861,
                    350.1192368676058,
                    363.2927437672123,
                    376.09280793880794,
                    388.4739806970976,
                    400.3960671166922,
                    411.8244682476188,
                    422.73041093394977,
                    433.0910655252327,
                    442.88955344832254,
                    452.1447893210116,
                    460.90430721075825,
                    469.2111756358938,
                    477.1044823359637,
                    484.6197632082661,
                    491.7893829596419,
                    498.6428724896893,
                    505.2123600278051,
                    511.5320319779189,
                    517.6330267994075,
                    523.5438723097166,
                    529.2908710772966,
                    534.8984429726472,
                    540.3894313052123,
                    545.7708050227305,
                    551.0349553879993,
                    556.1748753690616,
                    561.1841841765789,
                    566.0571465814816,
                    570.7886871249415,
                    575.3743986602392,
                    579.8201983373261,
                    584.1411161943729,
                    588.3511443720996,
                    592.4633682259084,
                    596.4900854003063,
                    600.4429140470013,
                    604.3328924435299,
                    608.1667251485574,
                    611.9470617935833,
                    615.6764636184879,
                    619.3574084107369,
                    622.9922951434199,
                    626.5834483927903,
                    630.1331225809625,
                    633.6381366006874,
                    637.0901552439062,
                    640.4812424257648,
                    643.8039151062694,
                    647.0511917833529,
                    650.2166347357434,
                    653.294385874327,
                    656.2914268578446,
                    659.2262907878446,
                    662.1164317486426,
                    664.9785361174318,
                    667.8288118552978,
                    670.6832642631764,
                    673.5579658353263,
                    676.4605170516649,
                    679.389842624451,
                    682.3448325455578,
                    685.3243433301699,
                    688.3271993269284,
                    691.3521940978228,
                    694.3980918994221,
                    697.4676362772607,
                    700.5676779145189,
                    703.7052657925886,
                    706.887694875115,
                    710.1225565734683,
                    713.4177924263989,
                    716.7817517363587,
                    720.2232536003439,
                    723.7516543190735,
                    727.3769209257422,
                    731.1097117788224,
                    734.9614651664357,
                    738.9444973882382,
                    743.0721112250665,
                    747.3587165719265,
                    751.8199648459606,
                    756.4728990998417,
                    761.3361220277465,
                    766.4299843689719,
                    771.776796568314,
                    777.4010669407181,
                    783.3297701033699,
                    789.5926499189958,
                    796.2225618778454,
                    803.2558605625684,
                    810.7328386410278,
                    818.6982248199932,
                    827.2017492916125,
                    836.2987864705691,
                    846.0510863340569,
                    856.5276073200454,
                    867.8054656439969,
                    879.9710181574875,
                    893.1210983786075,
                    907.3644281992625,
                    922.823231116961,
                    939.6350763253015,
                    957.9549872869111,
                    977.9578527508289,
                    999.8411843530714,
                    1023.8282680015448,
                    1050.1717650844334,
                    1079.1578235794284,
                    1111.1107663203654,
                    1146.3984294511833,
                    1185.4382294193892,
                    1228.704040472785,
                    1276.7339673063852,
                    1330.139093621159,
                    1389.6132813639695,
                    1455.944079051301,
                    1530.024772189423,
                    1612.8675658252955
                  ]
                },
                {
                  "line": {
                    "dash": "dot",
                    "width": 2
                  },
                  "mode": "lines",
                  "name": "Lower prediction interval",
                  "type": "scatter",
                  "x": [
                    "2020-03-01T00:00:00",
                    "2020-03-02T00:00:00",
                    "2020-03-03T00:00:00",
                    "2020-03-04T00:00:00",
                    "2020-03-05T00:00:00",
                    "2020-03-06T00:00:00",
                    "2020-03-07T00:00:00",
                    "2020-03-08T00:00:00",
                    "2020-03-09T00:00:00",
                    "2020-03-10T00:00:00",
                    "2020-03-11T00:00:00",
                    "2020-03-12T00:00:00",
                    "2020-03-13T00:00:00",
                    "2020-03-14T00:00:00",
                    "2020-03-15T00:00:00",
                    "2020-03-16T00:00:00",
                    "2020-03-17T00:00:00",
                    "2020-03-18T00:00:00",
                    "2020-03-19T00:00:00",
                    "2020-03-20T00:00:00",
                    "2020-03-21T00:00:00",
                    "2020-03-22T00:00:00",
                    "2020-03-23T00:00:00",
                    "2020-03-24T00:00:00",
                    "2020-03-25T00:00:00",
                    "2020-03-26T00:00:00",
                    "2020-03-27T00:00:00",
                    "2020-03-28T00:00:00",
                    "2020-03-29T00:00:00",
                    "2020-03-30T00:00:00",
                    "2020-03-31T00:00:00",
                    "2020-04-01T00:00:00",
                    "2020-04-02T00:00:00",
                    "2020-04-03T00:00:00",
                    "2020-04-04T00:00:00",
                    "2020-04-05T00:00:00",
                    "2020-04-06T00:00:00",
                    "2020-04-07T00:00:00",
                    "2020-04-08T00:00:00",
                    "2020-04-09T00:00:00",
                    "2020-04-10T00:00:00",
                    "2020-04-11T00:00:00",
                    "2020-04-12T00:00:00",
                    "2020-04-13T00:00:00",
                    "2020-04-14T00:00:00",
                    "2020-04-15T00:00:00",
                    "2020-04-16T00:00:00",
                    "2020-04-17T00:00:00",
                    "2020-04-18T00:00:00",
                    "2020-04-19T00:00:00",
                    "2020-04-20T00:00:00",
                    "2020-04-21T00:00:00",
                    "2020-04-22T00:00:00",
                    "2020-04-23T00:00:00",
                    "2020-04-24T00:00:00",
                    "2020-04-25T00:00:00",
                    "2020-04-26T00:00:00",
                    "2020-04-27T00:00:00",
                    "2020-04-28T00:00:00",
                    "2020-04-29T00:00:00",
                    "2020-04-30T00:00:00",
                    "2020-05-01T00:00:00",
                    "2020-05-02T00:00:00",
                    "2020-05-03T00:00:00",
                    "2020-05-04T00:00:00",
                    "2020-05-05T00:00:00",
                    "2020-05-06T00:00:00",
                    "2020-05-07T00:00:00",
                    "2020-05-08T00:00:00",
                    "2020-05-09T00:00:00",
                    "2020-05-10T00:00:00",
                    "2020-05-11T00:00:00",
                    "2020-05-12T00:00:00",
                    "2020-05-13T00:00:00",
                    "2020-05-14T00:00:00",
                    "2020-05-15T00:00:00",
                    "2020-05-16T00:00:00",
                    "2020-05-17T00:00:00",
                    "2020-05-18T00:00:00",
                    "2020-05-19T00:00:00",
                    "2020-05-20T00:00:00",
                    "2020-05-21T00:00:00",
                    "2020-05-22T00:00:00",
                    "2020-05-23T00:00:00",
                    "2020-05-24T00:00:00",
                    "2020-05-25T00:00:00",
                    "2020-05-26T00:00:00",
                    "2020-05-27T00:00:00",
                    "2020-05-28T00:00:00",
                    "2020-05-29T00:00:00",
                    "2020-05-30T00:00:00",
                    "2020-05-31T00:00:00",
                    "2020-06-01T00:00:00",
                    "2020-06-02T00:00:00",
                    "2020-06-03T00:00:00",
                    "2020-06-04T00:00:00",
                    "2020-06-05T00:00:00",
                    "2020-06-06T00:00:00",
                    "2020-06-07T00:00:00",
                    "2020-06-08T00:00:00",
                    "2020-06-09T00:00:00",
                    "2020-06-10T00:00:00",
                    "2020-06-11T00:00:00",
                    "2020-06-12T00:00:00",
                    "2020-06-13T00:00:00",
                    "2020-06-14T00:00:00",
                    "2020-06-15T00:00:00",
                    "2020-06-16T00:00:00",
                    "2020-06-17T00:00:00",
                    "2020-06-18T00:00:00",
                    "2020-06-19T00:00:00",
                    "2020-06-20T00:00:00",
                    "2020-06-21T00:00:00",
                    "2020-06-22T00:00:00",
                    "2020-06-23T00:00:00",
                    "2020-06-24T00:00:00",
                    "2020-06-25T00:00:00",
                    "2020-06-26T00:00:00",
                    "2020-06-27T00:00:00",
                    "2020-06-28T00:00:00",
                    "2020-06-29T00:00:00",
                    "2020-06-30T00:00:00",
                    "2020-07-01T00:00:00",
                    "2020-07-02T00:00:00",
                    "2020-07-03T00:00:00",
                    "2020-07-04T00:00:00",
                    "2020-07-05T00:00:00",
                    "2020-07-06T00:00:00",
                    "2020-07-07T00:00:00",
                    "2020-07-08T00:00:00",
                    "2020-07-09T00:00:00",
                    "2020-07-10T00:00:00",
                    "2020-07-11T00:00:00",
                    "2020-07-12T00:00:00",
                    "2020-07-13T00:00:00",
                    "2020-07-14T00:00:00",
                    "2020-07-15T00:00:00",
                    "2020-07-16T00:00:00",
                    "2020-07-17T00:00:00",
                    "2020-07-18T00:00:00",
                    "2020-07-19T00:00:00",
                    "2020-07-20T00:00:00",
                    "2020-07-21T00:00:00",
                    "2020-07-22T00:00:00",
                    "2020-07-23T00:00:00",
                    "2020-07-24T00:00:00",
                    "2020-07-25T00:00:00",
                    "2020-07-26T00:00:00",
                    "2020-07-27T00:00:00",
                    "2020-07-28T00:00:00",
                    "2020-07-29T00:00:00",
                    "2020-07-30T00:00:00",
                    "2020-07-31T00:00:00",
                    "2020-08-01T00:00:00",
                    "2020-08-02T00:00:00",
                    "2020-08-03T00:00:00",
                    "2020-08-04T00:00:00",
                    "2020-08-05T00:00:00",
                    "2020-08-06T00:00:00",
                    "2020-08-07T00:00:00",
                    "2020-08-08T00:00:00",
                    "2020-08-09T00:00:00",
                    "2020-08-10T00:00:00",
                    "2020-08-11T00:00:00",
                    "2020-08-12T00:00:00",
                    "2020-08-13T00:00:00",
                    "2020-08-14T00:00:00",
                    "2020-08-15T00:00:00",
                    "2020-08-16T00:00:00",
                    "2020-08-17T00:00:00",
                    "2020-08-18T00:00:00",
                    "2020-08-19T00:00:00",
                    "2020-08-20T00:00:00"
                  ],
                  "y": [
                    0,
                    0,
                    0,
                    0,
                    0,
                    0,
                    0,
                    0,
                    0,
                    0,
                    0,
                    0,
                    0,
                    0,
                    0,
                    0,
                    0,
                    0,
                    0,
                    0,
                    0,
                    0,
                    0,
                    0,
                    0,
                    0,
                    0,
                    0.5423635545374613,
                    3.8110407207759662,
                    7.49934437076721,
                    9.989947962949662,
                    15.054145536615284,
                    20.091032201017665,
                    28.23851927623172,
                    35.46975726958127,
                    42.17419434773493,
                    51.212665246728605,
                    61.42892844193247,
                    72.97220653058075,
                    83.79835258967927,
                    95.47223572501326,
                    108.1326658422863,
                    121.19541327958362,
                    131.5750967060259,
                    143.80389088259477,
                    157.50773932737252,
                    172.5030598905799,
                    182.673234572013,
                    195.68709418358267,
                    206.5591444612778,
                    218.00892455712767,
                    229.61243767018541,
                    241.90394812571117,
                    253.14758571025624,
                    263.6364036909431,
                    274.6223656789019,
                    285.69041470656475,
                    296.73883173966783,
                    304.9484867908007,
                    312.58910637684176,
                    324.53979833513347,
                    333.37776900250714,
                    339.38138218809297,
                    348.6040336746681,
                    354.8851991015558,
                    362.9912796886839,
                    368.8850378369112,
                    374.62170610472117,
                    384.52457007775763,
                    389.24764094649464,
                    393.8110099569465,
                    397.7551450884782,
                    404.6891341046873,
                    409.25736039670994,
                    414.87846125807283,
                    418.63216030492,
                    422.6491979249026,
                    427.51659866050943,
                    431.93747658516145,
                    434.82686082751064,
                    438.3478754345407,
                    444.47186841491856,
                    445.91575361551975,
                    451.1400351305846,
                    454.95772036962893,
                    458.0666987283879,
                    463.0178809296629,
                    465.1226256363675,
                    468.43430632096624,
                    471.64702115254437,
                    474.68677112689676,
                    476.36470390688675,
                    480.01574593448424,
                    482.0708899792772,
                    486.66933661824294,
                    491.7635894944563,
                    493.23360803852455,
                    495.17453623918567,
                    498.09795960599456,
                    499.09313190339634,
                    502.4698318788221,
                    507.2321056028369,
                    510.2390146749537,
                    511.4694860244926,
                    513.3174300733526,
                    515.6500717249309,
                    518.3325469294625,
                    519.9184623320449,
                    522.5599769282992,
                    525.7812205686147,
                    527.0979350346877,
                    527.9455818409853,
                    528.8761072706382,
                    529.2857990517114,
                    532.6744416097221,
                    535.4588295622656,
                    538.1385696848953,
                    537.0333954240413,
                    541.8125920694923,
                    544.2650072487149,
                    546.3990749329134,
                    547.3940959676843,
                    551.4028826977535,
                    550.607148243753,
                    553.2469610692715,
                    558.276427711582,
                    559.7050897485009,
                    560.1797165784188,
                    560.5753459032454,
                    565.7858365381471,
                    567.7388666869246,
                    567.8243768268488,
                    574.9231425905995,
                    575.9720511626698,
                    576.4410858299776,
                    580.9794305933244,
                    581.7512488946436,
                    584.3966430529928,
                    588.3130695247162,
                    591.1668528457534,
                    594.9745115367614,
                    599.8651393142798,
                    601.6849963183142,
                    607.5225372923705,
                    611.0865279002059,
                    615.120092270816,
                    618.9525647323983,
                    624.4843242703844,
                    628.5601897187375,
                    636.2024317183682,
                    639.9012799210208,
                    647.4701898994879,
                    656.0024719878935,
                    660.9724454856524,
                    670.7249122290829,
                    678.8857133634901,
                    687.7069639579166,
                    698.924607507055,
                    709.9244638364742,
                    722.659369348793,
                    736.260357933042,
                    749.3655391098903,
                    764.9892296889284,
                    784.478004609626,
                    803.370644960305,
                    826.0275580156448,
                    850.0070864672805,
                    877.8764515236848,
                    906.2971777287835,
                    939.9636079488195,
                    976.4441256327947,
                    1017.0035397239732,
                    1064.681710722961
                  ]
                },
                {
                  "line": {
                    "dash": "dot",
                    "width": 2
                  },
                  "mode": "lines",
                  "name": "Upper prediction interval",
                  "type": "scatter",
                  "x": [
                    "2020-03-01T00:00:00",
                    "2020-03-02T00:00:00",
                    "2020-03-03T00:00:00",
                    "2020-03-04T00:00:00",
                    "2020-03-05T00:00:00",
                    "2020-03-06T00:00:00",
                    "2020-03-07T00:00:00",
                    "2020-03-08T00:00:00",
                    "2020-03-09T00:00:00",
                    "2020-03-10T00:00:00",
                    "2020-03-11T00:00:00",
                    "2020-03-12T00:00:00",
                    "2020-03-13T00:00:00",
                    "2020-03-14T00:00:00",
                    "2020-03-15T00:00:00",
                    "2020-03-16T00:00:00",
                    "2020-03-17T00:00:00",
                    "2020-03-18T00:00:00",
                    "2020-03-19T00:00:00",
                    "2020-03-20T00:00:00",
                    "2020-03-21T00:00:00",
                    "2020-03-22T00:00:00",
                    "2020-03-23T00:00:00",
                    "2020-03-24T00:00:00",
                    "2020-03-25T00:00:00",
                    "2020-03-26T00:00:00",
                    "2020-03-27T00:00:00",
                    "2020-03-28T00:00:00",
                    "2020-03-29T00:00:00",
                    "2020-03-30T00:00:00",
                    "2020-03-31T00:00:00",
                    "2020-04-01T00:00:00",
                    "2020-04-02T00:00:00",
                    "2020-04-03T00:00:00",
                    "2020-04-04T00:00:00",
                    "2020-04-05T00:00:00",
                    "2020-04-06T00:00:00",
                    "2020-04-07T00:00:00",
                    "2020-04-08T00:00:00",
                    "2020-04-09T00:00:00",
                    "2020-04-10T00:00:00",
                    "2020-04-11T00:00:00",
                    "2020-04-12T00:00:00",
                    "2020-04-13T00:00:00",
                    "2020-04-14T00:00:00",
                    "2020-04-15T00:00:00",
                    "2020-04-16T00:00:00",
                    "2020-04-17T00:00:00",
                    "2020-04-18T00:00:00",
                    "2020-04-19T00:00:00",
                    "2020-04-20T00:00:00",
                    "2020-04-21T00:00:00",
                    "2020-04-22T00:00:00",
                    "2020-04-23T00:00:00",
                    "2020-04-24T00:00:00",
                    "2020-04-25T00:00:00",
                    "2020-04-26T00:00:00",
                    "2020-04-27T00:00:00",
                    "2020-04-28T00:00:00",
                    "2020-04-29T00:00:00",
                    "2020-04-30T00:00:00",
                    "2020-05-01T00:00:00",
                    "2020-05-02T00:00:00",
                    "2020-05-03T00:00:00",
                    "2020-05-04T00:00:00",
                    "2020-05-05T00:00:00",
                    "2020-05-06T00:00:00",
                    "2020-05-07T00:00:00",
                    "2020-05-08T00:00:00",
                    "2020-05-09T00:00:00",
                    "2020-05-10T00:00:00",
                    "2020-05-11T00:00:00",
                    "2020-05-12T00:00:00",
                    "2020-05-13T00:00:00",
                    "2020-05-14T00:00:00",
                    "2020-05-15T00:00:00",
                    "2020-05-16T00:00:00",
                    "2020-05-17T00:00:00",
                    "2020-05-18T00:00:00",
                    "2020-05-19T00:00:00",
                    "2020-05-20T00:00:00",
                    "2020-05-21T00:00:00",
                    "2020-05-22T00:00:00",
                    "2020-05-23T00:00:00",
                    "2020-05-24T00:00:00",
                    "2020-05-25T00:00:00",
                    "2020-05-26T00:00:00",
                    "2020-05-27T00:00:00",
                    "2020-05-28T00:00:00",
                    "2020-05-29T00:00:00",
                    "2020-05-30T00:00:00",
                    "2020-05-31T00:00:00",
                    "2020-06-01T00:00:00",
                    "2020-06-02T00:00:00",
                    "2020-06-03T00:00:00",
                    "2020-06-04T00:00:00",
                    "2020-06-05T00:00:00",
                    "2020-06-06T00:00:00",
                    "2020-06-07T00:00:00",
                    "2020-06-08T00:00:00",
                    "2020-06-09T00:00:00",
                    "2020-06-10T00:00:00",
                    "2020-06-11T00:00:00",
                    "2020-06-12T00:00:00",
                    "2020-06-13T00:00:00",
                    "2020-06-14T00:00:00",
                    "2020-06-15T00:00:00",
                    "2020-06-16T00:00:00",
                    "2020-06-17T00:00:00",
                    "2020-06-18T00:00:00",
                    "2020-06-19T00:00:00",
                    "2020-06-20T00:00:00",
                    "2020-06-21T00:00:00",
                    "2020-06-22T00:00:00",
                    "2020-06-23T00:00:00",
                    "2020-06-24T00:00:00",
                    "2020-06-25T00:00:00",
                    "2020-06-26T00:00:00",
                    "2020-06-27T00:00:00",
                    "2020-06-28T00:00:00",
                    "2020-06-29T00:00:00",
                    "2020-06-30T00:00:00",
                    "2020-07-01T00:00:00",
                    "2020-07-02T00:00:00",
                    "2020-07-03T00:00:00",
                    "2020-07-04T00:00:00",
                    "2020-07-05T00:00:00",
                    "2020-07-06T00:00:00",
                    "2020-07-07T00:00:00",
                    "2020-07-08T00:00:00",
                    "2020-07-09T00:00:00",
                    "2020-07-10T00:00:00",
                    "2020-07-11T00:00:00",
                    "2020-07-12T00:00:00",
                    "2020-07-13T00:00:00",
                    "2020-07-14T00:00:00",
                    "2020-07-15T00:00:00",
                    "2020-07-16T00:00:00",
                    "2020-07-17T00:00:00",
                    "2020-07-18T00:00:00",
                    "2020-07-19T00:00:00",
                    "2020-07-20T00:00:00",
                    "2020-07-21T00:00:00",
                    "2020-07-22T00:00:00",
                    "2020-07-23T00:00:00",
                    "2020-07-24T00:00:00",
                    "2020-07-25T00:00:00",
                    "2020-07-26T00:00:00",
                    "2020-07-27T00:00:00",
                    "2020-07-28T00:00:00",
                    "2020-07-29T00:00:00",
                    "2020-07-30T00:00:00",
                    "2020-07-31T00:00:00",
                    "2020-08-01T00:00:00",
                    "2020-08-02T00:00:00",
                    "2020-08-03T00:00:00",
                    "2020-08-04T00:00:00",
                    "2020-08-05T00:00:00",
                    "2020-08-06T00:00:00",
                    "2020-08-07T00:00:00",
                    "2020-08-08T00:00:00",
                    "2020-08-09T00:00:00",
                    "2020-08-10T00:00:00",
                    "2020-08-11T00:00:00",
                    "2020-08-12T00:00:00",
                    "2020-08-13T00:00:00",
                    "2020-08-14T00:00:00",
                    "2020-08-15T00:00:00",
                    "2020-08-16T00:00:00",
                    "2020-08-17T00:00:00",
                    "2020-08-18T00:00:00",
                    "2020-08-19T00:00:00",
                    "2020-08-20T00:00:00"
                  ],
                  "y": [
                    14.584631934597358,
                    16.903339845410375,
                    15.693396893429666,
                    17.109606405509478,
                    16.252637170882394,
                    16.127580744234006,
                    17.02126518720606,
                    16.0735715144035,
                    16.695018887209976,
                    17.11992567833,
                    15.757508020186552,
                    16.35448775426651,
                    17.802296420273116,
                    17.323980718162314,
                    18.016959454529275,
                    17.160550360625727,
                    18.998231565979154,
                    18.621663871753203,
                    18.788401804174935,
                    20.052302067740072,
                    21.400072176623397,
                    22.10582980942182,
                    23.54710199524796,
                    23.334318457515913,
                    25.756909306050698,
                    28.381310253578853,
                    30.20735952506442,
                    32.35625464753604,
                    34.94907406322373,
                    39.26036613371261,
                    43.51681836236786,
                    49.29630098102509,
                    53.80500566354244,
                    60.675799909266864,
                    69.11870753087494,
                    77.93450054892584,
                    86.43882522878401,
                    97.86682309044312,
                    110.52012193020775,
                    124.419347326288,
                    136.68458430115615,
                    151.64051971591152,
                    165.3092852899765,
                    182.02405555239713,
                    196.44633366214583,
                    212.66617532337952,
                    227.06921577903952,
                    245.2477472541999,
                    258.88994463671315,
                    275.79701162674064,
                    289.3150736116418,
                    303.2057746543713,
                    321.0984369619239,
                    334.1471825447568,
                    348.98730791234635,
                    360.666327413657,
                    376.86897472727435,
                    388.78200184058903,
                    401.71678225260524,
                    411.32024474276557,
                    425.8847236965764,
                    436.50810333952273,
                    443.3133144590025,
                    459.01000541527986,
                    464.7033402276688,
                    474.99829838995765,
                    485.44284597400656,
                    490.1258161260008,
                    498.913371929642,
                    504.97029713000757,
                    513.4213495040467,
                    520.9174539607919,
                    526.9439166352822,
                    532.3801912090404,
                    537.6140646864601,
                    544.0658931199935,
                    549.6984373637887,
                    556.7151626642119,
                    562.0933690986315,
                    567.2496012410597,
                    570.7963732400044,
                    575.2573366835885,
                    582.7556264871827,
                    585.4366353530185,
                    590.328832930763,
                    593.8625009874166,
                    599.5629911924444,
                    604.6919749423398,
                    607.4511491624539,
                    613.1259351974979,
                    614.9137107190658,
                    618.9791638630454,
                    622.4338434480533,
                    625.673600000149,
                    631.4327047597292,
                    634.3868095272385,
                    638.9297065189221,
                    642.1859732777568,
                    643.4816838898918,
                    648.8596841757987,
                    650.8699267090834,
                    657.7053067213697,
                    659.0291556832688,
                    665.0592841411785,
                    665.4804588872887,
                    668.9753745991458,
                    671.4038988620177,
                    674.7678831924717,
                    679.7480799598724,
                    679.3530866414593,
                    683.6314018689433,
                    687.1669609333368,
                    688.6199979598922,
                    690.8154548971605,
                    697.154046774732,
                    696.5204850196483,
                    700.5887000333032,
                    705.9977528231547,
                    707.4502327826094,
                    709.1590517395317,
                    714.4032070963311,
                    717.0506209143205,
                    720.8526045372079,
                    722.3382961432106,
                    726.5789263925827,
                    730.7548628669135,
                    731.2339405282736,
                    736.917576793991,
                    741.3431535108424,
                    745.7931885667467,
                    746.6461428409821,
                    750.4276304757683,
                    755.0724424370949,
                    759.3304926002195,
                    762.2846260508492,
                    766.9710068345712,
                    772.5018882711252,
                    780.1236727245214,
                    782.2622278463687,
                    790.3508910545152,
                    792.9558937278528,
                    800.6366317967683,
                    805.2794824950929,
                    812.4733899113726,
                    817.8262786587345,
                    826.3356322982249,
                    834.8404661349525,
                    844.4912679203644,
                    854.2192602791931,
                    861.159413073691,
                    873.5775238730029,
                    882.66102141863,
                    896.9708004363696,
                    909.2403012384877,
                    923.8138050051496,
                    938.3966638999952,
                    956.7663248466877,
                    975.6802656766572,
                    995.2586104255631,
                    1014.4782538518352,
                    1040.579346011341,
                    1068.1852911957953,
                    1096.067580324608,
                    1128.25958720117,
                    1164.529319295667,
                    1203.8692501832331,
                    1249.244172124269,
                    1295.7069994572937,
                    1348.4979599747928,
                    1410.4357630209304,
                    1478.2676871809635,
                    1550.307293085687,
                    1635.533579308106
                  ]
                }
              ],
              "layout": {
                "annotations": [
                  {
                    "bordercolor": "black",
                    "showarrow": false,
                    "text": "RMSE: 13",
                    "x": "2020-03-01T00:00:00",
                    "xshift": 48,
                    "y": 0,
                    "yshift": 270
                  }
                ],
                "autosize": false,
                "font": {
                  "color": "RebeccaPurple",
                  "family": "Courier New, monospace",
                  "size": 14
                },
                "template": {
                  "data": {
                    "bar": [
                      {
                        "error_x": {
                          "color": "#2a3f5f"
                        },
                        "error_y": {
                          "color": "#2a3f5f"
                        },
                        "marker": {
                          "line": {
                            "color": "#E5ECF6",
                            "width": 0.5
                          },
                          "pattern": {
                            "fillmode": "overlay",
                            "size": 10,
                            "solidity": 0.2
                          }
                        },
                        "type": "bar"
                      }
                    ],
                    "barpolar": [
                      {
                        "marker": {
                          "line": {
                            "color": "#E5ECF6",
                            "width": 0.5
                          },
                          "pattern": {
                            "fillmode": "overlay",
                            "size": 10,
                            "solidity": 0.2
                          }
                        },
                        "type": "barpolar"
                      }
                    ],
                    "carpet": [
                      {
                        "aaxis": {
                          "endlinecolor": "#2a3f5f",
                          "gridcolor": "white",
                          "linecolor": "white",
                          "minorgridcolor": "white",
                          "startlinecolor": "#2a3f5f"
                        },
                        "baxis": {
                          "endlinecolor": "#2a3f5f",
                          "gridcolor": "white",
                          "linecolor": "white",
                          "minorgridcolor": "white",
                          "startlinecolor": "#2a3f5f"
                        },
                        "type": "carpet"
                      }
                    ],
                    "choropleth": [
                      {
                        "colorbar": {
                          "outlinewidth": 0,
                          "ticks": ""
                        },
                        "type": "choropleth"
                      }
                    ],
                    "contour": [
                      {
                        "colorbar": {
                          "outlinewidth": 0,
                          "ticks": ""
                        },
                        "colorscale": [
                          [
                            0,
                            "#0d0887"
                          ],
                          [
                            0.1111111111111111,
                            "#46039f"
                          ],
                          [
                            0.2222222222222222,
                            "#7201a8"
                          ],
                          [
                            0.3333333333333333,
                            "#9c179e"
                          ],
                          [
                            0.4444444444444444,
                            "#bd3786"
                          ],
                          [
                            0.5555555555555556,
                            "#d8576b"
                          ],
                          [
                            0.6666666666666666,
                            "#ed7953"
                          ],
                          [
                            0.7777777777777778,
                            "#fb9f3a"
                          ],
                          [
                            0.8888888888888888,
                            "#fdca26"
                          ],
                          [
                            1,
                            "#f0f921"
                          ]
                        ],
                        "type": "contour"
                      }
                    ],
                    "contourcarpet": [
                      {
                        "colorbar": {
                          "outlinewidth": 0,
                          "ticks": ""
                        },
                        "type": "contourcarpet"
                      }
                    ],
                    "heatmap": [
                      {
                        "colorbar": {
                          "outlinewidth": 0,
                          "ticks": ""
                        },
                        "colorscale": [
                          [
                            0,
                            "#0d0887"
                          ],
                          [
                            0.1111111111111111,
                            "#46039f"
                          ],
                          [
                            0.2222222222222222,
                            "#7201a8"
                          ],
                          [
                            0.3333333333333333,
                            "#9c179e"
                          ],
                          [
                            0.4444444444444444,
                            "#bd3786"
                          ],
                          [
                            0.5555555555555556,
                            "#d8576b"
                          ],
                          [
                            0.6666666666666666,
                            "#ed7953"
                          ],
                          [
                            0.7777777777777778,
                            "#fb9f3a"
                          ],
                          [
                            0.8888888888888888,
                            "#fdca26"
                          ],
                          [
                            1,
                            "#f0f921"
                          ]
                        ],
                        "type": "heatmap"
                      }
                    ],
                    "heatmapgl": [
                      {
                        "colorbar": {
                          "outlinewidth": 0,
                          "ticks": ""
                        },
                        "colorscale": [
                          [
                            0,
                            "#0d0887"
                          ],
                          [
                            0.1111111111111111,
                            "#46039f"
                          ],
                          [
                            0.2222222222222222,
                            "#7201a8"
                          ],
                          [
                            0.3333333333333333,
                            "#9c179e"
                          ],
                          [
                            0.4444444444444444,
                            "#bd3786"
                          ],
                          [
                            0.5555555555555556,
                            "#d8576b"
                          ],
                          [
                            0.6666666666666666,
                            "#ed7953"
                          ],
                          [
                            0.7777777777777778,
                            "#fb9f3a"
                          ],
                          [
                            0.8888888888888888,
                            "#fdca26"
                          ],
                          [
                            1,
                            "#f0f921"
                          ]
                        ],
                        "type": "heatmapgl"
                      }
                    ],
                    "histogram": [
                      {
                        "marker": {
                          "pattern": {
                            "fillmode": "overlay",
                            "size": 10,
                            "solidity": 0.2
                          }
                        },
                        "type": "histogram"
                      }
                    ],
                    "histogram2d": [
                      {
                        "colorbar": {
                          "outlinewidth": 0,
                          "ticks": ""
                        },
                        "colorscale": [
                          [
                            0,
                            "#0d0887"
                          ],
                          [
                            0.1111111111111111,
                            "#46039f"
                          ],
                          [
                            0.2222222222222222,
                            "#7201a8"
                          ],
                          [
                            0.3333333333333333,
                            "#9c179e"
                          ],
                          [
                            0.4444444444444444,
                            "#bd3786"
                          ],
                          [
                            0.5555555555555556,
                            "#d8576b"
                          ],
                          [
                            0.6666666666666666,
                            "#ed7953"
                          ],
                          [
                            0.7777777777777778,
                            "#fb9f3a"
                          ],
                          [
                            0.8888888888888888,
                            "#fdca26"
                          ],
                          [
                            1,
                            "#f0f921"
                          ]
                        ],
                        "type": "histogram2d"
                      }
                    ],
                    "histogram2dcontour": [
                      {
                        "colorbar": {
                          "outlinewidth": 0,
                          "ticks": ""
                        },
                        "colorscale": [
                          [
                            0,
                            "#0d0887"
                          ],
                          [
                            0.1111111111111111,
                            "#46039f"
                          ],
                          [
                            0.2222222222222222,
                            "#7201a8"
                          ],
                          [
                            0.3333333333333333,
                            "#9c179e"
                          ],
                          [
                            0.4444444444444444,
                            "#bd3786"
                          ],
                          [
                            0.5555555555555556,
                            "#d8576b"
                          ],
                          [
                            0.6666666666666666,
                            "#ed7953"
                          ],
                          [
                            0.7777777777777778,
                            "#fb9f3a"
                          ],
                          [
                            0.8888888888888888,
                            "#fdca26"
                          ],
                          [
                            1,
                            "#f0f921"
                          ]
                        ],
                        "type": "histogram2dcontour"
                      }
                    ],
                    "mesh3d": [
                      {
                        "colorbar": {
                          "outlinewidth": 0,
                          "ticks": ""
                        },
                        "type": "mesh3d"
                      }
                    ],
                    "parcoords": [
                      {
                        "line": {
                          "colorbar": {
                            "outlinewidth": 0,
                            "ticks": ""
                          }
                        },
                        "type": "parcoords"
                      }
                    ],
                    "pie": [
                      {
                        "automargin": true,
                        "type": "pie"
                      }
                    ],
                    "scatter": [
                      {
                        "marker": {
                          "colorbar": {
                            "outlinewidth": 0,
                            "ticks": ""
                          }
                        },
                        "type": "scatter"
                      }
                    ],
                    "scatter3d": [
                      {
                        "line": {
                          "colorbar": {
                            "outlinewidth": 0,
                            "ticks": ""
                          }
                        },
                        "marker": {
                          "colorbar": {
                            "outlinewidth": 0,
                            "ticks": ""
                          }
                        },
                        "type": "scatter3d"
                      }
                    ],
                    "scattercarpet": [
                      {
                        "marker": {
                          "colorbar": {
                            "outlinewidth": 0,
                            "ticks": ""
                          }
                        },
                        "type": "scattercarpet"
                      }
                    ],
                    "scattergeo": [
                      {
                        "marker": {
                          "colorbar": {
                            "outlinewidth": 0,
                            "ticks": ""
                          }
                        },
                        "type": "scattergeo"
                      }
                    ],
                    "scattergl": [
                      {
                        "marker": {
                          "colorbar": {
                            "outlinewidth": 0,
                            "ticks": ""
                          }
                        },
                        "type": "scattergl"
                      }
                    ],
                    "scattermapbox": [
                      {
                        "marker": {
                          "colorbar": {
                            "outlinewidth": 0,
                            "ticks": ""
                          }
                        },
                        "type": "scattermapbox"
                      }
                    ],
                    "scatterpolar": [
                      {
                        "marker": {
                          "colorbar": {
                            "outlinewidth": 0,
                            "ticks": ""
                          }
                        },
                        "type": "scatterpolar"
                      }
                    ],
                    "scatterpolargl": [
                      {
                        "marker": {
                          "colorbar": {
                            "outlinewidth": 0,
                            "ticks": ""
                          }
                        },
                        "type": "scatterpolargl"
                      }
                    ],
                    "scatterternary": [
                      {
                        "marker": {
                          "colorbar": {
                            "outlinewidth": 0,
                            "ticks": ""
                          }
                        },
                        "type": "scatterternary"
                      }
                    ],
                    "surface": [
                      {
                        "colorbar": {
                          "outlinewidth": 0,
                          "ticks": ""
                        },
                        "colorscale": [
                          [
                            0,
                            "#0d0887"
                          ],
                          [
                            0.1111111111111111,
                            "#46039f"
                          ],
                          [
                            0.2222222222222222,
                            "#7201a8"
                          ],
                          [
                            0.3333333333333333,
                            "#9c179e"
                          ],
                          [
                            0.4444444444444444,
                            "#bd3786"
                          ],
                          [
                            0.5555555555555556,
                            "#d8576b"
                          ],
                          [
                            0.6666666666666666,
                            "#ed7953"
                          ],
                          [
                            0.7777777777777778,
                            "#fb9f3a"
                          ],
                          [
                            0.8888888888888888,
                            "#fdca26"
                          ],
                          [
                            1,
                            "#f0f921"
                          ]
                        ],
                        "type": "surface"
                      }
                    ],
                    "table": [
                      {
                        "cells": {
                          "fill": {
                            "color": "#EBF0F8"
                          },
                          "line": {
                            "color": "white"
                          }
                        },
                        "header": {
                          "fill": {
                            "color": "#C8D4E3"
                          },
                          "line": {
                            "color": "white"
                          }
                        },
                        "type": "table"
                      }
                    ]
                  },
                  "layout": {
                    "annotationdefaults": {
                      "arrowcolor": "#2a3f5f",
                      "arrowhead": 0,
                      "arrowwidth": 1
                    },
                    "autotypenumbers": "strict",
                    "coloraxis": {
                      "colorbar": {
                        "outlinewidth": 0,
                        "ticks": ""
                      }
                    },
                    "colorscale": {
                      "diverging": [
                        [
                          0,
                          "#8e0152"
                        ],
                        [
                          0.1,
                          "#c51b7d"
                        ],
                        [
                          0.2,
                          "#de77ae"
                        ],
                        [
                          0.3,
                          "#f1b6da"
                        ],
                        [
                          0.4,
                          "#fde0ef"
                        ],
                        [
                          0.5,
                          "#f7f7f7"
                        ],
                        [
                          0.6,
                          "#e6f5d0"
                        ],
                        [
                          0.7,
                          "#b8e186"
                        ],
                        [
                          0.8,
                          "#7fbc41"
                        ],
                        [
                          0.9,
                          "#4d9221"
                        ],
                        [
                          1,
                          "#276419"
                        ]
                      ],
                      "sequential": [
                        [
                          0,
                          "#0d0887"
                        ],
                        [
                          0.1111111111111111,
                          "#46039f"
                        ],
                        [
                          0.2222222222222222,
                          "#7201a8"
                        ],
                        [
                          0.3333333333333333,
                          "#9c179e"
                        ],
                        [
                          0.4444444444444444,
                          "#bd3786"
                        ],
                        [
                          0.5555555555555556,
                          "#d8576b"
                        ],
                        [
                          0.6666666666666666,
                          "#ed7953"
                        ],
                        [
                          0.7777777777777778,
                          "#fb9f3a"
                        ],
                        [
                          0.8888888888888888,
                          "#fdca26"
                        ],
                        [
                          1,
                          "#f0f921"
                        ]
                      ],
                      "sequentialminus": [
                        [
                          0,
                          "#0d0887"
                        ],
                        [
                          0.1111111111111111,
                          "#46039f"
                        ],
                        [
                          0.2222222222222222,
                          "#7201a8"
                        ],
                        [
                          0.3333333333333333,
                          "#9c179e"
                        ],
                        [
                          0.4444444444444444,
                          "#bd3786"
                        ],
                        [
                          0.5555555555555556,
                          "#d8576b"
                        ],
                        [
                          0.6666666666666666,
                          "#ed7953"
                        ],
                        [
                          0.7777777777777778,
                          "#fb9f3a"
                        ],
                        [
                          0.8888888888888888,
                          "#fdca26"
                        ],
                        [
                          1,
                          "#f0f921"
                        ]
                      ]
                    },
                    "colorway": [
                      "#636efa",
                      "#EF553B",
                      "#00cc96",
                      "#ab63fa",
                      "#FFA15A",
                      "#19d3f3",
                      "#FF6692",
                      "#B6E880",
                      "#FF97FF",
                      "#FECB52"
                    ],
                    "font": {
                      "color": "#2a3f5f"
                    },
                    "geo": {
                      "bgcolor": "white",
                      "lakecolor": "white",
                      "landcolor": "#E5ECF6",
                      "showlakes": true,
                      "showland": true,
                      "subunitcolor": "white"
                    },
                    "hoverlabel": {
                      "align": "left"
                    },
                    "hovermode": "closest",
                    "mapbox": {
                      "style": "light"
                    },
                    "paper_bgcolor": "white",
                    "plot_bgcolor": "#E5ECF6",
                    "polar": {
                      "angularaxis": {
                        "gridcolor": "white",
                        "linecolor": "white",
                        "ticks": ""
                      },
                      "bgcolor": "#E5ECF6",
                      "radialaxis": {
                        "gridcolor": "white",
                        "linecolor": "white",
                        "ticks": ""
                      }
                    },
                    "scene": {
                      "xaxis": {
                        "backgroundcolor": "#E5ECF6",
                        "gridcolor": "white",
                        "gridwidth": 2,
                        "linecolor": "white",
                        "showbackground": true,
                        "ticks": "",
                        "zerolinecolor": "white"
                      },
                      "yaxis": {
                        "backgroundcolor": "#E5ECF6",
                        "gridcolor": "white",
                        "gridwidth": 2,
                        "linecolor": "white",
                        "showbackground": true,
                        "ticks": "",
                        "zerolinecolor": "white"
                      },
                      "zaxis": {
                        "backgroundcolor": "#E5ECF6",
                        "gridcolor": "white",
                        "gridwidth": 2,
                        "linecolor": "white",
                        "showbackground": true,
                        "ticks": "",
                        "zerolinecolor": "white"
                      }
                    },
                    "shapedefaults": {
                      "line": {
                        "color": "#2a3f5f"
                      }
                    },
                    "ternary": {
                      "aaxis": {
                        "gridcolor": "white",
                        "linecolor": "white",
                        "ticks": ""
                      },
                      "baxis": {
                        "gridcolor": "white",
                        "linecolor": "white",
                        "ticks": ""
                      },
                      "bgcolor": "#E5ECF6",
                      "caxis": {
                        "gridcolor": "white",
                        "linecolor": "white",
                        "ticks": ""
                      }
                    },
                    "title": {
                      "x": 0.05
                    },
                    "xaxis": {
                      "automargin": true,
                      "gridcolor": "white",
                      "linecolor": "white",
                      "ticks": "",
                      "title": {
                        "standoff": 15
                      },
                      "zerolinecolor": "white",
                      "zerolinewidth": 2
                    },
                    "yaxis": {
                      "automargin": true,
                      "gridcolor": "white",
                      "linecolor": "white",
                      "ticks": "",
                      "title": {
                        "standoff": 15
                      },
                      "zerolinecolor": "white",
                      "zerolinewidth": 2
                    }
                  }
                },
                "title": {
                  "text": "Västtrafik mobility based SIR model"
                },
                "width": 1000,
                "xaxis": {
                  "range": [
                    "2020-03-01",
                    "2020-08-21T00:00:00"
                  ],
                  "title": {
                    "text": "Date"
                  }
                },
                "yaxis": {
                  "title": {
                    "text": "Admissions"
                  }
                }
              }
            }
          },
          "metadata": {},
          "output_type": "display_data"
        }
      ],
      "source": [
        "numBetas = 10 #number of betas used for normal dist for conf. intervalls\n",
        "numEpsilon = 100\n",
        "\n",
        "##################  Confidence intervall calculation\n",
        "confint = np.zeros([prediction_time,2]) #defines confidence intervall arrays\n",
        "\n",
        "\n",
        "# Generates an array of betas using normal dist.\n",
        "betas=np.random.multivariate_normal(popt,pcov,numBetas) \n",
        "values = np.zeros((prediction_time,numBetas))\n",
        "\n",
        "for beta in range(len(betas)): \n",
        "  values[:,beta] = np.cumsum(modelfunction(t,*betas[beta]))\n",
        "  \n",
        "for day in range(len(t)):\n",
        "  confint[day,0]=np.quantile(values[day,:],0.025)\n",
        "  confint[day,1]=np.quantile(values[day,:],0.975)\n",
        "  \n",
        "\n",
        "##################  Prediction intervall calculation\n",
        "#få med beta skattning i predictionsintervall, dvs generera beta och fel för varje dag \n",
        "\n",
        "std_residual = np.std(modelfunction(t_fittingdata,*popt)-dailyAdmissions[:fittingPoints], ddof=2) #calcuales standard deviation of residual between model and data\n",
        "predint = np.zeros([prediction_time,2])\n",
        "\n",
        "temp = []\n",
        "pred_matrix = np.zeros((prediction_time,(numBetas*numEpsilon)))\n",
        "for day in range(prediction_time): #loops trough model values each day a adds the error values generated from t-dist to each prediction \n",
        "  for beta in range(len(betas)):\n",
        "      temp =  np.add(np.cumsum(modelfunction(t,*betas[beta]))[day],tdist.rvs(prediction_time,0,std_residual,numEpsilon))\n",
        "      pred_matrix[day,(beta*numEpsilon):(beta*numEpsilon+numEpsilon)] = temp\n",
        "\n",
        "for day in range(prediction_time): #calculates the prediction intervals\n",
        "    predint[day,0] = np.quantile(pred_matrix[day],0.025)\n",
        "    predint[day,1] = np.quantile(pred_matrix[day],0.975)\n",
        "    \n",
        "predint = np.clip(predint,0,None) #removes all negative values from lover prediction interval\n",
        "\n",
        "fig = go.Figure() #Creates a plot using graph objects and then adds each graph to figure\n",
        "fig.add_trace(go.Scatter( #plots the fitting admission data points\n",
        "                    x=pd.Series(pd.date_range(\"2020-03-01\", freq=\"D\", periods=fittingPoints)), \n",
        "                    y=np.cumsum(dailyAdmissions),\n",
        "                    mode='markers',\n",
        "                    name='Fitting admission points'))\n",
        "fig.add_trace(go.Scatter( #plots all the available admission data points\n",
        "                    x=pd.Series(pd.date_range(pd.to_datetime('2020-03-01')+timedelta(days=fittingPoints), freq=\"D\", periods=prediction_time-fittingPoints)),\n",
        "                    y=np.cumsum(dailyAdmissions)[fittingPoints:],\n",
        "                    mode='markers',\n",
        "                    marker=dict(\n",
        "                        color='firebrick',\n",
        "                    ),\n",
        "                    name='Admission data'))\n",
        "fig.add_trace(go.Scatter(\n",
        "                    x=pd.Series(pd.date_range(\"2020-03-01\", freq=\"D\", periods=prediction_time)), \n",
        "                    y=np.cumsum(modelfunction(t,*popt)),\n",
        "                    mode='lines',\n",
        "                    name='Predicted cumulative admissions'))\n",
        "fig.add_trace(go.Scatter(\n",
        "                    x=pd.Series(pd.date_range(\"2020-03-01\", freq=\"D\", periods=prediction_time)), \n",
        "                    y=confint[:,0],\n",
        "                    mode='lines',\n",
        "                    name='Lower confidence interval',\n",
        "                    line = dict( width=2, dash='dash')))\n",
        "fig.add_trace(go.Scatter(\n",
        "                    x=pd.Series(pd.date_range(\"2020-03-01\", freq=\"D\", periods=prediction_time)), \n",
        "                    y=confint[:,1],\n",
        "                    mode='lines',\n",
        "                    name='Upper confidence interval',\n",
        "                    line = dict(width=2, dash='dash')))\n",
        "fig.add_trace(go.Scatter(\n",
        "                    x=pd.Series(pd.date_range(\"2020-03-01\", freq=\"D\", periods=prediction_time)), \n",
        "                    y=predint[:,0],\n",
        "                    mode='lines',\n",
        "                    name='Lower prediction interval',\n",
        "                    line = dict(width=2, dash='dot')))\n",
        "fig.add_trace(go.Scatter(\n",
        "                    x=pd.Series(pd.date_range(\"2020-03-01\", freq=\"D\", periods=prediction_time)), \n",
        "                    y=predint[:,1],\n",
        "                    mode='lines',\n",
        "                    name='Upper prediction interval',\n",
        "                    line = dict(width=2, dash='dot')))\n",
        "fig.add_annotation(x=pd.to_datetime(\"2020-03-01\"),y=0, \n",
        "                   text=f\"RMSE: {math.floor(mean_squared_error(dailyAdmissions[:prediction_time],modelfunction(t,*popt), squared = False))}\",\n",
        "                   showarrow=False,\n",
        "                   bordercolor=\"black\",\n",
        "                   xshift=48,\n",
        "                   yshift=270\n",
        "                  )\n",
        "fig.update_layout(\n",
        "                    title='Västtrafik mobility based SIR model',\n",
        "                    xaxis_title='Date',\n",
        "                    yaxis_title='Admissions',\n",
        "                    autosize=False,\n",
        "                    width=1000,\n",
        "                    xaxis_range=[\"2020-03-01\",pd.to_datetime('2020-03-01')+timedelta(days=prediction_time)],\n",
        "                    \n",
        "                    font=dict(\n",
        "                      family=\"Courier New, monospace\",\n",
        "                      size=14,\n",
        "                      color=\"RebeccaPurple\"\n",
        "                    )\n",
        ")\n",
        "fig.show()"
      ]
    },
    {
      "cell_type": "code",
      "execution_count": 111,
      "metadata": {},
      "outputs": [],
      "source": [
        "#calcualtes RMSE for 21 days ahead of the fitting data as it increases with\n",
        "\n",
        "header = ['Idex', 'Fitting points', 'MAPE'] #header for csv file\n",
        "RMSEovertime = []   #init RMSE array\n",
        "startdata = 42  #number of intial data points for MAP calculation in days\n",
        "\n",
        "\n",
        "#writes a csv file of Index, number of fitting points and MAP\n",
        "with open('SIR_MAPE_daily.csv', 'w', encoding='UTF8', newline='') as f:\n",
        "    writer = csv.writer(f)\n",
        "\n",
        "    # write the header\n",
        "    writer.writerow(header)\n",
        "    \n",
        "    #loops over all data point for fitting and curve fits the model and calculates MAPE\n",
        "    for day in range(len(dailyAdmissions)):\n",
        "        #breaks loop when reaching final value\n",
        "        if day+startdata+21 == len(dailyAdmissions):\n",
        "            break\n",
        "        \n",
        "        #inits temp array for writing to csv file and time array for model\n",
        "        temp_RMSEovertime = []\n",
        "        t_MAPE1 = np.linspace(0,day+startdata,day+startdata)\n",
        "        t_MAPE2 = np.linspace(0,day+startdata+21,day+startdata+21)\n",
        "        \n",
        "        #curve fits model to fitting data\n",
        "        MAPE_popt, pcov = curve_fit(modelfunction, t_MAPE1, dailyAdmissions[:day+startdata], p0=[0.4198,0.003781])\n",
        "        \n",
        "        #creates temp list of Index, number of fitting points and MAP\n",
        "        temp_RMSEovertime.append(day)\n",
        "        temp_RMSEovertime.append(day+startdata-21)\n",
        "        temp_RMSEovertime.append(mean_absolute_percentage_error(np.cumsum(dailyAdmissions[:day+startdata+21])[-21:],np.cumsum(modelfunction(t_MAPE2,*MAPE_popt))[-21:]))\n",
        "        \n",
        "        #Appends matrix of all MAP vallues\n",
        "        RMSEovertime.append(temp_RMSEovertime)\n",
        "        \n",
        "         # write the data\n",
        "        writer.writerow(temp_RMSEovertime)"
      ]
    },
    {
      "cell_type": "code",
      "execution_count": null,
      "metadata": {},
      "outputs": [],
      "source": []
    },
    {
      "cell_type": "markdown",
      "metadata": {
        "id": "9acQUL9UHZyX"
      },
      "source": [
        "Cell that seatches for a global minimum of the paramaters given using RMSE"
      ]
    },
    {
      "cell_type": "code",
      "execution_count": null,
      "metadata": {},
      "outputs": [],
      "source": [
        "#VT global param search\n",
        "paramC0 = np.linspace(0,4,50)  #x-values\n",
        "paramC1 = np.linspace(0,1,50)  #y-values\n",
        "\n",
        "# #Google global param search\n",
        "# params.append(np.linspace(0,4,50)) \n",
        "# params.append(np.linspace(0,1,50))\n",
        "\n",
        "result = np.zeros((len(paramC0),len(paramC1)))\n",
        "for param1 in range(len(paramC0)):\n",
        "    for param0 in range(len(paramC1)):\n",
        "        result[param0,param1] = math.log(mean_squared_error(dailyAdmissions,modelfunction(t,paramC0[param0],paramC1[param1]), squared = False))\n",
        "\n",
        "\n",
        "\n",
        "#Calcualtes the log of RMSE for each point in parameter room\n",
        "# for input in inputs:\n",
        "#     result.append(math.log(mean_squared_error(dailyAdmissions,modelfunction(t,*input), squared = False)))"
      ]
    },
    {
      "cell_type": "code",
      "execution_count": null,
      "metadata": {},
      "outputs": [
        {
          "data": {
            "application/vnd.plotly.v1+json": {
              "config": {
                "plotlyServerURL": "https://plot.ly"
              },
              "data": [
                {
                  "colorbar": {
                    "title": {
                      "side": "right",
                      "text": "Log RMSE"
                    }
                  },
                  "type": "contour",
                  "x": [
                    0,
                    0.08163265306122448,
                    0.16326530612244897,
                    0.24489795918367346,
                    0.32653061224489793,
                    0.4081632653061224,
                    0.4897959183673469,
                    0.5714285714285714,
                    0.6530612244897959,
                    0.7346938775510203,
                    0.8163265306122448,
                    0.8979591836734693,
                    0.9795918367346939,
                    1.0612244897959182,
                    1.1428571428571428,
                    1.2244897959183672,
                    1.3061224489795917,
                    1.3877551020408163,
                    1.4693877551020407,
                    1.5510204081632653,
                    1.6326530612244896,
                    1.7142857142857142,
                    1.7959183673469385,
                    1.8775510204081631,
                    1.9591836734693877,
                    2.0408163265306123,
                    2.1224489795918364,
                    2.204081632653061,
                    2.2857142857142856,
                    2.36734693877551,
                    2.4489795918367343,
                    2.530612244897959,
                    2.6122448979591835,
                    2.693877551020408,
                    2.7755102040816326,
                    2.8571428571428568,
                    2.9387755102040813,
                    3.020408163265306,
                    3.1020408163265305,
                    3.1836734693877546,
                    3.265306122448979,
                    3.346938775510204,
                    3.4285714285714284,
                    3.510204081632653,
                    3.591836734693877,
                    3.6734693877551017,
                    3.7551020408163263,
                    3.836734693877551,
                    3.9183673469387754,
                    4
                  ],
                  "y": [
                    0,
                    0.02040816326530612,
                    0.04081632653061224,
                    0.061224489795918366,
                    0.08163265306122448,
                    0.1020408163265306,
                    0.12244897959183673,
                    0.14285714285714285,
                    0.16326530612244897,
                    0.18367346938775508,
                    0.2040816326530612,
                    0.22448979591836732,
                    0.24489795918367346,
                    0.26530612244897955,
                    0.2857142857142857,
                    0.3061224489795918,
                    0.32653061224489793,
                    0.3469387755102041,
                    0.36734693877551017,
                    0.3877551020408163,
                    0.4081632653061224,
                    0.42857142857142855,
                    0.44897959183673464,
                    0.4693877551020408,
                    0.4897959183673469,
                    0.5102040816326531,
                    0.5306122448979591,
                    0.5510204081632653,
                    0.5714285714285714,
                    0.5918367346938775,
                    0.6122448979591836,
                    0.6326530612244897,
                    0.6530612244897959,
                    0.673469387755102,
                    0.6938775510204082,
                    0.7142857142857142,
                    0.7346938775510203,
                    0.7551020408163265,
                    0.7755102040816326,
                    0.7959183673469387,
                    0.8163265306122448,
                    0.836734693877551,
                    0.8571428571428571,
                    0.8775510204081632,
                    0.8979591836734693,
                    0.9183673469387754,
                    0.9387755102040816,
                    0.9591836734693877,
                    0.9795918367346939,
                    1
                  ],
                  "z": [
                    [
                      4.37302626299335,
                      4.373026259088077,
                      4.3730262528497175,
                      4.373026243684652,
                      4.373026230396525,
                      4.373026211183086,
                      4.373026183406054,
                      4.373026143224347,
                      4.373026085063805,
                      4.37302600084203,
                      4.373025878862326,
                      4.373025702235069,
                      4.373025446659505,
                      4.373025077347823,
                      4.373024544880699,
                      4.373023779855647,
                      4.373022686507491,
                      4.373021136336073,
                      4.373018964836339,
                      4.37301597910474,
                      4.373011994380654,
                      4.373006939615064,
                      4.373001118928565,
                      4.372995813810861,
                      4.372994615145457,
                      4.373006297132665,
                      4.37305091587298,
                      4.373172595360188,
                      4.373466061472212,
                      4.374131122250713,
                      4.375582964849646,
                      4.378670517457915,
                      4.385091797525982,
                      4.398124808814848,
                      4.423715754658442,
                      4.4715008559362,
                      4.554180117639432,
                      4.682896454050735,
                      4.859618504198207,
                      5.073784521689534,
                      5.307503713666732,
                      5.5433076165424895,
                      5.768121798654199,
                      5.97349484895996,
                      6.1543996493261375,
                      6.308050154564139,
                      6.433241619209882,
                      6.530164181952117,
                      6.600354184688501,
                      6.646495792936558
                    ],
                    [
                      4.373026257985846,
                      4.373026253053642,
                      4.373026244842243,
                      4.373026232721445,
                      4.373026215147005,
                      4.3730261897604485,
                      4.373026153102811,
                      4.373026100142106,
                      4.373026023577624,
                      4.373025912837252,
                      4.3730257526388385,
                      4.373025520952202,
                      4.373025186142005,
                      4.373024703043008,
                      4.3730240077317974,
                      4.373023010920579,
                      4.373021590413008,
                      4.373019584408422,
                      4.373016790595845,
                      4.373012983064532,
                      4.373007974492653,
                      4.373001784149113,
                      4.372995042044893,
                      4.372989905999186,
                      4.372992073282538,
                      4.373015099313383,
                      4.3730895335428395,
                      4.373282025874412,
                      4.373734864673437,
                      4.374746786019899,
                      4.376935168390038,
                      4.38155170997944,
                      4.391062390179059,
                      4.410094630572034,
                      4.446606696143185,
                      4.512274234784974,
                      4.619811921397082,
                      4.776037309988139,
                      4.975583614732049,
                      5.202637269917016,
                      5.4387570731115815,
                      5.668874629525179,
                      5.882854140313928,
                      6.074588872064961,
                      6.240602768659712,
                      6.379069208483281,
                      6.489452214528054,
                      6.572509326272229,
                      6.63025798748435,
                      6.665710001769534
                    ],
                    [
                      4.373026250754218,
                      4.373026244660328,
                      4.3730262338607595,
                      4.373026217813724,
                      4.373026194535064,
                      4.373026160940628,
                      4.37302611249281,
                      4.3730260425925405,
                      4.373025941671918,
                      4.373025795891519,
                      4.373025585274587,
                      4.3730252810740735,
                      4.3730248421032805,
                      4.373024209743052,
                      4.373023301386741,
                      4.373022002383939,
                      4.373020157375533,
                      4.373017564015041,
                      4.373013976908563,
                      4.373009140373284,
                      4.373002891902199,
                      4.372995427988629,
                      4.37298792888897,
                      4.372983958699572,
                      4.372992514677044,
                      4.373034545467362,
                      4.373156698774741,
                      4.373459993496643,
                      4.374158928075388,
                      4.37570148591528,
                      4.379006927896834,
                      4.385916846116667,
                      4.399980584403384,
                      4.427589611991415,
                      4.478920659655359,
                      4.566894005849885,
                      4.70187530267364,
                      4.884025320632347,
                      5.101120541170811,
                      5.334796481470659,
                      5.568166223685253,
                      5.789187030074408,
                      5.990457916564633,
                      6.167767415594937,
                      6.31877015201814,
                      6.442327926893767,
                      6.538448535750534,
                      6.608395224005944,
                      6.654599178610537,
                      6.680315074136162
                    ],
                    [
                      4.373026240157639,
                      4.373026232906353,
                      4.373026218725503,
                      4.373026197457538,
                      4.373026166575921,
                      4.373026122047995,
                      4.373026057919178,
                      4.373025965526241,
                      4.373025832321606,
                      4.373025640174363,
                      4.373025362956855,
                      4.373024963144985,
                      4.373024387118012,
                      4.373023558830433,
                      4.37302237166617,
                      4.373020678776661,
                      4.373018283570429,
                      4.373014935280409,
                      4.373010341989861,
                      4.373004229860981,
                      4.372996512718025,
                      4.372987711286417,
                      4.372979919999189,
                      4.372978951194785,
                      4.372998976339667,
                      4.373072408771489,
                      4.37327068399547,
                      4.373747451916255,
                      4.374827145276716,
                      4.377183033290046,
                      4.382183283326289,
                      4.3925220439457,
                      4.413228297014984,
                      4.452831274559302,
                      4.523475170719978,
                      4.6375596530035175,
                      4.800314072676592,
                      5.004301882871161,
                      5.232602114191419,
                      5.4670029075909605,
                      5.6934203416745115,
                      5.902886429791207,
                      6.090312780054423,
                      6.252890394083607,
                      6.389036478913692,
                      6.498118274887694,
                      6.580624336488246,
                      6.63827993399784,
                      6.673860994885933,
                      6.690781645313625
                    ],
                    [
                      4.373026224371141,
                      4.373026216321028,
                      4.373026197752822,
                      4.373026169539809,
                      4.3730261285087275,
                      4.3730260693891205,
                      4.373025984363941,
                      4.373025862052698,
                      4.373025685983433,
                      4.37302543238861,
                      4.373025067076152,
                      4.373024541051502,
                      4.373023784513468,
                      4.373022698883429,
                      4.373021146787149,
                      4.373018940753943,
                      4.373015833565358,
                      4.37301151827761,
                      4.373005657427873,
                      4.372997985981776,
                      4.372988586503109,
                      4.372978549396469,
                      4.372971471964461,
                      4.372976753791403,
                      4.373016691941804,
                      4.373141532874433,
                      4.373461015003888,
                      4.374209634441533,
                      4.375879443626907,
                      4.379483116766043,
                      4.387050418208272,
                      4.402479483970756,
                      4.432714438800503,
                      4.488549262961713,
                      4.58302058708708,
                      4.725340053116576,
                      4.913448074477942,
                      5.133351263493087,
                      5.366378860054495,
                      5.596454465454035,
                      5.812760331880904,
                      6.00909035874943,
                      6.182136479246574,
                      6.330019595774073,
                      6.4516446123646904,
                      6.546791618550621,
                      6.61640637791055,
                      6.662634166362117,
                      6.688520743843161,
                      6.697560343845701
                    ],
                    [
                      4.373026200405119,
                      4.373026192734466,
                      4.373026168523844,
                      4.373026131074055,
                      4.373026076469143,
                      4.373025997841264,
                      4.373025884917733,
                      4.373025722736617,
                      4.3730254896578336,
                      4.373025154501902,
                      4.3730246725006365,
                      4.373023979670379,
                      4.37302298517412,
                      4.373021561356527,
                      4.373019531611642,
                      4.373016657654513,
                      4.373012631200904,
                      4.373007083043848,
                      4.37299964022252,
                      4.372990100571248,
                      4.372978876420583,
                      4.37296803421761,
                      4.372963624925797,
                      4.372980768416126,
                      4.373054547969364,
                      4.373263035126558,
                      4.373775340214111,
                      4.374950408026224,
                      4.377535748565487,
                      4.383052428204529,
                      4.394489344803253,
                      4.417380197299037,
                      4.460931789945754,
                      4.53774155234145,
                      4.659597925054981,
                      4.829669815805669,
                      5.038202488614453,
                      5.267275257881809,
                      5.499146003644613,
                      5.72092632237475,
                      5.924974976403054,
                      6.107331194471215,
                      6.2659045970587135,
                      6.399352398380345,
                      6.506906227036016,
                      6.588738175489133,
                      6.646242156911985,
                      6.681931434268511,
                      6.699042511845296,
                      6.7010777020457954
                    ],
                    [
                      4.373026163233631,
                      4.373026158900524,
                      4.373026127547785,
                      4.3730260778163865,
                      4.373026005037738,
                      4.3730259002708,
                      4.373025750024988,
                      4.373025534611882,
                      4.3730252255767885,
                      4.373024781988134,
                      4.373024145204039,
                      4.373023231661955,
                      4.373021923213921,
                      4.373020054794542,
                      4.3730174000554936,
                      4.373013657895642,
                      4.373008448296676,
                      4.373001338345273,
                      4.372991946868439,
                      4.372980235580855,
                      4.3729672219005105,
                      4.372956617496236,
                      4.372958462042364,
                      4.372996999751196,
                      4.373127479347022,
                      4.373471511646977,
                      4.374290454105972,
                      4.37613492088641,
                      4.380140399532881,
                      4.388580689717102,
                      4.405796442635094,
                      4.439403702479243,
                      4.500867979094213,
                      4.603151313821168,
                      4.75383969426697,
                      4.948262799409908,
                      5.17066330527044,
                      5.402305954077322,
                      5.628160102067873,
                      5.83880484112672,
                      6.029351907557727,
                      6.197471082691739,
                      6.341769142153253,
                      6.461168608624045,
                      6.5551756846243805,
                      6.624374073210765,
                      6.670590161318051,
                      6.696639926705862,
                      6.7058713144353534,
                      6.701733377258214
                    ],
                    [
                      4.373026104162088,
                      4.373026109928743,
                      4.373026069744471,
                      4.3730260037073005,
                      4.373025906554153,
                      4.373025766703938,
                      4.3730255664262225,
                      4.373025279798172,
                      4.373024869377591,
                      4.373024281393546,
                      4.373023439005803,
                      4.373022233094496,
                      4.373020510123078,
                      4.373018057096646,
                      4.373014585112702,
                      4.373009716722799,
                      4.373002991054525,
                      4.372993920195526,
                      4.37298217331015,
                      4.372968057260363,
                      4.37295365949607,
                      4.372945435021643,
                      4.3729598914392005,
                      4.373035839700962,
                      4.373260402739647,
                      4.373823475560484,
                      4.375129902731444,
                      4.3780249505891415,
                      4.384228633743937,
                      4.397106533789292,
                      4.422816525111958,
                      4.471343775822747,
                      4.55565574796286,
                      4.686518642609353,
                      4.864538950907589,
                      5.077504019139152,
                      5.306710730105284,
                      5.535154349829606,
                      5.751332004725574,
                      5.949060021007981,
                      6.125594718648671,
                      6.279607072434721,
                      6.409987852358851,
                      6.515794209686003,
                      6.596834617540909,
                      6.654132408857702,
                      6.6899116982939555,
                      6.707215686474154,
                      6.709429023621307,
                      6.699898887762965
                    ],
                    [
                      4.3730260076704095,
                      4.373026038361766,
                      4.373025987672928,
                      4.373025900039861,
                      4.373025770164075,
                      4.37302558312725,
                      4.373025315639617,
                      4.373024933547527,
                      4.373024387544993,
                      4.373023606956757,
                      4.373022491074461,
                      4.373020897457829,
                      4.37301862685013,
                      4.3730154052036525,
                      4.373010865851261,
                      4.37300454086005,
                      4.3729958844718455,
                      4.372984382435707,
                      4.372969868128479,
                      4.372953310581162,
                      4.372938646080466,
                      4.372936871363505,
                      4.372974968657053,
                      4.373115031243352,
                      4.373494659159855,
                      4.374410984608416,
                      4.376491867820947,
                      4.381033084897383,
                      4.390622174224746,
                      4.4101540679705185,
                      4.448042609976652,
                      4.516434525981562,
                      4.627910485975338,
                      4.787876420249018,
                      4.988738151128996,
                      5.213120994850742,
                      5.442527096267179,
                      5.663193251848348,
                      5.867233525990221,
                      6.051173151550963,
                      6.213719713106467,
                      6.35398115498628,
                      6.470872425789256,
                      6.563580788453921,
                      6.632283773979603,
                      6.678456222293646,
                      6.704663882588806,
                      6.714096999152924,
                      6.710111487973216,
                      6.695917432647759
                    ],
                    [
                      4.373025845080774,
                      4.373025932710757,
                      4.373025870361491,
                      4.37302575423773,
                      4.373025580391235,
                      4.373025329769522,
                      4.373024971804798,
                      4.3730244614783675,
                      4.373023733820117,
                      4.3730226958949645,
                      4.373021215710532,
                      4.373019107480078,
                      4.373016113109291,
                      4.373011881411448,
                      4.373005950649223,
                      4.3729977497788175,
                      4.372986655896984,
                      4.372972194196975,
                      4.372954572293603,
                      4.372935966862116,
                      4.372923460219298,
                      4.372935533067134,
                      4.373016122371281,
                      4.373264576310387,
                      4.3738985310539125,
                      4.375383508315779,
                      4.378692746308212,
                      4.3858033574033115,
                      4.400557547608867,
                      4.42987144561359,
                      4.484587219380705,
                      4.577858569291936,
                      4.718895289651792,
                      4.905260687440587,
                      5.122299500307797,
                      5.350846779654886,
                      5.574906640010754,
                      5.784516031444457,
                      5.975044441244678,
                      6.145032880493075,
                      6.293948009297647,
                      6.4209075594090885,
                      6.524757162330855,
                      6.604895810792834,
                      6.66193783966317,
                      6.6977920870842915,
                      6.715293176806976,
                      6.717700217261131,
                      6.708287107741472,
                      6.69010470883292
                    ],
                    [
                      4.373025561330087,
                      4.373025775068045,
                      4.373025701514602,
                      4.373025548034133,
                      4.373025315071384,
                      4.373024978608941,
                      4.37302449858677,
                      4.373023815647876,
                      4.373022844139808,
                      4.37302146182524,
                      4.373019495766601,
                      4.373016703931906,
                      4.3730127529656135,
                      4.373007195343128,
                      4.372999455943973,
                      4.372988853856259,
                      4.372974720659371,
                      4.372956753729737,
                      4.372935910038018,
                      4.372916502109273,
                      4.37291091118866,
                      4.372949912905847,
                      4.37310488538395,
                      4.373534836279462,
                      4.374584324469019,
                      4.376982663701597,
                      4.382233765842426,
                      4.393325500996802,
                      4.415837811113198,
                      4.459104482224216,
                      4.535887649248915,
                      4.657937950674278,
                      4.827879194977056,
                      5.0350205332343405,
                      5.260666580828446,
                      5.4868931507998955,
                      5.701393707586602,
                      5.897913728629,
                      6.074457427160046,
                      6.230815386699437,
                      6.366609444777248,
                      6.480724057205364,
                      6.5719846071089245,
                      6.640119897970299,
                      6.686221163253278,
                      6.712583991600734,
                      6.7222299509347385,
                      6.71841678493416,
                      6.704296450736455,
                      6.682750453681898
                    ],
                    [
                      4.373025046023457,
                      4.373025537200867,
                      4.373025456766045,
                      4.373025254746538,
                      4.373024942303397,
                      4.373024489756203,
                      4.373023844724816,
                      4.373022928953259,
                      4.373021629491691,
                      4.3730197855605875,
                      4.373017170739584,
                      4.3730134703344365,
                      4.373008255509857,
                      4.373000960444144,
                      4.372990879972172,
                      4.37297723080413,
                      4.372959376073568,
                      4.372937436254671,
                      4.372913774245372,
                      4.372896406007106,
                      4.3729065763749135,
                      4.3729952199158335,
                      4.373278125819613,
                      4.374009844491731,
                      4.375735893202034,
                      4.379596481539486,
                      4.38789922835457,
                      4.405083479336515,
                      4.438967267048455,
                      4.501280934889445,
                      4.6050429090324565,
                      4.757260210121381,
                      4.952063693661161,
                      5.172558319533658,
                      5.399517279241251,
                      5.61820403091867,
                      5.820303981427849,
                      6.002797386500694,
                      6.165554987931014,
                      6.308865990124589,
                      6.432069814660489,
                      6.533766713247314,
                      6.612902474343331,
                      6.669645102632173,
                      6.7055628930476745,
                      6.723267219222449,
                      6.7258841970816645,
                      6.716611595363187,
                      6.69845287144434,
                      6.674120554710446
                    ],
                    [
                      4.373024066521646,
                      4.373025174004951,
                      4.3730250994193,
                      4.373024835185909,
                      4.373024415950805,
                      4.373023806173128,
                      4.373022937609691,
                      4.373021707131308,
                      4.373019965794306,
                      4.373017502210014,
                      4.373014020309745,
                      4.373009112106997,
                      4.373002229099668,
                      4.372992663854873,
                      4.3729795717225075,
                      4.372962104200624,
                      4.372939816451907,
                      4.3729137087615,
                      4.372888683578034,
                      4.372879094445582,
                      4.372920942304651,
                      4.37309816957495,
                      4.373598412540945,
                      4.3748290474332645,
                      4.377652445156985,
                      4.383841958426369,
                      4.396892827846184,
                      4.423218750080462,
                      4.473173789179427,
                      4.559953917710827,
                      4.693874036414969,
                      4.874188625505453,
                      5.087136994146678,
                      5.313135916142912,
                      5.535173510354407,
                      5.742542804159531,
                      5.930673090579158,
                      6.099082597865438,
                      6.248675665989124,
                      6.379598936844905,
                      6.490686691172112,
                      6.580362639153656,
                      6.647866005449365,
                      6.693873618547157,
                      6.720391772870166,
                      6.730263069753663,
                      6.726642368917958,
                      6.712622303665469,
                      6.691043913858401,
                      6.664459515471225
                    ],
                    [
                      4.373022102716148,
                      4.373024612525089,
                      4.3730245738028986,
                      4.373024231478123,
                      4.373023668972919,
                      4.373022845952441,
                      4.37302167397787,
                      4.3730200172825535,
                      4.373017679541781,
                      4.37301438307699,
                      4.373009741555704,
                      4.373003228277417,
                      4.3729941474159055,
                      4.37298162876278,
                      4.372964696862627,
                      4.372942532752665,
                      4.372915193503919,
                      4.372885371157848,
                      4.3728624472450885,
                      4.3728715237857925,
                      4.3729730861473755,
                      4.373305057497893,
                      4.374171169469034,
                      4.376222476583528,
                      4.380816873099099,
                      4.390685191339592,
                      4.411007030643988,
                      4.4506446974550276,
                      4.522163447127315,
                      4.637950882203752,
                      4.80209218679028,
                      5.005069102824167,
                      5.228145367757736,
                      5.452474172448377,
                      5.664786980473101,
                      5.858477476668331,
                      6.032157457960808,
                      6.18705038920319,
                      6.324287498816349,
                      6.443426214997597,
                      6.542791160231378,
                      6.620833883967481,
                      6.677240409732264,
                      6.713214474827871,
                      6.731130349300916,
                      6.733974307856235,
                      6.724865393763965,
                      6.70675988191638,
                      6.682333224120333,
                      6.653993197091704
                    ],
                    [
                      4.373017905086664,
                      4.373023733085399,
                      4.373023794887834,
                      4.37302335769397,
                      4.373022603492426,
                      4.373021490969429,
                      4.373019906405649,
                      4.373017671385103,
                      4.373014527393147,
                      4.373010110266438,
                      4.373003917504073,
                      4.3729952733368,
                      4.372983305462533,
                      4.372966969366304,
                      4.372945205989269,
                      4.372917428045301,
                      4.3728847681461,
                      4.3728530312851435,
                      4.372839376002226,
                      4.372887020586682,
                      4.37309697472498,
                      4.37369530677928,
                      4.37517285741262,
                      4.378566799651641,
                      4.385998917794154,
                      4.401603281208517,
                      4.4327895159424235,
                      4.490980919020211,
                      4.589461164750387,
                      4.736353750385587,
                      4.927060047221654,
                      5.145016659566096,
                      5.370285862492836,
                      5.587078055288292,
                      5.78637634129862,
                      5.965304787209011,
                      6.124901877137259,
                      6.267202108184567,
                      6.392885253214129,
                      6.50071876073469,
                      6.588688312507179,
                      6.655504963788832,
                      6.701402169776626,
                      6.728079016232878,
                      6.738189624674842,
                      6.73478178635964,
                      6.720887870636309,
                      6.699309644715309,
                      6.672562868452862,
                      6.642931693103504
                    ],
                    [
                      4.373008195124182,
                      4.373022336525216,
                      4.3730226318181975,
                      4.373022085558378,
                      4.373021075962276,
                      4.3730195701677355,
                      4.373017423630951,
                      4.373014402550062,
                      4.373010167144202,
                      4.373004241090509,
                      4.3729959739288935,
                      4.37298450640295,
                      4.372968764041114,
                      4.372947540963706,
                      4.372919817742442,
                      4.372885636084842,
                      4.372848238797734,
                      4.372819006145033,
                      4.372828457442503,
                      4.37295020954499,
                      4.37335219359891,
                      4.374404066320692,
                      4.376896748564613,
                      4.3824724912489,
                      4.3944025419409956,
                      4.418772771394447,
                      4.465610301401881,
                      4.548125977403305,
                      4.677380458758827,
                      4.853820709466395,
                      5.064313045887588,
                      5.288852822621675,
                      5.50941452640606,
                      5.714351962353181,
                      5.898781480878029,
                      6.062934270946887,
                      6.209387973655541,
                      6.340126374528859,
                      6.454921573600633,
                      6.551795710210806,
                      6.628668201531341,
                      6.684709781212269,
                      6.720737370776149,
                      6.738875438224396,
                      6.741964317668936,
                      6.733042131806565,
                      6.715018217843128,
                      6.690533081655391,
                      6.661955972267159,
                      6.631472259065034
                    ],
                    [
                      4.372983415716257,
                      4.373020086208211,
                      4.373020881770658,
                      4.373020222595735,
                      4.37301887492251,
                      4.3730168348652185,
                      4.373013921836208,
                      4.373009830784522,
                      4.373004116427791,
                      4.372996158298408,
                      4.372985120412276,
                      4.372969924629986,
                      4.37294928275246,
                      4.372921893207505,
                      4.37288704329513,
                      4.37284615036935,
                      4.372806402884086,
                      4.372788993104991,
                      4.372847226091889,
                      4.373105551444331,
                      4.373842131368154,
                      4.375659582500435,
                      4.379825939538956,
                      4.38891401518694,
                      4.407856504198171,
                      4.4452228148239215,
                      4.513456297496457,
                      4.625364583916388,
                      4.786016560299103,
                      4.986686085993739,
                      5.208525472781551,
                      5.431825648724952,
                      5.642277247626361,
                      5.832593821357644,
                      6.001569603311001,
                      6.151743271355756,
                      6.286279469672403,
                      6.406394479373558,
                      6.510774089076437,
                      6.596933146808843,
                      6.6630191499070115,
                      6.708795495638459,
                      6.7356378021019765,
                      6.746003297950578,
                      6.742829101073763,
                      6.729086616105678,
                      6.707539565864268,
                      6.680669986143232,
                      6.650719527723483,
                      6.619802133512805
                    ],
                    [
                      4.372912226494551,
                      4.373016403683035,
                      4.373018228025509,
                      4.373017478487771,
                      4.373015687543411,
                      4.373012922166559,
                      4.373008962670109,
                      4.3730034135913325,
                      4.372995694054199,
                      4.372985000839443,
                      4.372970270896393,
                      4.3729501784494405,
                      4.372923245519225,
                      4.372888246024725,
                      4.37284530638872,
                      4.372798585294509,
                      4.372762437640966,
                      4.37277512344975,
                      4.3729286030232934,
                      4.373432065368053,
                      4.374744592518823,
                      4.37784416462229,
                      4.384746336025951,
                      4.399410944800035,
                      4.429015013629497,
                      4.484811838150591,
                      4.580264313257839,
                      4.724207379902419,
                      4.912849347517938,
                      5.129782572589025,
                      5.35443419238248,
                      5.57000276333158,
                      5.766561817372037,
                      5.940926851025646,
                      6.094907692673973,
                      6.2324150024841245,
                      6.356283400024001,
                      6.466494063728461,
                      6.560742728404178,
                      6.636382661282784,
                      6.692039216156324,
                      6.728122381433047,
                      6.746495748332675,
                      6.749848447762309,
                      6.741135906774459,
                      6.723221019524755,
                      6.698711307483754,
                      6.669940965761636,
                      6.639047169008577,
                      6.608101317690055
                    ],
                    [
                      4.3726788315567715,
                      4.3730102772334964,
                      4.3730141723078235,
                      4.373013413137182,
                      4.373011049146402,
                      4.373007300672175,
                      4.373001911798819,
                      4.372994374723174,
                      4.372983936925139,
                      4.372969568318023,
                      4.372949938689598,
                      4.372923468822709,
                      4.372888591877689,
                      4.372844530679468,
                      4.372793265083973,
                      4.372744150793591,
                      4.372724320827417,
                      4.372801487257194,
                      4.373132918512864,
                      4.374068572558725,
                      4.376362798335695,
                      4.381591402924407,
                      4.392912669422756,
                      4.416248260886555,
                      4.461466920184536,
                      4.54181299582538,
                      4.6687896107530475,
                      4.843532465387865,
                      5.053231791238675,
                      5.277501038909343,
                      5.4974394375491435,
                      5.700411995741999,
                      5.880860170696567,
                      6.0391945797059075,
                      6.179407947838878,
                      6.305775123773994,
                      6.4200434062476255,
                      6.520802453241056,
                      6.605067336736863,
                      6.670390778279746,
                      6.716042519175303,
                      6.743060597624555,
                      6.753698190106018,
                      6.750778812598408,
                      6.737212522392069,
                      6.715726296840291,
                      6.6887711162465395,
                      6.658550134670379,
                      6.627122030755871,
                      6.596545103242363
                    ],
                    [
                      4.371807260049403,
                      4.372999903034213,
                      4.373007924677222,
                      4.373007356116063,
                      4.373004266852172,
                      4.372999189781408,
                      4.372991849007388,
                      4.3729816017044785,
                      4.372967483120565,
                      4.372948190930461,
                      4.372922101927225,
                      4.372887433660485,
                      4.372842786566385,
                      4.37278858448052,
                      4.372730541350946,
                      4.372687578144796,
                      4.372709336154331,
                      4.372914058867477,
                      4.37356893270152,
                      4.375256627138814,
                      4.379208903416538,
                      4.387935308696393,
                      4.406270497620166,
                      4.442671658591105,
                      4.50955455145868,
                      4.619953064364118,
                      4.779420007875796,
                      4.979588042577275,
                      5.2014485580752465,
                      5.424624918591653,
                      5.633877517328319,
                      5.821044629016564,
                      5.984586995292372,
                      6.12782524551331,
                      6.255956271845801,
                      6.372646614520637,
                      6.478075984555055,
                      6.569592580789092,
                      6.6439541736971455,
                      6.699214920386638,
                      6.735360725866658,
                      6.753984966799524,
                      6.757621347288872,
                      6.749141354028495,
                      6.731362000169128,
                      6.706859841688866,
                      6.677937295723303,
                      6.646687815199771,
                      6.6151194920173015,
                      6.585306354398555
                    ],
                    [
                      4.368197980835828,
                      4.372981996873245,
                      4.372998223081319,
                      4.37299828127857,
                      4.3729943038751165,
                      4.372987439707281,
                      4.372977436801343,
                      4.3729634989466275,
                      4.3729444088860765,
                      4.372918556295748,
                      4.372884040585728,
                      4.372839046964505,
                      4.372782900614362,
                      4.372718676450802,
                      4.372659252595528,
                      4.372640830041602,
                      4.372752371858841,
                      4.3731984210842585,
                      4.374430334681785,
                      4.377412554605625,
                      4.384136771562818,
                      4.398523837544745,
                      4.4277007043717935,
                      4.482896420487496,
                      4.577662214332665,
                      4.721085499916205,
                      4.909631470238349,
                      5.126861963436756,
                      5.3517682177115296,
                      5.566787242290317,
                      5.761086827033678,
                      5.930798343203188,
                      6.0778684400469505,
                      6.207668816122757,
                      6.32553946581689,
                      6.433740584377316,
                      6.530750410574101,
                      6.613060341716535,
                      6.677602192688967,
                      6.723132578653915,
                      6.750340330242382,
                      6.761268866177533,
                      6.758625914980371,
                      6.745260123920593,
                      6.72386311800069,
                      6.6968573476501305,
                      6.66641132453982,
                      6.634533332542264,
                      6.603209727870785,
                      6.574557367658397
                    ],
                    [
                      4.353379878166786,
                      4.3729504385888145,
                      4.3729830350967624,
                      4.372984610847454,
                      4.372979603952387,
                      4.372970353233324,
                      4.372956729092466,
                      4.372937779006414,
                      4.372912005169893,
                      4.372877487196126,
                      4.3728321593037185,
                      4.372774589743698,
                      4.372705957940608,
                      4.37263471489502,
                      4.372587092825385,
                      4.372630134166777,
                      4.372921084700399,
                      4.373811203111198,
                      4.37605842552917,
                      4.381245567298844,
                      4.3925422966392,
                      4.415886460956303,
                      4.461168645241261,
                      4.541665681369196,
                      4.6689309795024885,
                      4.844148038660516,
                      5.054469636990582,
                      5.279271355396412,
                      5.499133373791772,
                      5.700635552265747,
                      5.877379661982864,
                      6.029389685728626,
                      6.161399586460185,
                      6.279814613863722,
                      6.389092836738055,
                      6.489595135355187,
                      6.578304326077835,
                      6.651359663248768,
                      6.706223556707641,
                      6.742444120459628,
                      6.76133727618358,
                      6.765278146627596,
                      6.757053564752473,
                      6.739435451732955,
                      6.714971348512914,
                      6.685935019752671,
                      6.654380489810058,
                      6.622257720276645,
                      6.591560084726377,
                      6.5644712956825115
                    ],
                    [
                      4.333471321899618,
                      4.372893519591934,
                      4.3729590611681655,
                      4.372963908513765,
                      4.372957824938863,
                      4.372945421623196,
                      4.3729268943454525,
                      4.372901169666701,
                      4.372866479348726,
                      4.372820674749502,
                      4.372761842146147,
                      4.372689827398623,
                      4.372609863321091,
                      4.372540818839686,
                      4.372533374222286,
                      4.372709163454335,
                      4.373343398710588,
                      4.375035306036206,
                      4.379047771534581,
                      4.387943653074296,
                      4.406637461419385,
                      4.443678665090555,
                      4.511530896099459,
                      4.623144951932007,
                      4.783859122522174,
                      4.985102861990759,
                      5.207729388254418,
                      5.43111397257575,
                      5.639474711341435,
                      5.823845455704525,
                      5.9819756944061515,
                      6.117237124014122,
                      6.23627107035861,
                      6.345408155617435,
                      6.447388303897877,
                      6.54056277512304,
                      6.620881520133167,
                      6.684636267083675,
                      6.730055601967686,
                      6.757470459991044,
                      6.7687103494317595,
                      6.766365854800409,
                      6.753224494267536,
                      6.7319439059196355,
                      6.704920574419185,
                      6.674291935047513,
                      6.642020613042907,
                      6.610026312852496,
                      6.580337059195544,
                      6.555222910887041
                    ],
                    [
                      4.652525482864174,
                      4.372788144677067,
                      4.3729209003863385,
                      4.3729323975390395,
                      4.372925435190769,
                      4.3729089353763335,
                      4.372883819394772,
                      4.372849011524509,
                      4.372802575127255,
                      4.372742399628871,
                      4.372667455564398,
                      4.372580680396128,
                      4.372495544825418,
                      4.372450569680036,
                      4.372540669942639,
                      4.372983497456781,
                      4.37425689842623,
                      4.377375369859083,
                      4.3844184518673766,
                      4.3994448253239264,
                      4.429755035684511,
                      4.486694976805117,
                      4.583686627726701,
                      4.7293505096529085,
                      4.919637256456168,
                      5.137909561000777,
                      5.363151578379458,
                      5.577590146713426,
                      5.769792294822792,
                      5.935074937569091,
                      6.074909426856816,
                      6.195309079375425,
                      6.303774210604944,
                      6.405490668034451,
                      6.500976734113833,
                      6.586836906799687,
                      6.658576758068596,
                      6.713052484666371,
                      6.749364896509231,
                      6.768547368268013,
                      6.772814443014199,
                      6.7648681096653105,
                      6.747436212404845,
                      6.723039153691781,
                      6.693925067559719,
                      6.6621126328222395,
                      6.629498690836139,
                      6.5980011240524945,
                      6.569707984190091,
                      6.546988674816167
                    ],
                    [
                      5.0947170520726,
                      4.372587046372687,
                      4.372859638261376,
                      4.372884203542549,
                      4.372877104518372,
                      4.372855416325014,
                      4.372821552888129,
                      4.372774725280029,
                      4.3727131294975825,
                      4.372635341817824,
                      4.372542765522814,
                      4.3724449870599456,
                      4.372371561447417,
                      4.372397458102024,
                      4.372696955704973,
                      4.373655544243801,
                      4.376096254994507,
                      4.381718220267221,
                      4.393880275558337,
                      4.418777318691041,
                      4.466520921587383,
                      4.5502991189227,
                      4.681012032806755,
                      4.858919747008717,
                      5.070709853610939,
                      5.295889205437059,
                      5.51520866758522,
                      5.714993051376246,
                      5.88813610658717,
                      6.03389101150197,
                      6.156903851687235,
                      6.264936901337141,
                      6.365206597827595,
                      6.460885626569898,
                      6.550184116878155,
                      6.628501058901201,
                      6.691476735766093,
                      6.736802259674219,
                      6.76444504207879,
                      6.776018198647439,
                      6.773994551038607,
                      6.761101156212438,
                      6.739963133862562,
                      6.712953403824059,
                      6.682181759513509,
                      6.6495696983770936,
                      6.616975497521287,
                      6.586343034350528,
                      6.559842050516333,
                      6.5399458759408295
                    ],
                    [
                      5.262661205984792,
                      4.3721888692418025,
                      4.37276043766049,
                      4.372810165789709,
                      4.372804792381169,
                      4.372776802332361,
                      4.372731547872715,
                      4.372669151908231,
                      4.372588653547986,
                      4.372490730651518,
                      4.372382347285278,
                      4.372286573647204,
                      4.372263619836474,
                      4.372455282357891,
                      4.373177192579497,
                      4.375105852639054,
                      4.37964415043858,
                      4.389589070156135,
                      4.410192796159669,
                      4.450349331776913,
                      4.5225471170151845,
                      4.6390000791710495,
                      4.803689156725943,
                      5.007097877066297,
                      5.230165495579344,
                      5.452811534003385,
                      5.65946065833411,
                      5.840731006599364,
                      5.993547539705951,
                      6.1206665952493715,
                      6.229204041117837,
                      6.3276070895190175,
                      6.421704930586143,
                      6.512145890331786,
                      6.595150303242526,
                      6.665584057650357,
                      6.719689980793735,
                      6.756116096917396,
                      6.775610493094322,
                      6.780226313823554,
                      6.772581062201543,
                      6.755359608749089,
                      6.73105722557737,
                      6.70189918262987,
                      6.669872693643099,
                      6.636826428050552,
                      6.604607995624739,
                      6.575213472616255,
                      6.55091073631313,
                      6.5342708564895995
                    ],
                    [
                      5.365766546961766,
                      4.3713625500246,
                      4.37259839994027,
                      4.37269597878731,
                      4.372696402372261,
                      4.372661310714222,
                      4.372601688688351,
                      4.372519844843772,
                      4.372417188300169,
                      4.372299417064458,
                      4.372185205666736,
                      4.372124066036281,
                      4.372233716975669,
                      4.372777357915645,
                      4.374320242870756,
                      4.378036913022597,
                      4.386280428915826,
                      4.403522556717969,
                      4.437539614473226,
                      4.499869504109693,
                      4.60322981867343,
                      4.7545025322607835,
                      4.9480328542567,
                      5.166967666157441,
                      5.391124645398601,
                      5.6034820379488925,
                      5.792647520059349,
                      5.953283111464926,
                      6.08597272965706,
                      6.196437927570191,
                      6.293375056229697,
                      6.384756522459832,
                      6.4741319155718395,
                      6.559560509701022,
                      6.635890631761271,
                      6.698108523693347,
                      6.743364086149927,
                      6.771258772456894,
                      6.783188438989061,
                      6.781508400000289,
                      6.768886123629065,
                      6.747915804282077,
                      6.720949135095328,
                      6.690071495530186,
                      6.657167550842477,
                      6.624039333477056,
                      6.592551544730931,
                      6.564775867592583,
                      6.5430874840358655,
                      6.530136165928728
                    ],
                    [
                      5.4655572729357775,
                      4.369536518549946,
                      4.372331411757657,
                      4.372519312571214,
                      4.37253384549538,
                      4.372491934492673,
                      4.372415180742538,
                      4.372310587712716,
                      4.372185060411953,
                      4.372055148510677,
                      4.371963119794714,
                      4.372009251862953,
                      4.372417876511941,
                      4.37367063336266,
                      4.376767972090595,
                      4.383717385183866,
                      4.398360281747784,
                      4.42749845608265,
                      4.481636185212177,
                      4.573397986617522,
                      4.711680411328285,
                      4.894377745892095,
                      5.10736299820348,
                      5.331085170290107,
                      5.54762457424902,
                      5.743948234059137,
                      5.912664310593602,
                      6.052120831929345,
                      6.166139548367908,
                      6.262720439301136,
                      6.3510828212806665,
                      6.437602136718473,
                      6.523030196614847,
                      6.603206592538102,
                      6.672361849892969,
                      6.7261254371444705,
                      6.762691541602211,
                      6.782522498046775,
                      6.787510305688147,
                      6.78018889947396,
                      6.76320147279484,
                      6.739020092954289,
                      6.70984985049073,
                      6.677650169065793,
                      6.644226210745676,
                      6.611360604810669,
                      6.580961831523139,
                      6.555196305661852,
                      6.536546346867853,
                      6.527706655295821
                    ],
                    [
                      5.557649017544357,
                      4.3651412824871665,
                      4.37188773397554,
                      4.372245425957593,
                      4.372290377471716,
                      4.372244654581996,
                      4.372149642566394,
                      4.372021880665428,
                      4.371879988346826,
                      4.371762787087288,
                      4.371758814604409,
                      4.372064344173651,
                      4.373099131964482,
                      4.37573265903882,
                      4.381707501497089,
                      4.394367024330509,
                      4.419696736303043,
                      4.467200254338274,
                      4.549029934913378,
                      4.675282951736262,
                      4.846814389601441,
                      5.05241095151749,
                      5.2737842713698395,
                      5.492716977740986,
                      5.6949970577375355,
                      5.871508794129051,
                      6.0184848647200315,
                      6.137595986424922,
                      6.235393560587582,
                      6.321294449998451,
                      6.40388383821134,
                      6.487030768654352,
                      6.568641238107088,
                      6.643024105160546,
                      6.704518016717548,
                      6.749733609809312,
                      6.77790705872588,
                      6.790217681540305,
                      6.788904222279526,
                      6.776575829426348,
                      6.7557974433779515,
                      6.728901709730014,
                      6.6979526757476835,
                      6.6648022378603535,
                      6.631201238224272,
                      6.598940336727656,
                      6.569996386049573,
                      6.546643619799968,
                      6.531459806132419,
                      6.527134675888626
                    ],
                    [
                      5.635711206213311,
                      4.353340446567321,
                      4.37114446011147,
                      4.371820697203657,
                      4.371927257367638,
                      4.371886840413326,
                      4.371777399089312,
                      4.371634218493168,
                      4.3714997787691665,
                      4.371457221719895,
                      4.371684148584805,
                      4.372555929721811,
                      4.374845430365211,
                      4.380095748037694,
                      4.391265216925625,
                      4.413678454703807,
                      4.455941209761928,
                      4.5295413833325275,
                      4.6451224109301235,
                      4.805778125581026,
                      5.003064977448742,
                      5.220385041013022,
                      5.439803886651526,
                      5.646456581255828,
                      5.829936904815064,
                      5.9846359159069396,
                      6.110049647236309,
                      6.210791092886647,
                      6.295499176766779,
                      6.373979708472986,
                      6.453055858636244,
                      6.533562115406946,
                      6.610971050476722,
                      6.678892388645495,
                      6.732349519952219,
                      6.769085880908286,
                      6.789279820173086,
                      6.794663485115549,
                      6.787688561224002,
                      6.7709580832147385,
                      6.746922837989073,
                      6.717770262414115,
                      6.685435433196074,
                      6.651684489080002,
                      6.618240337213372,
                      6.586928564335062,
                      6.559815633097924,
                      6.539288602569473,
                      6.527995361202105,
                      6.52855455691946
                    ],
                    [
                      5.702605445144772,
                      4.318184105901949,
                      4.369890350201076,
                      4.371163665689966,
                      4.371390407234461,
                      4.371377341516354,
                      4.371269552094322,
                      4.371138407378265,
                      4.371073661441308,
                      4.371244814096085,
                      4.371998224773159,
                      4.374038145151673,
                      4.37876120997039,
                      4.388835247388704,
                      4.409066398934653,
                      4.447299587955488,
                      4.514305703119758,
                      4.620811108033944,
                      4.7714283530265655,
                      4.960080273430206,
                      5.17202147388839,
                      5.390073131378754,
                      5.5992569429080845,
                      5.788389452022831,
                      5.95042421091635,
                      6.082851655150354,
                      6.188119982404219,
                      6.273336684212407,
                      6.348419802266159,
                      6.4224266144210835,
                      6.499493426317708,
                      6.577380173890006,
                      6.649878127670045,
                      6.710693291530344,
                      6.755904410821218,
                      6.784386024285866,
                      6.797103005952921,
                      6.796179307153297,
                      6.784167164797654,
                      6.763604032876173,
                      6.736805646900511,
                      6.705817580900382,
                      6.6724628407657205,
                      6.638445866408546,
                      6.605488602660927,
                      6.57547696895613,
                      6.550583262742132,
                      6.533302265351129,
                      6.526311251398306,
                      6.53207672632093
                    ],
                    [
                      5.764991324827923,
                      4.218957141906769,
                      4.367762841329818,
                      4.370154273803406,
                      4.3706095518600305,
                      4.370672333584458,
                      4.370610060682051,
                      4.370562505439054,
                      4.370711268999434,
                      4.371391218530538,
                      4.373262907743634,
                      4.377620342211757,
                      4.386919148537943,
                      4.405571902672059,
                      4.440808816255201,
                      4.50272272218205,
                      4.60183856928148,
                      4.743666762937792,
                      4.9239493221082995,
                      5.129691729487767,
                      5.34475798792788,
                      5.554535662099725,
                      5.747614362740898,
                      5.916022293682733,
                      6.055578529735993,
                      6.166572974438478,
                      6.254105076586645,
                      6.327207099884789,
                      6.396095485513922,
                      6.467951802228525,
                      6.543681030394907,
                      6.6184128662646105,
                      6.685160209235814,
                      6.738354293299463,
                      6.775294722653979,
                      6.795879522500213,
                      6.801683349276497,
                      6.795077370572725,
                      6.778626161875437,
                      6.754761056467727,
                      6.725654272569233,
                      6.693219740033804,
                      6.659188858046851,
                      6.625229897733119,
                      6.59309064005772,
                      6.564740126407352,
                      6.542465951519395,
                      6.528853071188939,
                      6.526551285464097,
                      6.537781909531591
                    ],
                    [
                      5.826966252506503,
                      4.101449070146998,
                      4.364145750038657,
                      4.368625840749643,
                      4.369507044764108,
                      4.369747092214227,
                      4.36983431503824,
                      4.370036403394755,
                      4.3707103825414855,
                      4.372501777372903,
                      4.3766414141495975,
                      4.385438395047891,
                      4.403018187616968,
                      4.436135442597599,
                      4.494293599358985,
                      4.58767345279334,
                      4.7222084059464065,
                      4.894888550764978,
                      5.094169534726386,
                      5.305025322863658,
                      5.5135491211855605,
                      5.708623233531524,
                      5.881933649015177,
                      6.0281062502624785,
                      6.145480159035019,
                      6.236937445285479,
                      6.309873132393352,
                      6.374506017632717,
                      6.440241383737284,
                      6.511441544136241,
                      6.58573693491559,
                      6.656432529946084,
                      6.716624285400631,
                      6.761871192614758,
                      6.790692513280311,
                      6.803842103415113,
                      6.803331333372956,
                      6.791657419918844,
                      6.771332006347836,
                      6.744656015037306,
                      6.713659234710418,
                      6.6801393662030675,
                      6.645759134729921,
                      6.612176970871095,
                      6.58119236501515,
                      6.554876221361487,
                      6.535632087442794,
                      6.526103182705887,
                      6.528839089500341,
                      6.545715971351736
                    ],
                    [
                      5.888875912190671,
                      4.167018931343032,
                      4.358019707424341,
                      4.3663758505103045,
                      4.368035384343363,
                      4.368657994869979,
                      4.369124752143128,
                      4.369938714635468,
                      4.37178525483644,
                      4.375877555469818,
                      4.38443750342909,
                      4.401393357084268,
                      4.43314683534453,
                      4.488717166489763,
                      4.577893721961257,
                      4.706707406654609,
                      4.872894193990343,
                      5.065963947367995,
                      5.271871870284133,
                      5.477563420160088,
                      5.672618010967685,
                      5.8489696899903265,
                      6.000644919666781,
                      6.124418529402967,
                      6.220980753152986,
                      6.295623088105152,
                      6.357555414075682,
                      6.417255903639299,
                      6.48219122973166,
                      6.553334691659721,
                      6.625505745223752,
                      6.6911523759211375,
                      6.744133237848783,
                      6.781314538080029,
                      6.802319273547662,
                      6.808567887389569,
                      6.802353093719294,
                      6.7862028171243525,
                      6.762530796952362,
                      6.733496289573006,
                      6.700995129651178,
                      6.666727940540876,
                      6.632313333488122,
                      6.599426491093896,
                      6.5699424443940435,
                      6.546047143833332,
                      6.530249594444005,
                      6.525203720450569,
                      6.533272187438457,
                      6.555885898742773
                    ],
                    [
                      5.949089979867472,
                      4.195352592395019,
                      4.347806896213142,
                      4.363243768724471,
                      4.366290790439941,
                      4.367700473204256,
                      4.369033655731196,
                      4.371215840993244,
                      4.375528011324633,
                      4.384172176018671,
                      4.400958502512718,
                      4.432036655423586,
                      4.486038302688379,
                      4.572363952907587,
                      4.696943095528004,
                      4.857879958438642,
                      5.045356105074643,
                      5.246061593979762,
                      5.44774335260646,
                      5.640892377600033,
                      5.818196829209369,
                      5.973739541047229,
                      6.1032775293805015,
                      6.20554252239762,
                      6.283522046061521,
                      6.344671075518836,
                      6.39934824744182,
                      6.457207672223126,
                      6.522809058505808,
                      6.593677543269176,
                      6.662670592623128,
                      6.722302860008344,
                      6.767629903303972,
                      6.796824133044963,
                      6.810433133083852,
                      6.810358442472206,
                      6.799044270273734,
                      6.778978228928631,
                      6.752448398016937,
                      6.7214713069243714,
                      6.687822753289221,
                      6.653128081212657,
                      6.61898745851888,
                      6.587118765408276,
                      6.559493327838462,
                      6.538417691847736,
                      6.52648274111423,
                      6.526289286839012,
                      6.539916378975723,
                      6.568257429813506
                    ],
                    [
                      6.005217138399851,
                      4.309423170950738,
                      4.331481286306805,
                      4.359388813613009,
                      4.364815094540178,
                      4.367783876834406,
                      4.370973598952147,
                      4.376034497279755,
                      4.38526809121784,
                      4.402449680473569,
                      4.433554931255542,
                      4.486895865156068,
                      4.571497776915081,
                      4.693085380274016,
                      4.849905240303496,
                      5.032535295224891,
                      5.228139830996012,
                      5.425071125714167,
                      5.614721560500489,
                      5.790855669991301,
                      5.9482405388187365,
                      6.082286397671419,
                      6.190192244538584,
                      6.2726734949014995,
                      6.3349718313880325,
                      6.3863112512996185,
                      6.437319442784018,
                      6.495693174470092,
                      6.562480052246053,
                      6.632228234205683,
                      6.696858591171353,
                      6.7496814472388165,
                      6.787142719868121,
                      6.808597386891347,
                      6.815315512308234,
                      6.809513864517318,
                      6.793685551165342,
                      6.770228561874445,
                      6.74129131807762,
                      6.7087543674133565,
                      6.674291342853915,
                      6.639475934468882,
                      6.6059159802779615,
                      6.575396606539606,
                      6.550001608995769,
                      6.532153964025821,
                      6.524487894092572,
                      6.529472094329135,
                      6.548800967382225,
                      6.582754598820403
                    ],
                    [
                      6.057856148635212,
                      4.614342182456822,
                      4.308119414113746,
                      4.356107095102183,
                      4.365332274294221,
                      4.3712592703777835,
                      4.3782133135214085,
                      4.388979431375495,
                      4.4074219439951445,
                      4.439400803446094,
                      4.492931156317797,
                      4.576657771344834,
                      4.696070677244095,
                      4.849505458073319,
                      5.027842899861298,
                      5.218549998460803,
                      5.410331103691462,
                      5.595266370353485,
                      5.768260427516584,
                      5.925245863629657,
                      6.0620092218123744,
                      6.1748185548125285,
                      6.262359425171592,
                      6.327460078857434,
                      6.377473952293521,
                      6.422787046581084,
                      6.473230246857949,
                      6.533543064625994,
                      6.601174908877834,
                      6.668579243605571,
                      6.727722890786713,
                      6.773177579336103,
                      6.802779220611234,
                      6.816874770180078,
                      6.817259164687847,
                      6.806325748868994,
                      6.786539932859849,
                      6.760178835597449,
                      6.7292480808922654,
                      6.695504711046098,
                      6.660540835515275,
                      6.6259034231399365,
                      6.59323380718088,
                      6.564406581883508,
                      6.541627729090983,
                      6.527420686878264,
                      6.5244084445412875,
                      6.534836078750179,
                      6.559915371774658,
                      6.599261391174472
                    ],
                    [
                      6.105735272186721,
                      4.954820215240208,
                      4.285066804833865,
                      4.357940414489868,
                      4.372372675749829,
                      4.383547056822974,
                      4.397605063711573,
                      4.418776476580293,
                      4.45281466667143,
                      4.507389251249683,
                      4.590720709388682,
                      4.708107045915514,
                      4.858125586082148,
                      5.032118063193554,
                      5.2178593509688245,
                      5.404188237387471,
                      5.583523623560442,
                      5.751695096646204,
                      5.906017791527972,
                      6.043311797947075,
                      6.159649942898812,
                      6.252132518977071,
                      6.321197542599229,
                      6.371875578246571,
                      6.413302328249453,
                      6.456179231837332,
                      6.508395248468981,
                      6.571083763691931,
                      6.6385638952633,
                      6.702271226170505,
                      6.754995475551131,
                      6.792777572429396,
                      6.814712747919458,
                      6.821925102157318,
                      6.816558182564742,
                      6.801072232171701,
                      6.77785124470085,
                      6.74903484631077,
                      6.7164909226117135,
                      6.68186957968465,
                      6.646704169517897,
                      6.612540377512394,
                      6.581078014799165,
                      6.554299663243436,
                      6.534534849993809,
                      6.524377557488858,
                      6.526369099970413,
                      6.54243154178087,
                      6.573207456390373,
                      6.6176253749562
                    ],
                    [
                      6.150134532677751,
                      5.2504462350977095,
                      4.299434953293711,
                      4.377136438061064,
                      4.396216330052245,
                      4.4156046599847905,
                      4.4415706642693875,
                      4.479306406919836,
                      4.535797979693157,
                      4.618696554266714,
                      4.733225801928926,
                      4.878602375807026,
                      5.047102284022841,
                      5.227064788338849,
                      5.40736102369289,
                      5.58034912477831,
                      5.74233095543634,
                      5.891882098378428,
                      6.027301056404653,
                      6.145245403919347,
                      6.2418648193823065,
                      6.315436852588576,
                      6.36846131472807,
                      6.408102672940614,
                      6.444708750098921,
                      6.488239279050759,
                      6.543604133052027,
                      6.608208823678349,
                      6.674149066615243,
                      6.732880296829269,
                      6.778512431625309,
                      6.808556844593284,
                      6.82316619353074,
                      6.824032407609743,
                      6.813500245592306,
                      6.7940147323484545,
                      6.767843791050891,
                      6.736984394419878,
                      6.703177712059839,
                      6.667986541806736,
                      6.632909490468167,
                      6.599516562231474,
                      6.569589263094126,
                      6.5452313372615984,
                      6.5288867269176185,
                      6.523174611566349,
                      6.530469909086444,
                      6.5522708759534245,
                      6.58858398148604,
                      6.637663028802266
                    ],
                    [
                      6.192802368978424,
                      5.488342359040981,
                      4.4336923132271435,
                      4.439067234837729,
                      4.455876881164193,
                      4.485286024089568,
                      4.527477701593757,
                      4.586304366050742,
                      4.66794451240163,
                      4.777526407979554,
                      4.915467281287207,
                      5.075766846671977,
                      5.247895132191676,
                      5.4208448457919625,
                      5.586551988273896,
                      5.74118674557646,
                      5.884122759451236,
                      6.015238197155372,
                      6.132457810531795,
                      6.2317616379740794,
                      6.309703640187511,
                      6.366252434471923,
                      6.406155411143225,
                      6.438414870167489,
                      6.473762248333335,
                      6.520253446177627,
                      6.579122072429716,
                      6.644501305575114,
                      6.707385355567422,
                      6.760073353660083,
                      6.798218303891191,
                      6.820664811512416,
                      6.828395948594636,
                      6.823484889274324,
                      6.808361048426816,
                      6.785396114547155,
                      6.756722831824507,
                      6.7241988539425845,
                      6.689454022057864,
                      6.653985615805147,
                      6.619282310682479,
                      6.586963502649059,
                      6.558912694327963,
                      6.5373609087554145,
                      6.524844626703143,
                      6.523946837660399,
                      6.5367805508309464,
                      6.5643258300801905,
                      6.605913038066135,
                      6.659166222638115
                    ],
                    [
                      6.2299175434776775,
                      5.6764339537558515,
                      4.719548060167773,
                      4.576469629155707,
                      4.575365194828515,
                      4.611720694320714,
                      4.669434823218629,
                      4.747249762957853,
                      4.848414821053315,
                      4.974573725011051,
                      5.122260744407617,
                      5.282932567010972,
                      5.446082401281776,
                      5.603014602546096,
                      5.749133305377289,
                      5.883887524758863,
                      6.008428469374399,
                      6.122368510923648,
                      6.2223472357064615,
                      6.303835697834773,
                      6.364467900339914,
                      6.406353741102982,
                      6.436451195073005,
                      6.465043364099201,
                      6.502189527735905,
                      6.552965963502717,
                      6.6147660065365885,
                      6.6793742355960335,
                      6.737772900078323,
                      6.7836337718035615,
                      6.814156741582267,
                      6.829307046529161,
                      6.8306774350469865,
                      6.820566469387198,
                      6.801400545291355,
                      6.775440151202772,
                      6.744675619559628,
                      6.7108349486099055,
                      6.67545527688709,
                      6.639991507896506,
                      6.605947530064546,
                      6.575015997262037,
                      6.549198397713092,
                      6.530849932086946,
                      6.52256321520238,
                      6.526808278811322,
                      6.545335322623719,
                      6.578526680198487,
                      6.625028399259973,
                      6.68190948555763
                    ],
                    [
                      6.262127424321008,
                      5.826670751316732,
                      5.062375721233183,
                      4.798930799926387,
                      4.765785321017685,
                      4.8001217426715765,
                      4.865239316112673,
                      4.952506014439129,
                      5.0615444709257185,
                      5.191068380811105,
                      5.335287208136414,
                      5.484917788501141,
                      5.630745172365077,
                      5.766911368625163,
                      5.892110833303164,
                      6.008095109932515,
                      6.116190408202188,
                      6.214422849203266,
                      6.297989725298697,
                      6.362595382679503,
                      6.40767977385582,
                      6.437720855904092,
                      6.461589415341448,
                      6.490027198290814,
                      6.531241347737043,
                      6.586580485236338,
                      6.6500338897416205,
                      6.712198611914701,
                      6.764914526931296,
                      6.803464961321654,
                      6.826453583603886,
                      6.834727707920181,
                      6.8302931670919165,
                      6.815550509551105,
                      6.792860798243083,
                      6.764351692896327,
                      6.731872815520847,
                      6.697036805454596,
                      6.661308900118784,
                      6.62612570820822,
                      6.593031340536283,
                      6.563813281436301,
                      6.540601102467661,
                      6.525859669420971,
                      6.522185571899907,
                      6.531846104780055,
                      6.556129441216659,
                      6.594763487377482,
                      6.645735352911718,
                      6.705657355455141
                    ],
                    [
                      6.295035747061987,
                      5.948958852158112,
                      5.374561252708654,
                      5.0735006431322764,
                      5.009450841466974,
                      5.032643658122324,
                      5.0942146994659705,
                      5.179637994927347,
                      5.285347378771019,
                      5.407642872084364,
                      5.539173092029108,
                      5.670748476605272,
                      5.795101114433286,
                      5.909445381131446,
                      6.015245921297382,
                      6.11513928325795,
                      6.208993920701488,
                      6.292621110321266,
                      6.360421109342199,
                      6.409315121677387,
                      6.441070816562812,
                      6.462478791720493,
                      6.4837604005630665,
                      6.5150585588321785,
                      6.561614635844119,
                      6.620839669718583,
                      6.684252305054018,
                      6.74240032777018,
                      6.788541984413552,
                      6.819579302066908,
                      6.835297406220853,
                      6.837193846353137,
                      6.827523433401644,
                      6.808695619777965,
                      6.7829651531196475,
                      6.7523175843000605,
                      6.718470237357513,
                      6.682937995773397,
                      6.647136454758409,
                      6.612508584631284,
                      6.580662820329491,
                      6.553499732998724,
                      6.5332791154904175,
                      6.522547539263498,
                      6.5238375322178745,
                      6.539115100213202,
                      6.5691170428736525,
                      6.612889306848845,
                      6.667817600716125,
                      6.730171433277844
                    ],
                    [
                      6.327922094651249,
                      6.049819006645305,
                      5.629346865120993,
                      5.352812430921545,
                      5.271086792054725,
                      5.279323329906924,
                      5.329720758489052,
                      5.405624887130722,
                      5.5010177118394825,
                      5.609878828063116,
                      5.723663163103583,
                      5.833988387778784,
                      5.936180681874933,
                      6.030542755642761,
                      6.120279541005641,
                      6.207162366657763,
                      6.288436586282456,
                      6.35802911986505,
                      6.410700938726325,
                      6.445446290675952,
                      6.466558895756837,
                      6.482814335763576,
                      6.504961496985559,
                      6.541348752712041,
                      6.593453252153879,
                      6.655159577081369,
                      6.716711010865264,
                      6.769519803785271,
                      6.808518354080251,
                      6.832079570123285,
                      6.840920413699323,
                      6.836982483316969,
                      6.822639389161969,
                      6.800243226866466,
                      6.771918203649393,
                      6.739507976972406,
                      6.704610798716305,
                      6.668663613975654,
                      6.633055757904839,
                      6.599261218107509,
                      6.568975294265518,
                      6.5442249656694145,
                      6.527392322126552,
                      6.521062626814894,
                      6.527621711623537,
                      6.548633123517672,
                      6.584211193884699,
                      6.632725215984595,
                      6.6910445737656445,
                      6.755216646906393
                    ],
                    [
                      6.354550684474192,
                      6.1329458251876074,
                      5.82962039718842,
                      5.604503683146027,
                      5.51937724470963,
                      5.514018386725538,
                      5.55085084839792,
                      5.614369535053822,
                      5.696611849121947,
                      5.78930169874803,
                      5.883342509699066,
                      5.97214220713999,
                      6.0541869169214735,
                      6.132362243215866,
                      6.209985204160731,
                      6.286317758252079,
                      6.355776279822176,
                      6.411558953631165,
                      6.4499904508987935,
                      6.472636943332094,
                      6.486201400643825,
                      6.50086426255893,
                      6.5268444695552255,
                      6.569547664413078,
                      6.626428997716675,
                      6.688784052841014,
                      6.746763979068004,
                      6.793238407833849,
                      6.824825500806379,
                      6.841137741803997,
                      6.843581573731138,
                      6.83437039979156,
                      6.815898500168432,
                      6.790416370672203,
                      6.75990654383301,
                      6.726077997290978,
                      6.690426454318133,
                      6.654332398461506,
                      6.619182913676445,
                      6.586507178479186,
                      6.558107269182998,
                      6.536143182681271,
                      6.5230992016703135,
                      6.521540336302566,
                      6.5336116684446655,
                      6.560378077951356,
                      6.601285916140086,
                      6.654066613400388,
                      6.715178650495181,
                      6.780566713660879
                    ],
                    [
                      6.373716411959717,
                      6.202145269404418,
                      5.986164836831552,
                      5.8147453950567485,
                      5.735566530031585,
                      5.720786691061169,
                      5.745853441567271,
                      5.79766319070279,
                      5.866457531253374,
                      5.942246088980153,
                      6.016609657748645,
                      6.085844913208801,
                      6.1516857808374,
                      6.218313106492659,
                      6.287212549660533,
                      6.354244358327985,
                      6.4118848513957545,
                      6.454094273513212,
                      6.479625572708848,
                      6.492722259950819,
                      6.502118948519247,
                      6.518577518732224,
                      6.550579833965906,
                      6.599742400897708,
                      6.659880498851489,
                      6.720924785041058,
                      6.77389117747906,
                      6.8133800134994775,
                      6.837543734898437,
                      6.846974446488296,
                      6.843552568382884,
                      6.829626753935848,
                      6.807541641676299,
                      6.779419510190155,
                      6.747100008539324,
                      6.712169530031189,
                      6.67604025214078,
                      6.640058810274961,
                      6.605634216678494,
                      6.574373963859871,
                      6.548202827901924,
                      6.5294117183465215,
                      6.520552858456193,
                      6.524096583637311,
                      6.541846737225841,
                      6.574286644795015,
                      6.620180229189147,
                      6.676690341953959,
                      6.73998201162508,
                      6.8060083686486195
                    ],
                    [
                      6.391840891905605,
                      6.2625959981055805,
                      6.109176267352198,
                      5.98152938847949,
                      5.912392945950661,
                      5.893461964963101,
                      5.910899264342086,
                      5.953248016008219,
                      6.009169141940171,
                      6.068340277403091,
                      6.124652751654629,
                      6.178020495078239,
                      6.232640771881352,
                      6.29200126450828,
                      6.354168107190664,
                      6.411922320266002,
                      6.457410328687755,
                      6.486632172238626,
                      6.5011520604525295,
                      6.507681783766201,
                      6.516388696851811,
                      6.537562981970297,
                      6.576772448613437,
                      6.631538585982913,
                      6.692972981119069,
                      6.7508667335680395,
                      6.797725246353708,
                      6.829896850846793,
                      6.846828906191177,
                      6.849840806833243,
                      6.841106904452274,
                      6.82300797252502,
                      6.797791681782734,
                      6.767439175589586,
                      6.733653180847474,
                      6.697913157815246,
                      6.661568419041819,
                      6.62595499556914,
                      6.592527941726104,
                      6.562994137067156,
                      6.539411415667496,
                      6.524188602493141,
                      6.519896121826961,
                      6.528821770692699,
                      6.552328015141883,
                      6.590255155890569,
                      6.640703701678662,
                      6.700361971379359,
                      6.7652225320684485,
                      6.831344586677516
                    ],
                    [
                      6.415434566135094,
                      6.3173421773946545,
                      6.205219763194113,
                      6.108740009490132,
                      6.051013808565097,
                      6.03326642147651,
                      6.047456050190859,
                      6.082256209770508,
                      6.125741652911976,
                      6.169328368762901,
                      6.210630118798267,
                      6.253008990289417,
                      6.301357051919767,
                      6.356340220326147,
                      6.412119630761752,
                      6.4598430148585555,
                      6.493000067176869,
                      6.51037733993704,
                      6.516316015707748,
                      6.5195659083446795,
                      6.5309084167666995,
                      6.558951045509633,
                      6.605456792379138,
                      6.664202307771326,
                      6.724844081028632,
                      6.778031722495475,
                      6.818052100665843,
                      6.842847425129777,
                      6.852890473938736,
                      6.850003409789242,
                      6.836511898770296,
                      6.814754529845349,
                      6.786853111212123,
                      6.7546450127974085,
                      6.719707129825409,
                      6.6834301724312395,
                      6.647122319860067,
                      6.6121327675929,
                      6.579985916572642,
                      6.552506003981275,
                      6.531886836685888,
                      6.52062914121076,
                      6.521255990846167,
                      6.535775176027768,
                      6.5650160140943115,
                      6.60814245465903,
                      6.662643094522118,
                      6.724842984197486,
                      6.790678717684566,
                      6.856396740400672
                    ],
                    [
                      6.443655286643738,
                      6.36469532233825,
                      6.277885253417545,
                      6.203237482088449,
                      6.15801795218071,
                      6.145740217629525,
                      6.159337190218238,
                      6.187050157056134,
                      6.218351383537782,
                      6.248390786840692,
                      6.278993269047378,
                      6.315630409479625,
                      6.361500786069926,
                      6.4130700491518695,
                      6.461524160361824,
                      6.498316694116924,
                      6.519475991820791,
                      6.526773247914071,
                      6.527018861902919,
                      6.530390612447669,
                      6.547244174701598,
                      6.583304748438093,
                      6.636177510628425,
                      6.696825143334458,
                      6.754712820539091,
                      6.802005450919951,
                      6.834795316055584,
                      6.852372082816813,
                      6.855971982574114,
                      6.847732707804283,
                      6.830023072444985,
                      6.8050892471514235,
                      6.774912508912139,
                      6.7411912380145464,
                      6.705391317928106,
                      6.668834513282743,
                      6.632810509214019,
                      6.598705383266217,
                      6.568134786380615,
                      6.543053740892596,
                      6.5257853467465115,
                      6.518881540175297,
                      6.524737629238544,
                      6.5449801634484475,
                      6.5798302754383124,
                      6.627774528332984,
                      6.68576969041788,
                      6.749897161525875,
                      6.816143549363704,
                      6.881005864889596
                    ],
                    [
                      6.469474503887366,
                      6.4010952871945275,
                      6.330777926958756,
                      6.2737848256735536,
                      6.242336114759672,
                      6.237351723481887,
                      6.250251498784213,
                      6.27007962541088,
                      6.2899451423481265,
                      6.309775553038522,
                      6.33478900728819,
                      6.370226513214875,
                      6.415436644016561,
                      6.462777337549593,
                      6.502402106784047,
                      6.527750952193629,
                      6.537921812521435,
                      6.537482837043252,
                      6.535242185612634,
                      6.542003242563023,
                      6.566488589571454,
                      6.610610809551777,
                      6.66813380091334,
                      6.728474721463759,
                      6.781945404248266,
                      6.822537309729531,
                      6.84799242547158,
                      6.85866940004259,
                      6.856335226433225,
                      6.843294330326392,
                      6.82188062499269,
                      6.794216798576254,
                      6.762139494908971,
                      6.7272183123132505,
                      6.690825476357109,
                      6.654234801917358,
                      6.618740603520112,
                      6.5857891885052435,
                      6.557106941118494,
                      6.5347868249539225,
                      6.521262835686484,
                      6.519081671668456,
                      6.5304184761791975,
                      6.556420843503826,
                      6.596651034815139,
                      6.648950653864846,
                      6.7098465188343015,
                      6.77529614121285,
                      6.84142725002215,
                      6.905033116228131
                    ]
                  ]
                }
              ],
              "layout": {
                "autosize": false,
                "font": {
                  "color": "RebeccaPurple",
                  "family": "Courier New, monospace",
                  "size": 18
                },
                "height": 800,
                "template": {
                  "data": {
                    "bar": [
                      {
                        "error_x": {
                          "color": "#2a3f5f"
                        },
                        "error_y": {
                          "color": "#2a3f5f"
                        },
                        "marker": {
                          "line": {
                            "color": "#E5ECF6",
                            "width": 0.5
                          },
                          "pattern": {
                            "fillmode": "overlay",
                            "size": 10,
                            "solidity": 0.2
                          }
                        },
                        "type": "bar"
                      }
                    ],
                    "barpolar": [
                      {
                        "marker": {
                          "line": {
                            "color": "#E5ECF6",
                            "width": 0.5
                          },
                          "pattern": {
                            "fillmode": "overlay",
                            "size": 10,
                            "solidity": 0.2
                          }
                        },
                        "type": "barpolar"
                      }
                    ],
                    "carpet": [
                      {
                        "aaxis": {
                          "endlinecolor": "#2a3f5f",
                          "gridcolor": "white",
                          "linecolor": "white",
                          "minorgridcolor": "white",
                          "startlinecolor": "#2a3f5f"
                        },
                        "baxis": {
                          "endlinecolor": "#2a3f5f",
                          "gridcolor": "white",
                          "linecolor": "white",
                          "minorgridcolor": "white",
                          "startlinecolor": "#2a3f5f"
                        },
                        "type": "carpet"
                      }
                    ],
                    "choropleth": [
                      {
                        "colorbar": {
                          "outlinewidth": 0,
                          "ticks": ""
                        },
                        "type": "choropleth"
                      }
                    ],
                    "contour": [
                      {
                        "colorbar": {
                          "outlinewidth": 0,
                          "ticks": ""
                        },
                        "colorscale": [
                          [
                            0,
                            "#0d0887"
                          ],
                          [
                            0.1111111111111111,
                            "#46039f"
                          ],
                          [
                            0.2222222222222222,
                            "#7201a8"
                          ],
                          [
                            0.3333333333333333,
                            "#9c179e"
                          ],
                          [
                            0.4444444444444444,
                            "#bd3786"
                          ],
                          [
                            0.5555555555555556,
                            "#d8576b"
                          ],
                          [
                            0.6666666666666666,
                            "#ed7953"
                          ],
                          [
                            0.7777777777777778,
                            "#fb9f3a"
                          ],
                          [
                            0.8888888888888888,
                            "#fdca26"
                          ],
                          [
                            1,
                            "#f0f921"
                          ]
                        ],
                        "type": "contour"
                      }
                    ],
                    "contourcarpet": [
                      {
                        "colorbar": {
                          "outlinewidth": 0,
                          "ticks": ""
                        },
                        "type": "contourcarpet"
                      }
                    ],
                    "heatmap": [
                      {
                        "colorbar": {
                          "outlinewidth": 0,
                          "ticks": ""
                        },
                        "colorscale": [
                          [
                            0,
                            "#0d0887"
                          ],
                          [
                            0.1111111111111111,
                            "#46039f"
                          ],
                          [
                            0.2222222222222222,
                            "#7201a8"
                          ],
                          [
                            0.3333333333333333,
                            "#9c179e"
                          ],
                          [
                            0.4444444444444444,
                            "#bd3786"
                          ],
                          [
                            0.5555555555555556,
                            "#d8576b"
                          ],
                          [
                            0.6666666666666666,
                            "#ed7953"
                          ],
                          [
                            0.7777777777777778,
                            "#fb9f3a"
                          ],
                          [
                            0.8888888888888888,
                            "#fdca26"
                          ],
                          [
                            1,
                            "#f0f921"
                          ]
                        ],
                        "type": "heatmap"
                      }
                    ],
                    "heatmapgl": [
                      {
                        "colorbar": {
                          "outlinewidth": 0,
                          "ticks": ""
                        },
                        "colorscale": [
                          [
                            0,
                            "#0d0887"
                          ],
                          [
                            0.1111111111111111,
                            "#46039f"
                          ],
                          [
                            0.2222222222222222,
                            "#7201a8"
                          ],
                          [
                            0.3333333333333333,
                            "#9c179e"
                          ],
                          [
                            0.4444444444444444,
                            "#bd3786"
                          ],
                          [
                            0.5555555555555556,
                            "#d8576b"
                          ],
                          [
                            0.6666666666666666,
                            "#ed7953"
                          ],
                          [
                            0.7777777777777778,
                            "#fb9f3a"
                          ],
                          [
                            0.8888888888888888,
                            "#fdca26"
                          ],
                          [
                            1,
                            "#f0f921"
                          ]
                        ],
                        "type": "heatmapgl"
                      }
                    ],
                    "histogram": [
                      {
                        "marker": {
                          "pattern": {
                            "fillmode": "overlay",
                            "size": 10,
                            "solidity": 0.2
                          }
                        },
                        "type": "histogram"
                      }
                    ],
                    "histogram2d": [
                      {
                        "colorbar": {
                          "outlinewidth": 0,
                          "ticks": ""
                        },
                        "colorscale": [
                          [
                            0,
                            "#0d0887"
                          ],
                          [
                            0.1111111111111111,
                            "#46039f"
                          ],
                          [
                            0.2222222222222222,
                            "#7201a8"
                          ],
                          [
                            0.3333333333333333,
                            "#9c179e"
                          ],
                          [
                            0.4444444444444444,
                            "#bd3786"
                          ],
                          [
                            0.5555555555555556,
                            "#d8576b"
                          ],
                          [
                            0.6666666666666666,
                            "#ed7953"
                          ],
                          [
                            0.7777777777777778,
                            "#fb9f3a"
                          ],
                          [
                            0.8888888888888888,
                            "#fdca26"
                          ],
                          [
                            1,
                            "#f0f921"
                          ]
                        ],
                        "type": "histogram2d"
                      }
                    ],
                    "histogram2dcontour": [
                      {
                        "colorbar": {
                          "outlinewidth": 0,
                          "ticks": ""
                        },
                        "colorscale": [
                          [
                            0,
                            "#0d0887"
                          ],
                          [
                            0.1111111111111111,
                            "#46039f"
                          ],
                          [
                            0.2222222222222222,
                            "#7201a8"
                          ],
                          [
                            0.3333333333333333,
                            "#9c179e"
                          ],
                          [
                            0.4444444444444444,
                            "#bd3786"
                          ],
                          [
                            0.5555555555555556,
                            "#d8576b"
                          ],
                          [
                            0.6666666666666666,
                            "#ed7953"
                          ],
                          [
                            0.7777777777777778,
                            "#fb9f3a"
                          ],
                          [
                            0.8888888888888888,
                            "#fdca26"
                          ],
                          [
                            1,
                            "#f0f921"
                          ]
                        ],
                        "type": "histogram2dcontour"
                      }
                    ],
                    "mesh3d": [
                      {
                        "colorbar": {
                          "outlinewidth": 0,
                          "ticks": ""
                        },
                        "type": "mesh3d"
                      }
                    ],
                    "parcoords": [
                      {
                        "line": {
                          "colorbar": {
                            "outlinewidth": 0,
                            "ticks": ""
                          }
                        },
                        "type": "parcoords"
                      }
                    ],
                    "pie": [
                      {
                        "automargin": true,
                        "type": "pie"
                      }
                    ],
                    "scatter": [
                      {
                        "marker": {
                          "colorbar": {
                            "outlinewidth": 0,
                            "ticks": ""
                          }
                        },
                        "type": "scatter"
                      }
                    ],
                    "scatter3d": [
                      {
                        "line": {
                          "colorbar": {
                            "outlinewidth": 0,
                            "ticks": ""
                          }
                        },
                        "marker": {
                          "colorbar": {
                            "outlinewidth": 0,
                            "ticks": ""
                          }
                        },
                        "type": "scatter3d"
                      }
                    ],
                    "scattercarpet": [
                      {
                        "marker": {
                          "colorbar": {
                            "outlinewidth": 0,
                            "ticks": ""
                          }
                        },
                        "type": "scattercarpet"
                      }
                    ],
                    "scattergeo": [
                      {
                        "marker": {
                          "colorbar": {
                            "outlinewidth": 0,
                            "ticks": ""
                          }
                        },
                        "type": "scattergeo"
                      }
                    ],
                    "scattergl": [
                      {
                        "marker": {
                          "colorbar": {
                            "outlinewidth": 0,
                            "ticks": ""
                          }
                        },
                        "type": "scattergl"
                      }
                    ],
                    "scattermapbox": [
                      {
                        "marker": {
                          "colorbar": {
                            "outlinewidth": 0,
                            "ticks": ""
                          }
                        },
                        "type": "scattermapbox"
                      }
                    ],
                    "scatterpolar": [
                      {
                        "marker": {
                          "colorbar": {
                            "outlinewidth": 0,
                            "ticks": ""
                          }
                        },
                        "type": "scatterpolar"
                      }
                    ],
                    "scatterpolargl": [
                      {
                        "marker": {
                          "colorbar": {
                            "outlinewidth": 0,
                            "ticks": ""
                          }
                        },
                        "type": "scatterpolargl"
                      }
                    ],
                    "scatterternary": [
                      {
                        "marker": {
                          "colorbar": {
                            "outlinewidth": 0,
                            "ticks": ""
                          }
                        },
                        "type": "scatterternary"
                      }
                    ],
                    "surface": [
                      {
                        "colorbar": {
                          "outlinewidth": 0,
                          "ticks": ""
                        },
                        "colorscale": [
                          [
                            0,
                            "#0d0887"
                          ],
                          [
                            0.1111111111111111,
                            "#46039f"
                          ],
                          [
                            0.2222222222222222,
                            "#7201a8"
                          ],
                          [
                            0.3333333333333333,
                            "#9c179e"
                          ],
                          [
                            0.4444444444444444,
                            "#bd3786"
                          ],
                          [
                            0.5555555555555556,
                            "#d8576b"
                          ],
                          [
                            0.6666666666666666,
                            "#ed7953"
                          ],
                          [
                            0.7777777777777778,
                            "#fb9f3a"
                          ],
                          [
                            0.8888888888888888,
                            "#fdca26"
                          ],
                          [
                            1,
                            "#f0f921"
                          ]
                        ],
                        "type": "surface"
                      }
                    ],
                    "table": [
                      {
                        "cells": {
                          "fill": {
                            "color": "#EBF0F8"
                          },
                          "line": {
                            "color": "white"
                          }
                        },
                        "header": {
                          "fill": {
                            "color": "#C8D4E3"
                          },
                          "line": {
                            "color": "white"
                          }
                        },
                        "type": "table"
                      }
                    ]
                  },
                  "layout": {
                    "annotationdefaults": {
                      "arrowcolor": "#2a3f5f",
                      "arrowhead": 0,
                      "arrowwidth": 1
                    },
                    "autotypenumbers": "strict",
                    "coloraxis": {
                      "colorbar": {
                        "outlinewidth": 0,
                        "ticks": ""
                      }
                    },
                    "colorscale": {
                      "diverging": [
                        [
                          0,
                          "#8e0152"
                        ],
                        [
                          0.1,
                          "#c51b7d"
                        ],
                        [
                          0.2,
                          "#de77ae"
                        ],
                        [
                          0.3,
                          "#f1b6da"
                        ],
                        [
                          0.4,
                          "#fde0ef"
                        ],
                        [
                          0.5,
                          "#f7f7f7"
                        ],
                        [
                          0.6,
                          "#e6f5d0"
                        ],
                        [
                          0.7,
                          "#b8e186"
                        ],
                        [
                          0.8,
                          "#7fbc41"
                        ],
                        [
                          0.9,
                          "#4d9221"
                        ],
                        [
                          1,
                          "#276419"
                        ]
                      ],
                      "sequential": [
                        [
                          0,
                          "#0d0887"
                        ],
                        [
                          0.1111111111111111,
                          "#46039f"
                        ],
                        [
                          0.2222222222222222,
                          "#7201a8"
                        ],
                        [
                          0.3333333333333333,
                          "#9c179e"
                        ],
                        [
                          0.4444444444444444,
                          "#bd3786"
                        ],
                        [
                          0.5555555555555556,
                          "#d8576b"
                        ],
                        [
                          0.6666666666666666,
                          "#ed7953"
                        ],
                        [
                          0.7777777777777778,
                          "#fb9f3a"
                        ],
                        [
                          0.8888888888888888,
                          "#fdca26"
                        ],
                        [
                          1,
                          "#f0f921"
                        ]
                      ],
                      "sequentialminus": [
                        [
                          0,
                          "#0d0887"
                        ],
                        [
                          0.1111111111111111,
                          "#46039f"
                        ],
                        [
                          0.2222222222222222,
                          "#7201a8"
                        ],
                        [
                          0.3333333333333333,
                          "#9c179e"
                        ],
                        [
                          0.4444444444444444,
                          "#bd3786"
                        ],
                        [
                          0.5555555555555556,
                          "#d8576b"
                        ],
                        [
                          0.6666666666666666,
                          "#ed7953"
                        ],
                        [
                          0.7777777777777778,
                          "#fb9f3a"
                        ],
                        [
                          0.8888888888888888,
                          "#fdca26"
                        ],
                        [
                          1,
                          "#f0f921"
                        ]
                      ]
                    },
                    "colorway": [
                      "#636efa",
                      "#EF553B",
                      "#00cc96",
                      "#ab63fa",
                      "#FFA15A",
                      "#19d3f3",
                      "#FF6692",
                      "#B6E880",
                      "#FF97FF",
                      "#FECB52"
                    ],
                    "font": {
                      "color": "#2a3f5f"
                    },
                    "geo": {
                      "bgcolor": "white",
                      "lakecolor": "white",
                      "landcolor": "#E5ECF6",
                      "showlakes": true,
                      "showland": true,
                      "subunitcolor": "white"
                    },
                    "hoverlabel": {
                      "align": "left"
                    },
                    "hovermode": "closest",
                    "mapbox": {
                      "style": "light"
                    },
                    "paper_bgcolor": "white",
                    "plot_bgcolor": "#E5ECF6",
                    "polar": {
                      "angularaxis": {
                        "gridcolor": "white",
                        "linecolor": "white",
                        "ticks": ""
                      },
                      "bgcolor": "#E5ECF6",
                      "radialaxis": {
                        "gridcolor": "white",
                        "linecolor": "white",
                        "ticks": ""
                      }
                    },
                    "scene": {
                      "xaxis": {
                        "backgroundcolor": "#E5ECF6",
                        "gridcolor": "white",
                        "gridwidth": 2,
                        "linecolor": "white",
                        "showbackground": true,
                        "ticks": "",
                        "zerolinecolor": "white"
                      },
                      "yaxis": {
                        "backgroundcolor": "#E5ECF6",
                        "gridcolor": "white",
                        "gridwidth": 2,
                        "linecolor": "white",
                        "showbackground": true,
                        "ticks": "",
                        "zerolinecolor": "white"
                      },
                      "zaxis": {
                        "backgroundcolor": "#E5ECF6",
                        "gridcolor": "white",
                        "gridwidth": 2,
                        "linecolor": "white",
                        "showbackground": true,
                        "ticks": "",
                        "zerolinecolor": "white"
                      }
                    },
                    "shapedefaults": {
                      "line": {
                        "color": "#2a3f5f"
                      }
                    },
                    "ternary": {
                      "aaxis": {
                        "gridcolor": "white",
                        "linecolor": "white",
                        "ticks": ""
                      },
                      "baxis": {
                        "gridcolor": "white",
                        "linecolor": "white",
                        "ticks": ""
                      },
                      "bgcolor": "#E5ECF6",
                      "caxis": {
                        "gridcolor": "white",
                        "linecolor": "white",
                        "ticks": ""
                      }
                    },
                    "title": {
                      "x": 0.05
                    },
                    "xaxis": {
                      "automargin": true,
                      "gridcolor": "white",
                      "linecolor": "white",
                      "ticks": "",
                      "title": {
                        "standoff": 15
                      },
                      "zerolinecolor": "white",
                      "zerolinewidth": 2
                    },
                    "yaxis": {
                      "automargin": true,
                      "gridcolor": "white",
                      "linecolor": "white",
                      "ticks": "",
                      "title": {
                        "standoff": 15
                      },
                      "zerolinecolor": "white",
                      "zerolinewidth": 2
                    }
                  }
                },
                "title": {
                  "text": "Global parameter search Google mobility data"
                },
                "width": 800,
                "xaxis": {
                  "title": {
                    "text": "c0 value"
                  }
                },
                "yaxis": {
                  "title": {
                    "text": "c1 value"
                  }
                }
              }
            }
          },
          "metadata": {},
          "output_type": "display_data"
        }
      ],
      "source": [
        "fig = go.Figure() #Creates a plot using graph objects and then adds each graph to figure\n",
        "# fig.add_trace(go.Scatter(x=t, y=dailyAdmissions,\n",
        "#                     mode='lines',\n",
        "#                     name='Admission data'))\n",
        "# fig.add_trace(go.Scatter(x=t, y=modelfunction(t,*best[0]),\n",
        "#                     mode='lines',\n",
        "#                     name='Predicted admissions'))\n",
        "\n",
        "fig.add_contour(\n",
        "                    z=result,\n",
        "                    x=paramC0,\n",
        "                    y=paramC1,\n",
        "                    colorbar=dict(\n",
        "                        titleside='right',\n",
        "                        title='Log RMSE', # title here\n",
        "                    )\n",
        ")  \n",
        "  \n",
        "\n",
        "fig.update_layout(\n",
        "                    title='Global parameter search Google mobility data',\n",
        "                    xaxis_title='c0 value',\n",
        "                    yaxis_title='c1 value',\n",
        "                    autosize=False,\n",
        "                    width=800,\n",
        "                    height=800,\n",
        "                    font=dict(\n",
        "                        family=\"Courier New, monospace\",\n",
        "                        size=18,\n",
        "                        color=\"RebeccaPurple\"\n",
        "    )\n",
        ")\n",
        "fig.show()\n",
        "\n",
        "#Countour plot plotta log(RMSE) för Z axeln\n",
        "\n"
      ]
    }
  ],
  "metadata": {
    "colab": {
      "collapsed_sections": [],
      "name": "Mobility based SIR.ipynb",
      "provenance": []
    },
    "kernelspec": {
      "display_name": "Python 3",
      "name": "python3"
    },
    "language_info": {
      "codemirror_mode": {
        "name": "ipython",
        "version": 3
      },
      "file_extension": ".py",
      "mimetype": "text/x-python",
      "name": "python",
      "nbconvert_exporter": "python",
      "pygments_lexer": "ipython3",
      "version": "3.9.7"
    }
  },
  "nbformat": 4,
  "nbformat_minor": 0
}
