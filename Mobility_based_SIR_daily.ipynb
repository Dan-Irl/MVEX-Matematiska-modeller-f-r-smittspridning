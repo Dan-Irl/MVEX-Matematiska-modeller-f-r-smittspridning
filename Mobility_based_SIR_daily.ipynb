{
  "cells": [
    {
      "cell_type": "code",
      "execution_count": 2,
      "metadata": {
        "id": "c-VcGDaeOCCf"
      },
      "outputs": [],
      "source": [
        "import numpy as np                            #Library that has extensive set of math methods and functions.\n",
        "from scipy.integrate import odeint            #Library that has function for solving differentail equations\n",
        "from scipy.interpolate import interp1d        #Library containing fuctions of interpolating data\n",
        "from scipy.optimize import curve_fit          #Library containing fuctions of fitting paramaters to data\n",
        "from scipy.stats import t as tdist\n",
        "import pandas as pd\n",
        "from sklearn.metrics import mean_squared_error, mean_absolute_percentage_error\n",
        "import math\n",
        "from itertools import repeat\n",
        "from datetime import timedelta\n",
        "import csv\n",
        "\n",
        "\n",
        "\n",
        "#Library to plot data\n",
        "import plotly.graph_objects as go\n",
        "\n",
        "#använd curvefit för att anpassa parametrar \n",
        "\n",
        "mobility_data = pd.read_csv('https://raw.githubusercontent.com/Dan-Irl/MVEX-Matematiska-modeller-f-r-smittspridning/main/SwedenMobilityData.csv')   #imports mobility data from github\n",
        "\n",
        "temperature_data = pd.read_json('https://raw.githubusercontent.com/Dan-Irl/MVEX-Matematiska-modeller-f-r-smittspridning/main/smhidata_2020_2021.json')  #imports temperature data from github \n",
        "\n",
        "admission_data = pd.read_json('https://raw.githubusercontent.com/Dan-Irl/MVEX-Matematiska-modeller-f-r-smittspridning/main/Inskrivningsdata.json')                  #imports admission data from github\n",
        "\n",
        "VT_mobility_data = pd.read_csv('https://raw.githubusercontent.com/Dan-Irl/MVEX-Matematiska-modeller-f-r-smittspridning/main/VT_mobility.csv')\n",
        "\n",
        "\n",
        "#Jämför RMSE mellan modeller berode på antal datapunkter\n",
        "#jämför hur ofta prediction hamnar i predictionsintervall mellan modeller berode på antal datapunkter"
      ]
    },
    {
      "cell_type": "code",
      "execution_count": 3,
      "metadata": {},
      "outputs": [],
      "source": [
        "# A array of time points in days for the model to use\n",
        "prediction_time = 173\n",
        "t = np.linspace(1, prediction_time, prediction_time)\n",
        "\n",
        "#Defines how many data point are to be used for model fitting\n",
        "fittingPoints = 173 # Max 173 days\n",
        "t_fittingdata = np.linspace(0, fittingPoints, fittingPoints)\n",
        "startdata = 42  #number of intial data points for MAP/ISalpha calculation in days\n",
        "\n",
        "\n",
        "dailyAdmissions = admission_data['Inskrivningar']\n"
      ]
    },
    {
      "cell_type": "markdown",
      "metadata": {},
      "source": [
        "Created the mobility function for Västtrafik"
      ]
    },
    {
      "cell_type": "code",
      "execution_count": 4,
      "metadata": {},
      "outputs": [
        {
          "data": {
            "application/vnd.plotly.v1+json": {
              "config": {
                "plotlyServerURL": "https://plot.ly"
              },
              "data": [
                {
                  "mode": "lines",
                  "name": "Mobility function",
                  "type": "scatter",
                  "x": [
                    1,
                    2,
                    3,
                    4,
                    5,
                    6,
                    7,
                    8,
                    9,
                    10,
                    11,
                    12,
                    13,
                    14,
                    15,
                    16,
                    17,
                    18,
                    19,
                    20,
                    21,
                    22,
                    23,
                    24,
                    25,
                    26,
                    27,
                    28,
                    29,
                    30,
                    31,
                    32,
                    33,
                    34,
                    35,
                    36,
                    37,
                    38,
                    39,
                    40,
                    41,
                    42,
                    43,
                    44,
                    45,
                    46,
                    47,
                    48,
                    49,
                    50,
                    51,
                    52,
                    53,
                    54,
                    55,
                    56,
                    57,
                    58,
                    59,
                    60,
                    61,
                    62,
                    63,
                    64,
                    65,
                    66,
                    67,
                    68,
                    69,
                    70,
                    71,
                    72,
                    73,
                    74,
                    75,
                    76,
                    77,
                    78,
                    79,
                    80,
                    81,
                    82,
                    83,
                    84,
                    85,
                    86,
                    87,
                    88,
                    89,
                    90,
                    91,
                    92,
                    93,
                    94,
                    95,
                    96,
                    97,
                    98,
                    99,
                    100,
                    101,
                    102,
                    103,
                    104,
                    105,
                    106,
                    107,
                    108,
                    109,
                    110,
                    111,
                    112,
                    113,
                    114,
                    115,
                    116,
                    117,
                    118,
                    119,
                    120,
                    121,
                    122,
                    123,
                    124,
                    125,
                    126,
                    127,
                    128,
                    129,
                    130,
                    131,
                    132,
                    133,
                    134,
                    135,
                    136,
                    137,
                    138,
                    139,
                    140,
                    141,
                    142,
                    143,
                    144,
                    145,
                    146,
                    147,
                    148,
                    149,
                    150,
                    151,
                    152,
                    153,
                    154,
                    155,
                    156,
                    157,
                    158,
                    159,
                    160,
                    161,
                    162,
                    163,
                    164,
                    165,
                    166,
                    167,
                    168,
                    169,
                    170,
                    171,
                    172,
                    173
                  ],
                  "y": [
                    0,
                    -0.6285714285714287,
                    -1.2571428571428573,
                    -1.8857142857142861,
                    -2.5142857142857147,
                    -3.1428571428571432,
                    -3.7714285714285722,
                    -4.4,
                    -5.800000000000001,
                    -7.2,
                    -8.6,
                    -10,
                    -11.4,
                    -12.799999999999999,
                    -14.2,
                    -18.085714285714285,
                    -21.97142857142857,
                    -25.857142857142854,
                    -29.74285714285714,
                    -33.628571428571426,
                    -37.51428571428571,
                    -41.4,
                    -42.48571428571429,
                    -43.57142857142857,
                    -44.65714285714286,
                    -45.74285714285714,
                    -46.82857142857143,
                    -47.91428571428571,
                    -49,
                    -49.44285714285714,
                    -49.885714285714286,
                    -50.32857142857143,
                    -50.77142857142857,
                    -51.214285714285715,
                    -51.65714285714286,
                    -52.1,
                    -53.24285714285715,
                    -54.385714285714286,
                    -55.52857142857143,
                    -56.67142857142857,
                    -57.81428571428572,
                    -58.957142857142856,
                    -60.1,
                    -59.58571428571429,
                    -59.07142857142857,
                    -58.55714285714286,
                    -58.042857142857144,
                    -57.52857142857143,
                    -57.01428571428571,
                    -56.5,
                    -55.58571428571429,
                    -54.67142857142857,
                    -53.75714285714286,
                    -52.84285714285714,
                    -51.92857142857143,
                    -51.01428571428572,
                    -50.1,
                    -50.57142857142857,
                    -51.042857142857144,
                    -51.51428571428571,
                    -51.98571428571429,
                    -52.457142857142856,
                    -52.92857142857143,
                    -53.4,
                    -52.75714285714285,
                    -52.114285714285714,
                    -51.47142857142857,
                    -50.82857142857143,
                    -50.18571428571428,
                    -49.542857142857144,
                    -48.9,
                    -48.77142857142857,
                    -48.64285714285714,
                    -48.51428571428571,
                    -48.385714285714286,
                    -48.25714285714286,
                    -48.128571428571426,
                    -48,
                    -48.65714285714286,
                    -49.31428571428572,
                    -49.971428571428575,
                    -50.628571428571426,
                    -51.285714285714285,
                    -51.94285714285714,
                    -52.6,
                    -51.15714285714286,
                    -49.714285714285715,
                    -48.27142857142857,
                    -46.82857142857143,
                    -45.385714285714286,
                    -43.94285714285714,
                    -42.5,
                    -42.614285714285714,
                    -42.72857142857143,
                    -42.84285714285714,
                    -42.957142857142856,
                    -43.07142857142857,
                    -43.18571428571428,
                    -43.3,
                    -42.74285714285714,
                    -42.18571428571428,
                    -41.628571428571426,
                    -41.07142857142857,
                    -40.51428571428571,
                    -39.957142857142856,
                    -39.4,
                    -41.34285714285714,
                    -43.285714285714285,
                    -45.22857142857143,
                    -47.17142857142857,
                    -49.114285714285714,
                    -51.05714285714286,
                    -53,
                    -52.142857142857146,
                    -51.285714285714285,
                    -50.42857142857143,
                    -49.57142857142857,
                    -48.714285714285715,
                    -47.85714285714286,
                    -47,
                    -47.42857142857143,
                    -47.857142857142854,
                    -48.285714285714285,
                    -48.714285714285715,
                    -49.142857142857146,
                    -49.57142857142857,
                    -50,
                    -50.42857142857143,
                    -50.857142857142854,
                    -51.285714285714285,
                    -51.714285714285715,
                    -52.142857142857146,
                    -52.57142857142857,
                    -53,
                    -53.42857142857143,
                    -53.857142857142854,
                    -54.285714285714285,
                    -54.714285714285715,
                    -55.142857142857146,
                    -55.57142857142857,
                    -56,
                    -55.857142857142854,
                    -55.714285714285715,
                    -55.57142857142857,
                    -55.42857142857143,
                    -55.285714285714285,
                    -55.142857142857146,
                    -55,
                    -54.714285714285715,
                    -54.42857142857143,
                    -54.142857142857146,
                    -53.857142857142854,
                    -53.57142857142857,
                    -53.285714285714285,
                    -53,
                    -52.57142857142857,
                    -52.142857142857146,
                    -51.714285714285715,
                    -51.285714285714285,
                    -50.857142857142854,
                    -50.42857142857143,
                    -50,
                    -49.57142857142857,
                    -49.142857142857146,
                    -48.714285714285715,
                    -48.285714285714285,
                    -47.857142857142854,
                    -47.42857142857143,
                    -47,
                    -45.857142857142854,
                    -44.714285714285715,
                    -43.57142857142857,
                    -42.42857142857143
                  ]
                }
              ],
              "layout": {
                "autosize": false,
                "font": {
                  "color": "RebeccaPurple",
                  "family": "Courier New, monospace",
                  "size": 14
                },
                "template": {
                  "data": {
                    "bar": [
                      {
                        "error_x": {
                          "color": "#2a3f5f"
                        },
                        "error_y": {
                          "color": "#2a3f5f"
                        },
                        "marker": {
                          "line": {
                            "color": "#E5ECF6",
                            "width": 0.5
                          },
                          "pattern": {
                            "fillmode": "overlay",
                            "size": 10,
                            "solidity": 0.2
                          }
                        },
                        "type": "bar"
                      }
                    ],
                    "barpolar": [
                      {
                        "marker": {
                          "line": {
                            "color": "#E5ECF6",
                            "width": 0.5
                          },
                          "pattern": {
                            "fillmode": "overlay",
                            "size": 10,
                            "solidity": 0.2
                          }
                        },
                        "type": "barpolar"
                      }
                    ],
                    "carpet": [
                      {
                        "aaxis": {
                          "endlinecolor": "#2a3f5f",
                          "gridcolor": "white",
                          "linecolor": "white",
                          "minorgridcolor": "white",
                          "startlinecolor": "#2a3f5f"
                        },
                        "baxis": {
                          "endlinecolor": "#2a3f5f",
                          "gridcolor": "white",
                          "linecolor": "white",
                          "minorgridcolor": "white",
                          "startlinecolor": "#2a3f5f"
                        },
                        "type": "carpet"
                      }
                    ],
                    "choropleth": [
                      {
                        "colorbar": {
                          "outlinewidth": 0,
                          "ticks": ""
                        },
                        "type": "choropleth"
                      }
                    ],
                    "contour": [
                      {
                        "colorbar": {
                          "outlinewidth": 0,
                          "ticks": ""
                        },
                        "colorscale": [
                          [
                            0,
                            "#0d0887"
                          ],
                          [
                            0.1111111111111111,
                            "#46039f"
                          ],
                          [
                            0.2222222222222222,
                            "#7201a8"
                          ],
                          [
                            0.3333333333333333,
                            "#9c179e"
                          ],
                          [
                            0.4444444444444444,
                            "#bd3786"
                          ],
                          [
                            0.5555555555555556,
                            "#d8576b"
                          ],
                          [
                            0.6666666666666666,
                            "#ed7953"
                          ],
                          [
                            0.7777777777777778,
                            "#fb9f3a"
                          ],
                          [
                            0.8888888888888888,
                            "#fdca26"
                          ],
                          [
                            1,
                            "#f0f921"
                          ]
                        ],
                        "type": "contour"
                      }
                    ],
                    "contourcarpet": [
                      {
                        "colorbar": {
                          "outlinewidth": 0,
                          "ticks": ""
                        },
                        "type": "contourcarpet"
                      }
                    ],
                    "heatmap": [
                      {
                        "colorbar": {
                          "outlinewidth": 0,
                          "ticks": ""
                        },
                        "colorscale": [
                          [
                            0,
                            "#0d0887"
                          ],
                          [
                            0.1111111111111111,
                            "#46039f"
                          ],
                          [
                            0.2222222222222222,
                            "#7201a8"
                          ],
                          [
                            0.3333333333333333,
                            "#9c179e"
                          ],
                          [
                            0.4444444444444444,
                            "#bd3786"
                          ],
                          [
                            0.5555555555555556,
                            "#d8576b"
                          ],
                          [
                            0.6666666666666666,
                            "#ed7953"
                          ],
                          [
                            0.7777777777777778,
                            "#fb9f3a"
                          ],
                          [
                            0.8888888888888888,
                            "#fdca26"
                          ],
                          [
                            1,
                            "#f0f921"
                          ]
                        ],
                        "type": "heatmap"
                      }
                    ],
                    "heatmapgl": [
                      {
                        "colorbar": {
                          "outlinewidth": 0,
                          "ticks": ""
                        },
                        "colorscale": [
                          [
                            0,
                            "#0d0887"
                          ],
                          [
                            0.1111111111111111,
                            "#46039f"
                          ],
                          [
                            0.2222222222222222,
                            "#7201a8"
                          ],
                          [
                            0.3333333333333333,
                            "#9c179e"
                          ],
                          [
                            0.4444444444444444,
                            "#bd3786"
                          ],
                          [
                            0.5555555555555556,
                            "#d8576b"
                          ],
                          [
                            0.6666666666666666,
                            "#ed7953"
                          ],
                          [
                            0.7777777777777778,
                            "#fb9f3a"
                          ],
                          [
                            0.8888888888888888,
                            "#fdca26"
                          ],
                          [
                            1,
                            "#f0f921"
                          ]
                        ],
                        "type": "heatmapgl"
                      }
                    ],
                    "histogram": [
                      {
                        "marker": {
                          "pattern": {
                            "fillmode": "overlay",
                            "size": 10,
                            "solidity": 0.2
                          }
                        },
                        "type": "histogram"
                      }
                    ],
                    "histogram2d": [
                      {
                        "colorbar": {
                          "outlinewidth": 0,
                          "ticks": ""
                        },
                        "colorscale": [
                          [
                            0,
                            "#0d0887"
                          ],
                          [
                            0.1111111111111111,
                            "#46039f"
                          ],
                          [
                            0.2222222222222222,
                            "#7201a8"
                          ],
                          [
                            0.3333333333333333,
                            "#9c179e"
                          ],
                          [
                            0.4444444444444444,
                            "#bd3786"
                          ],
                          [
                            0.5555555555555556,
                            "#d8576b"
                          ],
                          [
                            0.6666666666666666,
                            "#ed7953"
                          ],
                          [
                            0.7777777777777778,
                            "#fb9f3a"
                          ],
                          [
                            0.8888888888888888,
                            "#fdca26"
                          ],
                          [
                            1,
                            "#f0f921"
                          ]
                        ],
                        "type": "histogram2d"
                      }
                    ],
                    "histogram2dcontour": [
                      {
                        "colorbar": {
                          "outlinewidth": 0,
                          "ticks": ""
                        },
                        "colorscale": [
                          [
                            0,
                            "#0d0887"
                          ],
                          [
                            0.1111111111111111,
                            "#46039f"
                          ],
                          [
                            0.2222222222222222,
                            "#7201a8"
                          ],
                          [
                            0.3333333333333333,
                            "#9c179e"
                          ],
                          [
                            0.4444444444444444,
                            "#bd3786"
                          ],
                          [
                            0.5555555555555556,
                            "#d8576b"
                          ],
                          [
                            0.6666666666666666,
                            "#ed7953"
                          ],
                          [
                            0.7777777777777778,
                            "#fb9f3a"
                          ],
                          [
                            0.8888888888888888,
                            "#fdca26"
                          ],
                          [
                            1,
                            "#f0f921"
                          ]
                        ],
                        "type": "histogram2dcontour"
                      }
                    ],
                    "mesh3d": [
                      {
                        "colorbar": {
                          "outlinewidth": 0,
                          "ticks": ""
                        },
                        "type": "mesh3d"
                      }
                    ],
                    "parcoords": [
                      {
                        "line": {
                          "colorbar": {
                            "outlinewidth": 0,
                            "ticks": ""
                          }
                        },
                        "type": "parcoords"
                      }
                    ],
                    "pie": [
                      {
                        "automargin": true,
                        "type": "pie"
                      }
                    ],
                    "scatter": [
                      {
                        "marker": {
                          "colorbar": {
                            "outlinewidth": 0,
                            "ticks": ""
                          }
                        },
                        "type": "scatter"
                      }
                    ],
                    "scatter3d": [
                      {
                        "line": {
                          "colorbar": {
                            "outlinewidth": 0,
                            "ticks": ""
                          }
                        },
                        "marker": {
                          "colorbar": {
                            "outlinewidth": 0,
                            "ticks": ""
                          }
                        },
                        "type": "scatter3d"
                      }
                    ],
                    "scattercarpet": [
                      {
                        "marker": {
                          "colorbar": {
                            "outlinewidth": 0,
                            "ticks": ""
                          }
                        },
                        "type": "scattercarpet"
                      }
                    ],
                    "scattergeo": [
                      {
                        "marker": {
                          "colorbar": {
                            "outlinewidth": 0,
                            "ticks": ""
                          }
                        },
                        "type": "scattergeo"
                      }
                    ],
                    "scattergl": [
                      {
                        "marker": {
                          "colorbar": {
                            "outlinewidth": 0,
                            "ticks": ""
                          }
                        },
                        "type": "scattergl"
                      }
                    ],
                    "scattermapbox": [
                      {
                        "marker": {
                          "colorbar": {
                            "outlinewidth": 0,
                            "ticks": ""
                          }
                        },
                        "type": "scattermapbox"
                      }
                    ],
                    "scatterpolar": [
                      {
                        "marker": {
                          "colorbar": {
                            "outlinewidth": 0,
                            "ticks": ""
                          }
                        },
                        "type": "scatterpolar"
                      }
                    ],
                    "scatterpolargl": [
                      {
                        "marker": {
                          "colorbar": {
                            "outlinewidth": 0,
                            "ticks": ""
                          }
                        },
                        "type": "scatterpolargl"
                      }
                    ],
                    "scatterternary": [
                      {
                        "marker": {
                          "colorbar": {
                            "outlinewidth": 0,
                            "ticks": ""
                          }
                        },
                        "type": "scatterternary"
                      }
                    ],
                    "surface": [
                      {
                        "colorbar": {
                          "outlinewidth": 0,
                          "ticks": ""
                        },
                        "colorscale": [
                          [
                            0,
                            "#0d0887"
                          ],
                          [
                            0.1111111111111111,
                            "#46039f"
                          ],
                          [
                            0.2222222222222222,
                            "#7201a8"
                          ],
                          [
                            0.3333333333333333,
                            "#9c179e"
                          ],
                          [
                            0.4444444444444444,
                            "#bd3786"
                          ],
                          [
                            0.5555555555555556,
                            "#d8576b"
                          ],
                          [
                            0.6666666666666666,
                            "#ed7953"
                          ],
                          [
                            0.7777777777777778,
                            "#fb9f3a"
                          ],
                          [
                            0.8888888888888888,
                            "#fdca26"
                          ],
                          [
                            1,
                            "#f0f921"
                          ]
                        ],
                        "type": "surface"
                      }
                    ],
                    "table": [
                      {
                        "cells": {
                          "fill": {
                            "color": "#EBF0F8"
                          },
                          "line": {
                            "color": "white"
                          }
                        },
                        "header": {
                          "fill": {
                            "color": "#C8D4E3"
                          },
                          "line": {
                            "color": "white"
                          }
                        },
                        "type": "table"
                      }
                    ]
                  },
                  "layout": {
                    "annotationdefaults": {
                      "arrowcolor": "#2a3f5f",
                      "arrowhead": 0,
                      "arrowwidth": 1
                    },
                    "autotypenumbers": "strict",
                    "coloraxis": {
                      "colorbar": {
                        "outlinewidth": 0,
                        "ticks": ""
                      }
                    },
                    "colorscale": {
                      "diverging": [
                        [
                          0,
                          "#8e0152"
                        ],
                        [
                          0.1,
                          "#c51b7d"
                        ],
                        [
                          0.2,
                          "#de77ae"
                        ],
                        [
                          0.3,
                          "#f1b6da"
                        ],
                        [
                          0.4,
                          "#fde0ef"
                        ],
                        [
                          0.5,
                          "#f7f7f7"
                        ],
                        [
                          0.6,
                          "#e6f5d0"
                        ],
                        [
                          0.7,
                          "#b8e186"
                        ],
                        [
                          0.8,
                          "#7fbc41"
                        ],
                        [
                          0.9,
                          "#4d9221"
                        ],
                        [
                          1,
                          "#276419"
                        ]
                      ],
                      "sequential": [
                        [
                          0,
                          "#0d0887"
                        ],
                        [
                          0.1111111111111111,
                          "#46039f"
                        ],
                        [
                          0.2222222222222222,
                          "#7201a8"
                        ],
                        [
                          0.3333333333333333,
                          "#9c179e"
                        ],
                        [
                          0.4444444444444444,
                          "#bd3786"
                        ],
                        [
                          0.5555555555555556,
                          "#d8576b"
                        ],
                        [
                          0.6666666666666666,
                          "#ed7953"
                        ],
                        [
                          0.7777777777777778,
                          "#fb9f3a"
                        ],
                        [
                          0.8888888888888888,
                          "#fdca26"
                        ],
                        [
                          1,
                          "#f0f921"
                        ]
                      ],
                      "sequentialminus": [
                        [
                          0,
                          "#0d0887"
                        ],
                        [
                          0.1111111111111111,
                          "#46039f"
                        ],
                        [
                          0.2222222222222222,
                          "#7201a8"
                        ],
                        [
                          0.3333333333333333,
                          "#9c179e"
                        ],
                        [
                          0.4444444444444444,
                          "#bd3786"
                        ],
                        [
                          0.5555555555555556,
                          "#d8576b"
                        ],
                        [
                          0.6666666666666666,
                          "#ed7953"
                        ],
                        [
                          0.7777777777777778,
                          "#fb9f3a"
                        ],
                        [
                          0.8888888888888888,
                          "#fdca26"
                        ],
                        [
                          1,
                          "#f0f921"
                        ]
                      ]
                    },
                    "colorway": [
                      "#636efa",
                      "#EF553B",
                      "#00cc96",
                      "#ab63fa",
                      "#FFA15A",
                      "#19d3f3",
                      "#FF6692",
                      "#B6E880",
                      "#FF97FF",
                      "#FECB52"
                    ],
                    "font": {
                      "color": "#2a3f5f"
                    },
                    "geo": {
                      "bgcolor": "white",
                      "lakecolor": "white",
                      "landcolor": "#E5ECF6",
                      "showlakes": true,
                      "showland": true,
                      "subunitcolor": "white"
                    },
                    "hoverlabel": {
                      "align": "left"
                    },
                    "hovermode": "closest",
                    "mapbox": {
                      "style": "light"
                    },
                    "paper_bgcolor": "white",
                    "plot_bgcolor": "#E5ECF6",
                    "polar": {
                      "angularaxis": {
                        "gridcolor": "white",
                        "linecolor": "white",
                        "ticks": ""
                      },
                      "bgcolor": "#E5ECF6",
                      "radialaxis": {
                        "gridcolor": "white",
                        "linecolor": "white",
                        "ticks": ""
                      }
                    },
                    "scene": {
                      "xaxis": {
                        "backgroundcolor": "#E5ECF6",
                        "gridcolor": "white",
                        "gridwidth": 2,
                        "linecolor": "white",
                        "showbackground": true,
                        "ticks": "",
                        "zerolinecolor": "white"
                      },
                      "yaxis": {
                        "backgroundcolor": "#E5ECF6",
                        "gridcolor": "white",
                        "gridwidth": 2,
                        "linecolor": "white",
                        "showbackground": true,
                        "ticks": "",
                        "zerolinecolor": "white"
                      },
                      "zaxis": {
                        "backgroundcolor": "#E5ECF6",
                        "gridcolor": "white",
                        "gridwidth": 2,
                        "linecolor": "white",
                        "showbackground": true,
                        "ticks": "",
                        "zerolinecolor": "white"
                      }
                    },
                    "shapedefaults": {
                      "line": {
                        "color": "#2a3f5f"
                      }
                    },
                    "ternary": {
                      "aaxis": {
                        "gridcolor": "white",
                        "linecolor": "white",
                        "ticks": ""
                      },
                      "baxis": {
                        "gridcolor": "white",
                        "linecolor": "white",
                        "ticks": ""
                      },
                      "bgcolor": "#E5ECF6",
                      "caxis": {
                        "gridcolor": "white",
                        "linecolor": "white",
                        "ticks": ""
                      }
                    },
                    "title": {
                      "x": 0.05
                    },
                    "xaxis": {
                      "automargin": true,
                      "gridcolor": "white",
                      "linecolor": "white",
                      "ticks": "",
                      "title": {
                        "standoff": 15
                      },
                      "zerolinecolor": "white",
                      "zerolinewidth": 2
                    },
                    "yaxis": {
                      "automargin": true,
                      "gridcolor": "white",
                      "linecolor": "white",
                      "ticks": "",
                      "title": {
                        "standoff": 15
                      },
                      "zerolinecolor": "white",
                      "zerolinewidth": 2
                    }
                  }
                },
                "title": {
                  "text": "Mobility functions"
                },
                "width": 1000,
                "xaxis": {
                  "title": {
                    "text": "Days"
                  }
                },
                "yaxis": {
                  "title": {
                    "text": "daily change in mobility %"
                  }
                }
              }
            }
          },
          "metadata": {},
          "output_type": "display_data"
        }
      ],
      "source": [
        "temp_VT = VT_mobility_data['Totalt']\n",
        "\n",
        "T = []\n",
        "for day in range(len(temp_VT)-1):\n",
        "    T.extend(np.linspace(temp_VT[week],temp_VT[week+1],8)[:7])\n",
        "    \n",
        "VT_mobilityfunc = interp1d(t,T[:prediction_time],kind='linear',fill_value=\"extrapolate\")\n",
        "\n",
        "functionfig = go.Figure()\n",
        "\n",
        "functionfig.add_trace(go.Scatter(x=t, y=VT_mobilityfunc(t),\n",
        "                    mode='lines',\n",
        "                    name='Mobility function'))\n",
        "functionfig.update_layout(\n",
        "                title='Mobility functions',\n",
        "                xaxis_title='Days',\n",
        "                yaxis_title='daily change in mobility %',\n",
        "                autosize=False,\n",
        "                width=1000,\n",
        "                \n",
        "                font=dict(\n",
        "                family=\"Courier New, monospace\",\n",
        "                size=14,\n",
        "                color=\"RebeccaPurple\"\n",
        "    )\n",
        ") \n",
        "functionfig.show()"
      ]
    },
    {
      "cell_type": "markdown",
      "metadata": {
        "id": "SuIarxTfu7iZ"
      },
      "source": [
        "This cell defines the model function and contains most of its dependensies. The SIR model is defined as presendted my Wiess (STORT FEL Gamma är 0.2 vilket är för dagar inte "
      ]
    },
    {
      "cell_type": "code",
      "execution_count": 5,
      "metadata": {
        "id": "S_ZaIieuKfP1"
      },
      "outputs": [
        {
          "name": "stdout",
          "output_type": "stream",
          "text": [
            "[0.37455529 0.00352953]\n",
            "[[2.39625888e-06 6.72770811e-08]\n",
            " [6.72770811e-08 2.10005069e-09]]\n",
            "6.438748590841365\n"
          ]
        },
        {
          "data": {
            "application/vnd.plotly.v1+json": {
              "config": {
                "plotlyServerURL": "https://plot.ly"
              },
              "data": [
                {
                  "mode": "markers",
                  "name": "Admission data",
                  "type": "scatter",
                  "x": [
                    "2020-03-01T00:00:00",
                    "2020-03-02T00:00:00",
                    "2020-03-03T00:00:00",
                    "2020-03-04T00:00:00",
                    "2020-03-05T00:00:00",
                    "2020-03-06T00:00:00",
                    "2020-03-07T00:00:00",
                    "2020-03-08T00:00:00",
                    "2020-03-09T00:00:00",
                    "2020-03-10T00:00:00",
                    "2020-03-11T00:00:00",
                    "2020-03-12T00:00:00",
                    "2020-03-13T00:00:00",
                    "2020-03-14T00:00:00",
                    "2020-03-15T00:00:00",
                    "2020-03-16T00:00:00",
                    "2020-03-17T00:00:00",
                    "2020-03-18T00:00:00",
                    "2020-03-19T00:00:00",
                    "2020-03-20T00:00:00",
                    "2020-03-21T00:00:00",
                    "2020-03-22T00:00:00",
                    "2020-03-23T00:00:00",
                    "2020-03-24T00:00:00",
                    "2020-03-25T00:00:00",
                    "2020-03-26T00:00:00",
                    "2020-03-27T00:00:00",
                    "2020-03-28T00:00:00",
                    "2020-03-29T00:00:00",
                    "2020-03-30T00:00:00",
                    "2020-03-31T00:00:00",
                    "2020-04-01T00:00:00",
                    "2020-04-02T00:00:00",
                    "2020-04-03T00:00:00",
                    "2020-04-04T00:00:00",
                    "2020-04-05T00:00:00",
                    "2020-04-06T00:00:00",
                    "2020-04-07T00:00:00",
                    "2020-04-08T00:00:00",
                    "2020-04-09T00:00:00",
                    "2020-04-10T00:00:00",
                    "2020-04-11T00:00:00",
                    "2020-04-12T00:00:00",
                    "2020-04-13T00:00:00",
                    "2020-04-14T00:00:00",
                    "2020-04-15T00:00:00",
                    "2020-04-16T00:00:00",
                    "2020-04-17T00:00:00",
                    "2020-04-18T00:00:00",
                    "2020-04-19T00:00:00",
                    "2020-04-20T00:00:00",
                    "2020-04-21T00:00:00",
                    "2020-04-22T00:00:00",
                    "2020-04-23T00:00:00",
                    "2020-04-24T00:00:00",
                    "2020-04-25T00:00:00",
                    "2020-04-26T00:00:00",
                    "2020-04-27T00:00:00",
                    "2020-04-28T00:00:00",
                    "2020-04-29T00:00:00",
                    "2020-04-30T00:00:00",
                    "2020-05-01T00:00:00",
                    "2020-05-02T00:00:00",
                    "2020-05-03T00:00:00",
                    "2020-05-04T00:00:00",
                    "2020-05-05T00:00:00",
                    "2020-05-06T00:00:00",
                    "2020-05-07T00:00:00",
                    "2020-05-08T00:00:00",
                    "2020-05-09T00:00:00",
                    "2020-05-10T00:00:00",
                    "2020-05-11T00:00:00",
                    "2020-05-12T00:00:00",
                    "2020-05-13T00:00:00",
                    "2020-05-14T00:00:00",
                    "2020-05-15T00:00:00",
                    "2020-05-16T00:00:00",
                    "2020-05-17T00:00:00",
                    "2020-05-18T00:00:00",
                    "2020-05-19T00:00:00",
                    "2020-05-20T00:00:00",
                    "2020-05-21T00:00:00",
                    "2020-05-22T00:00:00",
                    "2020-05-23T00:00:00",
                    "2020-05-24T00:00:00",
                    "2020-05-25T00:00:00",
                    "2020-05-26T00:00:00",
                    "2020-05-27T00:00:00",
                    "2020-05-28T00:00:00",
                    "2020-05-29T00:00:00",
                    "2020-05-30T00:00:00",
                    "2020-05-31T00:00:00",
                    "2020-06-01T00:00:00",
                    "2020-06-02T00:00:00",
                    "2020-06-03T00:00:00",
                    "2020-06-04T00:00:00",
                    "2020-06-05T00:00:00",
                    "2020-06-06T00:00:00",
                    "2020-06-07T00:00:00",
                    "2020-06-08T00:00:00",
                    "2020-06-09T00:00:00",
                    "2020-06-10T00:00:00",
                    "2020-06-11T00:00:00",
                    "2020-06-12T00:00:00",
                    "2020-06-13T00:00:00",
                    "2020-06-14T00:00:00",
                    "2020-06-15T00:00:00",
                    "2020-06-16T00:00:00",
                    "2020-06-17T00:00:00",
                    "2020-06-18T00:00:00",
                    "2020-06-19T00:00:00",
                    "2020-06-20T00:00:00",
                    "2020-06-21T00:00:00",
                    "2020-06-22T00:00:00",
                    "2020-06-23T00:00:00",
                    "2020-06-24T00:00:00",
                    "2020-06-25T00:00:00",
                    "2020-06-26T00:00:00",
                    "2020-06-27T00:00:00",
                    "2020-06-28T00:00:00",
                    "2020-06-29T00:00:00",
                    "2020-06-30T00:00:00",
                    "2020-07-01T00:00:00",
                    "2020-07-02T00:00:00",
                    "2020-07-03T00:00:00",
                    "2020-07-04T00:00:00",
                    "2020-07-05T00:00:00",
                    "2020-07-06T00:00:00",
                    "2020-07-07T00:00:00",
                    "2020-07-08T00:00:00",
                    "2020-07-09T00:00:00",
                    "2020-07-10T00:00:00",
                    "2020-07-11T00:00:00",
                    "2020-07-12T00:00:00",
                    "2020-07-13T00:00:00",
                    "2020-07-14T00:00:00",
                    "2020-07-15T00:00:00",
                    "2020-07-16T00:00:00",
                    "2020-07-17T00:00:00",
                    "2020-07-18T00:00:00",
                    "2020-07-19T00:00:00",
                    "2020-07-20T00:00:00",
                    "2020-07-21T00:00:00",
                    "2020-07-22T00:00:00",
                    "2020-07-23T00:00:00",
                    "2020-07-24T00:00:00",
                    "2020-07-25T00:00:00",
                    "2020-07-26T00:00:00",
                    "2020-07-27T00:00:00",
                    "2020-07-28T00:00:00",
                    "2020-07-29T00:00:00",
                    "2020-07-30T00:00:00",
                    "2020-07-31T00:00:00",
                    "2020-08-01T00:00:00",
                    "2020-08-02T00:00:00",
                    "2020-08-03T00:00:00",
                    "2020-08-04T00:00:00",
                    "2020-08-05T00:00:00",
                    "2020-08-06T00:00:00",
                    "2020-08-07T00:00:00",
                    "2020-08-08T00:00:00",
                    "2020-08-09T00:00:00",
                    "2020-08-10T00:00:00",
                    "2020-08-11T00:00:00",
                    "2020-08-12T00:00:00",
                    "2020-08-13T00:00:00",
                    "2020-08-14T00:00:00",
                    "2020-08-15T00:00:00",
                    "2020-08-16T00:00:00",
                    "2020-08-17T00:00:00",
                    "2020-08-18T00:00:00",
                    "2020-08-19T00:00:00",
                    "2020-08-20T00:00:00"
                  ],
                  "y": [
                    0,
                    0,
                    0,
                    0,
                    0,
                    0,
                    0,
                    0,
                    0,
                    0,
                    0,
                    0,
                    0,
                    0,
                    0,
                    0,
                    0,
                    0,
                    0,
                    0,
                    0,
                    1,
                    0,
                    0,
                    0,
                    3,
                    1,
                    1,
                    1,
                    1,
                    1,
                    3,
                    4,
                    1,
                    1,
                    6,
                    4,
                    5,
                    10,
                    4,
                    2,
                    1,
                    5,
                    9,
                    8,
                    6,
                    9,
                    7,
                    7,
                    10,
                    9,
                    15,
                    9,
                    7,
                    10,
                    15,
                    14,
                    21,
                    17,
                    25,
                    15,
                    16,
                    15,
                    10,
                    15,
                    16,
                    20,
                    23,
                    14,
                    16,
                    34,
                    18,
                    18,
                    26,
                    22,
                    25,
                    18,
                    22,
                    24,
                    18,
                    21,
                    20,
                    18,
                    12,
                    18,
                    26,
                    19,
                    19,
                    14,
                    16,
                    7,
                    11,
                    8,
                    16,
                    12,
                    14,
                    8,
                    5,
                    13,
                    14,
                    13,
                    14,
                    16,
                    8,
                    8,
                    14,
                    13,
                    17,
                    14,
                    16,
                    18,
                    6,
                    16,
                    17,
                    8,
                    11,
                    10,
                    7,
                    9,
                    13,
                    13,
                    9,
                    13,
                    17,
                    7,
                    9,
                    11,
                    14,
                    14,
                    11,
                    8,
                    13,
                    11,
                    2,
                    9,
                    12,
                    8,
                    8,
                    3,
                    9,
                    7,
                    14,
                    7,
                    8,
                    7,
                    4,
                    4,
                    8,
                    4,
                    5,
                    5,
                    6,
                    0,
                    5,
                    5,
                    5,
                    4,
                    4,
                    3,
                    1,
                    2,
                    3,
                    3,
                    3,
                    5,
                    2,
                    2,
                    1,
                    1,
                    5,
                    3,
                    1,
                    1
                  ]
                },
                {
                  "mode": "lines",
                  "name": "Predicted admissions",
                  "type": "scatter",
                  "x": [
                    "2020-03-01T00:00:00",
                    "2020-03-02T00:00:00",
                    "2020-03-03T00:00:00",
                    "2020-03-04T00:00:00",
                    "2020-03-05T00:00:00",
                    "2020-03-06T00:00:00",
                    "2020-03-07T00:00:00",
                    "2020-03-08T00:00:00",
                    "2020-03-09T00:00:00",
                    "2020-03-10T00:00:00",
                    "2020-03-11T00:00:00",
                    "2020-03-12T00:00:00",
                    "2020-03-13T00:00:00",
                    "2020-03-14T00:00:00",
                    "2020-03-15T00:00:00",
                    "2020-03-16T00:00:00",
                    "2020-03-17T00:00:00",
                    "2020-03-18T00:00:00",
                    "2020-03-19T00:00:00",
                    "2020-03-20T00:00:00",
                    "2020-03-21T00:00:00",
                    "2020-03-22T00:00:00",
                    "2020-03-23T00:00:00",
                    "2020-03-24T00:00:00",
                    "2020-03-25T00:00:00",
                    "2020-03-26T00:00:00",
                    "2020-03-27T00:00:00",
                    "2020-03-28T00:00:00",
                    "2020-03-29T00:00:00",
                    "2020-03-30T00:00:00",
                    "2020-03-31T00:00:00",
                    "2020-04-01T00:00:00",
                    "2020-04-02T00:00:00",
                    "2020-04-03T00:00:00",
                    "2020-04-04T00:00:00",
                    "2020-04-05T00:00:00",
                    "2020-04-06T00:00:00",
                    "2020-04-07T00:00:00",
                    "2020-04-08T00:00:00",
                    "2020-04-09T00:00:00",
                    "2020-04-10T00:00:00",
                    "2020-04-11T00:00:00",
                    "2020-04-12T00:00:00",
                    "2020-04-13T00:00:00",
                    "2020-04-14T00:00:00",
                    "2020-04-15T00:00:00",
                    "2020-04-16T00:00:00",
                    "2020-04-17T00:00:00",
                    "2020-04-18T00:00:00",
                    "2020-04-19T00:00:00",
                    "2020-04-20T00:00:00",
                    "2020-04-21T00:00:00",
                    "2020-04-22T00:00:00",
                    "2020-04-23T00:00:00",
                    "2020-04-24T00:00:00",
                    "2020-04-25T00:00:00",
                    "2020-04-26T00:00:00",
                    "2020-04-27T00:00:00",
                    "2020-04-28T00:00:00",
                    "2020-04-29T00:00:00",
                    "2020-04-30T00:00:00",
                    "2020-05-01T00:00:00",
                    "2020-05-02T00:00:00",
                    "2020-05-03T00:00:00",
                    "2020-05-04T00:00:00",
                    "2020-05-05T00:00:00",
                    "2020-05-06T00:00:00",
                    "2020-05-07T00:00:00",
                    "2020-05-08T00:00:00",
                    "2020-05-09T00:00:00",
                    "2020-05-10T00:00:00",
                    "2020-05-11T00:00:00",
                    "2020-05-12T00:00:00",
                    "2020-05-13T00:00:00",
                    "2020-05-14T00:00:00",
                    "2020-05-15T00:00:00",
                    "2020-05-16T00:00:00",
                    "2020-05-17T00:00:00",
                    "2020-05-18T00:00:00",
                    "2020-05-19T00:00:00",
                    "2020-05-20T00:00:00",
                    "2020-05-21T00:00:00",
                    "2020-05-22T00:00:00",
                    "2020-05-23T00:00:00",
                    "2020-05-24T00:00:00",
                    "2020-05-25T00:00:00",
                    "2020-05-26T00:00:00",
                    "2020-05-27T00:00:00",
                    "2020-05-28T00:00:00",
                    "2020-05-29T00:00:00",
                    "2020-05-30T00:00:00",
                    "2020-05-31T00:00:00",
                    "2020-06-01T00:00:00",
                    "2020-06-02T00:00:00",
                    "2020-06-03T00:00:00",
                    "2020-06-04T00:00:00",
                    "2020-06-05T00:00:00",
                    "2020-06-06T00:00:00",
                    "2020-06-07T00:00:00",
                    "2020-06-08T00:00:00",
                    "2020-06-09T00:00:00",
                    "2020-06-10T00:00:00",
                    "2020-06-11T00:00:00",
                    "2020-06-12T00:00:00",
                    "2020-06-13T00:00:00",
                    "2020-06-14T00:00:00",
                    "2020-06-15T00:00:00",
                    "2020-06-16T00:00:00",
                    "2020-06-17T00:00:00",
                    "2020-06-18T00:00:00",
                    "2020-06-19T00:00:00",
                    "2020-06-20T00:00:00",
                    "2020-06-21T00:00:00",
                    "2020-06-22T00:00:00",
                    "2020-06-23T00:00:00",
                    "2020-06-24T00:00:00",
                    "2020-06-25T00:00:00",
                    "2020-06-26T00:00:00",
                    "2020-06-27T00:00:00",
                    "2020-06-28T00:00:00",
                    "2020-06-29T00:00:00",
                    "2020-06-30T00:00:00",
                    "2020-07-01T00:00:00",
                    "2020-07-02T00:00:00",
                    "2020-07-03T00:00:00",
                    "2020-07-04T00:00:00",
                    "2020-07-05T00:00:00",
                    "2020-07-06T00:00:00",
                    "2020-07-07T00:00:00",
                    "2020-07-08T00:00:00",
                    "2020-07-09T00:00:00",
                    "2020-07-10T00:00:00",
                    "2020-07-11T00:00:00",
                    "2020-07-12T00:00:00",
                    "2020-07-13T00:00:00",
                    "2020-07-14T00:00:00",
                    "2020-07-15T00:00:00",
                    "2020-07-16T00:00:00",
                    "2020-07-17T00:00:00",
                    "2020-07-18T00:00:00",
                    "2020-07-19T00:00:00",
                    "2020-07-20T00:00:00",
                    "2020-07-21T00:00:00",
                    "2020-07-22T00:00:00",
                    "2020-07-23T00:00:00",
                    "2020-07-24T00:00:00",
                    "2020-07-25T00:00:00",
                    "2020-07-26T00:00:00",
                    "2020-07-27T00:00:00",
                    "2020-07-28T00:00:00",
                    "2020-07-29T00:00:00",
                    "2020-07-30T00:00:00",
                    "2020-07-31T00:00:00",
                    "2020-08-01T00:00:00",
                    "2020-08-02T00:00:00",
                    "2020-08-03T00:00:00",
                    "2020-08-04T00:00:00",
                    "2020-08-05T00:00:00",
                    "2020-08-06T00:00:00",
                    "2020-08-07T00:00:00",
                    "2020-08-08T00:00:00",
                    "2020-08-09T00:00:00",
                    "2020-08-10T00:00:00",
                    "2020-08-11T00:00:00",
                    "2020-08-12T00:00:00",
                    "2020-08-13T00:00:00",
                    "2020-08-14T00:00:00",
                    "2020-08-15T00:00:00",
                    "2020-08-16T00:00:00",
                    "2020-08-17T00:00:00",
                    "2020-08-18T00:00:00",
                    "2020-08-19T00:00:00",
                    "2020-08-20T00:00:00"
                  ],
                  "y": [
                    0.013,
                    0.01619956570951966,
                    0.020141868213372327,
                    0.024988055166159682,
                    0.03093153343251179,
                    0.03820381092190219,
                    0.04708126403932825,
                    0.057892948096419636,
                    0.07102958261057074,
                    0.08695384870452193,
                    0.10621214857083922,
                    0.1294479811988368,
                    0.1574171012484796,
                    0.19100462790647227,
                    0.23124427659432545,
                    0.27933988508618707,
                    0.33668940212280235,
                    0.40491149794074194,
                    0.485874941787243,
                    0.5817308717643369,
                    0.6949480532825558,
                    0.828351185272017,
                    0.9851622662841899,
                    1.16904497312739,
                    1.384151932380874,
                    1.6351746793805406,
                    1.927395995221265,
                    2.266744191774873,
                    2.6598487802962687,
                    3.1098633274840246,
                    3.6179507432795504,
                    4.1881173110321015,
                    4.82400285808688,
                    5.52874243697043,
                    6.3048197054833,
                    7.153915833482047,
                    8.04147932239168,
                    8.915535893493525,
                    9.749437315054584,
                    10.515603641696794,
                    11.187012776795532,
                    11.73877304191993,
                    12.149653520827128,
                    12.464619118630702,
                    12.738170393687332,
                    12.967280874286597,
                    13.149390366208568,
                    13.282453575765064,
                    13.364977431714617,
                    13.396049580100609,
                    13.390439818737045,
                    13.363277839435625,
                    13.3147148638557,
                    13.245005478460978,
                    13.154505483478875,
                    13.043668773557354,
                    12.913043460779168,
                    12.747640878608776,
                    12.533510366770981,
                    12.273233871628433,
                    11.969895823445713,
                    11.627021491247227,
                    11.248509414579603,
                    10.838557596730068,
                    10.431749248572304,
                    10.057963335078936,
                    9.714719528668173,
                    9.399782871080145,
                    9.111140113049794,
                    8.846978473817837,
                    8.605667131121526,
                    8.391595926611279,
                    8.208767126885258,
                    8.055347424755796,
                    7.929816650498458,
                    7.830943249021354,
                    7.757763692325087,
                    7.709567208682788,
                    7.667340481308147,
                    7.612578627821025,
                    7.545561730436715,
                    7.466628947419374,
                    7.376175633138355,
                    7.274649993129627,
                    7.162549475669176,
                    7.054090537630334,
                    6.962656184979891,
                    6.8876195265720455,
                    6.828468760744546,
                    6.784801806137338,
                    6.756321709151809,
                    6.742833185057962,
                    6.738209419438081,
                    6.73640004520769,
                    6.737401536621421,
                    6.741213788519505,
                    6.747840123553847,
                    6.757287300216297,
                    6.76956548689568,
                    6.775431126160048,
                    6.765628209989821,
                    6.740231758021649,
                    6.699424958138031,
                    6.643496815909728,
                    6.572838618615347,
                    6.487939629472375,
                    6.412715716663807,
                    6.370029479896882,
                    6.359227378762793,
                    6.380134271989468,
                    6.433048913265443,
                    6.518750856686092,
                    6.638518940328435,
                    6.775841675533568,
                    6.913010100341697,
                    7.0498973430183405,
                    7.186374153700153,
                    7.322309109389172,
                    7.4575688851512565,
                    7.592018514652851,
                    7.734510596635469,
                    7.894569316113194,
                    8.073153618613762,
                    8.271346742635851,
                    8.490367414203483,
                    8.731581495002166,
                    8.996515940365098,
                    9.246808787136441,
                    9.439920652909066,
                    9.572057932535223,
                    9.640609922474843,
                    9.644233886500839,
                    9.582898123057127,
                    9.4578820369889,
                    9.31666709411425,
                    9.20443403923933,
                    9.120168705910297,
                    9.063111416861608,
                    9.032745538100919,
                    9.028789614537251,
                    9.051193099897338,
                    9.07998131004687,
                    9.09502719419116,
                    9.096270004438617,
                    9.083712326670318,
                    9.057420011583087,
                    9.017521558152545,
                    8.96420700944745,
                    8.897726574347184,
                    8.818388265824659,
                    8.726555827669964,
                    8.622645762712782,
                    8.507124174320476,
                    8.380503340358656,
                    8.243337689032147,
                    8.096219797420165,
                    7.939776187477951,
                    7.774662933689604,
                    7.601560968454913,
                    7.421171458364536,
                    7.2342111147695105,
                    7.041407483972886,
                    6.850216137635512,
                    6.66733426586797,
                    6.492373973761886,
                    6.324968274179865,
                    6.164769835460851,
                    6.011449931776837,
                    5.864697380001483,
                    5.725621541565971,
                    5.59521657441212,
                    5.473037985069448,
                    5.358674365851995
                  ]
                }
              ],
              "layout": {
                "autosize": false,
                "font": {
                  "color": "RebeccaPurple",
                  "family": "Courier New, monospace",
                  "size": 14
                },
                "template": {
                  "data": {
                    "bar": [
                      {
                        "error_x": {
                          "color": "#2a3f5f"
                        },
                        "error_y": {
                          "color": "#2a3f5f"
                        },
                        "marker": {
                          "line": {
                            "color": "#E5ECF6",
                            "width": 0.5
                          },
                          "pattern": {
                            "fillmode": "overlay",
                            "size": 10,
                            "solidity": 0.2
                          }
                        },
                        "type": "bar"
                      }
                    ],
                    "barpolar": [
                      {
                        "marker": {
                          "line": {
                            "color": "#E5ECF6",
                            "width": 0.5
                          },
                          "pattern": {
                            "fillmode": "overlay",
                            "size": 10,
                            "solidity": 0.2
                          }
                        },
                        "type": "barpolar"
                      }
                    ],
                    "carpet": [
                      {
                        "aaxis": {
                          "endlinecolor": "#2a3f5f",
                          "gridcolor": "white",
                          "linecolor": "white",
                          "minorgridcolor": "white",
                          "startlinecolor": "#2a3f5f"
                        },
                        "baxis": {
                          "endlinecolor": "#2a3f5f",
                          "gridcolor": "white",
                          "linecolor": "white",
                          "minorgridcolor": "white",
                          "startlinecolor": "#2a3f5f"
                        },
                        "type": "carpet"
                      }
                    ],
                    "choropleth": [
                      {
                        "colorbar": {
                          "outlinewidth": 0,
                          "ticks": ""
                        },
                        "type": "choropleth"
                      }
                    ],
                    "contour": [
                      {
                        "colorbar": {
                          "outlinewidth": 0,
                          "ticks": ""
                        },
                        "colorscale": [
                          [
                            0,
                            "#0d0887"
                          ],
                          [
                            0.1111111111111111,
                            "#46039f"
                          ],
                          [
                            0.2222222222222222,
                            "#7201a8"
                          ],
                          [
                            0.3333333333333333,
                            "#9c179e"
                          ],
                          [
                            0.4444444444444444,
                            "#bd3786"
                          ],
                          [
                            0.5555555555555556,
                            "#d8576b"
                          ],
                          [
                            0.6666666666666666,
                            "#ed7953"
                          ],
                          [
                            0.7777777777777778,
                            "#fb9f3a"
                          ],
                          [
                            0.8888888888888888,
                            "#fdca26"
                          ],
                          [
                            1,
                            "#f0f921"
                          ]
                        ],
                        "type": "contour"
                      }
                    ],
                    "contourcarpet": [
                      {
                        "colorbar": {
                          "outlinewidth": 0,
                          "ticks": ""
                        },
                        "type": "contourcarpet"
                      }
                    ],
                    "heatmap": [
                      {
                        "colorbar": {
                          "outlinewidth": 0,
                          "ticks": ""
                        },
                        "colorscale": [
                          [
                            0,
                            "#0d0887"
                          ],
                          [
                            0.1111111111111111,
                            "#46039f"
                          ],
                          [
                            0.2222222222222222,
                            "#7201a8"
                          ],
                          [
                            0.3333333333333333,
                            "#9c179e"
                          ],
                          [
                            0.4444444444444444,
                            "#bd3786"
                          ],
                          [
                            0.5555555555555556,
                            "#d8576b"
                          ],
                          [
                            0.6666666666666666,
                            "#ed7953"
                          ],
                          [
                            0.7777777777777778,
                            "#fb9f3a"
                          ],
                          [
                            0.8888888888888888,
                            "#fdca26"
                          ],
                          [
                            1,
                            "#f0f921"
                          ]
                        ],
                        "type": "heatmap"
                      }
                    ],
                    "heatmapgl": [
                      {
                        "colorbar": {
                          "outlinewidth": 0,
                          "ticks": ""
                        },
                        "colorscale": [
                          [
                            0,
                            "#0d0887"
                          ],
                          [
                            0.1111111111111111,
                            "#46039f"
                          ],
                          [
                            0.2222222222222222,
                            "#7201a8"
                          ],
                          [
                            0.3333333333333333,
                            "#9c179e"
                          ],
                          [
                            0.4444444444444444,
                            "#bd3786"
                          ],
                          [
                            0.5555555555555556,
                            "#d8576b"
                          ],
                          [
                            0.6666666666666666,
                            "#ed7953"
                          ],
                          [
                            0.7777777777777778,
                            "#fb9f3a"
                          ],
                          [
                            0.8888888888888888,
                            "#fdca26"
                          ],
                          [
                            1,
                            "#f0f921"
                          ]
                        ],
                        "type": "heatmapgl"
                      }
                    ],
                    "histogram": [
                      {
                        "marker": {
                          "pattern": {
                            "fillmode": "overlay",
                            "size": 10,
                            "solidity": 0.2
                          }
                        },
                        "type": "histogram"
                      }
                    ],
                    "histogram2d": [
                      {
                        "colorbar": {
                          "outlinewidth": 0,
                          "ticks": ""
                        },
                        "colorscale": [
                          [
                            0,
                            "#0d0887"
                          ],
                          [
                            0.1111111111111111,
                            "#46039f"
                          ],
                          [
                            0.2222222222222222,
                            "#7201a8"
                          ],
                          [
                            0.3333333333333333,
                            "#9c179e"
                          ],
                          [
                            0.4444444444444444,
                            "#bd3786"
                          ],
                          [
                            0.5555555555555556,
                            "#d8576b"
                          ],
                          [
                            0.6666666666666666,
                            "#ed7953"
                          ],
                          [
                            0.7777777777777778,
                            "#fb9f3a"
                          ],
                          [
                            0.8888888888888888,
                            "#fdca26"
                          ],
                          [
                            1,
                            "#f0f921"
                          ]
                        ],
                        "type": "histogram2d"
                      }
                    ],
                    "histogram2dcontour": [
                      {
                        "colorbar": {
                          "outlinewidth": 0,
                          "ticks": ""
                        },
                        "colorscale": [
                          [
                            0,
                            "#0d0887"
                          ],
                          [
                            0.1111111111111111,
                            "#46039f"
                          ],
                          [
                            0.2222222222222222,
                            "#7201a8"
                          ],
                          [
                            0.3333333333333333,
                            "#9c179e"
                          ],
                          [
                            0.4444444444444444,
                            "#bd3786"
                          ],
                          [
                            0.5555555555555556,
                            "#d8576b"
                          ],
                          [
                            0.6666666666666666,
                            "#ed7953"
                          ],
                          [
                            0.7777777777777778,
                            "#fb9f3a"
                          ],
                          [
                            0.8888888888888888,
                            "#fdca26"
                          ],
                          [
                            1,
                            "#f0f921"
                          ]
                        ],
                        "type": "histogram2dcontour"
                      }
                    ],
                    "mesh3d": [
                      {
                        "colorbar": {
                          "outlinewidth": 0,
                          "ticks": ""
                        },
                        "type": "mesh3d"
                      }
                    ],
                    "parcoords": [
                      {
                        "line": {
                          "colorbar": {
                            "outlinewidth": 0,
                            "ticks": ""
                          }
                        },
                        "type": "parcoords"
                      }
                    ],
                    "pie": [
                      {
                        "automargin": true,
                        "type": "pie"
                      }
                    ],
                    "scatter": [
                      {
                        "marker": {
                          "colorbar": {
                            "outlinewidth": 0,
                            "ticks": ""
                          }
                        },
                        "type": "scatter"
                      }
                    ],
                    "scatter3d": [
                      {
                        "line": {
                          "colorbar": {
                            "outlinewidth": 0,
                            "ticks": ""
                          }
                        },
                        "marker": {
                          "colorbar": {
                            "outlinewidth": 0,
                            "ticks": ""
                          }
                        },
                        "type": "scatter3d"
                      }
                    ],
                    "scattercarpet": [
                      {
                        "marker": {
                          "colorbar": {
                            "outlinewidth": 0,
                            "ticks": ""
                          }
                        },
                        "type": "scattercarpet"
                      }
                    ],
                    "scattergeo": [
                      {
                        "marker": {
                          "colorbar": {
                            "outlinewidth": 0,
                            "ticks": ""
                          }
                        },
                        "type": "scattergeo"
                      }
                    ],
                    "scattergl": [
                      {
                        "marker": {
                          "colorbar": {
                            "outlinewidth": 0,
                            "ticks": ""
                          }
                        },
                        "type": "scattergl"
                      }
                    ],
                    "scattermapbox": [
                      {
                        "marker": {
                          "colorbar": {
                            "outlinewidth": 0,
                            "ticks": ""
                          }
                        },
                        "type": "scattermapbox"
                      }
                    ],
                    "scatterpolar": [
                      {
                        "marker": {
                          "colorbar": {
                            "outlinewidth": 0,
                            "ticks": ""
                          }
                        },
                        "type": "scatterpolar"
                      }
                    ],
                    "scatterpolargl": [
                      {
                        "marker": {
                          "colorbar": {
                            "outlinewidth": 0,
                            "ticks": ""
                          }
                        },
                        "type": "scatterpolargl"
                      }
                    ],
                    "scatterternary": [
                      {
                        "marker": {
                          "colorbar": {
                            "outlinewidth": 0,
                            "ticks": ""
                          }
                        },
                        "type": "scatterternary"
                      }
                    ],
                    "surface": [
                      {
                        "colorbar": {
                          "outlinewidth": 0,
                          "ticks": ""
                        },
                        "colorscale": [
                          [
                            0,
                            "#0d0887"
                          ],
                          [
                            0.1111111111111111,
                            "#46039f"
                          ],
                          [
                            0.2222222222222222,
                            "#7201a8"
                          ],
                          [
                            0.3333333333333333,
                            "#9c179e"
                          ],
                          [
                            0.4444444444444444,
                            "#bd3786"
                          ],
                          [
                            0.5555555555555556,
                            "#d8576b"
                          ],
                          [
                            0.6666666666666666,
                            "#ed7953"
                          ],
                          [
                            0.7777777777777778,
                            "#fb9f3a"
                          ],
                          [
                            0.8888888888888888,
                            "#fdca26"
                          ],
                          [
                            1,
                            "#f0f921"
                          ]
                        ],
                        "type": "surface"
                      }
                    ],
                    "table": [
                      {
                        "cells": {
                          "fill": {
                            "color": "#EBF0F8"
                          },
                          "line": {
                            "color": "white"
                          }
                        },
                        "header": {
                          "fill": {
                            "color": "#C8D4E3"
                          },
                          "line": {
                            "color": "white"
                          }
                        },
                        "type": "table"
                      }
                    ]
                  },
                  "layout": {
                    "annotationdefaults": {
                      "arrowcolor": "#2a3f5f",
                      "arrowhead": 0,
                      "arrowwidth": 1
                    },
                    "autotypenumbers": "strict",
                    "coloraxis": {
                      "colorbar": {
                        "outlinewidth": 0,
                        "ticks": ""
                      }
                    },
                    "colorscale": {
                      "diverging": [
                        [
                          0,
                          "#8e0152"
                        ],
                        [
                          0.1,
                          "#c51b7d"
                        ],
                        [
                          0.2,
                          "#de77ae"
                        ],
                        [
                          0.3,
                          "#f1b6da"
                        ],
                        [
                          0.4,
                          "#fde0ef"
                        ],
                        [
                          0.5,
                          "#f7f7f7"
                        ],
                        [
                          0.6,
                          "#e6f5d0"
                        ],
                        [
                          0.7,
                          "#b8e186"
                        ],
                        [
                          0.8,
                          "#7fbc41"
                        ],
                        [
                          0.9,
                          "#4d9221"
                        ],
                        [
                          1,
                          "#276419"
                        ]
                      ],
                      "sequential": [
                        [
                          0,
                          "#0d0887"
                        ],
                        [
                          0.1111111111111111,
                          "#46039f"
                        ],
                        [
                          0.2222222222222222,
                          "#7201a8"
                        ],
                        [
                          0.3333333333333333,
                          "#9c179e"
                        ],
                        [
                          0.4444444444444444,
                          "#bd3786"
                        ],
                        [
                          0.5555555555555556,
                          "#d8576b"
                        ],
                        [
                          0.6666666666666666,
                          "#ed7953"
                        ],
                        [
                          0.7777777777777778,
                          "#fb9f3a"
                        ],
                        [
                          0.8888888888888888,
                          "#fdca26"
                        ],
                        [
                          1,
                          "#f0f921"
                        ]
                      ],
                      "sequentialminus": [
                        [
                          0,
                          "#0d0887"
                        ],
                        [
                          0.1111111111111111,
                          "#46039f"
                        ],
                        [
                          0.2222222222222222,
                          "#7201a8"
                        ],
                        [
                          0.3333333333333333,
                          "#9c179e"
                        ],
                        [
                          0.4444444444444444,
                          "#bd3786"
                        ],
                        [
                          0.5555555555555556,
                          "#d8576b"
                        ],
                        [
                          0.6666666666666666,
                          "#ed7953"
                        ],
                        [
                          0.7777777777777778,
                          "#fb9f3a"
                        ],
                        [
                          0.8888888888888888,
                          "#fdca26"
                        ],
                        [
                          1,
                          "#f0f921"
                        ]
                      ]
                    },
                    "colorway": [
                      "#636efa",
                      "#EF553B",
                      "#00cc96",
                      "#ab63fa",
                      "#FFA15A",
                      "#19d3f3",
                      "#FF6692",
                      "#B6E880",
                      "#FF97FF",
                      "#FECB52"
                    ],
                    "font": {
                      "color": "#2a3f5f"
                    },
                    "geo": {
                      "bgcolor": "white",
                      "lakecolor": "white",
                      "landcolor": "#E5ECF6",
                      "showlakes": true,
                      "showland": true,
                      "subunitcolor": "white"
                    },
                    "hoverlabel": {
                      "align": "left"
                    },
                    "hovermode": "closest",
                    "mapbox": {
                      "style": "light"
                    },
                    "paper_bgcolor": "white",
                    "plot_bgcolor": "#E5ECF6",
                    "polar": {
                      "angularaxis": {
                        "gridcolor": "white",
                        "linecolor": "white",
                        "ticks": ""
                      },
                      "bgcolor": "#E5ECF6",
                      "radialaxis": {
                        "gridcolor": "white",
                        "linecolor": "white",
                        "ticks": ""
                      }
                    },
                    "scene": {
                      "xaxis": {
                        "backgroundcolor": "#E5ECF6",
                        "gridcolor": "white",
                        "gridwidth": 2,
                        "linecolor": "white",
                        "showbackground": true,
                        "ticks": "",
                        "zerolinecolor": "white"
                      },
                      "yaxis": {
                        "backgroundcolor": "#E5ECF6",
                        "gridcolor": "white",
                        "gridwidth": 2,
                        "linecolor": "white",
                        "showbackground": true,
                        "ticks": "",
                        "zerolinecolor": "white"
                      },
                      "zaxis": {
                        "backgroundcolor": "#E5ECF6",
                        "gridcolor": "white",
                        "gridwidth": 2,
                        "linecolor": "white",
                        "showbackground": true,
                        "ticks": "",
                        "zerolinecolor": "white"
                      }
                    },
                    "shapedefaults": {
                      "line": {
                        "color": "#2a3f5f"
                      }
                    },
                    "ternary": {
                      "aaxis": {
                        "gridcolor": "white",
                        "linecolor": "white",
                        "ticks": ""
                      },
                      "baxis": {
                        "gridcolor": "white",
                        "linecolor": "white",
                        "ticks": ""
                      },
                      "bgcolor": "#E5ECF6",
                      "caxis": {
                        "gridcolor": "white",
                        "linecolor": "white",
                        "ticks": ""
                      }
                    },
                    "title": {
                      "x": 0.05
                    },
                    "xaxis": {
                      "automargin": true,
                      "gridcolor": "white",
                      "linecolor": "white",
                      "ticks": "",
                      "title": {
                        "standoff": 15
                      },
                      "zerolinecolor": "white",
                      "zerolinewidth": 2
                    },
                    "yaxis": {
                      "automargin": true,
                      "gridcolor": "white",
                      "linecolor": "white",
                      "ticks": "",
                      "title": {
                        "standoff": 15
                      },
                      "zerolinecolor": "white",
                      "zerolinewidth": 2
                    }
                  }
                },
                "title": {
                  "text": "Time dependant SIR model"
                },
                "width": 1000,
                "xaxis": {
                  "title": {
                    "text": "Weeks"
                  }
                },
                "yaxis": {
                  "title": {
                    "text": "Admissions"
                  }
                }
              }
            }
          },
          "metadata": {},
          "output_type": "display_data"
        }
      ],
      "source": [
        "#Weiss implementering \n",
        "\n",
        "# Contact rate, transmisabilty, beta, and mean recovery rate gamma.\n",
        "#nunmpy quantile för confidensintervall för beta\n",
        "#försjkut admissions\n",
        "#Lagen borde inte vara i modelfunction, för den modellerar antalet infected, lagen borde bara vara på predicted admissions\n",
        "\n",
        "# Total population, N.\n",
        "N = 700000 #göteborg stad\n",
        "# Initial number of infected and recovered individuals, I0 and R0.\n",
        "I0, R0 = 1, 0\n",
        "# Everyone else, S0, is susceptible to infection initially.\n",
        "S0 = N - I0 - R0\n",
        "\n",
        "tau = 1         #transmisability chance\n",
        "gamma =  0.2   #recovery rate 1/days\n",
        "lag = 21\n",
        "\n",
        "\n",
        "# Initial conditions vector\n",
        "y0 = S0, I0, R0\n",
        "p = 0.013 #fraction of the present number of infectious individuals\n",
        "\n",
        "def modelfunction(t,c0,c1): #Enbedded function that takes \n",
        "  def betafunc(t):\n",
        "    kappa =  c0+c1*VT_mobilityfunc(t)\n",
        "    b = kappa*tau\n",
        "    beta = b/N\n",
        "    return beta\n",
        "\n",
        "  # The SIR model differential equations.\n",
        "  def deriv(y, t, N):\n",
        "    S, I, R = y\n",
        "    dSdt = -betafunc(t-lag) * S * I \n",
        "    dIdt = betafunc(t-lag) * S * I - gamma * I\n",
        "    dRdt = gamma * I\n",
        "    return dSdt, dIdt, dRdt\n",
        "  \n",
        "  result = odeint(deriv, y0, t, args=(N,))\n",
        "  S, I, R = result.T\n",
        "  #Returerar totalt antal inskrivningar varje dag\n",
        "  return I*p\n",
        "\n",
        "\n",
        "\n",
        "#Curve fit function that takes the modelfunction with the given parameters to optimize and returns them with optimal value and covariance\n",
        "popt, pcov = curve_fit(modelfunction, t_fittingdata, dailyAdmissions[:fittingPoints], p0=[0.4198,0.003781])\n",
        "\n",
        "#best VT guess p0=[0.4198,0.003781])\n",
        "#Best google guess p0=[3,0.6])\n",
        "\n",
        "print(popt)\n",
        "print(pcov)\n",
        "print(mean_squared_error(dailyAdmissions[:prediction_time],modelfunction(t,*popt), squared = False))\n",
        "\n",
        "fig = go.Figure() #Creates a plot using graph objects and then adds each graph to figure\n",
        "fig.add_trace(go.Scatter(\n",
        "                    x=pd.Series(pd.date_range(\"2020-03-01\", freq=\"D\", periods=fittingPoints)), \n",
        "                    y=dailyAdmissions,\n",
        "                    mode='markers',\n",
        "                    name='Admission data'))\n",
        "fig.add_trace(go.Scatter(\n",
        "                    x=pd.Series(pd.date_range(\"2020-03-01\", freq=\"D\", periods=prediction_time)), \n",
        "                    y=modelfunction(t,*popt),\n",
        "                    mode='lines',\n",
        "                    name='Predicted admissions'))\n",
        "fig.update_layout(\n",
        "                    title='Time dependant SIR model',\n",
        "                    xaxis_title='Weeks',\n",
        "                    yaxis_title='Admissions',\n",
        "                    autosize=False,\n",
        "                    width=1000,\n",
        "                    \n",
        "                    font=dict(\n",
        "                    family=\"Courier New, monospace\",\n",
        "                    size=14,\n",
        "                    color=\"RebeccaPurple\"\n",
        "    )\n",
        ")\n",
        "fig.show()"
      ]
    },
    {
      "cell_type": "markdown",
      "metadata": {
        "id": "oCXhPt4_1FF4"
      },
      "source": [
        "Plots the predicted admissions and the admission data, for comparison"
      ]
    },
    {
      "cell_type": "markdown",
      "metadata": {
        "id": "61q2IELFj0L4"
      },
      "source": [
        "Plots confidence intervals of model"
      ]
    },
    {
      "cell_type": "code",
      "execution_count": 6,
      "metadata": {
        "colab": {
          "base_uri": "https://localhost:8080/",
          "height": 542
        },
        "id": "txCxr1cdjxsY",
        "outputId": "3f9e8f82-3aa4-4397-a43f-b3b568d8a389"
      },
      "outputs": [
        {
          "data": {
            "application/vnd.plotly.v1+json": {
              "config": {
                "plotlyServerURL": "https://plot.ly"
              },
              "data": [
                {
                  "mode": "markers",
                  "name": "Inskrivningsdata",
                  "type": "scatter",
                  "x": [
                    "2020-03-01T00:00:00",
                    "2020-03-02T00:00:00",
                    "2020-03-03T00:00:00",
                    "2020-03-04T00:00:00",
                    "2020-03-05T00:00:00",
                    "2020-03-06T00:00:00",
                    "2020-03-07T00:00:00",
                    "2020-03-08T00:00:00",
                    "2020-03-09T00:00:00",
                    "2020-03-10T00:00:00",
                    "2020-03-11T00:00:00",
                    "2020-03-12T00:00:00",
                    "2020-03-13T00:00:00",
                    "2020-03-14T00:00:00",
                    "2020-03-15T00:00:00",
                    "2020-03-16T00:00:00",
                    "2020-03-17T00:00:00",
                    "2020-03-18T00:00:00",
                    "2020-03-19T00:00:00",
                    "2020-03-20T00:00:00",
                    "2020-03-21T00:00:00",
                    "2020-03-22T00:00:00",
                    "2020-03-23T00:00:00",
                    "2020-03-24T00:00:00",
                    "2020-03-25T00:00:00",
                    "2020-03-26T00:00:00",
                    "2020-03-27T00:00:00",
                    "2020-03-28T00:00:00",
                    "2020-03-29T00:00:00",
                    "2020-03-30T00:00:00",
                    "2020-03-31T00:00:00",
                    "2020-04-01T00:00:00",
                    "2020-04-02T00:00:00",
                    "2020-04-03T00:00:00",
                    "2020-04-04T00:00:00",
                    "2020-04-05T00:00:00",
                    "2020-04-06T00:00:00",
                    "2020-04-07T00:00:00",
                    "2020-04-08T00:00:00",
                    "2020-04-09T00:00:00",
                    "2020-04-10T00:00:00",
                    "2020-04-11T00:00:00",
                    "2020-04-12T00:00:00",
                    "2020-04-13T00:00:00",
                    "2020-04-14T00:00:00",
                    "2020-04-15T00:00:00",
                    "2020-04-16T00:00:00",
                    "2020-04-17T00:00:00",
                    "2020-04-18T00:00:00",
                    "2020-04-19T00:00:00",
                    "2020-04-20T00:00:00",
                    "2020-04-21T00:00:00",
                    "2020-04-22T00:00:00",
                    "2020-04-23T00:00:00",
                    "2020-04-24T00:00:00",
                    "2020-04-25T00:00:00",
                    "2020-04-26T00:00:00",
                    "2020-04-27T00:00:00",
                    "2020-04-28T00:00:00",
                    "2020-04-29T00:00:00",
                    "2020-04-30T00:00:00",
                    "2020-05-01T00:00:00",
                    "2020-05-02T00:00:00",
                    "2020-05-03T00:00:00",
                    "2020-05-04T00:00:00",
                    "2020-05-05T00:00:00",
                    "2020-05-06T00:00:00",
                    "2020-05-07T00:00:00",
                    "2020-05-08T00:00:00",
                    "2020-05-09T00:00:00",
                    "2020-05-10T00:00:00",
                    "2020-05-11T00:00:00",
                    "2020-05-12T00:00:00",
                    "2020-05-13T00:00:00",
                    "2020-05-14T00:00:00",
                    "2020-05-15T00:00:00",
                    "2020-05-16T00:00:00",
                    "2020-05-17T00:00:00",
                    "2020-05-18T00:00:00",
                    "2020-05-19T00:00:00",
                    "2020-05-20T00:00:00",
                    "2020-05-21T00:00:00",
                    "2020-05-22T00:00:00",
                    "2020-05-23T00:00:00",
                    "2020-05-24T00:00:00",
                    "2020-05-25T00:00:00",
                    "2020-05-26T00:00:00",
                    "2020-05-27T00:00:00",
                    "2020-05-28T00:00:00",
                    "2020-05-29T00:00:00",
                    "2020-05-30T00:00:00",
                    "2020-05-31T00:00:00",
                    "2020-06-01T00:00:00",
                    "2020-06-02T00:00:00",
                    "2020-06-03T00:00:00",
                    "2020-06-04T00:00:00",
                    "2020-06-05T00:00:00",
                    "2020-06-06T00:00:00",
                    "2020-06-07T00:00:00",
                    "2020-06-08T00:00:00",
                    "2020-06-09T00:00:00",
                    "2020-06-10T00:00:00",
                    "2020-06-11T00:00:00",
                    "2020-06-12T00:00:00",
                    "2020-06-13T00:00:00",
                    "2020-06-14T00:00:00",
                    "2020-06-15T00:00:00",
                    "2020-06-16T00:00:00",
                    "2020-06-17T00:00:00",
                    "2020-06-18T00:00:00",
                    "2020-06-19T00:00:00",
                    "2020-06-20T00:00:00",
                    "2020-06-21T00:00:00",
                    "2020-06-22T00:00:00",
                    "2020-06-23T00:00:00",
                    "2020-06-24T00:00:00",
                    "2020-06-25T00:00:00",
                    "2020-06-26T00:00:00",
                    "2020-06-27T00:00:00",
                    "2020-06-28T00:00:00",
                    "2020-06-29T00:00:00",
                    "2020-06-30T00:00:00",
                    "2020-07-01T00:00:00",
                    "2020-07-02T00:00:00",
                    "2020-07-03T00:00:00",
                    "2020-07-04T00:00:00",
                    "2020-07-05T00:00:00",
                    "2020-07-06T00:00:00",
                    "2020-07-07T00:00:00",
                    "2020-07-08T00:00:00",
                    "2020-07-09T00:00:00",
                    "2020-07-10T00:00:00",
                    "2020-07-11T00:00:00",
                    "2020-07-12T00:00:00",
                    "2020-07-13T00:00:00",
                    "2020-07-14T00:00:00",
                    "2020-07-15T00:00:00",
                    "2020-07-16T00:00:00",
                    "2020-07-17T00:00:00",
                    "2020-07-18T00:00:00",
                    "2020-07-19T00:00:00",
                    "2020-07-20T00:00:00",
                    "2020-07-21T00:00:00",
                    "2020-07-22T00:00:00",
                    "2020-07-23T00:00:00",
                    "2020-07-24T00:00:00",
                    "2020-07-25T00:00:00",
                    "2020-07-26T00:00:00",
                    "2020-07-27T00:00:00",
                    "2020-07-28T00:00:00",
                    "2020-07-29T00:00:00",
                    "2020-07-30T00:00:00",
                    "2020-07-31T00:00:00",
                    "2020-08-01T00:00:00",
                    "2020-08-02T00:00:00",
                    "2020-08-03T00:00:00",
                    "2020-08-04T00:00:00",
                    "2020-08-05T00:00:00",
                    "2020-08-06T00:00:00",
                    "2020-08-07T00:00:00",
                    "2020-08-08T00:00:00",
                    "2020-08-09T00:00:00",
                    "2020-08-10T00:00:00",
                    "2020-08-11T00:00:00",
                    "2020-08-12T00:00:00",
                    "2020-08-13T00:00:00",
                    "2020-08-14T00:00:00",
                    "2020-08-15T00:00:00",
                    "2020-08-16T00:00:00",
                    "2020-08-17T00:00:00",
                    "2020-08-18T00:00:00",
                    "2020-08-19T00:00:00",
                    "2020-08-20T00:00:00"
                  ],
                  "y": [
                    0,
                    0,
                    0,
                    0,
                    0,
                    0,
                    0,
                    0,
                    0,
                    0,
                    0,
                    0,
                    0,
                    0,
                    0,
                    0,
                    0,
                    0,
                    0,
                    0,
                    0,
                    1,
                    0,
                    0,
                    0,
                    3,
                    1,
                    1,
                    1,
                    1,
                    1,
                    3,
                    4,
                    1,
                    1,
                    6,
                    4,
                    5,
                    10,
                    4,
                    2,
                    1,
                    5,
                    9,
                    8,
                    6,
                    9,
                    7,
                    7,
                    10,
                    9,
                    15,
                    9,
                    7,
                    10,
                    15,
                    14,
                    21,
                    17,
                    25,
                    15,
                    16,
                    15,
                    10,
                    15,
                    16,
                    20,
                    23,
                    14,
                    16,
                    34,
                    18,
                    18,
                    26,
                    22,
                    25,
                    18,
                    22,
                    24,
                    18,
                    21,
                    20,
                    18,
                    12,
                    18,
                    26,
                    19,
                    19,
                    14,
                    16,
                    7,
                    11,
                    8,
                    16,
                    12,
                    14,
                    8,
                    5,
                    13,
                    14,
                    13,
                    14,
                    16,
                    8,
                    8,
                    14,
                    13,
                    17,
                    14,
                    16,
                    18,
                    6,
                    16,
                    17,
                    8,
                    11,
                    10,
                    7,
                    9,
                    13,
                    13,
                    9,
                    13,
                    17,
                    7,
                    9,
                    11,
                    14,
                    14,
                    11,
                    8,
                    13,
                    11,
                    2,
                    9,
                    12,
                    8,
                    8,
                    3,
                    9,
                    7,
                    14,
                    7,
                    8,
                    7,
                    4,
                    4,
                    8,
                    4,
                    5,
                    5,
                    6,
                    0,
                    5,
                    5,
                    5,
                    4,
                    4,
                    3,
                    1,
                    2,
                    3,
                    3,
                    3,
                    5,
                    2,
                    2,
                    1,
                    1,
                    5,
                    3,
                    1,
                    1
                  ]
                },
                {
                  "marker": {
                    "color": "firebrick"
                  },
                  "mode": "markers",
                  "name": "Admission data",
                  "type": "scatter",
                  "x": [],
                  "y": []
                },
                {
                  "mode": "lines",
                  "name": "predikterade inskrivningar",
                  "type": "scatter",
                  "x": [
                    "2020-03-01T00:00:00",
                    "2020-03-02T00:00:00",
                    "2020-03-03T00:00:00",
                    "2020-03-04T00:00:00",
                    "2020-03-05T00:00:00",
                    "2020-03-06T00:00:00",
                    "2020-03-07T00:00:00",
                    "2020-03-08T00:00:00",
                    "2020-03-09T00:00:00",
                    "2020-03-10T00:00:00",
                    "2020-03-11T00:00:00",
                    "2020-03-12T00:00:00",
                    "2020-03-13T00:00:00",
                    "2020-03-14T00:00:00",
                    "2020-03-15T00:00:00",
                    "2020-03-16T00:00:00",
                    "2020-03-17T00:00:00",
                    "2020-03-18T00:00:00",
                    "2020-03-19T00:00:00",
                    "2020-03-20T00:00:00",
                    "2020-03-21T00:00:00",
                    "2020-03-22T00:00:00",
                    "2020-03-23T00:00:00",
                    "2020-03-24T00:00:00",
                    "2020-03-25T00:00:00",
                    "2020-03-26T00:00:00",
                    "2020-03-27T00:00:00",
                    "2020-03-28T00:00:00",
                    "2020-03-29T00:00:00",
                    "2020-03-30T00:00:00",
                    "2020-03-31T00:00:00",
                    "2020-04-01T00:00:00",
                    "2020-04-02T00:00:00",
                    "2020-04-03T00:00:00",
                    "2020-04-04T00:00:00",
                    "2020-04-05T00:00:00",
                    "2020-04-06T00:00:00",
                    "2020-04-07T00:00:00",
                    "2020-04-08T00:00:00",
                    "2020-04-09T00:00:00",
                    "2020-04-10T00:00:00",
                    "2020-04-11T00:00:00",
                    "2020-04-12T00:00:00",
                    "2020-04-13T00:00:00",
                    "2020-04-14T00:00:00",
                    "2020-04-15T00:00:00",
                    "2020-04-16T00:00:00",
                    "2020-04-17T00:00:00",
                    "2020-04-18T00:00:00",
                    "2020-04-19T00:00:00",
                    "2020-04-20T00:00:00",
                    "2020-04-21T00:00:00",
                    "2020-04-22T00:00:00",
                    "2020-04-23T00:00:00",
                    "2020-04-24T00:00:00",
                    "2020-04-25T00:00:00",
                    "2020-04-26T00:00:00",
                    "2020-04-27T00:00:00",
                    "2020-04-28T00:00:00",
                    "2020-04-29T00:00:00",
                    "2020-04-30T00:00:00",
                    "2020-05-01T00:00:00",
                    "2020-05-02T00:00:00",
                    "2020-05-03T00:00:00",
                    "2020-05-04T00:00:00",
                    "2020-05-05T00:00:00",
                    "2020-05-06T00:00:00",
                    "2020-05-07T00:00:00",
                    "2020-05-08T00:00:00",
                    "2020-05-09T00:00:00",
                    "2020-05-10T00:00:00",
                    "2020-05-11T00:00:00",
                    "2020-05-12T00:00:00",
                    "2020-05-13T00:00:00",
                    "2020-05-14T00:00:00",
                    "2020-05-15T00:00:00",
                    "2020-05-16T00:00:00",
                    "2020-05-17T00:00:00",
                    "2020-05-18T00:00:00",
                    "2020-05-19T00:00:00",
                    "2020-05-20T00:00:00",
                    "2020-05-21T00:00:00",
                    "2020-05-22T00:00:00",
                    "2020-05-23T00:00:00",
                    "2020-05-24T00:00:00",
                    "2020-05-25T00:00:00",
                    "2020-05-26T00:00:00",
                    "2020-05-27T00:00:00",
                    "2020-05-28T00:00:00",
                    "2020-05-29T00:00:00",
                    "2020-05-30T00:00:00",
                    "2020-05-31T00:00:00",
                    "2020-06-01T00:00:00",
                    "2020-06-02T00:00:00",
                    "2020-06-03T00:00:00",
                    "2020-06-04T00:00:00",
                    "2020-06-05T00:00:00",
                    "2020-06-06T00:00:00",
                    "2020-06-07T00:00:00",
                    "2020-06-08T00:00:00",
                    "2020-06-09T00:00:00",
                    "2020-06-10T00:00:00",
                    "2020-06-11T00:00:00",
                    "2020-06-12T00:00:00",
                    "2020-06-13T00:00:00",
                    "2020-06-14T00:00:00",
                    "2020-06-15T00:00:00",
                    "2020-06-16T00:00:00",
                    "2020-06-17T00:00:00",
                    "2020-06-18T00:00:00",
                    "2020-06-19T00:00:00",
                    "2020-06-20T00:00:00",
                    "2020-06-21T00:00:00",
                    "2020-06-22T00:00:00",
                    "2020-06-23T00:00:00",
                    "2020-06-24T00:00:00",
                    "2020-06-25T00:00:00",
                    "2020-06-26T00:00:00",
                    "2020-06-27T00:00:00",
                    "2020-06-28T00:00:00",
                    "2020-06-29T00:00:00",
                    "2020-06-30T00:00:00",
                    "2020-07-01T00:00:00",
                    "2020-07-02T00:00:00",
                    "2020-07-03T00:00:00",
                    "2020-07-04T00:00:00",
                    "2020-07-05T00:00:00",
                    "2020-07-06T00:00:00",
                    "2020-07-07T00:00:00",
                    "2020-07-08T00:00:00",
                    "2020-07-09T00:00:00",
                    "2020-07-10T00:00:00",
                    "2020-07-11T00:00:00",
                    "2020-07-12T00:00:00",
                    "2020-07-13T00:00:00",
                    "2020-07-14T00:00:00",
                    "2020-07-15T00:00:00",
                    "2020-07-16T00:00:00",
                    "2020-07-17T00:00:00",
                    "2020-07-18T00:00:00",
                    "2020-07-19T00:00:00",
                    "2020-07-20T00:00:00",
                    "2020-07-21T00:00:00",
                    "2020-07-22T00:00:00",
                    "2020-07-23T00:00:00",
                    "2020-07-24T00:00:00",
                    "2020-07-25T00:00:00",
                    "2020-07-26T00:00:00",
                    "2020-07-27T00:00:00",
                    "2020-07-28T00:00:00",
                    "2020-07-29T00:00:00",
                    "2020-07-30T00:00:00",
                    "2020-07-31T00:00:00",
                    "2020-08-01T00:00:00",
                    "2020-08-02T00:00:00",
                    "2020-08-03T00:00:00",
                    "2020-08-04T00:00:00",
                    "2020-08-05T00:00:00",
                    "2020-08-06T00:00:00",
                    "2020-08-07T00:00:00",
                    "2020-08-08T00:00:00",
                    "2020-08-09T00:00:00",
                    "2020-08-10T00:00:00",
                    "2020-08-11T00:00:00",
                    "2020-08-12T00:00:00",
                    "2020-08-13T00:00:00",
                    "2020-08-14T00:00:00",
                    "2020-08-15T00:00:00",
                    "2020-08-16T00:00:00",
                    "2020-08-17T00:00:00",
                    "2020-08-18T00:00:00",
                    "2020-08-19T00:00:00",
                    "2020-08-20T00:00:00"
                  ],
                  "y": [
                    0.013,
                    0.01619956570951966,
                    0.020141868213372327,
                    0.024988055166159682,
                    0.03093153343251179,
                    0.03820381092190219,
                    0.04708126403932825,
                    0.057892948096419636,
                    0.07102958261057074,
                    0.08695384870452193,
                    0.10621214857083922,
                    0.1294479811988368,
                    0.1574171012484796,
                    0.19100462790647227,
                    0.23124427659432545,
                    0.27933988508618707,
                    0.33668940212280235,
                    0.40491149794074194,
                    0.485874941787243,
                    0.5817308717643369,
                    0.6949480532825558,
                    0.828351185272017,
                    0.9851622662841899,
                    1.16904497312739,
                    1.384151932380874,
                    1.6351746793805406,
                    1.927395995221265,
                    2.266744191774873,
                    2.6598487802962687,
                    3.1098633274840246,
                    3.6179507432795504,
                    4.1881173110321015,
                    4.82400285808688,
                    5.52874243697043,
                    6.3048197054833,
                    7.153915833482047,
                    8.04147932239168,
                    8.915535893493525,
                    9.749437315054584,
                    10.515603641696794,
                    11.187012776795532,
                    11.73877304191993,
                    12.149653520827128,
                    12.464619118630702,
                    12.738170393687332,
                    12.967280874286597,
                    13.149390366208568,
                    13.282453575765064,
                    13.364977431714617,
                    13.396049580100609,
                    13.390439818737045,
                    13.363277839435625,
                    13.3147148638557,
                    13.245005478460978,
                    13.154505483478875,
                    13.043668773557354,
                    12.913043460779168,
                    12.747640878608776,
                    12.533510366770981,
                    12.273233871628433,
                    11.969895823445713,
                    11.627021491247227,
                    11.248509414579603,
                    10.838557596730068,
                    10.431749248572304,
                    10.057963335078936,
                    9.714719528668173,
                    9.399782871080145,
                    9.111140113049794,
                    8.846978473817837,
                    8.605667131121526,
                    8.391595926611279,
                    8.208767126885258,
                    8.055347424755796,
                    7.929816650498458,
                    7.830943249021354,
                    7.757763692325087,
                    7.709567208682788,
                    7.667340481308147,
                    7.612578627821025,
                    7.545561730436715,
                    7.466628947419374,
                    7.376175633138355,
                    7.274649993129627,
                    7.162549475669176,
                    7.054090537630334,
                    6.962656184979891,
                    6.8876195265720455,
                    6.828468760744546,
                    6.784801806137338,
                    6.756321709151809,
                    6.742833185057962,
                    6.738209419438081,
                    6.73640004520769,
                    6.737401536621421,
                    6.741213788519505,
                    6.747840123553847,
                    6.757287300216297,
                    6.76956548689568,
                    6.775431126160048,
                    6.765628209989821,
                    6.740231758021649,
                    6.699424958138031,
                    6.643496815909728,
                    6.572838618615347,
                    6.487939629472375,
                    6.412715716663807,
                    6.370029479896882,
                    6.359227378762793,
                    6.380134271989468,
                    6.433048913265443,
                    6.518750856686092,
                    6.638518940328435,
                    6.775841675533568,
                    6.913010100341697,
                    7.0498973430183405,
                    7.186374153700153,
                    7.322309109389172,
                    7.4575688851512565,
                    7.592018514652851,
                    7.734510596635469,
                    7.894569316113194,
                    8.073153618613762,
                    8.271346742635851,
                    8.490367414203483,
                    8.731581495002166,
                    8.996515940365098,
                    9.246808787136441,
                    9.439920652909066,
                    9.572057932535223,
                    9.640609922474843,
                    9.644233886500839,
                    9.582898123057127,
                    9.4578820369889,
                    9.31666709411425,
                    9.20443403923933,
                    9.120168705910297,
                    9.063111416861608,
                    9.032745538100919,
                    9.028789614537251,
                    9.051193099897338,
                    9.07998131004687,
                    9.09502719419116,
                    9.096270004438617,
                    9.083712326670318,
                    9.057420011583087,
                    9.017521558152545,
                    8.96420700944745,
                    8.897726574347184,
                    8.818388265824659,
                    8.726555827669964,
                    8.622645762712782,
                    8.507124174320476,
                    8.380503340358656,
                    8.243337689032147,
                    8.096219797420165,
                    7.939776187477951,
                    7.774662933689604,
                    7.601560968454913,
                    7.421171458364536,
                    7.2342111147695105,
                    7.041407483972886,
                    6.850216137635512,
                    6.66733426586797,
                    6.492373973761886,
                    6.324968274179865,
                    6.164769835460851,
                    6.011449931776837,
                    5.864697380001483,
                    5.725621541565971,
                    5.59521657441212,
                    5.473037985069448,
                    5.358674365851995
                  ]
                },
                {
                  "line": {
                    "dash": "dash",
                    "width": 2
                  },
                  "mode": "lines",
                  "name": "Undre konfidensintervall",
                  "type": "scatter",
                  "x": [
                    "2020-03-01T00:00:00",
                    "2020-03-02T00:00:00",
                    "2020-03-03T00:00:00",
                    "2020-03-04T00:00:00",
                    "2020-03-05T00:00:00",
                    "2020-03-06T00:00:00",
                    "2020-03-07T00:00:00",
                    "2020-03-08T00:00:00",
                    "2020-03-09T00:00:00",
                    "2020-03-10T00:00:00",
                    "2020-03-11T00:00:00",
                    "2020-03-12T00:00:00",
                    "2020-03-13T00:00:00",
                    "2020-03-14T00:00:00",
                    "2020-03-15T00:00:00",
                    "2020-03-16T00:00:00",
                    "2020-03-17T00:00:00",
                    "2020-03-18T00:00:00",
                    "2020-03-19T00:00:00",
                    "2020-03-20T00:00:00",
                    "2020-03-21T00:00:00",
                    "2020-03-22T00:00:00",
                    "2020-03-23T00:00:00",
                    "2020-03-24T00:00:00",
                    "2020-03-25T00:00:00",
                    "2020-03-26T00:00:00",
                    "2020-03-27T00:00:00",
                    "2020-03-28T00:00:00",
                    "2020-03-29T00:00:00",
                    "2020-03-30T00:00:00",
                    "2020-03-31T00:00:00",
                    "2020-04-01T00:00:00",
                    "2020-04-02T00:00:00",
                    "2020-04-03T00:00:00",
                    "2020-04-04T00:00:00",
                    "2020-04-05T00:00:00",
                    "2020-04-06T00:00:00",
                    "2020-04-07T00:00:00",
                    "2020-04-08T00:00:00",
                    "2020-04-09T00:00:00",
                    "2020-04-10T00:00:00",
                    "2020-04-11T00:00:00",
                    "2020-04-12T00:00:00",
                    "2020-04-13T00:00:00",
                    "2020-04-14T00:00:00",
                    "2020-04-15T00:00:00",
                    "2020-04-16T00:00:00",
                    "2020-04-17T00:00:00",
                    "2020-04-18T00:00:00",
                    "2020-04-19T00:00:00",
                    "2020-04-20T00:00:00",
                    "2020-04-21T00:00:00",
                    "2020-04-22T00:00:00",
                    "2020-04-23T00:00:00",
                    "2020-04-24T00:00:00",
                    "2020-04-25T00:00:00",
                    "2020-04-26T00:00:00",
                    "2020-04-27T00:00:00",
                    "2020-04-28T00:00:00",
                    "2020-04-29T00:00:00",
                    "2020-04-30T00:00:00",
                    "2020-05-01T00:00:00",
                    "2020-05-02T00:00:00",
                    "2020-05-03T00:00:00",
                    "2020-05-04T00:00:00",
                    "2020-05-05T00:00:00",
                    "2020-05-06T00:00:00",
                    "2020-05-07T00:00:00",
                    "2020-05-08T00:00:00",
                    "2020-05-09T00:00:00",
                    "2020-05-10T00:00:00",
                    "2020-05-11T00:00:00",
                    "2020-05-12T00:00:00",
                    "2020-05-13T00:00:00",
                    "2020-05-14T00:00:00",
                    "2020-05-15T00:00:00",
                    "2020-05-16T00:00:00",
                    "2020-05-17T00:00:00",
                    "2020-05-18T00:00:00",
                    "2020-05-19T00:00:00",
                    "2020-05-20T00:00:00",
                    "2020-05-21T00:00:00",
                    "2020-05-22T00:00:00",
                    "2020-05-23T00:00:00",
                    "2020-05-24T00:00:00",
                    "2020-05-25T00:00:00",
                    "2020-05-26T00:00:00",
                    "2020-05-27T00:00:00",
                    "2020-05-28T00:00:00",
                    "2020-05-29T00:00:00",
                    "2020-05-30T00:00:00",
                    "2020-05-31T00:00:00",
                    "2020-06-01T00:00:00",
                    "2020-06-02T00:00:00",
                    "2020-06-03T00:00:00",
                    "2020-06-04T00:00:00",
                    "2020-06-05T00:00:00",
                    "2020-06-06T00:00:00",
                    "2020-06-07T00:00:00",
                    "2020-06-08T00:00:00",
                    "2020-06-09T00:00:00",
                    "2020-06-10T00:00:00",
                    "2020-06-11T00:00:00",
                    "2020-06-12T00:00:00",
                    "2020-06-13T00:00:00",
                    "2020-06-14T00:00:00",
                    "2020-06-15T00:00:00",
                    "2020-06-16T00:00:00",
                    "2020-06-17T00:00:00",
                    "2020-06-18T00:00:00",
                    "2020-06-19T00:00:00",
                    "2020-06-20T00:00:00",
                    "2020-06-21T00:00:00",
                    "2020-06-22T00:00:00",
                    "2020-06-23T00:00:00",
                    "2020-06-24T00:00:00",
                    "2020-06-25T00:00:00",
                    "2020-06-26T00:00:00",
                    "2020-06-27T00:00:00",
                    "2020-06-28T00:00:00",
                    "2020-06-29T00:00:00",
                    "2020-06-30T00:00:00",
                    "2020-07-01T00:00:00",
                    "2020-07-02T00:00:00",
                    "2020-07-03T00:00:00",
                    "2020-07-04T00:00:00",
                    "2020-07-05T00:00:00",
                    "2020-07-06T00:00:00",
                    "2020-07-07T00:00:00",
                    "2020-07-08T00:00:00",
                    "2020-07-09T00:00:00",
                    "2020-07-10T00:00:00",
                    "2020-07-11T00:00:00",
                    "2020-07-12T00:00:00",
                    "2020-07-13T00:00:00",
                    "2020-07-14T00:00:00",
                    "2020-07-15T00:00:00",
                    "2020-07-16T00:00:00",
                    "2020-07-17T00:00:00",
                    "2020-07-18T00:00:00",
                    "2020-07-19T00:00:00",
                    "2020-07-20T00:00:00",
                    "2020-07-21T00:00:00",
                    "2020-07-22T00:00:00",
                    "2020-07-23T00:00:00",
                    "2020-07-24T00:00:00",
                    "2020-07-25T00:00:00",
                    "2020-07-26T00:00:00",
                    "2020-07-27T00:00:00",
                    "2020-07-28T00:00:00",
                    "2020-07-29T00:00:00",
                    "2020-07-30T00:00:00",
                    "2020-07-31T00:00:00",
                    "2020-08-01T00:00:00",
                    "2020-08-02T00:00:00",
                    "2020-08-03T00:00:00",
                    "2020-08-04T00:00:00",
                    "2020-08-05T00:00:00",
                    "2020-08-06T00:00:00",
                    "2020-08-07T00:00:00",
                    "2020-08-08T00:00:00",
                    "2020-08-09T00:00:00",
                    "2020-08-10T00:00:00",
                    "2020-08-11T00:00:00",
                    "2020-08-12T00:00:00",
                    "2020-08-13T00:00:00",
                    "2020-08-14T00:00:00",
                    "2020-08-15T00:00:00",
                    "2020-08-16T00:00:00",
                    "2020-08-17T00:00:00",
                    "2020-08-18T00:00:00",
                    "2020-08-19T00:00:00",
                    "2020-08-20T00:00:00"
                  ],
                  "y": [
                    0.013,
                    0.016137784549125192,
                    0.019989471834840917,
                    0.024706745426611817,
                    0.030470988293845733,
                    0.03749853255940006,
                    0.046046718985162556,
                    0.05642086367970165,
                    0.06898224388255281,
                    0.08415721630107803,
                    0.10244759313334408,
                    0.12444240167442913,
                    0.15083116495056126,
                    0.18241883829968047,
                    0.2201425411689207,
                    0.2650902209812184,
                    0.3185213812069279,
                    0.3818899976366995,
                    0.4568697331849598,
                    0.5453815433689131,
                    0.6496237395184915,
                    0.772104544598582,
                    0.9156771362102436,
                    1.0835771218393908,
                    1.2794623314642786,
                    1.5074547402367955,
                    1.7721842537882102,
                    2.078833985229466,
                    2.433186536023888,
                    2.837889483029929,
                    3.2938199836134703,
                    3.8044041433580684,
                    4.37274139405772,
                    5.001486994653661,
                    5.692727950021761,
                    6.447855185397599,
                    7.236361054431306,
                    8.012605649610135,
                    8.75340336653934,
                    9.434773041143988,
                    10.033204347769702,
                    10.526996528085734,
                    10.897562552139666,
                    11.184344883202852,
                    11.435158291793407,
                    11.647293626297493,
                    11.81843438897675,
                    11.946699638194225,
                    12.030677586553116,
                    12.069451797555464,
                    12.07594221841066,
                    12.063429228268427,
                    12.0319872740448,
                    11.981780538497981,
                    11.913061521876976,
                    11.826168811557539,
                    11.721524135942541,
                    11.58571821734353,
                    11.406193930540224,
                    11.185076582616597,
                    10.924940770250778,
                    10.62876093700274,
                    10.29985418092807,
                    9.941819180470063,
                    9.585623457616828,
                    9.258210984437335,
                    8.95748356730303,
                    8.681549199179372,
                    8.428701980791995,
                    8.197405348809632,
                    7.986276467858817,
                    7.799405040827143,
                    7.639027336089112,
                    7.504764655839243,
                    7.395789622413521,
                    7.311054635365954,
                    7.249749886713915,
                    7.211290717565542,
                    7.176562396941889,
                    7.128157054112067,
                    7.068387493297248,
                    6.997552550308113,
                    6.916002746069951,
                    6.8241375118267165,
                    6.720927777427994,
                    6.624931559567898,
                    6.546075930465325,
                    6.482218874204949,
                    6.428334845335249,
                    6.387455396129177,
                    6.3585863129289475,
                    6.342116855938567,
                    6.33401656283314,
                    6.327991240081828,
                    6.326355380916859,
                    6.329267274073137,
                    6.333966878622835,
                    6.3399994036364165,
                    6.341332548198398,
                    6.33563417702305,
                    6.315065307479844,
                    6.279778012822366,
                    6.230027013886637,
                    6.168083278388797,
                    6.094930819762924,
                    6.008653581892402,
                    5.931619308020705,
                    5.885103991186563,
                    5.868390576872746,
                    5.881214783356237,
                    5.923758180681508,
                    5.9966518654415,
                    6.100992373419566,
                    6.2213950587102165,
                    6.341425640483487,
                    6.46096895413549,
                    6.579908222233786,
                    6.6981251993252995,
                    6.815500344986971,
                    6.931913176123819,
                    7.0555165626817855,
                    7.19505193650774,
                    7.351360164774982,
                    7.525394666137528,
                    7.718231152885321,
                    7.93107828858996,
                    8.165289924042664,
                    8.385709017039582,
                    8.553469526723454,
                    8.665241066652959,
                    8.718793444947222,
                    8.712162591476172,
                    8.646052429377372,
                    8.522076123227375,
                    8.383683578165392,
                    8.272010442269542,
                    8.186033316443893,
                    8.124967789344748,
                    8.088256545367463,
                    8.075560867785548,
                    8.08675516378922,
                    8.10372469310169,
                    8.108294237110295,
                    8.099819872546476,
                    8.07792451114795,
                    8.043726465772437,
                    7.997390204835117,
                    7.939135267412502,
                    7.869234573341446,
                    7.788012031063527,
                    7.695840243855065,
                    7.593137519531082,
                    7.480364683744317,
                    7.358021715349232,
                    7.226643912173733,
                    7.086797827417437,
                    6.939077550691661,
                    6.784100326345025,
                    6.622502277859227,
                    6.454934103799208,
                    6.282056768200951,
                    6.104537244954957,
                    5.928956545380138,
                    5.761187143252974,
                    5.6008515279391204,
                    5.447593124874912,
                    5.301075006470633,
                    5.160978583665607,
                    5.027002891521598,
                    4.900084356437243,
                    4.7810537863067015,
                    4.669489608050413,
                    4.565001915624293
                  ]
                },
                {
                  "line": {
                    "dash": "dash",
                    "width": 2
                  },
                  "mode": "lines",
                  "name": "Övre konfidensintervall",
                  "type": "scatter",
                  "x": [
                    "2020-03-01T00:00:00",
                    "2020-03-02T00:00:00",
                    "2020-03-03T00:00:00",
                    "2020-03-04T00:00:00",
                    "2020-03-05T00:00:00",
                    "2020-03-06T00:00:00",
                    "2020-03-07T00:00:00",
                    "2020-03-08T00:00:00",
                    "2020-03-09T00:00:00",
                    "2020-03-10T00:00:00",
                    "2020-03-11T00:00:00",
                    "2020-03-12T00:00:00",
                    "2020-03-13T00:00:00",
                    "2020-03-14T00:00:00",
                    "2020-03-15T00:00:00",
                    "2020-03-16T00:00:00",
                    "2020-03-17T00:00:00",
                    "2020-03-18T00:00:00",
                    "2020-03-19T00:00:00",
                    "2020-03-20T00:00:00",
                    "2020-03-21T00:00:00",
                    "2020-03-22T00:00:00",
                    "2020-03-23T00:00:00",
                    "2020-03-24T00:00:00",
                    "2020-03-25T00:00:00",
                    "2020-03-26T00:00:00",
                    "2020-03-27T00:00:00",
                    "2020-03-28T00:00:00",
                    "2020-03-29T00:00:00",
                    "2020-03-30T00:00:00",
                    "2020-03-31T00:00:00",
                    "2020-04-01T00:00:00",
                    "2020-04-02T00:00:00",
                    "2020-04-03T00:00:00",
                    "2020-04-04T00:00:00",
                    "2020-04-05T00:00:00",
                    "2020-04-06T00:00:00",
                    "2020-04-07T00:00:00",
                    "2020-04-08T00:00:00",
                    "2020-04-09T00:00:00",
                    "2020-04-10T00:00:00",
                    "2020-04-11T00:00:00",
                    "2020-04-12T00:00:00",
                    "2020-04-13T00:00:00",
                    "2020-04-14T00:00:00",
                    "2020-04-15T00:00:00",
                    "2020-04-16T00:00:00",
                    "2020-04-17T00:00:00",
                    "2020-04-18T00:00:00",
                    "2020-04-19T00:00:00",
                    "2020-04-20T00:00:00",
                    "2020-04-21T00:00:00",
                    "2020-04-22T00:00:00",
                    "2020-04-23T00:00:00",
                    "2020-04-24T00:00:00",
                    "2020-04-25T00:00:00",
                    "2020-04-26T00:00:00",
                    "2020-04-27T00:00:00",
                    "2020-04-28T00:00:00",
                    "2020-04-29T00:00:00",
                    "2020-04-30T00:00:00",
                    "2020-05-01T00:00:00",
                    "2020-05-02T00:00:00",
                    "2020-05-03T00:00:00",
                    "2020-05-04T00:00:00",
                    "2020-05-05T00:00:00",
                    "2020-05-06T00:00:00",
                    "2020-05-07T00:00:00",
                    "2020-05-08T00:00:00",
                    "2020-05-09T00:00:00",
                    "2020-05-10T00:00:00",
                    "2020-05-11T00:00:00",
                    "2020-05-12T00:00:00",
                    "2020-05-13T00:00:00",
                    "2020-05-14T00:00:00",
                    "2020-05-15T00:00:00",
                    "2020-05-16T00:00:00",
                    "2020-05-17T00:00:00",
                    "2020-05-18T00:00:00",
                    "2020-05-19T00:00:00",
                    "2020-05-20T00:00:00",
                    "2020-05-21T00:00:00",
                    "2020-05-22T00:00:00",
                    "2020-05-23T00:00:00",
                    "2020-05-24T00:00:00",
                    "2020-05-25T00:00:00",
                    "2020-05-26T00:00:00",
                    "2020-05-27T00:00:00",
                    "2020-05-28T00:00:00",
                    "2020-05-29T00:00:00",
                    "2020-05-30T00:00:00",
                    "2020-05-31T00:00:00",
                    "2020-06-01T00:00:00",
                    "2020-06-02T00:00:00",
                    "2020-06-03T00:00:00",
                    "2020-06-04T00:00:00",
                    "2020-06-05T00:00:00",
                    "2020-06-06T00:00:00",
                    "2020-06-07T00:00:00",
                    "2020-06-08T00:00:00",
                    "2020-06-09T00:00:00",
                    "2020-06-10T00:00:00",
                    "2020-06-11T00:00:00",
                    "2020-06-12T00:00:00",
                    "2020-06-13T00:00:00",
                    "2020-06-14T00:00:00",
                    "2020-06-15T00:00:00",
                    "2020-06-16T00:00:00",
                    "2020-06-17T00:00:00",
                    "2020-06-18T00:00:00",
                    "2020-06-19T00:00:00",
                    "2020-06-20T00:00:00",
                    "2020-06-21T00:00:00",
                    "2020-06-22T00:00:00",
                    "2020-06-23T00:00:00",
                    "2020-06-24T00:00:00",
                    "2020-06-25T00:00:00",
                    "2020-06-26T00:00:00",
                    "2020-06-27T00:00:00",
                    "2020-06-28T00:00:00",
                    "2020-06-29T00:00:00",
                    "2020-06-30T00:00:00",
                    "2020-07-01T00:00:00",
                    "2020-07-02T00:00:00",
                    "2020-07-03T00:00:00",
                    "2020-07-04T00:00:00",
                    "2020-07-05T00:00:00",
                    "2020-07-06T00:00:00",
                    "2020-07-07T00:00:00",
                    "2020-07-08T00:00:00",
                    "2020-07-09T00:00:00",
                    "2020-07-10T00:00:00",
                    "2020-07-11T00:00:00",
                    "2020-07-12T00:00:00",
                    "2020-07-13T00:00:00",
                    "2020-07-14T00:00:00",
                    "2020-07-15T00:00:00",
                    "2020-07-16T00:00:00",
                    "2020-07-17T00:00:00",
                    "2020-07-18T00:00:00",
                    "2020-07-19T00:00:00",
                    "2020-07-20T00:00:00",
                    "2020-07-21T00:00:00",
                    "2020-07-22T00:00:00",
                    "2020-07-23T00:00:00",
                    "2020-07-24T00:00:00",
                    "2020-07-25T00:00:00",
                    "2020-07-26T00:00:00",
                    "2020-07-27T00:00:00",
                    "2020-07-28T00:00:00",
                    "2020-07-29T00:00:00",
                    "2020-07-30T00:00:00",
                    "2020-07-31T00:00:00",
                    "2020-08-01T00:00:00",
                    "2020-08-02T00:00:00",
                    "2020-08-03T00:00:00",
                    "2020-08-04T00:00:00",
                    "2020-08-05T00:00:00",
                    "2020-08-06T00:00:00",
                    "2020-08-07T00:00:00",
                    "2020-08-08T00:00:00",
                    "2020-08-09T00:00:00",
                    "2020-08-10T00:00:00",
                    "2020-08-11T00:00:00",
                    "2020-08-12T00:00:00",
                    "2020-08-13T00:00:00",
                    "2020-08-14T00:00:00",
                    "2020-08-15T00:00:00",
                    "2020-08-16T00:00:00",
                    "2020-08-17T00:00:00",
                    "2020-08-18T00:00:00",
                    "2020-08-19T00:00:00",
                    "2020-08-20T00:00:00"
                  ],
                  "y": [
                    0.013,
                    0.016261527472206518,
                    0.020295146234347316,
                    0.02527178179304171,
                    0.031397301834608024,
                    0.038918987356360984,
                    0.048133054060490864,
                    0.0593933631378472,
                    0.07312147514637274,
                    0.08981821015163553,
                    0.11007689079817054,
                    0.1345984539255007,
                    0.16420862886068793,
                    0.19987738443622477,
                    0.24274085354640149,
                    0.2941259445119304,
                    0.355577845458266,
                    0.42889061881634344,
                    0.5161410678796896,
                    0.6197260344901069,
                    0.7424032535201027,
                    0.8873358465002702,
                    1.058140480866535,
                    1.2589391501041152,
                    1.4944144427290778,
                    1.7698680651160512,
                    2.0912822526507346,
                    2.465383559861202,
                    2.899708247879276,
                    3.397930684828874,
                    3.961480870562354,
                    4.5949525422181905,
                    5.302520130848502,
                    6.087776576052651,
                    6.953561212630647,
                    7.9017821269889605,
                    8.893277439465843,
                    9.868929786989112,
                    10.798194305760568,
                    11.649502685865649,
                    12.392015233656126,
                    12.997466418197861,
                    13.441948390020029,
                    13.776715318913665,
                    14.063698858549797,
                    14.299633926845944,
                    14.481814179253936,
                    14.609799446334529,
                    14.684947727605655,
                    14.702200363678248,
                    14.678289117711403,
                    14.634482740063616,
                    14.567436460876126,
                    14.476909701096695,
                    14.363371346229599,
                    14.232784051574216,
                    14.080435862820083,
                    13.889743770167986,
                    13.64537623317708,
                    13.350324239664438,
                    13.008133938945285,
                    12.623346164894787,
                    12.202526025526565,
                    11.747631234540414,
                    11.296725088059084,
                    10.88257560088255,
                    10.502381164336025,
                    10.153618450389475,
                    9.834015997294609,
                    9.541528835734008,
                    9.274318347855585,
                    9.0371233896507,
                    8.834247765371988,
                    8.66459149585023,
                    8.531767169008017,
                    8.429702185712063,
                    8.355970732901461,
                    8.309199837066815,
                    8.268797637195123,
                    8.214766233210998,
                    8.147384742295682,
                    8.066997343345504,
                    7.97401021991912,
                    7.869790060398126,
                    7.757956354676672,
                    7.6497606027731635,
                    7.559680075409229,
                    7.487101627000832,
                    7.431533309532019,
                    7.394222510100617,
                    7.3780099954806255,
                    7.377825117256086,
                    7.38715113973641,
                    7.399501523249479,
                    7.414889323844921,
                    7.433331196957041,
                    7.4548474889626295,
                    7.479462194225409,
                    7.5072030401995296,
                    7.527979883104294,
                    7.531612691396828,
                    7.518085330616406,
                    7.487499297982566,
                    7.440072474672811,
                    7.376136472578584,
                    7.296132738082538,
                    7.2264818633804415,
                    7.192649371157376,
                    7.194119792166833,
                    7.23089701801575,
                    7.303503764149653,
                    7.41299364596259,
                    7.560976363494993,
                    7.729097527077994,
                    7.8975420232259355,
                    8.06616417375389,
                    8.234814671642336,
                    8.403340650124951,
                    8.571585949242031,
                    8.739391477224359,
                    8.9167880582793,
                    9.114627189517298,
                    9.33408095974663,
                    9.576466322789702,
                    9.84325839888843,
                    10.136104378803998,
                    10.456838871107777,
                    10.761659732722478,
                    11.001752912652767,
                    11.17249317562324,
                    11.270569192957119,
                    11.292708761824302,
                    11.220356545877177,
                    11.072434290912112,
                    10.905265477946271,
                    10.77240748161766,
                    10.67264443359699,
                    10.605064669145877,
                    10.569046784792315,
                    10.564250409228713,
                    10.590610352337212,
                    10.624462971178126,
                    10.641964851530767,
                    10.643046142576468,
                    10.627713485156116,
                    10.596050071536364,
                    10.548214858731397,
                    10.48444120133054,
                    10.405035028817865,
                    10.310371978614945,
                    10.200894731446473,
                    10.077109363299408,
                    9.939581412709714,
                    9.788931608576243,
                    9.62583099283908,
                    9.450995938255279,
                    9.265182946898115,
                    9.069183288113324,
                    8.8638172767076,
                    8.649928587102943,
                    8.428378506418065,
                    8.200040617838413,
                    7.973709295610584,
                    7.7572703106095195,
                    7.550258140549633,
                    7.353604127286865,
                    7.165696991582622,
                    6.985880432757234,
                    6.813787059089569,
                    6.650713104157766,
                    6.497818692970324,
                    6.3545784056437915,
                    6.220506156120121
                  ]
                },
                {
                  "line": {
                    "dash": "dot",
                    "width": 2
                  },
                  "mode": "lines",
                  "name": "Undre prediktionsintervall",
                  "type": "scatter",
                  "x": [
                    "2020-03-01T00:00:00",
                    "2020-03-02T00:00:00",
                    "2020-03-03T00:00:00",
                    "2020-03-04T00:00:00",
                    "2020-03-05T00:00:00",
                    "2020-03-06T00:00:00",
                    "2020-03-07T00:00:00",
                    "2020-03-08T00:00:00",
                    "2020-03-09T00:00:00",
                    "2020-03-10T00:00:00",
                    "2020-03-11T00:00:00",
                    "2020-03-12T00:00:00",
                    "2020-03-13T00:00:00",
                    "2020-03-14T00:00:00",
                    "2020-03-15T00:00:00",
                    "2020-03-16T00:00:00",
                    "2020-03-17T00:00:00",
                    "2020-03-18T00:00:00",
                    "2020-03-19T00:00:00",
                    "2020-03-20T00:00:00",
                    "2020-03-21T00:00:00",
                    "2020-03-22T00:00:00",
                    "2020-03-23T00:00:00",
                    "2020-03-24T00:00:00",
                    "2020-03-25T00:00:00",
                    "2020-03-26T00:00:00",
                    "2020-03-27T00:00:00",
                    "2020-03-28T00:00:00",
                    "2020-03-29T00:00:00",
                    "2020-03-30T00:00:00",
                    "2020-03-31T00:00:00",
                    "2020-04-01T00:00:00",
                    "2020-04-02T00:00:00",
                    "2020-04-03T00:00:00",
                    "2020-04-04T00:00:00",
                    "2020-04-05T00:00:00",
                    "2020-04-06T00:00:00",
                    "2020-04-07T00:00:00",
                    "2020-04-08T00:00:00",
                    "2020-04-09T00:00:00",
                    "2020-04-10T00:00:00",
                    "2020-04-11T00:00:00",
                    "2020-04-12T00:00:00",
                    "2020-04-13T00:00:00",
                    "2020-04-14T00:00:00",
                    "2020-04-15T00:00:00",
                    "2020-04-16T00:00:00",
                    "2020-04-17T00:00:00",
                    "2020-04-18T00:00:00",
                    "2020-04-19T00:00:00",
                    "2020-04-20T00:00:00",
                    "2020-04-21T00:00:00",
                    "2020-04-22T00:00:00",
                    "2020-04-23T00:00:00",
                    "2020-04-24T00:00:00",
                    "2020-04-25T00:00:00",
                    "2020-04-26T00:00:00",
                    "2020-04-27T00:00:00",
                    "2020-04-28T00:00:00",
                    "2020-04-29T00:00:00",
                    "2020-04-30T00:00:00",
                    "2020-05-01T00:00:00",
                    "2020-05-02T00:00:00",
                    "2020-05-03T00:00:00",
                    "2020-05-04T00:00:00",
                    "2020-05-05T00:00:00",
                    "2020-05-06T00:00:00",
                    "2020-05-07T00:00:00",
                    "2020-05-08T00:00:00",
                    "2020-05-09T00:00:00",
                    "2020-05-10T00:00:00",
                    "2020-05-11T00:00:00",
                    "2020-05-12T00:00:00",
                    "2020-05-13T00:00:00",
                    "2020-05-14T00:00:00",
                    "2020-05-15T00:00:00",
                    "2020-05-16T00:00:00",
                    "2020-05-17T00:00:00",
                    "2020-05-18T00:00:00",
                    "2020-05-19T00:00:00",
                    "2020-05-20T00:00:00",
                    "2020-05-21T00:00:00",
                    "2020-05-22T00:00:00",
                    "2020-05-23T00:00:00",
                    "2020-05-24T00:00:00",
                    "2020-05-25T00:00:00",
                    "2020-05-26T00:00:00",
                    "2020-05-27T00:00:00",
                    "2020-05-28T00:00:00",
                    "2020-05-29T00:00:00",
                    "2020-05-30T00:00:00",
                    "2020-05-31T00:00:00",
                    "2020-06-01T00:00:00",
                    "2020-06-02T00:00:00",
                    "2020-06-03T00:00:00",
                    "2020-06-04T00:00:00",
                    "2020-06-05T00:00:00",
                    "2020-06-06T00:00:00",
                    "2020-06-07T00:00:00",
                    "2020-06-08T00:00:00",
                    "2020-06-09T00:00:00",
                    "2020-06-10T00:00:00",
                    "2020-06-11T00:00:00",
                    "2020-06-12T00:00:00",
                    "2020-06-13T00:00:00",
                    "2020-06-14T00:00:00",
                    "2020-06-15T00:00:00",
                    "2020-06-16T00:00:00",
                    "2020-06-17T00:00:00",
                    "2020-06-18T00:00:00",
                    "2020-06-19T00:00:00",
                    "2020-06-20T00:00:00",
                    "2020-06-21T00:00:00",
                    "2020-06-22T00:00:00",
                    "2020-06-23T00:00:00",
                    "2020-06-24T00:00:00",
                    "2020-06-25T00:00:00",
                    "2020-06-26T00:00:00",
                    "2020-06-27T00:00:00",
                    "2020-06-28T00:00:00",
                    "2020-06-29T00:00:00",
                    "2020-06-30T00:00:00",
                    "2020-07-01T00:00:00",
                    "2020-07-02T00:00:00",
                    "2020-07-03T00:00:00",
                    "2020-07-04T00:00:00",
                    "2020-07-05T00:00:00",
                    "2020-07-06T00:00:00",
                    "2020-07-07T00:00:00",
                    "2020-07-08T00:00:00",
                    "2020-07-09T00:00:00",
                    "2020-07-10T00:00:00",
                    "2020-07-11T00:00:00",
                    "2020-07-12T00:00:00",
                    "2020-07-13T00:00:00",
                    "2020-07-14T00:00:00",
                    "2020-07-15T00:00:00",
                    "2020-07-16T00:00:00",
                    "2020-07-17T00:00:00",
                    "2020-07-18T00:00:00",
                    "2020-07-19T00:00:00",
                    "2020-07-20T00:00:00",
                    "2020-07-21T00:00:00",
                    "2020-07-22T00:00:00",
                    "2020-07-23T00:00:00",
                    "2020-07-24T00:00:00",
                    "2020-07-25T00:00:00",
                    "2020-07-26T00:00:00",
                    "2020-07-27T00:00:00",
                    "2020-07-28T00:00:00",
                    "2020-07-29T00:00:00",
                    "2020-07-30T00:00:00",
                    "2020-07-31T00:00:00",
                    "2020-08-01T00:00:00",
                    "2020-08-02T00:00:00",
                    "2020-08-03T00:00:00",
                    "2020-08-04T00:00:00",
                    "2020-08-05T00:00:00",
                    "2020-08-06T00:00:00",
                    "2020-08-07T00:00:00",
                    "2020-08-08T00:00:00",
                    "2020-08-09T00:00:00",
                    "2020-08-10T00:00:00",
                    "2020-08-11T00:00:00",
                    "2020-08-12T00:00:00",
                    "2020-08-13T00:00:00",
                    "2020-08-14T00:00:00",
                    "2020-08-15T00:00:00",
                    "2020-08-16T00:00:00",
                    "2020-08-17T00:00:00",
                    "2020-08-18T00:00:00",
                    "2020-08-19T00:00:00",
                    "2020-08-20T00:00:00"
                  ],
                  "y": [
                    0,
                    0,
                    0,
                    0,
                    0,
                    0,
                    0,
                    0,
                    0,
                    0,
                    0,
                    0,
                    0,
                    0,
                    0,
                    0,
                    0,
                    0,
                    0,
                    0,
                    0,
                    0,
                    0,
                    0,
                    0,
                    0,
                    0,
                    0,
                    0,
                    0,
                    0,
                    0,
                    0,
                    0,
                    0,
                    0,
                    0,
                    0,
                    0,
                    0,
                    0,
                    0,
                    0.037961836712164056,
                    0.33495159640038186,
                    0.5515603370577623,
                    0.8333773329873193,
                    0.878253169954639,
                    1.1517266543731917,
                    1.1953242590108817,
                    1.1693443984368694,
                    1.1705750200592742,
                    1.1217024051053155,
                    1.0326812644183698,
                    1.2651610438110816,
                    0.9875674078801806,
                    1.0677421406455887,
                    0.730818364515276,
                    0.6444151563021155,
                    0.3906381786309632,
                    0.22387697117968158,
                    0,
                    0,
                    0,
                    0,
                    0,
                    0,
                    0,
                    0,
                    0,
                    0,
                    0,
                    0,
                    0,
                    0,
                    0,
                    0,
                    0,
                    0,
                    0,
                    0,
                    0,
                    0,
                    0,
                    0,
                    0,
                    0,
                    0,
                    0,
                    0,
                    0,
                    0,
                    0,
                    0,
                    0,
                    0,
                    0,
                    0,
                    0,
                    0,
                    0,
                    0,
                    0,
                    0,
                    0,
                    0,
                    0,
                    0,
                    0,
                    0,
                    0,
                    0,
                    0,
                    0,
                    0,
                    0,
                    0,
                    0,
                    0,
                    0,
                    0,
                    0,
                    0,
                    0,
                    0,
                    0,
                    0,
                    0,
                    0,
                    0,
                    0,
                    0,
                    0,
                    0,
                    0,
                    0,
                    0,
                    0,
                    0,
                    0,
                    0,
                    0,
                    0,
                    0,
                    0,
                    0,
                    0,
                    0,
                    0,
                    0,
                    0,
                    0,
                    0,
                    0,
                    0,
                    0,
                    0,
                    0,
                    0,
                    0,
                    0,
                    0,
                    0,
                    0,
                    0,
                    0,
                    0,
                    0,
                    0,
                    0,
                    0,
                    0,
                    0,
                    0
                  ]
                },
                {
                  "line": {
                    "dash": "dot",
                    "width": 2
                  },
                  "mode": "lines",
                  "name": "Övre prediktionsintervall",
                  "type": "scatter",
                  "x": [
                    "2020-03-01T00:00:00",
                    "2020-03-02T00:00:00",
                    "2020-03-03T00:00:00",
                    "2020-03-04T00:00:00",
                    "2020-03-05T00:00:00",
                    "2020-03-06T00:00:00",
                    "2020-03-07T00:00:00",
                    "2020-03-08T00:00:00",
                    "2020-03-09T00:00:00",
                    "2020-03-10T00:00:00",
                    "2020-03-11T00:00:00",
                    "2020-03-12T00:00:00",
                    "2020-03-13T00:00:00",
                    "2020-03-14T00:00:00",
                    "2020-03-15T00:00:00",
                    "2020-03-16T00:00:00",
                    "2020-03-17T00:00:00",
                    "2020-03-18T00:00:00",
                    "2020-03-19T00:00:00",
                    "2020-03-20T00:00:00",
                    "2020-03-21T00:00:00",
                    "2020-03-22T00:00:00",
                    "2020-03-23T00:00:00",
                    "2020-03-24T00:00:00",
                    "2020-03-25T00:00:00",
                    "2020-03-26T00:00:00",
                    "2020-03-27T00:00:00",
                    "2020-03-28T00:00:00",
                    "2020-03-29T00:00:00",
                    "2020-03-30T00:00:00",
                    "2020-03-31T00:00:00",
                    "2020-04-01T00:00:00",
                    "2020-04-02T00:00:00",
                    "2020-04-03T00:00:00",
                    "2020-04-04T00:00:00",
                    "2020-04-05T00:00:00",
                    "2020-04-06T00:00:00",
                    "2020-04-07T00:00:00",
                    "2020-04-08T00:00:00",
                    "2020-04-09T00:00:00",
                    "2020-04-10T00:00:00",
                    "2020-04-11T00:00:00",
                    "2020-04-12T00:00:00",
                    "2020-04-13T00:00:00",
                    "2020-04-14T00:00:00",
                    "2020-04-15T00:00:00",
                    "2020-04-16T00:00:00",
                    "2020-04-17T00:00:00",
                    "2020-04-18T00:00:00",
                    "2020-04-19T00:00:00",
                    "2020-04-20T00:00:00",
                    "2020-04-21T00:00:00",
                    "2020-04-22T00:00:00",
                    "2020-04-23T00:00:00",
                    "2020-04-24T00:00:00",
                    "2020-04-25T00:00:00",
                    "2020-04-26T00:00:00",
                    "2020-04-27T00:00:00",
                    "2020-04-28T00:00:00",
                    "2020-04-29T00:00:00",
                    "2020-04-30T00:00:00",
                    "2020-05-01T00:00:00",
                    "2020-05-02T00:00:00",
                    "2020-05-03T00:00:00",
                    "2020-05-04T00:00:00",
                    "2020-05-05T00:00:00",
                    "2020-05-06T00:00:00",
                    "2020-05-07T00:00:00",
                    "2020-05-08T00:00:00",
                    "2020-05-09T00:00:00",
                    "2020-05-10T00:00:00",
                    "2020-05-11T00:00:00",
                    "2020-05-12T00:00:00",
                    "2020-05-13T00:00:00",
                    "2020-05-14T00:00:00",
                    "2020-05-15T00:00:00",
                    "2020-05-16T00:00:00",
                    "2020-05-17T00:00:00",
                    "2020-05-18T00:00:00",
                    "2020-05-19T00:00:00",
                    "2020-05-20T00:00:00",
                    "2020-05-21T00:00:00",
                    "2020-05-22T00:00:00",
                    "2020-05-23T00:00:00",
                    "2020-05-24T00:00:00",
                    "2020-05-25T00:00:00",
                    "2020-05-26T00:00:00",
                    "2020-05-27T00:00:00",
                    "2020-05-28T00:00:00",
                    "2020-05-29T00:00:00",
                    "2020-05-30T00:00:00",
                    "2020-05-31T00:00:00",
                    "2020-06-01T00:00:00",
                    "2020-06-02T00:00:00",
                    "2020-06-03T00:00:00",
                    "2020-06-04T00:00:00",
                    "2020-06-05T00:00:00",
                    "2020-06-06T00:00:00",
                    "2020-06-07T00:00:00",
                    "2020-06-08T00:00:00",
                    "2020-06-09T00:00:00",
                    "2020-06-10T00:00:00",
                    "2020-06-11T00:00:00",
                    "2020-06-12T00:00:00",
                    "2020-06-13T00:00:00",
                    "2020-06-14T00:00:00",
                    "2020-06-15T00:00:00",
                    "2020-06-16T00:00:00",
                    "2020-06-17T00:00:00",
                    "2020-06-18T00:00:00",
                    "2020-06-19T00:00:00",
                    "2020-06-20T00:00:00",
                    "2020-06-21T00:00:00",
                    "2020-06-22T00:00:00",
                    "2020-06-23T00:00:00",
                    "2020-06-24T00:00:00",
                    "2020-06-25T00:00:00",
                    "2020-06-26T00:00:00",
                    "2020-06-27T00:00:00",
                    "2020-06-28T00:00:00",
                    "2020-06-29T00:00:00",
                    "2020-06-30T00:00:00",
                    "2020-07-01T00:00:00",
                    "2020-07-02T00:00:00",
                    "2020-07-03T00:00:00",
                    "2020-07-04T00:00:00",
                    "2020-07-05T00:00:00",
                    "2020-07-06T00:00:00",
                    "2020-07-07T00:00:00",
                    "2020-07-08T00:00:00",
                    "2020-07-09T00:00:00",
                    "2020-07-10T00:00:00",
                    "2020-07-11T00:00:00",
                    "2020-07-12T00:00:00",
                    "2020-07-13T00:00:00",
                    "2020-07-14T00:00:00",
                    "2020-07-15T00:00:00",
                    "2020-07-16T00:00:00",
                    "2020-07-17T00:00:00",
                    "2020-07-18T00:00:00",
                    "2020-07-19T00:00:00",
                    "2020-07-20T00:00:00",
                    "2020-07-21T00:00:00",
                    "2020-07-22T00:00:00",
                    "2020-07-23T00:00:00",
                    "2020-07-24T00:00:00",
                    "2020-07-25T00:00:00",
                    "2020-07-26T00:00:00",
                    "2020-07-27T00:00:00",
                    "2020-07-28T00:00:00",
                    "2020-07-29T00:00:00",
                    "2020-07-30T00:00:00",
                    "2020-07-31T00:00:00",
                    "2020-08-01T00:00:00",
                    "2020-08-02T00:00:00",
                    "2020-08-03T00:00:00",
                    "2020-08-04T00:00:00",
                    "2020-08-05T00:00:00",
                    "2020-08-06T00:00:00",
                    "2020-08-07T00:00:00",
                    "2020-08-08T00:00:00",
                    "2020-08-09T00:00:00",
                    "2020-08-10T00:00:00",
                    "2020-08-11T00:00:00",
                    "2020-08-12T00:00:00",
                    "2020-08-13T00:00:00",
                    "2020-08-14T00:00:00",
                    "2020-08-15T00:00:00",
                    "2020-08-16T00:00:00",
                    "2020-08-17T00:00:00",
                    "2020-08-18T00:00:00",
                    "2020-08-19T00:00:00",
                    "2020-08-20T00:00:00"
                  ],
                  "y": [
                    12.294739979017507,
                    12.202908261438791,
                    12.317337910856088,
                    12.140261613548338,
                    12.383687134164337,
                    12.47067866545645,
                    12.334710236456706,
                    12.1503426775588,
                    12.411006587610018,
                    12.421208195283828,
                    12.310500529179118,
                    12.211290450616305,
                    12.364044899859085,
                    12.527144095915965,
                    12.508092846127633,
                    12.279831309187447,
                    12.632230900615454,
                    12.627044763263065,
                    12.76224588416522,
                    12.829171445115477,
                    12.812912165733573,
                    12.955196028813775,
                    12.98967423994004,
                    13.485919672205664,
                    13.53107329720088,
                    13.74217295607625,
                    14.037966473137875,
                    14.265257648950687,
                    14.937866891290122,
                    15.17623542555537,
                    16.04826756437035,
                    16.37329640654069,
                    17.26380528981559,
                    17.87431620662585,
                    18.51068921772745,
                    19.25877447721688,
                    20.428677443171917,
                    21.286688936114945,
                    21.979539893779734,
                    22.943017926735294,
                    23.433623134276004,
                    23.94807649975185,
                    24.494679534666137,
                    24.605116653364387,
                    25.192950261157904,
                    25.440552584568767,
                    25.578944120742094,
                    25.80423492183798,
                    25.78611834892594,
                    25.905943885229874,
                    25.843203911386258,
                    25.828797982023865,
                    25.80727328014195,
                    25.672185299620228,
                    25.46846443761012,
                    25.484814258013888,
                    25.36159727766267,
                    25.17010701487867,
                    25.090264299513592,
                    24.680783436594538,
                    24.283576623691193,
                    23.82947473864379,
                    23.72309783589302,
                    23.190997311004274,
                    22.78772812471601,
                    22.390177017058598,
                    21.860206061019856,
                    21.76393040131421,
                    21.428139022908738,
                    20.97694701473239,
                    20.80359756276367,
                    20.51815930818031,
                    20.61793675085189,
                    20.178639921686113,
                    20.259277033826443,
                    20.056915347111904,
                    19.985317653254498,
                    19.991959087052205,
                    20.026394611987403,
                    19.813713341786308,
                    19.988312953410347,
                    19.79973423137055,
                    19.660781397367664,
                    19.52027893654247,
                    19.537540852163296,
                    19.333701906786846,
                    19.369901347800482,
                    19.403428100373556,
                    19.162249467957224,
                    18.740891489237676,
                    19.003644801280654,
                    19.148835242363326,
                    19.00345273816719,
                    19.083186452968352,
                    18.951233531647688,
                    18.941416320245516,
                    18.96076639470127,
                    18.831292460524292,
                    19.14246543866325,
                    19.01292776522997,
                    19.01506584925623,
                    19.079868929263416,
                    18.901161357357218,
                    19.055224187360565,
                    18.769119149399145,
                    18.64347034265485,
                    18.713096789734013,
                    18.66974615606021,
                    18.54008050796012,
                    18.798573637895263,
                    18.71863007075916,
                    18.849075083200116,
                    18.968904556083913,
                    19.349017700074363,
                    19.207519204066863,
                    19.371113776303115,
                    19.67283568476427,
                    19.66093373597479,
                    19.792782076877895,
                    20.037845968275168,
                    20.202118972633478,
                    20.10008005402178,
                    20.315589367925565,
                    20.50151554749365,
                    20.56951777967059,
                    21.062055784990093,
                    21.52884398563922,
                    21.54774316528466,
                    21.832818760236112,
                    21.823992593926967,
                    21.946152878592134,
                    22.075573100872976,
                    22.08458951440564,
                    21.909295184655825,
                    21.72598473996833,
                    21.41150013074761,
                    21.41024034082791,
                    21.305498270309087,
                    21.347904312904532,
                    21.302237958359793,
                    21.3507141239245,
                    21.378279572065548,
                    21.447548704527755,
                    21.386122635357466,
                    21.370525864488563,
                    21.3079316061598,
                    21.544112729610575,
                    21.294651308904424,
                    21.246553430273774,
                    21.326326831460502,
                    21.04359169342742,
                    20.948282662069783,
                    20.7287213938697,
                    20.67498509616543,
                    20.43428308525089,
                    20.458357525701086,
                    20.270159214271544,
                    19.941880856556754,
                    19.80298534818181,
                    19.71902622186949,
                    19.649902512643532,
                    19.36463323740884,
                    19.13604066726019,
                    18.767232705606435,
                    18.886447893711008,
                    18.53922200123331,
                    18.414707095678377,
                    18.274331246365882,
                    18.23392334519614,
                    18.040264494454526,
                    17.84806755810906,
                    17.554232899683452,
                    17.68332766382401
                  ]
                }
              ],
              "layout": {
                "annotations": [
                  {
                    "bordercolor": "black",
                    "showarrow": false,
                    "text": "RMSE: 6",
                    "x": "2020-03-01T00:00:00",
                    "xshift": 48,
                    "y": 0,
                    "yshift": 270
                  }
                ],
                "autosize": false,
                "font": {
                  "color": "RebeccaPurple",
                  "family": "Courier New, monospace",
                  "size": 14
                },
                "template": {
                  "data": {
                    "bar": [
                      {
                        "error_x": {
                          "color": "#2a3f5f"
                        },
                        "error_y": {
                          "color": "#2a3f5f"
                        },
                        "marker": {
                          "line": {
                            "color": "#E5ECF6",
                            "width": 0.5
                          },
                          "pattern": {
                            "fillmode": "overlay",
                            "size": 10,
                            "solidity": 0.2
                          }
                        },
                        "type": "bar"
                      }
                    ],
                    "barpolar": [
                      {
                        "marker": {
                          "line": {
                            "color": "#E5ECF6",
                            "width": 0.5
                          },
                          "pattern": {
                            "fillmode": "overlay",
                            "size": 10,
                            "solidity": 0.2
                          }
                        },
                        "type": "barpolar"
                      }
                    ],
                    "carpet": [
                      {
                        "aaxis": {
                          "endlinecolor": "#2a3f5f",
                          "gridcolor": "white",
                          "linecolor": "white",
                          "minorgridcolor": "white",
                          "startlinecolor": "#2a3f5f"
                        },
                        "baxis": {
                          "endlinecolor": "#2a3f5f",
                          "gridcolor": "white",
                          "linecolor": "white",
                          "minorgridcolor": "white",
                          "startlinecolor": "#2a3f5f"
                        },
                        "type": "carpet"
                      }
                    ],
                    "choropleth": [
                      {
                        "colorbar": {
                          "outlinewidth": 0,
                          "ticks": ""
                        },
                        "type": "choropleth"
                      }
                    ],
                    "contour": [
                      {
                        "colorbar": {
                          "outlinewidth": 0,
                          "ticks": ""
                        },
                        "colorscale": [
                          [
                            0,
                            "#0d0887"
                          ],
                          [
                            0.1111111111111111,
                            "#46039f"
                          ],
                          [
                            0.2222222222222222,
                            "#7201a8"
                          ],
                          [
                            0.3333333333333333,
                            "#9c179e"
                          ],
                          [
                            0.4444444444444444,
                            "#bd3786"
                          ],
                          [
                            0.5555555555555556,
                            "#d8576b"
                          ],
                          [
                            0.6666666666666666,
                            "#ed7953"
                          ],
                          [
                            0.7777777777777778,
                            "#fb9f3a"
                          ],
                          [
                            0.8888888888888888,
                            "#fdca26"
                          ],
                          [
                            1,
                            "#f0f921"
                          ]
                        ],
                        "type": "contour"
                      }
                    ],
                    "contourcarpet": [
                      {
                        "colorbar": {
                          "outlinewidth": 0,
                          "ticks": ""
                        },
                        "type": "contourcarpet"
                      }
                    ],
                    "heatmap": [
                      {
                        "colorbar": {
                          "outlinewidth": 0,
                          "ticks": ""
                        },
                        "colorscale": [
                          [
                            0,
                            "#0d0887"
                          ],
                          [
                            0.1111111111111111,
                            "#46039f"
                          ],
                          [
                            0.2222222222222222,
                            "#7201a8"
                          ],
                          [
                            0.3333333333333333,
                            "#9c179e"
                          ],
                          [
                            0.4444444444444444,
                            "#bd3786"
                          ],
                          [
                            0.5555555555555556,
                            "#d8576b"
                          ],
                          [
                            0.6666666666666666,
                            "#ed7953"
                          ],
                          [
                            0.7777777777777778,
                            "#fb9f3a"
                          ],
                          [
                            0.8888888888888888,
                            "#fdca26"
                          ],
                          [
                            1,
                            "#f0f921"
                          ]
                        ],
                        "type": "heatmap"
                      }
                    ],
                    "heatmapgl": [
                      {
                        "colorbar": {
                          "outlinewidth": 0,
                          "ticks": ""
                        },
                        "colorscale": [
                          [
                            0,
                            "#0d0887"
                          ],
                          [
                            0.1111111111111111,
                            "#46039f"
                          ],
                          [
                            0.2222222222222222,
                            "#7201a8"
                          ],
                          [
                            0.3333333333333333,
                            "#9c179e"
                          ],
                          [
                            0.4444444444444444,
                            "#bd3786"
                          ],
                          [
                            0.5555555555555556,
                            "#d8576b"
                          ],
                          [
                            0.6666666666666666,
                            "#ed7953"
                          ],
                          [
                            0.7777777777777778,
                            "#fb9f3a"
                          ],
                          [
                            0.8888888888888888,
                            "#fdca26"
                          ],
                          [
                            1,
                            "#f0f921"
                          ]
                        ],
                        "type": "heatmapgl"
                      }
                    ],
                    "histogram": [
                      {
                        "marker": {
                          "pattern": {
                            "fillmode": "overlay",
                            "size": 10,
                            "solidity": 0.2
                          }
                        },
                        "type": "histogram"
                      }
                    ],
                    "histogram2d": [
                      {
                        "colorbar": {
                          "outlinewidth": 0,
                          "ticks": ""
                        },
                        "colorscale": [
                          [
                            0,
                            "#0d0887"
                          ],
                          [
                            0.1111111111111111,
                            "#46039f"
                          ],
                          [
                            0.2222222222222222,
                            "#7201a8"
                          ],
                          [
                            0.3333333333333333,
                            "#9c179e"
                          ],
                          [
                            0.4444444444444444,
                            "#bd3786"
                          ],
                          [
                            0.5555555555555556,
                            "#d8576b"
                          ],
                          [
                            0.6666666666666666,
                            "#ed7953"
                          ],
                          [
                            0.7777777777777778,
                            "#fb9f3a"
                          ],
                          [
                            0.8888888888888888,
                            "#fdca26"
                          ],
                          [
                            1,
                            "#f0f921"
                          ]
                        ],
                        "type": "histogram2d"
                      }
                    ],
                    "histogram2dcontour": [
                      {
                        "colorbar": {
                          "outlinewidth": 0,
                          "ticks": ""
                        },
                        "colorscale": [
                          [
                            0,
                            "#0d0887"
                          ],
                          [
                            0.1111111111111111,
                            "#46039f"
                          ],
                          [
                            0.2222222222222222,
                            "#7201a8"
                          ],
                          [
                            0.3333333333333333,
                            "#9c179e"
                          ],
                          [
                            0.4444444444444444,
                            "#bd3786"
                          ],
                          [
                            0.5555555555555556,
                            "#d8576b"
                          ],
                          [
                            0.6666666666666666,
                            "#ed7953"
                          ],
                          [
                            0.7777777777777778,
                            "#fb9f3a"
                          ],
                          [
                            0.8888888888888888,
                            "#fdca26"
                          ],
                          [
                            1,
                            "#f0f921"
                          ]
                        ],
                        "type": "histogram2dcontour"
                      }
                    ],
                    "mesh3d": [
                      {
                        "colorbar": {
                          "outlinewidth": 0,
                          "ticks": ""
                        },
                        "type": "mesh3d"
                      }
                    ],
                    "parcoords": [
                      {
                        "line": {
                          "colorbar": {
                            "outlinewidth": 0,
                            "ticks": ""
                          }
                        },
                        "type": "parcoords"
                      }
                    ],
                    "pie": [
                      {
                        "automargin": true,
                        "type": "pie"
                      }
                    ],
                    "scatter": [
                      {
                        "marker": {
                          "colorbar": {
                            "outlinewidth": 0,
                            "ticks": ""
                          }
                        },
                        "type": "scatter"
                      }
                    ],
                    "scatter3d": [
                      {
                        "line": {
                          "colorbar": {
                            "outlinewidth": 0,
                            "ticks": ""
                          }
                        },
                        "marker": {
                          "colorbar": {
                            "outlinewidth": 0,
                            "ticks": ""
                          }
                        },
                        "type": "scatter3d"
                      }
                    ],
                    "scattercarpet": [
                      {
                        "marker": {
                          "colorbar": {
                            "outlinewidth": 0,
                            "ticks": ""
                          }
                        },
                        "type": "scattercarpet"
                      }
                    ],
                    "scattergeo": [
                      {
                        "marker": {
                          "colorbar": {
                            "outlinewidth": 0,
                            "ticks": ""
                          }
                        },
                        "type": "scattergeo"
                      }
                    ],
                    "scattergl": [
                      {
                        "marker": {
                          "colorbar": {
                            "outlinewidth": 0,
                            "ticks": ""
                          }
                        },
                        "type": "scattergl"
                      }
                    ],
                    "scattermapbox": [
                      {
                        "marker": {
                          "colorbar": {
                            "outlinewidth": 0,
                            "ticks": ""
                          }
                        },
                        "type": "scattermapbox"
                      }
                    ],
                    "scatterpolar": [
                      {
                        "marker": {
                          "colorbar": {
                            "outlinewidth": 0,
                            "ticks": ""
                          }
                        },
                        "type": "scatterpolar"
                      }
                    ],
                    "scatterpolargl": [
                      {
                        "marker": {
                          "colorbar": {
                            "outlinewidth": 0,
                            "ticks": ""
                          }
                        },
                        "type": "scatterpolargl"
                      }
                    ],
                    "scatterternary": [
                      {
                        "marker": {
                          "colorbar": {
                            "outlinewidth": 0,
                            "ticks": ""
                          }
                        },
                        "type": "scatterternary"
                      }
                    ],
                    "surface": [
                      {
                        "colorbar": {
                          "outlinewidth": 0,
                          "ticks": ""
                        },
                        "colorscale": [
                          [
                            0,
                            "#0d0887"
                          ],
                          [
                            0.1111111111111111,
                            "#46039f"
                          ],
                          [
                            0.2222222222222222,
                            "#7201a8"
                          ],
                          [
                            0.3333333333333333,
                            "#9c179e"
                          ],
                          [
                            0.4444444444444444,
                            "#bd3786"
                          ],
                          [
                            0.5555555555555556,
                            "#d8576b"
                          ],
                          [
                            0.6666666666666666,
                            "#ed7953"
                          ],
                          [
                            0.7777777777777778,
                            "#fb9f3a"
                          ],
                          [
                            0.8888888888888888,
                            "#fdca26"
                          ],
                          [
                            1,
                            "#f0f921"
                          ]
                        ],
                        "type": "surface"
                      }
                    ],
                    "table": [
                      {
                        "cells": {
                          "fill": {
                            "color": "#EBF0F8"
                          },
                          "line": {
                            "color": "white"
                          }
                        },
                        "header": {
                          "fill": {
                            "color": "#C8D4E3"
                          },
                          "line": {
                            "color": "white"
                          }
                        },
                        "type": "table"
                      }
                    ]
                  },
                  "layout": {
                    "annotationdefaults": {
                      "arrowcolor": "#2a3f5f",
                      "arrowhead": 0,
                      "arrowwidth": 1
                    },
                    "autotypenumbers": "strict",
                    "coloraxis": {
                      "colorbar": {
                        "outlinewidth": 0,
                        "ticks": ""
                      }
                    },
                    "colorscale": {
                      "diverging": [
                        [
                          0,
                          "#8e0152"
                        ],
                        [
                          0.1,
                          "#c51b7d"
                        ],
                        [
                          0.2,
                          "#de77ae"
                        ],
                        [
                          0.3,
                          "#f1b6da"
                        ],
                        [
                          0.4,
                          "#fde0ef"
                        ],
                        [
                          0.5,
                          "#f7f7f7"
                        ],
                        [
                          0.6,
                          "#e6f5d0"
                        ],
                        [
                          0.7,
                          "#b8e186"
                        ],
                        [
                          0.8,
                          "#7fbc41"
                        ],
                        [
                          0.9,
                          "#4d9221"
                        ],
                        [
                          1,
                          "#276419"
                        ]
                      ],
                      "sequential": [
                        [
                          0,
                          "#0d0887"
                        ],
                        [
                          0.1111111111111111,
                          "#46039f"
                        ],
                        [
                          0.2222222222222222,
                          "#7201a8"
                        ],
                        [
                          0.3333333333333333,
                          "#9c179e"
                        ],
                        [
                          0.4444444444444444,
                          "#bd3786"
                        ],
                        [
                          0.5555555555555556,
                          "#d8576b"
                        ],
                        [
                          0.6666666666666666,
                          "#ed7953"
                        ],
                        [
                          0.7777777777777778,
                          "#fb9f3a"
                        ],
                        [
                          0.8888888888888888,
                          "#fdca26"
                        ],
                        [
                          1,
                          "#f0f921"
                        ]
                      ],
                      "sequentialminus": [
                        [
                          0,
                          "#0d0887"
                        ],
                        [
                          0.1111111111111111,
                          "#46039f"
                        ],
                        [
                          0.2222222222222222,
                          "#7201a8"
                        ],
                        [
                          0.3333333333333333,
                          "#9c179e"
                        ],
                        [
                          0.4444444444444444,
                          "#bd3786"
                        ],
                        [
                          0.5555555555555556,
                          "#d8576b"
                        ],
                        [
                          0.6666666666666666,
                          "#ed7953"
                        ],
                        [
                          0.7777777777777778,
                          "#fb9f3a"
                        ],
                        [
                          0.8888888888888888,
                          "#fdca26"
                        ],
                        [
                          1,
                          "#f0f921"
                        ]
                      ]
                    },
                    "colorway": [
                      "#636efa",
                      "#EF553B",
                      "#00cc96",
                      "#ab63fa",
                      "#FFA15A",
                      "#19d3f3",
                      "#FF6692",
                      "#B6E880",
                      "#FF97FF",
                      "#FECB52"
                    ],
                    "font": {
                      "color": "#2a3f5f"
                    },
                    "geo": {
                      "bgcolor": "white",
                      "lakecolor": "white",
                      "landcolor": "#E5ECF6",
                      "showlakes": true,
                      "showland": true,
                      "subunitcolor": "white"
                    },
                    "hoverlabel": {
                      "align": "left"
                    },
                    "hovermode": "closest",
                    "mapbox": {
                      "style": "light"
                    },
                    "paper_bgcolor": "white",
                    "plot_bgcolor": "#E5ECF6",
                    "polar": {
                      "angularaxis": {
                        "gridcolor": "white",
                        "linecolor": "white",
                        "ticks": ""
                      },
                      "bgcolor": "#E5ECF6",
                      "radialaxis": {
                        "gridcolor": "white",
                        "linecolor": "white",
                        "ticks": ""
                      }
                    },
                    "scene": {
                      "xaxis": {
                        "backgroundcolor": "#E5ECF6",
                        "gridcolor": "white",
                        "gridwidth": 2,
                        "linecolor": "white",
                        "showbackground": true,
                        "ticks": "",
                        "zerolinecolor": "white"
                      },
                      "yaxis": {
                        "backgroundcolor": "#E5ECF6",
                        "gridcolor": "white",
                        "gridwidth": 2,
                        "linecolor": "white",
                        "showbackground": true,
                        "ticks": "",
                        "zerolinecolor": "white"
                      },
                      "zaxis": {
                        "backgroundcolor": "#E5ECF6",
                        "gridcolor": "white",
                        "gridwidth": 2,
                        "linecolor": "white",
                        "showbackground": true,
                        "ticks": "",
                        "zerolinecolor": "white"
                      }
                    },
                    "shapedefaults": {
                      "line": {
                        "color": "#2a3f5f"
                      }
                    },
                    "ternary": {
                      "aaxis": {
                        "gridcolor": "white",
                        "linecolor": "white",
                        "ticks": ""
                      },
                      "baxis": {
                        "gridcolor": "white",
                        "linecolor": "white",
                        "ticks": ""
                      },
                      "bgcolor": "#E5ECF6",
                      "caxis": {
                        "gridcolor": "white",
                        "linecolor": "white",
                        "ticks": ""
                      }
                    },
                    "title": {
                      "x": 0.05
                    },
                    "xaxis": {
                      "automargin": true,
                      "gridcolor": "white",
                      "linecolor": "white",
                      "ticks": "",
                      "title": {
                        "standoff": 15
                      },
                      "zerolinecolor": "white",
                      "zerolinewidth": 2
                    },
                    "yaxis": {
                      "automargin": true,
                      "gridcolor": "white",
                      "linecolor": "white",
                      "ticks": "",
                      "title": {
                        "standoff": 15
                      },
                      "zerolinecolor": "white",
                      "zerolinewidth": 2
                    }
                  }
                },
                "title": {
                  "text": "Västtrafik mobilitets baserad SIR modell"
                },
                "width": 1000,
                "xaxis": {
                  "range": [
                    "2020-03-01",
                    "2020-08-21T00:00:00"
                  ],
                  "title": {
                    "text": "Datum"
                  }
                },
                "yaxis": {
                  "title": {
                    "text": "Inskrivningar"
                  }
                }
              }
            }
          },
          "metadata": {},
          "output_type": "display_data"
        }
      ],
      "source": [
        "numBetas = 50 #number of betas used for normal dist for conf. intervalls\n",
        "numEpsilon = 500\n",
        "\n",
        "##################  Confidence intervall calculation\n",
        "confint = np.zeros([prediction_time,2]) #defines confidence intervall arrays\n",
        "\n",
        "\n",
        "# Generates an array of betas using normal dist.\n",
        "betas=np.random.multivariate_normal(popt,pcov,numBetas) \n",
        "values = np.zeros((prediction_time,numBetas))\n",
        "\n",
        "for beta in range(len(betas)): \n",
        "  values[:,beta] = (modelfunction(t,*betas[beta]))\n",
        "  \n",
        "for day in range(len(t)):\n",
        "  confint[day,0]=np.quantile(values[day,:],0.025)\n",
        "  confint[day,1]=np.quantile(values[day,:],0.975)\n",
        "  \n",
        "\n",
        "##################  Prediction intervall calculation\n",
        "#få med beta skattning i predictionsintervall, dvs generera beta och fel för varje dag \n",
        "\n",
        "std_residual = np.std(modelfunction(t_fittingdata,*popt)-dailyAdmissions[:fittingPoints], ddof=2) #calcuales standard deviation of residual between model and data\n",
        "predint = np.zeros([prediction_time,2])\n",
        "\n",
        "temp = []\n",
        "pred_matrix = np.zeros((prediction_time,(numBetas*numEpsilon)))\n",
        "for day in range(prediction_time): #loops trough model values each day a adds the error values generated from t-dist to each prediction \n",
        "  for beta in range(len(betas)):\n",
        "      temp =  np.add(modelfunction(t,*betas[beta])[day],tdist.rvs(prediction_time,0,std_residual,numEpsilon))\n",
        "      pred_matrix[day,(beta*numEpsilon):(beta*numEpsilon+numEpsilon)] = temp\n",
        "\n",
        "for day in range(prediction_time): #calculates the prediction intervals\n",
        "    predint[day,0] = np.quantile(pred_matrix[day],0.025)\n",
        "    predint[day,1] = np.quantile(pred_matrix[day],0.975)\n",
        "    \n",
        "predint = np.clip(predint,0,None) #removes all negative values from lover prediction interval\n",
        "\n",
        "fig = go.Figure() #Creates a plot using graph objects and then adds each graph to figure\n",
        "fig.add_trace(go.Scatter( #plots the fitting admission data points\n",
        "                    x=pd.Series(pd.date_range(\"2020-03-01\", freq=\"D\", periods=fittingPoints)), \n",
        "                    y=dailyAdmissions,\n",
        "                    mode='markers',\n",
        "                    name='Inskrivningsdata'))\n",
        "fig.add_trace(go.Scatter( #plots all the available admission data points\n",
        "                    x=pd.Series(pd.date_range(pd.to_datetime('2020-03-01')+timedelta(days=fittingPoints), freq=\"D\", periods=prediction_time-fittingPoints)),\n",
        "                    y=dailyAdmissions[fittingPoints:],\n",
        "                    mode='markers',\n",
        "                    marker=dict(\n",
        "                        color='firebrick',\n",
        "                    ),\n",
        "                    name='Admission data'))\n",
        "fig.add_trace(go.Scatter(\n",
        "                    x=pd.Series(pd.date_range(\"2020-03-01\", freq=\"D\", periods=prediction_time)), \n",
        "                    y=modelfunction(t,*popt),\n",
        "                    mode='lines',\n",
        "                    name='predikterade inskrivningar'))\n",
        "fig.add_trace(go.Scatter(\n",
        "                    x=pd.Series(pd.date_range(\"2020-03-01\", freq=\"D\", periods=prediction_time)), \n",
        "                    y=confint[:,0],\n",
        "                    mode='lines',\n",
        "                    name='Undre konfidensintervall',\n",
        "                    line = dict( width=2, dash='dash')))\n",
        "fig.add_trace(go.Scatter(\n",
        "                    x=pd.Series(pd.date_range(\"2020-03-01\", freq=\"D\", periods=prediction_time)), \n",
        "                    y=confint[:,1],\n",
        "                    mode='lines',\n",
        "                    name='Övre konfidensintervall',\n",
        "                    line = dict(width=2, dash='dash')))\n",
        "fig.add_trace(go.Scatter(\n",
        "                    x=pd.Series(pd.date_range(\"2020-03-01\", freq=\"D\", periods=prediction_time)), \n",
        "                    y=predint[:,0],\n",
        "                    mode='lines',\n",
        "                    name='Undre prediktionsintervall',\n",
        "                    line = dict(width=2, dash='dot')))\n",
        "fig.add_trace(go.Scatter(\n",
        "                    x=pd.Series(pd.date_range(\"2020-03-01\", freq=\"D\", periods=prediction_time)), \n",
        "                    y=predint[:,1],\n",
        "                    mode='lines',\n",
        "                    name='Övre prediktionsintervall',\n",
        "                    line = dict(width=2, dash='dot')))\n",
        "fig.add_annotation(x=pd.to_datetime(\"2020-03-01\"),y=0, \n",
        "                   text=f\"RMSE: {math.floor(mean_squared_error(dailyAdmissions[:prediction_time],modelfunction(t,*popt), squared = False))}\",\n",
        "                   showarrow=False,\n",
        "                   bordercolor=\"black\",\n",
        "                   xshift=48,\n",
        "                   yshift=270\n",
        "                  )\n",
        "fig.update_layout(\n",
        "                    title='Västtrafik mobilitets baserad SIR modell',\n",
        "                    xaxis_title='Datum',\n",
        "                    yaxis_title='Inskrivningar',\n",
        "                    autosize=False,\n",
        "                    width=1000,\n",
        "                    xaxis_range=[\"2020-03-01\",pd.to_datetime('2020-03-01')+timedelta(days=prediction_time)],\n",
        "                    \n",
        "                    font=dict(\n",
        "                      family=\"Courier New, monospace\",\n",
        "                      size=14,\n",
        "                      color=\"RebeccaPurple\"\n",
        "                    )\n",
        ")\n",
        "fig.show()"
      ]
    },
    {
      "cell_type": "markdown",
      "metadata": {},
      "source": [
        "Cell calcualtes the cumulative admissions and confidens/prediktion intervalls"
      ]
    },
    {
      "cell_type": "code",
      "execution_count": 7,
      "metadata": {},
      "outputs": [
        {
          "data": {
            "application/vnd.plotly.v1+json": {
              "config": {
                "plotlyServerURL": "https://plot.ly"
              },
              "data": [
                {
                  "mode": "markers",
                  "name": "Inskrivningsdata",
                  "type": "scatter",
                  "x": [
                    "2020-03-01T00:00:00",
                    "2020-03-02T00:00:00",
                    "2020-03-03T00:00:00",
                    "2020-03-04T00:00:00",
                    "2020-03-05T00:00:00",
                    "2020-03-06T00:00:00",
                    "2020-03-07T00:00:00",
                    "2020-03-08T00:00:00",
                    "2020-03-09T00:00:00",
                    "2020-03-10T00:00:00",
                    "2020-03-11T00:00:00",
                    "2020-03-12T00:00:00",
                    "2020-03-13T00:00:00",
                    "2020-03-14T00:00:00",
                    "2020-03-15T00:00:00",
                    "2020-03-16T00:00:00",
                    "2020-03-17T00:00:00",
                    "2020-03-18T00:00:00",
                    "2020-03-19T00:00:00",
                    "2020-03-20T00:00:00",
                    "2020-03-21T00:00:00",
                    "2020-03-22T00:00:00",
                    "2020-03-23T00:00:00",
                    "2020-03-24T00:00:00",
                    "2020-03-25T00:00:00",
                    "2020-03-26T00:00:00",
                    "2020-03-27T00:00:00",
                    "2020-03-28T00:00:00",
                    "2020-03-29T00:00:00",
                    "2020-03-30T00:00:00",
                    "2020-03-31T00:00:00",
                    "2020-04-01T00:00:00",
                    "2020-04-02T00:00:00",
                    "2020-04-03T00:00:00",
                    "2020-04-04T00:00:00",
                    "2020-04-05T00:00:00",
                    "2020-04-06T00:00:00",
                    "2020-04-07T00:00:00",
                    "2020-04-08T00:00:00",
                    "2020-04-09T00:00:00",
                    "2020-04-10T00:00:00",
                    "2020-04-11T00:00:00",
                    "2020-04-12T00:00:00",
                    "2020-04-13T00:00:00",
                    "2020-04-14T00:00:00",
                    "2020-04-15T00:00:00",
                    "2020-04-16T00:00:00",
                    "2020-04-17T00:00:00",
                    "2020-04-18T00:00:00",
                    "2020-04-19T00:00:00",
                    "2020-04-20T00:00:00",
                    "2020-04-21T00:00:00",
                    "2020-04-22T00:00:00",
                    "2020-04-23T00:00:00",
                    "2020-04-24T00:00:00",
                    "2020-04-25T00:00:00",
                    "2020-04-26T00:00:00",
                    "2020-04-27T00:00:00",
                    "2020-04-28T00:00:00",
                    "2020-04-29T00:00:00",
                    "2020-04-30T00:00:00",
                    "2020-05-01T00:00:00",
                    "2020-05-02T00:00:00",
                    "2020-05-03T00:00:00",
                    "2020-05-04T00:00:00",
                    "2020-05-05T00:00:00",
                    "2020-05-06T00:00:00",
                    "2020-05-07T00:00:00",
                    "2020-05-08T00:00:00",
                    "2020-05-09T00:00:00",
                    "2020-05-10T00:00:00",
                    "2020-05-11T00:00:00",
                    "2020-05-12T00:00:00",
                    "2020-05-13T00:00:00",
                    "2020-05-14T00:00:00",
                    "2020-05-15T00:00:00",
                    "2020-05-16T00:00:00",
                    "2020-05-17T00:00:00",
                    "2020-05-18T00:00:00",
                    "2020-05-19T00:00:00",
                    "2020-05-20T00:00:00",
                    "2020-05-21T00:00:00",
                    "2020-05-22T00:00:00",
                    "2020-05-23T00:00:00",
                    "2020-05-24T00:00:00",
                    "2020-05-25T00:00:00",
                    "2020-05-26T00:00:00",
                    "2020-05-27T00:00:00",
                    "2020-05-28T00:00:00",
                    "2020-05-29T00:00:00",
                    "2020-05-30T00:00:00",
                    "2020-05-31T00:00:00",
                    "2020-06-01T00:00:00",
                    "2020-06-02T00:00:00",
                    "2020-06-03T00:00:00",
                    "2020-06-04T00:00:00",
                    "2020-06-05T00:00:00",
                    "2020-06-06T00:00:00",
                    "2020-06-07T00:00:00",
                    "2020-06-08T00:00:00",
                    "2020-06-09T00:00:00",
                    "2020-06-10T00:00:00",
                    "2020-06-11T00:00:00",
                    "2020-06-12T00:00:00",
                    "2020-06-13T00:00:00",
                    "2020-06-14T00:00:00",
                    "2020-06-15T00:00:00",
                    "2020-06-16T00:00:00",
                    "2020-06-17T00:00:00",
                    "2020-06-18T00:00:00",
                    "2020-06-19T00:00:00",
                    "2020-06-20T00:00:00",
                    "2020-06-21T00:00:00",
                    "2020-06-22T00:00:00",
                    "2020-06-23T00:00:00",
                    "2020-06-24T00:00:00",
                    "2020-06-25T00:00:00",
                    "2020-06-26T00:00:00",
                    "2020-06-27T00:00:00",
                    "2020-06-28T00:00:00",
                    "2020-06-29T00:00:00",
                    "2020-06-30T00:00:00",
                    "2020-07-01T00:00:00",
                    "2020-07-02T00:00:00",
                    "2020-07-03T00:00:00",
                    "2020-07-04T00:00:00",
                    "2020-07-05T00:00:00",
                    "2020-07-06T00:00:00",
                    "2020-07-07T00:00:00",
                    "2020-07-08T00:00:00",
                    "2020-07-09T00:00:00",
                    "2020-07-10T00:00:00",
                    "2020-07-11T00:00:00",
                    "2020-07-12T00:00:00",
                    "2020-07-13T00:00:00",
                    "2020-07-14T00:00:00",
                    "2020-07-15T00:00:00",
                    "2020-07-16T00:00:00",
                    "2020-07-17T00:00:00",
                    "2020-07-18T00:00:00",
                    "2020-07-19T00:00:00",
                    "2020-07-20T00:00:00",
                    "2020-07-21T00:00:00",
                    "2020-07-22T00:00:00",
                    "2020-07-23T00:00:00",
                    "2020-07-24T00:00:00",
                    "2020-07-25T00:00:00",
                    "2020-07-26T00:00:00",
                    "2020-07-27T00:00:00",
                    "2020-07-28T00:00:00",
                    "2020-07-29T00:00:00",
                    "2020-07-30T00:00:00",
                    "2020-07-31T00:00:00",
                    "2020-08-01T00:00:00",
                    "2020-08-02T00:00:00",
                    "2020-08-03T00:00:00",
                    "2020-08-04T00:00:00",
                    "2020-08-05T00:00:00",
                    "2020-08-06T00:00:00",
                    "2020-08-07T00:00:00",
                    "2020-08-08T00:00:00",
                    "2020-08-09T00:00:00",
                    "2020-08-10T00:00:00",
                    "2020-08-11T00:00:00",
                    "2020-08-12T00:00:00",
                    "2020-08-13T00:00:00",
                    "2020-08-14T00:00:00",
                    "2020-08-15T00:00:00",
                    "2020-08-16T00:00:00",
                    "2020-08-17T00:00:00",
                    "2020-08-18T00:00:00",
                    "2020-08-19T00:00:00",
                    "2020-08-20T00:00:00"
                  ],
                  "y": [
                    0,
                    0,
                    0,
                    0,
                    0,
                    0,
                    0,
                    0,
                    0,
                    0,
                    0,
                    0,
                    0,
                    0,
                    0,
                    0,
                    0,
                    0,
                    0,
                    0,
                    0,
                    1,
                    1,
                    1,
                    1,
                    4,
                    5,
                    6,
                    7,
                    8,
                    9,
                    12,
                    16,
                    17,
                    18,
                    24,
                    28,
                    33,
                    43,
                    47,
                    49,
                    50,
                    55,
                    64,
                    72,
                    78,
                    87,
                    94,
                    101,
                    111,
                    120,
                    135,
                    144,
                    151,
                    161,
                    176,
                    190,
                    211,
                    228,
                    253,
                    268,
                    284,
                    299,
                    309,
                    324,
                    340,
                    360,
                    383,
                    397,
                    413,
                    447,
                    465,
                    483,
                    509,
                    531,
                    556,
                    574,
                    596,
                    620,
                    638,
                    659,
                    679,
                    697,
                    709,
                    727,
                    753,
                    772,
                    791,
                    805,
                    821,
                    828,
                    839,
                    847,
                    863,
                    875,
                    889,
                    897,
                    902,
                    915,
                    929,
                    942,
                    956,
                    972,
                    980,
                    988,
                    1002,
                    1015,
                    1032,
                    1046,
                    1062,
                    1080,
                    1086,
                    1102,
                    1119,
                    1127,
                    1138,
                    1148,
                    1155,
                    1164,
                    1177,
                    1190,
                    1199,
                    1212,
                    1229,
                    1236,
                    1245,
                    1256,
                    1270,
                    1284,
                    1295,
                    1303,
                    1316,
                    1327,
                    1329,
                    1338,
                    1350,
                    1358,
                    1366,
                    1369,
                    1378,
                    1385,
                    1399,
                    1406,
                    1414,
                    1421,
                    1425,
                    1429,
                    1437,
                    1441,
                    1446,
                    1451,
                    1457,
                    1457,
                    1462,
                    1467,
                    1472,
                    1476,
                    1480,
                    1483,
                    1484,
                    1486,
                    1489,
                    1492,
                    1495,
                    1500,
                    1502,
                    1504,
                    1505,
                    1506,
                    1511,
                    1514,
                    1515,
                    1516
                  ]
                },
                {
                  "marker": {
                    "color": "firebrick"
                  },
                  "mode": "markers",
                  "name": "Admission data",
                  "type": "scatter",
                  "x": [],
                  "y": []
                },
                {
                  "mode": "lines",
                  "name": "predikterade kumulativa inskrivningar",
                  "type": "scatter",
                  "x": [
                    "2020-03-01T00:00:00",
                    "2020-03-02T00:00:00",
                    "2020-03-03T00:00:00",
                    "2020-03-04T00:00:00",
                    "2020-03-05T00:00:00",
                    "2020-03-06T00:00:00",
                    "2020-03-07T00:00:00",
                    "2020-03-08T00:00:00",
                    "2020-03-09T00:00:00",
                    "2020-03-10T00:00:00",
                    "2020-03-11T00:00:00",
                    "2020-03-12T00:00:00",
                    "2020-03-13T00:00:00",
                    "2020-03-14T00:00:00",
                    "2020-03-15T00:00:00",
                    "2020-03-16T00:00:00",
                    "2020-03-17T00:00:00",
                    "2020-03-18T00:00:00",
                    "2020-03-19T00:00:00",
                    "2020-03-20T00:00:00",
                    "2020-03-21T00:00:00",
                    "2020-03-22T00:00:00",
                    "2020-03-23T00:00:00",
                    "2020-03-24T00:00:00",
                    "2020-03-25T00:00:00",
                    "2020-03-26T00:00:00",
                    "2020-03-27T00:00:00",
                    "2020-03-28T00:00:00",
                    "2020-03-29T00:00:00",
                    "2020-03-30T00:00:00",
                    "2020-03-31T00:00:00",
                    "2020-04-01T00:00:00",
                    "2020-04-02T00:00:00",
                    "2020-04-03T00:00:00",
                    "2020-04-04T00:00:00",
                    "2020-04-05T00:00:00",
                    "2020-04-06T00:00:00",
                    "2020-04-07T00:00:00",
                    "2020-04-08T00:00:00",
                    "2020-04-09T00:00:00",
                    "2020-04-10T00:00:00",
                    "2020-04-11T00:00:00",
                    "2020-04-12T00:00:00",
                    "2020-04-13T00:00:00",
                    "2020-04-14T00:00:00",
                    "2020-04-15T00:00:00",
                    "2020-04-16T00:00:00",
                    "2020-04-17T00:00:00",
                    "2020-04-18T00:00:00",
                    "2020-04-19T00:00:00",
                    "2020-04-20T00:00:00",
                    "2020-04-21T00:00:00",
                    "2020-04-22T00:00:00",
                    "2020-04-23T00:00:00",
                    "2020-04-24T00:00:00",
                    "2020-04-25T00:00:00",
                    "2020-04-26T00:00:00",
                    "2020-04-27T00:00:00",
                    "2020-04-28T00:00:00",
                    "2020-04-29T00:00:00",
                    "2020-04-30T00:00:00",
                    "2020-05-01T00:00:00",
                    "2020-05-02T00:00:00",
                    "2020-05-03T00:00:00",
                    "2020-05-04T00:00:00",
                    "2020-05-05T00:00:00",
                    "2020-05-06T00:00:00",
                    "2020-05-07T00:00:00",
                    "2020-05-08T00:00:00",
                    "2020-05-09T00:00:00",
                    "2020-05-10T00:00:00",
                    "2020-05-11T00:00:00",
                    "2020-05-12T00:00:00",
                    "2020-05-13T00:00:00",
                    "2020-05-14T00:00:00",
                    "2020-05-15T00:00:00",
                    "2020-05-16T00:00:00",
                    "2020-05-17T00:00:00",
                    "2020-05-18T00:00:00",
                    "2020-05-19T00:00:00",
                    "2020-05-20T00:00:00",
                    "2020-05-21T00:00:00",
                    "2020-05-22T00:00:00",
                    "2020-05-23T00:00:00",
                    "2020-05-24T00:00:00",
                    "2020-05-25T00:00:00",
                    "2020-05-26T00:00:00",
                    "2020-05-27T00:00:00",
                    "2020-05-28T00:00:00",
                    "2020-05-29T00:00:00",
                    "2020-05-30T00:00:00",
                    "2020-05-31T00:00:00",
                    "2020-06-01T00:00:00",
                    "2020-06-02T00:00:00",
                    "2020-06-03T00:00:00",
                    "2020-06-04T00:00:00",
                    "2020-06-05T00:00:00",
                    "2020-06-06T00:00:00",
                    "2020-06-07T00:00:00",
                    "2020-06-08T00:00:00",
                    "2020-06-09T00:00:00",
                    "2020-06-10T00:00:00",
                    "2020-06-11T00:00:00",
                    "2020-06-12T00:00:00",
                    "2020-06-13T00:00:00",
                    "2020-06-14T00:00:00",
                    "2020-06-15T00:00:00",
                    "2020-06-16T00:00:00",
                    "2020-06-17T00:00:00",
                    "2020-06-18T00:00:00",
                    "2020-06-19T00:00:00",
                    "2020-06-20T00:00:00",
                    "2020-06-21T00:00:00",
                    "2020-06-22T00:00:00",
                    "2020-06-23T00:00:00",
                    "2020-06-24T00:00:00",
                    "2020-06-25T00:00:00",
                    "2020-06-26T00:00:00",
                    "2020-06-27T00:00:00",
                    "2020-06-28T00:00:00",
                    "2020-06-29T00:00:00",
                    "2020-06-30T00:00:00",
                    "2020-07-01T00:00:00",
                    "2020-07-02T00:00:00",
                    "2020-07-03T00:00:00",
                    "2020-07-04T00:00:00",
                    "2020-07-05T00:00:00",
                    "2020-07-06T00:00:00",
                    "2020-07-07T00:00:00",
                    "2020-07-08T00:00:00",
                    "2020-07-09T00:00:00",
                    "2020-07-10T00:00:00",
                    "2020-07-11T00:00:00",
                    "2020-07-12T00:00:00",
                    "2020-07-13T00:00:00",
                    "2020-07-14T00:00:00",
                    "2020-07-15T00:00:00",
                    "2020-07-16T00:00:00",
                    "2020-07-17T00:00:00",
                    "2020-07-18T00:00:00",
                    "2020-07-19T00:00:00",
                    "2020-07-20T00:00:00",
                    "2020-07-21T00:00:00",
                    "2020-07-22T00:00:00",
                    "2020-07-23T00:00:00",
                    "2020-07-24T00:00:00",
                    "2020-07-25T00:00:00",
                    "2020-07-26T00:00:00",
                    "2020-07-27T00:00:00",
                    "2020-07-28T00:00:00",
                    "2020-07-29T00:00:00",
                    "2020-07-30T00:00:00",
                    "2020-07-31T00:00:00",
                    "2020-08-01T00:00:00",
                    "2020-08-02T00:00:00",
                    "2020-08-03T00:00:00",
                    "2020-08-04T00:00:00",
                    "2020-08-05T00:00:00",
                    "2020-08-06T00:00:00",
                    "2020-08-07T00:00:00",
                    "2020-08-08T00:00:00",
                    "2020-08-09T00:00:00",
                    "2020-08-10T00:00:00",
                    "2020-08-11T00:00:00",
                    "2020-08-12T00:00:00",
                    "2020-08-13T00:00:00",
                    "2020-08-14T00:00:00",
                    "2020-08-15T00:00:00",
                    "2020-08-16T00:00:00",
                    "2020-08-17T00:00:00",
                    "2020-08-18T00:00:00",
                    "2020-08-19T00:00:00",
                    "2020-08-20T00:00:00"
                  ],
                  "y": [
                    0.013,
                    0.029199565709519662,
                    0.04934143392289199,
                    0.07432948908905167,
                    0.10526102252156345,
                    0.14346483344346564,
                    0.19054609748279389,
                    0.24843904557921354,
                    0.3194686281897843,
                    0.4064224768943062,
                    0.5126346254651455,
                    0.6420826066639823,
                    0.7994997079124619,
                    0.9905043358189343,
                    1.2217486124132597,
                    1.5010884974994467,
                    1.8377778996222491,
                    2.242689397562991,
                    2.7285643393502337,
                    3.3102952111145707,
                    4.0052432643971265,
                    4.833594449669143,
                    5.8187567159533335,
                    6.987801689080723,
                    8.371953621461596,
                    10.007128300842137,
                    11.934524296063401,
                    14.201268487838274,
                    16.861117268134542,
                    19.970980595618567,
                    23.588931338898117,
                    27.77704864993022,
                    32.6010515080171,
                    38.12979394498753,
                    44.43461365047084,
                    51.58852948395288,
                    59.63000880634456,
                    68.54554469983809,
                    78.29498201489267,
                    88.81058565658947,
                    99.997598433385,
                    111.73637147530492,
                    123.88602499613205,
                    136.35064411476276,
                    149.0888145084501,
                    162.0560953827367,
                    175.20548574894525,
                    188.4879393247103,
                    201.85291675642492,
                    215.24896633652554,
                    228.63940615526258,
                    242.0026839946982,
                    255.3173988585539,
                    268.56240433701487,
                    281.71690982049375,
                    294.7605785940511,
                    307.6736220548303,
                    320.42126293343904,
                    332.95477330021004,
                    345.22800717183844,
                    357.19790299528415,
                    368.82492448653136,
                    380.07343390111095,
                    390.91199149784103,
                    401.34374074641335,
                    411.40170408149226,
                    421.11642361016044,
                    430.5162064812406,
                    439.6273465942904,
                    448.4743250681082,
                    457.07999219922976,
                    465.47158812584104,
                    473.6803552527263,
                    481.7357026774821,
                    489.6655193279806,
                    497.4964625770019,
                    505.25422626932703,
                    512.9637934780098,
                    520.631133959318,
                    528.243712587139,
                    535.7892743175757,
                    543.2559032649951,
                    550.6320788981335,
                    557.9067288912631,
                    565.0692783669323,
                    572.1233689045627,
                    579.0860250895425,
                    585.9736446161146,
                    592.8021133768591,
                    599.5869151829964,
                    606.3432368921483,
                    613.0860700772063,
                    619.8242794966444,
                    626.5606795418521,
                    633.2980810784735,
                    640.039294866993,
                    646.7871349905469,
                    653.5444222907631,
                    660.3139877776588,
                    667.0894189038188,
                    673.8550471138086,
                    680.5952788718303,
                    687.2947038299683,
                    693.938200645878,
                    700.5110392644934,
                    706.9989788939658,
                    713.4116946106296,
                    719.7817240905265,
                    726.1409514692892,
                    732.5210857412787,
                    738.9541346545442,
                    745.4728855112303,
                    752.1114044515588,
                    758.8872461270923,
                    765.800256227434,
                    772.8501535704523,
                    780.0365277241525,
                    787.3588368335417,
                    794.8164057186929,
                    802.4084242333457,
                    810.1429348299812,
                    818.0375041460944,
                    826.1106577647082,
                    834.382004507344,
                    842.8723719215475,
                    851.6039534165496,
                    860.6004693569147,
                    869.8472781440511,
                    879.2871987969602,
                    888.8592567294954,
                    898.4998666519703,
                    908.1441005384711,
                    917.7269986615282,
                    927.1848806985171,
                    936.5015477926313,
                    945.7059818318706,
                    954.8261505377809,
                    963.8892619546425,
                    972.9220074927434,
                    981.9507971072807,
                    991.001990207178,
                    1000.0819715172248,
                    1009.176998711416,
                    1018.2732687158546,
                    1027.356981042525,
                    1036.414401054108,
                    1045.4319226122607,
                    1054.396129621708,
                    1063.2938561960552,
                    1072.11224446188,
                    1080.83880028955,
                    1089.4614460522628,
                    1097.9685702265833,
                    1106.349073566942,
                    1114.5924112559742,
                    1122.6886310533944,
                    1130.6284072408723,
                    1138.403070174562,
                    1146.0046311430167,
                    1153.4258026013813,
                    1160.6600137161508,
                    1167.7014212001238,
                    1174.5516373377593,
                    1181.2189716036273,
                    1187.7113455773892,
                    1194.036313851569,
                    1200.20108368703,
                    1206.2125336188067,
                    1212.077230998808,
                    1217.802852540374,
                    1223.3980691147863,
                    1228.8711070998556,
                    1234.2297814657077
                  ]
                },
                {
                  "line": {
                    "dash": "dash",
                    "width": 2
                  },
                  "mode": "lines",
                  "name": "Undre konfidensintervall",
                  "type": "scatter",
                  "x": [
                    "2020-03-01T00:00:00",
                    "2020-03-02T00:00:00",
                    "2020-03-03T00:00:00",
                    "2020-03-04T00:00:00",
                    "2020-03-05T00:00:00",
                    "2020-03-06T00:00:00",
                    "2020-03-07T00:00:00",
                    "2020-03-08T00:00:00",
                    "2020-03-09T00:00:00",
                    "2020-03-10T00:00:00",
                    "2020-03-11T00:00:00",
                    "2020-03-12T00:00:00",
                    "2020-03-13T00:00:00",
                    "2020-03-14T00:00:00",
                    "2020-03-15T00:00:00",
                    "2020-03-16T00:00:00",
                    "2020-03-17T00:00:00",
                    "2020-03-18T00:00:00",
                    "2020-03-19T00:00:00",
                    "2020-03-20T00:00:00",
                    "2020-03-21T00:00:00",
                    "2020-03-22T00:00:00",
                    "2020-03-23T00:00:00",
                    "2020-03-24T00:00:00",
                    "2020-03-25T00:00:00",
                    "2020-03-26T00:00:00",
                    "2020-03-27T00:00:00",
                    "2020-03-28T00:00:00",
                    "2020-03-29T00:00:00",
                    "2020-03-30T00:00:00",
                    "2020-03-31T00:00:00",
                    "2020-04-01T00:00:00",
                    "2020-04-02T00:00:00",
                    "2020-04-03T00:00:00",
                    "2020-04-04T00:00:00",
                    "2020-04-05T00:00:00",
                    "2020-04-06T00:00:00",
                    "2020-04-07T00:00:00",
                    "2020-04-08T00:00:00",
                    "2020-04-09T00:00:00",
                    "2020-04-10T00:00:00",
                    "2020-04-11T00:00:00",
                    "2020-04-12T00:00:00",
                    "2020-04-13T00:00:00",
                    "2020-04-14T00:00:00",
                    "2020-04-15T00:00:00",
                    "2020-04-16T00:00:00",
                    "2020-04-17T00:00:00",
                    "2020-04-18T00:00:00",
                    "2020-04-19T00:00:00",
                    "2020-04-20T00:00:00",
                    "2020-04-21T00:00:00",
                    "2020-04-22T00:00:00",
                    "2020-04-23T00:00:00",
                    "2020-04-24T00:00:00",
                    "2020-04-25T00:00:00",
                    "2020-04-26T00:00:00",
                    "2020-04-27T00:00:00",
                    "2020-04-28T00:00:00",
                    "2020-04-29T00:00:00",
                    "2020-04-30T00:00:00",
                    "2020-05-01T00:00:00",
                    "2020-05-02T00:00:00",
                    "2020-05-03T00:00:00",
                    "2020-05-04T00:00:00",
                    "2020-05-05T00:00:00",
                    "2020-05-06T00:00:00",
                    "2020-05-07T00:00:00",
                    "2020-05-08T00:00:00",
                    "2020-05-09T00:00:00",
                    "2020-05-10T00:00:00",
                    "2020-05-11T00:00:00",
                    "2020-05-12T00:00:00",
                    "2020-05-13T00:00:00",
                    "2020-05-14T00:00:00",
                    "2020-05-15T00:00:00",
                    "2020-05-16T00:00:00",
                    "2020-05-17T00:00:00",
                    "2020-05-18T00:00:00",
                    "2020-05-19T00:00:00",
                    "2020-05-20T00:00:00",
                    "2020-05-21T00:00:00",
                    "2020-05-22T00:00:00",
                    "2020-05-23T00:00:00",
                    "2020-05-24T00:00:00",
                    "2020-05-25T00:00:00",
                    "2020-05-26T00:00:00",
                    "2020-05-27T00:00:00",
                    "2020-05-28T00:00:00",
                    "2020-05-29T00:00:00",
                    "2020-05-30T00:00:00",
                    "2020-05-31T00:00:00",
                    "2020-06-01T00:00:00",
                    "2020-06-02T00:00:00",
                    "2020-06-03T00:00:00",
                    "2020-06-04T00:00:00",
                    "2020-06-05T00:00:00",
                    "2020-06-06T00:00:00",
                    "2020-06-07T00:00:00",
                    "2020-06-08T00:00:00",
                    "2020-06-09T00:00:00",
                    "2020-06-10T00:00:00",
                    "2020-06-11T00:00:00",
                    "2020-06-12T00:00:00",
                    "2020-06-13T00:00:00",
                    "2020-06-14T00:00:00",
                    "2020-06-15T00:00:00",
                    "2020-06-16T00:00:00",
                    "2020-06-17T00:00:00",
                    "2020-06-18T00:00:00",
                    "2020-06-19T00:00:00",
                    "2020-06-20T00:00:00",
                    "2020-06-21T00:00:00",
                    "2020-06-22T00:00:00",
                    "2020-06-23T00:00:00",
                    "2020-06-24T00:00:00",
                    "2020-06-25T00:00:00",
                    "2020-06-26T00:00:00",
                    "2020-06-27T00:00:00",
                    "2020-06-28T00:00:00",
                    "2020-06-29T00:00:00",
                    "2020-06-30T00:00:00",
                    "2020-07-01T00:00:00",
                    "2020-07-02T00:00:00",
                    "2020-07-03T00:00:00",
                    "2020-07-04T00:00:00",
                    "2020-07-05T00:00:00",
                    "2020-07-06T00:00:00",
                    "2020-07-07T00:00:00",
                    "2020-07-08T00:00:00",
                    "2020-07-09T00:00:00",
                    "2020-07-10T00:00:00",
                    "2020-07-11T00:00:00",
                    "2020-07-12T00:00:00",
                    "2020-07-13T00:00:00",
                    "2020-07-14T00:00:00",
                    "2020-07-15T00:00:00",
                    "2020-07-16T00:00:00",
                    "2020-07-17T00:00:00",
                    "2020-07-18T00:00:00",
                    "2020-07-19T00:00:00",
                    "2020-07-20T00:00:00",
                    "2020-07-21T00:00:00",
                    "2020-07-22T00:00:00",
                    "2020-07-23T00:00:00",
                    "2020-07-24T00:00:00",
                    "2020-07-25T00:00:00",
                    "2020-07-26T00:00:00",
                    "2020-07-27T00:00:00",
                    "2020-07-28T00:00:00",
                    "2020-07-29T00:00:00",
                    "2020-07-30T00:00:00",
                    "2020-07-31T00:00:00",
                    "2020-08-01T00:00:00",
                    "2020-08-02T00:00:00",
                    "2020-08-03T00:00:00",
                    "2020-08-04T00:00:00",
                    "2020-08-05T00:00:00",
                    "2020-08-06T00:00:00",
                    "2020-08-07T00:00:00",
                    "2020-08-08T00:00:00",
                    "2020-08-09T00:00:00",
                    "2020-08-10T00:00:00",
                    "2020-08-11T00:00:00",
                    "2020-08-12T00:00:00",
                    "2020-08-13T00:00:00",
                    "2020-08-14T00:00:00",
                    "2020-08-15T00:00:00",
                    "2020-08-16T00:00:00",
                    "2020-08-17T00:00:00",
                    "2020-08-18T00:00:00",
                    "2020-08-19T00:00:00",
                    "2020-08-20T00:00:00"
                  ],
                  "y": [
                    0.013,
                    0.029140727048383174,
                    0.049137507595358884,
                    0.07385783866743018,
                    0.10435122554997688,
                    0.14188430316043069,
                    0.18798205803354087,
                    0.24447606667096464,
                    0.3135607793148279,
                    0.39785899338498276,
                    0.5004977878363194,
                    0.6251963177230139,
                    0.7763670080843502,
                    0.9592318237763443,
                    1.1799554340342444,
                    1.4457972304815745,
                    1.7652842928489758,
                    2.1484075241748424,
                    2.606843291316503,
                    3.1542030026875865,
                    3.806313126095886,
                    4.581528188352747,
                    5.501079296702476,
                    6.589460670703743,
                    7.874856561355537,
                    9.38961074944631,
                    11.17074054909971,
                    13.260496871905223,
                    15.706971408728512,
                    18.560950376593485,
                    21.87413704822831,
                    25.70171628778572,
                    30.102029184341394,
                    35.136129093365646,
                    40.86721228428145,
                    47.35991946213724,
                    54.6482224923475,
                    62.72016006828507,
                    71.54041183065496,
                    81.04947399457411,
                    91.16411011549076,
                    101.77915079452364,
                    112.77060982123395,
                    124.05418303903869,
                    135.59373161892927,
                    147.35035520005889,
                    159.28278546413836,
                    171.3478231273234,
                    183.50083258617397,
                    195.70093542703296,
                    207.91145601145107,
                    220.1131841330236,
                    232.28696656897802,
                    244.41379825427873,
                    256.4749115173222,
                    268.45186366007863,
                    280.3266216025157,
                    292.067557809272,
                    303.63029636880793,
                    314.97257268860574,
                    326.05469129198315,
                    336.83993439650743,
                    347.2949129141738,
                    357.3898563769975,
                    367.12639319329077,
                    376.5335075472465,
                    385.63808229321256,
                    394.4651052112861,
                    403.037855728662,
                    411.37807447174293,
                    419.5061174424115,
                    427.44652071554634,
                    435.22766789538053,
                    442.87638915305035,
                    450.4182366516833,
                    457.87774000703865,
                    465.27864503521175,
                    472.6261300671745,
                    479.92267621673443,
                    487.176219709362,
                    494.3751893312419,
                    501.508286243146,
                    508.5645370623695,
                    515.5333442547125,
                    522.4045335540899,
                    529.1581919354755,
                    535.8128144408229,
                    542.4031688822049,
                    548.9440668383485,
                    555.4499895417284,
                    561.9351838449636,
                    568.4137555068462,
                    574.8940648902851,
                    581.3787758524563,
                    587.870556304658,
                    594.372081372518,
                    600.8726793338851,
                    607.1476160184069,
                    613.4553984405649,
                    620.1012958991679,
                    626.7461920448918,
                    633.3750586000281,
                    639.9729828998248,
                    646.4790663098357,
                    652.8972425914393,
                    659.2405164672182,
                    665.4985210074178,
                    671.5695883467753,
                    677.6331617066028,
                    683.7191066803979,
                    689.8576066690853,
                    696.0796110022152,
                    702.3691505546337,
                    708.7773437673288,
                    715.31556850559,
                    721.9836123658076,
                    728.7811432002924,
                    735.7077071069293,
                    742.7627265402183,
                    749.9454985413697,
                    757.2636102226323,
                    764.7335699951053,
                    772.3727891046569,
                    780.1996977810489,
                    788.2338716742971,
                    796.4961693866317,
                    805.0088828437641,
                    813.758384437089,
                    822.6912126218521,
                    831.7503422051199,
                    840.876277420333,
                    850.0082248443044,
                    859.0853076978264,
                    868.0477816071068,
                    876.8803769682232,
                    885.6080569795495,
                    894.179597900379,
                    902.6991767205593,
                    911.1916821636382,
                    919.6817539580685,
                    928.1939965075029,
                    936.7343908584718,
                    945.290141510045,
                    953.8483903127229,
                    962.3962752156418,
                    970.9209884130466,
                    979.4098343087379,
                    987.8502864414259,
                    996.230043197989,
                    1004.5370814506479,
                    1012.7597083023576,
                    1020.886610185211,
                    1028.9068990793082,
                    1036.8101556747927,
                    1044.5864688060647,
                    1052.2264713986071,
                    1059.7213724909534,
                    1067.0297755435884,
                    1074.0775055119204,
                    1080.9583163346683,
                    1087.6661541411772,
                    1094.1956339086964,
                    1100.548252583218,
                    1106.7316906587935,
                    1112.7532704891667,
                    1118.6199754439951,
                    1124.338468108149,
                    1129.9151074480899,
                    1135.3559650695365,
                    1140.6681376099314,
                    1145.8596408026642,
                    1150.9380802330459,
                    1155.9080655902255
                  ]
                },
                {
                  "line": {
                    "dash": "dash",
                    "width": 2
                  },
                  "mode": "lines",
                  "name": "Övre konfidensintervall",
                  "type": "scatter",
                  "x": [
                    "2020-03-01T00:00:00",
                    "2020-03-02T00:00:00",
                    "2020-03-03T00:00:00",
                    "2020-03-04T00:00:00",
                    "2020-03-05T00:00:00",
                    "2020-03-06T00:00:00",
                    "2020-03-07T00:00:00",
                    "2020-03-08T00:00:00",
                    "2020-03-09T00:00:00",
                    "2020-03-10T00:00:00",
                    "2020-03-11T00:00:00",
                    "2020-03-12T00:00:00",
                    "2020-03-13T00:00:00",
                    "2020-03-14T00:00:00",
                    "2020-03-15T00:00:00",
                    "2020-03-16T00:00:00",
                    "2020-03-17T00:00:00",
                    "2020-03-18T00:00:00",
                    "2020-03-19T00:00:00",
                    "2020-03-20T00:00:00",
                    "2020-03-21T00:00:00",
                    "2020-03-22T00:00:00",
                    "2020-03-23T00:00:00",
                    "2020-03-24T00:00:00",
                    "2020-03-25T00:00:00",
                    "2020-03-26T00:00:00",
                    "2020-03-27T00:00:00",
                    "2020-03-28T00:00:00",
                    "2020-03-29T00:00:00",
                    "2020-03-30T00:00:00",
                    "2020-03-31T00:00:00",
                    "2020-04-01T00:00:00",
                    "2020-04-02T00:00:00",
                    "2020-04-03T00:00:00",
                    "2020-04-04T00:00:00",
                    "2020-04-05T00:00:00",
                    "2020-04-06T00:00:00",
                    "2020-04-07T00:00:00",
                    "2020-04-08T00:00:00",
                    "2020-04-09T00:00:00",
                    "2020-04-10T00:00:00",
                    "2020-04-11T00:00:00",
                    "2020-04-12T00:00:00",
                    "2020-04-13T00:00:00",
                    "2020-04-14T00:00:00",
                    "2020-04-15T00:00:00",
                    "2020-04-16T00:00:00",
                    "2020-04-17T00:00:00",
                    "2020-04-18T00:00:00",
                    "2020-04-19T00:00:00",
                    "2020-04-20T00:00:00",
                    "2020-04-21T00:00:00",
                    "2020-04-22T00:00:00",
                    "2020-04-23T00:00:00",
                    "2020-04-24T00:00:00",
                    "2020-04-25T00:00:00",
                    "2020-04-26T00:00:00",
                    "2020-04-27T00:00:00",
                    "2020-04-28T00:00:00",
                    "2020-04-29T00:00:00",
                    "2020-04-30T00:00:00",
                    "2020-05-01T00:00:00",
                    "2020-05-02T00:00:00",
                    "2020-05-03T00:00:00",
                    "2020-05-04T00:00:00",
                    "2020-05-05T00:00:00",
                    "2020-05-06T00:00:00",
                    "2020-05-07T00:00:00",
                    "2020-05-08T00:00:00",
                    "2020-05-09T00:00:00",
                    "2020-05-10T00:00:00",
                    "2020-05-11T00:00:00",
                    "2020-05-12T00:00:00",
                    "2020-05-13T00:00:00",
                    "2020-05-14T00:00:00",
                    "2020-05-15T00:00:00",
                    "2020-05-16T00:00:00",
                    "2020-05-17T00:00:00",
                    "2020-05-18T00:00:00",
                    "2020-05-19T00:00:00",
                    "2020-05-20T00:00:00",
                    "2020-05-21T00:00:00",
                    "2020-05-22T00:00:00",
                    "2020-05-23T00:00:00",
                    "2020-05-24T00:00:00",
                    "2020-05-25T00:00:00",
                    "2020-05-26T00:00:00",
                    "2020-05-27T00:00:00",
                    "2020-05-28T00:00:00",
                    "2020-05-29T00:00:00",
                    "2020-05-30T00:00:00",
                    "2020-05-31T00:00:00",
                    "2020-06-01T00:00:00",
                    "2020-06-02T00:00:00",
                    "2020-06-03T00:00:00",
                    "2020-06-04T00:00:00",
                    "2020-06-05T00:00:00",
                    "2020-06-06T00:00:00",
                    "2020-06-07T00:00:00",
                    "2020-06-08T00:00:00",
                    "2020-06-09T00:00:00",
                    "2020-06-10T00:00:00",
                    "2020-06-11T00:00:00",
                    "2020-06-12T00:00:00",
                    "2020-06-13T00:00:00",
                    "2020-06-14T00:00:00",
                    "2020-06-15T00:00:00",
                    "2020-06-16T00:00:00",
                    "2020-06-17T00:00:00",
                    "2020-06-18T00:00:00",
                    "2020-06-19T00:00:00",
                    "2020-06-20T00:00:00",
                    "2020-06-21T00:00:00",
                    "2020-06-22T00:00:00",
                    "2020-06-23T00:00:00",
                    "2020-06-24T00:00:00",
                    "2020-06-25T00:00:00",
                    "2020-06-26T00:00:00",
                    "2020-06-27T00:00:00",
                    "2020-06-28T00:00:00",
                    "2020-06-29T00:00:00",
                    "2020-06-30T00:00:00",
                    "2020-07-01T00:00:00",
                    "2020-07-02T00:00:00",
                    "2020-07-03T00:00:00",
                    "2020-07-04T00:00:00",
                    "2020-07-05T00:00:00",
                    "2020-07-06T00:00:00",
                    "2020-07-07T00:00:00",
                    "2020-07-08T00:00:00",
                    "2020-07-09T00:00:00",
                    "2020-07-10T00:00:00",
                    "2020-07-11T00:00:00",
                    "2020-07-12T00:00:00",
                    "2020-07-13T00:00:00",
                    "2020-07-14T00:00:00",
                    "2020-07-15T00:00:00",
                    "2020-07-16T00:00:00",
                    "2020-07-17T00:00:00",
                    "2020-07-18T00:00:00",
                    "2020-07-19T00:00:00",
                    "2020-07-20T00:00:00",
                    "2020-07-21T00:00:00",
                    "2020-07-22T00:00:00",
                    "2020-07-23T00:00:00",
                    "2020-07-24T00:00:00",
                    "2020-07-25T00:00:00",
                    "2020-07-26T00:00:00",
                    "2020-07-27T00:00:00",
                    "2020-07-28T00:00:00",
                    "2020-07-29T00:00:00",
                    "2020-07-30T00:00:00",
                    "2020-07-31T00:00:00",
                    "2020-08-01T00:00:00",
                    "2020-08-02T00:00:00",
                    "2020-08-03T00:00:00",
                    "2020-08-04T00:00:00",
                    "2020-08-05T00:00:00",
                    "2020-08-06T00:00:00",
                    "2020-08-07T00:00:00",
                    "2020-08-08T00:00:00",
                    "2020-08-09T00:00:00",
                    "2020-08-10T00:00:00",
                    "2020-08-11T00:00:00",
                    "2020-08-12T00:00:00",
                    "2020-08-13T00:00:00",
                    "2020-08-14T00:00:00",
                    "2020-08-15T00:00:00",
                    "2020-08-16T00:00:00",
                    "2020-08-17T00:00:00",
                    "2020-08-18T00:00:00",
                    "2020-08-19T00:00:00",
                    "2020-08-20T00:00:00"
                  ],
                  "y": [
                    0.013,
                    0.029265646828592236,
                    0.0495713679464604,
                    0.07486344854624687,
                    0.1062952820266738,
                    0.14526917993955926,
                    0.19348581369642537,
                    0.25300250435246124,
                    0.3263017360533871,
                    0.41637143856155234,
                    0.526798768554703,
                    0.6618793140441779,
                    0.826743854560291,
                    1.0275050235899725,
                    1.271426441816691,
                    1.5671171140723552,
                    1.9247541058508553,
                    2.3563367308130077,
                    2.875975683193163,
                    3.500220730189788,
                    4.248430728788846,
                    5.143189839083353,
                    6.210773858788355,
                    7.481670585595924,
                    8.99115800889484,
                    10.7799439223599,
                    12.89487020736474,
                    15.389684547179288,
                    18.325881634908697,
                    21.768844525777407,
                    25.78560409653444,
                    30.448043645239363,
                    35.83249930390335,
                    42.01919532184712,
                    49.091503036829614,
                    57.13501668085808,
                    66.19598879996198,
                    76.26096547818638,
                    87.28552132063587,
                    99.193061267272,
                    111.87538149673357,
                    125.19509881342208,
                    138.98990189572984,
                    153.14912485280567,
                    167.6249461430802,
                    182.3659796893051,
                    197.31782405937568,
                    212.42366926616268,
                    227.62494992542858,
                    242.86203067488867,
                    258.0923639048827,
                    273.2909110367918,
                    288.4328167418424,
                    303.4935315101102,
                    318.4489316945436,
                    333.2754358155651,
                    347.95011536433793,
                    362.432749752522,
                    376.66705202935486,
                    390.59978851291,
                    404.1813665052987,
                    417.3663484555173,
                    430.11388453673885,
                    442.388056128545,
                    454.1928296087821,
                    465.5665280370429,
                    476.5445579705029,
                    487.15969959957664,
                    497.4423691672923,
                    507.4208550670672,
                    517.1215326988219,
                    526.5757651388153,
                    535.8194497270042,
                    544.8863354851846,
                    553.8083896695431,
                    562.616134332454,
                    571.338958944866,
                    580.0054139696913,
                    588.6223106420858,
                    597.1753256408148,
                    605.6504689510306,
                    614.0341523232798,
                    622.31325441653,
                    630.4751815923147,
                    638.5079245483028,
                    646.4156865385287,
                    654.217906445347,
                    661.9332871270973,
                    669.5799294507458,
                    677.1754592993769,
                    684.7371491495492,
                    692.2820356337897,
                    699.8201790459053,
                    707.3547571751627,
                    714.8889417061382,
                    722.4259021585277,
                    729.9688097791926,
                    737.5208414215314,
                    745.0851835052403,
                    752.6545292138649,
                    760.2110736736357,
                    767.7371115752494,
                    775.2151617590996,
                    782.6280891196494,
                    789.9592222968872,
                    797.1924659745225,
                    804.3388207802519,
                    811.4351446140495,
                    818.5175165966591,
                    825.6217868994755,
                    832.7841205350137,
                    840.0415483775645,
                    847.4325390120918,
                    854.9768870404873,
                    862.67435894436,
                    870.5245745172498,
                    878.5270042683039,
                    886.6809670412835,
                    894.9856278584581,
                    903.4399959870143,
                    912.0530891363494,
                    920.8446919711546,
                    929.835670010439,
                    939.0481112765578,
                    948.5054799716121,
                    957.8489605786865,
                    967.3014819453007,
                    977.0115180563986,
                    986.9169170740184,
                    996.951580276212,
                    1007.0467867737959,
                    1017.1326061777391,
                    1027.1393511419496,
                    1036.999018771351,
                    1046.6947109586063,
                    1056.257840451554,
                    1065.7185856169651,
                    1075.1061754939271,
                    1084.449160303208,
                    1093.7756712875976,
                    1103.1136739238996,
                    1112.4698855285383,
                    1121.8297208637928,
                    1131.178586791288,
                    1140.5019509748852,
                    1149.7854100080162,
                    1159.0147565210864,
                    1168.1760445837417,
                    1177.2556529664464,
                    1186.2403456427892,
                    1195.117329401013,
                    1203.8743078951843,
                    1212.499531855634,
                    1220.9818451413153,
                    1229.3107262574397,
                    1237.4763249908415,
                    1245.4694945298559,
                    1253.281818342224,
                    1260.905631919872,
                    1268.3340393794208,
                    1275.5609249166207,
                    1282.5809593079284,
                    1289.3964698224363,
                    1296.0166055438442,
                    1302.4500704405373,
                    1308.7051481140036,
                    1314.789725057575,
                    1320.7113123704278,
                    1326.4770664828118,
                    1332.0952234847077,
                    1337.5749750829405,
                    1342.9250170167268,
                    1348.1535862444907
                  ]
                },
                {
                  "line": {
                    "dash": "dot",
                    "width": 2
                  },
                  "mode": "lines",
                  "name": "Undre prediktionsintervall",
                  "type": "scatter",
                  "x": [
                    "2020-03-01T00:00:00",
                    "2020-03-02T00:00:00",
                    "2020-03-03T00:00:00",
                    "2020-03-04T00:00:00",
                    "2020-03-05T00:00:00",
                    "2020-03-06T00:00:00",
                    "2020-03-07T00:00:00",
                    "2020-03-08T00:00:00",
                    "2020-03-09T00:00:00",
                    "2020-03-10T00:00:00",
                    "2020-03-11T00:00:00",
                    "2020-03-12T00:00:00",
                    "2020-03-13T00:00:00",
                    "2020-03-14T00:00:00",
                    "2020-03-15T00:00:00",
                    "2020-03-16T00:00:00",
                    "2020-03-17T00:00:00",
                    "2020-03-18T00:00:00",
                    "2020-03-19T00:00:00",
                    "2020-03-20T00:00:00",
                    "2020-03-21T00:00:00",
                    "2020-03-22T00:00:00",
                    "2020-03-23T00:00:00",
                    "2020-03-24T00:00:00",
                    "2020-03-25T00:00:00",
                    "2020-03-26T00:00:00",
                    "2020-03-27T00:00:00",
                    "2020-03-28T00:00:00",
                    "2020-03-29T00:00:00",
                    "2020-03-30T00:00:00",
                    "2020-03-31T00:00:00",
                    "2020-04-01T00:00:00",
                    "2020-04-02T00:00:00",
                    "2020-04-03T00:00:00",
                    "2020-04-04T00:00:00",
                    "2020-04-05T00:00:00",
                    "2020-04-06T00:00:00",
                    "2020-04-07T00:00:00",
                    "2020-04-08T00:00:00",
                    "2020-04-09T00:00:00",
                    "2020-04-10T00:00:00",
                    "2020-04-11T00:00:00",
                    "2020-04-12T00:00:00",
                    "2020-04-13T00:00:00",
                    "2020-04-14T00:00:00",
                    "2020-04-15T00:00:00",
                    "2020-04-16T00:00:00",
                    "2020-04-17T00:00:00",
                    "2020-04-18T00:00:00",
                    "2020-04-19T00:00:00",
                    "2020-04-20T00:00:00",
                    "2020-04-21T00:00:00",
                    "2020-04-22T00:00:00",
                    "2020-04-23T00:00:00",
                    "2020-04-24T00:00:00",
                    "2020-04-25T00:00:00",
                    "2020-04-26T00:00:00",
                    "2020-04-27T00:00:00",
                    "2020-04-28T00:00:00",
                    "2020-04-29T00:00:00",
                    "2020-04-30T00:00:00",
                    "2020-05-01T00:00:00",
                    "2020-05-02T00:00:00",
                    "2020-05-03T00:00:00",
                    "2020-05-04T00:00:00",
                    "2020-05-05T00:00:00",
                    "2020-05-06T00:00:00",
                    "2020-05-07T00:00:00",
                    "2020-05-08T00:00:00",
                    "2020-05-09T00:00:00",
                    "2020-05-10T00:00:00",
                    "2020-05-11T00:00:00",
                    "2020-05-12T00:00:00",
                    "2020-05-13T00:00:00",
                    "2020-05-14T00:00:00",
                    "2020-05-15T00:00:00",
                    "2020-05-16T00:00:00",
                    "2020-05-17T00:00:00",
                    "2020-05-18T00:00:00",
                    "2020-05-19T00:00:00",
                    "2020-05-20T00:00:00",
                    "2020-05-21T00:00:00",
                    "2020-05-22T00:00:00",
                    "2020-05-23T00:00:00",
                    "2020-05-24T00:00:00",
                    "2020-05-25T00:00:00",
                    "2020-05-26T00:00:00",
                    "2020-05-27T00:00:00",
                    "2020-05-28T00:00:00",
                    "2020-05-29T00:00:00",
                    "2020-05-30T00:00:00",
                    "2020-05-31T00:00:00",
                    "2020-06-01T00:00:00",
                    "2020-06-02T00:00:00",
                    "2020-06-03T00:00:00",
                    "2020-06-04T00:00:00",
                    "2020-06-05T00:00:00",
                    "2020-06-06T00:00:00",
                    "2020-06-07T00:00:00",
                    "2020-06-08T00:00:00",
                    "2020-06-09T00:00:00",
                    "2020-06-10T00:00:00",
                    "2020-06-11T00:00:00",
                    "2020-06-12T00:00:00",
                    "2020-06-13T00:00:00",
                    "2020-06-14T00:00:00",
                    "2020-06-15T00:00:00",
                    "2020-06-16T00:00:00",
                    "2020-06-17T00:00:00",
                    "2020-06-18T00:00:00",
                    "2020-06-19T00:00:00",
                    "2020-06-20T00:00:00",
                    "2020-06-21T00:00:00",
                    "2020-06-22T00:00:00",
                    "2020-06-23T00:00:00",
                    "2020-06-24T00:00:00",
                    "2020-06-25T00:00:00",
                    "2020-06-26T00:00:00",
                    "2020-06-27T00:00:00",
                    "2020-06-28T00:00:00",
                    "2020-06-29T00:00:00",
                    "2020-06-30T00:00:00",
                    "2020-07-01T00:00:00",
                    "2020-07-02T00:00:00",
                    "2020-07-03T00:00:00",
                    "2020-07-04T00:00:00",
                    "2020-07-05T00:00:00",
                    "2020-07-06T00:00:00",
                    "2020-07-07T00:00:00",
                    "2020-07-08T00:00:00",
                    "2020-07-09T00:00:00",
                    "2020-07-10T00:00:00",
                    "2020-07-11T00:00:00",
                    "2020-07-12T00:00:00",
                    "2020-07-13T00:00:00",
                    "2020-07-14T00:00:00",
                    "2020-07-15T00:00:00",
                    "2020-07-16T00:00:00",
                    "2020-07-17T00:00:00",
                    "2020-07-18T00:00:00",
                    "2020-07-19T00:00:00",
                    "2020-07-20T00:00:00",
                    "2020-07-21T00:00:00",
                    "2020-07-22T00:00:00",
                    "2020-07-23T00:00:00",
                    "2020-07-24T00:00:00",
                    "2020-07-25T00:00:00",
                    "2020-07-26T00:00:00",
                    "2020-07-27T00:00:00",
                    "2020-07-28T00:00:00",
                    "2020-07-29T00:00:00",
                    "2020-07-30T00:00:00",
                    "2020-07-31T00:00:00",
                    "2020-08-01T00:00:00",
                    "2020-08-02T00:00:00",
                    "2020-08-03T00:00:00",
                    "2020-08-04T00:00:00",
                    "2020-08-05T00:00:00",
                    "2020-08-06T00:00:00",
                    "2020-08-07T00:00:00",
                    "2020-08-08T00:00:00",
                    "2020-08-09T00:00:00",
                    "2020-08-10T00:00:00",
                    "2020-08-11T00:00:00",
                    "2020-08-12T00:00:00",
                    "2020-08-13T00:00:00",
                    "2020-08-14T00:00:00",
                    "2020-08-15T00:00:00",
                    "2020-08-16T00:00:00",
                    "2020-08-17T00:00:00",
                    "2020-08-18T00:00:00",
                    "2020-08-19T00:00:00",
                    "2020-08-20T00:00:00"
                  ],
                  "y": [
                    0,
                    0,
                    0,
                    0,
                    0,
                    0,
                    0,
                    0,
                    0,
                    0,
                    0,
                    0,
                    0,
                    0,
                    0,
                    0,
                    0,
                    0,
                    0,
                    0,
                    0,
                    0,
                    0,
                    0,
                    0,
                    0,
                    0,
                    1.919310099570506,
                    4.576585254506455,
                    7.601123775856888,
                    11.183145282617785,
                    15.41896427991948,
                    19.80153987915809,
                    25.33866482661567,
                    31.403348200403535,
                    38.393327258980605,
                    45.95401893130598,
                    54.661235405970515,
                    63.86247787526111,
                    74.02316864593278,
                    84.44599888091788,
                    95.27202699577643,
                    106.75936455529569,
                    118.24531671325443,
                    129.95142144059355,
                    142.35395027478603,
                    154.30646571705861,
                    166.43170974097026,
                    178.86211071878375,
                    191.48118182159467,
                    203.5044023184131,
                    216.15089848532926,
                    228.91420524092163,
                    240.75930831762517,
                    252.70730980156256,
                    264.8433605967661,
                    276.9891233792102,
                    288.92030625339515,
                    300.3134613990952,
                    311.5929428320732,
                    322.876066815061,
                    333.56906708857395,
                    344.3854493957532,
                    354.41917250456373,
                    364.156428505537,
                    373.5115371524358,
                    382.2497941401609,
                    391.4304704537333,
                    400.0751912758796,
                    408.23757233625514,
                    416.36518618560353,
                    424.55896665949535,
                    432.0287007129166,
                    439.39892694055493,
                    447.18016866101624,
                    454.12999001479335,
                    461.74503583366953,
                    469.10991471762605,
                    476.2498524204439,
                    483.66941848186633,
                    490.8311260309083,
                    497.8729493538018,
                    504.9939418920446,
                    512.0333225990181,
                    518.501802267633,
                    525.1213932094394,
                    532.0835739064588,
                    538.7056586127085,
                    545.1821159499809,
                    551.7541996265746,
                    558.224207715828,
                    564.4461968009617,
                    571.0065222495856,
                    577.3240779416808,
                    583.7995419296343,
                    590.0387613219156,
                    596.7505117037418,
                    603.0100348683409,
                    609.5678468494598,
                    615.998800987205,
                    622.6698266931386,
                    629.2479879611934,
                    635.3587624878616,
                    641.5230254813789,
                    648.036491965781,
                    654.2695549700973,
                    660.5300753226642,
                    666.5013889470488,
                    672.6769544895432,
                    678.870255732387,
                    684.9066652248919,
                    691.1007567868562,
                    697.6452034798134,
                    703.8742605314256,
                    710.2573968246699,
                    717.3122297712835,
                    724.0246600904514,
                    730.9013021831792,
                    737.9100938554031,
                    745.4683458193069,
                    752.3978191581074,
                    759.8995406914873,
                    767.6115752070444,
                    775.3058827908424,
                    783.5779594148203,
                    791.4518768119102,
                    800.0138034761525,
                    808.6029475544772,
                    817.6704724866574,
                    826.6346595828237,
                    835.7239642909776,
                    844.5872953145558,
                    853.2772211249121,
                    862.3977883076338,
                    870.9587553311435,
                    879.8001935440694,
                    888.0498389979244,
                    896.3319986587934,
                    904.8566900575044,
                    913.5016441039379,
                    922.1742628396571,
                    930.6309861084173,
                    938.948838164202,
                    947.4239001157994,
                    955.1849787375129,
                    963.9196457286146,
                    972.504194165212,
                    980.9971081051982,
                    989.2545483576914,
                    997.869783911848,
                    1005.7097561234796,
                    1012.994120566592,
                    1021.36360115712,
                    1029.5243220481061,
                    1036.9839382438074,
                    1044.515421624957,
                    1052.2689366568266,
                    1059.312599352067,
                    1066.5384138104491,
                    1073.2188268571651,
                    1080.518256334665,
                    1086.2841811507958,
                    1092.6567603497451,
                    1099.1856816646405,
                    1105.0376334020496,
                    1110.9557169878906,
                    1116.7206506230298,
                    1122.4922582348659,
                    1127.7979028551345,
                    1133.8918171806904,
                    1137.781702499083,
                    1143.2837880171085,
                    1148.4201789987678
                  ]
                },
                {
                  "line": {
                    "dash": "dot",
                    "width": 2
                  },
                  "mode": "lines",
                  "name": "Övre prediktionsintervall",
                  "type": "scatter",
                  "x": [
                    "2020-03-01T00:00:00",
                    "2020-03-02T00:00:00",
                    "2020-03-03T00:00:00",
                    "2020-03-04T00:00:00",
                    "2020-03-05T00:00:00",
                    "2020-03-06T00:00:00",
                    "2020-03-07T00:00:00",
                    "2020-03-08T00:00:00",
                    "2020-03-09T00:00:00",
                    "2020-03-10T00:00:00",
                    "2020-03-11T00:00:00",
                    "2020-03-12T00:00:00",
                    "2020-03-13T00:00:00",
                    "2020-03-14T00:00:00",
                    "2020-03-15T00:00:00",
                    "2020-03-16T00:00:00",
                    "2020-03-17T00:00:00",
                    "2020-03-18T00:00:00",
                    "2020-03-19T00:00:00",
                    "2020-03-20T00:00:00",
                    "2020-03-21T00:00:00",
                    "2020-03-22T00:00:00",
                    "2020-03-23T00:00:00",
                    "2020-03-24T00:00:00",
                    "2020-03-25T00:00:00",
                    "2020-03-26T00:00:00",
                    "2020-03-27T00:00:00",
                    "2020-03-28T00:00:00",
                    "2020-03-29T00:00:00",
                    "2020-03-30T00:00:00",
                    "2020-03-31T00:00:00",
                    "2020-04-01T00:00:00",
                    "2020-04-02T00:00:00",
                    "2020-04-03T00:00:00",
                    "2020-04-04T00:00:00",
                    "2020-04-05T00:00:00",
                    "2020-04-06T00:00:00",
                    "2020-04-07T00:00:00",
                    "2020-04-08T00:00:00",
                    "2020-04-09T00:00:00",
                    "2020-04-10T00:00:00",
                    "2020-04-11T00:00:00",
                    "2020-04-12T00:00:00",
                    "2020-04-13T00:00:00",
                    "2020-04-14T00:00:00",
                    "2020-04-15T00:00:00",
                    "2020-04-16T00:00:00",
                    "2020-04-17T00:00:00",
                    "2020-04-18T00:00:00",
                    "2020-04-19T00:00:00",
                    "2020-04-20T00:00:00",
                    "2020-04-21T00:00:00",
                    "2020-04-22T00:00:00",
                    "2020-04-23T00:00:00",
                    "2020-04-24T00:00:00",
                    "2020-04-25T00:00:00",
                    "2020-04-26T00:00:00",
                    "2020-04-27T00:00:00",
                    "2020-04-28T00:00:00",
                    "2020-04-29T00:00:00",
                    "2020-04-30T00:00:00",
                    "2020-05-01T00:00:00",
                    "2020-05-02T00:00:00",
                    "2020-05-03T00:00:00",
                    "2020-05-04T00:00:00",
                    "2020-05-05T00:00:00",
                    "2020-05-06T00:00:00",
                    "2020-05-07T00:00:00",
                    "2020-05-08T00:00:00",
                    "2020-05-09T00:00:00",
                    "2020-05-10T00:00:00",
                    "2020-05-11T00:00:00",
                    "2020-05-12T00:00:00",
                    "2020-05-13T00:00:00",
                    "2020-05-14T00:00:00",
                    "2020-05-15T00:00:00",
                    "2020-05-16T00:00:00",
                    "2020-05-17T00:00:00",
                    "2020-05-18T00:00:00",
                    "2020-05-19T00:00:00",
                    "2020-05-20T00:00:00",
                    "2020-05-21T00:00:00",
                    "2020-05-22T00:00:00",
                    "2020-05-23T00:00:00",
                    "2020-05-24T00:00:00",
                    "2020-05-25T00:00:00",
                    "2020-05-26T00:00:00",
                    "2020-05-27T00:00:00",
                    "2020-05-28T00:00:00",
                    "2020-05-29T00:00:00",
                    "2020-05-30T00:00:00",
                    "2020-05-31T00:00:00",
                    "2020-06-01T00:00:00",
                    "2020-06-02T00:00:00",
                    "2020-06-03T00:00:00",
                    "2020-06-04T00:00:00",
                    "2020-06-05T00:00:00",
                    "2020-06-06T00:00:00",
                    "2020-06-07T00:00:00",
                    "2020-06-08T00:00:00",
                    "2020-06-09T00:00:00",
                    "2020-06-10T00:00:00",
                    "2020-06-11T00:00:00",
                    "2020-06-12T00:00:00",
                    "2020-06-13T00:00:00",
                    "2020-06-14T00:00:00",
                    "2020-06-15T00:00:00",
                    "2020-06-16T00:00:00",
                    "2020-06-17T00:00:00",
                    "2020-06-18T00:00:00",
                    "2020-06-19T00:00:00",
                    "2020-06-20T00:00:00",
                    "2020-06-21T00:00:00",
                    "2020-06-22T00:00:00",
                    "2020-06-23T00:00:00",
                    "2020-06-24T00:00:00",
                    "2020-06-25T00:00:00",
                    "2020-06-26T00:00:00",
                    "2020-06-27T00:00:00",
                    "2020-06-28T00:00:00",
                    "2020-06-29T00:00:00",
                    "2020-06-30T00:00:00",
                    "2020-07-01T00:00:00",
                    "2020-07-02T00:00:00",
                    "2020-07-03T00:00:00",
                    "2020-07-04T00:00:00",
                    "2020-07-05T00:00:00",
                    "2020-07-06T00:00:00",
                    "2020-07-07T00:00:00",
                    "2020-07-08T00:00:00",
                    "2020-07-09T00:00:00",
                    "2020-07-10T00:00:00",
                    "2020-07-11T00:00:00",
                    "2020-07-12T00:00:00",
                    "2020-07-13T00:00:00",
                    "2020-07-14T00:00:00",
                    "2020-07-15T00:00:00",
                    "2020-07-16T00:00:00",
                    "2020-07-17T00:00:00",
                    "2020-07-18T00:00:00",
                    "2020-07-19T00:00:00",
                    "2020-07-20T00:00:00",
                    "2020-07-21T00:00:00",
                    "2020-07-22T00:00:00",
                    "2020-07-23T00:00:00",
                    "2020-07-24T00:00:00",
                    "2020-07-25T00:00:00",
                    "2020-07-26T00:00:00",
                    "2020-07-27T00:00:00",
                    "2020-07-28T00:00:00",
                    "2020-07-29T00:00:00",
                    "2020-07-30T00:00:00",
                    "2020-07-31T00:00:00",
                    "2020-08-01T00:00:00",
                    "2020-08-02T00:00:00",
                    "2020-08-03T00:00:00",
                    "2020-08-04T00:00:00",
                    "2020-08-05T00:00:00",
                    "2020-08-06T00:00:00",
                    "2020-08-07T00:00:00",
                    "2020-08-08T00:00:00",
                    "2020-08-09T00:00:00",
                    "2020-08-10T00:00:00",
                    "2020-08-11T00:00:00",
                    "2020-08-12T00:00:00",
                    "2020-08-13T00:00:00",
                    "2020-08-14T00:00:00",
                    "2020-08-15T00:00:00",
                    "2020-08-16T00:00:00",
                    "2020-08-17T00:00:00",
                    "2020-08-18T00:00:00",
                    "2020-08-19T00:00:00",
                    "2020-08-20T00:00:00"
                  ],
                  "y": [
                    12.152908109839023,
                    12.250534622832951,
                    12.147123716420705,
                    12.386243020890149,
                    12.252764478859573,
                    12.429883875202178,
                    12.469084551777089,
                    12.372546983966329,
                    12.59414731027084,
                    12.630274839054021,
                    12.934055034330425,
                    12.75149281917016,
                    13.007181476923273,
                    13.059272205738633,
                    13.167009489667706,
                    13.795835222338788,
                    13.84578469503251,
                    14.575499544500312,
                    15.050990082257547,
                    15.535972599045444,
                    16.12513346887292,
                    16.870052298110604,
                    17.970165932231808,
                    19.008787050858487,
                    20.705219060900525,
                    22.294012365156462,
                    23.906606562441144,
                    26.54208749202503,
                    29.162624139324862,
                    32.297101260125395,
                    35.816455448200394,
                    40.30551840161572,
                    44.98688835405904,
                    50.593058324808915,
                    56.99305406974227,
                    64.75991147095677,
                    73.22517801991089,
                    82.6230803924078,
                    93.28024892138127,
                    104.76323017589127,
                    117.06479412795075,
                    129.88623412603818,
                    143.4438705513839,
                    157.52298455812374,
                    172.20692314929246,
                    186.7739083185871,
                    201.7257224849222,
                    216.71503305613714,
                    232.76599000113995,
                    247.27112197259288,
                    263.1564465517119,
                    278.6512172526423,
                    293.2955316761373,
                    308.72611590161546,
                    323.09802027157554,
                    338.76611988669595,
                    353.5776081966619,
                    367.5487782813648,
                    382.384673648477,
                    396.5634655906931,
                    410.3700699025835,
                    423.57816848702,
                    436.6862533316667,
                    448.9395651015322,
                    460.4398397405893,
                    471.8319174675864,
                    483.2097556597564,
                    493.85346731420435,
                    504.1301993216735,
                    513.5684586188637,
                    524.0333363122733,
                    533.4756945634088,
                    542.3159277706773,
                    551.4447546245566,
                    560.6597897430779,
                    569.3585682484872,
                    578.9203920571077,
                    587.041936540788,
                    595.780700410272,
                    604.5791010058277,
                    612.764145949103,
                    620.9779040408747,
                    629.4294869014182,
                    638.4269156298379,
                    645.7279026130105,
                    653.2148818280571,
                    661.132335875372,
                    669.4308006665649,
                    677.0403540279689,
                    684.5295695277998,
                    692.0839323811731,
                    699.474116459567,
                    706.9266009213745,
                    714.7320032081938,
                    722.7056675622791,
                    729.8962827335295,
                    737.211275567316,
                    745.4889350693239,
                    752.227782215581,
                    760.1457149989128,
                    767.9234634025452,
                    774.8598993145838,
                    782.7484862997362,
                    790.2276050823024,
                    797.7920501220817,
                    803.9832295590284,
                    811.7218466574926,
                    818.7129913975491,
                    825.5492968350748,
                    832.8322127258824,
                    839.4073113659584,
                    846.7624910023994,
                    853.8885006220712,
                    862.1032090987878,
                    868.7954101114768,
                    876.4141896628483,
                    885.4226732342,
                    892.7607695819702,
                    900.4523611280259,
                    909.1495476414117,
                    917.6869876874323,
                    926.193290007343,
                    934.7140429133331,
                    943.854916967038,
                    953.209149486953,
                    962.2339301812427,
                    972.465255715294,
                    981.7526725742297,
                    992.379492038901,
                    1002.6915938102029,
                    1013.3512964022943,
                    1023.6523375580963,
                    1033.8429085531968,
                    1044.2556984695284,
                    1054.1200954393973,
                    1063.870341336942,
                    1072.6170663570867,
                    1083.4229667742402,
                    1092.9569678414616,
                    1102.6004101822905,
                    1111.6563865491974,
                    1120.9166479241671,
                    1130.4639184312505,
                    1139.7264775168378,
                    1149.4433771866038,
                    1158.1217683334894,
                    1167.7960682588669,
                    1177.4068617753912,
                    1185.2575338099145,
                    1194.640201606557,
                    1203.0122932256465,
                    1212.113931952216,
                    1220.4813738457956,
                    1229.2974326269527,
                    1237.3829704800523,
                    1245.2941441921487,
                    1253.6780721540088,
                    1260.6261362034904,
                    1268.2424329052196,
                    1275.5944590836439,
                    1282.7557574336452,
                    1290.0114515511639,
                    1296.2467510517245,
                    1302.5352235190394,
                    1309.3599132011493,
                    1315.1234548366658,
                    1321.9027473397125,
                    1327.4819102863312,
                    1333.4683731208208,
                    1338.6335876148696,
                    1344.6446503319062,
                    1349.3470573457037,
                    1353.9563908762962
                  ]
                }
              ],
              "layout": {
                "annotations": [
                  {
                    "bordercolor": "black",
                    "showarrow": false,
                    "text": "RMSE: 6",
                    "x": "2020-03-01T00:00:00",
                    "xshift": 48,
                    "y": 0,
                    "yshift": 270
                  }
                ],
                "autosize": false,
                "font": {
                  "color": "RebeccaPurple",
                  "family": "Courier New, monospace",
                  "size": 14
                },
                "template": {
                  "data": {
                    "bar": [
                      {
                        "error_x": {
                          "color": "#2a3f5f"
                        },
                        "error_y": {
                          "color": "#2a3f5f"
                        },
                        "marker": {
                          "line": {
                            "color": "#E5ECF6",
                            "width": 0.5
                          },
                          "pattern": {
                            "fillmode": "overlay",
                            "size": 10,
                            "solidity": 0.2
                          }
                        },
                        "type": "bar"
                      }
                    ],
                    "barpolar": [
                      {
                        "marker": {
                          "line": {
                            "color": "#E5ECF6",
                            "width": 0.5
                          },
                          "pattern": {
                            "fillmode": "overlay",
                            "size": 10,
                            "solidity": 0.2
                          }
                        },
                        "type": "barpolar"
                      }
                    ],
                    "carpet": [
                      {
                        "aaxis": {
                          "endlinecolor": "#2a3f5f",
                          "gridcolor": "white",
                          "linecolor": "white",
                          "minorgridcolor": "white",
                          "startlinecolor": "#2a3f5f"
                        },
                        "baxis": {
                          "endlinecolor": "#2a3f5f",
                          "gridcolor": "white",
                          "linecolor": "white",
                          "minorgridcolor": "white",
                          "startlinecolor": "#2a3f5f"
                        },
                        "type": "carpet"
                      }
                    ],
                    "choropleth": [
                      {
                        "colorbar": {
                          "outlinewidth": 0,
                          "ticks": ""
                        },
                        "type": "choropleth"
                      }
                    ],
                    "contour": [
                      {
                        "colorbar": {
                          "outlinewidth": 0,
                          "ticks": ""
                        },
                        "colorscale": [
                          [
                            0,
                            "#0d0887"
                          ],
                          [
                            0.1111111111111111,
                            "#46039f"
                          ],
                          [
                            0.2222222222222222,
                            "#7201a8"
                          ],
                          [
                            0.3333333333333333,
                            "#9c179e"
                          ],
                          [
                            0.4444444444444444,
                            "#bd3786"
                          ],
                          [
                            0.5555555555555556,
                            "#d8576b"
                          ],
                          [
                            0.6666666666666666,
                            "#ed7953"
                          ],
                          [
                            0.7777777777777778,
                            "#fb9f3a"
                          ],
                          [
                            0.8888888888888888,
                            "#fdca26"
                          ],
                          [
                            1,
                            "#f0f921"
                          ]
                        ],
                        "type": "contour"
                      }
                    ],
                    "contourcarpet": [
                      {
                        "colorbar": {
                          "outlinewidth": 0,
                          "ticks": ""
                        },
                        "type": "contourcarpet"
                      }
                    ],
                    "heatmap": [
                      {
                        "colorbar": {
                          "outlinewidth": 0,
                          "ticks": ""
                        },
                        "colorscale": [
                          [
                            0,
                            "#0d0887"
                          ],
                          [
                            0.1111111111111111,
                            "#46039f"
                          ],
                          [
                            0.2222222222222222,
                            "#7201a8"
                          ],
                          [
                            0.3333333333333333,
                            "#9c179e"
                          ],
                          [
                            0.4444444444444444,
                            "#bd3786"
                          ],
                          [
                            0.5555555555555556,
                            "#d8576b"
                          ],
                          [
                            0.6666666666666666,
                            "#ed7953"
                          ],
                          [
                            0.7777777777777778,
                            "#fb9f3a"
                          ],
                          [
                            0.8888888888888888,
                            "#fdca26"
                          ],
                          [
                            1,
                            "#f0f921"
                          ]
                        ],
                        "type": "heatmap"
                      }
                    ],
                    "heatmapgl": [
                      {
                        "colorbar": {
                          "outlinewidth": 0,
                          "ticks": ""
                        },
                        "colorscale": [
                          [
                            0,
                            "#0d0887"
                          ],
                          [
                            0.1111111111111111,
                            "#46039f"
                          ],
                          [
                            0.2222222222222222,
                            "#7201a8"
                          ],
                          [
                            0.3333333333333333,
                            "#9c179e"
                          ],
                          [
                            0.4444444444444444,
                            "#bd3786"
                          ],
                          [
                            0.5555555555555556,
                            "#d8576b"
                          ],
                          [
                            0.6666666666666666,
                            "#ed7953"
                          ],
                          [
                            0.7777777777777778,
                            "#fb9f3a"
                          ],
                          [
                            0.8888888888888888,
                            "#fdca26"
                          ],
                          [
                            1,
                            "#f0f921"
                          ]
                        ],
                        "type": "heatmapgl"
                      }
                    ],
                    "histogram": [
                      {
                        "marker": {
                          "pattern": {
                            "fillmode": "overlay",
                            "size": 10,
                            "solidity": 0.2
                          }
                        },
                        "type": "histogram"
                      }
                    ],
                    "histogram2d": [
                      {
                        "colorbar": {
                          "outlinewidth": 0,
                          "ticks": ""
                        },
                        "colorscale": [
                          [
                            0,
                            "#0d0887"
                          ],
                          [
                            0.1111111111111111,
                            "#46039f"
                          ],
                          [
                            0.2222222222222222,
                            "#7201a8"
                          ],
                          [
                            0.3333333333333333,
                            "#9c179e"
                          ],
                          [
                            0.4444444444444444,
                            "#bd3786"
                          ],
                          [
                            0.5555555555555556,
                            "#d8576b"
                          ],
                          [
                            0.6666666666666666,
                            "#ed7953"
                          ],
                          [
                            0.7777777777777778,
                            "#fb9f3a"
                          ],
                          [
                            0.8888888888888888,
                            "#fdca26"
                          ],
                          [
                            1,
                            "#f0f921"
                          ]
                        ],
                        "type": "histogram2d"
                      }
                    ],
                    "histogram2dcontour": [
                      {
                        "colorbar": {
                          "outlinewidth": 0,
                          "ticks": ""
                        },
                        "colorscale": [
                          [
                            0,
                            "#0d0887"
                          ],
                          [
                            0.1111111111111111,
                            "#46039f"
                          ],
                          [
                            0.2222222222222222,
                            "#7201a8"
                          ],
                          [
                            0.3333333333333333,
                            "#9c179e"
                          ],
                          [
                            0.4444444444444444,
                            "#bd3786"
                          ],
                          [
                            0.5555555555555556,
                            "#d8576b"
                          ],
                          [
                            0.6666666666666666,
                            "#ed7953"
                          ],
                          [
                            0.7777777777777778,
                            "#fb9f3a"
                          ],
                          [
                            0.8888888888888888,
                            "#fdca26"
                          ],
                          [
                            1,
                            "#f0f921"
                          ]
                        ],
                        "type": "histogram2dcontour"
                      }
                    ],
                    "mesh3d": [
                      {
                        "colorbar": {
                          "outlinewidth": 0,
                          "ticks": ""
                        },
                        "type": "mesh3d"
                      }
                    ],
                    "parcoords": [
                      {
                        "line": {
                          "colorbar": {
                            "outlinewidth": 0,
                            "ticks": ""
                          }
                        },
                        "type": "parcoords"
                      }
                    ],
                    "pie": [
                      {
                        "automargin": true,
                        "type": "pie"
                      }
                    ],
                    "scatter": [
                      {
                        "marker": {
                          "colorbar": {
                            "outlinewidth": 0,
                            "ticks": ""
                          }
                        },
                        "type": "scatter"
                      }
                    ],
                    "scatter3d": [
                      {
                        "line": {
                          "colorbar": {
                            "outlinewidth": 0,
                            "ticks": ""
                          }
                        },
                        "marker": {
                          "colorbar": {
                            "outlinewidth": 0,
                            "ticks": ""
                          }
                        },
                        "type": "scatter3d"
                      }
                    ],
                    "scattercarpet": [
                      {
                        "marker": {
                          "colorbar": {
                            "outlinewidth": 0,
                            "ticks": ""
                          }
                        },
                        "type": "scattercarpet"
                      }
                    ],
                    "scattergeo": [
                      {
                        "marker": {
                          "colorbar": {
                            "outlinewidth": 0,
                            "ticks": ""
                          }
                        },
                        "type": "scattergeo"
                      }
                    ],
                    "scattergl": [
                      {
                        "marker": {
                          "colorbar": {
                            "outlinewidth": 0,
                            "ticks": ""
                          }
                        },
                        "type": "scattergl"
                      }
                    ],
                    "scattermapbox": [
                      {
                        "marker": {
                          "colorbar": {
                            "outlinewidth": 0,
                            "ticks": ""
                          }
                        },
                        "type": "scattermapbox"
                      }
                    ],
                    "scatterpolar": [
                      {
                        "marker": {
                          "colorbar": {
                            "outlinewidth": 0,
                            "ticks": ""
                          }
                        },
                        "type": "scatterpolar"
                      }
                    ],
                    "scatterpolargl": [
                      {
                        "marker": {
                          "colorbar": {
                            "outlinewidth": 0,
                            "ticks": ""
                          }
                        },
                        "type": "scatterpolargl"
                      }
                    ],
                    "scatterternary": [
                      {
                        "marker": {
                          "colorbar": {
                            "outlinewidth": 0,
                            "ticks": ""
                          }
                        },
                        "type": "scatterternary"
                      }
                    ],
                    "surface": [
                      {
                        "colorbar": {
                          "outlinewidth": 0,
                          "ticks": ""
                        },
                        "colorscale": [
                          [
                            0,
                            "#0d0887"
                          ],
                          [
                            0.1111111111111111,
                            "#46039f"
                          ],
                          [
                            0.2222222222222222,
                            "#7201a8"
                          ],
                          [
                            0.3333333333333333,
                            "#9c179e"
                          ],
                          [
                            0.4444444444444444,
                            "#bd3786"
                          ],
                          [
                            0.5555555555555556,
                            "#d8576b"
                          ],
                          [
                            0.6666666666666666,
                            "#ed7953"
                          ],
                          [
                            0.7777777777777778,
                            "#fb9f3a"
                          ],
                          [
                            0.8888888888888888,
                            "#fdca26"
                          ],
                          [
                            1,
                            "#f0f921"
                          ]
                        ],
                        "type": "surface"
                      }
                    ],
                    "table": [
                      {
                        "cells": {
                          "fill": {
                            "color": "#EBF0F8"
                          },
                          "line": {
                            "color": "white"
                          }
                        },
                        "header": {
                          "fill": {
                            "color": "#C8D4E3"
                          },
                          "line": {
                            "color": "white"
                          }
                        },
                        "type": "table"
                      }
                    ]
                  },
                  "layout": {
                    "annotationdefaults": {
                      "arrowcolor": "#2a3f5f",
                      "arrowhead": 0,
                      "arrowwidth": 1
                    },
                    "autotypenumbers": "strict",
                    "coloraxis": {
                      "colorbar": {
                        "outlinewidth": 0,
                        "ticks": ""
                      }
                    },
                    "colorscale": {
                      "diverging": [
                        [
                          0,
                          "#8e0152"
                        ],
                        [
                          0.1,
                          "#c51b7d"
                        ],
                        [
                          0.2,
                          "#de77ae"
                        ],
                        [
                          0.3,
                          "#f1b6da"
                        ],
                        [
                          0.4,
                          "#fde0ef"
                        ],
                        [
                          0.5,
                          "#f7f7f7"
                        ],
                        [
                          0.6,
                          "#e6f5d0"
                        ],
                        [
                          0.7,
                          "#b8e186"
                        ],
                        [
                          0.8,
                          "#7fbc41"
                        ],
                        [
                          0.9,
                          "#4d9221"
                        ],
                        [
                          1,
                          "#276419"
                        ]
                      ],
                      "sequential": [
                        [
                          0,
                          "#0d0887"
                        ],
                        [
                          0.1111111111111111,
                          "#46039f"
                        ],
                        [
                          0.2222222222222222,
                          "#7201a8"
                        ],
                        [
                          0.3333333333333333,
                          "#9c179e"
                        ],
                        [
                          0.4444444444444444,
                          "#bd3786"
                        ],
                        [
                          0.5555555555555556,
                          "#d8576b"
                        ],
                        [
                          0.6666666666666666,
                          "#ed7953"
                        ],
                        [
                          0.7777777777777778,
                          "#fb9f3a"
                        ],
                        [
                          0.8888888888888888,
                          "#fdca26"
                        ],
                        [
                          1,
                          "#f0f921"
                        ]
                      ],
                      "sequentialminus": [
                        [
                          0,
                          "#0d0887"
                        ],
                        [
                          0.1111111111111111,
                          "#46039f"
                        ],
                        [
                          0.2222222222222222,
                          "#7201a8"
                        ],
                        [
                          0.3333333333333333,
                          "#9c179e"
                        ],
                        [
                          0.4444444444444444,
                          "#bd3786"
                        ],
                        [
                          0.5555555555555556,
                          "#d8576b"
                        ],
                        [
                          0.6666666666666666,
                          "#ed7953"
                        ],
                        [
                          0.7777777777777778,
                          "#fb9f3a"
                        ],
                        [
                          0.8888888888888888,
                          "#fdca26"
                        ],
                        [
                          1,
                          "#f0f921"
                        ]
                      ]
                    },
                    "colorway": [
                      "#636efa",
                      "#EF553B",
                      "#00cc96",
                      "#ab63fa",
                      "#FFA15A",
                      "#19d3f3",
                      "#FF6692",
                      "#B6E880",
                      "#FF97FF",
                      "#FECB52"
                    ],
                    "font": {
                      "color": "#2a3f5f"
                    },
                    "geo": {
                      "bgcolor": "white",
                      "lakecolor": "white",
                      "landcolor": "#E5ECF6",
                      "showlakes": true,
                      "showland": true,
                      "subunitcolor": "white"
                    },
                    "hoverlabel": {
                      "align": "left"
                    },
                    "hovermode": "closest",
                    "mapbox": {
                      "style": "light"
                    },
                    "paper_bgcolor": "white",
                    "plot_bgcolor": "#E5ECF6",
                    "polar": {
                      "angularaxis": {
                        "gridcolor": "white",
                        "linecolor": "white",
                        "ticks": ""
                      },
                      "bgcolor": "#E5ECF6",
                      "radialaxis": {
                        "gridcolor": "white",
                        "linecolor": "white",
                        "ticks": ""
                      }
                    },
                    "scene": {
                      "xaxis": {
                        "backgroundcolor": "#E5ECF6",
                        "gridcolor": "white",
                        "gridwidth": 2,
                        "linecolor": "white",
                        "showbackground": true,
                        "ticks": "",
                        "zerolinecolor": "white"
                      },
                      "yaxis": {
                        "backgroundcolor": "#E5ECF6",
                        "gridcolor": "white",
                        "gridwidth": 2,
                        "linecolor": "white",
                        "showbackground": true,
                        "ticks": "",
                        "zerolinecolor": "white"
                      },
                      "zaxis": {
                        "backgroundcolor": "#E5ECF6",
                        "gridcolor": "white",
                        "gridwidth": 2,
                        "linecolor": "white",
                        "showbackground": true,
                        "ticks": "",
                        "zerolinecolor": "white"
                      }
                    },
                    "shapedefaults": {
                      "line": {
                        "color": "#2a3f5f"
                      }
                    },
                    "ternary": {
                      "aaxis": {
                        "gridcolor": "white",
                        "linecolor": "white",
                        "ticks": ""
                      },
                      "baxis": {
                        "gridcolor": "white",
                        "linecolor": "white",
                        "ticks": ""
                      },
                      "bgcolor": "#E5ECF6",
                      "caxis": {
                        "gridcolor": "white",
                        "linecolor": "white",
                        "ticks": ""
                      }
                    },
                    "title": {
                      "x": 0.05
                    },
                    "xaxis": {
                      "automargin": true,
                      "gridcolor": "white",
                      "linecolor": "white",
                      "ticks": "",
                      "title": {
                        "standoff": 15
                      },
                      "zerolinecolor": "white",
                      "zerolinewidth": 2
                    },
                    "yaxis": {
                      "automargin": true,
                      "gridcolor": "white",
                      "linecolor": "white",
                      "ticks": "",
                      "title": {
                        "standoff": 15
                      },
                      "zerolinecolor": "white",
                      "zerolinewidth": 2
                    }
                  }
                },
                "title": {
                  "text": "Västtrafik mobilitets baserad SIR modell"
                },
                "width": 1000,
                "xaxis": {
                  "range": [
                    "2020-03-01",
                    "2020-08-21T00:00:00"
                  ],
                  "title": {
                    "text": "Datum"
                  }
                },
                "yaxis": {
                  "title": {
                    "text": "Inskrivningar"
                  }
                }
              }
            }
          },
          "metadata": {},
          "output_type": "display_data"
        }
      ],
      "source": [
        "numBetas = 50 #number of betas used for normal dist for conf. intervalls\n",
        "numEpsilon = 500\n",
        "\n",
        "##################  Confidence intervall calculation\n",
        "confint = np.zeros([prediction_time,2]) #defines confidence intervall arrays\n",
        "\n",
        "\n",
        "# Generates an array of betas using normal dist.\n",
        "betas=np.random.multivariate_normal(popt,pcov,numBetas) \n",
        "values = np.zeros((prediction_time,numBetas))\n",
        "\n",
        "for beta in range(len(betas)): \n",
        "  values[:,beta] = np.cumsum(modelfunction(t,*betas[beta]))\n",
        "  \n",
        "for day in range(len(t)):\n",
        "  confint[day,0]=np.quantile(values[day,:],0.025)\n",
        "  confint[day,1]=np.quantile(values[day,:],0.975)\n",
        "  \n",
        "\n",
        "##################  Prediction intervall calculation\n",
        "#få med beta skattning i predictionsintervall, dvs generera beta och fel för varje dag \n",
        "\n",
        "std_residual = np.std(modelfunction(t_fittingdata,*popt)-dailyAdmissions[:fittingPoints], ddof=2) #calcuales standard deviation of residual between model and data\n",
        "predint = np.zeros([prediction_time,2])\n",
        "\n",
        "temp = []\n",
        "pred_matrix = np.zeros((prediction_time,(numBetas*numEpsilon)))\n",
        "for day in range(prediction_time): #loops trough model values each day a adds the error values generated from t-dist to each prediction \n",
        "  for beta in range(len(betas)):\n",
        "      temp =  np.add(np.cumsum(modelfunction(t,*betas[beta]))[day],tdist.rvs(prediction_time,0,std_residual,numEpsilon))\n",
        "      pred_matrix[day,(beta*numEpsilon):(beta*numEpsilon+numEpsilon)] = temp\n",
        "\n",
        "for day in range(prediction_time): #calculates the prediction intervals\n",
        "    predint[day,0] = np.quantile(pred_matrix[day],0.025)\n",
        "    predint[day,1] = np.quantile(pred_matrix[day],0.975)\n",
        "    \n",
        "predint = np.clip(predint,0,None) #removes all negative values from lover prediction interval\n",
        "\n",
        "fig = go.Figure() #Creates a plot using graph objects and then adds each graph to figure\n",
        "fig.add_trace(go.Scatter( #plots the fitting admission data points\n",
        "                    x=pd.Series(pd.date_range(\"2020-03-01\", freq=\"D\", periods=fittingPoints)), \n",
        "                    y=np.cumsum(dailyAdmissions),\n",
        "                    mode='markers',\n",
        "                    name='Inskrivningsdata'))\n",
        "fig.add_trace(go.Scatter( #plots all the available admission data points\n",
        "                    x=pd.Series(pd.date_range(pd.to_datetime('2020-03-01')+timedelta(days=fittingPoints), freq=\"D\", periods=prediction_time-fittingPoints)),\n",
        "                    y=np.cumsum(dailyAdmissions)[fittingPoints:],\n",
        "                    mode='markers',\n",
        "                    marker=dict(\n",
        "                        color='firebrick',\n",
        "                    ),\n",
        "                    name='Admission data'))\n",
        "fig.add_trace(go.Scatter(\n",
        "                    x=pd.Series(pd.date_range(\"2020-03-01\", freq=\"D\", periods=prediction_time)), \n",
        "                    y=np.cumsum(modelfunction(t,*popt)),\n",
        "                    mode='lines',\n",
        "                    name='predikterade kumulativa inskrivningar'))\n",
        "fig.add_trace(go.Scatter(\n",
        "                    x=pd.Series(pd.date_range(\"2020-03-01\", freq=\"D\", periods=prediction_time)), \n",
        "                    y=confint[:,0],\n",
        "                    mode='lines',\n",
        "                    name='Undre konfidensintervall',\n",
        "                    line = dict( width=2, dash='dash')))\n",
        "fig.add_trace(go.Scatter(\n",
        "                    x=pd.Series(pd.date_range(\"2020-03-01\", freq=\"D\", periods=prediction_time)), \n",
        "                    y=confint[:,1],\n",
        "                    mode='lines',\n",
        "                    name='Övre konfidensintervall',\n",
        "                    line = dict(width=2, dash='dash')))\n",
        "fig.add_trace(go.Scatter(\n",
        "                    x=pd.Series(pd.date_range(\"2020-03-01\", freq=\"D\", periods=prediction_time)), \n",
        "                    y=predint[:,0],\n",
        "                    mode='lines',\n",
        "                    name='Undre prediktionsintervall',\n",
        "                    line = dict(width=2, dash='dot')))\n",
        "fig.add_trace(go.Scatter(\n",
        "                    x=pd.Series(pd.date_range(\"2020-03-01\", freq=\"D\", periods=prediction_time)), \n",
        "                    y=predint[:,1],\n",
        "                    mode='lines',\n",
        "                    name='Övre prediktionsintervall',\n",
        "                    line = dict(width=2, dash='dot')))\n",
        "fig.add_annotation(x=pd.to_datetime(\"2020-03-01\"),y=0, \n",
        "                   text=f\"RMSE: {math.floor(mean_squared_error(dailyAdmissions[:prediction_time],modelfunction(t,*popt), squared = False))}\",\n",
        "                   showarrow=False,\n",
        "                   bordercolor=\"black\",\n",
        "                   xshift=48,\n",
        "                   yshift=270\n",
        "                  )\n",
        "fig.update_layout(\n",
        "                    title='Västtrafik mobilitets baserad SIR modell',\n",
        "                    xaxis_title='Datum',\n",
        "                    yaxis_title='Inskrivningar',\n",
        "                    autosize=False,\n",
        "                    width=1000,\n",
        "                    xaxis_range=[\"2020-03-01\",pd.to_datetime('2020-03-01')+timedelta(days=prediction_time)],\n",
        "                    \n",
        "                    font=dict(\n",
        "                      family=\"Courier New, monospace\",\n",
        "                      size=14,\n",
        "                      color=\"RebeccaPurple\"\n",
        "                    )\n",
        ")\n",
        "fig.show()"
      ]
    },
    {
      "cell_type": "code",
      "execution_count": 8,
      "metadata": {},
      "outputs": [],
      "source": [
        "#calcualtes RMSE for 21 days ahead of the fitting data as it increases with\n",
        "\n",
        "header = ['Idex', 'Fitting points', 'MAPE'] #header for csv file\n",
        "RMSEovertime = []   #init RMSE array\n",
        "\n",
        "\n",
        "#writes a csv file of Index, number of fitting points and MAP\n",
        "with open('SIR_MAPE_daily.csv', 'w', encoding='UTF8', newline='') as f:\n",
        "    writer = csv.writer(f)\n",
        "\n",
        "    # write the header\n",
        "    writer.writerow(header)\n",
        "    \n",
        "    #loops over all data point for fitting and curve fits the model and calculates MAPE\n",
        "    for day in range(len(dailyAdmissions)):\n",
        "        #breaks loop when reaching final value\n",
        "        if day+startdata+21 == len(dailyAdmissions):\n",
        "            break\n",
        "        \n",
        "        #inits temp array for writing to csv file and time array for model\n",
        "        temp_RMSEovertime = []\n",
        "        t_MAPE1 = np.linspace(0,day+startdata,day+startdata)\n",
        "        t_MAPE2 = np.linspace(0,day+startdata+21,day+startdata+21)\n",
        "        \n",
        "        #curve fits model to fitting data\n",
        "        MAPE_popt, pcov = curve_fit(modelfunction, t_MAPE1, dailyAdmissions[:day+startdata], p0=[0.4198,0.003781])\n",
        "        \n",
        "        #creates temp list of Index, number of fitting points and MAP\n",
        "        temp_RMSEovertime.append(day)\n",
        "        temp_RMSEovertime.append(day+startdata-21)\n",
        "        temp_RMSEovertime.append(mean_absolute_percentage_error(np.cumsum(dailyAdmissions[:day+startdata+21])[-21:],np.cumsum(modelfunction(t_MAPE2,*MAPE_popt))[-21:]))\n",
        "        \n",
        "        #Appends matrix of all MAP vallues\n",
        "        RMSEovertime.append(temp_RMSEovertime)\n",
        "        \n",
        "         # write the data\n",
        "        writer.writerow(temp_RMSEovertime)"
      ]
    },
    {
      "cell_type": "code",
      "execution_count": null,
      "metadata": {},
      "outputs": [],
      "source": [
        "numBetas = 50 #number of betas used for normal dist for conf. intervalls\n",
        "numEpsilon = 500\n",
        "alpha = 0.05\n",
        "ISalpha_score = []\n",
        "\n",
        "header = ['Idex', 'Fitting points', 'ISalpha'] #header for csv file\n",
        "\n",
        "\n",
        "with open('SIR_ISalpha_daily.csv', 'w', encoding='UTF8', newline='') as f:\n",
        "    writer = csv.writer(f)\n",
        "\n",
        "    # write the header\n",
        "    writer.writerow(header)\n",
        "\n",
        "    for day in range(len(dailyAdmissions)):\n",
        "            #breaks loop when reaching final value\n",
        "            if day+startdata+21 > len(dailyAdmissions):\n",
        "                break\n",
        "            t_ISalpha1 = np.linspace(0,day+startdata,day+startdata)       #used for fitting\n",
        "            t_ISalpha2 = np.linspace(0,day+startdata+21,day+startdata+21)     #used for residual calculation\n",
        "            \n",
        "            #curve fits model to fitting data\n",
        "            ISalpha_popt, ISalpha_pcov = curve_fit(modelfunction, t_ISalpha1, dailyAdmissions[:day+startdata], p0=[2.7,0.5])\n",
        "            \n",
        "            #calcuales standard deviation of residual between model and data using the fitting data + 3 weeks forward\n",
        "            std_residual_ISalpha = np.std(modelfunction(t_ISalpha1,*ISalpha_popt)-dailyAdmissions[:day+startdata], ddof=2)\n",
        "            # Generates an array of betas using normal dist.\n",
        "            ISalpha_betas=np.random.multivariate_normal(ISalpha_popt,ISalpha_pcov,numBetas)  \n",
        "            \n",
        "            #Generates the prediction matrix for the prediction interval\n",
        "            predint_ISalpha = np.zeros([3,3])\n",
        "            \n",
        "            temp = []\n",
        "            pred_matrix = np.zeros((3,(numBetas*numEpsilon)))\n",
        "            for dayInInterval in range(3): #loops trough model values each week a adds the error values generated from t-dist to each prediction \n",
        "                for beta in range(len(ISalpha_betas)):\n",
        "                    temp =  np.add(np.cumsum(modelfunction(t_ISalpha2,*ISalpha_betas[beta]))[day+startdata+dayInInterval],tdist.rvs(dayInInterval+startdata+3,0,std_residual_ISalpha,numEpsilon))\n",
        "                    pred_matrix[dayInInterval,(beta*numEpsilon):(beta*numEpsilon+numEpsilon)] = temp\n",
        "\n",
        "            for dayInInterval in range(3): #calculates the prediction intervals\n",
        "                predint_ISalpha[dayInInterval,0] = np.quantile(pred_matrix[dayInInterval],0.025)\n",
        "                predint_ISalpha[dayInInterval,1] = np.quantile(pred_matrix[dayInInterval],0.975)\n",
        "                predint_ISalpha[:,2] = np.cumsum(modelfunction(t_ISalpha2,*ISalpha_betas[beta]))[-21:]\n",
        "                \n",
        "            predint_ISalpha = np.clip(predint_ISalpha,0,None) #removes all negative values from lover prediction interval\n",
        "            \n",
        "            #predint_ISalpha now contains lower, upper and the model output (columms) for the 3 weeks (rows)\n",
        "            \n",
        "            temp_score = []\n",
        "\n",
        "            #calculates the score for each week of the 3 week interval and then avrages them\n",
        "            for dayInInterval,value in enumerate(predint_ISalpha):\n",
        "\n",
        "                u = predint_ISalpha[dayInInterval,0]\n",
        "                l = predint_ISalpha[dayInInterval,1]\n",
        "                y = predint_ISalpha[dayInInterval,2]\n",
        "\n",
        "                coeff1 = 1 if y < l else 0\n",
        "                coeff2 = 1 if y > u else 0\n",
        "\n",
        "                \n",
        "                temp_score.append((u-l)+2/alpha*(l-y)*coeff1+2/alpha*(y-u)*coeff2)\n",
        "\n",
        "            temp_ISalpha_score = [week+startdata, np.average(temp_score)]\n",
        "            ISalpha_score.append(temp_ISalpha_score)\n",
        "            \n",
        "            # write the data\n",
        "            writer.writerow(temp_ISalpha_score)"
      ]
    },
    {
      "cell_type": "markdown",
      "metadata": {
        "id": "9acQUL9UHZyX"
      },
      "source": [
        "Cell that seatches for a global minimum of the paramaters given using RMSE"
      ]
    },
    {
      "cell_type": "code",
      "execution_count": 9,
      "metadata": {},
      "outputs": [],
      "source": [
        "#VT global param search\n",
        "paramC0 = np.linspace(0,4,50)  #x-values\n",
        "paramC1 = np.linspace(0,1,50)  #y-values\n",
        "\n",
        "# #Google global param search\n",
        "# params.append(np.linspace(0,4,50)) \n",
        "# params.append(np.linspace(0,1,50))\n",
        "\n",
        "result = np.zeros((len(paramC0),len(paramC1)))\n",
        "for param1 in range(len(paramC0)):\n",
        "    for param0 in range(len(paramC1)):\n",
        "        result[param0,param1] = math.log(mean_squared_error(dailyAdmissions,modelfunction(t,paramC0[param0],paramC1[param1]), squared = False))\n",
        "\n",
        "\n",
        "\n",
        "#Calcualtes the log of RMSE for each point in parameter room\n",
        "# for input in inputs:\n",
        "#     result.append(math.log(mean_squared_error(dailyAdmissions,modelfunction(t,*input), squared = False)))"
      ]
    },
    {
      "cell_type": "code",
      "execution_count": 10,
      "metadata": {},
      "outputs": [
        {
          "data": {
            "application/vnd.plotly.v1+json": {
              "config": {
                "plotlyServerURL": "https://plot.ly"
              },
              "data": [
                {
                  "colorbar": {
                    "title": {
                      "side": "right",
                      "text": "Log RMSE"
                    }
                  },
                  "type": "contour",
                  "x": [
                    0,
                    0.08163265306122448,
                    0.16326530612244897,
                    0.24489795918367346,
                    0.32653061224489793,
                    0.4081632653061224,
                    0.4897959183673469,
                    0.5714285714285714,
                    0.6530612244897959,
                    0.7346938775510203,
                    0.8163265306122448,
                    0.8979591836734693,
                    0.9795918367346939,
                    1.0612244897959182,
                    1.1428571428571428,
                    1.2244897959183672,
                    1.3061224489795917,
                    1.3877551020408163,
                    1.4693877551020407,
                    1.5510204081632653,
                    1.6326530612244896,
                    1.7142857142857142,
                    1.7959183673469385,
                    1.8775510204081631,
                    1.9591836734693877,
                    2.0408163265306123,
                    2.1224489795918364,
                    2.204081632653061,
                    2.2857142857142856,
                    2.36734693877551,
                    2.4489795918367343,
                    2.530612244897959,
                    2.6122448979591835,
                    2.693877551020408,
                    2.7755102040816326,
                    2.8571428571428568,
                    2.9387755102040813,
                    3.020408163265306,
                    3.1020408163265305,
                    3.1836734693877546,
                    3.265306122448979,
                    3.346938775510204,
                    3.4285714285714284,
                    3.510204081632653,
                    3.591836734693877,
                    3.6734693877551017,
                    3.7551020408163263,
                    3.836734693877551,
                    3.9183673469387754,
                    4
                  ],
                  "y": [
                    0,
                    0.02040816326530612,
                    0.04081632653061224,
                    0.061224489795918366,
                    0.08163265306122448,
                    0.1020408163265306,
                    0.12244897959183673,
                    0.14285714285714285,
                    0.16326530612244897,
                    0.18367346938775508,
                    0.2040816326530612,
                    0.22448979591836732,
                    0.24489795918367346,
                    0.26530612244897955,
                    0.2857142857142857,
                    0.3061224489795918,
                    0.32653061224489793,
                    0.3469387755102041,
                    0.36734693877551017,
                    0.3877551020408163,
                    0.4081632653061224,
                    0.42857142857142855,
                    0.44897959183673464,
                    0.4693877551020408,
                    0.4897959183673469,
                    0.5102040816326531,
                    0.5306122448979591,
                    0.5510204081632653,
                    0.5714285714285714,
                    0.5918367346938775,
                    0.6122448979591836,
                    0.6326530612244897,
                    0.6530612244897959,
                    0.673469387755102,
                    0.6938775510204082,
                    0.7142857142857142,
                    0.7346938775510203,
                    0.7551020408163265,
                    0.7755102040816326,
                    0.7959183673469387,
                    0.8163265306122448,
                    0.836734693877551,
                    0.8571428571428571,
                    0.8775510204081632,
                    0.8979591836734693,
                    0.9183673469387754,
                    0.9387755102040816,
                    0.9591836734693877,
                    0.9795918367346939,
                    1
                  ],
                  "z": [
                    [
                      2.427503114672919,
                      2.4275026766552217,
                      2.4274992228445167,
                      2.427903236427352,
                      2.5143401638393756,
                      4.213875315292468,
                      6.081151048889712,
                      6.652923588125608,
                      6.790412466743699,
                      6.844992144734441,
                      6.874872112523882,
                      6.894357516138579,
                      6.907345303185894,
                      6.919180660214234,
                      6.924437705226851,
                      6.932723858308172,
                      6.9423754964853615,
                      6.94172660290462,
                      6.9387192381656355,
                      6.945537360604037,
                      6.959318573446362,
                      6.968383227756195,
                      6.967747565862751,
                      6.959959767517614,
                      6.949899869132201,
                      6.942428372275513,
                      6.941628134969143,
                      6.94929941803843,
                      6.963398109833862,
                      6.979048285437819,
                      6.991742748841058,
                      6.999387403438157,
                      7.002050070037266,
                      7.000815430525008,
                      6.996923661470035,
                      6.991398170402018,
                      6.984972349260944,
                      6.978134047930064,
                      6.9711951024402685,
                      6.964352656249053,
                      6.957735702033918,
                      6.951439314721007,
                      6.945550966068865,
                      6.940172685115704,
                      6.935441177298366,
                      6.931545723976876,
                      6.928740361302118,
                      6.927342868077945,
                      6.927710167203795,
                      6.9301814583673265
                    ],
                    [
                      2.427502216545793,
                      2.4274986970669734,
                      2.4274850752337573,
                      2.4346346300235475,
                      3.165831720790621,
                      5.409831269734179,
                      6.492079905509709,
                      6.739632482794987,
                      6.820073976184167,
                      6.859621653691385,
                      6.883571373510019,
                      6.900140958314301,
                      6.912042993048716,
                      6.921986785351046,
                      6.926460192387642,
                      6.936827677931967,
                      6.943462351314146,
                      6.9403152871565785,
                      6.93967379375511,
                      6.949893445222963,
                      6.96330999389786,
                      6.969295781206759,
                      6.965853922050213,
                      6.956765014955554,
                      6.947011227644064,
                      6.941288256037516,
                      6.943160345763677,
                      6.953293446469517,
                      6.968471117991111,
                      6.9835774160170585,
                      6.994773470514878,
                      7.000758084246022,
                      7.002046425322264,
                      6.999840728311911,
                      6.995333905700822,
                      6.989456748388214,
                      6.982857427023918,
                      6.9759603646632495,
                      6.969034965925147,
                      6.962252290967502,
                      6.955727225556279,
                      6.94954970369495,
                      6.943809342210857,
                      6.938616786586192,
                      6.93412327892079,
                      6.930537322377621,
                      6.928133730164804,
                      6.9272464617323415,
                      6.92823464233749,
                      6.931415266338575
                    ],
                    [
                      2.427448884216552,
                      2.427459989645118,
                      2.4277764720582353,
                      2.5721798355649867,
                      4.51305441201694,
                      6.198569413347028,
                      6.662052068443795,
                      6.786610336785053,
                      6.840482104577346,
                      6.871036961751385,
                      6.8910004611751745,
                      6.904821615300376,
                      6.916631357508747,
                      6.923730035424524,
                      6.929431320359667,
                      6.940421626021545,
                      6.943247699993083,
                      6.939173606601341,
                      6.941944289346486,
                      6.954615081044213,
                      6.966432931586434,
                      6.969167904666678,
                      6.96335481405987,
                      6.953493009766559,
                      6.944535308530994,
                      6.940942180040166,
                      6.945566719454341,
                      6.9578187629278565,
                      6.973528791878685,
                      6.9876927257601045,
                      6.99726537927386,
                      7.001650824249095,
                      7.0016912386673775,
                      6.998636535814157,
                      6.993608575729959,
                      6.9874445911114345,
                      6.980713961137269,
                      6.973784759850595,
                      6.966889685599796,
                      6.960177929171615,
                      6.953753364152323,
                      6.947703208951865,
                      6.942121314800095,
                      6.937128866227308,
                      6.932893296687048,
                      6.929643272680763,
                      6.927673789062644,
                      6.927331768237815,
                      6.928972010311947,
                      6.932880071472868
                    ],
                    [
                      2.473962344813039,
                      2.4270896860360547,
                      2.4464043493914516,
                      3.6114831309798228,
                      5.726208235687591,
                      6.541021633325674,
                      6.74086661120019,
                      6.816123162969876,
                      6.855572389033645,
                      6.880157917596381,
                      6.897397440040401,
                      6.909142528803455,
                      6.92044617796852,
                      6.925136790878074,
                      6.933260449470501,
                      6.94288834225833,
                      6.942117529445178,
                      6.938842309880218,
                      6.945409987952363,
                      6.959215941860061,
                      6.968517722456214,
                      6.968108542488466,
                      6.960422382037907,
                      6.9503071841891675,
                      6.942613007108868,
                      6.941459501977505,
                      6.948780984632822,
                      6.9627049462984445,
                      6.978416109568288,
                      6.991326383360041,
                      6.999223980841569,
                      7.002103147208813,
                      7.001025580465871,
                      6.997236047813798,
                      6.991771164873007,
                      6.985377187895059,
                      6.978551771469042,
                      6.971613376717032,
                      6.9647632160898185,
                      6.958132416115574,
                      6.951816671329259,
                      6.945902773467272,
                      6.940490833802417,
                      6.935714437674532,
                      6.93175871084358,
                      6.928873059557724,
                      6.927371349309326,
                      6.927609259852666,
                      6.929929751954012,
                      6.934577303493382
                    ],
                    [
                      5.68717680665386,
                      2.4289113632269848,
                      3.001611823784849,
                      5.15985229420692,
                      6.362218594767894,
                      6.678619291029097,
                      6.785006210556132,
                      6.836671963657655,
                      6.8673554714077465,
                      6.887712572344016,
                      6.9025731587716965,
                      6.913633881285815,
                      6.923022813459983,
                      6.927055401943271,
                      6.937355982793573,
                      6.94394908250969,
                      6.940631528550558,
                      6.939696703115633,
                      6.949738030252555,
                      6.963272251926952,
                      6.969513048604715,
                      6.9662639158097335,
                      6.9572281276977455,
                      6.947365538101287,
                      6.9413700428131895,
                      6.942870848712739,
                      6.952693813513139,
                      6.967773207911841,
                      6.983002806757083,
                      6.994438013155423,
                      7.000669221498149,
                      7.002155873501784,
                      7.000088644585475,
                      6.995669317768594,
                      6.989842369966272,
                      6.983267979889668,
                      6.976379316131393,
                      6.969451522549248,
                      6.962659055481577,
                      6.956118421167726,
                      6.949919749684422,
                      6.944151587782102,
                      6.938922282124997,
                      6.934379600028079,
                      6.930727655513533,
                      6.9282366910372,
                      6.927237343878433,
                      6.928088803488301,
                      6.931113777092801,
                      6.936505978117436
                    ],
                    [
                      6.098234520385437,
                      2.9497859638779067,
                      4.7731821464300905,
                      6.153767252291118,
                      6.599106490480633,
                      6.745882308306172,
                      6.813515543230041,
                      6.852020503885236,
                      6.876919355095509,
                      6.894377680951681,
                      6.906791283238412,
                      6.918047241135247,
                      6.924557152321612,
                      6.92997477691516,
                      6.940943073621616,
                      6.943694516697139,
                      6.939399740123824,
                      6.941879727560967,
                      6.954467000278376,
                      6.966474707759189,
                      6.969460288523896,
                      6.963798927601233,
                      6.953939857148546,
                      6.944819357639244,
                      6.940910145641168,
                      6.94516254759184,
                      6.957160688606106,
                      6.97284956449669,
                      6.987187372003377,
                      6.997011142964602,
                      7.001631311373469,
                      7.001850876182924,
                      6.998917046577236,
                      6.993963270975355,
                      6.98784032214637,
                      6.981128590831849,
                      6.974203877781661,
                      6.967303804013263,
                      6.9605803423846515,
                      6.954138509653192,
                      6.948065313672395,
                      6.942453146452662,
                      6.937420519156186,
                      6.933131060735275,
                      6.929808887481675,
                      6.927744612995496,
                      6.927282638617574,
                      6.928779365457015,
                      6.932528148991666,
                      6.938662524201467
                    ],
                    [
                      6.323347292063379,
                      5.086746969339188,
                      6.0508219540993,
                      6.517070797399242,
                      6.699660570545703,
                      6.785681697652188,
                      6.833749115145669,
                      6.864015496346137,
                      6.884728315709895,
                      6.900165457795645,
                      6.910827658126262,
                      6.921659873725786,
                      6.925806676063606,
                      6.933784986658722,
                      6.943396316977675,
                      6.942508315721683,
                      6.938968420498548,
                      6.945282479413097,
                      6.95910716572845,
                      6.968644669772441,
                      6.968464779042507,
                      6.96088497309061,
                      6.950720605573017,
                      6.942810432920707,
                      6.941307145036067,
                      6.948274613188829,
                      6.96201339594018,
                      6.977775959085228,
                      6.990897853692104,
                      6.999048873341964,
                      7.002147107862418,
                      7.001229429699076,
                      6.997544435763126,
                      6.992141824393778,
                      6.985780826376841,
                      6.978969053724534,
                      6.972031730262845,
                      6.965174245407855,
                      6.958529945460299,
                      6.952195217864988,
                      6.946256249766804,
                      6.940811310726319,
                      6.935990939258733,
                      6.931976166415945,
                      6.92901176710094,
                      6.927407584693805,
                      6.927517807994197,
                      6.929688729814111,
                      6.934174800764292,
                      6.941040672653322
                    ],
                    [
                      6.460862037591371,
                      6.242352801507865,
                      6.477307142334702,
                      6.653465231948615,
                      6.753981854869815,
                      6.812395922846468,
                      6.84905248990151,
                      6.873809298245697,
                      6.891392215685438,
                      6.904802551640414,
                      6.915149044863224,
                      6.924015401311883,
                      6.927628914933105,
                      6.937875501482951,
                      6.94443258639951,
                      6.940949092578713,
                      6.939722440361721,
                      6.949580352614855,
                      6.963227276635163,
                      6.9697233638552945,
                      6.966670532324693,
                      6.957693030091691,
                      6.947728139952989,
                      6.941466338804507,
                      6.942597225212297,
                      6.952103297168141,
                      6.967073431370485,
                      6.98241825471979,
                      6.994090157287057,
                      7.000569375008831,
                      7.002257127167579,
                      7.000331059882766,
                      6.996001326251053,
                      6.990226067359137,
                      6.98367760642808,
                      6.9767980108978485,
                      6.9698682909719984,
                      6.9630663985581025,
                      6.95651054140439,
                      6.95029112005706,
                      6.94449568214468,
                      6.939230354567554,
                      6.934639505598583,
                      6.93092290216696,
                      6.928346191275921,
                      6.9272365290149684,
                      6.927952869736454,
                      6.930823190149389,
                      6.936053299236801,
                      6.943631419152815
                    ],
                    [
                      6.553115344592701,
                      6.523963692199663,
                      6.624329890270407,
                      6.722133210285564,
                      6.788524658968797,
                      6.831848794833647,
                      6.861150815623876,
                      6.881975853782307,
                      6.8974459857674,
                      6.9086163160855,
                      6.919406238564486,
                      6.925348859859776,
                      6.930502487572925,
                      6.941458058769752,
                      6.944139670566816,
                      6.939628351657568,
                      6.941816937765238,
                      6.954314576278711,
                      6.966508792019584,
                      6.969746644705141,
                      6.964241172569623,
                      6.95439044943717,
                      6.945113880840853,
                      6.940893839920744,
                      6.944772954429736,
                      6.956508327488016,
                      6.972165329567114,
                      6.986670714302605,
                      6.996744668918343,
                      7.001601647040804,
                      7.0020032231933715,
                      6.999192794139281,
                      6.994315094773224,
                      6.988234489884744,
                      6.981542534985593,
                      6.9746229033161695,
                      6.967718256235589,
                      6.960983440894504,
                      6.954524694652797,
                      6.948428887056049,
                      6.942787028762328,
                      6.937715031824427,
                      6.933372788521802,
                      6.929979890541602,
                      6.927822515818975,
                      6.92724234881645,
                      6.928597022223369,
                      6.932187237904033,
                      6.938160658904934,
                      6.946423067035713
                    ],
                    [
                      6.619174070598579,
                      6.63045472837845,
                      6.69819873596004,
                      6.764262174965984,
                      6.812816453908852,
                      6.846805964377732,
                      6.870993595829477,
                      6.888743822598559,
                      6.902703979030606,
                      6.912416111208965,
                      6.922826056608116,
                      6.926449063745286,
                      6.934298131059464,
                      6.943899618404577,
                      6.942898980818455,
                      6.939097610702331,
                      6.94515499070534,
                      6.958992333534412,
                      6.968764034672863,
                      6.968816151624293,
                      6.961347341678805,
                      6.951139855962053,
                      6.943020390196033,
                      6.941171057136551,
                      6.947780672531233,
                      6.96132396730628,
                      6.977128160923292,
                      6.990457225176572,
                      6.998861992026944,
                      7.002181815358613,
                      7.001426853112904,
                      6.99784873114064,
                      6.99251008342498,
                      6.98618321897384,
                      6.979385862573513,
                      6.972450138989046,
                      6.965585722895416,
                      6.958928266040232,
                      6.9525749267873636,
                      6.946611355190204,
                      6.941134058496727,
                      6.936270608537186,
                      6.932197992976907,
                      6.929156363008464,
                      6.927451450783011,
                      6.927435697605776,
                      6.929458339054578,
                      6.933783301446035,
                      6.940491214784222,
                      6.949401335518118
                    ],
                    [
                      6.668660812391113,
                      6.692046165938673,
                      6.7440302718095415,
                      6.7932640299832885,
                      6.83105462218343,
                      6.858791585315841,
                      6.8793321964225775,
                      6.89470632600473,
                      6.906855631210601,
                      6.916598173456614,
                      6.9249674008480655,
                      6.928181959147564,
                      6.938386677988271,
                      6.944912975173809,
                      6.941267980207788,
                      6.939751087181413,
                      6.949420569285761,
                      6.963175120781234,
                      6.969926656299999,
                      6.9670736251953125,
                      6.95815949647763,
                      6.948098743341046,
                      6.941576936800442,
                      6.9423395906750205,
                      6.951522351126212,
                      6.966372263892377,
                      6.9818239996254645,
                      6.993729904825087,
                      7.000458429411306,
                      7.002350050283055,
                      7.00056785988648,
                      6.996329846424237,
                      6.990607781608091,
                      6.984086265944929,
                      6.977216419898624,
                      6.970285248317479,
                      6.963474298952679,
                      6.956903563286147,
                      6.950663782340424,
                      6.944841583648573,
                      6.939540949988509,
                      6.934902916421593,
                      6.931122959417887,
                      6.928462103233768,
                      6.927243897693423,
                      6.927826746398061,
                      6.930543465941419,
                      6.935611490418555,
                      6.94303657224594,
                      6.952549581889596
                    ],
                    [
                      6.7070241583491095,
                      6.7337927245815425,
                      6.77585310654974,
                      6.814726177295773,
                      6.845390826768905,
                      6.868638951018384,
                      6.886393528869351,
                      6.900260236337465,
                      6.9103152617900845,
                      6.920714137451666,
                      6.92610719928356,
                      6.931015321370535,
                      6.941966871110022,
                      6.944583213987328,
                      6.9398594497514585,
                      6.941756044352676,
                      6.954157938753414,
                      6.966535192703464,
                      6.970026876123336,
                      6.964681379155213,
                      6.954844535100057,
                      6.9454185910014505,
                      6.940893135251313,
                      6.944398180374278,
                      6.9558621805342815,
                      6.9714765045853175,
                      6.986142905161817,
                      6.996465909785189,
                      7.0015617006989865,
                      7.002148149047782,
                      6.999463673415899,
                      6.994663969713865,
                      6.988627041872551,
                      6.981955757278423,
                      6.975041809758582,
                      6.968133020333841,
                      6.961387203142054,
                      6.9549118946241135,
                      6.94879389607961,
                      6.943122913923347,
                      6.938012338509052,
                      6.933618393650085,
                      6.930156174665345,
                      6.927907374958707,
                      6.92721077648115,
                      6.928424900554332,
                      6.931857322494427,
                      6.937669398433849,
                      6.945785612661271,
                      6.95584905270542
                    ],
                    [
                      6.737564831816129,
                      6.764418050991232,
                      6.79952988023079,
                      6.831409517182688,
                      6.857021896400521,
                      6.8769174136578775,
                      6.892317442189828,
                      6.905044346394092,
                      6.91392065869278,
                      6.92394829531362,
                      6.927065460993123,
                      6.9348004839961686,
                      6.944398426478542,
                      6.943289538183719,
                      6.939229914663967,
                      6.94502767435391,
                      6.958871550431602,
                      6.968875781877182,
                      6.969162539506532,
                      6.961809292938774,
                      6.951564661061957,
                      6.943242614427912,
                      6.941051214787133,
                      6.947299517655501,
                      6.960637169979708,
                      6.97647305179485,
                      6.990004573928926,
                      6.99866324802827,
                      7.002207136984579,
                      7.001617726725021,
                      6.998148838731625,
                      6.992875874414664,
                      6.986584319106502,
                      6.979802165443925,
                      6.972868578343857,
                      6.965997627221374,
                      6.9593273571792045,
                      6.952955768734636,
                      6.946968053139185,
                      6.941459029701525,
                      6.936553372321832,
                      6.932424095746625,
                      6.929306735239425,
                      6.927502826496933,
                      6.927362821088177,
                      6.929238508732659,
                      6.93340281676256,
                      6.939951962282729,
                      6.948724623008965,
                      6.959279250588677
                    ],
                    [
                      6.762407971267565,
                      6.788039786887615,
                      6.817990857419093,
                      6.84484537905954,
                      6.86674868761305,
                      6.8841483846120415,
                      6.897725651253563,
                      6.908753228225608,
                      6.917989304520607,
                      6.92588123533338,
                      6.92871563945873,
                      6.93888991805631,
                      6.945390350708054,
                      6.9415881884109405,
                      6.939782720351425,
                      6.949258837835832,
                      6.96311583716666,
                      6.970122858704243,
                      6.967473051345853,
                      6.958627305543115,
                      6.948477059959159,
                      6.941701620446935,
                      6.942098043142537,
                      6.95095141722816,
                      6.965670190078115,
                      6.98122029159774,
                      6.99335726599683,
                      7.0003362744530175,
                      7.002434507232199,
                      7.000798928733236,
                      6.996654792764337,
                      6.990987452561793,
                      6.984493917091549,
                      6.977634513705731,
                      6.970702371560021,
                      6.963882736483296,
                      6.957297461657626,
                      6.951037707329263,
                      6.945189250596493,
                      6.939854006865058,
                      6.935169756810328,
                      6.9313277268585605,
                      6.928584309599414,
                      6.927259322730385,
                      6.927710333748636,
                      6.930274559735944,
                      6.9351805913952305,
                      6.942451393103772,
                      6.951837454332352,
                      6.962818271519823
                    ],
                    [
                      6.782983388865564,
                      6.8069162945176585,
                      6.832881297969543,
                      6.855956002059817,
                      6.874942902525855,
                      6.890299504799433,
                      6.902860847837404,
                      6.911903506439318,
                      6.9219757272572915,
                      6.926833957455117,
                      6.93151406909762,
                      6.942469775756213,
                      6.945025191818941,
                      6.940093035018519,
                      6.941697167378895,
                      6.953997231981962,
                      6.9665539171308755,
                      6.970300888434779,
                      6.965119381259739,
                      6.955301866630377,
                      6.945733198847531,
                      6.940907891322916,
                      6.944038449187974,
                      6.955222746050757,
                      6.970783514856069,
                      6.985604109478844,
                      6.9961748208598715,
                      7.001511348298759,
                      7.00228552130025,
                      6.999729577855914,
                      6.995009819715599,
                      6.989017924839235,
                      6.98236822084017,
                      6.9754605705928165,
                      6.968548074508111,
                      6.961791609353048,
                      6.955300082378777,
                      6.949160307785607,
                      6.943460757878421,
                      6.938312374667057,
                      6.933867787655268,
                      6.930337629945229,
                      6.9279990702762895,
                      6.927187804238703,
                      6.928262913912538,
                      6.931538381720911,
                      6.937188812080862,
                      6.945157168226978,
                      6.955105816100163,
                      6.966443257147912
                    ],
                    [
                      6.800286334293681,
                      6.822406616784393,
                      6.8451990234910385,
                      6.8653359304849655,
                      6.882054079836679,
                      6.8955327545652665,
                      6.907210245448511,
                      6.915352071905115,
                      6.925029574419002,
                      6.927657217879519,
                      6.935292595745875,
                      6.944892906788481,
                      6.943679996194234,
                      6.939365363087227,
                      6.944900681341642,
                      6.9587449170834725,
                      6.968979879984218,
                      6.969503824972472,
                      6.962270636065041,
                      6.951994750138801,
                      6.943476836296789,
                      6.940947578863842,
                      6.946831488048328,
                      6.95995351706115,
                      6.97581098115401,
                      6.989539985417425,
                      6.998452559280097,
                      7.002222935460103,
                      7.001801925011246,
                      6.998444661578388,
                      6.993239128676209,
                      6.9869840795245235,
                      6.9802179293032385,
                      6.973287023526089,
                      6.966409938064548,
                      6.95972719507679,
                      6.953337717682778,
                      6.94732630710347,
                      6.941786169914591,
                      6.936839162656567,
                      6.932654382746725,
                      6.929462768638268,
                      6.927561582882503,
                      6.927299066406779,
                      6.929029170973711,
                      6.933033351888361,
                      6.939423013582828,
                      6.948056139330023,
                      6.958509542804351,
                      6.970130814740096
                    ],
                    [
                      6.815028813781851,
                      6.835382954445059,
                      6.8556126468582415,
                      6.873427015964075,
                      6.888407015063529,
                      6.900503726562369,
                      6.910512223222797,
                      6.919329181834648,
                      6.926758991839028,
                      6.929230959854737,
                      6.939385594929847,
                      6.945864802598598,
                      6.941909708653568,
                      6.939817413977719,
                      6.949095316904124,
                      6.963049482980992,
                      6.970311906674332,
                      6.967868671022162,
                      6.9590962405354935,
                      6.9488628027374615,
                      6.941840165345517,
                      6.941872662074512,
                      6.950390929795703,
                      6.9649676979010104,
                      6.980607394029177,
                      6.992972260599902,
                      7.000202804183392,
                      7.002510361967717,
                      7.001024149265288,
                      6.996976077270138,
                      6.991365019168359,
                      6.984900517849103,
                      6.9780522625176085,
                      6.971119638487715,
                      6.964291688258961,
                      6.957692214130759,
                      6.951412865826094,
                      6.94553864287099,
                      6.940169469416004,
                      6.935439946319005,
                      6.931537103637051,
                      6.928712696890179,
                      6.927282684059528,
                      6.927603529001763,
                      6.9300164219279985,
                      6.934760635442471,
                      6.9418760142775575,
                      6.951132674752767,
                      6.962027015845511,
                      6.973857450082411
                    ],
                    [
                      6.827732736398452,
                      6.846442909658635,
                      6.864518695829235,
                      6.880358312041686,
                      6.89378445258628,
                      6.905277970043968,
                      6.913394116405075,
                      6.92319499993714,
                      6.927530718244128,
                      6.931999454713107,
                      6.942967018301997,
                      6.945465643576538,
                      6.940329108029676,
                      6.9416404257609665,
                      6.953832595573967,
                      6.9665649772426095,
                      6.970568590155067,
                      6.965555016901722,
                      6.955762199584029,
                      6.9460574151965515,
                      6.940937955490101,
                      6.943693967309966,
                      6.954590515064715,
                      6.970086796125702,
                      6.985054504518869,
                      6.995871366039605,
                      7.001450461182549,
                      7.002415207151222,
                      6.9999903998484845,
                      6.995352566410183,
                      6.98940708340794,
                      6.982779888781831,
                      6.9758791585944815,
                      6.968963397648308,
                      6.962196635170597,
                      6.955689235072467,
                      6.949528089790551,
                      6.9438005119744926,
                      6.938615078518025,
                      6.93412088708755,
                      6.93052414942786,
                      6.928097476194967,
                      6.927173313804188,
                      6.928110972495146,
                      6.931230389061903,
                      6.936718962536213,
                      6.94453788993006,
                      6.9543689406265266,
                      6.965635552066236,
                      6.97759998446803
                    ],
                    [
                      6.838791576377917,
                      6.85598276418127,
                      6.872304134532028,
                      6.886585493288945,
                      6.898454320042807,
                      6.909219969406823,
                      6.916719564892222,
                      6.9260724172360675,
                      6.928225555021822,
                      6.935774973644675,
                      6.945383210202938,
                      6.944070359641226,
                      6.939503983396389,
                      6.944774161342627,
                      6.958612538918925,
                      6.969076300760325,
                      6.969839893272155,
                      6.962731184694732,
                      6.95242985491343,
                      6.943722783212355,
                      6.940860094931038,
                      6.946376908712942,
                      6.959273519844177,
                      6.975142310246214,
                      6.989063558030316,
                      6.998229855187429,
                      7.002229076915562,
                      7.001979321401521,
                      6.998736102042609,
                      6.993599776428661,
                      6.987382452146563,
                      6.980633120791694,
                      6.973705450466223,
                      6.966822632339146,
                      6.960127758836405,
                      6.953720747385751,
                      6.947686081440918,
                      6.9421154299350825,
                      6.937127909085727,
                      6.932888762760663,
                      6.9296243555348385,
                      6.927627600311333,
                      6.927244319725907,
                      6.928830252162446,
                      6.932674906024896,
                      6.938904465928935,
                      6.94739606615649,
                      6.957745146350546,
                      6.969311839866571,
                      6.981335939587659
                    ],
                    [
                      6.848498420483654,
                      6.8643415309898845,
                      6.879139724313408,
                      6.892209960127443,
                      6.903081763644324,
                      6.912146693942011,
                      6.920623502566765,
                      6.927602484855376,
                      6.92972883870623,
                      6.939874052597929,
                      6.946336416534518,
                      6.9422325313905064,
                      6.939855236909502,
                      6.948930165115245,
                      6.962976118809343,
                      6.970493738169643,
                      6.968260347909289,
                      6.959566087835924,
                      6.949255687443764,
                      6.941992339352456,
                      6.94166351079875,
                      6.949841309605654,
                      6.9642652817913655,
                      6.979985582846839,
                      6.99257491244813,
                      7.000057909384538,
                      7.002577478383799,
                      7.001243403079177,
                      6.997293611612083,
                      6.991740419154244,
                      6.985306025510887,
                      6.978469636732477,
                      6.971537024050596,
                      6.964701134720546,
                      6.958087798393093,
                      6.951789228546534,
                      6.945889720802301,
                      6.940487282909403,
                      6.935713410069031,
                      6.931750990490723,
                      6.928847143428298,
                      6.92731385824831,
                      6.927506227149648,
                      6.929768998187206,
                      6.934351649488901,
                      6.941310557294823,
                      6.950435437883376,
                      6.961239967744943,
                      6.973032371905452,
                      6.9850438690929595
                    ],
                    [
                      6.857085284897033,
                      6.871660706349163,
                      6.885090363977888,
                      6.896916493913473,
                      6.907534250506256,
                      6.914798410103836,
                      6.924375303922338,
                      6.9281988988565475,
                      6.93247214649046,
                      6.943458824248767,
                      6.945904602740961,
                      6.940567663572303,
                      6.941585933615379,
                      6.953664172523563,
                      6.966568387939811,
                      6.970829892341384,
                      6.965988126461753,
                      6.956225295444078,
                      6.946390950669846,
                      6.940983163644177,
                      6.943364923340536,
                      6.953965973467459,
                      6.969386793199492,
                      6.984494279907182,
                      6.995555521295683,
                      7.001378916859954,
                      7.002537073112907,
                      7.000246030100534,
                      6.995692129893947,
                      6.989794464868972,
                      6.983190723778594,
                      6.976297546884931,
                      6.969378965911389,
                      6.9626022610727745,
                      6.956079328282518,
                      6.949897210686216,
                      6.944142135740226,
                      6.938920388742462,
                      6.934377609246252,
                      6.930715633103976,
                      6.928202474452267,
                      6.9271671843896,
                      6.927968983402828,
                      6.930933312649497,
                      6.936259905940859,
                      6.943927928365799,
                      6.953638650143063,
                      6.964830920013983,
                      6.976773866641202,
                      6.988703689967222
                    ],
                    [
                      6.864745992403052,
                      6.878273380110845,
                      6.890638472922356,
                      6.901133744874962,
                      6.911087973121257,
                      6.918031106487032,
                      6.927078968870767,
                      6.9287715853778815,
                      6.936248087000409,
                      6.9458694771015255,
                      6.9444606292926965,
                      6.939645797515385,
                      6.944648262144616,
                      6.958474524172868,
                      6.969165018243954,
                      6.970170632484701,
                      6.963190755794322,
                      6.952869712163229,
                      6.943980178255234,
                      6.940788692668507,
                      6.945936088401742,
                      6.958597689909434,
                      6.974467411895913,
                      6.988575395450429,
                      6.997995058877292,
                      7.0022254298099025,
                      7.002149788293144,
                      6.999023059693981,
                      6.993957746710048,
                      6.987779388078674,
                      6.9810477073037545,
                      6.974123832225107,
                      6.967235689870563,
                      6.96052902712908,
                      6.9541048317419465,
                      6.948047341391865,
                      6.942446761657851,
                      6.93741954419001,
                      6.933127145592713,
                      6.929791382207365,
                      6.927700754977379,
                      6.927198465407652,
                      6.9286416747157515,
                      6.932327472425648,
                      6.938396396611547,
                      6.946744568719667,
                      6.956986298058023,
                      6.968494793551277,
                      6.980513657854061,
                      6.992296868974601
                    ],
                    [
                      6.871604235719916,
                      6.884094870363078,
                      6.89562858831403,
                      6.905491703802608,
                      6.9136686990896346,
                      6.921877112230319,
                      6.928413310503003,
                      6.930210122643623,
                      6.9403556120092675,
                      6.946805268622804,
                      6.942556641963747,
                      6.9398962545188985,
                      6.948763541175687,
                      6.962895808859073,
                      6.970668295572335,
                      6.968647948503365,
                      6.960036639704372,
                      6.949655430565316,
                      6.942157902873322,
                      6.941470633861719,
                      6.949302966378658,
                      6.963563441058532,
                      6.979355148728494,
                      6.992165263558877,
                      6.999901489278242,
                      7.002635720351683,
                      7.001456570436155,
                      6.997607305828737,
                      6.9921135894034805,
                      6.985710398665221,
                      6.978886605790102,
                      6.971954504381811,
                      6.965111054121398,
                      6.958484191794453,
                      6.952166767989595,
                      6.946242445728594,
                      6.940807393092228,
                      6.935990074201049,
                      6.93196929506242,
                      6.928987536142542,
                      6.927352721878338,
                      6.927418320949998,
                      6.929532229639389,
                      6.9339536541760065,
                      6.940755137993614,
                      6.949745955562833,
                      6.960457374146862,
                      6.972208088888224,
                      6.984230044448375,
                      6.99580663779679
                    ],
                    [
                      6.877761698491596,
                      6.889289825128298,
                      6.899749636959182,
                      6.909646748974042,
                      6.916126352363678,
                      6.925519457358903,
                      6.928839779968262,
                      6.932932763347686,
                      6.943945404615316,
                      6.946342098636117,
                      6.94080869305206,
                      6.941533802233888,
                      6.953492107505825,
                      6.966564168662375,
                      6.971084709681735,
                      6.966418555508702,
                      6.956690917693947,
                      6.946733514886006,
                      6.941043340509524,
                      6.943051487272017,
                      6.9533496003180275,
                      6.968683959801828,
                      6.983923634389528,
                      6.995227261445974,
                      7.001296592789211,
                      7.002650985079827,
                      7.0004963586599755,
                      6.996028429705582,
                      6.990180014019198,
                      6.983600684106455,
                      6.9767157049088215,
                      6.969794757853848,
                      6.963008466712888,
                      6.956470338231578,
                      6.950267639476762,
                      6.944485585177627,
                      6.939228245520637,
                      6.934637872958175,
                      6.9309119743196606,
                      6.928313944462458,
                      6.927169293871916,
                      6.927836850731748,
                      6.930647115402324,
                      6.935811697261701,
                      6.9433274270187,
                      6.952915163782498,
                      6.964029612834983,
                      6.975947439785082,
                      6.987902624742073,
                      6.999218105913917
                    ],
                    [
                      6.883464529787536,
                      6.894301578514718,
                      6.903613243564854,
                      6.912825979640635,
                      6.91929364103234,
                      6.928051068205001,
                      6.929296331753691,
                      6.936712373075239,
                      6.946351837857045,
                      6.944850802667354,
                      6.939790824657463,
                      6.944523129586385,
                      6.958330984286131,
                      6.969246011954659,
                      6.970495933897673,
                      6.963649169871473,
                      6.953314060345467,
                      6.94424874230134,
                      6.940733287561661,
                      6.945509319714067,
                      6.957926537843022,
                      6.97378667028644,
                      6.988075622347547,
                      6.997748105691824,
                      7.002211860969719,
                      7.002313197088767,
                      6.999305434024482,
                      6.994312967851956,
                      6.988174839749224,
                      6.981461650994449,
                      6.9745421426415675,
                      6.9676490891718705,
                      6.960930978394853,
                      6.954489944921971,
                      6.948410052750676,
                      6.94278011727494,
                      6.93771400223737,
                      6.9333694446268765,
                      6.929963738773877,
                      6.9277809241755355,
                      6.927161386723788,
                      6.92846335742293,
                      6.9319910385757,
                      6.937898889159917,
                      6.946101839953706,
                      6.956233234672238,
                      6.9676799281010275,
                      6.979690011671296,
                      6.991512499757996,
                      7.0025183276685254
                    ],
                    [
                      6.888442621945487,
                      6.8987146907725325,
                      6.907758240753188,
                      6.915088832771795,
                      6.923094139678184,
                      6.929192882118954,
                      6.930675597874723,
                      6.940830571957962,
                      6.9472714286331385,
                      6.94288202356479,
                      6.939940528139717,
                      6.9485956039013415,
                      6.962808619467825,
                      6.970835522665119,
                      6.969031342026198,
                      6.960507690709728,
                      6.9500617523988195,
                      6.942336610019833,
                      6.941294060158197,
                      6.9487762972280045,
                      6.9628626787783165,
                      6.978716387093184,
                      6.9917433565357205,
                      6.999733445594479,
                      7.002684951805905,
                      7.001663530658112,
                      6.997917068861681,
                      6.992484464652151,
                      6.986113589201327,
                      6.9793031365343765,
                      6.972372059861896,
                      6.965521426612531,
                      6.958881372518254,
                      6.952545456050064,
                      6.946596779862339,
                      6.941129747163539,
                      6.936269864806136,
                      6.9321919190831585,
                      6.929133758991741,
                      6.92739915211364,
                      6.9273397010935875,
                      6.929306053003434,
                      6.933566663881177,
                      6.940209865481377,
                      6.949064405544078,
                      6.959679480135667,
                      6.9713848495373325,
                      6.983413861834857,
                      6.995042501213038,
                      7.005696323646287
                    ],
                    [
                      6.893070760845606,
                      6.902328907211587,
                      6.911628331741585,
                      6.917386830420623,
                      6.926629838116228,
                      6.929454527531734,
                      6.9333818830531015,
                      6.9444269562191865,
                      6.946778156583184,
                      6.941052185644417,
                      6.941484139081878,
                      6.953316546633037,
                      6.96655234086946,
                      6.971332958498043,
                      6.966846151355831,
                      6.957158835876131,
                      6.947084818942756,
                      6.94111830001756,
                      6.9427538122695704,
                      6.952741867085359,
                      6.9679787578851835,
                      6.9833427833036446,
                      6.994886573652258,
                      7.001203371355935,
                      7.00275680842267,
                      7.0007412725262546,
                      6.996361383060763,
                      6.990563668667297,
                      6.984009732335995,
                      6.977133609959451,
                      6.970210751775939,
                      6.963415230602685,
                      6.9568622414291745,
                      6.950639345875033,
                      6.94483081884737,
                      6.939538589644171,
                      6.93490160042861,
                      6.931113071894006,
                      6.928431766922182,
                      6.927179520521119,
                      6.927714475758993,
                      6.930371755146706,
                      6.935374368755905,
                      6.9427365152041745,
                      6.952198695267932,
                      6.9632318816864,
                      6.9751209449059175,
                      6.987098282921507,
                      6.998477314923674,
                      7.0087430577279495
                    ],
                    [
                      6.897635718721608,
                      6.905927731665693,
                      6.914443764478357,
                      6.920513251351856,
                      6.928990299807983,
                      6.929800739955491,
                      6.937168240010566,
                      6.946830413287254,
                      6.9452408746451475,
                      6.939939079384639,
                      6.944398907532612,
                      6.958182032815503,
                      6.969319262552912,
                      6.970815690766238,
                      6.964106252561815,
                      6.953762643290768,
                      6.944528193700031,
                      6.940693781309186,
                      6.9450968790167655,
                      6.9572605722062,
                      6.973100481467532,
                      6.9875643632663245,
                      6.997488934944596,
                      7.002188239096504,
                      7.0024694181526606,
                      6.999583122895976,
                      6.994665364452944,
                      6.988568752329254,
                      6.981874918612633,
                      6.974960359243348,
                      6.9680628093118235,
                      6.961333591696013,
                      6.954876062504125,
                      6.948774182174826,
                      6.943115448983166,
                      6.938011218452042,
                      6.933615572387459,
                      6.930141318660724,
                      6.927867985487891,
                      6.927132965589444,
                      6.928295215526722,
                      6.931665586324915,
                      6.9374120165244415,
                      6.945468042102293,
                      6.955486182452568,
                      6.966867496135915,
                      6.978865229107718,
                      6.990724019546743,
                      7.001803562341663,
                      7.01165136578589
                    ],
                    [
                      6.9015079270310045,
                      6.909900243628133,
                      6.916416595906764,
                      6.924278107123031,
                      6.929942464179535,
                      6.931125995003607,
                      6.941299211519865,
                      6.947734960990457,
                      6.943208656368309,
                      6.939988115079368,
                      6.948426511343405,
                      6.962714622373968,
                      6.970995366561676,
                      6.969410401593308,
                      6.960979041187425,
                      6.950474375460126,
                      6.942528208892519,
                      6.941133800176278,
                      6.948261686101345,
                      6.962163502563032,
                      6.978069615823188,
                      6.991309248142995,
                      6.999553682898005,
                      7.0027250368324605,
                      7.001864160546247,
                      6.998222806636907,
                      6.992852981972098,
                      6.986515554231991,
                      6.979719198716096,
                      6.972789662847865,
                      6.965932230690445,
                      6.959279318217148,
                      6.952925265835909,
                      6.946952686464268,
                      6.941454293427143,
                      6.936552713082551,
                      6.932418769807543,
                      6.929285698149856,
                      6.927453024193299,
                      6.927270256466067,
                      6.929090400745796,
                      6.93319068692212,
                      6.939674842285638,
                      6.948390984371964,
                      6.958906528816382,
                      6.970562902367709,
                      6.982595534719622,
                      6.994273510116903,
                      7.005009829698325,
                      7.014415867449732
                    ],
                    [
                      6.904693367895473,
                      6.913488726160478,
                      6.918587839249839,
                      6.927708454267557,
                      6.930044211967755,
                      6.933820044564664,
                      6.944903662402415,
                      6.9472127988067935,
                      6.941298126613119,
                      6.941437049189501,
                      6.9531376387204675,
                      6.9665329303156005,
                      6.971574558444881,
                      6.9672707660219055,
                      6.957628823081072,
                      6.947444574332303,
                      6.941207845803222,
                      6.942472033137537,
                      6.95214323708781,
                      6.967271658748496,
                      6.982751952069798,
                      6.994533451631398,
                      7.00109913468847,
                      7.002854406791116,
                      7.000980657255631,
                      6.99669090852804,
                      6.990945375208652,
                      6.984417828590238,
                      6.977551229004702,
                      6.970626925347229,
                      6.963822531428464,
                      6.957255015105562,
                      6.9510123005359565,
                      6.945177794712956,
                      6.9398513652698925,
                      6.935168712793466,
                      6.931318825486521,
                      6.9285558233208375,
                      6.927197741741282,
                      6.927601757192478,
                      6.930107184798007,
                      6.934947962469506,
                      6.942155341822735,
                      6.95148945639153,
                      6.962437976881433,
                      6.97429462256596,
                      6.98629086011619,
                      6.997731020814027,
                      7.008086656333574,
                      7.017032854106104
                    ],
                    [
                      6.908106077679637,
                      6.915949745434755,
                      6.921695279119672,
                      6.929898039329158,
                      6.930285689263428,
                      6.937616070775308,
                      6.947305316877247,
                      6.9456308369347415,
                      6.940090573323911,
                      6.944275738740544,
                      6.958027787256525,
                      6.969384754165082,
                      6.971129799876302,
                      6.9645618325707765,
                      6.954215208171302,
                      6.944818248752234,
                      6.940670060707914,
                      6.944699025781673,
                      6.9566002990373565,
                      6.972409249981624,
                      6.9870417630793344,
                      6.997217491965725,
                      7.002154433044083,
                      7.002618320121902,
                      6.9998560211555665,
                      6.995014864813135,
                      6.988961076548475,
                      6.982287474381508,
                      6.975378456253618,
                      6.968476828832244,
                      6.961736846216064,
                      6.955263159784188,
                      6.949139697095259,
                      6.943452714083437,
                      6.938311128304378,
                      6.933865444123919,
                      6.930324014266739,
                      6.927961817147199,
                      6.927113082806048,
                      6.928137160889223,
                      6.931351091912976,
                      6.936935844518723,
                      6.944843318805311,
                      6.9547453694289425,
                      6.966057751097799,
                      6.978039534090521,
                      6.989931604696173,
                      7.001082741239549,
                      7.0110264713408545,
                      7.019500145282823
                    ],
                    [
                      6.9119318331389845,
                      6.917660665976353,
                      6.925432015427305,
                      6.930663196757213,
                      6.9315619990472745,
                      6.941761793232209,
                      6.948195924886347,
                      6.943536518244627,
                      6.94003906916604,
                      6.948256422737703,
                      6.962613891213304,
                      6.971147777163474,
                      6.969785002900236,
                      6.961450495017557,
                      6.950893025068945,
                      6.942732441609788,
                      6.940989848690998,
                      6.947759502929475,
                      6.961466419721869,
                      6.977415159358035,
                      6.9908630040775765,
                      6.999362111495237,
                      7.002755838713629,
                      7.002058338830773,
                      6.998524427189453,
                      6.993219073724377,
                      6.986916248150686,
                      6.980134761518278,
                      6.9732072909039085,
                      6.966343445176137,
                      6.959678007742564,
                      6.9533061708475765,
                      6.947310129658883,
                      6.941780981701222,
                      6.936838548517204,
                      6.932649755298934,
                      6.9294432409539315,
                      6.927514215304269,
                      6.927209873753691,
                      6.928885201237331,
                      6.93282573136464,
                      6.939150164355877,
                      6.947725875430372,
                      6.958138761051817,
                      6.969742499201403,
                      6.981775279334238,
                      6.993499820329991,
                      7.0043168233753095,
                      7.013823508305423,
                      7.02181694327517
                    ],
                    [
                      6.915235341140033,
                      6.919736624807338,
                      6.928757001262405,
                      6.930609822333784,
                      6.934247754904717,
                      6.945375696427347,
                      6.9476460431957445,
                      6.9415464987408,
                      6.9413926336002865,
                      6.952955532862062,
                      6.966505965451916,
                      6.971809431711556,
                      6.9676922544830235,
                      6.958100656710364,
                      6.947812493799422,
                      6.94131177338351,
                      6.942206267059454,
                      6.951554164138295,
                      6.966563136228966,
                      6.9821513799498085,
                      6.994167896420598,
                      7.0009837672731985,
                      7.002943647385334,
                      7.001214401969456,
                      6.997016920449726,
                      6.9913250735190635,
                      6.984824932508489,
                      6.977968534266736,
                      6.971043254075685,
                      6.964230350808581,
                      6.957648636616033,
                      6.9513864740933915,
                      6.945526474187232,
                      6.940166515476714,
                      6.935439133556228,
                      6.931529135339677,
                      6.928685995994907,
                      6.927223834531677,
                      6.927498591236544,
                      6.929853352493044,
                      6.934532508471612,
                      6.941584024287826,
                      6.95078765348137,
                      6.961648147536438,
                      6.973468718081485,
                      6.985480556050857,
                      6.996979358252523,
                      7.0074233779829065,
                      7.016473700669905,
                      7.023983704982123
                    ],
                    [
                      6.917351401976863,
                      6.9228444183003095,
                      6.930775484732701,
                      6.930752002012506,
                      6.938056224957704,
                      6.947776654204019,
                      6.946020679832344,
                      6.940245314681725,
                      6.9441537627382175,
                      6.957868366750675,
                      6.969442474099565,
                      6.971438160413859,
                      6.96501574262263,
                      6.95467150611535,
                      6.945118622099113,
                      6.940662000312728,
                      6.944316002062916,
                      6.955946220062099,
                      6.971713392675814,
                      6.986507972333436,
                      6.9969337262822755,
                      7.0021103163561955,
                      7.002759773930676,
                      7.0001240262605124,
                      6.995361392044044,
                      6.9893517601427995,
                      6.982699282993231,
                      6.975796404112046,
                      6.968891124240933,
                      6.962140721366317,
                      6.955651212698353,
                      6.949506566028816,
                      6.943791868121513,
                      6.938613672549092,
                      6.934118976500412,
                      6.930511720152491,
                      6.9280622991071406,
                      6.927101618147068,
                      6.927989102169256,
                      6.931047526268662,
                      6.936470432786353,
                      6.944227829604315,
                      6.95401102508359,
                      6.9652509442389805,
                      6.977213174441178,
                      6.989135435958965,
                      7.000355978029221,
                      7.0103944235399265,
                      7.018974543578799,
                      7.026001954572005
                    ],
                    [
                      6.91882907981928,
                      6.926558413547412,
                      6.93135611448683,
                      6.931984253242303,
                      6.9422185636837135,
                      6.948654375603067,
                      6.9438655854754785,
                      6.940093440187774,
                      6.948085495764941,
                      6.962506503209329,
                      6.971292707202111,
                      6.970155024695449,
                      6.961921860240098,
                      6.9513174298067195,
                      6.942949045877524,
                      6.940862183751725,
                      6.947270104390343,
                      6.960771941228079,
                      6.976753353511639,
                      6.9904046998243725,
                      6.999158647159129,
                      7.00277722462162,
                      7.002245940197992,
                      6.998821834242108,
                      6.993582672753546,
                      6.987315625079788,
                      6.980549791431631,
                      6.973624917700671,
                      6.966755051069315,
                      6.960077419737706,
                      6.953688145175698,
                      6.947669074298212,
                      6.942109762935794,
                      6.937127302886834,
                      6.932884785177089,
                      6.92960627589318,
                      6.927582602221936,
                      6.927158438450565,
                      6.928690378901546,
                      6.932471781969771,
                      6.938635911606567,
                      6.947069258684162,
                      6.957376415154094,
                      6.96892388915157,
                      6.98095331582408,
                      6.992721601430138,
                      7.003617396806145,
                      7.013223802944528,
                      7.0213249437807725,
                      7.027874168694589
                    ],
                    [
                      6.9208397769782355,
                      6.929776907922011,
                      6.931152277413256,
                      6.93466549118148,
                      6.945843220475243,
                      6.9480779060472715,
                      6.941797282696408,
                      6.941350990093367,
                      6.952770380000318,
                      6.966471478276072,
                      6.972037503136498,
                      6.968110474971569,
                      6.958574118400218,
                      6.948188291445579,
                      6.941429867146081,
                      6.941956613018177,
                      6.95097509341283,
                      6.965853673065099,
                      6.981541316516533,
                      6.993789919599196,
                      7.000857159584657,
                      7.003024392872393,
                      7.001442389044708,
                      6.997339332898786,
                      6.991702704050148,
                      6.985231002217362,
                      6.9783854973536,
                      6.9714597188898475,
                      6.96463866731673,
                      6.958043083622485,
                      6.951761838756034,
                      6.9458768178200225,
                      6.94048398482221,
                      6.935712788281227,
                      6.931743907046513,
                      6.928822168548341,
                      6.927257675594797,
                      6.927404871990356,
                      6.929610201692636,
                      6.934128030694942,
                      6.9410226889642805,
                      6.950093488389086,
                      6.960862641558485,
                      6.972643476953087,
                      6.984667585163433,
                      6.9962224665797095,
                      7.006753294944465,
                      7.0159070847982115,
                      7.023525098225142,
                      7.029603609273038
                    ],
                    [
                      6.923964788194331,
                      6.931623687820519,
                      6.93120045003659,
                      6.93848904177729,
                      6.948244524863197,
                      6.946410391480816,
                      6.940403308322788,
                      6.944033117272171,
                      6.957703893445933,
                      6.969492412786491,
                      6.971740674344336,
                      6.965467818949828,
                      6.955131292249626,
                      6.9454290267938354,
                      6.940669461427293,
                      6.9439480335946175,
                      6.9552988327120255,
                      6.9710133353513735,
                      6.9859631585385085,
                      6.996637598925086,
                      7.002055760792275,
                      7.002893646120466,
                      7.000387030608164,
                      6.995704869403602,
                      6.989740749999623,
                      6.983110306461018,
                      6.9762141761991225,
                      6.969305679682605,
                      6.962545196664277,
                      6.956040197636564,
                      6.949874757653038,
                      6.944132865364462,
                      6.938918789555909,
                      6.9343760877386496,
                      6.930704332296955,
                      6.928169308867345,
                      6.927098450648689,
                      6.927850944984262,
                      6.93075486112993,
                      6.936015834299984,
                      6.943621722939659,
                      6.953283367964389,
                      6.964447328310441,
                      6.976386379168215,
                      6.988335708934723,
                      6.999623390478481,
                      7.009755275860932,
                      7.018441431867308,
                      7.025576304250139,
                      7.031194199680718
                    ],
                    [
                      6.927659454701303,
                      6.932022165437322,
                      6.932393364032439,
                      6.942669755471771,
                      6.949110363723715,
                      6.944195832290248,
                      6.940151274342974,
                      6.947913887771398,
                      6.962392538663704,
                      6.971430112182137,
                      6.970520348513475,
                      6.962392949213116,
                      6.951747321667226,
                      6.943177755166684,
                      6.940750769008904,
                      6.946793831487497,
                      6.960080581545695,
                      6.976084551815174,
                      6.989934421699395,
                      6.998943206369655,
                      7.002789058529921,
                      7.002426839163281,
                      6.9991149310231675,
                      6.9939437110026175,
                      6.987713636112835,
                      6.980964256019558,
                      6.974042522561756,
                      6.967167025452857,
                      6.960477533392632,
                      6.95407116311001,
                      6.948029486003379,
                      6.942440588467574,
                      6.937418909325846,
                      6.933123770778598,
                      6.929774692790641,
                      6.9276580620139585,
                      6.927115834434169,
                      6.928505854402934,
                      6.932128834879624,
                      6.938132185436399,
                      6.946421307685755,
                      6.956619726947645,
                      6.968107325675639,
                      6.980129874280614,
                      6.991938990972302,
                      7.002911647222715,
                      7.012616786964699,
                      7.020825449698838,
                      7.027480844035932,
                      7.032650403779896
                    ],
                    [
                      6.930769379052448,
                      6.931672436555159,
                      6.935073703505125,
                      6.946306387611549,
                      6.948508400227123,
                      6.942050456133019,
                      6.94131221304043,
                      6.952582332176007,
                      6.966429503815,
                      6.97225870021931,
                      6.968525289149421,
                      6.959048994366334,
                      6.948571683246856,
                      6.941561906749694,
                      6.941723153548249,
                      6.950406458227378,
                      6.965143763187181,
                      6.98092202771767,
                      6.993399538487852,
                      7.0007192021256,
                      7.003096507429444,
                      7.001664501336441,
                      6.997658058544475,
                      6.992078203679426,
                      6.985635996785845,
                      6.978802088669211,
                      6.971876295483083,
                      6.965047459034621,
                      6.9584383343204195,
                      6.952138366581734,
                      6.9462287887312515,
                      6.940803722030409,
                      6.935989603043937,
                      6.931963041618127,
                      6.928964226717529,
                      6.9272991414081915,
                      6.927320490836828,
                      6.929377671371992,
                      6.933734546754919,
                      6.94047143282831,
                      6.949407158335953,
                      6.960081705057059,
                      6.971819146660253,
                      6.98385212973878,
                      6.9954604896696555,
                      7.006076483946309,
                      7.015333025516878,
                      7.023059065999953,
                      7.029241814708699,
                      7.033977098621859
                    ],
                    [
                      6.932443577168857,
                      6.9316317603801165,
                      6.938914841343268,
                      6.94870902191898,
                      6.946799957737574,
                      6.940564555863257,
                      6.943913938177164,
                      6.957534491722527,
                      6.969534563746292,
                      6.972037246175144,
                      6.965917901679475,
                      6.955594326340829,
                      6.945749176877819,
                      6.940692293545276,
                      6.943595327655957,
                      6.954658631454632,
                      6.970309516271723,
                      6.985407499910224,
                      6.996329073083494,
                      7.00199064076107,
                      7.003019804040728,
                      7.000644926633514,
                      6.996045218564066,
                      6.990127991125899,
                      6.983520507709239,
                      6.976631749235283,
                      6.969720467518199,
                      6.962950251381655,
                      6.956430091151199,
                      6.9502442416467805,
                      6.944475664793428,
                      6.939226420271308,
                      6.934636697613318,
                      6.930901748018782,
                      6.9282827275731975,
                      6.927103458531552,
                      6.927722592263543,
                      6.930473044614093,
                      6.935572084747047,
                      6.943025139898455,
                      6.952562614990583,
                      6.963647155017655,
                      6.975559394549925,
                      6.987532589839999,
                      6.998885101485863,
                      7.009109085684741,
                      7.017900814483994,
                      7.02514334602882,
                      7.030863006450916,
                      7.035179484194693
                    ],
                    [
                      6.932662220137673,
                      6.932789903622297,
                      6.943115588106105,
                      6.949563935998244,
                      6.944527230903065,
                      6.9402126140694795,
                      6.947741756553451,
                      6.962272081550921,
                      6.9715599504610495,
                      6.970880858476599,
                      6.962863577484464,
                      6.952182435324275,
                      6.943418297730981,
                      6.940655550210653,
                      6.946331009974802,
                      6.959392853205344,
                      6.975409113591476,
                      6.989452266721606,
                      6.998715713286825,
                      7.0027912065200555,
                      7.002600909914895,
                      6.999403619731923,
                      6.99430211683212,
                      6.988110234138616,
                      6.981378122409395,
                      6.974460079243698,
                      6.967579350629254,
                      6.960878327162464,
                      6.954455199979633,
                      6.94839133123193,
                      6.942773410968469,
                      6.937713302647237,
                      6.9333666245450525,
                      6.929948382943852,
                      6.927740472106947,
                      6.927081944251993,
                      6.928331544805261,
                      6.931796874888982,
                      6.937639060268159,
                      6.945782190436294,
                      6.955868930946297,
                      6.967293061496561,
                      6.979305167869828,
                      6.991152186000357,
                      7.002199675853982,
                      7.012002499499332,
                      7.020318452112079,
                      7.027080371118641,
                      7.032348774901844,
                      7.0362629778739665
                    ],
                    [
                      6.9321711071534295,
                      6.935472817777944,
                      6.946765342374003,
                      6.948937536702801,
                      6.942305994367293,
                      6.9412763937156985,
                      6.952391543182425,
                      6.966380081250064,
                      6.972472952949213,
                      6.9689365608893885,
                      6.959525074174708,
                      6.948962386023365,
                      6.941707659791041,
                      6.941505952167991,
                      6.949848681729646,
                      6.9644338995982045,
                      6.980293788501697,
                      6.992996782582976,
                      7.000569789345682,
                      7.003159854920508,
                      7.001880620669244,
                      6.997973009783699,
                      6.9924515140277315,
                      6.9860398721139445,
                      6.979218277857101,
                      6.972292961110519,
                      6.965456712035359,
                      6.958834367161551,
                      6.952516030449973,
                      6.946582347410611,
                      6.941125674043138,
                      6.936269506205097,
                      6.932186445916486,
                      6.929112053572236,
                      6.927348108584194,
                      6.9272453376540595,
                      6.9291557025426105,
                      6.933352068092307,
                      6.939930369517007,
                      6.948728853356895,
                      6.959305582153925,
                      6.970995974981755,
                      6.983034419403085,
                      6.994693576287898,
                      7.005393026081426,
                      7.014751545239118,
                      7.022585587075098,
                      7.02887305918501,
                      7.0337039138138255,
                      7.037233143390066
                    ],
                    [
                      6.932046622554196,
                      6.93933392627169,
                      6.949170234148808,
                      6.947189363541088,
                      6.9407290552755185,
                      6.943796358615514,
                      6.9573602894143844,
                      6.969568923561348,
                      6.9723277829041574,
                      6.966365833776437,
                      6.9560603710008735,
                      6.946078783550179,
                      6.940730333878001,
                      6.943258074103475,
                      6.954026102018031,
                      6.969602379454378,
                      6.984841181374332,
                      6.9960081201491136,
                      7.001914832644658,
                      7.003138114937335,
                      7.000897605118425,
                      6.996382359487259,
                      6.990513428924407,
                      6.983929851309281,
                      6.977049094302588,
                      6.9701354704837915,
                      6.963355865511868,
                      6.956820870592087,
                      6.950614988305064,
                      6.944820225419724,
                      6.93953650679832,
                      6.934900727456165,
                      6.931103867812672,
                      6.928402436288339,
                      6.927116519455798,
                      6.927603943703477,
                      6.930202038416579,
                      6.935139245469955,
                      6.942438213830994,
                      6.951848980693696,
                      6.962850674938184,
                      6.974732448904295,
                      6.98672627866266,
                      6.998141238583111,
                      7.0084559144929175,
                      7.0173526958925185,
                      7.024703049243265,
                      7.030525070643267,
                      7.034933561892586,
                      7.038095614920957
                    ],
                    [
                      6.933174417086037,
                      6.943556269641514,
                      6.950015137673639,
                      6.94485975095668,
                      6.940277498306005,
                      6.947569258273535,
                      6.962145218625859,
                      6.971682183211407,
                      6.971236441549574,
                      6.963333565331755,
                      6.952622509094794,
                      6.943670399462475,
                      6.940576459651136,
                      6.945881950119738,
                      6.958709267529637,
                      6.974727412711279,
                      6.9889583436558596,
                      6.998476096280752,
                      7.0027835352266905,
                      7.002768023544782,
                      6.999687800300385,
                      6.994657820202605,
                      6.988505371885927,
                      6.981791356884689,
                      6.974877562844351,
                      6.967992004488666,
                      6.96127978128424,
                      6.954840231102409,
                      6.948754577496253,
                      6.943108185673575,
                      6.9380104189081475,
                      6.933613260937161,
                      6.930127239884539,
                      6.927829710426528,
                      6.927056649260695,
                      6.9281673636248255,
                      6.931475881135311,
                      6.937156588784162,
                      6.945152067874917,
                      6.9551242527996955,
                      6.9664813483685375,
                      6.978479430953566,
                      6.990361351404828,
                      7.0014815891195195,
                      7.011380983456514,
                      7.019803944732891,
                      7.0266727047923245,
                      7.032040642929926,
                      7.036043094831165,
                      7.038856037018245
                    ],
                    [
                      6.935863237274729,
                      6.947220221509806,
                      6.949365325286652,
                      6.942563871125531,
                      6.941243619341219,
                      6.9521981672076825,
                      6.966323251450239,
                      6.972680194396198,
                      6.969344157988018,
                      6.960002152220187,
                      6.9493601200677215,
                      6.941866889581554,
                      6.941305055895835,
                      6.949302174749793,
                      6.963724582106373,
                      6.9796568875089875,
                      6.99258168782523,
                      7.000408819146826,
                      7.003214299861592,
                      7.002090627008113,
                      6.998284094299494,
                      6.992822569332398,
                      6.98644258874241,
                      6.979634032491724,
                      6.972709692964931,
                      6.965866398425194,
                      6.959231160529239,
                      6.952894803736405,
                      6.946937458739995,
                      6.941449789891608,
                      6.936552427401083,
                      6.9324140272146835,
                      6.929265537039065,
                      6.927404453566742,
                      6.927179300309814,
                      6.928944208003789,
                      6.932980591152076,
                      6.939399596661942,
                      6.948058764311978,
                      6.958534514318662,
                      6.970174216420847,
                      6.982214656997883,
                      6.993921880025145,
                      7.004703006951418,
                      7.014162670146814,
                      7.022104645695113,
                      7.028497298006284,
                      7.033424481814377,
                      7.03703805172234,
                      7.03952001778012
                    ],
                    [
                      6.939746583818141,
                      6.949628243047094,
                      6.9475785915589965,
                      6.940896803375706,
                      6.943680509421074,
                      6.957181415897691,
                      6.96959549204393,
                      6.972612194173084,
                      6.966811461681089,
                      6.9565291939301135,
                      6.9464175602814775,
                      6.940783409243861,
                      6.942936445210892,
                      6.9534017248813935,
                      6.968892379471414,
                      6.98426440836442,
                      6.995674718823214,
                      7.0018282146223045,
                      7.003248443875831,
                      7.001144955232858,
                      6.996716213054947,
                      6.990897009827315,
                      6.98433829593916,
                      6.977466183977364,
                      6.970550665512933,
                      6.963762018667662,
                      6.957212513188591,
                      6.9509869685156005,
                      6.945166506232776,
                      6.939848992655442,
                      6.9351681001094025,
                      6.931310589186335,
                      6.928528316954379,
                      6.927137510614184,
                      6.927494898064444,
                      6.929941788477121,
                      6.93471734455095,
                      6.941861076578938,
                      6.951142670511197,
                      6.962058137306977,
                      6.973905789467481,
                      6.985916987560429,
                      6.997391934102293,
                      7.0077958280056185,
                      7.016797093090993,
                      7.024255385749599,
                      7.030180341196301,
                      7.034681659944883,
                      7.037924056828807,
                      7.040093066906802
                    ],
                    [
                      6.943991997281939,
                      6.95046400801851,
                      6.9451933634438605,
                      6.9403459624054955,
                      6.947396548635421,
                      6.96201203995847,
                      6.971796774231392,
                      6.971586987449191,
                      6.963802735961531,
                      6.953067285697428,
                      6.943933783513007,
                      6.94051341439876,
                      6.945446946285514,
                      6.958030336816845,
                      6.974039833144869,
                      6.988452770321804,
                      6.998224289023122,
                      7.0027659128877815,
                      7.002928051270553,
                      6.999967373376936,
                      6.995010751653815,
                      6.988899001241646,
                      6.9822039242331195,
                      6.975294948300569,
                      6.968404969224641,
                      6.9616818751483205,
                      6.955226232429045,
                      6.949119192190011,
                      6.9434448674891875,
                      6.938310194877013,
                      6.933863595832273,
                      6.930311155162768,
                      6.927925655545566,
                      6.927039829999698,
                      6.928013222611745,
                      6.931165820285736,
                      6.936684845166883,
                      6.944531098341856,
                      6.954385922304433,
                      6.96567243879674,
                      6.977652899250253,
                      6.989566665747874,
                      7.000757497964789,
                      7.010752285977081,
                      7.019281924087417,
                      7.026257812005604,
                      7.031725952619297,
                      7.035817507403686,
                      7.038706757426385,
                      7.040580587476146
                    ],
                    [
                      6.947671154440036,
                      6.949791772117457,
                      6.942824058345301,
                      6.9412139745363,
                      6.952002360148968,
                      6.966259061040619,
                      6.972880358888662,
                      6.969747951059338,
                      6.960480027411149,
                      6.9497646079846325,
                      6.942039351878567,
                      6.941120494380943,
                      6.948767335324947,
                      6.963016314607433,
                      6.979011625991141,
                      6.992154300367544,
                      7.0002361931845,
                      7.003259704564133,
                      7.002294400105706,
                      6.998591223279224,
                      6.9931913087646835,
                      6.98684409838659,
                      6.980049326290469,
                      6.9731264666977495,
                      6.966276501163603,
                      6.959628693438801,
                      6.9532746604517826,
                      6.947294087268693,
                      6.941776019839586,
                      6.936838297737874,
                      6.932645694341832,
                      6.929424565045618,
                      6.927468053245224,
                      6.927122265831729,
                      6.928743130426639,
                      6.932620134288957,
                      6.938879210321411,
                      6.947397071219287,
                      6.95776874100455,
                      6.969354116129271,
                      6.981393076477963,
                      6.9931455588443345,
                      7.004006516533046,
                      7.0135664298253015,
                      7.021616225902768,
                      7.028114487275516,
                      7.033138743213688,
                      7.036837534977354,
                      7.03939177548588,
                      7.040987831498619
                    ],
                    [
                      6.950083127339007,
                      6.947967624406882,
                      6.941067792461865,
                      6.943566519005707,
                      6.956998003238037,
                      6.969614271730548,
                      6.972890392032592,
                      6.967254637107377,
                      6.957000567722939,
                      6.946765219833038,
                      6.9408513351757,
                      6.942630595057834,
                      6.9527859726088925,
                      6.968179978690138,
                      6.983677392864847,
                      6.995328855407067,
                      7.001730668164794,
                      7.003350655930978,
                      7.00138686532637,
                      6.997046695617566,
                      6.99127867577132,
                      6.984745803334197,
                      6.977882990445315,
                      6.970966030873024,
                      6.964168691546889,
                      6.957604997108533,
                      6.95136015404005,
                      6.945514468194746,
                      6.940163823252376,
                      6.9354387399629704,
                      6.931521815121518,
                      6.928660252773347,
                      6.92716630907225,
                      6.927395348054083,
                      6.929692246109416,
                      6.934306398791167,
                      6.9412938486387645,
                      6.950443889727911,
                      6.96126979072345,
                      6.973079661043464,
                      6.985104909719201,
                      6.996637324548363,
                      7.0071288962763205,
                      7.01623401685668,
                      7.023800329694701,
                      7.029828768593608,
                      7.034423717923894,
                      7.037747353918406,
                      7.03998464189845,
                      7.041319880081373
                    ],
                    [
                      6.950910586091508,
                      6.945528035472262,
                      6.940418038706212,
                      6.9472237825842775,
                      6.961872638409441,
                      6.971903690545412,
                      6.971932388733994,
                      6.96427091885859,
                      6.953516511151012,
                      6.944208169811606,
                      6.940466317597245,
                      6.9450262760177175,
                      6.957356570302148,
                      6.9733467709793455,
                      6.987935677265849,
                      6.9979602323198895,
                      7.002738207686653,
                      7.003080865193572,
                      7.000242233286757,
                      6.99536083435931,
                      6.989291066330902,
                      6.982615790860193,
                      6.975712212157072,
                      6.96881821800278,
                      6.9620845884665075,
                      6.95561318033883,
                      6.949485144289289,
                      6.9437834126402675,
                      6.938612572125345,
                      6.934117546508454,
                      6.930500025523123,
                      6.928028186907604,
                      6.927031365295424,
                      6.927869026246594,
                      6.9308666744813365,
                      6.936223883762929,
                      6.943919431800805,
                      6.953654161305684,
                      6.964866589307789,
                      6.976825801038495,
                      6.988768311719521,
                      7.000027518002799,
                      7.010116458418953,
                      7.018752390669027,
                      7.025835657956004,
                      7.031404647881296,
                      7.03558615381677,
                      7.038552616085471,
                      7.040490790094765,
                      7.041581627454224
                    ]
                  ]
                }
              ],
              "layout": {
                "autosize": false,
                "font": {
                  "color": "RebeccaPurple",
                  "family": "Courier New, monospace",
                  "size": 18
                },
                "height": 800,
                "template": {
                  "data": {
                    "bar": [
                      {
                        "error_x": {
                          "color": "#2a3f5f"
                        },
                        "error_y": {
                          "color": "#2a3f5f"
                        },
                        "marker": {
                          "line": {
                            "color": "#E5ECF6",
                            "width": 0.5
                          },
                          "pattern": {
                            "fillmode": "overlay",
                            "size": 10,
                            "solidity": 0.2
                          }
                        },
                        "type": "bar"
                      }
                    ],
                    "barpolar": [
                      {
                        "marker": {
                          "line": {
                            "color": "#E5ECF6",
                            "width": 0.5
                          },
                          "pattern": {
                            "fillmode": "overlay",
                            "size": 10,
                            "solidity": 0.2
                          }
                        },
                        "type": "barpolar"
                      }
                    ],
                    "carpet": [
                      {
                        "aaxis": {
                          "endlinecolor": "#2a3f5f",
                          "gridcolor": "white",
                          "linecolor": "white",
                          "minorgridcolor": "white",
                          "startlinecolor": "#2a3f5f"
                        },
                        "baxis": {
                          "endlinecolor": "#2a3f5f",
                          "gridcolor": "white",
                          "linecolor": "white",
                          "minorgridcolor": "white",
                          "startlinecolor": "#2a3f5f"
                        },
                        "type": "carpet"
                      }
                    ],
                    "choropleth": [
                      {
                        "colorbar": {
                          "outlinewidth": 0,
                          "ticks": ""
                        },
                        "type": "choropleth"
                      }
                    ],
                    "contour": [
                      {
                        "colorbar": {
                          "outlinewidth": 0,
                          "ticks": ""
                        },
                        "colorscale": [
                          [
                            0,
                            "#0d0887"
                          ],
                          [
                            0.1111111111111111,
                            "#46039f"
                          ],
                          [
                            0.2222222222222222,
                            "#7201a8"
                          ],
                          [
                            0.3333333333333333,
                            "#9c179e"
                          ],
                          [
                            0.4444444444444444,
                            "#bd3786"
                          ],
                          [
                            0.5555555555555556,
                            "#d8576b"
                          ],
                          [
                            0.6666666666666666,
                            "#ed7953"
                          ],
                          [
                            0.7777777777777778,
                            "#fb9f3a"
                          ],
                          [
                            0.8888888888888888,
                            "#fdca26"
                          ],
                          [
                            1,
                            "#f0f921"
                          ]
                        ],
                        "type": "contour"
                      }
                    ],
                    "contourcarpet": [
                      {
                        "colorbar": {
                          "outlinewidth": 0,
                          "ticks": ""
                        },
                        "type": "contourcarpet"
                      }
                    ],
                    "heatmap": [
                      {
                        "colorbar": {
                          "outlinewidth": 0,
                          "ticks": ""
                        },
                        "colorscale": [
                          [
                            0,
                            "#0d0887"
                          ],
                          [
                            0.1111111111111111,
                            "#46039f"
                          ],
                          [
                            0.2222222222222222,
                            "#7201a8"
                          ],
                          [
                            0.3333333333333333,
                            "#9c179e"
                          ],
                          [
                            0.4444444444444444,
                            "#bd3786"
                          ],
                          [
                            0.5555555555555556,
                            "#d8576b"
                          ],
                          [
                            0.6666666666666666,
                            "#ed7953"
                          ],
                          [
                            0.7777777777777778,
                            "#fb9f3a"
                          ],
                          [
                            0.8888888888888888,
                            "#fdca26"
                          ],
                          [
                            1,
                            "#f0f921"
                          ]
                        ],
                        "type": "heatmap"
                      }
                    ],
                    "heatmapgl": [
                      {
                        "colorbar": {
                          "outlinewidth": 0,
                          "ticks": ""
                        },
                        "colorscale": [
                          [
                            0,
                            "#0d0887"
                          ],
                          [
                            0.1111111111111111,
                            "#46039f"
                          ],
                          [
                            0.2222222222222222,
                            "#7201a8"
                          ],
                          [
                            0.3333333333333333,
                            "#9c179e"
                          ],
                          [
                            0.4444444444444444,
                            "#bd3786"
                          ],
                          [
                            0.5555555555555556,
                            "#d8576b"
                          ],
                          [
                            0.6666666666666666,
                            "#ed7953"
                          ],
                          [
                            0.7777777777777778,
                            "#fb9f3a"
                          ],
                          [
                            0.8888888888888888,
                            "#fdca26"
                          ],
                          [
                            1,
                            "#f0f921"
                          ]
                        ],
                        "type": "heatmapgl"
                      }
                    ],
                    "histogram": [
                      {
                        "marker": {
                          "pattern": {
                            "fillmode": "overlay",
                            "size": 10,
                            "solidity": 0.2
                          }
                        },
                        "type": "histogram"
                      }
                    ],
                    "histogram2d": [
                      {
                        "colorbar": {
                          "outlinewidth": 0,
                          "ticks": ""
                        },
                        "colorscale": [
                          [
                            0,
                            "#0d0887"
                          ],
                          [
                            0.1111111111111111,
                            "#46039f"
                          ],
                          [
                            0.2222222222222222,
                            "#7201a8"
                          ],
                          [
                            0.3333333333333333,
                            "#9c179e"
                          ],
                          [
                            0.4444444444444444,
                            "#bd3786"
                          ],
                          [
                            0.5555555555555556,
                            "#d8576b"
                          ],
                          [
                            0.6666666666666666,
                            "#ed7953"
                          ],
                          [
                            0.7777777777777778,
                            "#fb9f3a"
                          ],
                          [
                            0.8888888888888888,
                            "#fdca26"
                          ],
                          [
                            1,
                            "#f0f921"
                          ]
                        ],
                        "type": "histogram2d"
                      }
                    ],
                    "histogram2dcontour": [
                      {
                        "colorbar": {
                          "outlinewidth": 0,
                          "ticks": ""
                        },
                        "colorscale": [
                          [
                            0,
                            "#0d0887"
                          ],
                          [
                            0.1111111111111111,
                            "#46039f"
                          ],
                          [
                            0.2222222222222222,
                            "#7201a8"
                          ],
                          [
                            0.3333333333333333,
                            "#9c179e"
                          ],
                          [
                            0.4444444444444444,
                            "#bd3786"
                          ],
                          [
                            0.5555555555555556,
                            "#d8576b"
                          ],
                          [
                            0.6666666666666666,
                            "#ed7953"
                          ],
                          [
                            0.7777777777777778,
                            "#fb9f3a"
                          ],
                          [
                            0.8888888888888888,
                            "#fdca26"
                          ],
                          [
                            1,
                            "#f0f921"
                          ]
                        ],
                        "type": "histogram2dcontour"
                      }
                    ],
                    "mesh3d": [
                      {
                        "colorbar": {
                          "outlinewidth": 0,
                          "ticks": ""
                        },
                        "type": "mesh3d"
                      }
                    ],
                    "parcoords": [
                      {
                        "line": {
                          "colorbar": {
                            "outlinewidth": 0,
                            "ticks": ""
                          }
                        },
                        "type": "parcoords"
                      }
                    ],
                    "pie": [
                      {
                        "automargin": true,
                        "type": "pie"
                      }
                    ],
                    "scatter": [
                      {
                        "marker": {
                          "colorbar": {
                            "outlinewidth": 0,
                            "ticks": ""
                          }
                        },
                        "type": "scatter"
                      }
                    ],
                    "scatter3d": [
                      {
                        "line": {
                          "colorbar": {
                            "outlinewidth": 0,
                            "ticks": ""
                          }
                        },
                        "marker": {
                          "colorbar": {
                            "outlinewidth": 0,
                            "ticks": ""
                          }
                        },
                        "type": "scatter3d"
                      }
                    ],
                    "scattercarpet": [
                      {
                        "marker": {
                          "colorbar": {
                            "outlinewidth": 0,
                            "ticks": ""
                          }
                        },
                        "type": "scattercarpet"
                      }
                    ],
                    "scattergeo": [
                      {
                        "marker": {
                          "colorbar": {
                            "outlinewidth": 0,
                            "ticks": ""
                          }
                        },
                        "type": "scattergeo"
                      }
                    ],
                    "scattergl": [
                      {
                        "marker": {
                          "colorbar": {
                            "outlinewidth": 0,
                            "ticks": ""
                          }
                        },
                        "type": "scattergl"
                      }
                    ],
                    "scattermapbox": [
                      {
                        "marker": {
                          "colorbar": {
                            "outlinewidth": 0,
                            "ticks": ""
                          }
                        },
                        "type": "scattermapbox"
                      }
                    ],
                    "scatterpolar": [
                      {
                        "marker": {
                          "colorbar": {
                            "outlinewidth": 0,
                            "ticks": ""
                          }
                        },
                        "type": "scatterpolar"
                      }
                    ],
                    "scatterpolargl": [
                      {
                        "marker": {
                          "colorbar": {
                            "outlinewidth": 0,
                            "ticks": ""
                          }
                        },
                        "type": "scatterpolargl"
                      }
                    ],
                    "scatterternary": [
                      {
                        "marker": {
                          "colorbar": {
                            "outlinewidth": 0,
                            "ticks": ""
                          }
                        },
                        "type": "scatterternary"
                      }
                    ],
                    "surface": [
                      {
                        "colorbar": {
                          "outlinewidth": 0,
                          "ticks": ""
                        },
                        "colorscale": [
                          [
                            0,
                            "#0d0887"
                          ],
                          [
                            0.1111111111111111,
                            "#46039f"
                          ],
                          [
                            0.2222222222222222,
                            "#7201a8"
                          ],
                          [
                            0.3333333333333333,
                            "#9c179e"
                          ],
                          [
                            0.4444444444444444,
                            "#bd3786"
                          ],
                          [
                            0.5555555555555556,
                            "#d8576b"
                          ],
                          [
                            0.6666666666666666,
                            "#ed7953"
                          ],
                          [
                            0.7777777777777778,
                            "#fb9f3a"
                          ],
                          [
                            0.8888888888888888,
                            "#fdca26"
                          ],
                          [
                            1,
                            "#f0f921"
                          ]
                        ],
                        "type": "surface"
                      }
                    ],
                    "table": [
                      {
                        "cells": {
                          "fill": {
                            "color": "#EBF0F8"
                          },
                          "line": {
                            "color": "white"
                          }
                        },
                        "header": {
                          "fill": {
                            "color": "#C8D4E3"
                          },
                          "line": {
                            "color": "white"
                          }
                        },
                        "type": "table"
                      }
                    ]
                  },
                  "layout": {
                    "annotationdefaults": {
                      "arrowcolor": "#2a3f5f",
                      "arrowhead": 0,
                      "arrowwidth": 1
                    },
                    "autotypenumbers": "strict",
                    "coloraxis": {
                      "colorbar": {
                        "outlinewidth": 0,
                        "ticks": ""
                      }
                    },
                    "colorscale": {
                      "diverging": [
                        [
                          0,
                          "#8e0152"
                        ],
                        [
                          0.1,
                          "#c51b7d"
                        ],
                        [
                          0.2,
                          "#de77ae"
                        ],
                        [
                          0.3,
                          "#f1b6da"
                        ],
                        [
                          0.4,
                          "#fde0ef"
                        ],
                        [
                          0.5,
                          "#f7f7f7"
                        ],
                        [
                          0.6,
                          "#e6f5d0"
                        ],
                        [
                          0.7,
                          "#b8e186"
                        ],
                        [
                          0.8,
                          "#7fbc41"
                        ],
                        [
                          0.9,
                          "#4d9221"
                        ],
                        [
                          1,
                          "#276419"
                        ]
                      ],
                      "sequential": [
                        [
                          0,
                          "#0d0887"
                        ],
                        [
                          0.1111111111111111,
                          "#46039f"
                        ],
                        [
                          0.2222222222222222,
                          "#7201a8"
                        ],
                        [
                          0.3333333333333333,
                          "#9c179e"
                        ],
                        [
                          0.4444444444444444,
                          "#bd3786"
                        ],
                        [
                          0.5555555555555556,
                          "#d8576b"
                        ],
                        [
                          0.6666666666666666,
                          "#ed7953"
                        ],
                        [
                          0.7777777777777778,
                          "#fb9f3a"
                        ],
                        [
                          0.8888888888888888,
                          "#fdca26"
                        ],
                        [
                          1,
                          "#f0f921"
                        ]
                      ],
                      "sequentialminus": [
                        [
                          0,
                          "#0d0887"
                        ],
                        [
                          0.1111111111111111,
                          "#46039f"
                        ],
                        [
                          0.2222222222222222,
                          "#7201a8"
                        ],
                        [
                          0.3333333333333333,
                          "#9c179e"
                        ],
                        [
                          0.4444444444444444,
                          "#bd3786"
                        ],
                        [
                          0.5555555555555556,
                          "#d8576b"
                        ],
                        [
                          0.6666666666666666,
                          "#ed7953"
                        ],
                        [
                          0.7777777777777778,
                          "#fb9f3a"
                        ],
                        [
                          0.8888888888888888,
                          "#fdca26"
                        ],
                        [
                          1,
                          "#f0f921"
                        ]
                      ]
                    },
                    "colorway": [
                      "#636efa",
                      "#EF553B",
                      "#00cc96",
                      "#ab63fa",
                      "#FFA15A",
                      "#19d3f3",
                      "#FF6692",
                      "#B6E880",
                      "#FF97FF",
                      "#FECB52"
                    ],
                    "font": {
                      "color": "#2a3f5f"
                    },
                    "geo": {
                      "bgcolor": "white",
                      "lakecolor": "white",
                      "landcolor": "#E5ECF6",
                      "showlakes": true,
                      "showland": true,
                      "subunitcolor": "white"
                    },
                    "hoverlabel": {
                      "align": "left"
                    },
                    "hovermode": "closest",
                    "mapbox": {
                      "style": "light"
                    },
                    "paper_bgcolor": "white",
                    "plot_bgcolor": "#E5ECF6",
                    "polar": {
                      "angularaxis": {
                        "gridcolor": "white",
                        "linecolor": "white",
                        "ticks": ""
                      },
                      "bgcolor": "#E5ECF6",
                      "radialaxis": {
                        "gridcolor": "white",
                        "linecolor": "white",
                        "ticks": ""
                      }
                    },
                    "scene": {
                      "xaxis": {
                        "backgroundcolor": "#E5ECF6",
                        "gridcolor": "white",
                        "gridwidth": 2,
                        "linecolor": "white",
                        "showbackground": true,
                        "ticks": "",
                        "zerolinecolor": "white"
                      },
                      "yaxis": {
                        "backgroundcolor": "#E5ECF6",
                        "gridcolor": "white",
                        "gridwidth": 2,
                        "linecolor": "white",
                        "showbackground": true,
                        "ticks": "",
                        "zerolinecolor": "white"
                      },
                      "zaxis": {
                        "backgroundcolor": "#E5ECF6",
                        "gridcolor": "white",
                        "gridwidth": 2,
                        "linecolor": "white",
                        "showbackground": true,
                        "ticks": "",
                        "zerolinecolor": "white"
                      }
                    },
                    "shapedefaults": {
                      "line": {
                        "color": "#2a3f5f"
                      }
                    },
                    "ternary": {
                      "aaxis": {
                        "gridcolor": "white",
                        "linecolor": "white",
                        "ticks": ""
                      },
                      "baxis": {
                        "gridcolor": "white",
                        "linecolor": "white",
                        "ticks": ""
                      },
                      "bgcolor": "#E5ECF6",
                      "caxis": {
                        "gridcolor": "white",
                        "linecolor": "white",
                        "ticks": ""
                      }
                    },
                    "title": {
                      "x": 0.05
                    },
                    "xaxis": {
                      "automargin": true,
                      "gridcolor": "white",
                      "linecolor": "white",
                      "ticks": "",
                      "title": {
                        "standoff": 15
                      },
                      "zerolinecolor": "white",
                      "zerolinewidth": 2
                    },
                    "yaxis": {
                      "automargin": true,
                      "gridcolor": "white",
                      "linecolor": "white",
                      "ticks": "",
                      "title": {
                        "standoff": 15
                      },
                      "zerolinecolor": "white",
                      "zerolinewidth": 2
                    }
                  }
                },
                "title": {
                  "text": "Global parameter search Google mobility data"
                },
                "width": 800,
                "xaxis": {
                  "title": {
                    "text": "c0 value"
                  }
                },
                "yaxis": {
                  "title": {
                    "text": "c1 value"
                  }
                }
              }
            }
          },
          "metadata": {},
          "output_type": "display_data"
        }
      ],
      "source": [
        "fig = go.Figure() #Creates a plot using graph objects and then adds each graph to figure\n",
        "# fig.add_trace(go.Scatter(x=t, y=dailyAdmissions,\n",
        "#                     mode='lines',\n",
        "#                     name='Admission data'))\n",
        "# fig.add_trace(go.Scatter(x=t, y=modelfunction(t,*best[0]),\n",
        "#                     mode='lines',\n",
        "#                     name='Predicted admissions'))\n",
        "\n",
        "fig.add_contour(\n",
        "                    z=result,\n",
        "                    x=paramC0,\n",
        "                    y=paramC1,\n",
        "                    colorbar=dict(\n",
        "                        titleside='right',\n",
        "                        title='Log RMSE', # title here\n",
        "                    )\n",
        ")  \n",
        "  \n",
        "\n",
        "fig.update_layout(\n",
        "                    title='Global parameter search Google mobility data',\n",
        "                    xaxis_title='c0 value',\n",
        "                    yaxis_title='c1 value',\n",
        "                    autosize=False,\n",
        "                    width=800,\n",
        "                    height=800,\n",
        "                    font=dict(\n",
        "                        family=\"Courier New, monospace\",\n",
        "                        size=18,\n",
        "                        color=\"RebeccaPurple\"\n",
        "    )\n",
        ")\n",
        "fig.show()\n",
        "\n",
        "#Countour plot plotta log(RMSE) för Z axeln\n",
        "\n"
      ]
    }
  ],
  "metadata": {
    "colab": {
      "collapsed_sections": [],
      "name": "Mobility based SIR.ipynb",
      "provenance": []
    },
    "kernelspec": {
      "display_name": "Python 3",
      "name": "python3"
    },
    "language_info": {
      "codemirror_mode": {
        "name": "ipython",
        "version": 3
      },
      "file_extension": ".py",
      "mimetype": "text/x-python",
      "name": "python",
      "nbconvert_exporter": "python",
      "pygments_lexer": "ipython3",
      "version": "3.9.7"
    }
  },
  "nbformat": 4,
  "nbformat_minor": 0
}
