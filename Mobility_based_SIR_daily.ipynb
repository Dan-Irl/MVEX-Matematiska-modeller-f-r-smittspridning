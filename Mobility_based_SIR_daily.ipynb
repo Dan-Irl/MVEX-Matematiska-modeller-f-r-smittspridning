{
  "cells": [
    {
      "cell_type": "code",
      "execution_count": 1,
      "metadata": {
        "id": "c-VcGDaeOCCf"
      },
      "outputs": [],
      "source": [
        "import numpy as np                            #Library that has extensive set of math methods and functions.\n",
        "from scipy.integrate import odeint            #Library that has function for solving differentail equations\n",
        "from scipy.interpolate import interp1d        #Library containing fuctions of interpolating data\n",
        "from scipy.optimize import curve_fit          #Library containing fuctions of fitting paramaters to data\n",
        "from scipy.stats import t as tdist\n",
        "import pandas as pd\n",
        "from sklearn.metrics import mean_squared_error, mean_absolute_percentage_error\n",
        "import math\n",
        "from itertools import repeat\n",
        "from datetime import timedelta\n",
        "import csv\n",
        "\n",
        "\n",
        "\n",
        "#Library to plot data\n",
        "import plotly.graph_objects as go\n",
        "\n",
        "#använd curvefit för att anpassa parametrar \n",
        "\n",
        "mobility_data = pd.read_csv('https://raw.githubusercontent.com/Dan-Irl/MVEX-Matematiska-modeller-f-r-smittspridning/main/SwedenMobilityData.csv')   #imports mobility data from github\n",
        "\n",
        "temperature_data = pd.read_json('https://raw.githubusercontent.com/Dan-Irl/MVEX-Matematiska-modeller-f-r-smittspridning/main/smhidata_2020_2021.json')  #imports temperature data from github \n",
        "\n",
        "admission_data = pd.read_json('https://raw.githubusercontent.com/Dan-Irl/MVEX-Matematiska-modeller-f-r-smittspridning/main/Inskrivningsdata.json')                  #imports admission data from github\n",
        "\n",
        "VT_mobility_data = pd.read_csv('https://raw.githubusercontent.com/Dan-Irl/MVEX-Matematiska-modeller-f-r-smittspridning/main/VT_mobility.csv')\n",
        "\n",
        "\n",
        "#Jämför RMSE mellan modeller berode på antal datapunkter\n",
        "#jämför hur ofta prediction hamnar i predictionsintervall mellan modeller berode på antal datapunkter"
      ]
    },
    {
      "cell_type": "code",
      "execution_count": 2,
      "metadata": {},
      "outputs": [],
      "source": [
        "# A array of time points in days for the model to use\n",
        "prediction_time = 173\n",
        "t = np.linspace(1, prediction_time, prediction_time)\n",
        "\n",
        "#Defines how many data point are to be used for model fitting\n",
        "fittingPoints = 173 # Max 173 days\n",
        "t_fittingdata = np.linspace(0, fittingPoints, fittingPoints)\n",
        "\n",
        "\n",
        "dailyAdmissions = admission_data['Inskrivningar']\n"
      ]
    },
    {
      "cell_type": "markdown",
      "metadata": {},
      "source": [
        "Created the mobility function for Västtrafik"
      ]
    },
    {
      "cell_type": "code",
      "execution_count": 3,
      "metadata": {},
      "outputs": [
        {
          "data": {
            "application/vnd.plotly.v1+json": {
              "config": {
                "plotlyServerURL": "https://plot.ly"
              },
              "data": [
                {
                  "mode": "lines",
                  "name": "Mobility function",
                  "type": "scatter",
                  "x": [
                    1,
                    2,
                    3,
                    4,
                    5,
                    6,
                    7,
                    8,
                    9,
                    10,
                    11,
                    12,
                    13,
                    14,
                    15,
                    16,
                    17,
                    18,
                    19,
                    20,
                    21,
                    22,
                    23,
                    24,
                    25,
                    26,
                    27,
                    28,
                    29,
                    30,
                    31,
                    32,
                    33,
                    34,
                    35,
                    36,
                    37,
                    38,
                    39,
                    40,
                    41,
                    42,
                    43,
                    44,
                    45,
                    46,
                    47,
                    48,
                    49,
                    50,
                    51,
                    52,
                    53,
                    54,
                    55,
                    56,
                    57,
                    58,
                    59,
                    60,
                    61,
                    62,
                    63,
                    64,
                    65,
                    66,
                    67,
                    68,
                    69,
                    70,
                    71,
                    72,
                    73,
                    74,
                    75,
                    76,
                    77,
                    78,
                    79,
                    80,
                    81,
                    82,
                    83,
                    84,
                    85,
                    86,
                    87,
                    88,
                    89,
                    90,
                    91,
                    92,
                    93,
                    94,
                    95,
                    96,
                    97,
                    98,
                    99,
                    100,
                    101,
                    102,
                    103,
                    104,
                    105,
                    106,
                    107,
                    108,
                    109,
                    110,
                    111,
                    112,
                    113,
                    114,
                    115,
                    116,
                    117,
                    118,
                    119,
                    120,
                    121,
                    122,
                    123,
                    124,
                    125,
                    126,
                    127,
                    128,
                    129,
                    130,
                    131,
                    132,
                    133,
                    134,
                    135,
                    136,
                    137,
                    138,
                    139,
                    140,
                    141,
                    142,
                    143,
                    144,
                    145,
                    146,
                    147,
                    148,
                    149,
                    150,
                    151,
                    152,
                    153,
                    154,
                    155,
                    156,
                    157,
                    158,
                    159,
                    160,
                    161,
                    162,
                    163,
                    164,
                    165,
                    166,
                    167,
                    168,
                    169,
                    170,
                    171,
                    172,
                    173
                  ],
                  "y": [
                    0,
                    -0.6285714285714287,
                    -1.2571428571428573,
                    -1.8857142857142861,
                    -2.5142857142857147,
                    -3.1428571428571432,
                    -3.7714285714285722,
                    -4.4,
                    -5.800000000000001,
                    -7.2,
                    -8.6,
                    -10,
                    -11.4,
                    -12.799999999999999,
                    -14.2,
                    -18.085714285714285,
                    -21.97142857142857,
                    -25.857142857142854,
                    -29.74285714285714,
                    -33.628571428571426,
                    -37.51428571428571,
                    -41.4,
                    -42.48571428571429,
                    -43.57142857142857,
                    -44.65714285714286,
                    -45.74285714285714,
                    -46.82857142857143,
                    -47.91428571428571,
                    -49,
                    -49.44285714285714,
                    -49.885714285714286,
                    -50.32857142857143,
                    -50.77142857142857,
                    -51.214285714285715,
                    -51.65714285714286,
                    -52.1,
                    -53.24285714285715,
                    -54.385714285714286,
                    -55.52857142857143,
                    -56.67142857142857,
                    -57.81428571428572,
                    -58.957142857142856,
                    -60.1,
                    -59.58571428571429,
                    -59.07142857142857,
                    -58.55714285714286,
                    -58.042857142857144,
                    -57.52857142857143,
                    -57.01428571428571,
                    -56.5,
                    -55.58571428571429,
                    -54.67142857142857,
                    -53.75714285714286,
                    -52.84285714285714,
                    -51.92857142857143,
                    -51.01428571428572,
                    -50.1,
                    -50.57142857142857,
                    -51.042857142857144,
                    -51.51428571428571,
                    -51.98571428571429,
                    -52.457142857142856,
                    -52.92857142857143,
                    -53.4,
                    -52.75714285714285,
                    -52.114285714285714,
                    -51.47142857142857,
                    -50.82857142857143,
                    -50.18571428571428,
                    -49.542857142857144,
                    -48.9,
                    -48.77142857142857,
                    -48.64285714285714,
                    -48.51428571428571,
                    -48.385714285714286,
                    -48.25714285714286,
                    -48.128571428571426,
                    -48,
                    -48.65714285714286,
                    -49.31428571428572,
                    -49.971428571428575,
                    -50.628571428571426,
                    -51.285714285714285,
                    -51.94285714285714,
                    -52.6,
                    -51.15714285714286,
                    -49.714285714285715,
                    -48.27142857142857,
                    -46.82857142857143,
                    -45.385714285714286,
                    -43.94285714285714,
                    -42.5,
                    -42.614285714285714,
                    -42.72857142857143,
                    -42.84285714285714,
                    -42.957142857142856,
                    -43.07142857142857,
                    -43.18571428571428,
                    -43.3,
                    -42.74285714285714,
                    -42.18571428571428,
                    -41.628571428571426,
                    -41.07142857142857,
                    -40.51428571428571,
                    -39.957142857142856,
                    -39.4,
                    -41.34285714285714,
                    -43.285714285714285,
                    -45.22857142857143,
                    -47.17142857142857,
                    -49.114285714285714,
                    -51.05714285714286,
                    -53,
                    -52.142857142857146,
                    -51.285714285714285,
                    -50.42857142857143,
                    -49.57142857142857,
                    -48.714285714285715,
                    -47.85714285714286,
                    -47,
                    -47.42857142857143,
                    -47.857142857142854,
                    -48.285714285714285,
                    -48.714285714285715,
                    -49.142857142857146,
                    -49.57142857142857,
                    -50,
                    -50.42857142857143,
                    -50.857142857142854,
                    -51.285714285714285,
                    -51.714285714285715,
                    -52.142857142857146,
                    -52.57142857142857,
                    -53,
                    -53.42857142857143,
                    -53.857142857142854,
                    -54.285714285714285,
                    -54.714285714285715,
                    -55.142857142857146,
                    -55.57142857142857,
                    -56,
                    -55.857142857142854,
                    -55.714285714285715,
                    -55.57142857142857,
                    -55.42857142857143,
                    -55.285714285714285,
                    -55.142857142857146,
                    -55,
                    -54.714285714285715,
                    -54.42857142857143,
                    -54.142857142857146,
                    -53.857142857142854,
                    -53.57142857142857,
                    -53.285714285714285,
                    -53,
                    -52.57142857142857,
                    -52.142857142857146,
                    -51.714285714285715,
                    -51.285714285714285,
                    -50.857142857142854,
                    -50.42857142857143,
                    -50,
                    -49.57142857142857,
                    -49.142857142857146,
                    -48.714285714285715,
                    -48.285714285714285,
                    -47.857142857142854,
                    -47.42857142857143,
                    -47,
                    -45.857142857142854,
                    -44.714285714285715,
                    -43.57142857142857,
                    -42.42857142857143
                  ]
                }
              ],
              "layout": {
                "autosize": false,
                "font": {
                  "color": "RebeccaPurple",
                  "family": "Courier New, monospace",
                  "size": 14
                },
                "template": {
                  "data": {
                    "bar": [
                      {
                        "error_x": {
                          "color": "#2a3f5f"
                        },
                        "error_y": {
                          "color": "#2a3f5f"
                        },
                        "marker": {
                          "line": {
                            "color": "#E5ECF6",
                            "width": 0.5
                          },
                          "pattern": {
                            "fillmode": "overlay",
                            "size": 10,
                            "solidity": 0.2
                          }
                        },
                        "type": "bar"
                      }
                    ],
                    "barpolar": [
                      {
                        "marker": {
                          "line": {
                            "color": "#E5ECF6",
                            "width": 0.5
                          },
                          "pattern": {
                            "fillmode": "overlay",
                            "size": 10,
                            "solidity": 0.2
                          }
                        },
                        "type": "barpolar"
                      }
                    ],
                    "carpet": [
                      {
                        "aaxis": {
                          "endlinecolor": "#2a3f5f",
                          "gridcolor": "white",
                          "linecolor": "white",
                          "minorgridcolor": "white",
                          "startlinecolor": "#2a3f5f"
                        },
                        "baxis": {
                          "endlinecolor": "#2a3f5f",
                          "gridcolor": "white",
                          "linecolor": "white",
                          "minorgridcolor": "white",
                          "startlinecolor": "#2a3f5f"
                        },
                        "type": "carpet"
                      }
                    ],
                    "choropleth": [
                      {
                        "colorbar": {
                          "outlinewidth": 0,
                          "ticks": ""
                        },
                        "type": "choropleth"
                      }
                    ],
                    "contour": [
                      {
                        "colorbar": {
                          "outlinewidth": 0,
                          "ticks": ""
                        },
                        "colorscale": [
                          [
                            0,
                            "#0d0887"
                          ],
                          [
                            0.1111111111111111,
                            "#46039f"
                          ],
                          [
                            0.2222222222222222,
                            "#7201a8"
                          ],
                          [
                            0.3333333333333333,
                            "#9c179e"
                          ],
                          [
                            0.4444444444444444,
                            "#bd3786"
                          ],
                          [
                            0.5555555555555556,
                            "#d8576b"
                          ],
                          [
                            0.6666666666666666,
                            "#ed7953"
                          ],
                          [
                            0.7777777777777778,
                            "#fb9f3a"
                          ],
                          [
                            0.8888888888888888,
                            "#fdca26"
                          ],
                          [
                            1,
                            "#f0f921"
                          ]
                        ],
                        "type": "contour"
                      }
                    ],
                    "contourcarpet": [
                      {
                        "colorbar": {
                          "outlinewidth": 0,
                          "ticks": ""
                        },
                        "type": "contourcarpet"
                      }
                    ],
                    "heatmap": [
                      {
                        "colorbar": {
                          "outlinewidth": 0,
                          "ticks": ""
                        },
                        "colorscale": [
                          [
                            0,
                            "#0d0887"
                          ],
                          [
                            0.1111111111111111,
                            "#46039f"
                          ],
                          [
                            0.2222222222222222,
                            "#7201a8"
                          ],
                          [
                            0.3333333333333333,
                            "#9c179e"
                          ],
                          [
                            0.4444444444444444,
                            "#bd3786"
                          ],
                          [
                            0.5555555555555556,
                            "#d8576b"
                          ],
                          [
                            0.6666666666666666,
                            "#ed7953"
                          ],
                          [
                            0.7777777777777778,
                            "#fb9f3a"
                          ],
                          [
                            0.8888888888888888,
                            "#fdca26"
                          ],
                          [
                            1,
                            "#f0f921"
                          ]
                        ],
                        "type": "heatmap"
                      }
                    ],
                    "heatmapgl": [
                      {
                        "colorbar": {
                          "outlinewidth": 0,
                          "ticks": ""
                        },
                        "colorscale": [
                          [
                            0,
                            "#0d0887"
                          ],
                          [
                            0.1111111111111111,
                            "#46039f"
                          ],
                          [
                            0.2222222222222222,
                            "#7201a8"
                          ],
                          [
                            0.3333333333333333,
                            "#9c179e"
                          ],
                          [
                            0.4444444444444444,
                            "#bd3786"
                          ],
                          [
                            0.5555555555555556,
                            "#d8576b"
                          ],
                          [
                            0.6666666666666666,
                            "#ed7953"
                          ],
                          [
                            0.7777777777777778,
                            "#fb9f3a"
                          ],
                          [
                            0.8888888888888888,
                            "#fdca26"
                          ],
                          [
                            1,
                            "#f0f921"
                          ]
                        ],
                        "type": "heatmapgl"
                      }
                    ],
                    "histogram": [
                      {
                        "marker": {
                          "pattern": {
                            "fillmode": "overlay",
                            "size": 10,
                            "solidity": 0.2
                          }
                        },
                        "type": "histogram"
                      }
                    ],
                    "histogram2d": [
                      {
                        "colorbar": {
                          "outlinewidth": 0,
                          "ticks": ""
                        },
                        "colorscale": [
                          [
                            0,
                            "#0d0887"
                          ],
                          [
                            0.1111111111111111,
                            "#46039f"
                          ],
                          [
                            0.2222222222222222,
                            "#7201a8"
                          ],
                          [
                            0.3333333333333333,
                            "#9c179e"
                          ],
                          [
                            0.4444444444444444,
                            "#bd3786"
                          ],
                          [
                            0.5555555555555556,
                            "#d8576b"
                          ],
                          [
                            0.6666666666666666,
                            "#ed7953"
                          ],
                          [
                            0.7777777777777778,
                            "#fb9f3a"
                          ],
                          [
                            0.8888888888888888,
                            "#fdca26"
                          ],
                          [
                            1,
                            "#f0f921"
                          ]
                        ],
                        "type": "histogram2d"
                      }
                    ],
                    "histogram2dcontour": [
                      {
                        "colorbar": {
                          "outlinewidth": 0,
                          "ticks": ""
                        },
                        "colorscale": [
                          [
                            0,
                            "#0d0887"
                          ],
                          [
                            0.1111111111111111,
                            "#46039f"
                          ],
                          [
                            0.2222222222222222,
                            "#7201a8"
                          ],
                          [
                            0.3333333333333333,
                            "#9c179e"
                          ],
                          [
                            0.4444444444444444,
                            "#bd3786"
                          ],
                          [
                            0.5555555555555556,
                            "#d8576b"
                          ],
                          [
                            0.6666666666666666,
                            "#ed7953"
                          ],
                          [
                            0.7777777777777778,
                            "#fb9f3a"
                          ],
                          [
                            0.8888888888888888,
                            "#fdca26"
                          ],
                          [
                            1,
                            "#f0f921"
                          ]
                        ],
                        "type": "histogram2dcontour"
                      }
                    ],
                    "mesh3d": [
                      {
                        "colorbar": {
                          "outlinewidth": 0,
                          "ticks": ""
                        },
                        "type": "mesh3d"
                      }
                    ],
                    "parcoords": [
                      {
                        "line": {
                          "colorbar": {
                            "outlinewidth": 0,
                            "ticks": ""
                          }
                        },
                        "type": "parcoords"
                      }
                    ],
                    "pie": [
                      {
                        "automargin": true,
                        "type": "pie"
                      }
                    ],
                    "scatter": [
                      {
                        "marker": {
                          "colorbar": {
                            "outlinewidth": 0,
                            "ticks": ""
                          }
                        },
                        "type": "scatter"
                      }
                    ],
                    "scatter3d": [
                      {
                        "line": {
                          "colorbar": {
                            "outlinewidth": 0,
                            "ticks": ""
                          }
                        },
                        "marker": {
                          "colorbar": {
                            "outlinewidth": 0,
                            "ticks": ""
                          }
                        },
                        "type": "scatter3d"
                      }
                    ],
                    "scattercarpet": [
                      {
                        "marker": {
                          "colorbar": {
                            "outlinewidth": 0,
                            "ticks": ""
                          }
                        },
                        "type": "scattercarpet"
                      }
                    ],
                    "scattergeo": [
                      {
                        "marker": {
                          "colorbar": {
                            "outlinewidth": 0,
                            "ticks": ""
                          }
                        },
                        "type": "scattergeo"
                      }
                    ],
                    "scattergl": [
                      {
                        "marker": {
                          "colorbar": {
                            "outlinewidth": 0,
                            "ticks": ""
                          }
                        },
                        "type": "scattergl"
                      }
                    ],
                    "scattermapbox": [
                      {
                        "marker": {
                          "colorbar": {
                            "outlinewidth": 0,
                            "ticks": ""
                          }
                        },
                        "type": "scattermapbox"
                      }
                    ],
                    "scatterpolar": [
                      {
                        "marker": {
                          "colorbar": {
                            "outlinewidth": 0,
                            "ticks": ""
                          }
                        },
                        "type": "scatterpolar"
                      }
                    ],
                    "scatterpolargl": [
                      {
                        "marker": {
                          "colorbar": {
                            "outlinewidth": 0,
                            "ticks": ""
                          }
                        },
                        "type": "scatterpolargl"
                      }
                    ],
                    "scatterternary": [
                      {
                        "marker": {
                          "colorbar": {
                            "outlinewidth": 0,
                            "ticks": ""
                          }
                        },
                        "type": "scatterternary"
                      }
                    ],
                    "surface": [
                      {
                        "colorbar": {
                          "outlinewidth": 0,
                          "ticks": ""
                        },
                        "colorscale": [
                          [
                            0,
                            "#0d0887"
                          ],
                          [
                            0.1111111111111111,
                            "#46039f"
                          ],
                          [
                            0.2222222222222222,
                            "#7201a8"
                          ],
                          [
                            0.3333333333333333,
                            "#9c179e"
                          ],
                          [
                            0.4444444444444444,
                            "#bd3786"
                          ],
                          [
                            0.5555555555555556,
                            "#d8576b"
                          ],
                          [
                            0.6666666666666666,
                            "#ed7953"
                          ],
                          [
                            0.7777777777777778,
                            "#fb9f3a"
                          ],
                          [
                            0.8888888888888888,
                            "#fdca26"
                          ],
                          [
                            1,
                            "#f0f921"
                          ]
                        ],
                        "type": "surface"
                      }
                    ],
                    "table": [
                      {
                        "cells": {
                          "fill": {
                            "color": "#EBF0F8"
                          },
                          "line": {
                            "color": "white"
                          }
                        },
                        "header": {
                          "fill": {
                            "color": "#C8D4E3"
                          },
                          "line": {
                            "color": "white"
                          }
                        },
                        "type": "table"
                      }
                    ]
                  },
                  "layout": {
                    "annotationdefaults": {
                      "arrowcolor": "#2a3f5f",
                      "arrowhead": 0,
                      "arrowwidth": 1
                    },
                    "autotypenumbers": "strict",
                    "coloraxis": {
                      "colorbar": {
                        "outlinewidth": 0,
                        "ticks": ""
                      }
                    },
                    "colorscale": {
                      "diverging": [
                        [
                          0,
                          "#8e0152"
                        ],
                        [
                          0.1,
                          "#c51b7d"
                        ],
                        [
                          0.2,
                          "#de77ae"
                        ],
                        [
                          0.3,
                          "#f1b6da"
                        ],
                        [
                          0.4,
                          "#fde0ef"
                        ],
                        [
                          0.5,
                          "#f7f7f7"
                        ],
                        [
                          0.6,
                          "#e6f5d0"
                        ],
                        [
                          0.7,
                          "#b8e186"
                        ],
                        [
                          0.8,
                          "#7fbc41"
                        ],
                        [
                          0.9,
                          "#4d9221"
                        ],
                        [
                          1,
                          "#276419"
                        ]
                      ],
                      "sequential": [
                        [
                          0,
                          "#0d0887"
                        ],
                        [
                          0.1111111111111111,
                          "#46039f"
                        ],
                        [
                          0.2222222222222222,
                          "#7201a8"
                        ],
                        [
                          0.3333333333333333,
                          "#9c179e"
                        ],
                        [
                          0.4444444444444444,
                          "#bd3786"
                        ],
                        [
                          0.5555555555555556,
                          "#d8576b"
                        ],
                        [
                          0.6666666666666666,
                          "#ed7953"
                        ],
                        [
                          0.7777777777777778,
                          "#fb9f3a"
                        ],
                        [
                          0.8888888888888888,
                          "#fdca26"
                        ],
                        [
                          1,
                          "#f0f921"
                        ]
                      ],
                      "sequentialminus": [
                        [
                          0,
                          "#0d0887"
                        ],
                        [
                          0.1111111111111111,
                          "#46039f"
                        ],
                        [
                          0.2222222222222222,
                          "#7201a8"
                        ],
                        [
                          0.3333333333333333,
                          "#9c179e"
                        ],
                        [
                          0.4444444444444444,
                          "#bd3786"
                        ],
                        [
                          0.5555555555555556,
                          "#d8576b"
                        ],
                        [
                          0.6666666666666666,
                          "#ed7953"
                        ],
                        [
                          0.7777777777777778,
                          "#fb9f3a"
                        ],
                        [
                          0.8888888888888888,
                          "#fdca26"
                        ],
                        [
                          1,
                          "#f0f921"
                        ]
                      ]
                    },
                    "colorway": [
                      "#636efa",
                      "#EF553B",
                      "#00cc96",
                      "#ab63fa",
                      "#FFA15A",
                      "#19d3f3",
                      "#FF6692",
                      "#B6E880",
                      "#FF97FF",
                      "#FECB52"
                    ],
                    "font": {
                      "color": "#2a3f5f"
                    },
                    "geo": {
                      "bgcolor": "white",
                      "lakecolor": "white",
                      "landcolor": "#E5ECF6",
                      "showlakes": true,
                      "showland": true,
                      "subunitcolor": "white"
                    },
                    "hoverlabel": {
                      "align": "left"
                    },
                    "hovermode": "closest",
                    "mapbox": {
                      "style": "light"
                    },
                    "paper_bgcolor": "white",
                    "plot_bgcolor": "#E5ECF6",
                    "polar": {
                      "angularaxis": {
                        "gridcolor": "white",
                        "linecolor": "white",
                        "ticks": ""
                      },
                      "bgcolor": "#E5ECF6",
                      "radialaxis": {
                        "gridcolor": "white",
                        "linecolor": "white",
                        "ticks": ""
                      }
                    },
                    "scene": {
                      "xaxis": {
                        "backgroundcolor": "#E5ECF6",
                        "gridcolor": "white",
                        "gridwidth": 2,
                        "linecolor": "white",
                        "showbackground": true,
                        "ticks": "",
                        "zerolinecolor": "white"
                      },
                      "yaxis": {
                        "backgroundcolor": "#E5ECF6",
                        "gridcolor": "white",
                        "gridwidth": 2,
                        "linecolor": "white",
                        "showbackground": true,
                        "ticks": "",
                        "zerolinecolor": "white"
                      },
                      "zaxis": {
                        "backgroundcolor": "#E5ECF6",
                        "gridcolor": "white",
                        "gridwidth": 2,
                        "linecolor": "white",
                        "showbackground": true,
                        "ticks": "",
                        "zerolinecolor": "white"
                      }
                    },
                    "shapedefaults": {
                      "line": {
                        "color": "#2a3f5f"
                      }
                    },
                    "ternary": {
                      "aaxis": {
                        "gridcolor": "white",
                        "linecolor": "white",
                        "ticks": ""
                      },
                      "baxis": {
                        "gridcolor": "white",
                        "linecolor": "white",
                        "ticks": ""
                      },
                      "bgcolor": "#E5ECF6",
                      "caxis": {
                        "gridcolor": "white",
                        "linecolor": "white",
                        "ticks": ""
                      }
                    },
                    "title": {
                      "x": 0.05
                    },
                    "xaxis": {
                      "automargin": true,
                      "gridcolor": "white",
                      "linecolor": "white",
                      "ticks": "",
                      "title": {
                        "standoff": 15
                      },
                      "zerolinecolor": "white",
                      "zerolinewidth": 2
                    },
                    "yaxis": {
                      "automargin": true,
                      "gridcolor": "white",
                      "linecolor": "white",
                      "ticks": "",
                      "title": {
                        "standoff": 15
                      },
                      "zerolinecolor": "white",
                      "zerolinewidth": 2
                    }
                  }
                },
                "title": {
                  "text": "Mobility functions"
                },
                "width": 1000,
                "xaxis": {
                  "title": {
                    "text": "Days"
                  }
                },
                "yaxis": {
                  "title": {
                    "text": "daily change in mobility %"
                  }
                }
              }
            }
          },
          "metadata": {},
          "output_type": "display_data"
        }
      ],
      "source": [
        "temp_VT = VT_mobility_data['Totalt']\n",
        "\n",
        "T = []\n",
        "for week in range(len(temp_VT)-1):\n",
        "    T.extend(np.linspace(temp_VT[week],temp_VT[week+1],8)[:7])\n",
        "    \n",
        "VT_mobilityfunc = interp1d(t,T[:prediction_time],kind='linear',fill_value=\"extrapolate\")\n",
        "\n",
        "functionfig = go.Figure()\n",
        "\n",
        "functionfig.add_trace(go.Scatter(x=t, y=VT_mobilityfunc(t),\n",
        "                    mode='lines',\n",
        "                    name='Mobility function'))\n",
        "functionfig.update_layout(\n",
        "                title='Mobility functions',\n",
        "                xaxis_title='Days',\n",
        "                yaxis_title='daily change in mobility %',\n",
        "                autosize=False,\n",
        "                width=1000,\n",
        "                \n",
        "                font=dict(\n",
        "                family=\"Courier New, monospace\",\n",
        "                size=14,\n",
        "                color=\"RebeccaPurple\"\n",
        "    )\n",
        ") \n",
        "functionfig.show()"
      ]
    },
    {
      "cell_type": "markdown",
      "metadata": {
        "id": "SuIarxTfu7iZ"
      },
      "source": [
        "This cell defines the model function and contains most of its dependensies. The SIR model is defined as presendted my Wiess (STORT FEL Gamma är 0.2 vilket är för dagar inte "
      ]
    },
    {
      "cell_type": "code",
      "execution_count": 4,
      "metadata": {
        "id": "S_ZaIieuKfP1"
      },
      "outputs": [
        {
          "name": "stdout",
          "output_type": "stream",
          "text": [
            "[0.37455529 0.00352953]\n",
            "[[2.39625888e-06 6.72770811e-08]\n",
            " [6.72770811e-08 2.10005069e-09]]\n",
            "6.438748590841365\n"
          ]
        },
        {
          "data": {
            "application/vnd.plotly.v1+json": {
              "config": {
                "plotlyServerURL": "https://plot.ly"
              },
              "data": [
                {
                  "mode": "markers",
                  "name": "Admission data",
                  "type": "scatter",
                  "x": [
                    "2020-03-01T00:00:00",
                    "2020-03-02T00:00:00",
                    "2020-03-03T00:00:00",
                    "2020-03-04T00:00:00",
                    "2020-03-05T00:00:00",
                    "2020-03-06T00:00:00",
                    "2020-03-07T00:00:00",
                    "2020-03-08T00:00:00",
                    "2020-03-09T00:00:00",
                    "2020-03-10T00:00:00",
                    "2020-03-11T00:00:00",
                    "2020-03-12T00:00:00",
                    "2020-03-13T00:00:00",
                    "2020-03-14T00:00:00",
                    "2020-03-15T00:00:00",
                    "2020-03-16T00:00:00",
                    "2020-03-17T00:00:00",
                    "2020-03-18T00:00:00",
                    "2020-03-19T00:00:00",
                    "2020-03-20T00:00:00",
                    "2020-03-21T00:00:00",
                    "2020-03-22T00:00:00",
                    "2020-03-23T00:00:00",
                    "2020-03-24T00:00:00",
                    "2020-03-25T00:00:00",
                    "2020-03-26T00:00:00",
                    "2020-03-27T00:00:00",
                    "2020-03-28T00:00:00",
                    "2020-03-29T00:00:00",
                    "2020-03-30T00:00:00",
                    "2020-03-31T00:00:00",
                    "2020-04-01T00:00:00",
                    "2020-04-02T00:00:00",
                    "2020-04-03T00:00:00",
                    "2020-04-04T00:00:00",
                    "2020-04-05T00:00:00",
                    "2020-04-06T00:00:00",
                    "2020-04-07T00:00:00",
                    "2020-04-08T00:00:00",
                    "2020-04-09T00:00:00",
                    "2020-04-10T00:00:00",
                    "2020-04-11T00:00:00",
                    "2020-04-12T00:00:00",
                    "2020-04-13T00:00:00",
                    "2020-04-14T00:00:00",
                    "2020-04-15T00:00:00",
                    "2020-04-16T00:00:00",
                    "2020-04-17T00:00:00",
                    "2020-04-18T00:00:00",
                    "2020-04-19T00:00:00",
                    "2020-04-20T00:00:00",
                    "2020-04-21T00:00:00",
                    "2020-04-22T00:00:00",
                    "2020-04-23T00:00:00",
                    "2020-04-24T00:00:00",
                    "2020-04-25T00:00:00",
                    "2020-04-26T00:00:00",
                    "2020-04-27T00:00:00",
                    "2020-04-28T00:00:00",
                    "2020-04-29T00:00:00",
                    "2020-04-30T00:00:00",
                    "2020-05-01T00:00:00",
                    "2020-05-02T00:00:00",
                    "2020-05-03T00:00:00",
                    "2020-05-04T00:00:00",
                    "2020-05-05T00:00:00",
                    "2020-05-06T00:00:00",
                    "2020-05-07T00:00:00",
                    "2020-05-08T00:00:00",
                    "2020-05-09T00:00:00",
                    "2020-05-10T00:00:00",
                    "2020-05-11T00:00:00",
                    "2020-05-12T00:00:00",
                    "2020-05-13T00:00:00",
                    "2020-05-14T00:00:00",
                    "2020-05-15T00:00:00",
                    "2020-05-16T00:00:00",
                    "2020-05-17T00:00:00",
                    "2020-05-18T00:00:00",
                    "2020-05-19T00:00:00",
                    "2020-05-20T00:00:00",
                    "2020-05-21T00:00:00",
                    "2020-05-22T00:00:00",
                    "2020-05-23T00:00:00",
                    "2020-05-24T00:00:00",
                    "2020-05-25T00:00:00",
                    "2020-05-26T00:00:00",
                    "2020-05-27T00:00:00",
                    "2020-05-28T00:00:00",
                    "2020-05-29T00:00:00",
                    "2020-05-30T00:00:00",
                    "2020-05-31T00:00:00",
                    "2020-06-01T00:00:00",
                    "2020-06-02T00:00:00",
                    "2020-06-03T00:00:00",
                    "2020-06-04T00:00:00",
                    "2020-06-05T00:00:00",
                    "2020-06-06T00:00:00",
                    "2020-06-07T00:00:00",
                    "2020-06-08T00:00:00",
                    "2020-06-09T00:00:00",
                    "2020-06-10T00:00:00",
                    "2020-06-11T00:00:00",
                    "2020-06-12T00:00:00",
                    "2020-06-13T00:00:00",
                    "2020-06-14T00:00:00",
                    "2020-06-15T00:00:00",
                    "2020-06-16T00:00:00",
                    "2020-06-17T00:00:00",
                    "2020-06-18T00:00:00",
                    "2020-06-19T00:00:00",
                    "2020-06-20T00:00:00",
                    "2020-06-21T00:00:00",
                    "2020-06-22T00:00:00",
                    "2020-06-23T00:00:00",
                    "2020-06-24T00:00:00",
                    "2020-06-25T00:00:00",
                    "2020-06-26T00:00:00",
                    "2020-06-27T00:00:00",
                    "2020-06-28T00:00:00",
                    "2020-06-29T00:00:00",
                    "2020-06-30T00:00:00",
                    "2020-07-01T00:00:00",
                    "2020-07-02T00:00:00",
                    "2020-07-03T00:00:00",
                    "2020-07-04T00:00:00",
                    "2020-07-05T00:00:00",
                    "2020-07-06T00:00:00",
                    "2020-07-07T00:00:00",
                    "2020-07-08T00:00:00",
                    "2020-07-09T00:00:00",
                    "2020-07-10T00:00:00",
                    "2020-07-11T00:00:00",
                    "2020-07-12T00:00:00",
                    "2020-07-13T00:00:00",
                    "2020-07-14T00:00:00",
                    "2020-07-15T00:00:00",
                    "2020-07-16T00:00:00",
                    "2020-07-17T00:00:00",
                    "2020-07-18T00:00:00",
                    "2020-07-19T00:00:00",
                    "2020-07-20T00:00:00",
                    "2020-07-21T00:00:00",
                    "2020-07-22T00:00:00",
                    "2020-07-23T00:00:00",
                    "2020-07-24T00:00:00",
                    "2020-07-25T00:00:00",
                    "2020-07-26T00:00:00",
                    "2020-07-27T00:00:00",
                    "2020-07-28T00:00:00",
                    "2020-07-29T00:00:00",
                    "2020-07-30T00:00:00",
                    "2020-07-31T00:00:00",
                    "2020-08-01T00:00:00",
                    "2020-08-02T00:00:00",
                    "2020-08-03T00:00:00",
                    "2020-08-04T00:00:00",
                    "2020-08-05T00:00:00",
                    "2020-08-06T00:00:00",
                    "2020-08-07T00:00:00",
                    "2020-08-08T00:00:00",
                    "2020-08-09T00:00:00",
                    "2020-08-10T00:00:00",
                    "2020-08-11T00:00:00",
                    "2020-08-12T00:00:00",
                    "2020-08-13T00:00:00",
                    "2020-08-14T00:00:00",
                    "2020-08-15T00:00:00",
                    "2020-08-16T00:00:00",
                    "2020-08-17T00:00:00",
                    "2020-08-18T00:00:00",
                    "2020-08-19T00:00:00",
                    "2020-08-20T00:00:00"
                  ],
                  "y": [
                    0,
                    0,
                    0,
                    0,
                    0,
                    0,
                    0,
                    0,
                    0,
                    0,
                    0,
                    0,
                    0,
                    0,
                    0,
                    0,
                    0,
                    0,
                    0,
                    0,
                    0,
                    1,
                    0,
                    0,
                    0,
                    3,
                    1,
                    1,
                    1,
                    1,
                    1,
                    3,
                    4,
                    1,
                    1,
                    6,
                    4,
                    5,
                    10,
                    4,
                    2,
                    1,
                    5,
                    9,
                    8,
                    6,
                    9,
                    7,
                    7,
                    10,
                    9,
                    15,
                    9,
                    7,
                    10,
                    15,
                    14,
                    21,
                    17,
                    25,
                    15,
                    16,
                    15,
                    10,
                    15,
                    16,
                    20,
                    23,
                    14,
                    16,
                    34,
                    18,
                    18,
                    26,
                    22,
                    25,
                    18,
                    22,
                    24,
                    18,
                    21,
                    20,
                    18,
                    12,
                    18,
                    26,
                    19,
                    19,
                    14,
                    16,
                    7,
                    11,
                    8,
                    16,
                    12,
                    14,
                    8,
                    5,
                    13,
                    14,
                    13,
                    14,
                    16,
                    8,
                    8,
                    14,
                    13,
                    17,
                    14,
                    16,
                    18,
                    6,
                    16,
                    17,
                    8,
                    11,
                    10,
                    7,
                    9,
                    13,
                    13,
                    9,
                    13,
                    17,
                    7,
                    9,
                    11,
                    14,
                    14,
                    11,
                    8,
                    13,
                    11,
                    2,
                    9,
                    12,
                    8,
                    8,
                    3,
                    9,
                    7,
                    14,
                    7,
                    8,
                    7,
                    4,
                    4,
                    8,
                    4,
                    5,
                    5,
                    6,
                    0,
                    5,
                    5,
                    5,
                    4,
                    4,
                    3,
                    1,
                    2,
                    3,
                    3,
                    3,
                    5,
                    2,
                    2,
                    1,
                    1,
                    5,
                    3,
                    1,
                    1
                  ]
                },
                {
                  "mode": "lines",
                  "name": "Predicted admissions",
                  "type": "scatter",
                  "x": [
                    "2020-03-01T00:00:00",
                    "2020-03-02T00:00:00",
                    "2020-03-03T00:00:00",
                    "2020-03-04T00:00:00",
                    "2020-03-05T00:00:00",
                    "2020-03-06T00:00:00",
                    "2020-03-07T00:00:00",
                    "2020-03-08T00:00:00",
                    "2020-03-09T00:00:00",
                    "2020-03-10T00:00:00",
                    "2020-03-11T00:00:00",
                    "2020-03-12T00:00:00",
                    "2020-03-13T00:00:00",
                    "2020-03-14T00:00:00",
                    "2020-03-15T00:00:00",
                    "2020-03-16T00:00:00",
                    "2020-03-17T00:00:00",
                    "2020-03-18T00:00:00",
                    "2020-03-19T00:00:00",
                    "2020-03-20T00:00:00",
                    "2020-03-21T00:00:00",
                    "2020-03-22T00:00:00",
                    "2020-03-23T00:00:00",
                    "2020-03-24T00:00:00",
                    "2020-03-25T00:00:00",
                    "2020-03-26T00:00:00",
                    "2020-03-27T00:00:00",
                    "2020-03-28T00:00:00",
                    "2020-03-29T00:00:00",
                    "2020-03-30T00:00:00",
                    "2020-03-31T00:00:00",
                    "2020-04-01T00:00:00",
                    "2020-04-02T00:00:00",
                    "2020-04-03T00:00:00",
                    "2020-04-04T00:00:00",
                    "2020-04-05T00:00:00",
                    "2020-04-06T00:00:00",
                    "2020-04-07T00:00:00",
                    "2020-04-08T00:00:00",
                    "2020-04-09T00:00:00",
                    "2020-04-10T00:00:00",
                    "2020-04-11T00:00:00",
                    "2020-04-12T00:00:00",
                    "2020-04-13T00:00:00",
                    "2020-04-14T00:00:00",
                    "2020-04-15T00:00:00",
                    "2020-04-16T00:00:00",
                    "2020-04-17T00:00:00",
                    "2020-04-18T00:00:00",
                    "2020-04-19T00:00:00",
                    "2020-04-20T00:00:00",
                    "2020-04-21T00:00:00",
                    "2020-04-22T00:00:00",
                    "2020-04-23T00:00:00",
                    "2020-04-24T00:00:00",
                    "2020-04-25T00:00:00",
                    "2020-04-26T00:00:00",
                    "2020-04-27T00:00:00",
                    "2020-04-28T00:00:00",
                    "2020-04-29T00:00:00",
                    "2020-04-30T00:00:00",
                    "2020-05-01T00:00:00",
                    "2020-05-02T00:00:00",
                    "2020-05-03T00:00:00",
                    "2020-05-04T00:00:00",
                    "2020-05-05T00:00:00",
                    "2020-05-06T00:00:00",
                    "2020-05-07T00:00:00",
                    "2020-05-08T00:00:00",
                    "2020-05-09T00:00:00",
                    "2020-05-10T00:00:00",
                    "2020-05-11T00:00:00",
                    "2020-05-12T00:00:00",
                    "2020-05-13T00:00:00",
                    "2020-05-14T00:00:00",
                    "2020-05-15T00:00:00",
                    "2020-05-16T00:00:00",
                    "2020-05-17T00:00:00",
                    "2020-05-18T00:00:00",
                    "2020-05-19T00:00:00",
                    "2020-05-20T00:00:00",
                    "2020-05-21T00:00:00",
                    "2020-05-22T00:00:00",
                    "2020-05-23T00:00:00",
                    "2020-05-24T00:00:00",
                    "2020-05-25T00:00:00",
                    "2020-05-26T00:00:00",
                    "2020-05-27T00:00:00",
                    "2020-05-28T00:00:00",
                    "2020-05-29T00:00:00",
                    "2020-05-30T00:00:00",
                    "2020-05-31T00:00:00",
                    "2020-06-01T00:00:00",
                    "2020-06-02T00:00:00",
                    "2020-06-03T00:00:00",
                    "2020-06-04T00:00:00",
                    "2020-06-05T00:00:00",
                    "2020-06-06T00:00:00",
                    "2020-06-07T00:00:00",
                    "2020-06-08T00:00:00",
                    "2020-06-09T00:00:00",
                    "2020-06-10T00:00:00",
                    "2020-06-11T00:00:00",
                    "2020-06-12T00:00:00",
                    "2020-06-13T00:00:00",
                    "2020-06-14T00:00:00",
                    "2020-06-15T00:00:00",
                    "2020-06-16T00:00:00",
                    "2020-06-17T00:00:00",
                    "2020-06-18T00:00:00",
                    "2020-06-19T00:00:00",
                    "2020-06-20T00:00:00",
                    "2020-06-21T00:00:00",
                    "2020-06-22T00:00:00",
                    "2020-06-23T00:00:00",
                    "2020-06-24T00:00:00",
                    "2020-06-25T00:00:00",
                    "2020-06-26T00:00:00",
                    "2020-06-27T00:00:00",
                    "2020-06-28T00:00:00",
                    "2020-06-29T00:00:00",
                    "2020-06-30T00:00:00",
                    "2020-07-01T00:00:00",
                    "2020-07-02T00:00:00",
                    "2020-07-03T00:00:00",
                    "2020-07-04T00:00:00",
                    "2020-07-05T00:00:00",
                    "2020-07-06T00:00:00",
                    "2020-07-07T00:00:00",
                    "2020-07-08T00:00:00",
                    "2020-07-09T00:00:00",
                    "2020-07-10T00:00:00",
                    "2020-07-11T00:00:00",
                    "2020-07-12T00:00:00",
                    "2020-07-13T00:00:00",
                    "2020-07-14T00:00:00",
                    "2020-07-15T00:00:00",
                    "2020-07-16T00:00:00",
                    "2020-07-17T00:00:00",
                    "2020-07-18T00:00:00",
                    "2020-07-19T00:00:00",
                    "2020-07-20T00:00:00",
                    "2020-07-21T00:00:00",
                    "2020-07-22T00:00:00",
                    "2020-07-23T00:00:00",
                    "2020-07-24T00:00:00",
                    "2020-07-25T00:00:00",
                    "2020-07-26T00:00:00",
                    "2020-07-27T00:00:00",
                    "2020-07-28T00:00:00",
                    "2020-07-29T00:00:00",
                    "2020-07-30T00:00:00",
                    "2020-07-31T00:00:00",
                    "2020-08-01T00:00:00",
                    "2020-08-02T00:00:00",
                    "2020-08-03T00:00:00",
                    "2020-08-04T00:00:00",
                    "2020-08-05T00:00:00",
                    "2020-08-06T00:00:00",
                    "2020-08-07T00:00:00",
                    "2020-08-08T00:00:00",
                    "2020-08-09T00:00:00",
                    "2020-08-10T00:00:00",
                    "2020-08-11T00:00:00",
                    "2020-08-12T00:00:00",
                    "2020-08-13T00:00:00",
                    "2020-08-14T00:00:00",
                    "2020-08-15T00:00:00",
                    "2020-08-16T00:00:00",
                    "2020-08-17T00:00:00",
                    "2020-08-18T00:00:00",
                    "2020-08-19T00:00:00",
                    "2020-08-20T00:00:00"
                  ],
                  "y": [
                    0.013,
                    0.01619956570951966,
                    0.020141868213372327,
                    0.024988055166159682,
                    0.03093153343251179,
                    0.03820381092190219,
                    0.04708126403932825,
                    0.057892948096419636,
                    0.07102958261057074,
                    0.08695384870452193,
                    0.10621214857083922,
                    0.1294479811988368,
                    0.1574171012484796,
                    0.19100462790647227,
                    0.23124427659432545,
                    0.27933988508618707,
                    0.33668940212280235,
                    0.40491149794074194,
                    0.485874941787243,
                    0.5817308717643369,
                    0.6949480532825558,
                    0.828351185272017,
                    0.9851622662841899,
                    1.16904497312739,
                    1.384151932380874,
                    1.6351746793805406,
                    1.927395995221265,
                    2.266744191774873,
                    2.6598487802962687,
                    3.1098633274840246,
                    3.6179507432795504,
                    4.1881173110321015,
                    4.82400285808688,
                    5.52874243697043,
                    6.3048197054833,
                    7.153915833482047,
                    8.04147932239168,
                    8.915535893493525,
                    9.749437315054584,
                    10.515603641696794,
                    11.187012776795532,
                    11.73877304191993,
                    12.149653520827128,
                    12.464619118630702,
                    12.738170393687332,
                    12.967280874286597,
                    13.149390366208568,
                    13.282453575765064,
                    13.364977431714617,
                    13.396049580100609,
                    13.390439818737045,
                    13.363277839435625,
                    13.3147148638557,
                    13.245005478460978,
                    13.154505483478875,
                    13.043668773557354,
                    12.913043460779168,
                    12.747640878608776,
                    12.533510366770981,
                    12.273233871628433,
                    11.969895823445713,
                    11.627021491247227,
                    11.248509414579603,
                    10.838557596730068,
                    10.431749248572304,
                    10.057963335078936,
                    9.714719528668173,
                    9.399782871080145,
                    9.111140113049794,
                    8.846978473817837,
                    8.605667131121526,
                    8.391595926611279,
                    8.208767126885258,
                    8.055347424755796,
                    7.929816650498458,
                    7.830943249021354,
                    7.757763692325087,
                    7.709567208682788,
                    7.667340481308147,
                    7.612578627821025,
                    7.545561730436715,
                    7.466628947419374,
                    7.376175633138355,
                    7.274649993129627,
                    7.162549475669176,
                    7.054090537630334,
                    6.962656184979891,
                    6.8876195265720455,
                    6.828468760744546,
                    6.784801806137338,
                    6.756321709151809,
                    6.742833185057962,
                    6.738209419438081,
                    6.73640004520769,
                    6.737401536621421,
                    6.741213788519505,
                    6.747840123553847,
                    6.757287300216297,
                    6.76956548689568,
                    6.775431126160048,
                    6.765628209989821,
                    6.740231758021649,
                    6.699424958138031,
                    6.643496815909728,
                    6.572838618615347,
                    6.487939629472375,
                    6.412715716663807,
                    6.370029479896882,
                    6.359227378762793,
                    6.380134271989468,
                    6.433048913265443,
                    6.518750856686092,
                    6.638518940328435,
                    6.775841675533568,
                    6.913010100341697,
                    7.0498973430183405,
                    7.186374153700153,
                    7.322309109389172,
                    7.4575688851512565,
                    7.592018514652851,
                    7.734510596635469,
                    7.894569316113194,
                    8.073153618613762,
                    8.271346742635851,
                    8.490367414203483,
                    8.731581495002166,
                    8.996515940365098,
                    9.246808787136441,
                    9.439920652909066,
                    9.572057932535223,
                    9.640609922474843,
                    9.644233886500839,
                    9.582898123057127,
                    9.4578820369889,
                    9.31666709411425,
                    9.20443403923933,
                    9.120168705910297,
                    9.063111416861608,
                    9.032745538100919,
                    9.028789614537251,
                    9.051193099897338,
                    9.07998131004687,
                    9.09502719419116,
                    9.096270004438617,
                    9.083712326670318,
                    9.057420011583087,
                    9.017521558152545,
                    8.96420700944745,
                    8.897726574347184,
                    8.818388265824659,
                    8.726555827669964,
                    8.622645762712782,
                    8.507124174320476,
                    8.380503340358656,
                    8.243337689032147,
                    8.096219797420165,
                    7.939776187477951,
                    7.774662933689604,
                    7.601560968454913,
                    7.421171458364536,
                    7.2342111147695105,
                    7.041407483972886,
                    6.850216137635512,
                    6.66733426586797,
                    6.492373973761886,
                    6.324968274179865,
                    6.164769835460851,
                    6.011449931776837,
                    5.864697380001483,
                    5.725621541565971,
                    5.59521657441212,
                    5.473037985069448,
                    5.358674365851995
                  ]
                }
              ],
              "layout": {
                "autosize": false,
                "font": {
                  "color": "RebeccaPurple",
                  "family": "Courier New, monospace",
                  "size": 14
                },
                "template": {
                  "data": {
                    "bar": [
                      {
                        "error_x": {
                          "color": "#2a3f5f"
                        },
                        "error_y": {
                          "color": "#2a3f5f"
                        },
                        "marker": {
                          "line": {
                            "color": "#E5ECF6",
                            "width": 0.5
                          },
                          "pattern": {
                            "fillmode": "overlay",
                            "size": 10,
                            "solidity": 0.2
                          }
                        },
                        "type": "bar"
                      }
                    ],
                    "barpolar": [
                      {
                        "marker": {
                          "line": {
                            "color": "#E5ECF6",
                            "width": 0.5
                          },
                          "pattern": {
                            "fillmode": "overlay",
                            "size": 10,
                            "solidity": 0.2
                          }
                        },
                        "type": "barpolar"
                      }
                    ],
                    "carpet": [
                      {
                        "aaxis": {
                          "endlinecolor": "#2a3f5f",
                          "gridcolor": "white",
                          "linecolor": "white",
                          "minorgridcolor": "white",
                          "startlinecolor": "#2a3f5f"
                        },
                        "baxis": {
                          "endlinecolor": "#2a3f5f",
                          "gridcolor": "white",
                          "linecolor": "white",
                          "minorgridcolor": "white",
                          "startlinecolor": "#2a3f5f"
                        },
                        "type": "carpet"
                      }
                    ],
                    "choropleth": [
                      {
                        "colorbar": {
                          "outlinewidth": 0,
                          "ticks": ""
                        },
                        "type": "choropleth"
                      }
                    ],
                    "contour": [
                      {
                        "colorbar": {
                          "outlinewidth": 0,
                          "ticks": ""
                        },
                        "colorscale": [
                          [
                            0,
                            "#0d0887"
                          ],
                          [
                            0.1111111111111111,
                            "#46039f"
                          ],
                          [
                            0.2222222222222222,
                            "#7201a8"
                          ],
                          [
                            0.3333333333333333,
                            "#9c179e"
                          ],
                          [
                            0.4444444444444444,
                            "#bd3786"
                          ],
                          [
                            0.5555555555555556,
                            "#d8576b"
                          ],
                          [
                            0.6666666666666666,
                            "#ed7953"
                          ],
                          [
                            0.7777777777777778,
                            "#fb9f3a"
                          ],
                          [
                            0.8888888888888888,
                            "#fdca26"
                          ],
                          [
                            1,
                            "#f0f921"
                          ]
                        ],
                        "type": "contour"
                      }
                    ],
                    "contourcarpet": [
                      {
                        "colorbar": {
                          "outlinewidth": 0,
                          "ticks": ""
                        },
                        "type": "contourcarpet"
                      }
                    ],
                    "heatmap": [
                      {
                        "colorbar": {
                          "outlinewidth": 0,
                          "ticks": ""
                        },
                        "colorscale": [
                          [
                            0,
                            "#0d0887"
                          ],
                          [
                            0.1111111111111111,
                            "#46039f"
                          ],
                          [
                            0.2222222222222222,
                            "#7201a8"
                          ],
                          [
                            0.3333333333333333,
                            "#9c179e"
                          ],
                          [
                            0.4444444444444444,
                            "#bd3786"
                          ],
                          [
                            0.5555555555555556,
                            "#d8576b"
                          ],
                          [
                            0.6666666666666666,
                            "#ed7953"
                          ],
                          [
                            0.7777777777777778,
                            "#fb9f3a"
                          ],
                          [
                            0.8888888888888888,
                            "#fdca26"
                          ],
                          [
                            1,
                            "#f0f921"
                          ]
                        ],
                        "type": "heatmap"
                      }
                    ],
                    "heatmapgl": [
                      {
                        "colorbar": {
                          "outlinewidth": 0,
                          "ticks": ""
                        },
                        "colorscale": [
                          [
                            0,
                            "#0d0887"
                          ],
                          [
                            0.1111111111111111,
                            "#46039f"
                          ],
                          [
                            0.2222222222222222,
                            "#7201a8"
                          ],
                          [
                            0.3333333333333333,
                            "#9c179e"
                          ],
                          [
                            0.4444444444444444,
                            "#bd3786"
                          ],
                          [
                            0.5555555555555556,
                            "#d8576b"
                          ],
                          [
                            0.6666666666666666,
                            "#ed7953"
                          ],
                          [
                            0.7777777777777778,
                            "#fb9f3a"
                          ],
                          [
                            0.8888888888888888,
                            "#fdca26"
                          ],
                          [
                            1,
                            "#f0f921"
                          ]
                        ],
                        "type": "heatmapgl"
                      }
                    ],
                    "histogram": [
                      {
                        "marker": {
                          "pattern": {
                            "fillmode": "overlay",
                            "size": 10,
                            "solidity": 0.2
                          }
                        },
                        "type": "histogram"
                      }
                    ],
                    "histogram2d": [
                      {
                        "colorbar": {
                          "outlinewidth": 0,
                          "ticks": ""
                        },
                        "colorscale": [
                          [
                            0,
                            "#0d0887"
                          ],
                          [
                            0.1111111111111111,
                            "#46039f"
                          ],
                          [
                            0.2222222222222222,
                            "#7201a8"
                          ],
                          [
                            0.3333333333333333,
                            "#9c179e"
                          ],
                          [
                            0.4444444444444444,
                            "#bd3786"
                          ],
                          [
                            0.5555555555555556,
                            "#d8576b"
                          ],
                          [
                            0.6666666666666666,
                            "#ed7953"
                          ],
                          [
                            0.7777777777777778,
                            "#fb9f3a"
                          ],
                          [
                            0.8888888888888888,
                            "#fdca26"
                          ],
                          [
                            1,
                            "#f0f921"
                          ]
                        ],
                        "type": "histogram2d"
                      }
                    ],
                    "histogram2dcontour": [
                      {
                        "colorbar": {
                          "outlinewidth": 0,
                          "ticks": ""
                        },
                        "colorscale": [
                          [
                            0,
                            "#0d0887"
                          ],
                          [
                            0.1111111111111111,
                            "#46039f"
                          ],
                          [
                            0.2222222222222222,
                            "#7201a8"
                          ],
                          [
                            0.3333333333333333,
                            "#9c179e"
                          ],
                          [
                            0.4444444444444444,
                            "#bd3786"
                          ],
                          [
                            0.5555555555555556,
                            "#d8576b"
                          ],
                          [
                            0.6666666666666666,
                            "#ed7953"
                          ],
                          [
                            0.7777777777777778,
                            "#fb9f3a"
                          ],
                          [
                            0.8888888888888888,
                            "#fdca26"
                          ],
                          [
                            1,
                            "#f0f921"
                          ]
                        ],
                        "type": "histogram2dcontour"
                      }
                    ],
                    "mesh3d": [
                      {
                        "colorbar": {
                          "outlinewidth": 0,
                          "ticks": ""
                        },
                        "type": "mesh3d"
                      }
                    ],
                    "parcoords": [
                      {
                        "line": {
                          "colorbar": {
                            "outlinewidth": 0,
                            "ticks": ""
                          }
                        },
                        "type": "parcoords"
                      }
                    ],
                    "pie": [
                      {
                        "automargin": true,
                        "type": "pie"
                      }
                    ],
                    "scatter": [
                      {
                        "marker": {
                          "colorbar": {
                            "outlinewidth": 0,
                            "ticks": ""
                          }
                        },
                        "type": "scatter"
                      }
                    ],
                    "scatter3d": [
                      {
                        "line": {
                          "colorbar": {
                            "outlinewidth": 0,
                            "ticks": ""
                          }
                        },
                        "marker": {
                          "colorbar": {
                            "outlinewidth": 0,
                            "ticks": ""
                          }
                        },
                        "type": "scatter3d"
                      }
                    ],
                    "scattercarpet": [
                      {
                        "marker": {
                          "colorbar": {
                            "outlinewidth": 0,
                            "ticks": ""
                          }
                        },
                        "type": "scattercarpet"
                      }
                    ],
                    "scattergeo": [
                      {
                        "marker": {
                          "colorbar": {
                            "outlinewidth": 0,
                            "ticks": ""
                          }
                        },
                        "type": "scattergeo"
                      }
                    ],
                    "scattergl": [
                      {
                        "marker": {
                          "colorbar": {
                            "outlinewidth": 0,
                            "ticks": ""
                          }
                        },
                        "type": "scattergl"
                      }
                    ],
                    "scattermapbox": [
                      {
                        "marker": {
                          "colorbar": {
                            "outlinewidth": 0,
                            "ticks": ""
                          }
                        },
                        "type": "scattermapbox"
                      }
                    ],
                    "scatterpolar": [
                      {
                        "marker": {
                          "colorbar": {
                            "outlinewidth": 0,
                            "ticks": ""
                          }
                        },
                        "type": "scatterpolar"
                      }
                    ],
                    "scatterpolargl": [
                      {
                        "marker": {
                          "colorbar": {
                            "outlinewidth": 0,
                            "ticks": ""
                          }
                        },
                        "type": "scatterpolargl"
                      }
                    ],
                    "scatterternary": [
                      {
                        "marker": {
                          "colorbar": {
                            "outlinewidth": 0,
                            "ticks": ""
                          }
                        },
                        "type": "scatterternary"
                      }
                    ],
                    "surface": [
                      {
                        "colorbar": {
                          "outlinewidth": 0,
                          "ticks": ""
                        },
                        "colorscale": [
                          [
                            0,
                            "#0d0887"
                          ],
                          [
                            0.1111111111111111,
                            "#46039f"
                          ],
                          [
                            0.2222222222222222,
                            "#7201a8"
                          ],
                          [
                            0.3333333333333333,
                            "#9c179e"
                          ],
                          [
                            0.4444444444444444,
                            "#bd3786"
                          ],
                          [
                            0.5555555555555556,
                            "#d8576b"
                          ],
                          [
                            0.6666666666666666,
                            "#ed7953"
                          ],
                          [
                            0.7777777777777778,
                            "#fb9f3a"
                          ],
                          [
                            0.8888888888888888,
                            "#fdca26"
                          ],
                          [
                            1,
                            "#f0f921"
                          ]
                        ],
                        "type": "surface"
                      }
                    ],
                    "table": [
                      {
                        "cells": {
                          "fill": {
                            "color": "#EBF0F8"
                          },
                          "line": {
                            "color": "white"
                          }
                        },
                        "header": {
                          "fill": {
                            "color": "#C8D4E3"
                          },
                          "line": {
                            "color": "white"
                          }
                        },
                        "type": "table"
                      }
                    ]
                  },
                  "layout": {
                    "annotationdefaults": {
                      "arrowcolor": "#2a3f5f",
                      "arrowhead": 0,
                      "arrowwidth": 1
                    },
                    "autotypenumbers": "strict",
                    "coloraxis": {
                      "colorbar": {
                        "outlinewidth": 0,
                        "ticks": ""
                      }
                    },
                    "colorscale": {
                      "diverging": [
                        [
                          0,
                          "#8e0152"
                        ],
                        [
                          0.1,
                          "#c51b7d"
                        ],
                        [
                          0.2,
                          "#de77ae"
                        ],
                        [
                          0.3,
                          "#f1b6da"
                        ],
                        [
                          0.4,
                          "#fde0ef"
                        ],
                        [
                          0.5,
                          "#f7f7f7"
                        ],
                        [
                          0.6,
                          "#e6f5d0"
                        ],
                        [
                          0.7,
                          "#b8e186"
                        ],
                        [
                          0.8,
                          "#7fbc41"
                        ],
                        [
                          0.9,
                          "#4d9221"
                        ],
                        [
                          1,
                          "#276419"
                        ]
                      ],
                      "sequential": [
                        [
                          0,
                          "#0d0887"
                        ],
                        [
                          0.1111111111111111,
                          "#46039f"
                        ],
                        [
                          0.2222222222222222,
                          "#7201a8"
                        ],
                        [
                          0.3333333333333333,
                          "#9c179e"
                        ],
                        [
                          0.4444444444444444,
                          "#bd3786"
                        ],
                        [
                          0.5555555555555556,
                          "#d8576b"
                        ],
                        [
                          0.6666666666666666,
                          "#ed7953"
                        ],
                        [
                          0.7777777777777778,
                          "#fb9f3a"
                        ],
                        [
                          0.8888888888888888,
                          "#fdca26"
                        ],
                        [
                          1,
                          "#f0f921"
                        ]
                      ],
                      "sequentialminus": [
                        [
                          0,
                          "#0d0887"
                        ],
                        [
                          0.1111111111111111,
                          "#46039f"
                        ],
                        [
                          0.2222222222222222,
                          "#7201a8"
                        ],
                        [
                          0.3333333333333333,
                          "#9c179e"
                        ],
                        [
                          0.4444444444444444,
                          "#bd3786"
                        ],
                        [
                          0.5555555555555556,
                          "#d8576b"
                        ],
                        [
                          0.6666666666666666,
                          "#ed7953"
                        ],
                        [
                          0.7777777777777778,
                          "#fb9f3a"
                        ],
                        [
                          0.8888888888888888,
                          "#fdca26"
                        ],
                        [
                          1,
                          "#f0f921"
                        ]
                      ]
                    },
                    "colorway": [
                      "#636efa",
                      "#EF553B",
                      "#00cc96",
                      "#ab63fa",
                      "#FFA15A",
                      "#19d3f3",
                      "#FF6692",
                      "#B6E880",
                      "#FF97FF",
                      "#FECB52"
                    ],
                    "font": {
                      "color": "#2a3f5f"
                    },
                    "geo": {
                      "bgcolor": "white",
                      "lakecolor": "white",
                      "landcolor": "#E5ECF6",
                      "showlakes": true,
                      "showland": true,
                      "subunitcolor": "white"
                    },
                    "hoverlabel": {
                      "align": "left"
                    },
                    "hovermode": "closest",
                    "mapbox": {
                      "style": "light"
                    },
                    "paper_bgcolor": "white",
                    "plot_bgcolor": "#E5ECF6",
                    "polar": {
                      "angularaxis": {
                        "gridcolor": "white",
                        "linecolor": "white",
                        "ticks": ""
                      },
                      "bgcolor": "#E5ECF6",
                      "radialaxis": {
                        "gridcolor": "white",
                        "linecolor": "white",
                        "ticks": ""
                      }
                    },
                    "scene": {
                      "xaxis": {
                        "backgroundcolor": "#E5ECF6",
                        "gridcolor": "white",
                        "gridwidth": 2,
                        "linecolor": "white",
                        "showbackground": true,
                        "ticks": "",
                        "zerolinecolor": "white"
                      },
                      "yaxis": {
                        "backgroundcolor": "#E5ECF6",
                        "gridcolor": "white",
                        "gridwidth": 2,
                        "linecolor": "white",
                        "showbackground": true,
                        "ticks": "",
                        "zerolinecolor": "white"
                      },
                      "zaxis": {
                        "backgroundcolor": "#E5ECF6",
                        "gridcolor": "white",
                        "gridwidth": 2,
                        "linecolor": "white",
                        "showbackground": true,
                        "ticks": "",
                        "zerolinecolor": "white"
                      }
                    },
                    "shapedefaults": {
                      "line": {
                        "color": "#2a3f5f"
                      }
                    },
                    "ternary": {
                      "aaxis": {
                        "gridcolor": "white",
                        "linecolor": "white",
                        "ticks": ""
                      },
                      "baxis": {
                        "gridcolor": "white",
                        "linecolor": "white",
                        "ticks": ""
                      },
                      "bgcolor": "#E5ECF6",
                      "caxis": {
                        "gridcolor": "white",
                        "linecolor": "white",
                        "ticks": ""
                      }
                    },
                    "title": {
                      "x": 0.05
                    },
                    "xaxis": {
                      "automargin": true,
                      "gridcolor": "white",
                      "linecolor": "white",
                      "ticks": "",
                      "title": {
                        "standoff": 15
                      },
                      "zerolinecolor": "white",
                      "zerolinewidth": 2
                    },
                    "yaxis": {
                      "automargin": true,
                      "gridcolor": "white",
                      "linecolor": "white",
                      "ticks": "",
                      "title": {
                        "standoff": 15
                      },
                      "zerolinecolor": "white",
                      "zerolinewidth": 2
                    }
                  }
                },
                "title": {
                  "text": "Time dependant SIR model"
                },
                "width": 1000,
                "xaxis": {
                  "title": {
                    "text": "Weeks"
                  }
                },
                "yaxis": {
                  "title": {
                    "text": "Admissions"
                  }
                }
              }
            }
          },
          "metadata": {},
          "output_type": "display_data"
        }
      ],
      "source": [
        "#Weiss implementering \n",
        "\n",
        "# Contact rate, transmisabilty, beta, and mean recovery rate gamma.\n",
        "#nunmpy quantile för confidensintervall för beta\n",
        "#försjkut admissions\n",
        "#Lagen borde inte vara i modelfunction, för den modellerar antalet infected, lagen borde bara vara på predicted admissions\n",
        "\n",
        "# Total population, N.\n",
        "N = 700000 #göteborg stad\n",
        "# Initial number of infected and recovered individuals, I0 and R0.\n",
        "I0, R0 = 1, 0\n",
        "# Everyone else, S0, is susceptible to infection initially.\n",
        "S0 = N - I0 - R0\n",
        "\n",
        "tau = 1         #transmisability chance\n",
        "gamma =  0.2   #recovery rate 1/days\n",
        "lag = 21\n",
        "\n",
        "\n",
        "# Initial conditions vector\n",
        "y0 = S0, I0, R0\n",
        "p = 0.013 #fraction of the present number of infectious individuals\n",
        "\n",
        "def modelfunction(t,c0,c1): #Enbedded function that takes \n",
        "  def betafunc(t):\n",
        "    kappa =  c0+c1*VT_mobilityfunc(t)\n",
        "    b = kappa*tau\n",
        "    beta = b/N\n",
        "    return beta\n",
        "\n",
        "  # The SIR model differential equations.\n",
        "  def deriv(y, t, N):\n",
        "    S, I, R = y\n",
        "    dSdt = -betafunc(t-lag) * S * I \n",
        "    dIdt = betafunc(t-lag) * S * I - gamma * I\n",
        "    dRdt = gamma * I\n",
        "    return dSdt, dIdt, dRdt\n",
        "  \n",
        "  result = odeint(deriv, y0, t, args=(N,))\n",
        "  S, I, R = result.T\n",
        "  #Returerar totalt antal inskrivningar varje dag\n",
        "  return I*p\n",
        "\n",
        "\n",
        "\n",
        "#Curve fit function that takes the modelfunction with the given parameters to optimize and returns them with optimal value and covariance\n",
        "popt, pcov = curve_fit(modelfunction, t_fittingdata, dailyAdmissions[:fittingPoints], p0=[0.4198,0.003781])\n",
        "\n",
        "#best VT guess p0=[0.4198,0.003781])\n",
        "#Best google guess p0=[3,0.6])\n",
        "\n",
        "print(popt)\n",
        "print(pcov)\n",
        "print(mean_squared_error(dailyAdmissions[:prediction_time],modelfunction(t,*popt), squared = False))\n",
        "\n",
        "fig = go.Figure() #Creates a plot using graph objects and then adds each graph to figure\n",
        "fig.add_trace(go.Scatter(\n",
        "                    x=pd.Series(pd.date_range(\"2020-03-01\", freq=\"D\", periods=fittingPoints)), \n",
        "                    y=dailyAdmissions,\n",
        "                    mode='markers',\n",
        "                    name='Admission data'))\n",
        "fig.add_trace(go.Scatter(\n",
        "                    x=pd.Series(pd.date_range(\"2020-03-01\", freq=\"D\", periods=prediction_time)), \n",
        "                    y=modelfunction(t,*popt),\n",
        "                    mode='lines',\n",
        "                    name='Predicted admissions'))\n",
        "fig.update_layout(\n",
        "                    title='Time dependant SIR model',\n",
        "                    xaxis_title='Weeks',\n",
        "                    yaxis_title='Admissions',\n",
        "                    autosize=False,\n",
        "                    width=1000,\n",
        "                    \n",
        "                    font=dict(\n",
        "                    family=\"Courier New, monospace\",\n",
        "                    size=14,\n",
        "                    color=\"RebeccaPurple\"\n",
        "    )\n",
        ")\n",
        "fig.show()"
      ]
    },
    {
      "cell_type": "markdown",
      "metadata": {
        "id": "oCXhPt4_1FF4"
      },
      "source": [
        "Plots the predicted admissions and the admission data, for comparison"
      ]
    },
    {
      "cell_type": "markdown",
      "metadata": {
        "id": "61q2IELFj0L4"
      },
      "source": [
        "Plots confidence intervals of model"
      ]
    },
    {
      "cell_type": "code",
      "execution_count": 7,
      "metadata": {
        "colab": {
          "base_uri": "https://localhost:8080/",
          "height": 542
        },
        "id": "txCxr1cdjxsY",
        "outputId": "3f9e8f82-3aa4-4397-a43f-b3b568d8a389"
      },
      "outputs": [
        {
          "data": {
            "application/vnd.plotly.v1+json": {
              "config": {
                "plotlyServerURL": "https://plot.ly"
              },
              "data": [
                {
                  "mode": "markers",
                  "name": "Inskrivningsdata",
                  "type": "scatter",
                  "x": [
                    "2020-03-01T00:00:00",
                    "2020-03-02T00:00:00",
                    "2020-03-03T00:00:00",
                    "2020-03-04T00:00:00",
                    "2020-03-05T00:00:00",
                    "2020-03-06T00:00:00",
                    "2020-03-07T00:00:00",
                    "2020-03-08T00:00:00",
                    "2020-03-09T00:00:00",
                    "2020-03-10T00:00:00",
                    "2020-03-11T00:00:00",
                    "2020-03-12T00:00:00",
                    "2020-03-13T00:00:00",
                    "2020-03-14T00:00:00",
                    "2020-03-15T00:00:00",
                    "2020-03-16T00:00:00",
                    "2020-03-17T00:00:00",
                    "2020-03-18T00:00:00",
                    "2020-03-19T00:00:00",
                    "2020-03-20T00:00:00",
                    "2020-03-21T00:00:00",
                    "2020-03-22T00:00:00",
                    "2020-03-23T00:00:00",
                    "2020-03-24T00:00:00",
                    "2020-03-25T00:00:00",
                    "2020-03-26T00:00:00",
                    "2020-03-27T00:00:00",
                    "2020-03-28T00:00:00",
                    "2020-03-29T00:00:00",
                    "2020-03-30T00:00:00",
                    "2020-03-31T00:00:00",
                    "2020-04-01T00:00:00",
                    "2020-04-02T00:00:00",
                    "2020-04-03T00:00:00",
                    "2020-04-04T00:00:00",
                    "2020-04-05T00:00:00",
                    "2020-04-06T00:00:00",
                    "2020-04-07T00:00:00",
                    "2020-04-08T00:00:00",
                    "2020-04-09T00:00:00",
                    "2020-04-10T00:00:00",
                    "2020-04-11T00:00:00",
                    "2020-04-12T00:00:00",
                    "2020-04-13T00:00:00",
                    "2020-04-14T00:00:00",
                    "2020-04-15T00:00:00",
                    "2020-04-16T00:00:00",
                    "2020-04-17T00:00:00",
                    "2020-04-18T00:00:00",
                    "2020-04-19T00:00:00",
                    "2020-04-20T00:00:00",
                    "2020-04-21T00:00:00",
                    "2020-04-22T00:00:00",
                    "2020-04-23T00:00:00",
                    "2020-04-24T00:00:00",
                    "2020-04-25T00:00:00",
                    "2020-04-26T00:00:00",
                    "2020-04-27T00:00:00",
                    "2020-04-28T00:00:00",
                    "2020-04-29T00:00:00",
                    "2020-04-30T00:00:00",
                    "2020-05-01T00:00:00",
                    "2020-05-02T00:00:00",
                    "2020-05-03T00:00:00",
                    "2020-05-04T00:00:00",
                    "2020-05-05T00:00:00",
                    "2020-05-06T00:00:00",
                    "2020-05-07T00:00:00",
                    "2020-05-08T00:00:00",
                    "2020-05-09T00:00:00",
                    "2020-05-10T00:00:00",
                    "2020-05-11T00:00:00",
                    "2020-05-12T00:00:00",
                    "2020-05-13T00:00:00",
                    "2020-05-14T00:00:00",
                    "2020-05-15T00:00:00",
                    "2020-05-16T00:00:00",
                    "2020-05-17T00:00:00",
                    "2020-05-18T00:00:00",
                    "2020-05-19T00:00:00",
                    "2020-05-20T00:00:00",
                    "2020-05-21T00:00:00",
                    "2020-05-22T00:00:00",
                    "2020-05-23T00:00:00",
                    "2020-05-24T00:00:00",
                    "2020-05-25T00:00:00",
                    "2020-05-26T00:00:00",
                    "2020-05-27T00:00:00",
                    "2020-05-28T00:00:00",
                    "2020-05-29T00:00:00",
                    "2020-05-30T00:00:00",
                    "2020-05-31T00:00:00",
                    "2020-06-01T00:00:00",
                    "2020-06-02T00:00:00",
                    "2020-06-03T00:00:00",
                    "2020-06-04T00:00:00",
                    "2020-06-05T00:00:00",
                    "2020-06-06T00:00:00",
                    "2020-06-07T00:00:00",
                    "2020-06-08T00:00:00",
                    "2020-06-09T00:00:00",
                    "2020-06-10T00:00:00",
                    "2020-06-11T00:00:00",
                    "2020-06-12T00:00:00",
                    "2020-06-13T00:00:00",
                    "2020-06-14T00:00:00",
                    "2020-06-15T00:00:00",
                    "2020-06-16T00:00:00",
                    "2020-06-17T00:00:00",
                    "2020-06-18T00:00:00",
                    "2020-06-19T00:00:00",
                    "2020-06-20T00:00:00",
                    "2020-06-21T00:00:00",
                    "2020-06-22T00:00:00",
                    "2020-06-23T00:00:00",
                    "2020-06-24T00:00:00",
                    "2020-06-25T00:00:00",
                    "2020-06-26T00:00:00",
                    "2020-06-27T00:00:00",
                    "2020-06-28T00:00:00",
                    "2020-06-29T00:00:00",
                    "2020-06-30T00:00:00",
                    "2020-07-01T00:00:00",
                    "2020-07-02T00:00:00",
                    "2020-07-03T00:00:00",
                    "2020-07-04T00:00:00",
                    "2020-07-05T00:00:00",
                    "2020-07-06T00:00:00",
                    "2020-07-07T00:00:00",
                    "2020-07-08T00:00:00",
                    "2020-07-09T00:00:00",
                    "2020-07-10T00:00:00",
                    "2020-07-11T00:00:00",
                    "2020-07-12T00:00:00",
                    "2020-07-13T00:00:00",
                    "2020-07-14T00:00:00",
                    "2020-07-15T00:00:00",
                    "2020-07-16T00:00:00",
                    "2020-07-17T00:00:00",
                    "2020-07-18T00:00:00",
                    "2020-07-19T00:00:00",
                    "2020-07-20T00:00:00",
                    "2020-07-21T00:00:00",
                    "2020-07-22T00:00:00",
                    "2020-07-23T00:00:00",
                    "2020-07-24T00:00:00",
                    "2020-07-25T00:00:00",
                    "2020-07-26T00:00:00",
                    "2020-07-27T00:00:00",
                    "2020-07-28T00:00:00",
                    "2020-07-29T00:00:00",
                    "2020-07-30T00:00:00",
                    "2020-07-31T00:00:00",
                    "2020-08-01T00:00:00",
                    "2020-08-02T00:00:00",
                    "2020-08-03T00:00:00",
                    "2020-08-04T00:00:00",
                    "2020-08-05T00:00:00",
                    "2020-08-06T00:00:00",
                    "2020-08-07T00:00:00",
                    "2020-08-08T00:00:00",
                    "2020-08-09T00:00:00",
                    "2020-08-10T00:00:00",
                    "2020-08-11T00:00:00",
                    "2020-08-12T00:00:00",
                    "2020-08-13T00:00:00",
                    "2020-08-14T00:00:00",
                    "2020-08-15T00:00:00",
                    "2020-08-16T00:00:00",
                    "2020-08-17T00:00:00",
                    "2020-08-18T00:00:00",
                    "2020-08-19T00:00:00",
                    "2020-08-20T00:00:00"
                  ],
                  "y": [
                    0,
                    0,
                    0,
                    0,
                    0,
                    0,
                    0,
                    0,
                    0,
                    0,
                    0,
                    0,
                    0,
                    0,
                    0,
                    0,
                    0,
                    0,
                    0,
                    0,
                    0,
                    1,
                    0,
                    0,
                    0,
                    3,
                    1,
                    1,
                    1,
                    1,
                    1,
                    3,
                    4,
                    1,
                    1,
                    6,
                    4,
                    5,
                    10,
                    4,
                    2,
                    1,
                    5,
                    9,
                    8,
                    6,
                    9,
                    7,
                    7,
                    10,
                    9,
                    15,
                    9,
                    7,
                    10,
                    15,
                    14,
                    21,
                    17,
                    25,
                    15,
                    16,
                    15,
                    10,
                    15,
                    16,
                    20,
                    23,
                    14,
                    16,
                    34,
                    18,
                    18,
                    26,
                    22,
                    25,
                    18,
                    22,
                    24,
                    18,
                    21,
                    20,
                    18,
                    12,
                    18,
                    26,
                    19,
                    19,
                    14,
                    16,
                    7,
                    11,
                    8,
                    16,
                    12,
                    14,
                    8,
                    5,
                    13,
                    14,
                    13,
                    14,
                    16,
                    8,
                    8,
                    14,
                    13,
                    17,
                    14,
                    16,
                    18,
                    6,
                    16,
                    17,
                    8,
                    11,
                    10,
                    7,
                    9,
                    13,
                    13,
                    9,
                    13,
                    17,
                    7,
                    9,
                    11,
                    14,
                    14,
                    11,
                    8,
                    13,
                    11,
                    2,
                    9,
                    12,
                    8,
                    8,
                    3,
                    9,
                    7,
                    14,
                    7,
                    8,
                    7,
                    4,
                    4,
                    8,
                    4,
                    5,
                    5,
                    6,
                    0,
                    5,
                    5,
                    5,
                    4,
                    4,
                    3,
                    1,
                    2,
                    3,
                    3,
                    3,
                    5,
                    2,
                    2,
                    1,
                    1,
                    5,
                    3,
                    1,
                    1
                  ]
                },
                {
                  "marker": {
                    "color": "firebrick"
                  },
                  "mode": "markers",
                  "name": "Admission data",
                  "type": "scatter",
                  "x": [],
                  "y": []
                },
                {
                  "mode": "lines",
                  "name": "predikterade inskrivningar",
                  "type": "scatter",
                  "x": [
                    "2020-03-01T00:00:00",
                    "2020-03-02T00:00:00",
                    "2020-03-03T00:00:00",
                    "2020-03-04T00:00:00",
                    "2020-03-05T00:00:00",
                    "2020-03-06T00:00:00",
                    "2020-03-07T00:00:00",
                    "2020-03-08T00:00:00",
                    "2020-03-09T00:00:00",
                    "2020-03-10T00:00:00",
                    "2020-03-11T00:00:00",
                    "2020-03-12T00:00:00",
                    "2020-03-13T00:00:00",
                    "2020-03-14T00:00:00",
                    "2020-03-15T00:00:00",
                    "2020-03-16T00:00:00",
                    "2020-03-17T00:00:00",
                    "2020-03-18T00:00:00",
                    "2020-03-19T00:00:00",
                    "2020-03-20T00:00:00",
                    "2020-03-21T00:00:00",
                    "2020-03-22T00:00:00",
                    "2020-03-23T00:00:00",
                    "2020-03-24T00:00:00",
                    "2020-03-25T00:00:00",
                    "2020-03-26T00:00:00",
                    "2020-03-27T00:00:00",
                    "2020-03-28T00:00:00",
                    "2020-03-29T00:00:00",
                    "2020-03-30T00:00:00",
                    "2020-03-31T00:00:00",
                    "2020-04-01T00:00:00",
                    "2020-04-02T00:00:00",
                    "2020-04-03T00:00:00",
                    "2020-04-04T00:00:00",
                    "2020-04-05T00:00:00",
                    "2020-04-06T00:00:00",
                    "2020-04-07T00:00:00",
                    "2020-04-08T00:00:00",
                    "2020-04-09T00:00:00",
                    "2020-04-10T00:00:00",
                    "2020-04-11T00:00:00",
                    "2020-04-12T00:00:00",
                    "2020-04-13T00:00:00",
                    "2020-04-14T00:00:00",
                    "2020-04-15T00:00:00",
                    "2020-04-16T00:00:00",
                    "2020-04-17T00:00:00",
                    "2020-04-18T00:00:00",
                    "2020-04-19T00:00:00",
                    "2020-04-20T00:00:00",
                    "2020-04-21T00:00:00",
                    "2020-04-22T00:00:00",
                    "2020-04-23T00:00:00",
                    "2020-04-24T00:00:00",
                    "2020-04-25T00:00:00",
                    "2020-04-26T00:00:00",
                    "2020-04-27T00:00:00",
                    "2020-04-28T00:00:00",
                    "2020-04-29T00:00:00",
                    "2020-04-30T00:00:00",
                    "2020-05-01T00:00:00",
                    "2020-05-02T00:00:00",
                    "2020-05-03T00:00:00",
                    "2020-05-04T00:00:00",
                    "2020-05-05T00:00:00",
                    "2020-05-06T00:00:00",
                    "2020-05-07T00:00:00",
                    "2020-05-08T00:00:00",
                    "2020-05-09T00:00:00",
                    "2020-05-10T00:00:00",
                    "2020-05-11T00:00:00",
                    "2020-05-12T00:00:00",
                    "2020-05-13T00:00:00",
                    "2020-05-14T00:00:00",
                    "2020-05-15T00:00:00",
                    "2020-05-16T00:00:00",
                    "2020-05-17T00:00:00",
                    "2020-05-18T00:00:00",
                    "2020-05-19T00:00:00",
                    "2020-05-20T00:00:00",
                    "2020-05-21T00:00:00",
                    "2020-05-22T00:00:00",
                    "2020-05-23T00:00:00",
                    "2020-05-24T00:00:00",
                    "2020-05-25T00:00:00",
                    "2020-05-26T00:00:00",
                    "2020-05-27T00:00:00",
                    "2020-05-28T00:00:00",
                    "2020-05-29T00:00:00",
                    "2020-05-30T00:00:00",
                    "2020-05-31T00:00:00",
                    "2020-06-01T00:00:00",
                    "2020-06-02T00:00:00",
                    "2020-06-03T00:00:00",
                    "2020-06-04T00:00:00",
                    "2020-06-05T00:00:00",
                    "2020-06-06T00:00:00",
                    "2020-06-07T00:00:00",
                    "2020-06-08T00:00:00",
                    "2020-06-09T00:00:00",
                    "2020-06-10T00:00:00",
                    "2020-06-11T00:00:00",
                    "2020-06-12T00:00:00",
                    "2020-06-13T00:00:00",
                    "2020-06-14T00:00:00",
                    "2020-06-15T00:00:00",
                    "2020-06-16T00:00:00",
                    "2020-06-17T00:00:00",
                    "2020-06-18T00:00:00",
                    "2020-06-19T00:00:00",
                    "2020-06-20T00:00:00",
                    "2020-06-21T00:00:00",
                    "2020-06-22T00:00:00",
                    "2020-06-23T00:00:00",
                    "2020-06-24T00:00:00",
                    "2020-06-25T00:00:00",
                    "2020-06-26T00:00:00",
                    "2020-06-27T00:00:00",
                    "2020-06-28T00:00:00",
                    "2020-06-29T00:00:00",
                    "2020-06-30T00:00:00",
                    "2020-07-01T00:00:00",
                    "2020-07-02T00:00:00",
                    "2020-07-03T00:00:00",
                    "2020-07-04T00:00:00",
                    "2020-07-05T00:00:00",
                    "2020-07-06T00:00:00",
                    "2020-07-07T00:00:00",
                    "2020-07-08T00:00:00",
                    "2020-07-09T00:00:00",
                    "2020-07-10T00:00:00",
                    "2020-07-11T00:00:00",
                    "2020-07-12T00:00:00",
                    "2020-07-13T00:00:00",
                    "2020-07-14T00:00:00",
                    "2020-07-15T00:00:00",
                    "2020-07-16T00:00:00",
                    "2020-07-17T00:00:00",
                    "2020-07-18T00:00:00",
                    "2020-07-19T00:00:00",
                    "2020-07-20T00:00:00",
                    "2020-07-21T00:00:00",
                    "2020-07-22T00:00:00",
                    "2020-07-23T00:00:00",
                    "2020-07-24T00:00:00",
                    "2020-07-25T00:00:00",
                    "2020-07-26T00:00:00",
                    "2020-07-27T00:00:00",
                    "2020-07-28T00:00:00",
                    "2020-07-29T00:00:00",
                    "2020-07-30T00:00:00",
                    "2020-07-31T00:00:00",
                    "2020-08-01T00:00:00",
                    "2020-08-02T00:00:00",
                    "2020-08-03T00:00:00",
                    "2020-08-04T00:00:00",
                    "2020-08-05T00:00:00",
                    "2020-08-06T00:00:00",
                    "2020-08-07T00:00:00",
                    "2020-08-08T00:00:00",
                    "2020-08-09T00:00:00",
                    "2020-08-10T00:00:00",
                    "2020-08-11T00:00:00",
                    "2020-08-12T00:00:00",
                    "2020-08-13T00:00:00",
                    "2020-08-14T00:00:00",
                    "2020-08-15T00:00:00",
                    "2020-08-16T00:00:00",
                    "2020-08-17T00:00:00",
                    "2020-08-18T00:00:00",
                    "2020-08-19T00:00:00",
                    "2020-08-20T00:00:00"
                  ],
                  "y": [
                    0.013,
                    0.01619956570951966,
                    0.020141868213372327,
                    0.024988055166159682,
                    0.03093153343251179,
                    0.03820381092190219,
                    0.04708126403932825,
                    0.057892948096419636,
                    0.07102958261057074,
                    0.08695384870452193,
                    0.10621214857083922,
                    0.1294479811988368,
                    0.1574171012484796,
                    0.19100462790647227,
                    0.23124427659432545,
                    0.27933988508618707,
                    0.33668940212280235,
                    0.40491149794074194,
                    0.485874941787243,
                    0.5817308717643369,
                    0.6949480532825558,
                    0.828351185272017,
                    0.9851622662841899,
                    1.16904497312739,
                    1.384151932380874,
                    1.6351746793805406,
                    1.927395995221265,
                    2.266744191774873,
                    2.6598487802962687,
                    3.1098633274840246,
                    3.6179507432795504,
                    4.1881173110321015,
                    4.82400285808688,
                    5.52874243697043,
                    6.3048197054833,
                    7.153915833482047,
                    8.04147932239168,
                    8.915535893493525,
                    9.749437315054584,
                    10.515603641696794,
                    11.187012776795532,
                    11.73877304191993,
                    12.149653520827128,
                    12.464619118630702,
                    12.738170393687332,
                    12.967280874286597,
                    13.149390366208568,
                    13.282453575765064,
                    13.364977431714617,
                    13.396049580100609,
                    13.390439818737045,
                    13.363277839435625,
                    13.3147148638557,
                    13.245005478460978,
                    13.154505483478875,
                    13.043668773557354,
                    12.913043460779168,
                    12.747640878608776,
                    12.533510366770981,
                    12.273233871628433,
                    11.969895823445713,
                    11.627021491247227,
                    11.248509414579603,
                    10.838557596730068,
                    10.431749248572304,
                    10.057963335078936,
                    9.714719528668173,
                    9.399782871080145,
                    9.111140113049794,
                    8.846978473817837,
                    8.605667131121526,
                    8.391595926611279,
                    8.208767126885258,
                    8.055347424755796,
                    7.929816650498458,
                    7.830943249021354,
                    7.757763692325087,
                    7.709567208682788,
                    7.667340481308147,
                    7.612578627821025,
                    7.545561730436715,
                    7.466628947419374,
                    7.376175633138355,
                    7.274649993129627,
                    7.162549475669176,
                    7.054090537630334,
                    6.962656184979891,
                    6.8876195265720455,
                    6.828468760744546,
                    6.784801806137338,
                    6.756321709151809,
                    6.742833185057962,
                    6.738209419438081,
                    6.73640004520769,
                    6.737401536621421,
                    6.741213788519505,
                    6.747840123553847,
                    6.757287300216297,
                    6.76956548689568,
                    6.775431126160048,
                    6.765628209989821,
                    6.740231758021649,
                    6.699424958138031,
                    6.643496815909728,
                    6.572838618615347,
                    6.487939629472375,
                    6.412715716663807,
                    6.370029479896882,
                    6.359227378762793,
                    6.380134271989468,
                    6.433048913265443,
                    6.518750856686092,
                    6.638518940328435,
                    6.775841675533568,
                    6.913010100341697,
                    7.0498973430183405,
                    7.186374153700153,
                    7.322309109389172,
                    7.4575688851512565,
                    7.592018514652851,
                    7.734510596635469,
                    7.894569316113194,
                    8.073153618613762,
                    8.271346742635851,
                    8.490367414203483,
                    8.731581495002166,
                    8.996515940365098,
                    9.246808787136441,
                    9.439920652909066,
                    9.572057932535223,
                    9.640609922474843,
                    9.644233886500839,
                    9.582898123057127,
                    9.4578820369889,
                    9.31666709411425,
                    9.20443403923933,
                    9.120168705910297,
                    9.063111416861608,
                    9.032745538100919,
                    9.028789614537251,
                    9.051193099897338,
                    9.07998131004687,
                    9.09502719419116,
                    9.096270004438617,
                    9.083712326670318,
                    9.057420011583087,
                    9.017521558152545,
                    8.96420700944745,
                    8.897726574347184,
                    8.818388265824659,
                    8.726555827669964,
                    8.622645762712782,
                    8.507124174320476,
                    8.380503340358656,
                    8.243337689032147,
                    8.096219797420165,
                    7.939776187477951,
                    7.774662933689604,
                    7.601560968454913,
                    7.421171458364536,
                    7.2342111147695105,
                    7.041407483972886,
                    6.850216137635512,
                    6.66733426586797,
                    6.492373973761886,
                    6.324968274179865,
                    6.164769835460851,
                    6.011449931776837,
                    5.864697380001483,
                    5.725621541565971,
                    5.59521657441212,
                    5.473037985069448,
                    5.358674365851995
                  ]
                },
                {
                  "line": {
                    "dash": "dash",
                    "width": 2
                  },
                  "mode": "lines",
                  "name": "Undre konfidensintervall",
                  "type": "scatter",
                  "x": [
                    "2020-03-01T00:00:00",
                    "2020-03-02T00:00:00",
                    "2020-03-03T00:00:00",
                    "2020-03-04T00:00:00",
                    "2020-03-05T00:00:00",
                    "2020-03-06T00:00:00",
                    "2020-03-07T00:00:00",
                    "2020-03-08T00:00:00",
                    "2020-03-09T00:00:00",
                    "2020-03-10T00:00:00",
                    "2020-03-11T00:00:00",
                    "2020-03-12T00:00:00",
                    "2020-03-13T00:00:00",
                    "2020-03-14T00:00:00",
                    "2020-03-15T00:00:00",
                    "2020-03-16T00:00:00",
                    "2020-03-17T00:00:00",
                    "2020-03-18T00:00:00",
                    "2020-03-19T00:00:00",
                    "2020-03-20T00:00:00",
                    "2020-03-21T00:00:00",
                    "2020-03-22T00:00:00",
                    "2020-03-23T00:00:00",
                    "2020-03-24T00:00:00",
                    "2020-03-25T00:00:00",
                    "2020-03-26T00:00:00",
                    "2020-03-27T00:00:00",
                    "2020-03-28T00:00:00",
                    "2020-03-29T00:00:00",
                    "2020-03-30T00:00:00",
                    "2020-03-31T00:00:00",
                    "2020-04-01T00:00:00",
                    "2020-04-02T00:00:00",
                    "2020-04-03T00:00:00",
                    "2020-04-04T00:00:00",
                    "2020-04-05T00:00:00",
                    "2020-04-06T00:00:00",
                    "2020-04-07T00:00:00",
                    "2020-04-08T00:00:00",
                    "2020-04-09T00:00:00",
                    "2020-04-10T00:00:00",
                    "2020-04-11T00:00:00",
                    "2020-04-12T00:00:00",
                    "2020-04-13T00:00:00",
                    "2020-04-14T00:00:00",
                    "2020-04-15T00:00:00",
                    "2020-04-16T00:00:00",
                    "2020-04-17T00:00:00",
                    "2020-04-18T00:00:00",
                    "2020-04-19T00:00:00",
                    "2020-04-20T00:00:00",
                    "2020-04-21T00:00:00",
                    "2020-04-22T00:00:00",
                    "2020-04-23T00:00:00",
                    "2020-04-24T00:00:00",
                    "2020-04-25T00:00:00",
                    "2020-04-26T00:00:00",
                    "2020-04-27T00:00:00",
                    "2020-04-28T00:00:00",
                    "2020-04-29T00:00:00",
                    "2020-04-30T00:00:00",
                    "2020-05-01T00:00:00",
                    "2020-05-02T00:00:00",
                    "2020-05-03T00:00:00",
                    "2020-05-04T00:00:00",
                    "2020-05-05T00:00:00",
                    "2020-05-06T00:00:00",
                    "2020-05-07T00:00:00",
                    "2020-05-08T00:00:00",
                    "2020-05-09T00:00:00",
                    "2020-05-10T00:00:00",
                    "2020-05-11T00:00:00",
                    "2020-05-12T00:00:00",
                    "2020-05-13T00:00:00",
                    "2020-05-14T00:00:00",
                    "2020-05-15T00:00:00",
                    "2020-05-16T00:00:00",
                    "2020-05-17T00:00:00",
                    "2020-05-18T00:00:00",
                    "2020-05-19T00:00:00",
                    "2020-05-20T00:00:00",
                    "2020-05-21T00:00:00",
                    "2020-05-22T00:00:00",
                    "2020-05-23T00:00:00",
                    "2020-05-24T00:00:00",
                    "2020-05-25T00:00:00",
                    "2020-05-26T00:00:00",
                    "2020-05-27T00:00:00",
                    "2020-05-28T00:00:00",
                    "2020-05-29T00:00:00",
                    "2020-05-30T00:00:00",
                    "2020-05-31T00:00:00",
                    "2020-06-01T00:00:00",
                    "2020-06-02T00:00:00",
                    "2020-06-03T00:00:00",
                    "2020-06-04T00:00:00",
                    "2020-06-05T00:00:00",
                    "2020-06-06T00:00:00",
                    "2020-06-07T00:00:00",
                    "2020-06-08T00:00:00",
                    "2020-06-09T00:00:00",
                    "2020-06-10T00:00:00",
                    "2020-06-11T00:00:00",
                    "2020-06-12T00:00:00",
                    "2020-06-13T00:00:00",
                    "2020-06-14T00:00:00",
                    "2020-06-15T00:00:00",
                    "2020-06-16T00:00:00",
                    "2020-06-17T00:00:00",
                    "2020-06-18T00:00:00",
                    "2020-06-19T00:00:00",
                    "2020-06-20T00:00:00",
                    "2020-06-21T00:00:00",
                    "2020-06-22T00:00:00",
                    "2020-06-23T00:00:00",
                    "2020-06-24T00:00:00",
                    "2020-06-25T00:00:00",
                    "2020-06-26T00:00:00",
                    "2020-06-27T00:00:00",
                    "2020-06-28T00:00:00",
                    "2020-06-29T00:00:00",
                    "2020-06-30T00:00:00",
                    "2020-07-01T00:00:00",
                    "2020-07-02T00:00:00",
                    "2020-07-03T00:00:00",
                    "2020-07-04T00:00:00",
                    "2020-07-05T00:00:00",
                    "2020-07-06T00:00:00",
                    "2020-07-07T00:00:00",
                    "2020-07-08T00:00:00",
                    "2020-07-09T00:00:00",
                    "2020-07-10T00:00:00",
                    "2020-07-11T00:00:00",
                    "2020-07-12T00:00:00",
                    "2020-07-13T00:00:00",
                    "2020-07-14T00:00:00",
                    "2020-07-15T00:00:00",
                    "2020-07-16T00:00:00",
                    "2020-07-17T00:00:00",
                    "2020-07-18T00:00:00",
                    "2020-07-19T00:00:00",
                    "2020-07-20T00:00:00",
                    "2020-07-21T00:00:00",
                    "2020-07-22T00:00:00",
                    "2020-07-23T00:00:00",
                    "2020-07-24T00:00:00",
                    "2020-07-25T00:00:00",
                    "2020-07-26T00:00:00",
                    "2020-07-27T00:00:00",
                    "2020-07-28T00:00:00",
                    "2020-07-29T00:00:00",
                    "2020-07-30T00:00:00",
                    "2020-07-31T00:00:00",
                    "2020-08-01T00:00:00",
                    "2020-08-02T00:00:00",
                    "2020-08-03T00:00:00",
                    "2020-08-04T00:00:00",
                    "2020-08-05T00:00:00",
                    "2020-08-06T00:00:00",
                    "2020-08-07T00:00:00",
                    "2020-08-08T00:00:00",
                    "2020-08-09T00:00:00",
                    "2020-08-10T00:00:00",
                    "2020-08-11T00:00:00",
                    "2020-08-12T00:00:00",
                    "2020-08-13T00:00:00",
                    "2020-08-14T00:00:00",
                    "2020-08-15T00:00:00",
                    "2020-08-16T00:00:00",
                    "2020-08-17T00:00:00",
                    "2020-08-18T00:00:00",
                    "2020-08-19T00:00:00",
                    "2020-08-20T00:00:00"
                  ],
                  "y": [
                    0.013,
                    0.016158408032305678,
                    0.020040231740844117,
                    0.024800236787962487,
                    0.030623709639662867,
                    0.037731893998576856,
                    0.04638827270344137,
                    0.05690579851609732,
                    0.0696551915901362,
                    0.08507442408398068,
                    0.10367952433757818,
                    0.12607683462652983,
                    0.15297686850054423,
                    0.18520991157486283,
                    0.22374351454680141,
                    0.26970202484545225,
                    0.32438829885015175,
                    0.38930772812382586,
                    0.4661946988915871,
                    0.55704158528197,
                    0.6641303501878673,
                    0.7900667936728114,
                    0.9378174462812638,
                    1.1107490518598597,
                    1.312670520578852,
                    1.5478771560115914,
                    1.8211968732328034,
                    2.138038015357242,
                    2.5044381934580326,
                    2.9231864707573076,
                    3.395228075211867,
                    3.924150389100169,
                    4.513198858258706,
                    5.165050674238877,
                    5.881609195333971,
                    6.664530165582191,
                    7.481915119743269,
                    8.286020753397873,
                    9.05253818328631,
                    9.756356138463888,
                    10.37290324477502,
                    10.87956431693949,
                    11.257055388084531,
                    11.546680210008155,
                    11.798404478335701,
                    12.00947581745676,
                    12.177562909710144,
                    12.300798772770445,
                    12.37781509309484,
                    12.407767313410577,
                    12.40193370497781,
                    12.375911581271257,
                    12.33031202156843,
                    12.265369705291063,
                    12.181410657919912,
                    12.078849543443903,
                    11.958186102126028,
                    11.805665461174016,
                    11.60847890493819,
                    11.367721011381033,
                    11.081794400466164,
                    10.75978392706672,
                    10.40531716799374,
                    10.022288585548427,
                    9.660881212334658,
                    9.330212410647508,
                    9.026504745510483,
                    8.745773426030883,
                    8.48418824020854,
                    8.244800942202188,
                    8.026160497563938,
                    7.832355021576029,
                    7.667126198580626,
                    7.5288425036347695,
                    7.416154064590133,
                    7.326073165145873,
                    7.259712559546998,
                    7.216466693016008,
                    7.178520856114905,
                    7.126063053738805,
                    7.062240643560999,
                    6.987373678546149,
                    6.901833810020144,
                    6.803072452759129,
                    6.68975611132667,
                    6.580144406101933,
                    6.486769803970025,
                    6.40898453500143,
                    6.346252524922261,
                    6.2981435846731015,
                    6.264328386811602,
                    6.24457467875663,
                    6.233130710335489,
                    6.221333144324634,
                    6.211542778980741,
                    6.204413201126673,
                    6.199934314246317,
                    6.19809939461347,
                    6.198904882737993,
                    6.193764894213495,
                    6.1741392103441095,
                    6.140171851500985,
                    6.092106902140146,
                    6.030285524206453,
                    5.95514191360326,
                    5.8671980497278104,
                    5.78842984554335,
                    5.739689005171181,
                    5.720220689130203,
                    5.729717788240316,
                    5.768312968740182,
                    5.83658168387167,
                    5.936418448061126,
                    6.05365673485297,
                    6.170150125253708,
                    6.282730851711163,
                    6.394570950782574,
                    6.507859060023569,
                    6.620787657352013,
                    6.732751505391673,
                    6.851666021198614,
                    6.986012427747926,
                    7.136599931233932,
                    7.304346621023482,
                    7.490288644525936,
                    7.695195388489111,
                    7.920069380561838,
                    8.131354044849608,
                    8.291210791805863,
                    8.396449182763831,
                    8.444958797229678,
                    8.435779040120094,
                    8.369130700958356,
                    8.246406119891232,
                    8.109789786514794,
                    7.999167661396785,
                    7.913522932581019,
                    7.852072093410467,
                    7.814253347544763,
                    7.799717731972966,
                    7.808324006738429,
                    7.822524521346223,
                    7.8247288962651735,
                    7.813086611407683,
                    7.789457805823026,
                    7.753958242947685,
                    7.706758121982014,
                    7.648080801990598,
                    7.578200738818919,
                    7.497441575474123,
                    7.40617352541509,
                    7.304810428932795,
                    7.193806891157158,
                    7.073654478150572,
                    6.944878200689413,
                    6.808032798797509,
                    6.663698741062343,
                    6.512478061970117,
                    6.354990223338825,
                    6.191867926625077,
                    6.023752932199417,
                    5.851291933260446,
                    5.680815724889431,
                    5.517964600561832,
                    5.362367333316026,
                    5.213673251492838,
                    5.07155108455101,
                    4.935687862053738,
                    4.805787874983903,
                    4.682742250076994,
                    4.567339928667841,
                    4.4591686453987425,
                    4.357847095333149
                  ]
                },
                {
                  "line": {
                    "dash": "dash",
                    "width": 2
                  },
                  "mode": "lines",
                  "name": "Övre konfidensintervall",
                  "type": "scatter",
                  "x": [
                    "2020-03-01T00:00:00",
                    "2020-03-02T00:00:00",
                    "2020-03-03T00:00:00",
                    "2020-03-04T00:00:00",
                    "2020-03-05T00:00:00",
                    "2020-03-06T00:00:00",
                    "2020-03-07T00:00:00",
                    "2020-03-08T00:00:00",
                    "2020-03-09T00:00:00",
                    "2020-03-10T00:00:00",
                    "2020-03-11T00:00:00",
                    "2020-03-12T00:00:00",
                    "2020-03-13T00:00:00",
                    "2020-03-14T00:00:00",
                    "2020-03-15T00:00:00",
                    "2020-03-16T00:00:00",
                    "2020-03-17T00:00:00",
                    "2020-03-18T00:00:00",
                    "2020-03-19T00:00:00",
                    "2020-03-20T00:00:00",
                    "2020-03-21T00:00:00",
                    "2020-03-22T00:00:00",
                    "2020-03-23T00:00:00",
                    "2020-03-24T00:00:00",
                    "2020-03-25T00:00:00",
                    "2020-03-26T00:00:00",
                    "2020-03-27T00:00:00",
                    "2020-03-28T00:00:00",
                    "2020-03-29T00:00:00",
                    "2020-03-30T00:00:00",
                    "2020-03-31T00:00:00",
                    "2020-04-01T00:00:00",
                    "2020-04-02T00:00:00",
                    "2020-04-03T00:00:00",
                    "2020-04-04T00:00:00",
                    "2020-04-05T00:00:00",
                    "2020-04-06T00:00:00",
                    "2020-04-07T00:00:00",
                    "2020-04-08T00:00:00",
                    "2020-04-09T00:00:00",
                    "2020-04-10T00:00:00",
                    "2020-04-11T00:00:00",
                    "2020-04-12T00:00:00",
                    "2020-04-13T00:00:00",
                    "2020-04-14T00:00:00",
                    "2020-04-15T00:00:00",
                    "2020-04-16T00:00:00",
                    "2020-04-17T00:00:00",
                    "2020-04-18T00:00:00",
                    "2020-04-19T00:00:00",
                    "2020-04-20T00:00:00",
                    "2020-04-21T00:00:00",
                    "2020-04-22T00:00:00",
                    "2020-04-23T00:00:00",
                    "2020-04-24T00:00:00",
                    "2020-04-25T00:00:00",
                    "2020-04-26T00:00:00",
                    "2020-04-27T00:00:00",
                    "2020-04-28T00:00:00",
                    "2020-04-29T00:00:00",
                    "2020-04-30T00:00:00",
                    "2020-05-01T00:00:00",
                    "2020-05-02T00:00:00",
                    "2020-05-03T00:00:00",
                    "2020-05-04T00:00:00",
                    "2020-05-05T00:00:00",
                    "2020-05-06T00:00:00",
                    "2020-05-07T00:00:00",
                    "2020-05-08T00:00:00",
                    "2020-05-09T00:00:00",
                    "2020-05-10T00:00:00",
                    "2020-05-11T00:00:00",
                    "2020-05-12T00:00:00",
                    "2020-05-13T00:00:00",
                    "2020-05-14T00:00:00",
                    "2020-05-15T00:00:00",
                    "2020-05-16T00:00:00",
                    "2020-05-17T00:00:00",
                    "2020-05-18T00:00:00",
                    "2020-05-19T00:00:00",
                    "2020-05-20T00:00:00",
                    "2020-05-21T00:00:00",
                    "2020-05-22T00:00:00",
                    "2020-05-23T00:00:00",
                    "2020-05-24T00:00:00",
                    "2020-05-25T00:00:00",
                    "2020-05-26T00:00:00",
                    "2020-05-27T00:00:00",
                    "2020-05-28T00:00:00",
                    "2020-05-29T00:00:00",
                    "2020-05-30T00:00:00",
                    "2020-05-31T00:00:00",
                    "2020-06-01T00:00:00",
                    "2020-06-02T00:00:00",
                    "2020-06-03T00:00:00",
                    "2020-06-04T00:00:00",
                    "2020-06-05T00:00:00",
                    "2020-06-06T00:00:00",
                    "2020-06-07T00:00:00",
                    "2020-06-08T00:00:00",
                    "2020-06-09T00:00:00",
                    "2020-06-10T00:00:00",
                    "2020-06-11T00:00:00",
                    "2020-06-12T00:00:00",
                    "2020-06-13T00:00:00",
                    "2020-06-14T00:00:00",
                    "2020-06-15T00:00:00",
                    "2020-06-16T00:00:00",
                    "2020-06-17T00:00:00",
                    "2020-06-18T00:00:00",
                    "2020-06-19T00:00:00",
                    "2020-06-20T00:00:00",
                    "2020-06-21T00:00:00",
                    "2020-06-22T00:00:00",
                    "2020-06-23T00:00:00",
                    "2020-06-24T00:00:00",
                    "2020-06-25T00:00:00",
                    "2020-06-26T00:00:00",
                    "2020-06-27T00:00:00",
                    "2020-06-28T00:00:00",
                    "2020-06-29T00:00:00",
                    "2020-06-30T00:00:00",
                    "2020-07-01T00:00:00",
                    "2020-07-02T00:00:00",
                    "2020-07-03T00:00:00",
                    "2020-07-04T00:00:00",
                    "2020-07-05T00:00:00",
                    "2020-07-06T00:00:00",
                    "2020-07-07T00:00:00",
                    "2020-07-08T00:00:00",
                    "2020-07-09T00:00:00",
                    "2020-07-10T00:00:00",
                    "2020-07-11T00:00:00",
                    "2020-07-12T00:00:00",
                    "2020-07-13T00:00:00",
                    "2020-07-14T00:00:00",
                    "2020-07-15T00:00:00",
                    "2020-07-16T00:00:00",
                    "2020-07-17T00:00:00",
                    "2020-07-18T00:00:00",
                    "2020-07-19T00:00:00",
                    "2020-07-20T00:00:00",
                    "2020-07-21T00:00:00",
                    "2020-07-22T00:00:00",
                    "2020-07-23T00:00:00",
                    "2020-07-24T00:00:00",
                    "2020-07-25T00:00:00",
                    "2020-07-26T00:00:00",
                    "2020-07-27T00:00:00",
                    "2020-07-28T00:00:00",
                    "2020-07-29T00:00:00",
                    "2020-07-30T00:00:00",
                    "2020-07-31T00:00:00",
                    "2020-08-01T00:00:00",
                    "2020-08-02T00:00:00",
                    "2020-08-03T00:00:00",
                    "2020-08-04T00:00:00",
                    "2020-08-05T00:00:00",
                    "2020-08-06T00:00:00",
                    "2020-08-07T00:00:00",
                    "2020-08-08T00:00:00",
                    "2020-08-09T00:00:00",
                    "2020-08-10T00:00:00",
                    "2020-08-11T00:00:00",
                    "2020-08-12T00:00:00",
                    "2020-08-13T00:00:00",
                    "2020-08-14T00:00:00",
                    "2020-08-15T00:00:00",
                    "2020-08-16T00:00:00",
                    "2020-08-17T00:00:00",
                    "2020-08-18T00:00:00",
                    "2020-08-19T00:00:00",
                    "2020-08-20T00:00:00"
                  ],
                  "y": [
                    0.013,
                    0.016260069387419227,
                    0.020291615770995083,
                    0.025265391250187536,
                    0.03138705334724647,
                    0.038903630875510534,
                    0.04811103999319075,
                    0.05936278978101269,
                    0.07308003140583377,
                    0.08976311447110083,
                    0.11000482783519902,
                    0.1345055112473921,
                    0.16409023692630434,
                    0.19972826432260526,
                    0.24255497836404982,
                    0.2938965222674958,
                    0.35529733330056107,
                    0.42855078116773815,
                    0.5157330940092257,
                    0.6192407346355905,
                    0.7418313567290037,
                    0.8866684280247417,
                    1.057369552193681,
                    1.258058450532815,
                    1.4934204778788578,
                    1.768761444650758,
                    2.0900693870246307,
                    2.4640787836374782,
                    2.898336541075377,
                    3.3965438406155415,
                    3.9601688854231436,
                    4.593839837221994,
                    5.301772054167726,
                    6.0876063769449615,
                    6.9542370615711,
                    7.903633934680309,
                    8.896783142339705,
                    9.874726645829142,
                    10.806982663502469,
                    11.663012858266026,
                    12.412456422316174,
                    13.026021413483225,
                    13.479613152841592,
                    13.824159821508676,
                    14.121380377534194,
                    14.367913329437528,
                    14.560945401662124,
                    14.698265402672423,
                    14.778306814907783,
                    14.800176652828704,
                    14.780648554319942,
                    14.736848227953264,
                    14.669017266735427,
                    14.577515264675466,
                    14.462816838761926,
                    14.325507469262227,
                    14.16627813498676,
                    13.968466082277079,
                    13.716651969487001,
                    13.413924645953484,
                    13.063929858281588,
                    12.67079640862269,
                    12.239055808233227,
                    11.773555571569103,
                    11.312705246697496,
                    10.890662325576395,
                    10.505122376896727,
                    10.15144282976164,
                    9.827301657669423,
                    9.530803325385437,
                    9.270004865461992,
                    9.049301062959112,
                    8.861772841166108,
                    8.705549649667743,
                    8.579090661700869,
                    8.468502852610852,
                    8.381332133538276,
                    8.321762645130526,
                    8.268831844685712,
                    8.20221238504679,
                    8.122250482603016,
                    8.029357305947832,
                    7.925514104445129,
                    7.81087893121065,
                    7.685147446601403,
                    7.564628562463605,
                    7.462698527502433,
                    7.385785903208293,
                    7.3321557464309315,
                    7.294866269408055,
                    7.273664808870604,
                    7.2684046818298285,
                    7.272587929642352,
                    7.279764829739466,
                    7.289942330744193,
                    7.303131057656122,
                    7.319345382333937,
                    7.338603235780128,
                    7.36092604800064,
                    7.376344479390506,
                    7.37482686029911,
                    7.356391813789628,
                    7.321174812923716,
                    7.2694263659009,
                    7.201509059383079,
                    7.117893112257766,
                    7.044571500568817,
                    7.0065219668991405,
                    7.003163529563373,
                    7.03443004939533,
                    7.10076815143482,
                    7.203147503466048,
                    7.343084053102549,
                    7.502562788765368,
                    7.66217809105195,
                    7.821787810120753,
                    7.981246522872821,
                    8.140405809582825,
                    8.299114419878254,
                    8.457218592957547,
                    8.624499306641086,
                    8.811518036132641,
                    9.019388875096157,
                    9.249366013903355,
                    9.502856189369105,
                    9.781432278942674,
                    10.086849435910233,
                    10.37649898624951,
                    10.602977161686404,
                    10.761881151870831,
                    10.850102115954687,
                    10.865926016031112,
                    10.809087763037043,
                    10.680778369909714,
                    10.533954452801229,
                    10.419236674961846,
                    10.335599126461776,
                    10.282293434603522,
                    10.25883757170162,
                    10.26500851126906,
                    10.300838604187684,
                    10.343868500795264,
                    10.371378293060545,
                    10.383252845229324,
                    10.37944870445796,
                    10.359993991243385,
                    10.324988170626025,
                    10.27460115879743,
                    10.209071885044334,
                    10.128706315271408,
                    10.033875342315515,
                    9.925011475807134,
                    9.80260521337678,
                    9.667202308547933,
                    9.519398934994467,
                    9.359837296041494,
                    9.189201214922706,
                    9.008211071688432,
                    8.817618800778503,
                    8.618202668332668,
                    8.410762013668117,
                    8.196112463779247,
                    7.982835166867856,
                    7.778675332316114,
                    7.583218587204039,
                    7.396072328267215,
                    7.216864586446534,
                    7.04524305349232,
                    6.880873880772984,
                    6.725072970190999,
                    6.579027868590171,
                    6.442253828771161,
                    6.314302392405333
                  ]
                },
                {
                  "line": {
                    "dash": "dot",
                    "width": 2
                  },
                  "mode": "lines",
                  "name": "Undre prediktionsintervall",
                  "type": "scatter",
                  "x": [
                    "2020-03-01T00:00:00",
                    "2020-03-02T00:00:00",
                    "2020-03-03T00:00:00",
                    "2020-03-04T00:00:00",
                    "2020-03-05T00:00:00",
                    "2020-03-06T00:00:00",
                    "2020-03-07T00:00:00",
                    "2020-03-08T00:00:00",
                    "2020-03-09T00:00:00",
                    "2020-03-10T00:00:00",
                    "2020-03-11T00:00:00",
                    "2020-03-12T00:00:00",
                    "2020-03-13T00:00:00",
                    "2020-03-14T00:00:00",
                    "2020-03-15T00:00:00",
                    "2020-03-16T00:00:00",
                    "2020-03-17T00:00:00",
                    "2020-03-18T00:00:00",
                    "2020-03-19T00:00:00",
                    "2020-03-20T00:00:00",
                    "2020-03-21T00:00:00",
                    "2020-03-22T00:00:00",
                    "2020-03-23T00:00:00",
                    "2020-03-24T00:00:00",
                    "2020-03-25T00:00:00",
                    "2020-03-26T00:00:00",
                    "2020-03-27T00:00:00",
                    "2020-03-28T00:00:00",
                    "2020-03-29T00:00:00",
                    "2020-03-30T00:00:00",
                    "2020-03-31T00:00:00",
                    "2020-04-01T00:00:00",
                    "2020-04-02T00:00:00",
                    "2020-04-03T00:00:00",
                    "2020-04-04T00:00:00",
                    "2020-04-05T00:00:00",
                    "2020-04-06T00:00:00",
                    "2020-04-07T00:00:00",
                    "2020-04-08T00:00:00",
                    "2020-04-09T00:00:00",
                    "2020-04-10T00:00:00",
                    "2020-04-11T00:00:00",
                    "2020-04-12T00:00:00",
                    "2020-04-13T00:00:00",
                    "2020-04-14T00:00:00",
                    "2020-04-15T00:00:00",
                    "2020-04-16T00:00:00",
                    "2020-04-17T00:00:00",
                    "2020-04-18T00:00:00",
                    "2020-04-19T00:00:00",
                    "2020-04-20T00:00:00",
                    "2020-04-21T00:00:00",
                    "2020-04-22T00:00:00",
                    "2020-04-23T00:00:00",
                    "2020-04-24T00:00:00",
                    "2020-04-25T00:00:00",
                    "2020-04-26T00:00:00",
                    "2020-04-27T00:00:00",
                    "2020-04-28T00:00:00",
                    "2020-04-29T00:00:00",
                    "2020-04-30T00:00:00",
                    "2020-05-01T00:00:00",
                    "2020-05-02T00:00:00",
                    "2020-05-03T00:00:00",
                    "2020-05-04T00:00:00",
                    "2020-05-05T00:00:00",
                    "2020-05-06T00:00:00",
                    "2020-05-07T00:00:00",
                    "2020-05-08T00:00:00",
                    "2020-05-09T00:00:00",
                    "2020-05-10T00:00:00",
                    "2020-05-11T00:00:00",
                    "2020-05-12T00:00:00",
                    "2020-05-13T00:00:00",
                    "2020-05-14T00:00:00",
                    "2020-05-15T00:00:00",
                    "2020-05-16T00:00:00",
                    "2020-05-17T00:00:00",
                    "2020-05-18T00:00:00",
                    "2020-05-19T00:00:00",
                    "2020-05-20T00:00:00",
                    "2020-05-21T00:00:00",
                    "2020-05-22T00:00:00",
                    "2020-05-23T00:00:00",
                    "2020-05-24T00:00:00",
                    "2020-05-25T00:00:00",
                    "2020-05-26T00:00:00",
                    "2020-05-27T00:00:00",
                    "2020-05-28T00:00:00",
                    "2020-05-29T00:00:00",
                    "2020-05-30T00:00:00",
                    "2020-05-31T00:00:00",
                    "2020-06-01T00:00:00",
                    "2020-06-02T00:00:00",
                    "2020-06-03T00:00:00",
                    "2020-06-04T00:00:00",
                    "2020-06-05T00:00:00",
                    "2020-06-06T00:00:00",
                    "2020-06-07T00:00:00",
                    "2020-06-08T00:00:00",
                    "2020-06-09T00:00:00",
                    "2020-06-10T00:00:00",
                    "2020-06-11T00:00:00",
                    "2020-06-12T00:00:00",
                    "2020-06-13T00:00:00",
                    "2020-06-14T00:00:00",
                    "2020-06-15T00:00:00",
                    "2020-06-16T00:00:00",
                    "2020-06-17T00:00:00",
                    "2020-06-18T00:00:00",
                    "2020-06-19T00:00:00",
                    "2020-06-20T00:00:00",
                    "2020-06-21T00:00:00",
                    "2020-06-22T00:00:00",
                    "2020-06-23T00:00:00",
                    "2020-06-24T00:00:00",
                    "2020-06-25T00:00:00",
                    "2020-06-26T00:00:00",
                    "2020-06-27T00:00:00",
                    "2020-06-28T00:00:00",
                    "2020-06-29T00:00:00",
                    "2020-06-30T00:00:00",
                    "2020-07-01T00:00:00",
                    "2020-07-02T00:00:00",
                    "2020-07-03T00:00:00",
                    "2020-07-04T00:00:00",
                    "2020-07-05T00:00:00",
                    "2020-07-06T00:00:00",
                    "2020-07-07T00:00:00",
                    "2020-07-08T00:00:00",
                    "2020-07-09T00:00:00",
                    "2020-07-10T00:00:00",
                    "2020-07-11T00:00:00",
                    "2020-07-12T00:00:00",
                    "2020-07-13T00:00:00",
                    "2020-07-14T00:00:00",
                    "2020-07-15T00:00:00",
                    "2020-07-16T00:00:00",
                    "2020-07-17T00:00:00",
                    "2020-07-18T00:00:00",
                    "2020-07-19T00:00:00",
                    "2020-07-20T00:00:00",
                    "2020-07-21T00:00:00",
                    "2020-07-22T00:00:00",
                    "2020-07-23T00:00:00",
                    "2020-07-24T00:00:00",
                    "2020-07-25T00:00:00",
                    "2020-07-26T00:00:00",
                    "2020-07-27T00:00:00",
                    "2020-07-28T00:00:00",
                    "2020-07-29T00:00:00",
                    "2020-07-30T00:00:00",
                    "2020-07-31T00:00:00",
                    "2020-08-01T00:00:00",
                    "2020-08-02T00:00:00",
                    "2020-08-03T00:00:00",
                    "2020-08-04T00:00:00",
                    "2020-08-05T00:00:00",
                    "2020-08-06T00:00:00",
                    "2020-08-07T00:00:00",
                    "2020-08-08T00:00:00",
                    "2020-08-09T00:00:00",
                    "2020-08-10T00:00:00",
                    "2020-08-11T00:00:00",
                    "2020-08-12T00:00:00",
                    "2020-08-13T00:00:00",
                    "2020-08-14T00:00:00",
                    "2020-08-15T00:00:00",
                    "2020-08-16T00:00:00",
                    "2020-08-17T00:00:00",
                    "2020-08-18T00:00:00",
                    "2020-08-19T00:00:00",
                    "2020-08-20T00:00:00"
                  ],
                  "y": [
                    0,
                    0,
                    0,
                    0,
                    0,
                    0,
                    0,
                    0,
                    0,
                    0,
                    0,
                    0,
                    0,
                    0,
                    0,
                    0,
                    0,
                    0,
                    0,
                    0,
                    0,
                    0,
                    0,
                    0,
                    0,
                    0,
                    0,
                    0,
                    0,
                    0,
                    0,
                    0,
                    0,
                    0,
                    0,
                    0,
                    0,
                    0,
                    0,
                    0,
                    0,
                    0,
                    0.1155552403702954,
                    0.24382621286798795,
                    0.7308027659587908,
                    0.7936786863919109,
                    1.1778638953209313,
                    1.0559869859211555,
                    1.2595571211245011,
                    1.1926086467952863,
                    1.2574699973335028,
                    1.0956041530393315,
                    1.0806306434197666,
                    0.9740034760044767,
                    1.1818791192165319,
                    0.822705080831724,
                    0.8846465521380159,
                    0.5458974178475602,
                    0.3392429490932819,
                    0.17282574320805894,
                    0,
                    0,
                    0,
                    0,
                    0,
                    0,
                    0,
                    0,
                    0,
                    0,
                    0,
                    0,
                    0,
                    0,
                    0,
                    0,
                    0,
                    0,
                    0,
                    0,
                    0,
                    0,
                    0,
                    0,
                    0,
                    0,
                    0,
                    0,
                    0,
                    0,
                    0,
                    0,
                    0,
                    0,
                    0,
                    0,
                    0,
                    0,
                    0,
                    0,
                    0,
                    0,
                    0,
                    0,
                    0,
                    0,
                    0,
                    0,
                    0,
                    0,
                    0,
                    0,
                    0,
                    0,
                    0,
                    0,
                    0,
                    0,
                    0,
                    0,
                    0,
                    0,
                    0,
                    0,
                    0,
                    0,
                    0,
                    0,
                    0,
                    0,
                    0,
                    0,
                    0,
                    0,
                    0,
                    0,
                    0,
                    0,
                    0,
                    0,
                    0,
                    0,
                    0,
                    0,
                    0,
                    0,
                    0,
                    0,
                    0,
                    0,
                    0,
                    0,
                    0,
                    0,
                    0,
                    0,
                    0,
                    0,
                    0,
                    0,
                    0,
                    0,
                    0,
                    0,
                    0,
                    0,
                    0,
                    0,
                    0,
                    0,
                    0,
                    0,
                    0
                  ]
                },
                {
                  "line": {
                    "dash": "dot",
                    "width": 2
                  },
                  "mode": "lines",
                  "name": "Övre prediktionsintervall",
                  "type": "scatter",
                  "x": [
                    "2020-03-01T00:00:00",
                    "2020-03-02T00:00:00",
                    "2020-03-03T00:00:00",
                    "2020-03-04T00:00:00",
                    "2020-03-05T00:00:00",
                    "2020-03-06T00:00:00",
                    "2020-03-07T00:00:00",
                    "2020-03-08T00:00:00",
                    "2020-03-09T00:00:00",
                    "2020-03-10T00:00:00",
                    "2020-03-11T00:00:00",
                    "2020-03-12T00:00:00",
                    "2020-03-13T00:00:00",
                    "2020-03-14T00:00:00",
                    "2020-03-15T00:00:00",
                    "2020-03-16T00:00:00",
                    "2020-03-17T00:00:00",
                    "2020-03-18T00:00:00",
                    "2020-03-19T00:00:00",
                    "2020-03-20T00:00:00",
                    "2020-03-21T00:00:00",
                    "2020-03-22T00:00:00",
                    "2020-03-23T00:00:00",
                    "2020-03-24T00:00:00",
                    "2020-03-25T00:00:00",
                    "2020-03-26T00:00:00",
                    "2020-03-27T00:00:00",
                    "2020-03-28T00:00:00",
                    "2020-03-29T00:00:00",
                    "2020-03-30T00:00:00",
                    "2020-03-31T00:00:00",
                    "2020-04-01T00:00:00",
                    "2020-04-02T00:00:00",
                    "2020-04-03T00:00:00",
                    "2020-04-04T00:00:00",
                    "2020-04-05T00:00:00",
                    "2020-04-06T00:00:00",
                    "2020-04-07T00:00:00",
                    "2020-04-08T00:00:00",
                    "2020-04-09T00:00:00",
                    "2020-04-10T00:00:00",
                    "2020-04-11T00:00:00",
                    "2020-04-12T00:00:00",
                    "2020-04-13T00:00:00",
                    "2020-04-14T00:00:00",
                    "2020-04-15T00:00:00",
                    "2020-04-16T00:00:00",
                    "2020-04-17T00:00:00",
                    "2020-04-18T00:00:00",
                    "2020-04-19T00:00:00",
                    "2020-04-20T00:00:00",
                    "2020-04-21T00:00:00",
                    "2020-04-22T00:00:00",
                    "2020-04-23T00:00:00",
                    "2020-04-24T00:00:00",
                    "2020-04-25T00:00:00",
                    "2020-04-26T00:00:00",
                    "2020-04-27T00:00:00",
                    "2020-04-28T00:00:00",
                    "2020-04-29T00:00:00",
                    "2020-04-30T00:00:00",
                    "2020-05-01T00:00:00",
                    "2020-05-02T00:00:00",
                    "2020-05-03T00:00:00",
                    "2020-05-04T00:00:00",
                    "2020-05-05T00:00:00",
                    "2020-05-06T00:00:00",
                    "2020-05-07T00:00:00",
                    "2020-05-08T00:00:00",
                    "2020-05-09T00:00:00",
                    "2020-05-10T00:00:00",
                    "2020-05-11T00:00:00",
                    "2020-05-12T00:00:00",
                    "2020-05-13T00:00:00",
                    "2020-05-14T00:00:00",
                    "2020-05-15T00:00:00",
                    "2020-05-16T00:00:00",
                    "2020-05-17T00:00:00",
                    "2020-05-18T00:00:00",
                    "2020-05-19T00:00:00",
                    "2020-05-20T00:00:00",
                    "2020-05-21T00:00:00",
                    "2020-05-22T00:00:00",
                    "2020-05-23T00:00:00",
                    "2020-05-24T00:00:00",
                    "2020-05-25T00:00:00",
                    "2020-05-26T00:00:00",
                    "2020-05-27T00:00:00",
                    "2020-05-28T00:00:00",
                    "2020-05-29T00:00:00",
                    "2020-05-30T00:00:00",
                    "2020-05-31T00:00:00",
                    "2020-06-01T00:00:00",
                    "2020-06-02T00:00:00",
                    "2020-06-03T00:00:00",
                    "2020-06-04T00:00:00",
                    "2020-06-05T00:00:00",
                    "2020-06-06T00:00:00",
                    "2020-06-07T00:00:00",
                    "2020-06-08T00:00:00",
                    "2020-06-09T00:00:00",
                    "2020-06-10T00:00:00",
                    "2020-06-11T00:00:00",
                    "2020-06-12T00:00:00",
                    "2020-06-13T00:00:00",
                    "2020-06-14T00:00:00",
                    "2020-06-15T00:00:00",
                    "2020-06-16T00:00:00",
                    "2020-06-17T00:00:00",
                    "2020-06-18T00:00:00",
                    "2020-06-19T00:00:00",
                    "2020-06-20T00:00:00",
                    "2020-06-21T00:00:00",
                    "2020-06-22T00:00:00",
                    "2020-06-23T00:00:00",
                    "2020-06-24T00:00:00",
                    "2020-06-25T00:00:00",
                    "2020-06-26T00:00:00",
                    "2020-06-27T00:00:00",
                    "2020-06-28T00:00:00",
                    "2020-06-29T00:00:00",
                    "2020-06-30T00:00:00",
                    "2020-07-01T00:00:00",
                    "2020-07-02T00:00:00",
                    "2020-07-03T00:00:00",
                    "2020-07-04T00:00:00",
                    "2020-07-05T00:00:00",
                    "2020-07-06T00:00:00",
                    "2020-07-07T00:00:00",
                    "2020-07-08T00:00:00",
                    "2020-07-09T00:00:00",
                    "2020-07-10T00:00:00",
                    "2020-07-11T00:00:00",
                    "2020-07-12T00:00:00",
                    "2020-07-13T00:00:00",
                    "2020-07-14T00:00:00",
                    "2020-07-15T00:00:00",
                    "2020-07-16T00:00:00",
                    "2020-07-17T00:00:00",
                    "2020-07-18T00:00:00",
                    "2020-07-19T00:00:00",
                    "2020-07-20T00:00:00",
                    "2020-07-21T00:00:00",
                    "2020-07-22T00:00:00",
                    "2020-07-23T00:00:00",
                    "2020-07-24T00:00:00",
                    "2020-07-25T00:00:00",
                    "2020-07-26T00:00:00",
                    "2020-07-27T00:00:00",
                    "2020-07-28T00:00:00",
                    "2020-07-29T00:00:00",
                    "2020-07-30T00:00:00",
                    "2020-07-31T00:00:00",
                    "2020-08-01T00:00:00",
                    "2020-08-02T00:00:00",
                    "2020-08-03T00:00:00",
                    "2020-08-04T00:00:00",
                    "2020-08-05T00:00:00",
                    "2020-08-06T00:00:00",
                    "2020-08-07T00:00:00",
                    "2020-08-08T00:00:00",
                    "2020-08-09T00:00:00",
                    "2020-08-10T00:00:00",
                    "2020-08-11T00:00:00",
                    "2020-08-12T00:00:00",
                    "2020-08-13T00:00:00",
                    "2020-08-14T00:00:00",
                    "2020-08-15T00:00:00",
                    "2020-08-16T00:00:00",
                    "2020-08-17T00:00:00",
                    "2020-08-18T00:00:00",
                    "2020-08-19T00:00:00",
                    "2020-08-20T00:00:00"
                  ],
                  "y": [
                    12.181671606746825,
                    12.190306146535008,
                    12.236310656995828,
                    12.25819317559058,
                    12.125457557804461,
                    12.23924046302541,
                    12.124729260351915,
                    12.225567489715761,
                    12.093847797116302,
                    12.223508020026113,
                    12.207353511946073,
                    12.545969046662028,
                    12.283629591750811,
                    12.527347597916396,
                    12.554827216213068,
                    12.468819727343446,
                    12.466153724411596,
                    12.450524040459964,
                    12.585063764721204,
                    12.79412095284802,
                    13.017394584655655,
                    12.930091385580324,
                    13.112706519852566,
                    13.472863952808545,
                    13.684992892745884,
                    13.89818615326655,
                    14.090185434551724,
                    14.593067186146346,
                    14.876663832252873,
                    15.436820502596175,
                    15.777914685727362,
                    16.434611426896904,
                    17.012279068886293,
                    17.75451498430302,
                    18.69867371283906,
                    19.453674666491906,
                    20.293039781737328,
                    21.198973859372742,
                    21.995792418955723,
                    22.984209012919596,
                    23.393716652010976,
                    24.130172952506584,
                    24.450991349164564,
                    24.698726427225804,
                    25.036179532957405,
                    25.23704571349608,
                    25.439214884895364,
                    25.49867986239789,
                    25.863476142416832,
                    25.763366778610912,
                    25.747147575712614,
                    25.833896771245637,
                    25.629125281316636,
                    25.853483274294366,
                    25.688926728310694,
                    25.296398445971572,
                    25.263015988976566,
                    25.319822767025183,
                    24.97995529506488,
                    24.638603040774047,
                    24.36442976616334,
                    23.942614181599772,
                    23.583383290432426,
                    23.003135073885208,
                    22.763440186111538,
                    22.27194244251467,
                    21.790371973259113,
                    21.61011222439716,
                    21.397163625645394,
                    21.015304708863805,
                    21.1445664478419,
                    20.793998940542565,
                    20.263434894886434,
                    20.217593299922285,
                    20.175610680969033,
                    20.073297474999936,
                    19.953295421182478,
                    19.855976970491536,
                    19.889194274766737,
                    19.92288848748483,
                    19.881645184359417,
                    19.754115186356955,
                    19.501176873728692,
                    19.47249934108904,
                    19.582847333954838,
                    19.090292766333725,
                    19.122410861249815,
                    18.923120880503575,
                    19.016530296717697,
                    18.823590272904376,
                    18.97119834303777,
                    19.020709204136505,
                    18.86622535145814,
                    19.03971908394498,
                    18.88206417292091,
                    18.833179928340176,
                    19.004085860242377,
                    18.991900628632866,
                    18.997385313289726,
                    19.020319617224818,
                    18.968915891753834,
                    18.93394010835855,
                    18.85344456084368,
                    18.69717323670993,
                    18.668552275035086,
                    18.73288832617697,
                    18.599035164246075,
                    18.67679893849818,
                    18.536262038264567,
                    18.37804938649259,
                    18.574970822927746,
                    18.704590230429716,
                    18.89365122711481,
                    18.818652101027393,
                    19.06809192269657,
                    19.180004705588225,
                    19.480620699317292,
                    19.550705482441856,
                    19.61737414938305,
                    19.679282076401236,
                    19.792385533629513,
                    20.151797901247047,
                    20.029935910645115,
                    20.442146937522445,
                    20.699614401507826,
                    20.901361667923094,
                    21.102016175150236,
                    21.42489436203569,
                    21.554265286911672,
                    21.69297907324663,
                    21.80763523138989,
                    21.73453830686664,
                    21.644421175703574,
                    21.731693140224905,
                    21.430198480769437,
                    21.211245753496257,
                    21.240941102526786,
                    21.140869029847877,
                    21.071958964407045,
                    21.204910390975176,
                    21.271150415997397,
                    21.128981080809986,
                    21.298275483180817,
                    21.186114445492706,
                    21.321635918360364,
                    21.19367568847182,
                    21.01533212599698,
                    20.9619197332583,
                    20.938095864453402,
                    20.75260659544173,
                    20.77160271929274,
                    20.84952896715366,
                    20.82450436581604,
                    20.60100379033848,
                    20.21790231905109,
                    20.2648728977732,
                    20.085586993843773,
                    19.82466909838819,
                    19.79266144571364,
                    19.62734715636774,
                    19.336775945891034,
                    18.98147841110266,
                    18.853835500444067,
                    18.75837775300522,
                    18.68099920471064,
                    18.57540141173164,
                    18.310143890466332,
                    18.315974952862515,
                    17.90257885597971,
                    17.770151021983235,
                    17.475048835663156,
                    17.53749527191673,
                    17.41616951671426
                  ]
                }
              ],
              "layout": {
                "annotations": [
                  {
                    "bordercolor": "black",
                    "showarrow": false,
                    "text": "RMSE: 6",
                    "x": "2020-03-01T00:00:00",
                    "xshift": 48,
                    "y": 0,
                    "yshift": 270
                  }
                ],
                "autosize": false,
                "font": {
                  "color": "RebeccaPurple",
                  "family": "Courier New, monospace",
                  "size": 14
                },
                "template": {
                  "data": {
                    "bar": [
                      {
                        "error_x": {
                          "color": "#2a3f5f"
                        },
                        "error_y": {
                          "color": "#2a3f5f"
                        },
                        "marker": {
                          "line": {
                            "color": "#E5ECF6",
                            "width": 0.5
                          },
                          "pattern": {
                            "fillmode": "overlay",
                            "size": 10,
                            "solidity": 0.2
                          }
                        },
                        "type": "bar"
                      }
                    ],
                    "barpolar": [
                      {
                        "marker": {
                          "line": {
                            "color": "#E5ECF6",
                            "width": 0.5
                          },
                          "pattern": {
                            "fillmode": "overlay",
                            "size": 10,
                            "solidity": 0.2
                          }
                        },
                        "type": "barpolar"
                      }
                    ],
                    "carpet": [
                      {
                        "aaxis": {
                          "endlinecolor": "#2a3f5f",
                          "gridcolor": "white",
                          "linecolor": "white",
                          "minorgridcolor": "white",
                          "startlinecolor": "#2a3f5f"
                        },
                        "baxis": {
                          "endlinecolor": "#2a3f5f",
                          "gridcolor": "white",
                          "linecolor": "white",
                          "minorgridcolor": "white",
                          "startlinecolor": "#2a3f5f"
                        },
                        "type": "carpet"
                      }
                    ],
                    "choropleth": [
                      {
                        "colorbar": {
                          "outlinewidth": 0,
                          "ticks": ""
                        },
                        "type": "choropleth"
                      }
                    ],
                    "contour": [
                      {
                        "colorbar": {
                          "outlinewidth": 0,
                          "ticks": ""
                        },
                        "colorscale": [
                          [
                            0,
                            "#0d0887"
                          ],
                          [
                            0.1111111111111111,
                            "#46039f"
                          ],
                          [
                            0.2222222222222222,
                            "#7201a8"
                          ],
                          [
                            0.3333333333333333,
                            "#9c179e"
                          ],
                          [
                            0.4444444444444444,
                            "#bd3786"
                          ],
                          [
                            0.5555555555555556,
                            "#d8576b"
                          ],
                          [
                            0.6666666666666666,
                            "#ed7953"
                          ],
                          [
                            0.7777777777777778,
                            "#fb9f3a"
                          ],
                          [
                            0.8888888888888888,
                            "#fdca26"
                          ],
                          [
                            1,
                            "#f0f921"
                          ]
                        ],
                        "type": "contour"
                      }
                    ],
                    "contourcarpet": [
                      {
                        "colorbar": {
                          "outlinewidth": 0,
                          "ticks": ""
                        },
                        "type": "contourcarpet"
                      }
                    ],
                    "heatmap": [
                      {
                        "colorbar": {
                          "outlinewidth": 0,
                          "ticks": ""
                        },
                        "colorscale": [
                          [
                            0,
                            "#0d0887"
                          ],
                          [
                            0.1111111111111111,
                            "#46039f"
                          ],
                          [
                            0.2222222222222222,
                            "#7201a8"
                          ],
                          [
                            0.3333333333333333,
                            "#9c179e"
                          ],
                          [
                            0.4444444444444444,
                            "#bd3786"
                          ],
                          [
                            0.5555555555555556,
                            "#d8576b"
                          ],
                          [
                            0.6666666666666666,
                            "#ed7953"
                          ],
                          [
                            0.7777777777777778,
                            "#fb9f3a"
                          ],
                          [
                            0.8888888888888888,
                            "#fdca26"
                          ],
                          [
                            1,
                            "#f0f921"
                          ]
                        ],
                        "type": "heatmap"
                      }
                    ],
                    "heatmapgl": [
                      {
                        "colorbar": {
                          "outlinewidth": 0,
                          "ticks": ""
                        },
                        "colorscale": [
                          [
                            0,
                            "#0d0887"
                          ],
                          [
                            0.1111111111111111,
                            "#46039f"
                          ],
                          [
                            0.2222222222222222,
                            "#7201a8"
                          ],
                          [
                            0.3333333333333333,
                            "#9c179e"
                          ],
                          [
                            0.4444444444444444,
                            "#bd3786"
                          ],
                          [
                            0.5555555555555556,
                            "#d8576b"
                          ],
                          [
                            0.6666666666666666,
                            "#ed7953"
                          ],
                          [
                            0.7777777777777778,
                            "#fb9f3a"
                          ],
                          [
                            0.8888888888888888,
                            "#fdca26"
                          ],
                          [
                            1,
                            "#f0f921"
                          ]
                        ],
                        "type": "heatmapgl"
                      }
                    ],
                    "histogram": [
                      {
                        "marker": {
                          "pattern": {
                            "fillmode": "overlay",
                            "size": 10,
                            "solidity": 0.2
                          }
                        },
                        "type": "histogram"
                      }
                    ],
                    "histogram2d": [
                      {
                        "colorbar": {
                          "outlinewidth": 0,
                          "ticks": ""
                        },
                        "colorscale": [
                          [
                            0,
                            "#0d0887"
                          ],
                          [
                            0.1111111111111111,
                            "#46039f"
                          ],
                          [
                            0.2222222222222222,
                            "#7201a8"
                          ],
                          [
                            0.3333333333333333,
                            "#9c179e"
                          ],
                          [
                            0.4444444444444444,
                            "#bd3786"
                          ],
                          [
                            0.5555555555555556,
                            "#d8576b"
                          ],
                          [
                            0.6666666666666666,
                            "#ed7953"
                          ],
                          [
                            0.7777777777777778,
                            "#fb9f3a"
                          ],
                          [
                            0.8888888888888888,
                            "#fdca26"
                          ],
                          [
                            1,
                            "#f0f921"
                          ]
                        ],
                        "type": "histogram2d"
                      }
                    ],
                    "histogram2dcontour": [
                      {
                        "colorbar": {
                          "outlinewidth": 0,
                          "ticks": ""
                        },
                        "colorscale": [
                          [
                            0,
                            "#0d0887"
                          ],
                          [
                            0.1111111111111111,
                            "#46039f"
                          ],
                          [
                            0.2222222222222222,
                            "#7201a8"
                          ],
                          [
                            0.3333333333333333,
                            "#9c179e"
                          ],
                          [
                            0.4444444444444444,
                            "#bd3786"
                          ],
                          [
                            0.5555555555555556,
                            "#d8576b"
                          ],
                          [
                            0.6666666666666666,
                            "#ed7953"
                          ],
                          [
                            0.7777777777777778,
                            "#fb9f3a"
                          ],
                          [
                            0.8888888888888888,
                            "#fdca26"
                          ],
                          [
                            1,
                            "#f0f921"
                          ]
                        ],
                        "type": "histogram2dcontour"
                      }
                    ],
                    "mesh3d": [
                      {
                        "colorbar": {
                          "outlinewidth": 0,
                          "ticks": ""
                        },
                        "type": "mesh3d"
                      }
                    ],
                    "parcoords": [
                      {
                        "line": {
                          "colorbar": {
                            "outlinewidth": 0,
                            "ticks": ""
                          }
                        },
                        "type": "parcoords"
                      }
                    ],
                    "pie": [
                      {
                        "automargin": true,
                        "type": "pie"
                      }
                    ],
                    "scatter": [
                      {
                        "marker": {
                          "colorbar": {
                            "outlinewidth": 0,
                            "ticks": ""
                          }
                        },
                        "type": "scatter"
                      }
                    ],
                    "scatter3d": [
                      {
                        "line": {
                          "colorbar": {
                            "outlinewidth": 0,
                            "ticks": ""
                          }
                        },
                        "marker": {
                          "colorbar": {
                            "outlinewidth": 0,
                            "ticks": ""
                          }
                        },
                        "type": "scatter3d"
                      }
                    ],
                    "scattercarpet": [
                      {
                        "marker": {
                          "colorbar": {
                            "outlinewidth": 0,
                            "ticks": ""
                          }
                        },
                        "type": "scattercarpet"
                      }
                    ],
                    "scattergeo": [
                      {
                        "marker": {
                          "colorbar": {
                            "outlinewidth": 0,
                            "ticks": ""
                          }
                        },
                        "type": "scattergeo"
                      }
                    ],
                    "scattergl": [
                      {
                        "marker": {
                          "colorbar": {
                            "outlinewidth": 0,
                            "ticks": ""
                          }
                        },
                        "type": "scattergl"
                      }
                    ],
                    "scattermapbox": [
                      {
                        "marker": {
                          "colorbar": {
                            "outlinewidth": 0,
                            "ticks": ""
                          }
                        },
                        "type": "scattermapbox"
                      }
                    ],
                    "scatterpolar": [
                      {
                        "marker": {
                          "colorbar": {
                            "outlinewidth": 0,
                            "ticks": ""
                          }
                        },
                        "type": "scatterpolar"
                      }
                    ],
                    "scatterpolargl": [
                      {
                        "marker": {
                          "colorbar": {
                            "outlinewidth": 0,
                            "ticks": ""
                          }
                        },
                        "type": "scatterpolargl"
                      }
                    ],
                    "scatterternary": [
                      {
                        "marker": {
                          "colorbar": {
                            "outlinewidth": 0,
                            "ticks": ""
                          }
                        },
                        "type": "scatterternary"
                      }
                    ],
                    "surface": [
                      {
                        "colorbar": {
                          "outlinewidth": 0,
                          "ticks": ""
                        },
                        "colorscale": [
                          [
                            0,
                            "#0d0887"
                          ],
                          [
                            0.1111111111111111,
                            "#46039f"
                          ],
                          [
                            0.2222222222222222,
                            "#7201a8"
                          ],
                          [
                            0.3333333333333333,
                            "#9c179e"
                          ],
                          [
                            0.4444444444444444,
                            "#bd3786"
                          ],
                          [
                            0.5555555555555556,
                            "#d8576b"
                          ],
                          [
                            0.6666666666666666,
                            "#ed7953"
                          ],
                          [
                            0.7777777777777778,
                            "#fb9f3a"
                          ],
                          [
                            0.8888888888888888,
                            "#fdca26"
                          ],
                          [
                            1,
                            "#f0f921"
                          ]
                        ],
                        "type": "surface"
                      }
                    ],
                    "table": [
                      {
                        "cells": {
                          "fill": {
                            "color": "#EBF0F8"
                          },
                          "line": {
                            "color": "white"
                          }
                        },
                        "header": {
                          "fill": {
                            "color": "#C8D4E3"
                          },
                          "line": {
                            "color": "white"
                          }
                        },
                        "type": "table"
                      }
                    ]
                  },
                  "layout": {
                    "annotationdefaults": {
                      "arrowcolor": "#2a3f5f",
                      "arrowhead": 0,
                      "arrowwidth": 1
                    },
                    "autotypenumbers": "strict",
                    "coloraxis": {
                      "colorbar": {
                        "outlinewidth": 0,
                        "ticks": ""
                      }
                    },
                    "colorscale": {
                      "diverging": [
                        [
                          0,
                          "#8e0152"
                        ],
                        [
                          0.1,
                          "#c51b7d"
                        ],
                        [
                          0.2,
                          "#de77ae"
                        ],
                        [
                          0.3,
                          "#f1b6da"
                        ],
                        [
                          0.4,
                          "#fde0ef"
                        ],
                        [
                          0.5,
                          "#f7f7f7"
                        ],
                        [
                          0.6,
                          "#e6f5d0"
                        ],
                        [
                          0.7,
                          "#b8e186"
                        ],
                        [
                          0.8,
                          "#7fbc41"
                        ],
                        [
                          0.9,
                          "#4d9221"
                        ],
                        [
                          1,
                          "#276419"
                        ]
                      ],
                      "sequential": [
                        [
                          0,
                          "#0d0887"
                        ],
                        [
                          0.1111111111111111,
                          "#46039f"
                        ],
                        [
                          0.2222222222222222,
                          "#7201a8"
                        ],
                        [
                          0.3333333333333333,
                          "#9c179e"
                        ],
                        [
                          0.4444444444444444,
                          "#bd3786"
                        ],
                        [
                          0.5555555555555556,
                          "#d8576b"
                        ],
                        [
                          0.6666666666666666,
                          "#ed7953"
                        ],
                        [
                          0.7777777777777778,
                          "#fb9f3a"
                        ],
                        [
                          0.8888888888888888,
                          "#fdca26"
                        ],
                        [
                          1,
                          "#f0f921"
                        ]
                      ],
                      "sequentialminus": [
                        [
                          0,
                          "#0d0887"
                        ],
                        [
                          0.1111111111111111,
                          "#46039f"
                        ],
                        [
                          0.2222222222222222,
                          "#7201a8"
                        ],
                        [
                          0.3333333333333333,
                          "#9c179e"
                        ],
                        [
                          0.4444444444444444,
                          "#bd3786"
                        ],
                        [
                          0.5555555555555556,
                          "#d8576b"
                        ],
                        [
                          0.6666666666666666,
                          "#ed7953"
                        ],
                        [
                          0.7777777777777778,
                          "#fb9f3a"
                        ],
                        [
                          0.8888888888888888,
                          "#fdca26"
                        ],
                        [
                          1,
                          "#f0f921"
                        ]
                      ]
                    },
                    "colorway": [
                      "#636efa",
                      "#EF553B",
                      "#00cc96",
                      "#ab63fa",
                      "#FFA15A",
                      "#19d3f3",
                      "#FF6692",
                      "#B6E880",
                      "#FF97FF",
                      "#FECB52"
                    ],
                    "font": {
                      "color": "#2a3f5f"
                    },
                    "geo": {
                      "bgcolor": "white",
                      "lakecolor": "white",
                      "landcolor": "#E5ECF6",
                      "showlakes": true,
                      "showland": true,
                      "subunitcolor": "white"
                    },
                    "hoverlabel": {
                      "align": "left"
                    },
                    "hovermode": "closest",
                    "mapbox": {
                      "style": "light"
                    },
                    "paper_bgcolor": "white",
                    "plot_bgcolor": "#E5ECF6",
                    "polar": {
                      "angularaxis": {
                        "gridcolor": "white",
                        "linecolor": "white",
                        "ticks": ""
                      },
                      "bgcolor": "#E5ECF6",
                      "radialaxis": {
                        "gridcolor": "white",
                        "linecolor": "white",
                        "ticks": ""
                      }
                    },
                    "scene": {
                      "xaxis": {
                        "backgroundcolor": "#E5ECF6",
                        "gridcolor": "white",
                        "gridwidth": 2,
                        "linecolor": "white",
                        "showbackground": true,
                        "ticks": "",
                        "zerolinecolor": "white"
                      },
                      "yaxis": {
                        "backgroundcolor": "#E5ECF6",
                        "gridcolor": "white",
                        "gridwidth": 2,
                        "linecolor": "white",
                        "showbackground": true,
                        "ticks": "",
                        "zerolinecolor": "white"
                      },
                      "zaxis": {
                        "backgroundcolor": "#E5ECF6",
                        "gridcolor": "white",
                        "gridwidth": 2,
                        "linecolor": "white",
                        "showbackground": true,
                        "ticks": "",
                        "zerolinecolor": "white"
                      }
                    },
                    "shapedefaults": {
                      "line": {
                        "color": "#2a3f5f"
                      }
                    },
                    "ternary": {
                      "aaxis": {
                        "gridcolor": "white",
                        "linecolor": "white",
                        "ticks": ""
                      },
                      "baxis": {
                        "gridcolor": "white",
                        "linecolor": "white",
                        "ticks": ""
                      },
                      "bgcolor": "#E5ECF6",
                      "caxis": {
                        "gridcolor": "white",
                        "linecolor": "white",
                        "ticks": ""
                      }
                    },
                    "title": {
                      "x": 0.05
                    },
                    "xaxis": {
                      "automargin": true,
                      "gridcolor": "white",
                      "linecolor": "white",
                      "ticks": "",
                      "title": {
                        "standoff": 15
                      },
                      "zerolinecolor": "white",
                      "zerolinewidth": 2
                    },
                    "yaxis": {
                      "automargin": true,
                      "gridcolor": "white",
                      "linecolor": "white",
                      "ticks": "",
                      "title": {
                        "standoff": 15
                      },
                      "zerolinecolor": "white",
                      "zerolinewidth": 2
                    }
                  }
                },
                "title": {
                  "text": "Västtrafik mobilitets baserad SIR modell"
                },
                "width": 1000,
                "xaxis": {
                  "range": [
                    "2020-03-01",
                    "2020-08-21T00:00:00"
                  ],
                  "title": {
                    "text": "Datum"
                  }
                },
                "yaxis": {
                  "title": {
                    "text": "Inskrivningar"
                  }
                }
              }
            }
          },
          "metadata": {},
          "output_type": "display_data"
        }
      ],
      "source": [
        "numBetas = 50 #number of betas used for normal dist for conf. intervalls\n",
        "numEpsilon = 500\n",
        "\n",
        "##################  Confidence intervall calculation\n",
        "confint = np.zeros([prediction_time,2]) #defines confidence intervall arrays\n",
        "\n",
        "\n",
        "# Generates an array of betas using normal dist.\n",
        "betas=np.random.multivariate_normal(popt,pcov,numBetas) \n",
        "values = np.zeros((prediction_time,numBetas))\n",
        "\n",
        "for beta in range(len(betas)): \n",
        "  values[:,beta] = (modelfunction(t,*betas[beta]))\n",
        "  \n",
        "for day in range(len(t)):\n",
        "  confint[day,0]=np.quantile(values[day,:],0.025)\n",
        "  confint[day,1]=np.quantile(values[day,:],0.975)\n",
        "  \n",
        "\n",
        "##################  Prediction intervall calculation\n",
        "#få med beta skattning i predictionsintervall, dvs generera beta och fel för varje dag \n",
        "\n",
        "std_residual = np.std(modelfunction(t_fittingdata,*popt)-dailyAdmissions[:fittingPoints], ddof=2) #calcuales standard deviation of residual between model and data\n",
        "predint = np.zeros([prediction_time,2])\n",
        "\n",
        "temp = []\n",
        "pred_matrix = np.zeros((prediction_time,(numBetas*numEpsilon)))\n",
        "for day in range(prediction_time): #loops trough model values each day a adds the error values generated from t-dist to each prediction \n",
        "  for beta in range(len(betas)):\n",
        "      temp =  np.add(modelfunction(t,*betas[beta])[day],tdist.rvs(prediction_time,0,std_residual,numEpsilon))\n",
        "      pred_matrix[day,(beta*numEpsilon):(beta*numEpsilon+numEpsilon)] = temp\n",
        "\n",
        "for day in range(prediction_time): #calculates the prediction intervals\n",
        "    predint[day,0] = np.quantile(pred_matrix[day],0.025)\n",
        "    predint[day,1] = np.quantile(pred_matrix[day],0.975)\n",
        "    \n",
        "predint = np.clip(predint,0,None) #removes all negative values from lover prediction interval\n",
        "\n",
        "fig = go.Figure() #Creates a plot using graph objects and then adds each graph to figure\n",
        "fig.add_trace(go.Scatter( #plots the fitting admission data points\n",
        "                    x=pd.Series(pd.date_range(\"2020-03-01\", freq=\"D\", periods=fittingPoints)), \n",
        "                    y=dailyAdmissions,\n",
        "                    mode='markers',\n",
        "                    name='Inskrivningsdata'))\n",
        "fig.add_trace(go.Scatter( #plots all the available admission data points\n",
        "                    x=pd.Series(pd.date_range(pd.to_datetime('2020-03-01')+timedelta(days=fittingPoints), freq=\"D\", periods=prediction_time-fittingPoints)),\n",
        "                    y=dailyAdmissions[fittingPoints:],\n",
        "                    mode='markers',\n",
        "                    marker=dict(\n",
        "                        color='firebrick',\n",
        "                    ),\n",
        "                    name='Admission data'))\n",
        "fig.add_trace(go.Scatter(\n",
        "                    x=pd.Series(pd.date_range(\"2020-03-01\", freq=\"D\", periods=prediction_time)), \n",
        "                    y=modelfunction(t,*popt),\n",
        "                    mode='lines',\n",
        "                    name='predikterade inskrivningar'))\n",
        "fig.add_trace(go.Scatter(\n",
        "                    x=pd.Series(pd.date_range(\"2020-03-01\", freq=\"D\", periods=prediction_time)), \n",
        "                    y=confint[:,0],\n",
        "                    mode='lines',\n",
        "                    name='Undre konfidensintervall',\n",
        "                    line = dict( width=2, dash='dash')))\n",
        "fig.add_trace(go.Scatter(\n",
        "                    x=pd.Series(pd.date_range(\"2020-03-01\", freq=\"D\", periods=prediction_time)), \n",
        "                    y=confint[:,1],\n",
        "                    mode='lines',\n",
        "                    name='Övre konfidensintervall',\n",
        "                    line = dict(width=2, dash='dash')))\n",
        "fig.add_trace(go.Scatter(\n",
        "                    x=pd.Series(pd.date_range(\"2020-03-01\", freq=\"D\", periods=prediction_time)), \n",
        "                    y=predint[:,0],\n",
        "                    mode='lines',\n",
        "                    name='Undre prediktionsintervall',\n",
        "                    line = dict(width=2, dash='dot')))\n",
        "fig.add_trace(go.Scatter(\n",
        "                    x=pd.Series(pd.date_range(\"2020-03-01\", freq=\"D\", periods=prediction_time)), \n",
        "                    y=predint[:,1],\n",
        "                    mode='lines',\n",
        "                    name='Övre prediktionsintervall',\n",
        "                    line = dict(width=2, dash='dot')))\n",
        "fig.add_annotation(x=pd.to_datetime(\"2020-03-01\"),y=0, \n",
        "                   text=f\"RMSE: {math.floor(mean_squared_error(dailyAdmissions[:prediction_time],modelfunction(t,*popt), squared = False))}\",\n",
        "                   showarrow=False,\n",
        "                   bordercolor=\"black\",\n",
        "                   xshift=48,\n",
        "                   yshift=270\n",
        "                  )\n",
        "fig.update_layout(\n",
        "                    title='Västtrafik mobilitets baserad SIR modell',\n",
        "                    xaxis_title='Datum',\n",
        "                    yaxis_title='Inskrivningar',\n",
        "                    autosize=False,\n",
        "                    width=1000,\n",
        "                    xaxis_range=[\"2020-03-01\",pd.to_datetime('2020-03-01')+timedelta(days=prediction_time)],\n",
        "                    \n",
        "                    font=dict(\n",
        "                      family=\"Courier New, monospace\",\n",
        "                      size=14,\n",
        "                      color=\"RebeccaPurple\"\n",
        "                    )\n",
        ")\n",
        "fig.show()"
      ]
    },
    {
      "cell_type": "markdown",
      "metadata": {},
      "source": [
        "Cell calcualtes the cumulative admissions and confidens/prediktion intervalls"
      ]
    },
    {
      "cell_type": "code",
      "execution_count": 5,
      "metadata": {},
      "outputs": [
        {
          "data": {
            "application/vnd.plotly.v1+json": {
              "config": {
                "plotlyServerURL": "https://plot.ly"
              },
              "data": [
                {
                  "mode": "markers",
                  "name": "Inskrivningsdata",
                  "type": "scatter",
                  "x": [
                    "2020-03-01T00:00:00",
                    "2020-03-02T00:00:00",
                    "2020-03-03T00:00:00",
                    "2020-03-04T00:00:00",
                    "2020-03-05T00:00:00",
                    "2020-03-06T00:00:00",
                    "2020-03-07T00:00:00",
                    "2020-03-08T00:00:00",
                    "2020-03-09T00:00:00",
                    "2020-03-10T00:00:00",
                    "2020-03-11T00:00:00",
                    "2020-03-12T00:00:00",
                    "2020-03-13T00:00:00",
                    "2020-03-14T00:00:00",
                    "2020-03-15T00:00:00",
                    "2020-03-16T00:00:00",
                    "2020-03-17T00:00:00",
                    "2020-03-18T00:00:00",
                    "2020-03-19T00:00:00",
                    "2020-03-20T00:00:00",
                    "2020-03-21T00:00:00",
                    "2020-03-22T00:00:00",
                    "2020-03-23T00:00:00",
                    "2020-03-24T00:00:00",
                    "2020-03-25T00:00:00",
                    "2020-03-26T00:00:00",
                    "2020-03-27T00:00:00",
                    "2020-03-28T00:00:00",
                    "2020-03-29T00:00:00",
                    "2020-03-30T00:00:00",
                    "2020-03-31T00:00:00",
                    "2020-04-01T00:00:00",
                    "2020-04-02T00:00:00",
                    "2020-04-03T00:00:00",
                    "2020-04-04T00:00:00",
                    "2020-04-05T00:00:00",
                    "2020-04-06T00:00:00",
                    "2020-04-07T00:00:00",
                    "2020-04-08T00:00:00",
                    "2020-04-09T00:00:00",
                    "2020-04-10T00:00:00",
                    "2020-04-11T00:00:00",
                    "2020-04-12T00:00:00",
                    "2020-04-13T00:00:00",
                    "2020-04-14T00:00:00",
                    "2020-04-15T00:00:00",
                    "2020-04-16T00:00:00",
                    "2020-04-17T00:00:00",
                    "2020-04-18T00:00:00",
                    "2020-04-19T00:00:00",
                    "2020-04-20T00:00:00",
                    "2020-04-21T00:00:00",
                    "2020-04-22T00:00:00",
                    "2020-04-23T00:00:00",
                    "2020-04-24T00:00:00",
                    "2020-04-25T00:00:00",
                    "2020-04-26T00:00:00",
                    "2020-04-27T00:00:00",
                    "2020-04-28T00:00:00",
                    "2020-04-29T00:00:00",
                    "2020-04-30T00:00:00",
                    "2020-05-01T00:00:00",
                    "2020-05-02T00:00:00",
                    "2020-05-03T00:00:00",
                    "2020-05-04T00:00:00",
                    "2020-05-05T00:00:00",
                    "2020-05-06T00:00:00",
                    "2020-05-07T00:00:00",
                    "2020-05-08T00:00:00",
                    "2020-05-09T00:00:00",
                    "2020-05-10T00:00:00",
                    "2020-05-11T00:00:00",
                    "2020-05-12T00:00:00",
                    "2020-05-13T00:00:00",
                    "2020-05-14T00:00:00",
                    "2020-05-15T00:00:00",
                    "2020-05-16T00:00:00",
                    "2020-05-17T00:00:00",
                    "2020-05-18T00:00:00",
                    "2020-05-19T00:00:00",
                    "2020-05-20T00:00:00",
                    "2020-05-21T00:00:00",
                    "2020-05-22T00:00:00",
                    "2020-05-23T00:00:00",
                    "2020-05-24T00:00:00",
                    "2020-05-25T00:00:00",
                    "2020-05-26T00:00:00",
                    "2020-05-27T00:00:00",
                    "2020-05-28T00:00:00",
                    "2020-05-29T00:00:00",
                    "2020-05-30T00:00:00",
                    "2020-05-31T00:00:00",
                    "2020-06-01T00:00:00",
                    "2020-06-02T00:00:00",
                    "2020-06-03T00:00:00",
                    "2020-06-04T00:00:00",
                    "2020-06-05T00:00:00",
                    "2020-06-06T00:00:00",
                    "2020-06-07T00:00:00",
                    "2020-06-08T00:00:00",
                    "2020-06-09T00:00:00",
                    "2020-06-10T00:00:00",
                    "2020-06-11T00:00:00",
                    "2020-06-12T00:00:00",
                    "2020-06-13T00:00:00",
                    "2020-06-14T00:00:00",
                    "2020-06-15T00:00:00",
                    "2020-06-16T00:00:00",
                    "2020-06-17T00:00:00",
                    "2020-06-18T00:00:00",
                    "2020-06-19T00:00:00",
                    "2020-06-20T00:00:00",
                    "2020-06-21T00:00:00",
                    "2020-06-22T00:00:00",
                    "2020-06-23T00:00:00",
                    "2020-06-24T00:00:00",
                    "2020-06-25T00:00:00",
                    "2020-06-26T00:00:00",
                    "2020-06-27T00:00:00",
                    "2020-06-28T00:00:00",
                    "2020-06-29T00:00:00",
                    "2020-06-30T00:00:00",
                    "2020-07-01T00:00:00",
                    "2020-07-02T00:00:00",
                    "2020-07-03T00:00:00",
                    "2020-07-04T00:00:00",
                    "2020-07-05T00:00:00",
                    "2020-07-06T00:00:00",
                    "2020-07-07T00:00:00",
                    "2020-07-08T00:00:00",
                    "2020-07-09T00:00:00",
                    "2020-07-10T00:00:00",
                    "2020-07-11T00:00:00",
                    "2020-07-12T00:00:00",
                    "2020-07-13T00:00:00",
                    "2020-07-14T00:00:00",
                    "2020-07-15T00:00:00",
                    "2020-07-16T00:00:00",
                    "2020-07-17T00:00:00",
                    "2020-07-18T00:00:00",
                    "2020-07-19T00:00:00",
                    "2020-07-20T00:00:00",
                    "2020-07-21T00:00:00",
                    "2020-07-22T00:00:00",
                    "2020-07-23T00:00:00",
                    "2020-07-24T00:00:00",
                    "2020-07-25T00:00:00",
                    "2020-07-26T00:00:00",
                    "2020-07-27T00:00:00",
                    "2020-07-28T00:00:00",
                    "2020-07-29T00:00:00",
                    "2020-07-30T00:00:00",
                    "2020-07-31T00:00:00",
                    "2020-08-01T00:00:00",
                    "2020-08-02T00:00:00",
                    "2020-08-03T00:00:00",
                    "2020-08-04T00:00:00",
                    "2020-08-05T00:00:00",
                    "2020-08-06T00:00:00",
                    "2020-08-07T00:00:00",
                    "2020-08-08T00:00:00",
                    "2020-08-09T00:00:00",
                    "2020-08-10T00:00:00",
                    "2020-08-11T00:00:00",
                    "2020-08-12T00:00:00",
                    "2020-08-13T00:00:00",
                    "2020-08-14T00:00:00",
                    "2020-08-15T00:00:00",
                    "2020-08-16T00:00:00",
                    "2020-08-17T00:00:00",
                    "2020-08-18T00:00:00",
                    "2020-08-19T00:00:00",
                    "2020-08-20T00:00:00"
                  ],
                  "y": [
                    0,
                    0,
                    0,
                    0,
                    0,
                    0,
                    0,
                    0,
                    0,
                    0,
                    0,
                    0,
                    0,
                    0,
                    0,
                    0,
                    0,
                    0,
                    0,
                    0,
                    0,
                    1,
                    1,
                    1,
                    1,
                    4,
                    5,
                    6,
                    7,
                    8,
                    9,
                    12,
                    16,
                    17,
                    18,
                    24,
                    28,
                    33,
                    43,
                    47,
                    49,
                    50,
                    55,
                    64,
                    72,
                    78,
                    87,
                    94,
                    101,
                    111,
                    120,
                    135,
                    144,
                    151,
                    161,
                    176,
                    190,
                    211,
                    228,
                    253,
                    268,
                    284,
                    299,
                    309,
                    324,
                    340,
                    360,
                    383,
                    397,
                    413,
                    447,
                    465,
                    483,
                    509,
                    531,
                    556,
                    574,
                    596,
                    620,
                    638,
                    659,
                    679,
                    697,
                    709,
                    727,
                    753,
                    772,
                    791,
                    805,
                    821,
                    828,
                    839,
                    847,
                    863,
                    875,
                    889,
                    897,
                    902,
                    915,
                    929,
                    942,
                    956,
                    972,
                    980,
                    988,
                    1002,
                    1015,
                    1032,
                    1046,
                    1062,
                    1080,
                    1086,
                    1102,
                    1119,
                    1127,
                    1138,
                    1148,
                    1155,
                    1164,
                    1177,
                    1190,
                    1199,
                    1212,
                    1229,
                    1236,
                    1245,
                    1256,
                    1270,
                    1284,
                    1295,
                    1303,
                    1316,
                    1327,
                    1329,
                    1338,
                    1350,
                    1358,
                    1366,
                    1369,
                    1378,
                    1385,
                    1399,
                    1406,
                    1414,
                    1421,
                    1425,
                    1429,
                    1437,
                    1441,
                    1446,
                    1451,
                    1457,
                    1457,
                    1462,
                    1467,
                    1472,
                    1476,
                    1480,
                    1483,
                    1484,
                    1486,
                    1489,
                    1492,
                    1495,
                    1500,
                    1502,
                    1504,
                    1505,
                    1506,
                    1511,
                    1514,
                    1515,
                    1516
                  ]
                },
                {
                  "marker": {
                    "color": "firebrick"
                  },
                  "mode": "markers",
                  "name": "Admission data",
                  "type": "scatter",
                  "x": [],
                  "y": []
                },
                {
                  "mode": "lines",
                  "name": "predikterade kumulativa inskrivningar",
                  "type": "scatter",
                  "x": [
                    "2020-03-01T00:00:00",
                    "2020-03-02T00:00:00",
                    "2020-03-03T00:00:00",
                    "2020-03-04T00:00:00",
                    "2020-03-05T00:00:00",
                    "2020-03-06T00:00:00",
                    "2020-03-07T00:00:00",
                    "2020-03-08T00:00:00",
                    "2020-03-09T00:00:00",
                    "2020-03-10T00:00:00",
                    "2020-03-11T00:00:00",
                    "2020-03-12T00:00:00",
                    "2020-03-13T00:00:00",
                    "2020-03-14T00:00:00",
                    "2020-03-15T00:00:00",
                    "2020-03-16T00:00:00",
                    "2020-03-17T00:00:00",
                    "2020-03-18T00:00:00",
                    "2020-03-19T00:00:00",
                    "2020-03-20T00:00:00",
                    "2020-03-21T00:00:00",
                    "2020-03-22T00:00:00",
                    "2020-03-23T00:00:00",
                    "2020-03-24T00:00:00",
                    "2020-03-25T00:00:00",
                    "2020-03-26T00:00:00",
                    "2020-03-27T00:00:00",
                    "2020-03-28T00:00:00",
                    "2020-03-29T00:00:00",
                    "2020-03-30T00:00:00",
                    "2020-03-31T00:00:00",
                    "2020-04-01T00:00:00",
                    "2020-04-02T00:00:00",
                    "2020-04-03T00:00:00",
                    "2020-04-04T00:00:00",
                    "2020-04-05T00:00:00",
                    "2020-04-06T00:00:00",
                    "2020-04-07T00:00:00",
                    "2020-04-08T00:00:00",
                    "2020-04-09T00:00:00",
                    "2020-04-10T00:00:00",
                    "2020-04-11T00:00:00",
                    "2020-04-12T00:00:00",
                    "2020-04-13T00:00:00",
                    "2020-04-14T00:00:00",
                    "2020-04-15T00:00:00",
                    "2020-04-16T00:00:00",
                    "2020-04-17T00:00:00",
                    "2020-04-18T00:00:00",
                    "2020-04-19T00:00:00",
                    "2020-04-20T00:00:00",
                    "2020-04-21T00:00:00",
                    "2020-04-22T00:00:00",
                    "2020-04-23T00:00:00",
                    "2020-04-24T00:00:00",
                    "2020-04-25T00:00:00",
                    "2020-04-26T00:00:00",
                    "2020-04-27T00:00:00",
                    "2020-04-28T00:00:00",
                    "2020-04-29T00:00:00",
                    "2020-04-30T00:00:00",
                    "2020-05-01T00:00:00",
                    "2020-05-02T00:00:00",
                    "2020-05-03T00:00:00",
                    "2020-05-04T00:00:00",
                    "2020-05-05T00:00:00",
                    "2020-05-06T00:00:00",
                    "2020-05-07T00:00:00",
                    "2020-05-08T00:00:00",
                    "2020-05-09T00:00:00",
                    "2020-05-10T00:00:00",
                    "2020-05-11T00:00:00",
                    "2020-05-12T00:00:00",
                    "2020-05-13T00:00:00",
                    "2020-05-14T00:00:00",
                    "2020-05-15T00:00:00",
                    "2020-05-16T00:00:00",
                    "2020-05-17T00:00:00",
                    "2020-05-18T00:00:00",
                    "2020-05-19T00:00:00",
                    "2020-05-20T00:00:00",
                    "2020-05-21T00:00:00",
                    "2020-05-22T00:00:00",
                    "2020-05-23T00:00:00",
                    "2020-05-24T00:00:00",
                    "2020-05-25T00:00:00",
                    "2020-05-26T00:00:00",
                    "2020-05-27T00:00:00",
                    "2020-05-28T00:00:00",
                    "2020-05-29T00:00:00",
                    "2020-05-30T00:00:00",
                    "2020-05-31T00:00:00",
                    "2020-06-01T00:00:00",
                    "2020-06-02T00:00:00",
                    "2020-06-03T00:00:00",
                    "2020-06-04T00:00:00",
                    "2020-06-05T00:00:00",
                    "2020-06-06T00:00:00",
                    "2020-06-07T00:00:00",
                    "2020-06-08T00:00:00",
                    "2020-06-09T00:00:00",
                    "2020-06-10T00:00:00",
                    "2020-06-11T00:00:00",
                    "2020-06-12T00:00:00",
                    "2020-06-13T00:00:00",
                    "2020-06-14T00:00:00",
                    "2020-06-15T00:00:00",
                    "2020-06-16T00:00:00",
                    "2020-06-17T00:00:00",
                    "2020-06-18T00:00:00",
                    "2020-06-19T00:00:00",
                    "2020-06-20T00:00:00",
                    "2020-06-21T00:00:00",
                    "2020-06-22T00:00:00",
                    "2020-06-23T00:00:00",
                    "2020-06-24T00:00:00",
                    "2020-06-25T00:00:00",
                    "2020-06-26T00:00:00",
                    "2020-06-27T00:00:00",
                    "2020-06-28T00:00:00",
                    "2020-06-29T00:00:00",
                    "2020-06-30T00:00:00",
                    "2020-07-01T00:00:00",
                    "2020-07-02T00:00:00",
                    "2020-07-03T00:00:00",
                    "2020-07-04T00:00:00",
                    "2020-07-05T00:00:00",
                    "2020-07-06T00:00:00",
                    "2020-07-07T00:00:00",
                    "2020-07-08T00:00:00",
                    "2020-07-09T00:00:00",
                    "2020-07-10T00:00:00",
                    "2020-07-11T00:00:00",
                    "2020-07-12T00:00:00",
                    "2020-07-13T00:00:00",
                    "2020-07-14T00:00:00",
                    "2020-07-15T00:00:00",
                    "2020-07-16T00:00:00",
                    "2020-07-17T00:00:00",
                    "2020-07-18T00:00:00",
                    "2020-07-19T00:00:00",
                    "2020-07-20T00:00:00",
                    "2020-07-21T00:00:00",
                    "2020-07-22T00:00:00",
                    "2020-07-23T00:00:00",
                    "2020-07-24T00:00:00",
                    "2020-07-25T00:00:00",
                    "2020-07-26T00:00:00",
                    "2020-07-27T00:00:00",
                    "2020-07-28T00:00:00",
                    "2020-07-29T00:00:00",
                    "2020-07-30T00:00:00",
                    "2020-07-31T00:00:00",
                    "2020-08-01T00:00:00",
                    "2020-08-02T00:00:00",
                    "2020-08-03T00:00:00",
                    "2020-08-04T00:00:00",
                    "2020-08-05T00:00:00",
                    "2020-08-06T00:00:00",
                    "2020-08-07T00:00:00",
                    "2020-08-08T00:00:00",
                    "2020-08-09T00:00:00",
                    "2020-08-10T00:00:00",
                    "2020-08-11T00:00:00",
                    "2020-08-12T00:00:00",
                    "2020-08-13T00:00:00",
                    "2020-08-14T00:00:00",
                    "2020-08-15T00:00:00",
                    "2020-08-16T00:00:00",
                    "2020-08-17T00:00:00",
                    "2020-08-18T00:00:00",
                    "2020-08-19T00:00:00",
                    "2020-08-20T00:00:00"
                  ],
                  "y": [
                    0.013,
                    0.029199565709519662,
                    0.04934143392289199,
                    0.07432948908905167,
                    0.10526102252156345,
                    0.14346483344346564,
                    0.19054609748279389,
                    0.24843904557921354,
                    0.3194686281897843,
                    0.4064224768943062,
                    0.5126346254651455,
                    0.6420826066639823,
                    0.7994997079124619,
                    0.9905043358189343,
                    1.2217486124132597,
                    1.5010884974994467,
                    1.8377778996222491,
                    2.242689397562991,
                    2.7285643393502337,
                    3.3102952111145707,
                    4.0052432643971265,
                    4.833594449669143,
                    5.8187567159533335,
                    6.987801689080723,
                    8.371953621461596,
                    10.007128300842137,
                    11.934524296063401,
                    14.201268487838274,
                    16.861117268134542,
                    19.970980595618567,
                    23.588931338898117,
                    27.77704864993022,
                    32.6010515080171,
                    38.12979394498753,
                    44.43461365047084,
                    51.58852948395288,
                    59.63000880634456,
                    68.54554469983809,
                    78.29498201489267,
                    88.81058565658947,
                    99.997598433385,
                    111.73637147530492,
                    123.88602499613205,
                    136.35064411476276,
                    149.0888145084501,
                    162.0560953827367,
                    175.20548574894525,
                    188.4879393247103,
                    201.85291675642492,
                    215.24896633652554,
                    228.63940615526258,
                    242.0026839946982,
                    255.3173988585539,
                    268.56240433701487,
                    281.71690982049375,
                    294.7605785940511,
                    307.6736220548303,
                    320.42126293343904,
                    332.95477330021004,
                    345.22800717183844,
                    357.19790299528415,
                    368.82492448653136,
                    380.07343390111095,
                    390.91199149784103,
                    401.34374074641335,
                    411.40170408149226,
                    421.11642361016044,
                    430.5162064812406,
                    439.6273465942904,
                    448.4743250681082,
                    457.07999219922976,
                    465.47158812584104,
                    473.6803552527263,
                    481.7357026774821,
                    489.6655193279806,
                    497.4964625770019,
                    505.25422626932703,
                    512.9637934780098,
                    520.631133959318,
                    528.243712587139,
                    535.7892743175757,
                    543.2559032649951,
                    550.6320788981335,
                    557.9067288912631,
                    565.0692783669323,
                    572.1233689045627,
                    579.0860250895425,
                    585.9736446161146,
                    592.8021133768591,
                    599.5869151829964,
                    606.3432368921483,
                    613.0860700772063,
                    619.8242794966444,
                    626.5606795418521,
                    633.2980810784735,
                    640.039294866993,
                    646.7871349905469,
                    653.5444222907631,
                    660.3139877776588,
                    667.0894189038188,
                    673.8550471138086,
                    680.5952788718303,
                    687.2947038299683,
                    693.938200645878,
                    700.5110392644934,
                    706.9989788939658,
                    713.4116946106296,
                    719.7817240905265,
                    726.1409514692892,
                    732.5210857412787,
                    738.9541346545442,
                    745.4728855112303,
                    752.1114044515588,
                    758.8872461270923,
                    765.800256227434,
                    772.8501535704523,
                    780.0365277241525,
                    787.3588368335417,
                    794.8164057186929,
                    802.4084242333457,
                    810.1429348299812,
                    818.0375041460944,
                    826.1106577647082,
                    834.382004507344,
                    842.8723719215475,
                    851.6039534165496,
                    860.6004693569147,
                    869.8472781440511,
                    879.2871987969602,
                    888.8592567294954,
                    898.4998666519703,
                    908.1441005384711,
                    917.7269986615282,
                    927.1848806985171,
                    936.5015477926313,
                    945.7059818318706,
                    954.8261505377809,
                    963.8892619546425,
                    972.9220074927434,
                    981.9507971072807,
                    991.001990207178,
                    1000.0819715172248,
                    1009.176998711416,
                    1018.2732687158546,
                    1027.356981042525,
                    1036.414401054108,
                    1045.4319226122607,
                    1054.396129621708,
                    1063.2938561960552,
                    1072.11224446188,
                    1080.83880028955,
                    1089.4614460522628,
                    1097.9685702265833,
                    1106.349073566942,
                    1114.5924112559742,
                    1122.6886310533944,
                    1130.6284072408723,
                    1138.403070174562,
                    1146.0046311430167,
                    1153.4258026013813,
                    1160.6600137161508,
                    1167.7014212001238,
                    1174.5516373377593,
                    1181.2189716036273,
                    1187.7113455773892,
                    1194.036313851569,
                    1200.20108368703,
                    1206.2125336188067,
                    1212.077230998808,
                    1217.802852540374,
                    1223.3980691147863,
                    1228.8711070998556,
                    1234.2297814657077
                  ]
                },
                {
                  "line": {
                    "dash": "dash",
                    "width": 2
                  },
                  "mode": "lines",
                  "name": "Undre konfidensintervall",
                  "type": "scatter",
                  "x": [
                    "2020-03-01T00:00:00",
                    "2020-03-02T00:00:00",
                    "2020-03-03T00:00:00",
                    "2020-03-04T00:00:00",
                    "2020-03-05T00:00:00",
                    "2020-03-06T00:00:00",
                    "2020-03-07T00:00:00",
                    "2020-03-08T00:00:00",
                    "2020-03-09T00:00:00",
                    "2020-03-10T00:00:00",
                    "2020-03-11T00:00:00",
                    "2020-03-12T00:00:00",
                    "2020-03-13T00:00:00",
                    "2020-03-14T00:00:00",
                    "2020-03-15T00:00:00",
                    "2020-03-16T00:00:00",
                    "2020-03-17T00:00:00",
                    "2020-03-18T00:00:00",
                    "2020-03-19T00:00:00",
                    "2020-03-20T00:00:00",
                    "2020-03-21T00:00:00",
                    "2020-03-22T00:00:00",
                    "2020-03-23T00:00:00",
                    "2020-03-24T00:00:00",
                    "2020-03-25T00:00:00",
                    "2020-03-26T00:00:00",
                    "2020-03-27T00:00:00",
                    "2020-03-28T00:00:00",
                    "2020-03-29T00:00:00",
                    "2020-03-30T00:00:00",
                    "2020-03-31T00:00:00",
                    "2020-04-01T00:00:00",
                    "2020-04-02T00:00:00",
                    "2020-04-03T00:00:00",
                    "2020-04-04T00:00:00",
                    "2020-04-05T00:00:00",
                    "2020-04-06T00:00:00",
                    "2020-04-07T00:00:00",
                    "2020-04-08T00:00:00",
                    "2020-04-09T00:00:00",
                    "2020-04-10T00:00:00",
                    "2020-04-11T00:00:00",
                    "2020-04-12T00:00:00",
                    "2020-04-13T00:00:00",
                    "2020-04-14T00:00:00",
                    "2020-04-15T00:00:00",
                    "2020-04-16T00:00:00",
                    "2020-04-17T00:00:00",
                    "2020-04-18T00:00:00",
                    "2020-04-19T00:00:00",
                    "2020-04-20T00:00:00",
                    "2020-04-21T00:00:00",
                    "2020-04-22T00:00:00",
                    "2020-04-23T00:00:00",
                    "2020-04-24T00:00:00",
                    "2020-04-25T00:00:00",
                    "2020-04-26T00:00:00",
                    "2020-04-27T00:00:00",
                    "2020-04-28T00:00:00",
                    "2020-04-29T00:00:00",
                    "2020-04-30T00:00:00",
                    "2020-05-01T00:00:00",
                    "2020-05-02T00:00:00",
                    "2020-05-03T00:00:00",
                    "2020-05-04T00:00:00",
                    "2020-05-05T00:00:00",
                    "2020-05-06T00:00:00",
                    "2020-05-07T00:00:00",
                    "2020-05-08T00:00:00",
                    "2020-05-09T00:00:00",
                    "2020-05-10T00:00:00",
                    "2020-05-11T00:00:00",
                    "2020-05-12T00:00:00",
                    "2020-05-13T00:00:00",
                    "2020-05-14T00:00:00",
                    "2020-05-15T00:00:00",
                    "2020-05-16T00:00:00",
                    "2020-05-17T00:00:00",
                    "2020-05-18T00:00:00",
                    "2020-05-19T00:00:00",
                    "2020-05-20T00:00:00",
                    "2020-05-21T00:00:00",
                    "2020-05-22T00:00:00",
                    "2020-05-23T00:00:00",
                    "2020-05-24T00:00:00",
                    "2020-05-25T00:00:00",
                    "2020-05-26T00:00:00",
                    "2020-05-27T00:00:00",
                    "2020-05-28T00:00:00",
                    "2020-05-29T00:00:00",
                    "2020-05-30T00:00:00",
                    "2020-05-31T00:00:00",
                    "2020-06-01T00:00:00",
                    "2020-06-02T00:00:00",
                    "2020-06-03T00:00:00",
                    "2020-06-04T00:00:00",
                    "2020-06-05T00:00:00",
                    "2020-06-06T00:00:00",
                    "2020-06-07T00:00:00",
                    "2020-06-08T00:00:00",
                    "2020-06-09T00:00:00",
                    "2020-06-10T00:00:00",
                    "2020-06-11T00:00:00",
                    "2020-06-12T00:00:00",
                    "2020-06-13T00:00:00",
                    "2020-06-14T00:00:00",
                    "2020-06-15T00:00:00",
                    "2020-06-16T00:00:00",
                    "2020-06-17T00:00:00",
                    "2020-06-18T00:00:00",
                    "2020-06-19T00:00:00",
                    "2020-06-20T00:00:00",
                    "2020-06-21T00:00:00",
                    "2020-06-22T00:00:00",
                    "2020-06-23T00:00:00",
                    "2020-06-24T00:00:00",
                    "2020-06-25T00:00:00",
                    "2020-06-26T00:00:00",
                    "2020-06-27T00:00:00",
                    "2020-06-28T00:00:00",
                    "2020-06-29T00:00:00",
                    "2020-06-30T00:00:00",
                    "2020-07-01T00:00:00",
                    "2020-07-02T00:00:00",
                    "2020-07-03T00:00:00",
                    "2020-07-04T00:00:00",
                    "2020-07-05T00:00:00",
                    "2020-07-06T00:00:00",
                    "2020-07-07T00:00:00",
                    "2020-07-08T00:00:00",
                    "2020-07-09T00:00:00",
                    "2020-07-10T00:00:00",
                    "2020-07-11T00:00:00",
                    "2020-07-12T00:00:00",
                    "2020-07-13T00:00:00",
                    "2020-07-14T00:00:00",
                    "2020-07-15T00:00:00",
                    "2020-07-16T00:00:00",
                    "2020-07-17T00:00:00",
                    "2020-07-18T00:00:00",
                    "2020-07-19T00:00:00",
                    "2020-07-20T00:00:00",
                    "2020-07-21T00:00:00",
                    "2020-07-22T00:00:00",
                    "2020-07-23T00:00:00",
                    "2020-07-24T00:00:00",
                    "2020-07-25T00:00:00",
                    "2020-07-26T00:00:00",
                    "2020-07-27T00:00:00",
                    "2020-07-28T00:00:00",
                    "2020-07-29T00:00:00",
                    "2020-07-30T00:00:00",
                    "2020-07-31T00:00:00",
                    "2020-08-01T00:00:00",
                    "2020-08-02T00:00:00",
                    "2020-08-03T00:00:00",
                    "2020-08-04T00:00:00",
                    "2020-08-05T00:00:00",
                    "2020-08-06T00:00:00",
                    "2020-08-07T00:00:00",
                    "2020-08-08T00:00:00",
                    "2020-08-09T00:00:00",
                    "2020-08-10T00:00:00",
                    "2020-08-11T00:00:00",
                    "2020-08-12T00:00:00",
                    "2020-08-13T00:00:00",
                    "2020-08-14T00:00:00",
                    "2020-08-15T00:00:00",
                    "2020-08-16T00:00:00",
                    "2020-08-17T00:00:00",
                    "2020-08-18T00:00:00",
                    "2020-08-19T00:00:00",
                    "2020-08-20T00:00:00"
                  ],
                  "y": [
                    0.013,
                    0.02913636981172527,
                    0.049122354923089605,
                    0.07382266953795474,
                    0.10428313805291442,
                    0.14176557291880112,
                    0.18778869600006018,
                    0.24417600758886,
                    0.31311161862625886,
                    0.3972051746209942,
                    0.4995671243166265,
                    0.6238957114187427,
                    0.7745772044468171,
                    0.9568010139695884,
                    1.1766914849651744,
                    1.4414582880946336,
                    1.7595674649593191,
                    2.140935305571556,
                    2.5971473457587466,
                    3.1417048635446263,
                    3.7903013198668125,
                    4.5611312232264645,
                    5.4752338919175285,
                    6.556874532235804,
                    7.833964936119703,
                    9.338525914626397,
                    11.107193316870248,
                    13.181769114245675,
                    15.609818550753344,
                    18.441145816553583,
                    21.72682492052483,
                    25.521384740824,
                    29.882286161977476,
                    34.86961032625315,
                    40.545489372676215,
                    46.97341029283826,
                    54.18638971264852,
                    62.17189724751476,
                    70.89427849270554,
                    80.29397952505735,
                    90.28803596505304,
                    100.77189754382064,
                    111.6225518733228,
                    122.75636198537592,
                    134.13737501166602,
                    145.72696383549075,
                    157.48422065586888,
                    169.36639299111621,
                    181.32935249831536,
                    193.3713330153181,
                    205.47670936370648,
                    217.58021584777032,
                    229.66294538902474,
                    241.70610427635222,
                    253.69110034647147,
                    265.5996295726536,
                    277.41375984780285,
                    289.0125174385638,
                    300.3643068471988,
                    311.4923196821321,
                    322.357831525653,
                    332.9251201006056,
                    343.1618029982462,
                    353.0391137658638,
                    362.50448708223104,
                    371.62377153425456,
                    380.4388404658392,
                    388.9746992746326,
                    397.25460347318517,
                    405.3002316648771,
                    413.13184326875853,
                    420.77367391727114,
                    428.2535964625073,
                    435.59788717060474,
                    442.9173980790601,
                    450.1657920505804,
                    457.3537235063767,
                    464.50380629204096,
                    471.62141213478753,
                    478.69506663064953,
                    485.7135164805344,
                    492.6657831752737,
                    499.5412143782721,
                    506.32953258933367,
                    513.0208808687295,
                    519.6184068261018,
                    526.1375569604129,
                    532.5932520602555,
                    538.9999893091664,
                    545.3719396252483,
                    551.7230415284803,
                    558.0670923842414,
                    564.4122684398767,
                    570.7611747223743,
                    577.1164195801774,
                    583.4806178072458,
                    589.8563937977532,
                    596.2463847043027,
                    602.6532436052707,
                    609.0710430453184,
                    615.4852334238949,
                    621.8812961503429,
                    628.2448421514282,
                    634.5617091426386,
                    640.8180561982002,
                    647.0004547399853,
                    653.117808493102,
                    659.2004630584518,
                    665.2022284062427,
                    671.2232552674915,
                    677.297004875006,
                    683.4540022184307,
                    689.7259970378323,
                    696.1294199674251,
                    702.6642493548595,
                    709.3303468658453,
                    716.1274551481656,
                    723.0551956776983,
                    730.1130667427228,
                    737.3004417219654,
                    744.6249418824658,
                    752.1030726678526,
                    759.7522491408138,
                    767.5909121223182,
                    775.6386541894825,
                    783.9163570583078,
                    792.4463417572688,
                    801.2151541781909,
                    810.169638028134,
                    819.2530504501071,
                    828.4061417519908,
                    837.5683155409365,
                    846.6788317574558,
                    855.678013279222,
                    864.5505230571863,
                    873.3233539776307,
                    882.0226139382162,
                    890.6737581717637,
                    899.3018123722145,
                    907.9315891017844,
                    916.4859883169813,
                    924.9312662538102,
                    933.3921678005872,
                    941.8560096654356,
                    950.3101024909313,
                    958.7418083230001,
                    967.1385976284223,
                    975.4881053600808,
                    983.7781857252943,
                    991.9969651895283,
                    999.8837889794046,
                    1007.4636927197481,
                    1014.9374905988828,
                    1022.2955765684947,
                    1029.5288473163341,
                    1036.6287344020598,
                    1043.5872328535384,
                    1050.3969255147865,
                    1057.0510034892225,
                    1063.5432824182358,
                    1069.8682146237684,
                    1076.020897251137,
                    1082.0029586036158,
                    1087.8218800888278,
                    1093.4847889807884,
                    1098.9984777314264,
                    1104.369422209013,
                    1109.6037986544989,
                    1114.7074999809151,
                    1119.6873747037198,
                    1124.5511248395346,
                    1129.385566946813,
                    1134.488909694254
                  ]
                },
                {
                  "line": {
                    "dash": "dash",
                    "width": 2
                  },
                  "mode": "lines",
                  "name": "Övre konfidensintervall",
                  "type": "scatter",
                  "x": [
                    "2020-03-01T00:00:00",
                    "2020-03-02T00:00:00",
                    "2020-03-03T00:00:00",
                    "2020-03-04T00:00:00",
                    "2020-03-05T00:00:00",
                    "2020-03-06T00:00:00",
                    "2020-03-07T00:00:00",
                    "2020-03-08T00:00:00",
                    "2020-03-09T00:00:00",
                    "2020-03-10T00:00:00",
                    "2020-03-11T00:00:00",
                    "2020-03-12T00:00:00",
                    "2020-03-13T00:00:00",
                    "2020-03-14T00:00:00",
                    "2020-03-15T00:00:00",
                    "2020-03-16T00:00:00",
                    "2020-03-17T00:00:00",
                    "2020-03-18T00:00:00",
                    "2020-03-19T00:00:00",
                    "2020-03-20T00:00:00",
                    "2020-03-21T00:00:00",
                    "2020-03-22T00:00:00",
                    "2020-03-23T00:00:00",
                    "2020-03-24T00:00:00",
                    "2020-03-25T00:00:00",
                    "2020-03-26T00:00:00",
                    "2020-03-27T00:00:00",
                    "2020-03-28T00:00:00",
                    "2020-03-29T00:00:00",
                    "2020-03-30T00:00:00",
                    "2020-03-31T00:00:00",
                    "2020-04-01T00:00:00",
                    "2020-04-02T00:00:00",
                    "2020-04-03T00:00:00",
                    "2020-04-04T00:00:00",
                    "2020-04-05T00:00:00",
                    "2020-04-06T00:00:00",
                    "2020-04-07T00:00:00",
                    "2020-04-08T00:00:00",
                    "2020-04-09T00:00:00",
                    "2020-04-10T00:00:00",
                    "2020-04-11T00:00:00",
                    "2020-04-12T00:00:00",
                    "2020-04-13T00:00:00",
                    "2020-04-14T00:00:00",
                    "2020-04-15T00:00:00",
                    "2020-04-16T00:00:00",
                    "2020-04-17T00:00:00",
                    "2020-04-18T00:00:00",
                    "2020-04-19T00:00:00",
                    "2020-04-20T00:00:00",
                    "2020-04-21T00:00:00",
                    "2020-04-22T00:00:00",
                    "2020-04-23T00:00:00",
                    "2020-04-24T00:00:00",
                    "2020-04-25T00:00:00",
                    "2020-04-26T00:00:00",
                    "2020-04-27T00:00:00",
                    "2020-04-28T00:00:00",
                    "2020-04-29T00:00:00",
                    "2020-04-30T00:00:00",
                    "2020-05-01T00:00:00",
                    "2020-05-02T00:00:00",
                    "2020-05-03T00:00:00",
                    "2020-05-04T00:00:00",
                    "2020-05-05T00:00:00",
                    "2020-05-06T00:00:00",
                    "2020-05-07T00:00:00",
                    "2020-05-08T00:00:00",
                    "2020-05-09T00:00:00",
                    "2020-05-10T00:00:00",
                    "2020-05-11T00:00:00",
                    "2020-05-12T00:00:00",
                    "2020-05-13T00:00:00",
                    "2020-05-14T00:00:00",
                    "2020-05-15T00:00:00",
                    "2020-05-16T00:00:00",
                    "2020-05-17T00:00:00",
                    "2020-05-18T00:00:00",
                    "2020-05-19T00:00:00",
                    "2020-05-20T00:00:00",
                    "2020-05-21T00:00:00",
                    "2020-05-22T00:00:00",
                    "2020-05-23T00:00:00",
                    "2020-05-24T00:00:00",
                    "2020-05-25T00:00:00",
                    "2020-05-26T00:00:00",
                    "2020-05-27T00:00:00",
                    "2020-05-28T00:00:00",
                    "2020-05-29T00:00:00",
                    "2020-05-30T00:00:00",
                    "2020-05-31T00:00:00",
                    "2020-06-01T00:00:00",
                    "2020-06-02T00:00:00",
                    "2020-06-03T00:00:00",
                    "2020-06-04T00:00:00",
                    "2020-06-05T00:00:00",
                    "2020-06-06T00:00:00",
                    "2020-06-07T00:00:00",
                    "2020-06-08T00:00:00",
                    "2020-06-09T00:00:00",
                    "2020-06-10T00:00:00",
                    "2020-06-11T00:00:00",
                    "2020-06-12T00:00:00",
                    "2020-06-13T00:00:00",
                    "2020-06-14T00:00:00",
                    "2020-06-15T00:00:00",
                    "2020-06-16T00:00:00",
                    "2020-06-17T00:00:00",
                    "2020-06-18T00:00:00",
                    "2020-06-19T00:00:00",
                    "2020-06-20T00:00:00",
                    "2020-06-21T00:00:00",
                    "2020-06-22T00:00:00",
                    "2020-06-23T00:00:00",
                    "2020-06-24T00:00:00",
                    "2020-06-25T00:00:00",
                    "2020-06-26T00:00:00",
                    "2020-06-27T00:00:00",
                    "2020-06-28T00:00:00",
                    "2020-06-29T00:00:00",
                    "2020-06-30T00:00:00",
                    "2020-07-01T00:00:00",
                    "2020-07-02T00:00:00",
                    "2020-07-03T00:00:00",
                    "2020-07-04T00:00:00",
                    "2020-07-05T00:00:00",
                    "2020-07-06T00:00:00",
                    "2020-07-07T00:00:00",
                    "2020-07-08T00:00:00",
                    "2020-07-09T00:00:00",
                    "2020-07-10T00:00:00",
                    "2020-07-11T00:00:00",
                    "2020-07-12T00:00:00",
                    "2020-07-13T00:00:00",
                    "2020-07-14T00:00:00",
                    "2020-07-15T00:00:00",
                    "2020-07-16T00:00:00",
                    "2020-07-17T00:00:00",
                    "2020-07-18T00:00:00",
                    "2020-07-19T00:00:00",
                    "2020-07-20T00:00:00",
                    "2020-07-21T00:00:00",
                    "2020-07-22T00:00:00",
                    "2020-07-23T00:00:00",
                    "2020-07-24T00:00:00",
                    "2020-07-25T00:00:00",
                    "2020-07-26T00:00:00",
                    "2020-07-27T00:00:00",
                    "2020-07-28T00:00:00",
                    "2020-07-29T00:00:00",
                    "2020-07-30T00:00:00",
                    "2020-07-31T00:00:00",
                    "2020-08-01T00:00:00",
                    "2020-08-02T00:00:00",
                    "2020-08-03T00:00:00",
                    "2020-08-04T00:00:00",
                    "2020-08-05T00:00:00",
                    "2020-08-06T00:00:00",
                    "2020-08-07T00:00:00",
                    "2020-08-08T00:00:00",
                    "2020-08-09T00:00:00",
                    "2020-08-10T00:00:00",
                    "2020-08-11T00:00:00",
                    "2020-08-12T00:00:00",
                    "2020-08-13T00:00:00",
                    "2020-08-14T00:00:00",
                    "2020-08-15T00:00:00",
                    "2020-08-16T00:00:00",
                    "2020-08-17T00:00:00",
                    "2020-08-18T00:00:00",
                    "2020-08-19T00:00:00",
                    "2020-08-20T00:00:00"
                  ],
                  "y": [
                    0.013,
                    0.02925681765978198,
                    0.04954060118302213,
                    0.0747918939939676,
                    0.10615647177141813,
                    0.14502663842338465,
                    0.19309003242380568,
                    0.25238713509146915,
                    0.3253788276692295,
                    0.4150255091296785,
                    0.5248794658724796,
                    0.6591923731733796,
                    0.8230400104067052,
                    1.022466478923881,
                    1.2646504261854208,
                    1.5580959961519465,
                    1.9128514406312658,
                    2.3407585333030636,
                    2.8557361217933264,
                    3.474101325756159,
                    4.214932029951673,
                    5.1004744211837245,
                    6.156599364009706,
                    7.413311387025936,
                    8.905313943316358,
                    10.672634398858538,
                    12.761311864451772,
                    15.224150505181429,
                    18.12154028330676,
                    21.51765102960605,
                    25.478226586555213,
                    30.073738251598,
                    35.37898930013072,
                    41.47255829069169,
                    48.43607033773355,
                    56.35328988287777,
                    65.26931302776926,
                    75.17062562577648,
                    86.01335957960139,
                    97.72213603984717,
                    110.19062940699459,
                    123.28395726809325,
                    136.8428497071072,
                    150.75873749108706,
                    164.98470718300214,
                    179.47036155904223,
                    194.16235793151517,
                    209.00500154665775,
                    223.94088407525356,
                    238.91155380553857,
                    253.87531638966996,
                    268.8076446003916,
                    283.68419139229457,
                    298.48090956353036,
                    313.17416899135446,
                    327.7408701978842,
                    342.15855272472373,
                    356.3878003804855,
                    370.37344111553233,
                    384.0632903336902,
                    397.4087256652639,
                    410.36519018104445,
                    422.8926157285923,
                    434.95576043175157,
                    446.5584903085847,
                    457.73837094263325,
                    468.5301128268371,
                    478.9658553987295,
                    489.07542333078993,
                    498.8865583159244,
                    508.42512898014076,
                    517.7219015997248,
                    526.8120963789634,
                    535.7288301502246,
                    544.5034748713877,
                    553.165987538009,
                    561.7452160299852,
                    570.2691872231727,
                    578.7445913586533,
                    587.1573741108564,
                    595.4938069667442,
                    603.7405543089652,
                    611.8847371137277,
                    619.9139926275581,
                    627.8165299037107,
                    635.5964734921234,
                    643.272907114906,
                    650.864194217125,
                    658.3881089707886,
                    665.8619608702018,
                    673.3027139059423,
                    680.727101588474,
                    688.1450078175383,
                    695.5595580471276,
                    702.9738718935946,
                    710.3910670059922,
                    717.8142629292372,
                    724.7829672386712,
                    731.7066995932553,
                    738.623541412755,
                    745.517055861964,
                    752.3709805238667,
                    759.1693426718588,
                    765.8965707410044,
                    772.5376011197873,
                    779.0779789465992,
                    785.5281260114801,
                    791.9220316868941,
                    798.2928004568321,
                    804.6731658578422,
                    811.0959947173579,
                    817.5947943231706,
                    824.2042352314298,
                    830.941937941936,
                    837.8073397664574,
                    844.7997496220423,
                    851.9183463294185,
                    859.1621772360469,
                    866.5301570366825,
                    874.0210667823195,
                    881.7892999319886,
                    889.8163795428424,
                    898.0192341851109,
                    906.4178880154865,
                    915.0335867550984,
                    923.8889492200427,
                    933.008132887823,
                    942.3755169411551,
                    951.9314784312741,
                    961.612606699441,
                    971.35296762229,
                    981.08545211734,
                    990.7431628844136,
                    1000.2607908577036,
                    1009.622088596489,
                    1018.857217720967,
                    1028.008057812856,
                    1038.1406242938247,
                    1048.2450252048548,
                    1058.350707712443,
                    1068.4871075246424,
                    1078.6613554666417,
                    1088.8580610042152,
                    1099.0617414602666,
                    1109.2568932950055,
                    1119.4280633796452,
                    1129.5599197639142,
                    1139.6373214015966,
                    1149.7657921802377,
                    1160.057447472231,
                    1170.2527650676818,
                    1180.3374665559138,
                    1190.2977731921098,
                    1200.120461604546,
                    1209.7929152534027,
                    1219.3031716208172,
                    1228.639964373143,
                    1237.7927604765946,
                    1246.7517924462802,
                    1255.508085166016,
                    1264.053477303285,
                    1272.380637542103,
                    1280.4909613454809,
                    1288.393719579381,
                    1296.0977615343666,
                    1303.6115372728439,
                    1310.9431186252261,
                    1318.1002189509927,
                    1325.0902120188928,
                    1331.9218095038534,
                    1338.604930005017,
                    1345.148999090575,
                    1351.5629860237352
                  ]
                },
                {
                  "line": {
                    "dash": "dot",
                    "width": 2
                  },
                  "mode": "lines",
                  "name": "Undre prediktionsintervall",
                  "type": "scatter",
                  "x": [
                    "2020-03-01T00:00:00",
                    "2020-03-02T00:00:00",
                    "2020-03-03T00:00:00",
                    "2020-03-04T00:00:00",
                    "2020-03-05T00:00:00",
                    "2020-03-06T00:00:00",
                    "2020-03-07T00:00:00",
                    "2020-03-08T00:00:00",
                    "2020-03-09T00:00:00",
                    "2020-03-10T00:00:00",
                    "2020-03-11T00:00:00",
                    "2020-03-12T00:00:00",
                    "2020-03-13T00:00:00",
                    "2020-03-14T00:00:00",
                    "2020-03-15T00:00:00",
                    "2020-03-16T00:00:00",
                    "2020-03-17T00:00:00",
                    "2020-03-18T00:00:00",
                    "2020-03-19T00:00:00",
                    "2020-03-20T00:00:00",
                    "2020-03-21T00:00:00",
                    "2020-03-22T00:00:00",
                    "2020-03-23T00:00:00",
                    "2020-03-24T00:00:00",
                    "2020-03-25T00:00:00",
                    "2020-03-26T00:00:00",
                    "2020-03-27T00:00:00",
                    "2020-03-28T00:00:00",
                    "2020-03-29T00:00:00",
                    "2020-03-30T00:00:00",
                    "2020-03-31T00:00:00",
                    "2020-04-01T00:00:00",
                    "2020-04-02T00:00:00",
                    "2020-04-03T00:00:00",
                    "2020-04-04T00:00:00",
                    "2020-04-05T00:00:00",
                    "2020-04-06T00:00:00",
                    "2020-04-07T00:00:00",
                    "2020-04-08T00:00:00",
                    "2020-04-09T00:00:00",
                    "2020-04-10T00:00:00",
                    "2020-04-11T00:00:00",
                    "2020-04-12T00:00:00",
                    "2020-04-13T00:00:00",
                    "2020-04-14T00:00:00",
                    "2020-04-15T00:00:00",
                    "2020-04-16T00:00:00",
                    "2020-04-17T00:00:00",
                    "2020-04-18T00:00:00",
                    "2020-04-19T00:00:00",
                    "2020-04-20T00:00:00",
                    "2020-04-21T00:00:00",
                    "2020-04-22T00:00:00",
                    "2020-04-23T00:00:00",
                    "2020-04-24T00:00:00",
                    "2020-04-25T00:00:00",
                    "2020-04-26T00:00:00",
                    "2020-04-27T00:00:00",
                    "2020-04-28T00:00:00",
                    "2020-04-29T00:00:00",
                    "2020-04-30T00:00:00",
                    "2020-05-01T00:00:00",
                    "2020-05-02T00:00:00",
                    "2020-05-03T00:00:00",
                    "2020-05-04T00:00:00",
                    "2020-05-05T00:00:00",
                    "2020-05-06T00:00:00",
                    "2020-05-07T00:00:00",
                    "2020-05-08T00:00:00",
                    "2020-05-09T00:00:00",
                    "2020-05-10T00:00:00",
                    "2020-05-11T00:00:00",
                    "2020-05-12T00:00:00",
                    "2020-05-13T00:00:00",
                    "2020-05-14T00:00:00",
                    "2020-05-15T00:00:00",
                    "2020-05-16T00:00:00",
                    "2020-05-17T00:00:00",
                    "2020-05-18T00:00:00",
                    "2020-05-19T00:00:00",
                    "2020-05-20T00:00:00",
                    "2020-05-21T00:00:00",
                    "2020-05-22T00:00:00",
                    "2020-05-23T00:00:00",
                    "2020-05-24T00:00:00",
                    "2020-05-25T00:00:00",
                    "2020-05-26T00:00:00",
                    "2020-05-27T00:00:00",
                    "2020-05-28T00:00:00",
                    "2020-05-29T00:00:00",
                    "2020-05-30T00:00:00",
                    "2020-05-31T00:00:00",
                    "2020-06-01T00:00:00",
                    "2020-06-02T00:00:00",
                    "2020-06-03T00:00:00",
                    "2020-06-04T00:00:00",
                    "2020-06-05T00:00:00",
                    "2020-06-06T00:00:00",
                    "2020-06-07T00:00:00",
                    "2020-06-08T00:00:00",
                    "2020-06-09T00:00:00",
                    "2020-06-10T00:00:00",
                    "2020-06-11T00:00:00",
                    "2020-06-12T00:00:00",
                    "2020-06-13T00:00:00",
                    "2020-06-14T00:00:00",
                    "2020-06-15T00:00:00",
                    "2020-06-16T00:00:00",
                    "2020-06-17T00:00:00",
                    "2020-06-18T00:00:00",
                    "2020-06-19T00:00:00",
                    "2020-06-20T00:00:00",
                    "2020-06-21T00:00:00",
                    "2020-06-22T00:00:00",
                    "2020-06-23T00:00:00",
                    "2020-06-24T00:00:00",
                    "2020-06-25T00:00:00",
                    "2020-06-26T00:00:00",
                    "2020-06-27T00:00:00",
                    "2020-06-28T00:00:00",
                    "2020-06-29T00:00:00",
                    "2020-06-30T00:00:00",
                    "2020-07-01T00:00:00",
                    "2020-07-02T00:00:00",
                    "2020-07-03T00:00:00",
                    "2020-07-04T00:00:00",
                    "2020-07-05T00:00:00",
                    "2020-07-06T00:00:00",
                    "2020-07-07T00:00:00",
                    "2020-07-08T00:00:00",
                    "2020-07-09T00:00:00",
                    "2020-07-10T00:00:00",
                    "2020-07-11T00:00:00",
                    "2020-07-12T00:00:00",
                    "2020-07-13T00:00:00",
                    "2020-07-14T00:00:00",
                    "2020-07-15T00:00:00",
                    "2020-07-16T00:00:00",
                    "2020-07-17T00:00:00",
                    "2020-07-18T00:00:00",
                    "2020-07-19T00:00:00",
                    "2020-07-20T00:00:00",
                    "2020-07-21T00:00:00",
                    "2020-07-22T00:00:00",
                    "2020-07-23T00:00:00",
                    "2020-07-24T00:00:00",
                    "2020-07-25T00:00:00",
                    "2020-07-26T00:00:00",
                    "2020-07-27T00:00:00",
                    "2020-07-28T00:00:00",
                    "2020-07-29T00:00:00",
                    "2020-07-30T00:00:00",
                    "2020-07-31T00:00:00",
                    "2020-08-01T00:00:00",
                    "2020-08-02T00:00:00",
                    "2020-08-03T00:00:00",
                    "2020-08-04T00:00:00",
                    "2020-08-05T00:00:00",
                    "2020-08-06T00:00:00",
                    "2020-08-07T00:00:00",
                    "2020-08-08T00:00:00",
                    "2020-08-09T00:00:00",
                    "2020-08-10T00:00:00",
                    "2020-08-11T00:00:00",
                    "2020-08-12T00:00:00",
                    "2020-08-13T00:00:00",
                    "2020-08-14T00:00:00",
                    "2020-08-15T00:00:00",
                    "2020-08-16T00:00:00",
                    "2020-08-17T00:00:00",
                    "2020-08-18T00:00:00",
                    "2020-08-19T00:00:00",
                    "2020-08-20T00:00:00"
                  ],
                  "y": [
                    0,
                    0,
                    0,
                    0,
                    0,
                    0,
                    0,
                    0,
                    0,
                    0,
                    0,
                    0,
                    0,
                    0,
                    0,
                    0,
                    0,
                    0,
                    0,
                    0,
                    0,
                    0,
                    0,
                    0,
                    0,
                    0,
                    0,
                    1.8547682767807592,
                    4.629156106173116,
                    7.401696963033677,
                    11.158053367322449,
                    15.04030840097564,
                    19.716084482147146,
                    25.26876481949655,
                    31.10147099257523,
                    38.136526380509764,
                    45.6921627064652,
                    54.16802822992569,
                    63.26335894241215,
                    73.09443442717892,
                    83.44862963672846,
                    94.18727403838203,
                    105.25712657335643,
                    116.90502056682774,
                    128.5284201198864,
                    140.2270969185443,
                    152.21929916354838,
                    164.6516484710031,
                    176.69763074987742,
                    188.87932038258768,
                    200.66244177090817,
                    212.8450127801345,
                    225.41910058046867,
                    237.57568824583902,
                    249.33436054935663,
                    261.05431178074946,
                    273.10994117556567,
                    284.53465086078234,
                    296.0793390776955,
                    307.0432385966554,
                    318.24249387876796,
                    328.9619691041445,
                    339.34159143562647,
                    349.4763460040267,
                    359.0054849629077,
                    368.06134485733526,
                    377.1801414615579,
                    385.7569096879049,
                    394.45067563551254,
                    402.44432122644037,
                    410.3775496830081,
                    418.26710355618985,
                    425.43023791558676,
                    433.16183855008825,
                    440.7829793328296,
                    448.12432638746736,
                    455.2815835606857,
                    462.49817157418664,
                    469.6974159735754,
                    476.7478269505891,
                    483.85606926414937,
                    490.42655907529326,
                    497.23743325351495,
                    504.42121491557447,
                    511.1998433669875,
                    517.5168357394225,
                    523.9707793994203,
                    530.3748188290922,
                    537.2116459315745,
                    543.1423944973412,
                    549.4473796536556,
                    555.3797076077509,
                    562.388580675171,
                    568.3744881161045,
                    574.3893906502207,
                    580.6132933702655,
                    587.2879502586552,
                    593.9370998002639,
                    600.1596166749613,
                    606.1012796452868,
                    612.8706517813406,
                    618.5624623044628,
                    624.6417980011327,
                    631.0333533122285,
                    637.5797965452258,
                    643.7845109091796,
                    649.7269657910259,
                    655.1031268995818,
                    661.7502882470709,
                    667.6162449782079,
                    674.104717047115,
                    679.7940842911354,
                    685.5521040407025,
                    692.2659968015012,
                    698.8538141659428,
                    705.7440043257276,
                    712.7585987001778,
                    719.2296992865371,
                    726.4114403558924,
                    733.6080214888945,
                    740.9841375043181,
                    747.8752338112762,
                    755.6170534110723,
                    763.822996439564,
                    771.2499413409929,
                    779.6908914454756,
                    788.0259486457999,
                    796.9683130009909,
                    805.9346022154514,
                    814.840009496924,
                    824.0954929093886,
                    833.0710310165697,
                    842.3511033044974,
                    850.8557623225308,
                    860.0973676163942,
                    868.7939199866607,
                    876.8200379339198,
                    885.6317193309318,
                    893.6681289608467,
                    902.8300509483399,
                    911.3508859735954,
                    919.5360461052201,
                    928.3366986660033,
                    936.4978939342963,
                    945.3311049739341,
                    953.5032608336282,
                    962.0076340905473,
                    970.3377880688404,
                    977.8490049357723,
                    986.0682441191225,
                    994.0134768027017,
                    1002.2845245756117,
                    1009.8718297620848,
                    1017.5627488142641,
                    1025.1710785267073,
                    1032.1429237347133,
                    1039.3854522946642,
                    1046.184115181734,
                    1053.1044963119268,
                    1059.2560136178504,
                    1066.2680012253545,
                    1072.6781652055338,
                    1078.6754798157638,
                    1084.8015689620177,
                    1090.3668504378777,
                    1096.25714619814,
                    1101.5826664257465,
                    1107.174376796633,
                    1111.704899240553,
                    1117.2229434592002,
                    1122.3809906921608,
                    1127.1812313773326,
                    1132.3233894638274
                  ]
                },
                {
                  "line": {
                    "dash": "dot",
                    "width": 2
                  },
                  "mode": "lines",
                  "name": "Övre prediktionsintervall",
                  "type": "scatter",
                  "x": [
                    "2020-03-01T00:00:00",
                    "2020-03-02T00:00:00",
                    "2020-03-03T00:00:00",
                    "2020-03-04T00:00:00",
                    "2020-03-05T00:00:00",
                    "2020-03-06T00:00:00",
                    "2020-03-07T00:00:00",
                    "2020-03-08T00:00:00",
                    "2020-03-09T00:00:00",
                    "2020-03-10T00:00:00",
                    "2020-03-11T00:00:00",
                    "2020-03-12T00:00:00",
                    "2020-03-13T00:00:00",
                    "2020-03-14T00:00:00",
                    "2020-03-15T00:00:00",
                    "2020-03-16T00:00:00",
                    "2020-03-17T00:00:00",
                    "2020-03-18T00:00:00",
                    "2020-03-19T00:00:00",
                    "2020-03-20T00:00:00",
                    "2020-03-21T00:00:00",
                    "2020-03-22T00:00:00",
                    "2020-03-23T00:00:00",
                    "2020-03-24T00:00:00",
                    "2020-03-25T00:00:00",
                    "2020-03-26T00:00:00",
                    "2020-03-27T00:00:00",
                    "2020-03-28T00:00:00",
                    "2020-03-29T00:00:00",
                    "2020-03-30T00:00:00",
                    "2020-03-31T00:00:00",
                    "2020-04-01T00:00:00",
                    "2020-04-02T00:00:00",
                    "2020-04-03T00:00:00",
                    "2020-04-04T00:00:00",
                    "2020-04-05T00:00:00",
                    "2020-04-06T00:00:00",
                    "2020-04-07T00:00:00",
                    "2020-04-08T00:00:00",
                    "2020-04-09T00:00:00",
                    "2020-04-10T00:00:00",
                    "2020-04-11T00:00:00",
                    "2020-04-12T00:00:00",
                    "2020-04-13T00:00:00",
                    "2020-04-14T00:00:00",
                    "2020-04-15T00:00:00",
                    "2020-04-16T00:00:00",
                    "2020-04-17T00:00:00",
                    "2020-04-18T00:00:00",
                    "2020-04-19T00:00:00",
                    "2020-04-20T00:00:00",
                    "2020-04-21T00:00:00",
                    "2020-04-22T00:00:00",
                    "2020-04-23T00:00:00",
                    "2020-04-24T00:00:00",
                    "2020-04-25T00:00:00",
                    "2020-04-26T00:00:00",
                    "2020-04-27T00:00:00",
                    "2020-04-28T00:00:00",
                    "2020-04-29T00:00:00",
                    "2020-04-30T00:00:00",
                    "2020-05-01T00:00:00",
                    "2020-05-02T00:00:00",
                    "2020-05-03T00:00:00",
                    "2020-05-04T00:00:00",
                    "2020-05-05T00:00:00",
                    "2020-05-06T00:00:00",
                    "2020-05-07T00:00:00",
                    "2020-05-08T00:00:00",
                    "2020-05-09T00:00:00",
                    "2020-05-10T00:00:00",
                    "2020-05-11T00:00:00",
                    "2020-05-12T00:00:00",
                    "2020-05-13T00:00:00",
                    "2020-05-14T00:00:00",
                    "2020-05-15T00:00:00",
                    "2020-05-16T00:00:00",
                    "2020-05-17T00:00:00",
                    "2020-05-18T00:00:00",
                    "2020-05-19T00:00:00",
                    "2020-05-20T00:00:00",
                    "2020-05-21T00:00:00",
                    "2020-05-22T00:00:00",
                    "2020-05-23T00:00:00",
                    "2020-05-24T00:00:00",
                    "2020-05-25T00:00:00",
                    "2020-05-26T00:00:00",
                    "2020-05-27T00:00:00",
                    "2020-05-28T00:00:00",
                    "2020-05-29T00:00:00",
                    "2020-05-30T00:00:00",
                    "2020-05-31T00:00:00",
                    "2020-06-01T00:00:00",
                    "2020-06-02T00:00:00",
                    "2020-06-03T00:00:00",
                    "2020-06-04T00:00:00",
                    "2020-06-05T00:00:00",
                    "2020-06-06T00:00:00",
                    "2020-06-07T00:00:00",
                    "2020-06-08T00:00:00",
                    "2020-06-09T00:00:00",
                    "2020-06-10T00:00:00",
                    "2020-06-11T00:00:00",
                    "2020-06-12T00:00:00",
                    "2020-06-13T00:00:00",
                    "2020-06-14T00:00:00",
                    "2020-06-15T00:00:00",
                    "2020-06-16T00:00:00",
                    "2020-06-17T00:00:00",
                    "2020-06-18T00:00:00",
                    "2020-06-19T00:00:00",
                    "2020-06-20T00:00:00",
                    "2020-06-21T00:00:00",
                    "2020-06-22T00:00:00",
                    "2020-06-23T00:00:00",
                    "2020-06-24T00:00:00",
                    "2020-06-25T00:00:00",
                    "2020-06-26T00:00:00",
                    "2020-06-27T00:00:00",
                    "2020-06-28T00:00:00",
                    "2020-06-29T00:00:00",
                    "2020-06-30T00:00:00",
                    "2020-07-01T00:00:00",
                    "2020-07-02T00:00:00",
                    "2020-07-03T00:00:00",
                    "2020-07-04T00:00:00",
                    "2020-07-05T00:00:00",
                    "2020-07-06T00:00:00",
                    "2020-07-07T00:00:00",
                    "2020-07-08T00:00:00",
                    "2020-07-09T00:00:00",
                    "2020-07-10T00:00:00",
                    "2020-07-11T00:00:00",
                    "2020-07-12T00:00:00",
                    "2020-07-13T00:00:00",
                    "2020-07-14T00:00:00",
                    "2020-07-15T00:00:00",
                    "2020-07-16T00:00:00",
                    "2020-07-17T00:00:00",
                    "2020-07-18T00:00:00",
                    "2020-07-19T00:00:00",
                    "2020-07-20T00:00:00",
                    "2020-07-21T00:00:00",
                    "2020-07-22T00:00:00",
                    "2020-07-23T00:00:00",
                    "2020-07-24T00:00:00",
                    "2020-07-25T00:00:00",
                    "2020-07-26T00:00:00",
                    "2020-07-27T00:00:00",
                    "2020-07-28T00:00:00",
                    "2020-07-29T00:00:00",
                    "2020-07-30T00:00:00",
                    "2020-07-31T00:00:00",
                    "2020-08-01T00:00:00",
                    "2020-08-02T00:00:00",
                    "2020-08-03T00:00:00",
                    "2020-08-04T00:00:00",
                    "2020-08-05T00:00:00",
                    "2020-08-06T00:00:00",
                    "2020-08-07T00:00:00",
                    "2020-08-08T00:00:00",
                    "2020-08-09T00:00:00",
                    "2020-08-10T00:00:00",
                    "2020-08-11T00:00:00",
                    "2020-08-12T00:00:00",
                    "2020-08-13T00:00:00",
                    "2020-08-14T00:00:00",
                    "2020-08-15T00:00:00",
                    "2020-08-16T00:00:00",
                    "2020-08-17T00:00:00",
                    "2020-08-18T00:00:00",
                    "2020-08-19T00:00:00",
                    "2020-08-20T00:00:00"
                  ],
                  "y": [
                    12.324131392856376,
                    12.20810639229032,
                    12.064603673337762,
                    12.297690721978569,
                    12.299091083586717,
                    12.281235215349463,
                    12.398777258406918,
                    12.391249079654102,
                    12.628662630539138,
                    12.617566501001857,
                    12.701278780016484,
                    12.622954267714459,
                    13.026539048775547,
                    13.145179184542929,
                    13.357400965111646,
                    13.774213082829835,
                    14.04655195754054,
                    14.407348149375368,
                    14.883801371013385,
                    15.403213009154367,
                    16.22146519034512,
                    16.980809123729244,
                    17.99816464267829,
                    18.9856580483532,
                    20.547844208209177,
                    22.338780413193714,
                    23.93699961510537,
                    26.27748749541693,
                    29.01925768822074,
                    32.258300655317825,
                    35.843710279701185,
                    39.827437329829365,
                    44.93994331820561,
                    50.492397018721576,
                    57.019301860111334,
                    64.22296703458359,
                    72.69401669650865,
                    82.23110118165769,
                    92.4657592349769,
                    103.88942069491709,
                    115.70715463692956,
                    128.49577327429523,
                    141.80254613076931,
                    155.45685859993907,
                    169.83491621962918,
                    184.3512187216617,
                    199.02241438545857,
                    213.72172094168505,
                    228.44631572448364,
                    243.98553330457767,
                    258.76309145208586,
                    273.99820005535264,
                    288.38625000904665,
                    303.8133331172888,
                    318.061783478405,
                    332.56782849129166,
                    347.30184587679906,
                    361.23548087620816,
                    376.01266305112216,
                    389.156839005123,
                    402.71028674210623,
                    415.0337329355885,
                    429.13974767909656,
                    440.94503187393076,
                    451.9358899034241,
                    463.35893258871863,
                    474.4729980096745,
                    484.85881634125155,
                    494.7935765339708,
                    504.79396579077985,
                    514.2433237777734,
                    524.6979508216633,
                    532.4252885470733,
                    541.5912803156364,
                    550.3925707860068,
                    559.1032902299412,
                    567.8888863321685,
                    576.7290907848587,
                    584.4303498357539,
                    593.0813981707746,
                    601.587718565928,
                    610.2275966507249,
                    617.9996020437218,
                    626.0486027138389,
                    633.5447989164512,
                    641.6958671392778,
                    649.2944458975134,
                    656.8418387975929,
                    663.8446960063014,
                    671.3439656740501,
                    678.6582338809085,
                    685.7214891956936,
                    693.444885659999,
                    700.6076296521725,
                    708.217550783984,
                    715.0547320755365,
                    721.9303637282242,
                    729.4927014260114,
                    736.7686511602326,
                    743.9410826948131,
                    751.4770899942338,
                    758.5686984813709,
                    765.1001789736462,
                    772.2744829244039,
                    779.6615446397489,
                    786.4674875531526,
                    793.5171527316236,
                    799.4331831132072,
                    805.9810881150272,
                    813.2908901089029,
                    819.3274880613811,
                    826.6738735621345,
                    833.727449739565,
                    840.5416078242296,
                    847.3792286155877,
                    854.8113114344792,
                    861.779984053508,
                    869.4564511759093,
                    876.6593205297702,
                    884.3384162934863,
                    892.1799372846607,
                    899.5849581357967,
                    907.4900142410424,
                    915.598252241471,
                    924.3901370632999,
                    932.469802753881,
                    941.0395853138666,
                    949.9448341176997,
                    959.5460108809323,
                    968.7883046394621,
                    977.8093457784917,
                    988.1344483258711,
                    997.0119486607208,
                    1006.6772729973723,
                    1015.8182350897231,
                    1024.8121323578466,
                    1035.6352738939781,
                    1044.8828480408495,
                    1054.4285070447256,
                    1064.4144799567296,
                    1074.530149468588,
                    1085.2943873827433,
                    1095.5205503634547,
                    1106.298526927327,
                    1117.3275357659454,
                    1127.8607699623913,
                    1138.3722839992392,
                    1148.8457919886537,
                    1159.3159601471502,
                    1170.1318606346408,
                    1180.1752445583045,
                    1190.679189391282,
                    1200.663334975938,
                    1210.5095452592996,
                    1220.575190857096,
                    1230.1163124572768,
                    1239.0698842216857,
                    1249.2268365044176,
                    1257.6850211448868,
                    1266.9529903209886,
                    1275.5042157848825,
                    1283.2039811223492,
                    1291.9469074274834,
                    1299.7392962004694,
                    1308.4692526100255,
                    1315.421697722461,
                    1322.5703016710609,
                    1329.6649136903661,
                    1337.6437418889375,
                    1344.2894392452047,
                    1351.2033458232966,
                    1357.9099040278772,
                    1364.0811008510916
                  ]
                }
              ],
              "layout": {
                "annotations": [
                  {
                    "bordercolor": "black",
                    "showarrow": false,
                    "text": "RMSE: 6",
                    "x": "2020-03-01T00:00:00",
                    "xshift": 48,
                    "y": 0,
                    "yshift": 270
                  }
                ],
                "autosize": false,
                "font": {
                  "color": "RebeccaPurple",
                  "family": "Courier New, monospace",
                  "size": 14
                },
                "template": {
                  "data": {
                    "bar": [
                      {
                        "error_x": {
                          "color": "#2a3f5f"
                        },
                        "error_y": {
                          "color": "#2a3f5f"
                        },
                        "marker": {
                          "line": {
                            "color": "#E5ECF6",
                            "width": 0.5
                          },
                          "pattern": {
                            "fillmode": "overlay",
                            "size": 10,
                            "solidity": 0.2
                          }
                        },
                        "type": "bar"
                      }
                    ],
                    "barpolar": [
                      {
                        "marker": {
                          "line": {
                            "color": "#E5ECF6",
                            "width": 0.5
                          },
                          "pattern": {
                            "fillmode": "overlay",
                            "size": 10,
                            "solidity": 0.2
                          }
                        },
                        "type": "barpolar"
                      }
                    ],
                    "carpet": [
                      {
                        "aaxis": {
                          "endlinecolor": "#2a3f5f",
                          "gridcolor": "white",
                          "linecolor": "white",
                          "minorgridcolor": "white",
                          "startlinecolor": "#2a3f5f"
                        },
                        "baxis": {
                          "endlinecolor": "#2a3f5f",
                          "gridcolor": "white",
                          "linecolor": "white",
                          "minorgridcolor": "white",
                          "startlinecolor": "#2a3f5f"
                        },
                        "type": "carpet"
                      }
                    ],
                    "choropleth": [
                      {
                        "colorbar": {
                          "outlinewidth": 0,
                          "ticks": ""
                        },
                        "type": "choropleth"
                      }
                    ],
                    "contour": [
                      {
                        "colorbar": {
                          "outlinewidth": 0,
                          "ticks": ""
                        },
                        "colorscale": [
                          [
                            0,
                            "#0d0887"
                          ],
                          [
                            0.1111111111111111,
                            "#46039f"
                          ],
                          [
                            0.2222222222222222,
                            "#7201a8"
                          ],
                          [
                            0.3333333333333333,
                            "#9c179e"
                          ],
                          [
                            0.4444444444444444,
                            "#bd3786"
                          ],
                          [
                            0.5555555555555556,
                            "#d8576b"
                          ],
                          [
                            0.6666666666666666,
                            "#ed7953"
                          ],
                          [
                            0.7777777777777778,
                            "#fb9f3a"
                          ],
                          [
                            0.8888888888888888,
                            "#fdca26"
                          ],
                          [
                            1,
                            "#f0f921"
                          ]
                        ],
                        "type": "contour"
                      }
                    ],
                    "contourcarpet": [
                      {
                        "colorbar": {
                          "outlinewidth": 0,
                          "ticks": ""
                        },
                        "type": "contourcarpet"
                      }
                    ],
                    "heatmap": [
                      {
                        "colorbar": {
                          "outlinewidth": 0,
                          "ticks": ""
                        },
                        "colorscale": [
                          [
                            0,
                            "#0d0887"
                          ],
                          [
                            0.1111111111111111,
                            "#46039f"
                          ],
                          [
                            0.2222222222222222,
                            "#7201a8"
                          ],
                          [
                            0.3333333333333333,
                            "#9c179e"
                          ],
                          [
                            0.4444444444444444,
                            "#bd3786"
                          ],
                          [
                            0.5555555555555556,
                            "#d8576b"
                          ],
                          [
                            0.6666666666666666,
                            "#ed7953"
                          ],
                          [
                            0.7777777777777778,
                            "#fb9f3a"
                          ],
                          [
                            0.8888888888888888,
                            "#fdca26"
                          ],
                          [
                            1,
                            "#f0f921"
                          ]
                        ],
                        "type": "heatmap"
                      }
                    ],
                    "heatmapgl": [
                      {
                        "colorbar": {
                          "outlinewidth": 0,
                          "ticks": ""
                        },
                        "colorscale": [
                          [
                            0,
                            "#0d0887"
                          ],
                          [
                            0.1111111111111111,
                            "#46039f"
                          ],
                          [
                            0.2222222222222222,
                            "#7201a8"
                          ],
                          [
                            0.3333333333333333,
                            "#9c179e"
                          ],
                          [
                            0.4444444444444444,
                            "#bd3786"
                          ],
                          [
                            0.5555555555555556,
                            "#d8576b"
                          ],
                          [
                            0.6666666666666666,
                            "#ed7953"
                          ],
                          [
                            0.7777777777777778,
                            "#fb9f3a"
                          ],
                          [
                            0.8888888888888888,
                            "#fdca26"
                          ],
                          [
                            1,
                            "#f0f921"
                          ]
                        ],
                        "type": "heatmapgl"
                      }
                    ],
                    "histogram": [
                      {
                        "marker": {
                          "pattern": {
                            "fillmode": "overlay",
                            "size": 10,
                            "solidity": 0.2
                          }
                        },
                        "type": "histogram"
                      }
                    ],
                    "histogram2d": [
                      {
                        "colorbar": {
                          "outlinewidth": 0,
                          "ticks": ""
                        },
                        "colorscale": [
                          [
                            0,
                            "#0d0887"
                          ],
                          [
                            0.1111111111111111,
                            "#46039f"
                          ],
                          [
                            0.2222222222222222,
                            "#7201a8"
                          ],
                          [
                            0.3333333333333333,
                            "#9c179e"
                          ],
                          [
                            0.4444444444444444,
                            "#bd3786"
                          ],
                          [
                            0.5555555555555556,
                            "#d8576b"
                          ],
                          [
                            0.6666666666666666,
                            "#ed7953"
                          ],
                          [
                            0.7777777777777778,
                            "#fb9f3a"
                          ],
                          [
                            0.8888888888888888,
                            "#fdca26"
                          ],
                          [
                            1,
                            "#f0f921"
                          ]
                        ],
                        "type": "histogram2d"
                      }
                    ],
                    "histogram2dcontour": [
                      {
                        "colorbar": {
                          "outlinewidth": 0,
                          "ticks": ""
                        },
                        "colorscale": [
                          [
                            0,
                            "#0d0887"
                          ],
                          [
                            0.1111111111111111,
                            "#46039f"
                          ],
                          [
                            0.2222222222222222,
                            "#7201a8"
                          ],
                          [
                            0.3333333333333333,
                            "#9c179e"
                          ],
                          [
                            0.4444444444444444,
                            "#bd3786"
                          ],
                          [
                            0.5555555555555556,
                            "#d8576b"
                          ],
                          [
                            0.6666666666666666,
                            "#ed7953"
                          ],
                          [
                            0.7777777777777778,
                            "#fb9f3a"
                          ],
                          [
                            0.8888888888888888,
                            "#fdca26"
                          ],
                          [
                            1,
                            "#f0f921"
                          ]
                        ],
                        "type": "histogram2dcontour"
                      }
                    ],
                    "mesh3d": [
                      {
                        "colorbar": {
                          "outlinewidth": 0,
                          "ticks": ""
                        },
                        "type": "mesh3d"
                      }
                    ],
                    "parcoords": [
                      {
                        "line": {
                          "colorbar": {
                            "outlinewidth": 0,
                            "ticks": ""
                          }
                        },
                        "type": "parcoords"
                      }
                    ],
                    "pie": [
                      {
                        "automargin": true,
                        "type": "pie"
                      }
                    ],
                    "scatter": [
                      {
                        "marker": {
                          "colorbar": {
                            "outlinewidth": 0,
                            "ticks": ""
                          }
                        },
                        "type": "scatter"
                      }
                    ],
                    "scatter3d": [
                      {
                        "line": {
                          "colorbar": {
                            "outlinewidth": 0,
                            "ticks": ""
                          }
                        },
                        "marker": {
                          "colorbar": {
                            "outlinewidth": 0,
                            "ticks": ""
                          }
                        },
                        "type": "scatter3d"
                      }
                    ],
                    "scattercarpet": [
                      {
                        "marker": {
                          "colorbar": {
                            "outlinewidth": 0,
                            "ticks": ""
                          }
                        },
                        "type": "scattercarpet"
                      }
                    ],
                    "scattergeo": [
                      {
                        "marker": {
                          "colorbar": {
                            "outlinewidth": 0,
                            "ticks": ""
                          }
                        },
                        "type": "scattergeo"
                      }
                    ],
                    "scattergl": [
                      {
                        "marker": {
                          "colorbar": {
                            "outlinewidth": 0,
                            "ticks": ""
                          }
                        },
                        "type": "scattergl"
                      }
                    ],
                    "scattermapbox": [
                      {
                        "marker": {
                          "colorbar": {
                            "outlinewidth": 0,
                            "ticks": ""
                          }
                        },
                        "type": "scattermapbox"
                      }
                    ],
                    "scatterpolar": [
                      {
                        "marker": {
                          "colorbar": {
                            "outlinewidth": 0,
                            "ticks": ""
                          }
                        },
                        "type": "scatterpolar"
                      }
                    ],
                    "scatterpolargl": [
                      {
                        "marker": {
                          "colorbar": {
                            "outlinewidth": 0,
                            "ticks": ""
                          }
                        },
                        "type": "scatterpolargl"
                      }
                    ],
                    "scatterternary": [
                      {
                        "marker": {
                          "colorbar": {
                            "outlinewidth": 0,
                            "ticks": ""
                          }
                        },
                        "type": "scatterternary"
                      }
                    ],
                    "surface": [
                      {
                        "colorbar": {
                          "outlinewidth": 0,
                          "ticks": ""
                        },
                        "colorscale": [
                          [
                            0,
                            "#0d0887"
                          ],
                          [
                            0.1111111111111111,
                            "#46039f"
                          ],
                          [
                            0.2222222222222222,
                            "#7201a8"
                          ],
                          [
                            0.3333333333333333,
                            "#9c179e"
                          ],
                          [
                            0.4444444444444444,
                            "#bd3786"
                          ],
                          [
                            0.5555555555555556,
                            "#d8576b"
                          ],
                          [
                            0.6666666666666666,
                            "#ed7953"
                          ],
                          [
                            0.7777777777777778,
                            "#fb9f3a"
                          ],
                          [
                            0.8888888888888888,
                            "#fdca26"
                          ],
                          [
                            1,
                            "#f0f921"
                          ]
                        ],
                        "type": "surface"
                      }
                    ],
                    "table": [
                      {
                        "cells": {
                          "fill": {
                            "color": "#EBF0F8"
                          },
                          "line": {
                            "color": "white"
                          }
                        },
                        "header": {
                          "fill": {
                            "color": "#C8D4E3"
                          },
                          "line": {
                            "color": "white"
                          }
                        },
                        "type": "table"
                      }
                    ]
                  },
                  "layout": {
                    "annotationdefaults": {
                      "arrowcolor": "#2a3f5f",
                      "arrowhead": 0,
                      "arrowwidth": 1
                    },
                    "autotypenumbers": "strict",
                    "coloraxis": {
                      "colorbar": {
                        "outlinewidth": 0,
                        "ticks": ""
                      }
                    },
                    "colorscale": {
                      "diverging": [
                        [
                          0,
                          "#8e0152"
                        ],
                        [
                          0.1,
                          "#c51b7d"
                        ],
                        [
                          0.2,
                          "#de77ae"
                        ],
                        [
                          0.3,
                          "#f1b6da"
                        ],
                        [
                          0.4,
                          "#fde0ef"
                        ],
                        [
                          0.5,
                          "#f7f7f7"
                        ],
                        [
                          0.6,
                          "#e6f5d0"
                        ],
                        [
                          0.7,
                          "#b8e186"
                        ],
                        [
                          0.8,
                          "#7fbc41"
                        ],
                        [
                          0.9,
                          "#4d9221"
                        ],
                        [
                          1,
                          "#276419"
                        ]
                      ],
                      "sequential": [
                        [
                          0,
                          "#0d0887"
                        ],
                        [
                          0.1111111111111111,
                          "#46039f"
                        ],
                        [
                          0.2222222222222222,
                          "#7201a8"
                        ],
                        [
                          0.3333333333333333,
                          "#9c179e"
                        ],
                        [
                          0.4444444444444444,
                          "#bd3786"
                        ],
                        [
                          0.5555555555555556,
                          "#d8576b"
                        ],
                        [
                          0.6666666666666666,
                          "#ed7953"
                        ],
                        [
                          0.7777777777777778,
                          "#fb9f3a"
                        ],
                        [
                          0.8888888888888888,
                          "#fdca26"
                        ],
                        [
                          1,
                          "#f0f921"
                        ]
                      ],
                      "sequentialminus": [
                        [
                          0,
                          "#0d0887"
                        ],
                        [
                          0.1111111111111111,
                          "#46039f"
                        ],
                        [
                          0.2222222222222222,
                          "#7201a8"
                        ],
                        [
                          0.3333333333333333,
                          "#9c179e"
                        ],
                        [
                          0.4444444444444444,
                          "#bd3786"
                        ],
                        [
                          0.5555555555555556,
                          "#d8576b"
                        ],
                        [
                          0.6666666666666666,
                          "#ed7953"
                        ],
                        [
                          0.7777777777777778,
                          "#fb9f3a"
                        ],
                        [
                          0.8888888888888888,
                          "#fdca26"
                        ],
                        [
                          1,
                          "#f0f921"
                        ]
                      ]
                    },
                    "colorway": [
                      "#636efa",
                      "#EF553B",
                      "#00cc96",
                      "#ab63fa",
                      "#FFA15A",
                      "#19d3f3",
                      "#FF6692",
                      "#B6E880",
                      "#FF97FF",
                      "#FECB52"
                    ],
                    "font": {
                      "color": "#2a3f5f"
                    },
                    "geo": {
                      "bgcolor": "white",
                      "lakecolor": "white",
                      "landcolor": "#E5ECF6",
                      "showlakes": true,
                      "showland": true,
                      "subunitcolor": "white"
                    },
                    "hoverlabel": {
                      "align": "left"
                    },
                    "hovermode": "closest",
                    "mapbox": {
                      "style": "light"
                    },
                    "paper_bgcolor": "white",
                    "plot_bgcolor": "#E5ECF6",
                    "polar": {
                      "angularaxis": {
                        "gridcolor": "white",
                        "linecolor": "white",
                        "ticks": ""
                      },
                      "bgcolor": "#E5ECF6",
                      "radialaxis": {
                        "gridcolor": "white",
                        "linecolor": "white",
                        "ticks": ""
                      }
                    },
                    "scene": {
                      "xaxis": {
                        "backgroundcolor": "#E5ECF6",
                        "gridcolor": "white",
                        "gridwidth": 2,
                        "linecolor": "white",
                        "showbackground": true,
                        "ticks": "",
                        "zerolinecolor": "white"
                      },
                      "yaxis": {
                        "backgroundcolor": "#E5ECF6",
                        "gridcolor": "white",
                        "gridwidth": 2,
                        "linecolor": "white",
                        "showbackground": true,
                        "ticks": "",
                        "zerolinecolor": "white"
                      },
                      "zaxis": {
                        "backgroundcolor": "#E5ECF6",
                        "gridcolor": "white",
                        "gridwidth": 2,
                        "linecolor": "white",
                        "showbackground": true,
                        "ticks": "",
                        "zerolinecolor": "white"
                      }
                    },
                    "shapedefaults": {
                      "line": {
                        "color": "#2a3f5f"
                      }
                    },
                    "ternary": {
                      "aaxis": {
                        "gridcolor": "white",
                        "linecolor": "white",
                        "ticks": ""
                      },
                      "baxis": {
                        "gridcolor": "white",
                        "linecolor": "white",
                        "ticks": ""
                      },
                      "bgcolor": "#E5ECF6",
                      "caxis": {
                        "gridcolor": "white",
                        "linecolor": "white",
                        "ticks": ""
                      }
                    },
                    "title": {
                      "x": 0.05
                    },
                    "xaxis": {
                      "automargin": true,
                      "gridcolor": "white",
                      "linecolor": "white",
                      "ticks": "",
                      "title": {
                        "standoff": 15
                      },
                      "zerolinecolor": "white",
                      "zerolinewidth": 2
                    },
                    "yaxis": {
                      "automargin": true,
                      "gridcolor": "white",
                      "linecolor": "white",
                      "ticks": "",
                      "title": {
                        "standoff": 15
                      },
                      "zerolinecolor": "white",
                      "zerolinewidth": 2
                    }
                  }
                },
                "title": {
                  "text": "Västtrafik mobilitets baserad SIR modell"
                },
                "width": 1000,
                "xaxis": {
                  "range": [
                    "2020-03-01",
                    "2020-08-21T00:00:00"
                  ],
                  "title": {
                    "text": "Datum"
                  }
                },
                "yaxis": {
                  "title": {
                    "text": "Inskrivningar"
                  }
                }
              }
            }
          },
          "metadata": {},
          "output_type": "display_data"
        }
      ],
      "source": [
        "numBetas = 50 #number of betas used for normal dist for conf. intervalls\n",
        "numEpsilon = 500\n",
        "\n",
        "##################  Confidence intervall calculation\n",
        "confint = np.zeros([prediction_time,2]) #defines confidence intervall arrays\n",
        "\n",
        "\n",
        "# Generates an array of betas using normal dist.\n",
        "betas=np.random.multivariate_normal(popt,pcov,numBetas) \n",
        "values = np.zeros((prediction_time,numBetas))\n",
        "\n",
        "for beta in range(len(betas)): \n",
        "  values[:,beta] = np.cumsum(modelfunction(t,*betas[beta]))\n",
        "  \n",
        "for day in range(len(t)):\n",
        "  confint[day,0]=np.quantile(values[day,:],0.025)\n",
        "  confint[day,1]=np.quantile(values[day,:],0.975)\n",
        "  \n",
        "\n",
        "##################  Prediction intervall calculation\n",
        "#få med beta skattning i predictionsintervall, dvs generera beta och fel för varje dag \n",
        "\n",
        "std_residual = np.std(modelfunction(t_fittingdata,*popt)-dailyAdmissions[:fittingPoints], ddof=2) #calcuales standard deviation of residual between model and data\n",
        "predint = np.zeros([prediction_time,2])\n",
        "\n",
        "temp = []\n",
        "pred_matrix = np.zeros((prediction_time,(numBetas*numEpsilon)))\n",
        "for day in range(prediction_time): #loops trough model values each day a adds the error values generated from t-dist to each prediction \n",
        "  for beta in range(len(betas)):\n",
        "      temp =  np.add(np.cumsum(modelfunction(t,*betas[beta]))[day],tdist.rvs(prediction_time,0,std_residual,numEpsilon))\n",
        "      pred_matrix[day,(beta*numEpsilon):(beta*numEpsilon+numEpsilon)] = temp\n",
        "\n",
        "for day in range(prediction_time): #calculates the prediction intervals\n",
        "    predint[day,0] = np.quantile(pred_matrix[day],0.025)\n",
        "    predint[day,1] = np.quantile(pred_matrix[day],0.975)\n",
        "    \n",
        "predint = np.clip(predint,0,None) #removes all negative values from lover prediction interval\n",
        "\n",
        "fig = go.Figure() #Creates a plot using graph objects and then adds each graph to figure\n",
        "fig.add_trace(go.Scatter( #plots the fitting admission data points\n",
        "                    x=pd.Series(pd.date_range(\"2020-03-01\", freq=\"D\", periods=fittingPoints)), \n",
        "                    y=np.cumsum(dailyAdmissions),\n",
        "                    mode='markers',\n",
        "                    name='Inskrivningsdata'))\n",
        "fig.add_trace(go.Scatter( #plots all the available admission data points\n",
        "                    x=pd.Series(pd.date_range(pd.to_datetime('2020-03-01')+timedelta(days=fittingPoints), freq=\"D\", periods=prediction_time-fittingPoints)),\n",
        "                    y=np.cumsum(dailyAdmissions)[fittingPoints:],\n",
        "                    mode='markers',\n",
        "                    marker=dict(\n",
        "                        color='firebrick',\n",
        "                    ),\n",
        "                    name='Admission data'))\n",
        "fig.add_trace(go.Scatter(\n",
        "                    x=pd.Series(pd.date_range(\"2020-03-01\", freq=\"D\", periods=prediction_time)), \n",
        "                    y=np.cumsum(modelfunction(t,*popt)),\n",
        "                    mode='lines',\n",
        "                    name='predikterade kumulativa inskrivningar'))\n",
        "fig.add_trace(go.Scatter(\n",
        "                    x=pd.Series(pd.date_range(\"2020-03-01\", freq=\"D\", periods=prediction_time)), \n",
        "                    y=confint[:,0],\n",
        "                    mode='lines',\n",
        "                    name='Undre konfidensintervall',\n",
        "                    line = dict( width=2, dash='dash')))\n",
        "fig.add_trace(go.Scatter(\n",
        "                    x=pd.Series(pd.date_range(\"2020-03-01\", freq=\"D\", periods=prediction_time)), \n",
        "                    y=confint[:,1],\n",
        "                    mode='lines',\n",
        "                    name='Övre konfidensintervall',\n",
        "                    line = dict(width=2, dash='dash')))\n",
        "fig.add_trace(go.Scatter(\n",
        "                    x=pd.Series(pd.date_range(\"2020-03-01\", freq=\"D\", periods=prediction_time)), \n",
        "                    y=predint[:,0],\n",
        "                    mode='lines',\n",
        "                    name='Undre prediktionsintervall',\n",
        "                    line = dict(width=2, dash='dot')))\n",
        "fig.add_trace(go.Scatter(\n",
        "                    x=pd.Series(pd.date_range(\"2020-03-01\", freq=\"D\", periods=prediction_time)), \n",
        "                    y=predint[:,1],\n",
        "                    mode='lines',\n",
        "                    name='Övre prediktionsintervall',\n",
        "                    line = dict(width=2, dash='dot')))\n",
        "fig.add_annotation(x=pd.to_datetime(\"2020-03-01\"),y=0, \n",
        "                   text=f\"RMSE: {math.floor(mean_squared_error(dailyAdmissions[:prediction_time],modelfunction(t,*popt), squared = False))}\",\n",
        "                   showarrow=False,\n",
        "                   bordercolor=\"black\",\n",
        "                   xshift=48,\n",
        "                   yshift=270\n",
        "                  )\n",
        "fig.update_layout(\n",
        "                    title='Västtrafik mobilitets baserad SIR modell',\n",
        "                    xaxis_title='Datum',\n",
        "                    yaxis_title='Inskrivningar',\n",
        "                    autosize=False,\n",
        "                    width=1000,\n",
        "                    xaxis_range=[\"2020-03-01\",pd.to_datetime('2020-03-01')+timedelta(days=prediction_time)],\n",
        "                    \n",
        "                    font=dict(\n",
        "                      family=\"Courier New, monospace\",\n",
        "                      size=14,\n",
        "                      color=\"RebeccaPurple\"\n",
        "                    )\n",
        ")\n",
        "fig.show()"
      ]
    },
    {
      "cell_type": "code",
      "execution_count": 111,
      "metadata": {},
      "outputs": [],
      "source": [
        "#calcualtes RMSE for 21 days ahead of the fitting data as it increases with\n",
        "\n",
        "header = ['Idex', 'Fitting points', 'MAPE'] #header for csv file\n",
        "RMSEovertime = []   #init RMSE array\n",
        "startdata = 42  #number of intial data points for MAP calculation in days\n",
        "\n",
        "\n",
        "#writes a csv file of Index, number of fitting points and MAP\n",
        "with open('SIR_MAPE_daily.csv', 'w', encoding='UTF8', newline='') as f:\n",
        "    writer = csv.writer(f)\n",
        "\n",
        "    # write the header\n",
        "    writer.writerow(header)\n",
        "    \n",
        "    #loops over all data point for fitting and curve fits the model and calculates MAPE\n",
        "    for day in range(len(dailyAdmissions)):\n",
        "        #breaks loop when reaching final value\n",
        "        if day+startdata+21 == len(dailyAdmissions):\n",
        "            break\n",
        "        \n",
        "        #inits temp array for writing to csv file and time array for model\n",
        "        temp_RMSEovertime = []\n",
        "        t_MAPE1 = np.linspace(0,day+startdata,day+startdata)\n",
        "        t_MAPE2 = np.linspace(0,day+startdata+21,day+startdata+21)\n",
        "        \n",
        "        #curve fits model to fitting data\n",
        "        MAPE_popt, pcov = curve_fit(modelfunction, t_MAPE1, dailyAdmissions[:day+startdata], p0=[0.4198,0.003781])\n",
        "        \n",
        "        #creates temp list of Index, number of fitting points and MAP\n",
        "        temp_RMSEovertime.append(day)\n",
        "        temp_RMSEovertime.append(day+startdata-21)\n",
        "        temp_RMSEovertime.append(mean_absolute_percentage_error(np.cumsum(dailyAdmissions[:day+startdata+21])[-21:],np.cumsum(modelfunction(t_MAPE2,*MAPE_popt))[-21:]))\n",
        "        \n",
        "        #Appends matrix of all MAP vallues\n",
        "        RMSEovertime.append(temp_RMSEovertime)\n",
        "        \n",
        "         # write the data\n",
        "        writer.writerow(temp_RMSEovertime)"
      ]
    },
    {
      "cell_type": "code",
      "execution_count": null,
      "metadata": {},
      "outputs": [],
      "source": []
    },
    {
      "cell_type": "markdown",
      "metadata": {
        "id": "9acQUL9UHZyX"
      },
      "source": [
        "Cell that seatches for a global minimum of the paramaters given using RMSE"
      ]
    },
    {
      "cell_type": "code",
      "execution_count": null,
      "metadata": {},
      "outputs": [],
      "source": [
        "#VT global param search\n",
        "paramC0 = np.linspace(0,4,50)  #x-values\n",
        "paramC1 = np.linspace(0,1,50)  #y-values\n",
        "\n",
        "# #Google global param search\n",
        "# params.append(np.linspace(0,4,50)) \n",
        "# params.append(np.linspace(0,1,50))\n",
        "\n",
        "result = np.zeros((len(paramC0),len(paramC1)))\n",
        "for param1 in range(len(paramC0)):\n",
        "    for param0 in range(len(paramC1)):\n",
        "        result[param0,param1] = math.log(mean_squared_error(dailyAdmissions,modelfunction(t,paramC0[param0],paramC1[param1]), squared = False))\n",
        "\n",
        "\n",
        "\n",
        "#Calcualtes the log of RMSE for each point in parameter room\n",
        "# for input in inputs:\n",
        "#     result.append(math.log(mean_squared_error(dailyAdmissions,modelfunction(t,*input), squared = False)))"
      ]
    },
    {
      "cell_type": "code",
      "execution_count": null,
      "metadata": {},
      "outputs": [
        {
          "data": {
            "application/vnd.plotly.v1+json": {
              "config": {
                "plotlyServerURL": "https://plot.ly"
              },
              "data": [
                {
                  "colorbar": {
                    "title": {
                      "side": "right",
                      "text": "Log RMSE"
                    }
                  },
                  "type": "contour",
                  "x": [
                    0,
                    0.08163265306122448,
                    0.16326530612244897,
                    0.24489795918367346,
                    0.32653061224489793,
                    0.4081632653061224,
                    0.4897959183673469,
                    0.5714285714285714,
                    0.6530612244897959,
                    0.7346938775510203,
                    0.8163265306122448,
                    0.8979591836734693,
                    0.9795918367346939,
                    1.0612244897959182,
                    1.1428571428571428,
                    1.2244897959183672,
                    1.3061224489795917,
                    1.3877551020408163,
                    1.4693877551020407,
                    1.5510204081632653,
                    1.6326530612244896,
                    1.7142857142857142,
                    1.7959183673469385,
                    1.8775510204081631,
                    1.9591836734693877,
                    2.0408163265306123,
                    2.1224489795918364,
                    2.204081632653061,
                    2.2857142857142856,
                    2.36734693877551,
                    2.4489795918367343,
                    2.530612244897959,
                    2.6122448979591835,
                    2.693877551020408,
                    2.7755102040816326,
                    2.8571428571428568,
                    2.9387755102040813,
                    3.020408163265306,
                    3.1020408163265305,
                    3.1836734693877546,
                    3.265306122448979,
                    3.346938775510204,
                    3.4285714285714284,
                    3.510204081632653,
                    3.591836734693877,
                    3.6734693877551017,
                    3.7551020408163263,
                    3.836734693877551,
                    3.9183673469387754,
                    4
                  ],
                  "y": [
                    0,
                    0.02040816326530612,
                    0.04081632653061224,
                    0.061224489795918366,
                    0.08163265306122448,
                    0.1020408163265306,
                    0.12244897959183673,
                    0.14285714285714285,
                    0.16326530612244897,
                    0.18367346938775508,
                    0.2040816326530612,
                    0.22448979591836732,
                    0.24489795918367346,
                    0.26530612244897955,
                    0.2857142857142857,
                    0.3061224489795918,
                    0.32653061224489793,
                    0.3469387755102041,
                    0.36734693877551017,
                    0.3877551020408163,
                    0.4081632653061224,
                    0.42857142857142855,
                    0.44897959183673464,
                    0.4693877551020408,
                    0.4897959183673469,
                    0.5102040816326531,
                    0.5306122448979591,
                    0.5510204081632653,
                    0.5714285714285714,
                    0.5918367346938775,
                    0.6122448979591836,
                    0.6326530612244897,
                    0.6530612244897959,
                    0.673469387755102,
                    0.6938775510204082,
                    0.7142857142857142,
                    0.7346938775510203,
                    0.7551020408163265,
                    0.7755102040816326,
                    0.7959183673469387,
                    0.8163265306122448,
                    0.836734693877551,
                    0.8571428571428571,
                    0.8775510204081632,
                    0.8979591836734693,
                    0.9183673469387754,
                    0.9387755102040816,
                    0.9591836734693877,
                    0.9795918367346939,
                    1
                  ],
                  "z": [
                    [
                      4.37302626299335,
                      4.373026259088077,
                      4.3730262528497175,
                      4.373026243684652,
                      4.373026230396525,
                      4.373026211183086,
                      4.373026183406054,
                      4.373026143224347,
                      4.373026085063805,
                      4.37302600084203,
                      4.373025878862326,
                      4.373025702235069,
                      4.373025446659505,
                      4.373025077347823,
                      4.373024544880699,
                      4.373023779855647,
                      4.373022686507491,
                      4.373021136336073,
                      4.373018964836339,
                      4.37301597910474,
                      4.373011994380654,
                      4.373006939615064,
                      4.373001118928565,
                      4.372995813810861,
                      4.372994615145457,
                      4.373006297132665,
                      4.37305091587298,
                      4.373172595360188,
                      4.373466061472212,
                      4.374131122250713,
                      4.375582964849646,
                      4.378670517457915,
                      4.385091797525982,
                      4.398124808814848,
                      4.423715754658442,
                      4.4715008559362,
                      4.554180117639432,
                      4.682896454050735,
                      4.859618504198207,
                      5.073784521689534,
                      5.307503713666732,
                      5.5433076165424895,
                      5.768121798654199,
                      5.97349484895996,
                      6.1543996493261375,
                      6.308050154564139,
                      6.433241619209882,
                      6.530164181952117,
                      6.600354184688501,
                      6.646495792936558
                    ],
                    [
                      4.373026257985846,
                      4.373026253053642,
                      4.373026244842243,
                      4.373026232721445,
                      4.373026215147005,
                      4.3730261897604485,
                      4.373026153102811,
                      4.373026100142106,
                      4.373026023577624,
                      4.373025912837252,
                      4.3730257526388385,
                      4.373025520952202,
                      4.373025186142005,
                      4.373024703043008,
                      4.3730240077317974,
                      4.373023010920579,
                      4.373021590413008,
                      4.373019584408422,
                      4.373016790595845,
                      4.373012983064532,
                      4.373007974492653,
                      4.373001784149113,
                      4.372995042044893,
                      4.372989905999186,
                      4.372992073282538,
                      4.373015099313383,
                      4.3730895335428395,
                      4.373282025874412,
                      4.373734864673437,
                      4.374746786019899,
                      4.376935168390038,
                      4.38155170997944,
                      4.391062390179059,
                      4.410094630572034,
                      4.446606696143185,
                      4.512274234784974,
                      4.619811921397082,
                      4.776037309988139,
                      4.975583614732049,
                      5.202637269917016,
                      5.4387570731115815,
                      5.668874629525179,
                      5.882854140313928,
                      6.074588872064961,
                      6.240602768659712,
                      6.379069208483281,
                      6.489452214528054,
                      6.572509326272229,
                      6.63025798748435,
                      6.665710001769534
                    ],
                    [
                      4.373026250754218,
                      4.373026244660328,
                      4.3730262338607595,
                      4.373026217813724,
                      4.373026194535064,
                      4.373026160940628,
                      4.37302611249281,
                      4.3730260425925405,
                      4.373025941671918,
                      4.373025795891519,
                      4.373025585274587,
                      4.3730252810740735,
                      4.3730248421032805,
                      4.373024209743052,
                      4.373023301386741,
                      4.373022002383939,
                      4.373020157375533,
                      4.373017564015041,
                      4.373013976908563,
                      4.373009140373284,
                      4.373002891902199,
                      4.372995427988629,
                      4.37298792888897,
                      4.372983958699572,
                      4.372992514677044,
                      4.373034545467362,
                      4.373156698774741,
                      4.373459993496643,
                      4.374158928075388,
                      4.37570148591528,
                      4.379006927896834,
                      4.385916846116667,
                      4.399980584403384,
                      4.427589611991415,
                      4.478920659655359,
                      4.566894005849885,
                      4.70187530267364,
                      4.884025320632347,
                      5.101120541170811,
                      5.334796481470659,
                      5.568166223685253,
                      5.789187030074408,
                      5.990457916564633,
                      6.167767415594937,
                      6.31877015201814,
                      6.442327926893767,
                      6.538448535750534,
                      6.608395224005944,
                      6.654599178610537,
                      6.680315074136162
                    ],
                    [
                      4.373026240157639,
                      4.373026232906353,
                      4.373026218725503,
                      4.373026197457538,
                      4.373026166575921,
                      4.373026122047995,
                      4.373026057919178,
                      4.373025965526241,
                      4.373025832321606,
                      4.373025640174363,
                      4.373025362956855,
                      4.373024963144985,
                      4.373024387118012,
                      4.373023558830433,
                      4.37302237166617,
                      4.373020678776661,
                      4.373018283570429,
                      4.373014935280409,
                      4.373010341989861,
                      4.373004229860981,
                      4.372996512718025,
                      4.372987711286417,
                      4.372979919999189,
                      4.372978951194785,
                      4.372998976339667,
                      4.373072408771489,
                      4.37327068399547,
                      4.373747451916255,
                      4.374827145276716,
                      4.377183033290046,
                      4.382183283326289,
                      4.3925220439457,
                      4.413228297014984,
                      4.452831274559302,
                      4.523475170719978,
                      4.6375596530035175,
                      4.800314072676592,
                      5.004301882871161,
                      5.232602114191419,
                      5.4670029075909605,
                      5.6934203416745115,
                      5.902886429791207,
                      6.090312780054423,
                      6.252890394083607,
                      6.389036478913692,
                      6.498118274887694,
                      6.580624336488246,
                      6.63827993399784,
                      6.673860994885933,
                      6.690781645313625
                    ],
                    [
                      4.373026224371141,
                      4.373026216321028,
                      4.373026197752822,
                      4.373026169539809,
                      4.3730261285087275,
                      4.3730260693891205,
                      4.373025984363941,
                      4.373025862052698,
                      4.373025685983433,
                      4.37302543238861,
                      4.373025067076152,
                      4.373024541051502,
                      4.373023784513468,
                      4.373022698883429,
                      4.373021146787149,
                      4.373018940753943,
                      4.373015833565358,
                      4.37301151827761,
                      4.373005657427873,
                      4.372997985981776,
                      4.372988586503109,
                      4.372978549396469,
                      4.372971471964461,
                      4.372976753791403,
                      4.373016691941804,
                      4.373141532874433,
                      4.373461015003888,
                      4.374209634441533,
                      4.375879443626907,
                      4.379483116766043,
                      4.387050418208272,
                      4.402479483970756,
                      4.432714438800503,
                      4.488549262961713,
                      4.58302058708708,
                      4.725340053116576,
                      4.913448074477942,
                      5.133351263493087,
                      5.366378860054495,
                      5.596454465454035,
                      5.812760331880904,
                      6.00909035874943,
                      6.182136479246574,
                      6.330019595774073,
                      6.4516446123646904,
                      6.546791618550621,
                      6.61640637791055,
                      6.662634166362117,
                      6.688520743843161,
                      6.697560343845701
                    ],
                    [
                      4.373026200405119,
                      4.373026192734466,
                      4.373026168523844,
                      4.373026131074055,
                      4.373026076469143,
                      4.373025997841264,
                      4.373025884917733,
                      4.373025722736617,
                      4.3730254896578336,
                      4.373025154501902,
                      4.3730246725006365,
                      4.373023979670379,
                      4.37302298517412,
                      4.373021561356527,
                      4.373019531611642,
                      4.373016657654513,
                      4.373012631200904,
                      4.373007083043848,
                      4.37299964022252,
                      4.372990100571248,
                      4.372978876420583,
                      4.37296803421761,
                      4.372963624925797,
                      4.372980768416126,
                      4.373054547969364,
                      4.373263035126558,
                      4.373775340214111,
                      4.374950408026224,
                      4.377535748565487,
                      4.383052428204529,
                      4.394489344803253,
                      4.417380197299037,
                      4.460931789945754,
                      4.53774155234145,
                      4.659597925054981,
                      4.829669815805669,
                      5.038202488614453,
                      5.267275257881809,
                      5.499146003644613,
                      5.72092632237475,
                      5.924974976403054,
                      6.107331194471215,
                      6.2659045970587135,
                      6.399352398380345,
                      6.506906227036016,
                      6.588738175489133,
                      6.646242156911985,
                      6.681931434268511,
                      6.699042511845296,
                      6.7010777020457954
                    ],
                    [
                      4.373026163233631,
                      4.373026158900524,
                      4.373026127547785,
                      4.3730260778163865,
                      4.373026005037738,
                      4.3730259002708,
                      4.373025750024988,
                      4.373025534611882,
                      4.3730252255767885,
                      4.373024781988134,
                      4.373024145204039,
                      4.373023231661955,
                      4.373021923213921,
                      4.373020054794542,
                      4.3730174000554936,
                      4.373013657895642,
                      4.373008448296676,
                      4.373001338345273,
                      4.372991946868439,
                      4.372980235580855,
                      4.3729672219005105,
                      4.372956617496236,
                      4.372958462042364,
                      4.372996999751196,
                      4.373127479347022,
                      4.373471511646977,
                      4.374290454105972,
                      4.37613492088641,
                      4.380140399532881,
                      4.388580689717102,
                      4.405796442635094,
                      4.439403702479243,
                      4.500867979094213,
                      4.603151313821168,
                      4.75383969426697,
                      4.948262799409908,
                      5.17066330527044,
                      5.402305954077322,
                      5.628160102067873,
                      5.83880484112672,
                      6.029351907557727,
                      6.197471082691739,
                      6.341769142153253,
                      6.461168608624045,
                      6.5551756846243805,
                      6.624374073210765,
                      6.670590161318051,
                      6.696639926705862,
                      6.7058713144353534,
                      6.701733377258214
                    ],
                    [
                      4.373026104162088,
                      4.373026109928743,
                      4.373026069744471,
                      4.3730260037073005,
                      4.373025906554153,
                      4.373025766703938,
                      4.3730255664262225,
                      4.373025279798172,
                      4.373024869377591,
                      4.373024281393546,
                      4.373023439005803,
                      4.373022233094496,
                      4.373020510123078,
                      4.373018057096646,
                      4.373014585112702,
                      4.373009716722799,
                      4.373002991054525,
                      4.372993920195526,
                      4.37298217331015,
                      4.372968057260363,
                      4.37295365949607,
                      4.372945435021643,
                      4.3729598914392005,
                      4.373035839700962,
                      4.373260402739647,
                      4.373823475560484,
                      4.375129902731444,
                      4.3780249505891415,
                      4.384228633743937,
                      4.397106533789292,
                      4.422816525111958,
                      4.471343775822747,
                      4.55565574796286,
                      4.686518642609353,
                      4.864538950907589,
                      5.077504019139152,
                      5.306710730105284,
                      5.535154349829606,
                      5.751332004725574,
                      5.949060021007981,
                      6.125594718648671,
                      6.279607072434721,
                      6.409987852358851,
                      6.515794209686003,
                      6.596834617540909,
                      6.654132408857702,
                      6.6899116982939555,
                      6.707215686474154,
                      6.709429023621307,
                      6.699898887762965
                    ],
                    [
                      4.3730260076704095,
                      4.373026038361766,
                      4.373025987672928,
                      4.373025900039861,
                      4.373025770164075,
                      4.37302558312725,
                      4.373025315639617,
                      4.373024933547527,
                      4.373024387544993,
                      4.373023606956757,
                      4.373022491074461,
                      4.373020897457829,
                      4.37301862685013,
                      4.3730154052036525,
                      4.373010865851261,
                      4.37300454086005,
                      4.3729958844718455,
                      4.372984382435707,
                      4.372969868128479,
                      4.372953310581162,
                      4.372938646080466,
                      4.372936871363505,
                      4.372974968657053,
                      4.373115031243352,
                      4.373494659159855,
                      4.374410984608416,
                      4.376491867820947,
                      4.381033084897383,
                      4.390622174224746,
                      4.4101540679705185,
                      4.448042609976652,
                      4.516434525981562,
                      4.627910485975338,
                      4.787876420249018,
                      4.988738151128996,
                      5.213120994850742,
                      5.442527096267179,
                      5.663193251848348,
                      5.867233525990221,
                      6.051173151550963,
                      6.213719713106467,
                      6.35398115498628,
                      6.470872425789256,
                      6.563580788453921,
                      6.632283773979603,
                      6.678456222293646,
                      6.704663882588806,
                      6.714096999152924,
                      6.710111487973216,
                      6.695917432647759
                    ],
                    [
                      4.373025845080774,
                      4.373025932710757,
                      4.373025870361491,
                      4.37302575423773,
                      4.373025580391235,
                      4.373025329769522,
                      4.373024971804798,
                      4.3730244614783675,
                      4.373023733820117,
                      4.3730226958949645,
                      4.373021215710532,
                      4.373019107480078,
                      4.373016113109291,
                      4.373011881411448,
                      4.373005950649223,
                      4.3729977497788175,
                      4.372986655896984,
                      4.372972194196975,
                      4.372954572293603,
                      4.372935966862116,
                      4.372923460219298,
                      4.372935533067134,
                      4.373016122371281,
                      4.373264576310387,
                      4.3738985310539125,
                      4.375383508315779,
                      4.378692746308212,
                      4.3858033574033115,
                      4.400557547608867,
                      4.42987144561359,
                      4.484587219380705,
                      4.577858569291936,
                      4.718895289651792,
                      4.905260687440587,
                      5.122299500307797,
                      5.350846779654886,
                      5.574906640010754,
                      5.784516031444457,
                      5.975044441244678,
                      6.145032880493075,
                      6.293948009297647,
                      6.4209075594090885,
                      6.524757162330855,
                      6.604895810792834,
                      6.66193783966317,
                      6.6977920870842915,
                      6.715293176806976,
                      6.717700217261131,
                      6.708287107741472,
                      6.69010470883292
                    ],
                    [
                      4.373025561330087,
                      4.373025775068045,
                      4.373025701514602,
                      4.373025548034133,
                      4.373025315071384,
                      4.373024978608941,
                      4.37302449858677,
                      4.373023815647876,
                      4.373022844139808,
                      4.37302146182524,
                      4.373019495766601,
                      4.373016703931906,
                      4.3730127529656135,
                      4.373007195343128,
                      4.372999455943973,
                      4.372988853856259,
                      4.372974720659371,
                      4.372956753729737,
                      4.372935910038018,
                      4.372916502109273,
                      4.37291091118866,
                      4.372949912905847,
                      4.37310488538395,
                      4.373534836279462,
                      4.374584324469019,
                      4.376982663701597,
                      4.382233765842426,
                      4.393325500996802,
                      4.415837811113198,
                      4.459104482224216,
                      4.535887649248915,
                      4.657937950674278,
                      4.827879194977056,
                      5.0350205332343405,
                      5.260666580828446,
                      5.4868931507998955,
                      5.701393707586602,
                      5.897913728629,
                      6.074457427160046,
                      6.230815386699437,
                      6.366609444777248,
                      6.480724057205364,
                      6.5719846071089245,
                      6.640119897970299,
                      6.686221163253278,
                      6.712583991600734,
                      6.7222299509347385,
                      6.71841678493416,
                      6.704296450736455,
                      6.682750453681898
                    ],
                    [
                      4.373025046023457,
                      4.373025537200867,
                      4.373025456766045,
                      4.373025254746538,
                      4.373024942303397,
                      4.373024489756203,
                      4.373023844724816,
                      4.373022928953259,
                      4.373021629491691,
                      4.3730197855605875,
                      4.373017170739584,
                      4.3730134703344365,
                      4.373008255509857,
                      4.373000960444144,
                      4.372990879972172,
                      4.37297723080413,
                      4.372959376073568,
                      4.372937436254671,
                      4.372913774245372,
                      4.372896406007106,
                      4.3729065763749135,
                      4.3729952199158335,
                      4.373278125819613,
                      4.374009844491731,
                      4.375735893202034,
                      4.379596481539486,
                      4.38789922835457,
                      4.405083479336515,
                      4.438967267048455,
                      4.501280934889445,
                      4.6050429090324565,
                      4.757260210121381,
                      4.952063693661161,
                      5.172558319533658,
                      5.399517279241251,
                      5.61820403091867,
                      5.820303981427849,
                      6.002797386500694,
                      6.165554987931014,
                      6.308865990124589,
                      6.432069814660489,
                      6.533766713247314,
                      6.612902474343331,
                      6.669645102632173,
                      6.7055628930476745,
                      6.723267219222449,
                      6.7258841970816645,
                      6.716611595363187,
                      6.69845287144434,
                      6.674120554710446
                    ],
                    [
                      4.373024066521646,
                      4.373025174004951,
                      4.3730250994193,
                      4.373024835185909,
                      4.373024415950805,
                      4.373023806173128,
                      4.373022937609691,
                      4.373021707131308,
                      4.373019965794306,
                      4.373017502210014,
                      4.373014020309745,
                      4.373009112106997,
                      4.373002229099668,
                      4.372992663854873,
                      4.3729795717225075,
                      4.372962104200624,
                      4.372939816451907,
                      4.3729137087615,
                      4.372888683578034,
                      4.372879094445582,
                      4.372920942304651,
                      4.37309816957495,
                      4.373598412540945,
                      4.3748290474332645,
                      4.377652445156985,
                      4.383841958426369,
                      4.396892827846184,
                      4.423218750080462,
                      4.473173789179427,
                      4.559953917710827,
                      4.693874036414969,
                      4.874188625505453,
                      5.087136994146678,
                      5.313135916142912,
                      5.535173510354407,
                      5.742542804159531,
                      5.930673090579158,
                      6.099082597865438,
                      6.248675665989124,
                      6.379598936844905,
                      6.490686691172112,
                      6.580362639153656,
                      6.647866005449365,
                      6.693873618547157,
                      6.720391772870166,
                      6.730263069753663,
                      6.726642368917958,
                      6.712622303665469,
                      6.691043913858401,
                      6.664459515471225
                    ],
                    [
                      4.373022102716148,
                      4.373024612525089,
                      4.3730245738028986,
                      4.373024231478123,
                      4.373023668972919,
                      4.373022845952441,
                      4.37302167397787,
                      4.3730200172825535,
                      4.373017679541781,
                      4.37301438307699,
                      4.373009741555704,
                      4.373003228277417,
                      4.3729941474159055,
                      4.37298162876278,
                      4.372964696862627,
                      4.372942532752665,
                      4.372915193503919,
                      4.372885371157848,
                      4.3728624472450885,
                      4.3728715237857925,
                      4.3729730861473755,
                      4.373305057497893,
                      4.374171169469034,
                      4.376222476583528,
                      4.380816873099099,
                      4.390685191339592,
                      4.411007030643988,
                      4.4506446974550276,
                      4.522163447127315,
                      4.637950882203752,
                      4.80209218679028,
                      5.005069102824167,
                      5.228145367757736,
                      5.452474172448377,
                      5.664786980473101,
                      5.858477476668331,
                      6.032157457960808,
                      6.18705038920319,
                      6.324287498816349,
                      6.443426214997597,
                      6.542791160231378,
                      6.620833883967481,
                      6.677240409732264,
                      6.713214474827871,
                      6.731130349300916,
                      6.733974307856235,
                      6.724865393763965,
                      6.70675988191638,
                      6.682333224120333,
                      6.653993197091704
                    ],
                    [
                      4.373017905086664,
                      4.373023733085399,
                      4.373023794887834,
                      4.37302335769397,
                      4.373022603492426,
                      4.373021490969429,
                      4.373019906405649,
                      4.373017671385103,
                      4.373014527393147,
                      4.373010110266438,
                      4.373003917504073,
                      4.3729952733368,
                      4.372983305462533,
                      4.372966969366304,
                      4.372945205989269,
                      4.372917428045301,
                      4.3728847681461,
                      4.3728530312851435,
                      4.372839376002226,
                      4.372887020586682,
                      4.37309697472498,
                      4.37369530677928,
                      4.37517285741262,
                      4.378566799651641,
                      4.385998917794154,
                      4.401603281208517,
                      4.4327895159424235,
                      4.490980919020211,
                      4.589461164750387,
                      4.736353750385587,
                      4.927060047221654,
                      5.145016659566096,
                      5.370285862492836,
                      5.587078055288292,
                      5.78637634129862,
                      5.965304787209011,
                      6.124901877137259,
                      6.267202108184567,
                      6.392885253214129,
                      6.50071876073469,
                      6.588688312507179,
                      6.655504963788832,
                      6.701402169776626,
                      6.728079016232878,
                      6.738189624674842,
                      6.73478178635964,
                      6.720887870636309,
                      6.699309644715309,
                      6.672562868452862,
                      6.642931693103504
                    ],
                    [
                      4.373008195124182,
                      4.373022336525216,
                      4.3730226318181975,
                      4.373022085558378,
                      4.373021075962276,
                      4.3730195701677355,
                      4.373017423630951,
                      4.373014402550062,
                      4.373010167144202,
                      4.373004241090509,
                      4.3729959739288935,
                      4.37298450640295,
                      4.372968764041114,
                      4.372947540963706,
                      4.372919817742442,
                      4.372885636084842,
                      4.372848238797734,
                      4.372819006145033,
                      4.372828457442503,
                      4.37295020954499,
                      4.37335219359891,
                      4.374404066320692,
                      4.376896748564613,
                      4.3824724912489,
                      4.3944025419409956,
                      4.418772771394447,
                      4.465610301401881,
                      4.548125977403305,
                      4.677380458758827,
                      4.853820709466395,
                      5.064313045887588,
                      5.288852822621675,
                      5.50941452640606,
                      5.714351962353181,
                      5.898781480878029,
                      6.062934270946887,
                      6.209387973655541,
                      6.340126374528859,
                      6.454921573600633,
                      6.551795710210806,
                      6.628668201531341,
                      6.684709781212269,
                      6.720737370776149,
                      6.738875438224396,
                      6.741964317668936,
                      6.733042131806565,
                      6.715018217843128,
                      6.690533081655391,
                      6.661955972267159,
                      6.631472259065034
                    ],
                    [
                      4.372983415716257,
                      4.373020086208211,
                      4.373020881770658,
                      4.373020222595735,
                      4.37301887492251,
                      4.3730168348652185,
                      4.373013921836208,
                      4.373009830784522,
                      4.373004116427791,
                      4.372996158298408,
                      4.372985120412276,
                      4.372969924629986,
                      4.37294928275246,
                      4.372921893207505,
                      4.37288704329513,
                      4.37284615036935,
                      4.372806402884086,
                      4.372788993104991,
                      4.372847226091889,
                      4.373105551444331,
                      4.373842131368154,
                      4.375659582500435,
                      4.379825939538956,
                      4.38891401518694,
                      4.407856504198171,
                      4.4452228148239215,
                      4.513456297496457,
                      4.625364583916388,
                      4.786016560299103,
                      4.986686085993739,
                      5.208525472781551,
                      5.431825648724952,
                      5.642277247626361,
                      5.832593821357644,
                      6.001569603311001,
                      6.151743271355756,
                      6.286279469672403,
                      6.406394479373558,
                      6.510774089076437,
                      6.596933146808843,
                      6.6630191499070115,
                      6.708795495638459,
                      6.7356378021019765,
                      6.746003297950578,
                      6.742829101073763,
                      6.729086616105678,
                      6.707539565864268,
                      6.680669986143232,
                      6.650719527723483,
                      6.619802133512805
                    ],
                    [
                      4.372912226494551,
                      4.373016403683035,
                      4.373018228025509,
                      4.373017478487771,
                      4.373015687543411,
                      4.373012922166559,
                      4.373008962670109,
                      4.3730034135913325,
                      4.372995694054199,
                      4.372985000839443,
                      4.372970270896393,
                      4.3729501784494405,
                      4.372923245519225,
                      4.372888246024725,
                      4.37284530638872,
                      4.372798585294509,
                      4.372762437640966,
                      4.37277512344975,
                      4.3729286030232934,
                      4.373432065368053,
                      4.374744592518823,
                      4.37784416462229,
                      4.384746336025951,
                      4.399410944800035,
                      4.429015013629497,
                      4.484811838150591,
                      4.580264313257839,
                      4.724207379902419,
                      4.912849347517938,
                      5.129782572589025,
                      5.35443419238248,
                      5.57000276333158,
                      5.766561817372037,
                      5.940926851025646,
                      6.094907692673973,
                      6.2324150024841245,
                      6.356283400024001,
                      6.466494063728461,
                      6.560742728404178,
                      6.636382661282784,
                      6.692039216156324,
                      6.728122381433047,
                      6.746495748332675,
                      6.749848447762309,
                      6.741135906774459,
                      6.723221019524755,
                      6.698711307483754,
                      6.669940965761636,
                      6.639047169008577,
                      6.608101317690055
                    ],
                    [
                      4.3726788315567715,
                      4.3730102772334964,
                      4.3730141723078235,
                      4.373013413137182,
                      4.373011049146402,
                      4.373007300672175,
                      4.373001911798819,
                      4.372994374723174,
                      4.372983936925139,
                      4.372969568318023,
                      4.372949938689598,
                      4.372923468822709,
                      4.372888591877689,
                      4.372844530679468,
                      4.372793265083973,
                      4.372744150793591,
                      4.372724320827417,
                      4.372801487257194,
                      4.373132918512864,
                      4.374068572558725,
                      4.376362798335695,
                      4.381591402924407,
                      4.392912669422756,
                      4.416248260886555,
                      4.461466920184536,
                      4.54181299582538,
                      4.6687896107530475,
                      4.843532465387865,
                      5.053231791238675,
                      5.277501038909343,
                      5.4974394375491435,
                      5.700411995741999,
                      5.880860170696567,
                      6.0391945797059075,
                      6.179407947838878,
                      6.305775123773994,
                      6.4200434062476255,
                      6.520802453241056,
                      6.605067336736863,
                      6.670390778279746,
                      6.716042519175303,
                      6.743060597624555,
                      6.753698190106018,
                      6.750778812598408,
                      6.737212522392069,
                      6.715726296840291,
                      6.6887711162465395,
                      6.658550134670379,
                      6.627122030755871,
                      6.596545103242363
                    ],
                    [
                      4.371807260049403,
                      4.372999903034213,
                      4.373007924677222,
                      4.373007356116063,
                      4.373004266852172,
                      4.372999189781408,
                      4.372991849007388,
                      4.3729816017044785,
                      4.372967483120565,
                      4.372948190930461,
                      4.372922101927225,
                      4.372887433660485,
                      4.372842786566385,
                      4.37278858448052,
                      4.372730541350946,
                      4.372687578144796,
                      4.372709336154331,
                      4.372914058867477,
                      4.37356893270152,
                      4.375256627138814,
                      4.379208903416538,
                      4.387935308696393,
                      4.406270497620166,
                      4.442671658591105,
                      4.50955455145868,
                      4.619953064364118,
                      4.779420007875796,
                      4.979588042577275,
                      5.2014485580752465,
                      5.424624918591653,
                      5.633877517328319,
                      5.821044629016564,
                      5.984586995292372,
                      6.12782524551331,
                      6.255956271845801,
                      6.372646614520637,
                      6.478075984555055,
                      6.569592580789092,
                      6.6439541736971455,
                      6.699214920386638,
                      6.735360725866658,
                      6.753984966799524,
                      6.757621347288872,
                      6.749141354028495,
                      6.731362000169128,
                      6.706859841688866,
                      6.677937295723303,
                      6.646687815199771,
                      6.6151194920173015,
                      6.585306354398555
                    ],
                    [
                      4.368197980835828,
                      4.372981996873245,
                      4.372998223081319,
                      4.37299828127857,
                      4.3729943038751165,
                      4.372987439707281,
                      4.372977436801343,
                      4.3729634989466275,
                      4.3729444088860765,
                      4.372918556295748,
                      4.372884040585728,
                      4.372839046964505,
                      4.372782900614362,
                      4.372718676450802,
                      4.372659252595528,
                      4.372640830041602,
                      4.372752371858841,
                      4.3731984210842585,
                      4.374430334681785,
                      4.377412554605625,
                      4.384136771562818,
                      4.398523837544745,
                      4.4277007043717935,
                      4.482896420487496,
                      4.577662214332665,
                      4.721085499916205,
                      4.909631470238349,
                      5.126861963436756,
                      5.3517682177115296,
                      5.566787242290317,
                      5.761086827033678,
                      5.930798343203188,
                      6.0778684400469505,
                      6.207668816122757,
                      6.32553946581689,
                      6.433740584377316,
                      6.530750410574101,
                      6.613060341716535,
                      6.677602192688967,
                      6.723132578653915,
                      6.750340330242382,
                      6.761268866177533,
                      6.758625914980371,
                      6.745260123920593,
                      6.72386311800069,
                      6.6968573476501305,
                      6.66641132453982,
                      6.634533332542264,
                      6.603209727870785,
                      6.574557367658397
                    ],
                    [
                      4.353379878166786,
                      4.3729504385888145,
                      4.3729830350967624,
                      4.372984610847454,
                      4.372979603952387,
                      4.372970353233324,
                      4.372956729092466,
                      4.372937779006414,
                      4.372912005169893,
                      4.372877487196126,
                      4.3728321593037185,
                      4.372774589743698,
                      4.372705957940608,
                      4.37263471489502,
                      4.372587092825385,
                      4.372630134166777,
                      4.372921084700399,
                      4.373811203111198,
                      4.37605842552917,
                      4.381245567298844,
                      4.3925422966392,
                      4.415886460956303,
                      4.461168645241261,
                      4.541665681369196,
                      4.6689309795024885,
                      4.844148038660516,
                      5.054469636990582,
                      5.279271355396412,
                      5.499133373791772,
                      5.700635552265747,
                      5.877379661982864,
                      6.029389685728626,
                      6.161399586460185,
                      6.279814613863722,
                      6.389092836738055,
                      6.489595135355187,
                      6.578304326077835,
                      6.651359663248768,
                      6.706223556707641,
                      6.742444120459628,
                      6.76133727618358,
                      6.765278146627596,
                      6.757053564752473,
                      6.739435451732955,
                      6.714971348512914,
                      6.685935019752671,
                      6.654380489810058,
                      6.622257720276645,
                      6.591560084726377,
                      6.5644712956825115
                    ],
                    [
                      4.333471321899618,
                      4.372893519591934,
                      4.3729590611681655,
                      4.372963908513765,
                      4.372957824938863,
                      4.372945421623196,
                      4.3729268943454525,
                      4.372901169666701,
                      4.372866479348726,
                      4.372820674749502,
                      4.372761842146147,
                      4.372689827398623,
                      4.372609863321091,
                      4.372540818839686,
                      4.372533374222286,
                      4.372709163454335,
                      4.373343398710588,
                      4.375035306036206,
                      4.379047771534581,
                      4.387943653074296,
                      4.406637461419385,
                      4.443678665090555,
                      4.511530896099459,
                      4.623144951932007,
                      4.783859122522174,
                      4.985102861990759,
                      5.207729388254418,
                      5.43111397257575,
                      5.639474711341435,
                      5.823845455704525,
                      5.9819756944061515,
                      6.117237124014122,
                      6.23627107035861,
                      6.345408155617435,
                      6.447388303897877,
                      6.54056277512304,
                      6.620881520133167,
                      6.684636267083675,
                      6.730055601967686,
                      6.757470459991044,
                      6.7687103494317595,
                      6.766365854800409,
                      6.753224494267536,
                      6.7319439059196355,
                      6.704920574419185,
                      6.674291935047513,
                      6.642020613042907,
                      6.610026312852496,
                      6.580337059195544,
                      6.555222910887041
                    ],
                    [
                      4.652525482864174,
                      4.372788144677067,
                      4.3729209003863385,
                      4.3729323975390395,
                      4.372925435190769,
                      4.3729089353763335,
                      4.372883819394772,
                      4.372849011524509,
                      4.372802575127255,
                      4.372742399628871,
                      4.372667455564398,
                      4.372580680396128,
                      4.372495544825418,
                      4.372450569680036,
                      4.372540669942639,
                      4.372983497456781,
                      4.37425689842623,
                      4.377375369859083,
                      4.3844184518673766,
                      4.3994448253239264,
                      4.429755035684511,
                      4.486694976805117,
                      4.583686627726701,
                      4.7293505096529085,
                      4.919637256456168,
                      5.137909561000777,
                      5.363151578379458,
                      5.577590146713426,
                      5.769792294822792,
                      5.935074937569091,
                      6.074909426856816,
                      6.195309079375425,
                      6.303774210604944,
                      6.405490668034451,
                      6.500976734113833,
                      6.586836906799687,
                      6.658576758068596,
                      6.713052484666371,
                      6.749364896509231,
                      6.768547368268013,
                      6.772814443014199,
                      6.7648681096653105,
                      6.747436212404845,
                      6.723039153691781,
                      6.693925067559719,
                      6.6621126328222395,
                      6.629498690836139,
                      6.5980011240524945,
                      6.569707984190091,
                      6.546988674816167
                    ],
                    [
                      5.0947170520726,
                      4.372587046372687,
                      4.372859638261376,
                      4.372884203542549,
                      4.372877104518372,
                      4.372855416325014,
                      4.372821552888129,
                      4.372774725280029,
                      4.3727131294975825,
                      4.372635341817824,
                      4.372542765522814,
                      4.3724449870599456,
                      4.372371561447417,
                      4.372397458102024,
                      4.372696955704973,
                      4.373655544243801,
                      4.376096254994507,
                      4.381718220267221,
                      4.393880275558337,
                      4.418777318691041,
                      4.466520921587383,
                      4.5502991189227,
                      4.681012032806755,
                      4.858919747008717,
                      5.070709853610939,
                      5.295889205437059,
                      5.51520866758522,
                      5.714993051376246,
                      5.88813610658717,
                      6.03389101150197,
                      6.156903851687235,
                      6.264936901337141,
                      6.365206597827595,
                      6.460885626569898,
                      6.550184116878155,
                      6.628501058901201,
                      6.691476735766093,
                      6.736802259674219,
                      6.76444504207879,
                      6.776018198647439,
                      6.773994551038607,
                      6.761101156212438,
                      6.739963133862562,
                      6.712953403824059,
                      6.682181759513509,
                      6.6495696983770936,
                      6.616975497521287,
                      6.586343034350528,
                      6.559842050516333,
                      6.5399458759408295
                    ],
                    [
                      5.262661205984792,
                      4.3721888692418025,
                      4.37276043766049,
                      4.372810165789709,
                      4.372804792381169,
                      4.372776802332361,
                      4.372731547872715,
                      4.372669151908231,
                      4.372588653547986,
                      4.372490730651518,
                      4.372382347285278,
                      4.372286573647204,
                      4.372263619836474,
                      4.372455282357891,
                      4.373177192579497,
                      4.375105852639054,
                      4.37964415043858,
                      4.389589070156135,
                      4.410192796159669,
                      4.450349331776913,
                      4.5225471170151845,
                      4.6390000791710495,
                      4.803689156725943,
                      5.007097877066297,
                      5.230165495579344,
                      5.452811534003385,
                      5.65946065833411,
                      5.840731006599364,
                      5.993547539705951,
                      6.1206665952493715,
                      6.229204041117837,
                      6.3276070895190175,
                      6.421704930586143,
                      6.512145890331786,
                      6.595150303242526,
                      6.665584057650357,
                      6.719689980793735,
                      6.756116096917396,
                      6.775610493094322,
                      6.780226313823554,
                      6.772581062201543,
                      6.755359608749089,
                      6.73105722557737,
                      6.70189918262987,
                      6.669872693643099,
                      6.636826428050552,
                      6.604607995624739,
                      6.575213472616255,
                      6.55091073631313,
                      6.5342708564895995
                    ],
                    [
                      5.365766546961766,
                      4.3713625500246,
                      4.37259839994027,
                      4.37269597878731,
                      4.372696402372261,
                      4.372661310714222,
                      4.372601688688351,
                      4.372519844843772,
                      4.372417188300169,
                      4.372299417064458,
                      4.372185205666736,
                      4.372124066036281,
                      4.372233716975669,
                      4.372777357915645,
                      4.374320242870756,
                      4.378036913022597,
                      4.386280428915826,
                      4.403522556717969,
                      4.437539614473226,
                      4.499869504109693,
                      4.60322981867343,
                      4.7545025322607835,
                      4.9480328542567,
                      5.166967666157441,
                      5.391124645398601,
                      5.6034820379488925,
                      5.792647520059349,
                      5.953283111464926,
                      6.08597272965706,
                      6.196437927570191,
                      6.293375056229697,
                      6.384756522459832,
                      6.4741319155718395,
                      6.559560509701022,
                      6.635890631761271,
                      6.698108523693347,
                      6.743364086149927,
                      6.771258772456894,
                      6.783188438989061,
                      6.781508400000289,
                      6.768886123629065,
                      6.747915804282077,
                      6.720949135095328,
                      6.690071495530186,
                      6.657167550842477,
                      6.624039333477056,
                      6.592551544730931,
                      6.564775867592583,
                      6.5430874840358655,
                      6.530136165928728
                    ],
                    [
                      5.4655572729357775,
                      4.369536518549946,
                      4.372331411757657,
                      4.372519312571214,
                      4.37253384549538,
                      4.372491934492673,
                      4.372415180742538,
                      4.372310587712716,
                      4.372185060411953,
                      4.372055148510677,
                      4.371963119794714,
                      4.372009251862953,
                      4.372417876511941,
                      4.37367063336266,
                      4.376767972090595,
                      4.383717385183866,
                      4.398360281747784,
                      4.42749845608265,
                      4.481636185212177,
                      4.573397986617522,
                      4.711680411328285,
                      4.894377745892095,
                      5.10736299820348,
                      5.331085170290107,
                      5.54762457424902,
                      5.743948234059137,
                      5.912664310593602,
                      6.052120831929345,
                      6.166139548367908,
                      6.262720439301136,
                      6.3510828212806665,
                      6.437602136718473,
                      6.523030196614847,
                      6.603206592538102,
                      6.672361849892969,
                      6.7261254371444705,
                      6.762691541602211,
                      6.782522498046775,
                      6.787510305688147,
                      6.78018889947396,
                      6.76320147279484,
                      6.739020092954289,
                      6.70984985049073,
                      6.677650169065793,
                      6.644226210745676,
                      6.611360604810669,
                      6.580961831523139,
                      6.555196305661852,
                      6.536546346867853,
                      6.527706655295821
                    ],
                    [
                      5.557649017544357,
                      4.3651412824871665,
                      4.37188773397554,
                      4.372245425957593,
                      4.372290377471716,
                      4.372244654581996,
                      4.372149642566394,
                      4.372021880665428,
                      4.371879988346826,
                      4.371762787087288,
                      4.371758814604409,
                      4.372064344173651,
                      4.373099131964482,
                      4.37573265903882,
                      4.381707501497089,
                      4.394367024330509,
                      4.419696736303043,
                      4.467200254338274,
                      4.549029934913378,
                      4.675282951736262,
                      4.846814389601441,
                      5.05241095151749,
                      5.2737842713698395,
                      5.492716977740986,
                      5.6949970577375355,
                      5.871508794129051,
                      6.0184848647200315,
                      6.137595986424922,
                      6.235393560587582,
                      6.321294449998451,
                      6.40388383821134,
                      6.487030768654352,
                      6.568641238107088,
                      6.643024105160546,
                      6.704518016717548,
                      6.749733609809312,
                      6.77790705872588,
                      6.790217681540305,
                      6.788904222279526,
                      6.776575829426348,
                      6.7557974433779515,
                      6.728901709730014,
                      6.6979526757476835,
                      6.6648022378603535,
                      6.631201238224272,
                      6.598940336727656,
                      6.569996386049573,
                      6.546643619799968,
                      6.531459806132419,
                      6.527134675888626
                    ],
                    [
                      5.635711206213311,
                      4.353340446567321,
                      4.37114446011147,
                      4.371820697203657,
                      4.371927257367638,
                      4.371886840413326,
                      4.371777399089312,
                      4.371634218493168,
                      4.3714997787691665,
                      4.371457221719895,
                      4.371684148584805,
                      4.372555929721811,
                      4.374845430365211,
                      4.380095748037694,
                      4.391265216925625,
                      4.413678454703807,
                      4.455941209761928,
                      4.5295413833325275,
                      4.6451224109301235,
                      4.805778125581026,
                      5.003064977448742,
                      5.220385041013022,
                      5.439803886651526,
                      5.646456581255828,
                      5.829936904815064,
                      5.9846359159069396,
                      6.110049647236309,
                      6.210791092886647,
                      6.295499176766779,
                      6.373979708472986,
                      6.453055858636244,
                      6.533562115406946,
                      6.610971050476722,
                      6.678892388645495,
                      6.732349519952219,
                      6.769085880908286,
                      6.789279820173086,
                      6.794663485115549,
                      6.787688561224002,
                      6.7709580832147385,
                      6.746922837989073,
                      6.717770262414115,
                      6.685435433196074,
                      6.651684489080002,
                      6.618240337213372,
                      6.586928564335062,
                      6.559815633097924,
                      6.539288602569473,
                      6.527995361202105,
                      6.52855455691946
                    ],
                    [
                      5.702605445144772,
                      4.318184105901949,
                      4.369890350201076,
                      4.371163665689966,
                      4.371390407234461,
                      4.371377341516354,
                      4.371269552094322,
                      4.371138407378265,
                      4.371073661441308,
                      4.371244814096085,
                      4.371998224773159,
                      4.374038145151673,
                      4.37876120997039,
                      4.388835247388704,
                      4.409066398934653,
                      4.447299587955488,
                      4.514305703119758,
                      4.620811108033944,
                      4.7714283530265655,
                      4.960080273430206,
                      5.17202147388839,
                      5.390073131378754,
                      5.5992569429080845,
                      5.788389452022831,
                      5.95042421091635,
                      6.082851655150354,
                      6.188119982404219,
                      6.273336684212407,
                      6.348419802266159,
                      6.4224266144210835,
                      6.499493426317708,
                      6.577380173890006,
                      6.649878127670045,
                      6.710693291530344,
                      6.755904410821218,
                      6.784386024285866,
                      6.797103005952921,
                      6.796179307153297,
                      6.784167164797654,
                      6.763604032876173,
                      6.736805646900511,
                      6.705817580900382,
                      6.6724628407657205,
                      6.638445866408546,
                      6.605488602660927,
                      6.57547696895613,
                      6.550583262742132,
                      6.533302265351129,
                      6.526311251398306,
                      6.53207672632093
                    ],
                    [
                      5.764991324827923,
                      4.218957141906769,
                      4.367762841329818,
                      4.370154273803406,
                      4.3706095518600305,
                      4.370672333584458,
                      4.370610060682051,
                      4.370562505439054,
                      4.370711268999434,
                      4.371391218530538,
                      4.373262907743634,
                      4.377620342211757,
                      4.386919148537943,
                      4.405571902672059,
                      4.440808816255201,
                      4.50272272218205,
                      4.60183856928148,
                      4.743666762937792,
                      4.9239493221082995,
                      5.129691729487767,
                      5.34475798792788,
                      5.554535662099725,
                      5.747614362740898,
                      5.916022293682733,
                      6.055578529735993,
                      6.166572974438478,
                      6.254105076586645,
                      6.327207099884789,
                      6.396095485513922,
                      6.467951802228525,
                      6.543681030394907,
                      6.6184128662646105,
                      6.685160209235814,
                      6.738354293299463,
                      6.775294722653979,
                      6.795879522500213,
                      6.801683349276497,
                      6.795077370572725,
                      6.778626161875437,
                      6.754761056467727,
                      6.725654272569233,
                      6.693219740033804,
                      6.659188858046851,
                      6.625229897733119,
                      6.59309064005772,
                      6.564740126407352,
                      6.542465951519395,
                      6.528853071188939,
                      6.526551285464097,
                      6.537781909531591
                    ],
                    [
                      5.826966252506503,
                      4.101449070146998,
                      4.364145750038657,
                      4.368625840749643,
                      4.369507044764108,
                      4.369747092214227,
                      4.36983431503824,
                      4.370036403394755,
                      4.3707103825414855,
                      4.372501777372903,
                      4.3766414141495975,
                      4.385438395047891,
                      4.403018187616968,
                      4.436135442597599,
                      4.494293599358985,
                      4.58767345279334,
                      4.7222084059464065,
                      4.894888550764978,
                      5.094169534726386,
                      5.305025322863658,
                      5.5135491211855605,
                      5.708623233531524,
                      5.881933649015177,
                      6.0281062502624785,
                      6.145480159035019,
                      6.236937445285479,
                      6.309873132393352,
                      6.374506017632717,
                      6.440241383737284,
                      6.511441544136241,
                      6.58573693491559,
                      6.656432529946084,
                      6.716624285400631,
                      6.761871192614758,
                      6.790692513280311,
                      6.803842103415113,
                      6.803331333372956,
                      6.791657419918844,
                      6.771332006347836,
                      6.744656015037306,
                      6.713659234710418,
                      6.6801393662030675,
                      6.645759134729921,
                      6.612176970871095,
                      6.58119236501515,
                      6.554876221361487,
                      6.535632087442794,
                      6.526103182705887,
                      6.528839089500341,
                      6.545715971351736
                    ],
                    [
                      5.888875912190671,
                      4.167018931343032,
                      4.358019707424341,
                      4.3663758505103045,
                      4.368035384343363,
                      4.368657994869979,
                      4.369124752143128,
                      4.369938714635468,
                      4.37178525483644,
                      4.375877555469818,
                      4.38443750342909,
                      4.401393357084268,
                      4.43314683534453,
                      4.488717166489763,
                      4.577893721961257,
                      4.706707406654609,
                      4.872894193990343,
                      5.065963947367995,
                      5.271871870284133,
                      5.477563420160088,
                      5.672618010967685,
                      5.8489696899903265,
                      6.000644919666781,
                      6.124418529402967,
                      6.220980753152986,
                      6.295623088105152,
                      6.357555414075682,
                      6.417255903639299,
                      6.48219122973166,
                      6.553334691659721,
                      6.625505745223752,
                      6.6911523759211375,
                      6.744133237848783,
                      6.781314538080029,
                      6.802319273547662,
                      6.808567887389569,
                      6.802353093719294,
                      6.7862028171243525,
                      6.762530796952362,
                      6.733496289573006,
                      6.700995129651178,
                      6.666727940540876,
                      6.632313333488122,
                      6.599426491093896,
                      6.5699424443940435,
                      6.546047143833332,
                      6.530249594444005,
                      6.525203720450569,
                      6.533272187438457,
                      6.555885898742773
                    ],
                    [
                      5.949089979867472,
                      4.195352592395019,
                      4.347806896213142,
                      4.363243768724471,
                      4.366290790439941,
                      4.367700473204256,
                      4.369033655731196,
                      4.371215840993244,
                      4.375528011324633,
                      4.384172176018671,
                      4.400958502512718,
                      4.432036655423586,
                      4.486038302688379,
                      4.572363952907587,
                      4.696943095528004,
                      4.857879958438642,
                      5.045356105074643,
                      5.246061593979762,
                      5.44774335260646,
                      5.640892377600033,
                      5.818196829209369,
                      5.973739541047229,
                      6.1032775293805015,
                      6.20554252239762,
                      6.283522046061521,
                      6.344671075518836,
                      6.39934824744182,
                      6.457207672223126,
                      6.522809058505808,
                      6.593677543269176,
                      6.662670592623128,
                      6.722302860008344,
                      6.767629903303972,
                      6.796824133044963,
                      6.810433133083852,
                      6.810358442472206,
                      6.799044270273734,
                      6.778978228928631,
                      6.752448398016937,
                      6.7214713069243714,
                      6.687822753289221,
                      6.653128081212657,
                      6.61898745851888,
                      6.587118765408276,
                      6.559493327838462,
                      6.538417691847736,
                      6.52648274111423,
                      6.526289286839012,
                      6.539916378975723,
                      6.568257429813506
                    ],
                    [
                      6.005217138399851,
                      4.309423170950738,
                      4.331481286306805,
                      4.359388813613009,
                      4.364815094540178,
                      4.367783876834406,
                      4.370973598952147,
                      4.376034497279755,
                      4.38526809121784,
                      4.402449680473569,
                      4.433554931255542,
                      4.486895865156068,
                      4.571497776915081,
                      4.693085380274016,
                      4.849905240303496,
                      5.032535295224891,
                      5.228139830996012,
                      5.425071125714167,
                      5.614721560500489,
                      5.790855669991301,
                      5.9482405388187365,
                      6.082286397671419,
                      6.190192244538584,
                      6.2726734949014995,
                      6.3349718313880325,
                      6.3863112512996185,
                      6.437319442784018,
                      6.495693174470092,
                      6.562480052246053,
                      6.632228234205683,
                      6.696858591171353,
                      6.7496814472388165,
                      6.787142719868121,
                      6.808597386891347,
                      6.815315512308234,
                      6.809513864517318,
                      6.793685551165342,
                      6.770228561874445,
                      6.74129131807762,
                      6.7087543674133565,
                      6.674291342853915,
                      6.639475934468882,
                      6.6059159802779615,
                      6.575396606539606,
                      6.550001608995769,
                      6.532153964025821,
                      6.524487894092572,
                      6.529472094329135,
                      6.548800967382225,
                      6.582754598820403
                    ],
                    [
                      6.057856148635212,
                      4.614342182456822,
                      4.308119414113746,
                      4.356107095102183,
                      4.365332274294221,
                      4.3712592703777835,
                      4.3782133135214085,
                      4.388979431375495,
                      4.4074219439951445,
                      4.439400803446094,
                      4.492931156317797,
                      4.576657771344834,
                      4.696070677244095,
                      4.849505458073319,
                      5.027842899861298,
                      5.218549998460803,
                      5.410331103691462,
                      5.595266370353485,
                      5.768260427516584,
                      5.925245863629657,
                      6.0620092218123744,
                      6.1748185548125285,
                      6.262359425171592,
                      6.327460078857434,
                      6.377473952293521,
                      6.422787046581084,
                      6.473230246857949,
                      6.533543064625994,
                      6.601174908877834,
                      6.668579243605571,
                      6.727722890786713,
                      6.773177579336103,
                      6.802779220611234,
                      6.816874770180078,
                      6.817259164687847,
                      6.806325748868994,
                      6.786539932859849,
                      6.760178835597449,
                      6.7292480808922654,
                      6.695504711046098,
                      6.660540835515275,
                      6.6259034231399365,
                      6.59323380718088,
                      6.564406581883508,
                      6.541627729090983,
                      6.527420686878264,
                      6.5244084445412875,
                      6.534836078750179,
                      6.559915371774658,
                      6.599261391174472
                    ],
                    [
                      6.105735272186721,
                      4.954820215240208,
                      4.285066804833865,
                      4.357940414489868,
                      4.372372675749829,
                      4.383547056822974,
                      4.397605063711573,
                      4.418776476580293,
                      4.45281466667143,
                      4.507389251249683,
                      4.590720709388682,
                      4.708107045915514,
                      4.858125586082148,
                      5.032118063193554,
                      5.2178593509688245,
                      5.404188237387471,
                      5.583523623560442,
                      5.751695096646204,
                      5.906017791527972,
                      6.043311797947075,
                      6.159649942898812,
                      6.252132518977071,
                      6.321197542599229,
                      6.371875578246571,
                      6.413302328249453,
                      6.456179231837332,
                      6.508395248468981,
                      6.571083763691931,
                      6.6385638952633,
                      6.702271226170505,
                      6.754995475551131,
                      6.792777572429396,
                      6.814712747919458,
                      6.821925102157318,
                      6.816558182564742,
                      6.801072232171701,
                      6.77785124470085,
                      6.74903484631077,
                      6.7164909226117135,
                      6.68186957968465,
                      6.646704169517897,
                      6.612540377512394,
                      6.581078014799165,
                      6.554299663243436,
                      6.534534849993809,
                      6.524377557488858,
                      6.526369099970413,
                      6.54243154178087,
                      6.573207456390373,
                      6.6176253749562
                    ],
                    [
                      6.150134532677751,
                      5.2504462350977095,
                      4.299434953293711,
                      4.377136438061064,
                      4.396216330052245,
                      4.4156046599847905,
                      4.4415706642693875,
                      4.479306406919836,
                      4.535797979693157,
                      4.618696554266714,
                      4.733225801928926,
                      4.878602375807026,
                      5.047102284022841,
                      5.227064788338849,
                      5.40736102369289,
                      5.58034912477831,
                      5.74233095543634,
                      5.891882098378428,
                      6.027301056404653,
                      6.145245403919347,
                      6.2418648193823065,
                      6.315436852588576,
                      6.36846131472807,
                      6.408102672940614,
                      6.444708750098921,
                      6.488239279050759,
                      6.543604133052027,
                      6.608208823678349,
                      6.674149066615243,
                      6.732880296829269,
                      6.778512431625309,
                      6.808556844593284,
                      6.82316619353074,
                      6.824032407609743,
                      6.813500245592306,
                      6.7940147323484545,
                      6.767843791050891,
                      6.736984394419878,
                      6.703177712059839,
                      6.667986541806736,
                      6.632909490468167,
                      6.599516562231474,
                      6.569589263094126,
                      6.5452313372615984,
                      6.5288867269176185,
                      6.523174611566349,
                      6.530469909086444,
                      6.5522708759534245,
                      6.58858398148604,
                      6.637663028802266
                    ],
                    [
                      6.192802368978424,
                      5.488342359040981,
                      4.4336923132271435,
                      4.439067234837729,
                      4.455876881164193,
                      4.485286024089568,
                      4.527477701593757,
                      4.586304366050742,
                      4.66794451240163,
                      4.777526407979554,
                      4.915467281287207,
                      5.075766846671977,
                      5.247895132191676,
                      5.4208448457919625,
                      5.586551988273896,
                      5.74118674557646,
                      5.884122759451236,
                      6.015238197155372,
                      6.132457810531795,
                      6.2317616379740794,
                      6.309703640187511,
                      6.366252434471923,
                      6.406155411143225,
                      6.438414870167489,
                      6.473762248333335,
                      6.520253446177627,
                      6.579122072429716,
                      6.644501305575114,
                      6.707385355567422,
                      6.760073353660083,
                      6.798218303891191,
                      6.820664811512416,
                      6.828395948594636,
                      6.823484889274324,
                      6.808361048426816,
                      6.785396114547155,
                      6.756722831824507,
                      6.7241988539425845,
                      6.689454022057864,
                      6.653985615805147,
                      6.619282310682479,
                      6.586963502649059,
                      6.558912694327963,
                      6.5373609087554145,
                      6.524844626703143,
                      6.523946837660399,
                      6.5367805508309464,
                      6.5643258300801905,
                      6.605913038066135,
                      6.659166222638115
                    ],
                    [
                      6.2299175434776775,
                      5.6764339537558515,
                      4.719548060167773,
                      4.576469629155707,
                      4.575365194828515,
                      4.611720694320714,
                      4.669434823218629,
                      4.747249762957853,
                      4.848414821053315,
                      4.974573725011051,
                      5.122260744407617,
                      5.282932567010972,
                      5.446082401281776,
                      5.603014602546096,
                      5.749133305377289,
                      5.883887524758863,
                      6.008428469374399,
                      6.122368510923648,
                      6.2223472357064615,
                      6.303835697834773,
                      6.364467900339914,
                      6.406353741102982,
                      6.436451195073005,
                      6.465043364099201,
                      6.502189527735905,
                      6.552965963502717,
                      6.6147660065365885,
                      6.6793742355960335,
                      6.737772900078323,
                      6.7836337718035615,
                      6.814156741582267,
                      6.829307046529161,
                      6.8306774350469865,
                      6.820566469387198,
                      6.801400545291355,
                      6.775440151202772,
                      6.744675619559628,
                      6.7108349486099055,
                      6.67545527688709,
                      6.639991507896506,
                      6.605947530064546,
                      6.575015997262037,
                      6.549198397713092,
                      6.530849932086946,
                      6.52256321520238,
                      6.526808278811322,
                      6.545335322623719,
                      6.578526680198487,
                      6.625028399259973,
                      6.68190948555763
                    ],
                    [
                      6.262127424321008,
                      5.826670751316732,
                      5.062375721233183,
                      4.798930799926387,
                      4.765785321017685,
                      4.8001217426715765,
                      4.865239316112673,
                      4.952506014439129,
                      5.0615444709257185,
                      5.191068380811105,
                      5.335287208136414,
                      5.484917788501141,
                      5.630745172365077,
                      5.766911368625163,
                      5.892110833303164,
                      6.008095109932515,
                      6.116190408202188,
                      6.214422849203266,
                      6.297989725298697,
                      6.362595382679503,
                      6.40767977385582,
                      6.437720855904092,
                      6.461589415341448,
                      6.490027198290814,
                      6.531241347737043,
                      6.586580485236338,
                      6.6500338897416205,
                      6.712198611914701,
                      6.764914526931296,
                      6.803464961321654,
                      6.826453583603886,
                      6.834727707920181,
                      6.8302931670919165,
                      6.815550509551105,
                      6.792860798243083,
                      6.764351692896327,
                      6.731872815520847,
                      6.697036805454596,
                      6.661308900118784,
                      6.62612570820822,
                      6.593031340536283,
                      6.563813281436301,
                      6.540601102467661,
                      6.525859669420971,
                      6.522185571899907,
                      6.531846104780055,
                      6.556129441216659,
                      6.594763487377482,
                      6.645735352911718,
                      6.705657355455141
                    ],
                    [
                      6.295035747061987,
                      5.948958852158112,
                      5.374561252708654,
                      5.0735006431322764,
                      5.009450841466974,
                      5.032643658122324,
                      5.0942146994659705,
                      5.179637994927347,
                      5.285347378771019,
                      5.407642872084364,
                      5.539173092029108,
                      5.670748476605272,
                      5.795101114433286,
                      5.909445381131446,
                      6.015245921297382,
                      6.11513928325795,
                      6.208993920701488,
                      6.292621110321266,
                      6.360421109342199,
                      6.409315121677387,
                      6.441070816562812,
                      6.462478791720493,
                      6.4837604005630665,
                      6.5150585588321785,
                      6.561614635844119,
                      6.620839669718583,
                      6.684252305054018,
                      6.74240032777018,
                      6.788541984413552,
                      6.819579302066908,
                      6.835297406220853,
                      6.837193846353137,
                      6.827523433401644,
                      6.808695619777965,
                      6.7829651531196475,
                      6.7523175843000605,
                      6.718470237357513,
                      6.682937995773397,
                      6.647136454758409,
                      6.612508584631284,
                      6.580662820329491,
                      6.553499732998724,
                      6.5332791154904175,
                      6.522547539263498,
                      6.5238375322178745,
                      6.539115100213202,
                      6.5691170428736525,
                      6.612889306848845,
                      6.667817600716125,
                      6.730171433277844
                    ],
                    [
                      6.327922094651249,
                      6.049819006645305,
                      5.629346865120993,
                      5.352812430921545,
                      5.271086792054725,
                      5.279323329906924,
                      5.329720758489052,
                      5.405624887130722,
                      5.5010177118394825,
                      5.609878828063116,
                      5.723663163103583,
                      5.833988387778784,
                      5.936180681874933,
                      6.030542755642761,
                      6.120279541005641,
                      6.207162366657763,
                      6.288436586282456,
                      6.35802911986505,
                      6.410700938726325,
                      6.445446290675952,
                      6.466558895756837,
                      6.482814335763576,
                      6.504961496985559,
                      6.541348752712041,
                      6.593453252153879,
                      6.655159577081369,
                      6.716711010865264,
                      6.769519803785271,
                      6.808518354080251,
                      6.832079570123285,
                      6.840920413699323,
                      6.836982483316969,
                      6.822639389161969,
                      6.800243226866466,
                      6.771918203649393,
                      6.739507976972406,
                      6.704610798716305,
                      6.668663613975654,
                      6.633055757904839,
                      6.599261218107509,
                      6.568975294265518,
                      6.5442249656694145,
                      6.527392322126552,
                      6.521062626814894,
                      6.527621711623537,
                      6.548633123517672,
                      6.584211193884699,
                      6.632725215984595,
                      6.6910445737656445,
                      6.755216646906393
                    ],
                    [
                      6.354550684474192,
                      6.1329458251876074,
                      5.82962039718842,
                      5.604503683146027,
                      5.51937724470963,
                      5.514018386725538,
                      5.55085084839792,
                      5.614369535053822,
                      5.696611849121947,
                      5.78930169874803,
                      5.883342509699066,
                      5.97214220713999,
                      6.0541869169214735,
                      6.132362243215866,
                      6.209985204160731,
                      6.286317758252079,
                      6.355776279822176,
                      6.411558953631165,
                      6.4499904508987935,
                      6.472636943332094,
                      6.486201400643825,
                      6.50086426255893,
                      6.5268444695552255,
                      6.569547664413078,
                      6.626428997716675,
                      6.688784052841014,
                      6.746763979068004,
                      6.793238407833849,
                      6.824825500806379,
                      6.841137741803997,
                      6.843581573731138,
                      6.83437039979156,
                      6.815898500168432,
                      6.790416370672203,
                      6.75990654383301,
                      6.726077997290978,
                      6.690426454318133,
                      6.654332398461506,
                      6.619182913676445,
                      6.586507178479186,
                      6.558107269182998,
                      6.536143182681271,
                      6.5230992016703135,
                      6.521540336302566,
                      6.5336116684446655,
                      6.560378077951356,
                      6.601285916140086,
                      6.654066613400388,
                      6.715178650495181,
                      6.780566713660879
                    ],
                    [
                      6.373716411959717,
                      6.202145269404418,
                      5.986164836831552,
                      5.8147453950567485,
                      5.735566530031585,
                      5.720786691061169,
                      5.745853441567271,
                      5.79766319070279,
                      5.866457531253374,
                      5.942246088980153,
                      6.016609657748645,
                      6.085844913208801,
                      6.1516857808374,
                      6.218313106492659,
                      6.287212549660533,
                      6.354244358327985,
                      6.4118848513957545,
                      6.454094273513212,
                      6.479625572708848,
                      6.492722259950819,
                      6.502118948519247,
                      6.518577518732224,
                      6.550579833965906,
                      6.599742400897708,
                      6.659880498851489,
                      6.720924785041058,
                      6.77389117747906,
                      6.8133800134994775,
                      6.837543734898437,
                      6.846974446488296,
                      6.843552568382884,
                      6.829626753935848,
                      6.807541641676299,
                      6.779419510190155,
                      6.747100008539324,
                      6.712169530031189,
                      6.67604025214078,
                      6.640058810274961,
                      6.605634216678494,
                      6.574373963859871,
                      6.548202827901924,
                      6.5294117183465215,
                      6.520552858456193,
                      6.524096583637311,
                      6.541846737225841,
                      6.574286644795015,
                      6.620180229189147,
                      6.676690341953959,
                      6.73998201162508,
                      6.8060083686486195
                    ],
                    [
                      6.391840891905605,
                      6.2625959981055805,
                      6.109176267352198,
                      5.98152938847949,
                      5.912392945950661,
                      5.893461964963101,
                      5.910899264342086,
                      5.953248016008219,
                      6.009169141940171,
                      6.068340277403091,
                      6.124652751654629,
                      6.178020495078239,
                      6.232640771881352,
                      6.29200126450828,
                      6.354168107190664,
                      6.411922320266002,
                      6.457410328687755,
                      6.486632172238626,
                      6.5011520604525295,
                      6.507681783766201,
                      6.516388696851811,
                      6.537562981970297,
                      6.576772448613437,
                      6.631538585982913,
                      6.692972981119069,
                      6.7508667335680395,
                      6.797725246353708,
                      6.829896850846793,
                      6.846828906191177,
                      6.849840806833243,
                      6.841106904452274,
                      6.82300797252502,
                      6.797791681782734,
                      6.767439175589586,
                      6.733653180847474,
                      6.697913157815246,
                      6.661568419041819,
                      6.62595499556914,
                      6.592527941726104,
                      6.562994137067156,
                      6.539411415667496,
                      6.524188602493141,
                      6.519896121826961,
                      6.528821770692699,
                      6.552328015141883,
                      6.590255155890569,
                      6.640703701678662,
                      6.700361971379359,
                      6.7652225320684485,
                      6.831344586677516
                    ],
                    [
                      6.415434566135094,
                      6.3173421773946545,
                      6.205219763194113,
                      6.108740009490132,
                      6.051013808565097,
                      6.03326642147651,
                      6.047456050190859,
                      6.082256209770508,
                      6.125741652911976,
                      6.169328368762901,
                      6.210630118798267,
                      6.253008990289417,
                      6.301357051919767,
                      6.356340220326147,
                      6.412119630761752,
                      6.4598430148585555,
                      6.493000067176869,
                      6.51037733993704,
                      6.516316015707748,
                      6.5195659083446795,
                      6.5309084167666995,
                      6.558951045509633,
                      6.605456792379138,
                      6.664202307771326,
                      6.724844081028632,
                      6.778031722495475,
                      6.818052100665843,
                      6.842847425129777,
                      6.852890473938736,
                      6.850003409789242,
                      6.836511898770296,
                      6.814754529845349,
                      6.786853111212123,
                      6.7546450127974085,
                      6.719707129825409,
                      6.6834301724312395,
                      6.647122319860067,
                      6.6121327675929,
                      6.579985916572642,
                      6.552506003981275,
                      6.531886836685888,
                      6.52062914121076,
                      6.521255990846167,
                      6.535775176027768,
                      6.5650160140943115,
                      6.60814245465903,
                      6.662643094522118,
                      6.724842984197486,
                      6.790678717684566,
                      6.856396740400672
                    ],
                    [
                      6.443655286643738,
                      6.36469532233825,
                      6.277885253417545,
                      6.203237482088449,
                      6.15801795218071,
                      6.145740217629525,
                      6.159337190218238,
                      6.187050157056134,
                      6.218351383537782,
                      6.248390786840692,
                      6.278993269047378,
                      6.315630409479625,
                      6.361500786069926,
                      6.4130700491518695,
                      6.461524160361824,
                      6.498316694116924,
                      6.519475991820791,
                      6.526773247914071,
                      6.527018861902919,
                      6.530390612447669,
                      6.547244174701598,
                      6.583304748438093,
                      6.636177510628425,
                      6.696825143334458,
                      6.754712820539091,
                      6.802005450919951,
                      6.834795316055584,
                      6.852372082816813,
                      6.855971982574114,
                      6.847732707804283,
                      6.830023072444985,
                      6.8050892471514235,
                      6.774912508912139,
                      6.7411912380145464,
                      6.705391317928106,
                      6.668834513282743,
                      6.632810509214019,
                      6.598705383266217,
                      6.568134786380615,
                      6.543053740892596,
                      6.5257853467465115,
                      6.518881540175297,
                      6.524737629238544,
                      6.5449801634484475,
                      6.5798302754383124,
                      6.627774528332984,
                      6.68576969041788,
                      6.749897161525875,
                      6.816143549363704,
                      6.881005864889596
                    ],
                    [
                      6.469474503887366,
                      6.4010952871945275,
                      6.330777926958756,
                      6.2737848256735536,
                      6.242336114759672,
                      6.237351723481887,
                      6.250251498784213,
                      6.27007962541088,
                      6.2899451423481265,
                      6.309775553038522,
                      6.33478900728819,
                      6.370226513214875,
                      6.415436644016561,
                      6.462777337549593,
                      6.502402106784047,
                      6.527750952193629,
                      6.537921812521435,
                      6.537482837043252,
                      6.535242185612634,
                      6.542003242563023,
                      6.566488589571454,
                      6.610610809551777,
                      6.66813380091334,
                      6.728474721463759,
                      6.781945404248266,
                      6.822537309729531,
                      6.84799242547158,
                      6.85866940004259,
                      6.856335226433225,
                      6.843294330326392,
                      6.82188062499269,
                      6.794216798576254,
                      6.762139494908971,
                      6.7272183123132505,
                      6.690825476357109,
                      6.654234801917358,
                      6.618740603520112,
                      6.5857891885052435,
                      6.557106941118494,
                      6.5347868249539225,
                      6.521262835686484,
                      6.519081671668456,
                      6.5304184761791975,
                      6.556420843503826,
                      6.596651034815139,
                      6.648950653864846,
                      6.7098465188343015,
                      6.77529614121285,
                      6.84142725002215,
                      6.905033116228131
                    ]
                  ]
                }
              ],
              "layout": {
                "autosize": false,
                "font": {
                  "color": "RebeccaPurple",
                  "family": "Courier New, monospace",
                  "size": 18
                },
                "height": 800,
                "template": {
                  "data": {
                    "bar": [
                      {
                        "error_x": {
                          "color": "#2a3f5f"
                        },
                        "error_y": {
                          "color": "#2a3f5f"
                        },
                        "marker": {
                          "line": {
                            "color": "#E5ECF6",
                            "width": 0.5
                          },
                          "pattern": {
                            "fillmode": "overlay",
                            "size": 10,
                            "solidity": 0.2
                          }
                        },
                        "type": "bar"
                      }
                    ],
                    "barpolar": [
                      {
                        "marker": {
                          "line": {
                            "color": "#E5ECF6",
                            "width": 0.5
                          },
                          "pattern": {
                            "fillmode": "overlay",
                            "size": 10,
                            "solidity": 0.2
                          }
                        },
                        "type": "barpolar"
                      }
                    ],
                    "carpet": [
                      {
                        "aaxis": {
                          "endlinecolor": "#2a3f5f",
                          "gridcolor": "white",
                          "linecolor": "white",
                          "minorgridcolor": "white",
                          "startlinecolor": "#2a3f5f"
                        },
                        "baxis": {
                          "endlinecolor": "#2a3f5f",
                          "gridcolor": "white",
                          "linecolor": "white",
                          "minorgridcolor": "white",
                          "startlinecolor": "#2a3f5f"
                        },
                        "type": "carpet"
                      }
                    ],
                    "choropleth": [
                      {
                        "colorbar": {
                          "outlinewidth": 0,
                          "ticks": ""
                        },
                        "type": "choropleth"
                      }
                    ],
                    "contour": [
                      {
                        "colorbar": {
                          "outlinewidth": 0,
                          "ticks": ""
                        },
                        "colorscale": [
                          [
                            0,
                            "#0d0887"
                          ],
                          [
                            0.1111111111111111,
                            "#46039f"
                          ],
                          [
                            0.2222222222222222,
                            "#7201a8"
                          ],
                          [
                            0.3333333333333333,
                            "#9c179e"
                          ],
                          [
                            0.4444444444444444,
                            "#bd3786"
                          ],
                          [
                            0.5555555555555556,
                            "#d8576b"
                          ],
                          [
                            0.6666666666666666,
                            "#ed7953"
                          ],
                          [
                            0.7777777777777778,
                            "#fb9f3a"
                          ],
                          [
                            0.8888888888888888,
                            "#fdca26"
                          ],
                          [
                            1,
                            "#f0f921"
                          ]
                        ],
                        "type": "contour"
                      }
                    ],
                    "contourcarpet": [
                      {
                        "colorbar": {
                          "outlinewidth": 0,
                          "ticks": ""
                        },
                        "type": "contourcarpet"
                      }
                    ],
                    "heatmap": [
                      {
                        "colorbar": {
                          "outlinewidth": 0,
                          "ticks": ""
                        },
                        "colorscale": [
                          [
                            0,
                            "#0d0887"
                          ],
                          [
                            0.1111111111111111,
                            "#46039f"
                          ],
                          [
                            0.2222222222222222,
                            "#7201a8"
                          ],
                          [
                            0.3333333333333333,
                            "#9c179e"
                          ],
                          [
                            0.4444444444444444,
                            "#bd3786"
                          ],
                          [
                            0.5555555555555556,
                            "#d8576b"
                          ],
                          [
                            0.6666666666666666,
                            "#ed7953"
                          ],
                          [
                            0.7777777777777778,
                            "#fb9f3a"
                          ],
                          [
                            0.8888888888888888,
                            "#fdca26"
                          ],
                          [
                            1,
                            "#f0f921"
                          ]
                        ],
                        "type": "heatmap"
                      }
                    ],
                    "heatmapgl": [
                      {
                        "colorbar": {
                          "outlinewidth": 0,
                          "ticks": ""
                        },
                        "colorscale": [
                          [
                            0,
                            "#0d0887"
                          ],
                          [
                            0.1111111111111111,
                            "#46039f"
                          ],
                          [
                            0.2222222222222222,
                            "#7201a8"
                          ],
                          [
                            0.3333333333333333,
                            "#9c179e"
                          ],
                          [
                            0.4444444444444444,
                            "#bd3786"
                          ],
                          [
                            0.5555555555555556,
                            "#d8576b"
                          ],
                          [
                            0.6666666666666666,
                            "#ed7953"
                          ],
                          [
                            0.7777777777777778,
                            "#fb9f3a"
                          ],
                          [
                            0.8888888888888888,
                            "#fdca26"
                          ],
                          [
                            1,
                            "#f0f921"
                          ]
                        ],
                        "type": "heatmapgl"
                      }
                    ],
                    "histogram": [
                      {
                        "marker": {
                          "pattern": {
                            "fillmode": "overlay",
                            "size": 10,
                            "solidity": 0.2
                          }
                        },
                        "type": "histogram"
                      }
                    ],
                    "histogram2d": [
                      {
                        "colorbar": {
                          "outlinewidth": 0,
                          "ticks": ""
                        },
                        "colorscale": [
                          [
                            0,
                            "#0d0887"
                          ],
                          [
                            0.1111111111111111,
                            "#46039f"
                          ],
                          [
                            0.2222222222222222,
                            "#7201a8"
                          ],
                          [
                            0.3333333333333333,
                            "#9c179e"
                          ],
                          [
                            0.4444444444444444,
                            "#bd3786"
                          ],
                          [
                            0.5555555555555556,
                            "#d8576b"
                          ],
                          [
                            0.6666666666666666,
                            "#ed7953"
                          ],
                          [
                            0.7777777777777778,
                            "#fb9f3a"
                          ],
                          [
                            0.8888888888888888,
                            "#fdca26"
                          ],
                          [
                            1,
                            "#f0f921"
                          ]
                        ],
                        "type": "histogram2d"
                      }
                    ],
                    "histogram2dcontour": [
                      {
                        "colorbar": {
                          "outlinewidth": 0,
                          "ticks": ""
                        },
                        "colorscale": [
                          [
                            0,
                            "#0d0887"
                          ],
                          [
                            0.1111111111111111,
                            "#46039f"
                          ],
                          [
                            0.2222222222222222,
                            "#7201a8"
                          ],
                          [
                            0.3333333333333333,
                            "#9c179e"
                          ],
                          [
                            0.4444444444444444,
                            "#bd3786"
                          ],
                          [
                            0.5555555555555556,
                            "#d8576b"
                          ],
                          [
                            0.6666666666666666,
                            "#ed7953"
                          ],
                          [
                            0.7777777777777778,
                            "#fb9f3a"
                          ],
                          [
                            0.8888888888888888,
                            "#fdca26"
                          ],
                          [
                            1,
                            "#f0f921"
                          ]
                        ],
                        "type": "histogram2dcontour"
                      }
                    ],
                    "mesh3d": [
                      {
                        "colorbar": {
                          "outlinewidth": 0,
                          "ticks": ""
                        },
                        "type": "mesh3d"
                      }
                    ],
                    "parcoords": [
                      {
                        "line": {
                          "colorbar": {
                            "outlinewidth": 0,
                            "ticks": ""
                          }
                        },
                        "type": "parcoords"
                      }
                    ],
                    "pie": [
                      {
                        "automargin": true,
                        "type": "pie"
                      }
                    ],
                    "scatter": [
                      {
                        "marker": {
                          "colorbar": {
                            "outlinewidth": 0,
                            "ticks": ""
                          }
                        },
                        "type": "scatter"
                      }
                    ],
                    "scatter3d": [
                      {
                        "line": {
                          "colorbar": {
                            "outlinewidth": 0,
                            "ticks": ""
                          }
                        },
                        "marker": {
                          "colorbar": {
                            "outlinewidth": 0,
                            "ticks": ""
                          }
                        },
                        "type": "scatter3d"
                      }
                    ],
                    "scattercarpet": [
                      {
                        "marker": {
                          "colorbar": {
                            "outlinewidth": 0,
                            "ticks": ""
                          }
                        },
                        "type": "scattercarpet"
                      }
                    ],
                    "scattergeo": [
                      {
                        "marker": {
                          "colorbar": {
                            "outlinewidth": 0,
                            "ticks": ""
                          }
                        },
                        "type": "scattergeo"
                      }
                    ],
                    "scattergl": [
                      {
                        "marker": {
                          "colorbar": {
                            "outlinewidth": 0,
                            "ticks": ""
                          }
                        },
                        "type": "scattergl"
                      }
                    ],
                    "scattermapbox": [
                      {
                        "marker": {
                          "colorbar": {
                            "outlinewidth": 0,
                            "ticks": ""
                          }
                        },
                        "type": "scattermapbox"
                      }
                    ],
                    "scatterpolar": [
                      {
                        "marker": {
                          "colorbar": {
                            "outlinewidth": 0,
                            "ticks": ""
                          }
                        },
                        "type": "scatterpolar"
                      }
                    ],
                    "scatterpolargl": [
                      {
                        "marker": {
                          "colorbar": {
                            "outlinewidth": 0,
                            "ticks": ""
                          }
                        },
                        "type": "scatterpolargl"
                      }
                    ],
                    "scatterternary": [
                      {
                        "marker": {
                          "colorbar": {
                            "outlinewidth": 0,
                            "ticks": ""
                          }
                        },
                        "type": "scatterternary"
                      }
                    ],
                    "surface": [
                      {
                        "colorbar": {
                          "outlinewidth": 0,
                          "ticks": ""
                        },
                        "colorscale": [
                          [
                            0,
                            "#0d0887"
                          ],
                          [
                            0.1111111111111111,
                            "#46039f"
                          ],
                          [
                            0.2222222222222222,
                            "#7201a8"
                          ],
                          [
                            0.3333333333333333,
                            "#9c179e"
                          ],
                          [
                            0.4444444444444444,
                            "#bd3786"
                          ],
                          [
                            0.5555555555555556,
                            "#d8576b"
                          ],
                          [
                            0.6666666666666666,
                            "#ed7953"
                          ],
                          [
                            0.7777777777777778,
                            "#fb9f3a"
                          ],
                          [
                            0.8888888888888888,
                            "#fdca26"
                          ],
                          [
                            1,
                            "#f0f921"
                          ]
                        ],
                        "type": "surface"
                      }
                    ],
                    "table": [
                      {
                        "cells": {
                          "fill": {
                            "color": "#EBF0F8"
                          },
                          "line": {
                            "color": "white"
                          }
                        },
                        "header": {
                          "fill": {
                            "color": "#C8D4E3"
                          },
                          "line": {
                            "color": "white"
                          }
                        },
                        "type": "table"
                      }
                    ]
                  },
                  "layout": {
                    "annotationdefaults": {
                      "arrowcolor": "#2a3f5f",
                      "arrowhead": 0,
                      "arrowwidth": 1
                    },
                    "autotypenumbers": "strict",
                    "coloraxis": {
                      "colorbar": {
                        "outlinewidth": 0,
                        "ticks": ""
                      }
                    },
                    "colorscale": {
                      "diverging": [
                        [
                          0,
                          "#8e0152"
                        ],
                        [
                          0.1,
                          "#c51b7d"
                        ],
                        [
                          0.2,
                          "#de77ae"
                        ],
                        [
                          0.3,
                          "#f1b6da"
                        ],
                        [
                          0.4,
                          "#fde0ef"
                        ],
                        [
                          0.5,
                          "#f7f7f7"
                        ],
                        [
                          0.6,
                          "#e6f5d0"
                        ],
                        [
                          0.7,
                          "#b8e186"
                        ],
                        [
                          0.8,
                          "#7fbc41"
                        ],
                        [
                          0.9,
                          "#4d9221"
                        ],
                        [
                          1,
                          "#276419"
                        ]
                      ],
                      "sequential": [
                        [
                          0,
                          "#0d0887"
                        ],
                        [
                          0.1111111111111111,
                          "#46039f"
                        ],
                        [
                          0.2222222222222222,
                          "#7201a8"
                        ],
                        [
                          0.3333333333333333,
                          "#9c179e"
                        ],
                        [
                          0.4444444444444444,
                          "#bd3786"
                        ],
                        [
                          0.5555555555555556,
                          "#d8576b"
                        ],
                        [
                          0.6666666666666666,
                          "#ed7953"
                        ],
                        [
                          0.7777777777777778,
                          "#fb9f3a"
                        ],
                        [
                          0.8888888888888888,
                          "#fdca26"
                        ],
                        [
                          1,
                          "#f0f921"
                        ]
                      ],
                      "sequentialminus": [
                        [
                          0,
                          "#0d0887"
                        ],
                        [
                          0.1111111111111111,
                          "#46039f"
                        ],
                        [
                          0.2222222222222222,
                          "#7201a8"
                        ],
                        [
                          0.3333333333333333,
                          "#9c179e"
                        ],
                        [
                          0.4444444444444444,
                          "#bd3786"
                        ],
                        [
                          0.5555555555555556,
                          "#d8576b"
                        ],
                        [
                          0.6666666666666666,
                          "#ed7953"
                        ],
                        [
                          0.7777777777777778,
                          "#fb9f3a"
                        ],
                        [
                          0.8888888888888888,
                          "#fdca26"
                        ],
                        [
                          1,
                          "#f0f921"
                        ]
                      ]
                    },
                    "colorway": [
                      "#636efa",
                      "#EF553B",
                      "#00cc96",
                      "#ab63fa",
                      "#FFA15A",
                      "#19d3f3",
                      "#FF6692",
                      "#B6E880",
                      "#FF97FF",
                      "#FECB52"
                    ],
                    "font": {
                      "color": "#2a3f5f"
                    },
                    "geo": {
                      "bgcolor": "white",
                      "lakecolor": "white",
                      "landcolor": "#E5ECF6",
                      "showlakes": true,
                      "showland": true,
                      "subunitcolor": "white"
                    },
                    "hoverlabel": {
                      "align": "left"
                    },
                    "hovermode": "closest",
                    "mapbox": {
                      "style": "light"
                    },
                    "paper_bgcolor": "white",
                    "plot_bgcolor": "#E5ECF6",
                    "polar": {
                      "angularaxis": {
                        "gridcolor": "white",
                        "linecolor": "white",
                        "ticks": ""
                      },
                      "bgcolor": "#E5ECF6",
                      "radialaxis": {
                        "gridcolor": "white",
                        "linecolor": "white",
                        "ticks": ""
                      }
                    },
                    "scene": {
                      "xaxis": {
                        "backgroundcolor": "#E5ECF6",
                        "gridcolor": "white",
                        "gridwidth": 2,
                        "linecolor": "white",
                        "showbackground": true,
                        "ticks": "",
                        "zerolinecolor": "white"
                      },
                      "yaxis": {
                        "backgroundcolor": "#E5ECF6",
                        "gridcolor": "white",
                        "gridwidth": 2,
                        "linecolor": "white",
                        "showbackground": true,
                        "ticks": "",
                        "zerolinecolor": "white"
                      },
                      "zaxis": {
                        "backgroundcolor": "#E5ECF6",
                        "gridcolor": "white",
                        "gridwidth": 2,
                        "linecolor": "white",
                        "showbackground": true,
                        "ticks": "",
                        "zerolinecolor": "white"
                      }
                    },
                    "shapedefaults": {
                      "line": {
                        "color": "#2a3f5f"
                      }
                    },
                    "ternary": {
                      "aaxis": {
                        "gridcolor": "white",
                        "linecolor": "white",
                        "ticks": ""
                      },
                      "baxis": {
                        "gridcolor": "white",
                        "linecolor": "white",
                        "ticks": ""
                      },
                      "bgcolor": "#E5ECF6",
                      "caxis": {
                        "gridcolor": "white",
                        "linecolor": "white",
                        "ticks": ""
                      }
                    },
                    "title": {
                      "x": 0.05
                    },
                    "xaxis": {
                      "automargin": true,
                      "gridcolor": "white",
                      "linecolor": "white",
                      "ticks": "",
                      "title": {
                        "standoff": 15
                      },
                      "zerolinecolor": "white",
                      "zerolinewidth": 2
                    },
                    "yaxis": {
                      "automargin": true,
                      "gridcolor": "white",
                      "linecolor": "white",
                      "ticks": "",
                      "title": {
                        "standoff": 15
                      },
                      "zerolinecolor": "white",
                      "zerolinewidth": 2
                    }
                  }
                },
                "title": {
                  "text": "Global parameter search Google mobility data"
                },
                "width": 800,
                "xaxis": {
                  "title": {
                    "text": "c0 value"
                  }
                },
                "yaxis": {
                  "title": {
                    "text": "c1 value"
                  }
                }
              }
            }
          },
          "metadata": {},
          "output_type": "display_data"
        }
      ],
      "source": [
        "fig = go.Figure() #Creates a plot using graph objects and then adds each graph to figure\n",
        "# fig.add_trace(go.Scatter(x=t, y=dailyAdmissions,\n",
        "#                     mode='lines',\n",
        "#                     name='Admission data'))\n",
        "# fig.add_trace(go.Scatter(x=t, y=modelfunction(t,*best[0]),\n",
        "#                     mode='lines',\n",
        "#                     name='Predicted admissions'))\n",
        "\n",
        "fig.add_contour(\n",
        "                    z=result,\n",
        "                    x=paramC0,\n",
        "                    y=paramC1,\n",
        "                    colorbar=dict(\n",
        "                        titleside='right',\n",
        "                        title='Log RMSE', # title here\n",
        "                    )\n",
        ")  \n",
        "  \n",
        "\n",
        "fig.update_layout(\n",
        "                    title='Global parameter search Google mobility data',\n",
        "                    xaxis_title='c0 value',\n",
        "                    yaxis_title='c1 value',\n",
        "                    autosize=False,\n",
        "                    width=800,\n",
        "                    height=800,\n",
        "                    font=dict(\n",
        "                        family=\"Courier New, monospace\",\n",
        "                        size=18,\n",
        "                        color=\"RebeccaPurple\"\n",
        "    )\n",
        ")\n",
        "fig.show()\n",
        "\n",
        "#Countour plot plotta log(RMSE) för Z axeln\n",
        "\n"
      ]
    }
  ],
  "metadata": {
    "colab": {
      "collapsed_sections": [],
      "name": "Mobility based SIR.ipynb",
      "provenance": []
    },
    "kernelspec": {
      "display_name": "Python 3",
      "name": "python3"
    },
    "language_info": {
      "codemirror_mode": {
        "name": "ipython",
        "version": 3
      },
      "file_extension": ".py",
      "mimetype": "text/x-python",
      "name": "python",
      "nbconvert_exporter": "python",
      "pygments_lexer": "ipython3",
      "version": "3.9.7"
    }
  },
  "nbformat": 4,
  "nbformat_minor": 0
}
