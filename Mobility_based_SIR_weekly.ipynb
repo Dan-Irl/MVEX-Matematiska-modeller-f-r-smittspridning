{
  "cells": [
    {
      "cell_type": "code",
      "execution_count": 1,
      "metadata": {
        "id": "c-VcGDaeOCCf"
      },
      "outputs": [],
      "source": [
        "import numpy as np                            #Library that has extensive set of math methods and functions.\n",
        "from scipy.integrate import odeint            #Library that has function for solving differentail equations\n",
        "from scipy.interpolate import interp1d        #Library containing fuctions of interpolating data\n",
        "from scipy.optimize import curve_fit          #Library containing fuctions of fitting paramaters to data\n",
        "from scipy.stats import t as tdist\n",
        "import pandas as pd\n",
        "from sklearn.metrics import mean_squared_error, mean_absolute_percentage_error\n",
        "import math\n",
        "from datetime import timedelta\n",
        "import csv\n",
        "\n",
        "\n",
        "#Library to plot data\n",
        "import plotly.graph_objects as go\n",
        "\n",
        "#använd curvefit för att anpassa parametrar \n",
        "\n",
        "mobility_data = pd.read_csv('https://raw.githubusercontent.com/Dan-Irl/MVEX-Matematiska-modeller-f-r-smittspridning/main/SwedenMobilityData.csv')   #imports mobility data from github\n",
        "\n",
        "temperature_data = pd.read_json('https://raw.githubusercontent.com/Dan-Irl/MVEX-Matematiska-modeller-f-r-smittspridning/main/smhidata_2020_2021.json')  #imports temperature data from github \n",
        "\n",
        "admission_data = pd.read_json('https://raw.githubusercontent.com/Dan-Irl/MVEX-Matematiska-modeller-f-r-smittspridning/main/Inskrivningsdata.json')                  #imports admission data from github\n",
        "\n",
        "VT_mobility_data = pd.read_csv('https://raw.githubusercontent.com/Dan-Irl/MVEX-Matematiska-modeller-f-r-smittspridning/main/VT_mobility.csv')\n",
        "\n",
        "\n",
        "#Jämför RMSE mellan modeller berode på antal datapunkter\n",
        "#jämför hur ofta prediction hamnar i predictionsintervall mellan modeller berode på antal datapunkter"
      ]
    },
    {
      "cell_type": "code",
      "execution_count": 2,
      "metadata": {},
      "outputs": [],
      "source": [
        "# A array of time points in weeks for the model to use\n",
        "prediction_time = 23\n",
        "t = np.linspace(0, prediction_time, prediction_time)\n",
        "\n",
        "#Defines how many data point are to be used for model fitting\n",
        "fittingPoints = 23 # Max 23 weeks\n",
        "t_fittingdata = np.linspace(0, fittingPoints, fittingPoints)\n",
        "startdata = 6  #number of intial data points for MAP calculation in weeks\n",
        "\n",
        "\n"
      ]
    },
    {
      "cell_type": "markdown",
      "metadata": {
        "id": "gBfcmL5qbP2I"
      },
      "source": [
        "Calcualtions total addmissions active per day from the dailiy admission data"
      ]
    },
    {
      "cell_type": "code",
      "execution_count": 3,
      "metadata": {
        "id": "30VvssYAbO1s"
      },
      "outputs": [],
      "source": [
        "#Calulates the total addmission active for each day by summing the curent day plus the prevoius 4\n",
        "\n",
        "\n",
        "weeklyAdmissions = []\n",
        "for week in range(int(math.floor(len(admission_data['Inskrivningar'])/7))):\n",
        "  week = week*7+1\n",
        "  \n",
        "  weeklyAdmissions.append(sum(admission_data['Inskrivningar'][week-8:week-1]))\n",
        "  \n",
        "weeklyAdmissions.remove(0)\n",
        "\n"
      ]
    },
    {
      "cell_type": "markdown",
      "metadata": {},
      "source": [
        "Created the mobility function for Västtrafik"
      ]
    },
    {
      "cell_type": "code",
      "execution_count": 4,
      "metadata": {},
      "outputs": [
        {
          "data": {
            "application/vnd.plotly.v1+json": {
              "config": {
                "plotlyServerURL": "https://plot.ly"
              },
              "data": [
                {
                  "mode": "lines",
                  "name": "Västtrafik mobility change",
                  "type": "scatter",
                  "x": [
                    0,
                    1.0454545454545454,
                    2.090909090909091,
                    3.1363636363636362,
                    4.181818181818182,
                    5.227272727272727,
                    6.2727272727272725,
                    7.318181818181818,
                    8.363636363636363,
                    9.409090909090908,
                    10.454545454545453,
                    11.5,
                    12.545454545454545,
                    13.59090909090909,
                    14.636363636363637,
                    15.681818181818182,
                    16.727272727272727,
                    17.772727272727273,
                    18.818181818181817,
                    19.863636363636363,
                    20.909090909090907,
                    21.954545454545453,
                    23
                  ],
                  "y": [
                    0,
                    -4.4,
                    -14.2,
                    -41.4,
                    -49,
                    -52.1,
                    -60.1,
                    -56.5,
                    -50.1,
                    -53.4,
                    -48.9,
                    -48,
                    -52.6,
                    -42.5,
                    -43.3,
                    -39.4,
                    -53,
                    -47,
                    -50,
                    -53,
                    -56,
                    -55,
                    -53
                  ]
                }
              ],
              "layout": {
                "autosize": false,
                "font": {
                  "color": "RebeccaPurple",
                  "family": "Courier New, monospace",
                  "size": 14
                },
                "template": {
                  "data": {
                    "bar": [
                      {
                        "error_x": {
                          "color": "#2a3f5f"
                        },
                        "error_y": {
                          "color": "#2a3f5f"
                        },
                        "marker": {
                          "line": {
                            "color": "#E5ECF6",
                            "width": 0.5
                          },
                          "pattern": {
                            "fillmode": "overlay",
                            "size": 10,
                            "solidity": 0.2
                          }
                        },
                        "type": "bar"
                      }
                    ],
                    "barpolar": [
                      {
                        "marker": {
                          "line": {
                            "color": "#E5ECF6",
                            "width": 0.5
                          },
                          "pattern": {
                            "fillmode": "overlay",
                            "size": 10,
                            "solidity": 0.2
                          }
                        },
                        "type": "barpolar"
                      }
                    ],
                    "carpet": [
                      {
                        "aaxis": {
                          "endlinecolor": "#2a3f5f",
                          "gridcolor": "white",
                          "linecolor": "white",
                          "minorgridcolor": "white",
                          "startlinecolor": "#2a3f5f"
                        },
                        "baxis": {
                          "endlinecolor": "#2a3f5f",
                          "gridcolor": "white",
                          "linecolor": "white",
                          "minorgridcolor": "white",
                          "startlinecolor": "#2a3f5f"
                        },
                        "type": "carpet"
                      }
                    ],
                    "choropleth": [
                      {
                        "colorbar": {
                          "outlinewidth": 0,
                          "ticks": ""
                        },
                        "type": "choropleth"
                      }
                    ],
                    "contour": [
                      {
                        "colorbar": {
                          "outlinewidth": 0,
                          "ticks": ""
                        },
                        "colorscale": [
                          [
                            0,
                            "#0d0887"
                          ],
                          [
                            0.1111111111111111,
                            "#46039f"
                          ],
                          [
                            0.2222222222222222,
                            "#7201a8"
                          ],
                          [
                            0.3333333333333333,
                            "#9c179e"
                          ],
                          [
                            0.4444444444444444,
                            "#bd3786"
                          ],
                          [
                            0.5555555555555556,
                            "#d8576b"
                          ],
                          [
                            0.6666666666666666,
                            "#ed7953"
                          ],
                          [
                            0.7777777777777778,
                            "#fb9f3a"
                          ],
                          [
                            0.8888888888888888,
                            "#fdca26"
                          ],
                          [
                            1,
                            "#f0f921"
                          ]
                        ],
                        "type": "contour"
                      }
                    ],
                    "contourcarpet": [
                      {
                        "colorbar": {
                          "outlinewidth": 0,
                          "ticks": ""
                        },
                        "type": "contourcarpet"
                      }
                    ],
                    "heatmap": [
                      {
                        "colorbar": {
                          "outlinewidth": 0,
                          "ticks": ""
                        },
                        "colorscale": [
                          [
                            0,
                            "#0d0887"
                          ],
                          [
                            0.1111111111111111,
                            "#46039f"
                          ],
                          [
                            0.2222222222222222,
                            "#7201a8"
                          ],
                          [
                            0.3333333333333333,
                            "#9c179e"
                          ],
                          [
                            0.4444444444444444,
                            "#bd3786"
                          ],
                          [
                            0.5555555555555556,
                            "#d8576b"
                          ],
                          [
                            0.6666666666666666,
                            "#ed7953"
                          ],
                          [
                            0.7777777777777778,
                            "#fb9f3a"
                          ],
                          [
                            0.8888888888888888,
                            "#fdca26"
                          ],
                          [
                            1,
                            "#f0f921"
                          ]
                        ],
                        "type": "heatmap"
                      }
                    ],
                    "heatmapgl": [
                      {
                        "colorbar": {
                          "outlinewidth": 0,
                          "ticks": ""
                        },
                        "colorscale": [
                          [
                            0,
                            "#0d0887"
                          ],
                          [
                            0.1111111111111111,
                            "#46039f"
                          ],
                          [
                            0.2222222222222222,
                            "#7201a8"
                          ],
                          [
                            0.3333333333333333,
                            "#9c179e"
                          ],
                          [
                            0.4444444444444444,
                            "#bd3786"
                          ],
                          [
                            0.5555555555555556,
                            "#d8576b"
                          ],
                          [
                            0.6666666666666666,
                            "#ed7953"
                          ],
                          [
                            0.7777777777777778,
                            "#fb9f3a"
                          ],
                          [
                            0.8888888888888888,
                            "#fdca26"
                          ],
                          [
                            1,
                            "#f0f921"
                          ]
                        ],
                        "type": "heatmapgl"
                      }
                    ],
                    "histogram": [
                      {
                        "marker": {
                          "pattern": {
                            "fillmode": "overlay",
                            "size": 10,
                            "solidity": 0.2
                          }
                        },
                        "type": "histogram"
                      }
                    ],
                    "histogram2d": [
                      {
                        "colorbar": {
                          "outlinewidth": 0,
                          "ticks": ""
                        },
                        "colorscale": [
                          [
                            0,
                            "#0d0887"
                          ],
                          [
                            0.1111111111111111,
                            "#46039f"
                          ],
                          [
                            0.2222222222222222,
                            "#7201a8"
                          ],
                          [
                            0.3333333333333333,
                            "#9c179e"
                          ],
                          [
                            0.4444444444444444,
                            "#bd3786"
                          ],
                          [
                            0.5555555555555556,
                            "#d8576b"
                          ],
                          [
                            0.6666666666666666,
                            "#ed7953"
                          ],
                          [
                            0.7777777777777778,
                            "#fb9f3a"
                          ],
                          [
                            0.8888888888888888,
                            "#fdca26"
                          ],
                          [
                            1,
                            "#f0f921"
                          ]
                        ],
                        "type": "histogram2d"
                      }
                    ],
                    "histogram2dcontour": [
                      {
                        "colorbar": {
                          "outlinewidth": 0,
                          "ticks": ""
                        },
                        "colorscale": [
                          [
                            0,
                            "#0d0887"
                          ],
                          [
                            0.1111111111111111,
                            "#46039f"
                          ],
                          [
                            0.2222222222222222,
                            "#7201a8"
                          ],
                          [
                            0.3333333333333333,
                            "#9c179e"
                          ],
                          [
                            0.4444444444444444,
                            "#bd3786"
                          ],
                          [
                            0.5555555555555556,
                            "#d8576b"
                          ],
                          [
                            0.6666666666666666,
                            "#ed7953"
                          ],
                          [
                            0.7777777777777778,
                            "#fb9f3a"
                          ],
                          [
                            0.8888888888888888,
                            "#fdca26"
                          ],
                          [
                            1,
                            "#f0f921"
                          ]
                        ],
                        "type": "histogram2dcontour"
                      }
                    ],
                    "mesh3d": [
                      {
                        "colorbar": {
                          "outlinewidth": 0,
                          "ticks": ""
                        },
                        "type": "mesh3d"
                      }
                    ],
                    "parcoords": [
                      {
                        "line": {
                          "colorbar": {
                            "outlinewidth": 0,
                            "ticks": ""
                          }
                        },
                        "type": "parcoords"
                      }
                    ],
                    "pie": [
                      {
                        "automargin": true,
                        "type": "pie"
                      }
                    ],
                    "scatter": [
                      {
                        "marker": {
                          "colorbar": {
                            "outlinewidth": 0,
                            "ticks": ""
                          }
                        },
                        "type": "scatter"
                      }
                    ],
                    "scatter3d": [
                      {
                        "line": {
                          "colorbar": {
                            "outlinewidth": 0,
                            "ticks": ""
                          }
                        },
                        "marker": {
                          "colorbar": {
                            "outlinewidth": 0,
                            "ticks": ""
                          }
                        },
                        "type": "scatter3d"
                      }
                    ],
                    "scattercarpet": [
                      {
                        "marker": {
                          "colorbar": {
                            "outlinewidth": 0,
                            "ticks": ""
                          }
                        },
                        "type": "scattercarpet"
                      }
                    ],
                    "scattergeo": [
                      {
                        "marker": {
                          "colorbar": {
                            "outlinewidth": 0,
                            "ticks": ""
                          }
                        },
                        "type": "scattergeo"
                      }
                    ],
                    "scattergl": [
                      {
                        "marker": {
                          "colorbar": {
                            "outlinewidth": 0,
                            "ticks": ""
                          }
                        },
                        "type": "scattergl"
                      }
                    ],
                    "scattermapbox": [
                      {
                        "marker": {
                          "colorbar": {
                            "outlinewidth": 0,
                            "ticks": ""
                          }
                        },
                        "type": "scattermapbox"
                      }
                    ],
                    "scatterpolar": [
                      {
                        "marker": {
                          "colorbar": {
                            "outlinewidth": 0,
                            "ticks": ""
                          }
                        },
                        "type": "scatterpolar"
                      }
                    ],
                    "scatterpolargl": [
                      {
                        "marker": {
                          "colorbar": {
                            "outlinewidth": 0,
                            "ticks": ""
                          }
                        },
                        "type": "scatterpolargl"
                      }
                    ],
                    "scatterternary": [
                      {
                        "marker": {
                          "colorbar": {
                            "outlinewidth": 0,
                            "ticks": ""
                          }
                        },
                        "type": "scatterternary"
                      }
                    ],
                    "surface": [
                      {
                        "colorbar": {
                          "outlinewidth": 0,
                          "ticks": ""
                        },
                        "colorscale": [
                          [
                            0,
                            "#0d0887"
                          ],
                          [
                            0.1111111111111111,
                            "#46039f"
                          ],
                          [
                            0.2222222222222222,
                            "#7201a8"
                          ],
                          [
                            0.3333333333333333,
                            "#9c179e"
                          ],
                          [
                            0.4444444444444444,
                            "#bd3786"
                          ],
                          [
                            0.5555555555555556,
                            "#d8576b"
                          ],
                          [
                            0.6666666666666666,
                            "#ed7953"
                          ],
                          [
                            0.7777777777777778,
                            "#fb9f3a"
                          ],
                          [
                            0.8888888888888888,
                            "#fdca26"
                          ],
                          [
                            1,
                            "#f0f921"
                          ]
                        ],
                        "type": "surface"
                      }
                    ],
                    "table": [
                      {
                        "cells": {
                          "fill": {
                            "color": "#EBF0F8"
                          },
                          "line": {
                            "color": "white"
                          }
                        },
                        "header": {
                          "fill": {
                            "color": "#C8D4E3"
                          },
                          "line": {
                            "color": "white"
                          }
                        },
                        "type": "table"
                      }
                    ]
                  },
                  "layout": {
                    "annotationdefaults": {
                      "arrowcolor": "#2a3f5f",
                      "arrowhead": 0,
                      "arrowwidth": 1
                    },
                    "autotypenumbers": "strict",
                    "coloraxis": {
                      "colorbar": {
                        "outlinewidth": 0,
                        "ticks": ""
                      }
                    },
                    "colorscale": {
                      "diverging": [
                        [
                          0,
                          "#8e0152"
                        ],
                        [
                          0.1,
                          "#c51b7d"
                        ],
                        [
                          0.2,
                          "#de77ae"
                        ],
                        [
                          0.3,
                          "#f1b6da"
                        ],
                        [
                          0.4,
                          "#fde0ef"
                        ],
                        [
                          0.5,
                          "#f7f7f7"
                        ],
                        [
                          0.6,
                          "#e6f5d0"
                        ],
                        [
                          0.7,
                          "#b8e186"
                        ],
                        [
                          0.8,
                          "#7fbc41"
                        ],
                        [
                          0.9,
                          "#4d9221"
                        ],
                        [
                          1,
                          "#276419"
                        ]
                      ],
                      "sequential": [
                        [
                          0,
                          "#0d0887"
                        ],
                        [
                          0.1111111111111111,
                          "#46039f"
                        ],
                        [
                          0.2222222222222222,
                          "#7201a8"
                        ],
                        [
                          0.3333333333333333,
                          "#9c179e"
                        ],
                        [
                          0.4444444444444444,
                          "#bd3786"
                        ],
                        [
                          0.5555555555555556,
                          "#d8576b"
                        ],
                        [
                          0.6666666666666666,
                          "#ed7953"
                        ],
                        [
                          0.7777777777777778,
                          "#fb9f3a"
                        ],
                        [
                          0.8888888888888888,
                          "#fdca26"
                        ],
                        [
                          1,
                          "#f0f921"
                        ]
                      ],
                      "sequentialminus": [
                        [
                          0,
                          "#0d0887"
                        ],
                        [
                          0.1111111111111111,
                          "#46039f"
                        ],
                        [
                          0.2222222222222222,
                          "#7201a8"
                        ],
                        [
                          0.3333333333333333,
                          "#9c179e"
                        ],
                        [
                          0.4444444444444444,
                          "#bd3786"
                        ],
                        [
                          0.5555555555555556,
                          "#d8576b"
                        ],
                        [
                          0.6666666666666666,
                          "#ed7953"
                        ],
                        [
                          0.7777777777777778,
                          "#fb9f3a"
                        ],
                        [
                          0.8888888888888888,
                          "#fdca26"
                        ],
                        [
                          1,
                          "#f0f921"
                        ]
                      ]
                    },
                    "colorway": [
                      "#636efa",
                      "#EF553B",
                      "#00cc96",
                      "#ab63fa",
                      "#FFA15A",
                      "#19d3f3",
                      "#FF6692",
                      "#B6E880",
                      "#FF97FF",
                      "#FECB52"
                    ],
                    "font": {
                      "color": "#2a3f5f"
                    },
                    "geo": {
                      "bgcolor": "white",
                      "lakecolor": "white",
                      "landcolor": "#E5ECF6",
                      "showlakes": true,
                      "showland": true,
                      "subunitcolor": "white"
                    },
                    "hoverlabel": {
                      "align": "left"
                    },
                    "hovermode": "closest",
                    "mapbox": {
                      "style": "light"
                    },
                    "paper_bgcolor": "white",
                    "plot_bgcolor": "#E5ECF6",
                    "polar": {
                      "angularaxis": {
                        "gridcolor": "white",
                        "linecolor": "white",
                        "ticks": ""
                      },
                      "bgcolor": "#E5ECF6",
                      "radialaxis": {
                        "gridcolor": "white",
                        "linecolor": "white",
                        "ticks": ""
                      }
                    },
                    "scene": {
                      "xaxis": {
                        "backgroundcolor": "#E5ECF6",
                        "gridcolor": "white",
                        "gridwidth": 2,
                        "linecolor": "white",
                        "showbackground": true,
                        "ticks": "",
                        "zerolinecolor": "white"
                      },
                      "yaxis": {
                        "backgroundcolor": "#E5ECF6",
                        "gridcolor": "white",
                        "gridwidth": 2,
                        "linecolor": "white",
                        "showbackground": true,
                        "ticks": "",
                        "zerolinecolor": "white"
                      },
                      "zaxis": {
                        "backgroundcolor": "#E5ECF6",
                        "gridcolor": "white",
                        "gridwidth": 2,
                        "linecolor": "white",
                        "showbackground": true,
                        "ticks": "",
                        "zerolinecolor": "white"
                      }
                    },
                    "shapedefaults": {
                      "line": {
                        "color": "#2a3f5f"
                      }
                    },
                    "ternary": {
                      "aaxis": {
                        "gridcolor": "white",
                        "linecolor": "white",
                        "ticks": ""
                      },
                      "baxis": {
                        "gridcolor": "white",
                        "linecolor": "white",
                        "ticks": ""
                      },
                      "bgcolor": "#E5ECF6",
                      "caxis": {
                        "gridcolor": "white",
                        "linecolor": "white",
                        "ticks": ""
                      }
                    },
                    "title": {
                      "x": 0.05
                    },
                    "xaxis": {
                      "automargin": true,
                      "gridcolor": "white",
                      "linecolor": "white",
                      "ticks": "",
                      "title": {
                        "standoff": 15
                      },
                      "zerolinecolor": "white",
                      "zerolinewidth": 2
                    },
                    "yaxis": {
                      "automargin": true,
                      "gridcolor": "white",
                      "linecolor": "white",
                      "ticks": "",
                      "title": {
                        "standoff": 15
                      },
                      "zerolinecolor": "white",
                      "zerolinewidth": 2
                    }
                  }
                },
                "title": {
                  "text": "Weekly change in mobility %"
                },
                "width": 1000,
                "xaxis": {
                  "title": {
                    "text": "Weeks"
                  }
                },
                "yaxis": {
                  "title": {
                    "text": "Mobility in %"
                  }
                }
              }
            }
          },
          "metadata": {},
          "output_type": "display_data"
        }
      ],
      "source": [
        "T = VT_mobility_data['Totalt']\n",
        "VT_mobilityfunc = interp1d(t,T[:prediction_time],kind='linear',fill_value=\"extrapolate\")\n",
        "\n",
        "functionfig = go.Figure()\n",
        "\n",
        "functionfig.add_trace(go.Scatter(x=t, y=VT_mobilityfunc(t),\n",
        "                    mode='lines',\n",
        "                    name='Västtrafik mobility change'))\n",
        "functionfig.update_layout(\n",
        "                title='Weekly change in mobility %',\n",
        "                xaxis_title='Weeks',\n",
        "                yaxis_title='Mobility in %',\n",
        "                autosize=False,\n",
        "                width=1000,\n",
        "                \n",
        "                font=dict(\n",
        "                family=\"Courier New, monospace\",\n",
        "                size=14,\n",
        "                color=\"RebeccaPurple\"\n",
        "    )\n",
        ") \n",
        "functionfig.show()"
      ]
    },
    {
      "cell_type": "markdown",
      "metadata": {
        "id": "SuIarxTfu7iZ"
      },
      "source": [
        "This cell defines the model function and contains most of its dependensies. The SIR model is defined as presendted my Wiess (STORT FEL Gamma är 0.2 vilket är för dagar inte för veckor :())"
      ]
    },
    {
      "cell_type": "code",
      "execution_count": 5,
      "metadata": {
        "id": "S_ZaIieuKfP1"
      },
      "outputs": [
        {
          "name": "stdout",
          "output_type": "stream",
          "text": [
            "[2.93872479 0.02647737]\n",
            "[[3.30493960e-04 6.00407834e-06]\n",
            " [6.00407834e-06 1.96154097e-07]]\n",
            "22.799546710707208\n"
          ]
        },
        {
          "data": {
            "application/vnd.plotly.v1+json": {
              "config": {
                "plotlyServerURL": "https://plot.ly"
              },
              "data": [
                {
                  "mode": "markers",
                  "name": "Admission data",
                  "type": "scatter",
                  "x": [
                    "2020-03-01T00:00:00",
                    "2020-03-08T00:00:00",
                    "2020-03-15T00:00:00",
                    "2020-03-22T00:00:00",
                    "2020-03-29T00:00:00",
                    "2020-04-05T00:00:00",
                    "2020-04-12T00:00:00",
                    "2020-04-19T00:00:00",
                    "2020-04-26T00:00:00",
                    "2020-05-03T00:00:00",
                    "2020-05-10T00:00:00",
                    "2020-05-17T00:00:00",
                    "2020-05-24T00:00:00",
                    "2020-05-31T00:00:00",
                    "2020-06-07T00:00:00",
                    "2020-06-14T00:00:00",
                    "2020-06-21T00:00:00",
                    "2020-06-28T00:00:00",
                    "2020-07-05T00:00:00",
                    "2020-07-12T00:00:00",
                    "2020-07-19T00:00:00",
                    "2020-07-26T00:00:00",
                    "2020-08-02T00:00:00"
                  ],
                  "y": [
                    0,
                    0,
                    0,
                    6,
                    12,
                    32,
                    51,
                    75,
                    123,
                    114,
                    161,
                    135,
                    119,
                    74,
                    86,
                    98,
                    78,
                    81,
                    82,
                    51,
                    51,
                    33,
                    24
                  ]
                },
                {
                  "mode": "lines",
                  "name": "Predicted admissions",
                  "type": "scatter",
                  "x": [
                    "2020-03-01T00:00:00",
                    "2020-03-08T00:00:00",
                    "2020-03-15T00:00:00",
                    "2020-03-22T00:00:00",
                    "2020-03-29T00:00:00",
                    "2020-04-05T00:00:00",
                    "2020-04-12T00:00:00",
                    "2020-04-19T00:00:00",
                    "2020-04-26T00:00:00",
                    "2020-05-03T00:00:00",
                    "2020-05-10T00:00:00",
                    "2020-05-17T00:00:00",
                    "2020-05-24T00:00:00",
                    "2020-05-31T00:00:00",
                    "2020-06-07T00:00:00",
                    "2020-06-14T00:00:00",
                    "2020-06-21T00:00:00",
                    "2020-06-28T00:00:00",
                    "2020-07-05T00:00:00",
                    "2020-07-12T00:00:00",
                    "2020-07-19T00:00:00",
                    "2020-07-26T00:00:00",
                    "2020-08-02T00:00:00"
                  ],
                  "y": [
                    0.013,
                    0.08667779378557913,
                    0.5115887332558955,
                    2.6714240843438684,
                    12.29529473403583,
                    44.93216205858287,
                    91.09059557068171,
                    118.84410398433393,
                    131.54611251060325,
                    120.53014948011575,
                    105.48803848648377,
                    102.58380254014831,
                    98.22557321198737,
                    95.08157822933448,
                    94.488377077167,
                    86.67018710580905,
                    85.89747008652567,
                    89.42861367946225,
                    94.49205729009391,
                    83.94230811068981,
                    70.75592381956551,
                    59.11990171835678,
                    45.81532402967374
                  ]
                }
              ],
              "layout": {
                "autosize": false,
                "font": {
                  "color": "RebeccaPurple",
                  "family": "Courier New, monospace",
                  "size": 14
                },
                "template": {
                  "data": {
                    "bar": [
                      {
                        "error_x": {
                          "color": "#2a3f5f"
                        },
                        "error_y": {
                          "color": "#2a3f5f"
                        },
                        "marker": {
                          "line": {
                            "color": "#E5ECF6",
                            "width": 0.5
                          },
                          "pattern": {
                            "fillmode": "overlay",
                            "size": 10,
                            "solidity": 0.2
                          }
                        },
                        "type": "bar"
                      }
                    ],
                    "barpolar": [
                      {
                        "marker": {
                          "line": {
                            "color": "#E5ECF6",
                            "width": 0.5
                          },
                          "pattern": {
                            "fillmode": "overlay",
                            "size": 10,
                            "solidity": 0.2
                          }
                        },
                        "type": "barpolar"
                      }
                    ],
                    "carpet": [
                      {
                        "aaxis": {
                          "endlinecolor": "#2a3f5f",
                          "gridcolor": "white",
                          "linecolor": "white",
                          "minorgridcolor": "white",
                          "startlinecolor": "#2a3f5f"
                        },
                        "baxis": {
                          "endlinecolor": "#2a3f5f",
                          "gridcolor": "white",
                          "linecolor": "white",
                          "minorgridcolor": "white",
                          "startlinecolor": "#2a3f5f"
                        },
                        "type": "carpet"
                      }
                    ],
                    "choropleth": [
                      {
                        "colorbar": {
                          "outlinewidth": 0,
                          "ticks": ""
                        },
                        "type": "choropleth"
                      }
                    ],
                    "contour": [
                      {
                        "colorbar": {
                          "outlinewidth": 0,
                          "ticks": ""
                        },
                        "colorscale": [
                          [
                            0,
                            "#0d0887"
                          ],
                          [
                            0.1111111111111111,
                            "#46039f"
                          ],
                          [
                            0.2222222222222222,
                            "#7201a8"
                          ],
                          [
                            0.3333333333333333,
                            "#9c179e"
                          ],
                          [
                            0.4444444444444444,
                            "#bd3786"
                          ],
                          [
                            0.5555555555555556,
                            "#d8576b"
                          ],
                          [
                            0.6666666666666666,
                            "#ed7953"
                          ],
                          [
                            0.7777777777777778,
                            "#fb9f3a"
                          ],
                          [
                            0.8888888888888888,
                            "#fdca26"
                          ],
                          [
                            1,
                            "#f0f921"
                          ]
                        ],
                        "type": "contour"
                      }
                    ],
                    "contourcarpet": [
                      {
                        "colorbar": {
                          "outlinewidth": 0,
                          "ticks": ""
                        },
                        "type": "contourcarpet"
                      }
                    ],
                    "heatmap": [
                      {
                        "colorbar": {
                          "outlinewidth": 0,
                          "ticks": ""
                        },
                        "colorscale": [
                          [
                            0,
                            "#0d0887"
                          ],
                          [
                            0.1111111111111111,
                            "#46039f"
                          ],
                          [
                            0.2222222222222222,
                            "#7201a8"
                          ],
                          [
                            0.3333333333333333,
                            "#9c179e"
                          ],
                          [
                            0.4444444444444444,
                            "#bd3786"
                          ],
                          [
                            0.5555555555555556,
                            "#d8576b"
                          ],
                          [
                            0.6666666666666666,
                            "#ed7953"
                          ],
                          [
                            0.7777777777777778,
                            "#fb9f3a"
                          ],
                          [
                            0.8888888888888888,
                            "#fdca26"
                          ],
                          [
                            1,
                            "#f0f921"
                          ]
                        ],
                        "type": "heatmap"
                      }
                    ],
                    "heatmapgl": [
                      {
                        "colorbar": {
                          "outlinewidth": 0,
                          "ticks": ""
                        },
                        "colorscale": [
                          [
                            0,
                            "#0d0887"
                          ],
                          [
                            0.1111111111111111,
                            "#46039f"
                          ],
                          [
                            0.2222222222222222,
                            "#7201a8"
                          ],
                          [
                            0.3333333333333333,
                            "#9c179e"
                          ],
                          [
                            0.4444444444444444,
                            "#bd3786"
                          ],
                          [
                            0.5555555555555556,
                            "#d8576b"
                          ],
                          [
                            0.6666666666666666,
                            "#ed7953"
                          ],
                          [
                            0.7777777777777778,
                            "#fb9f3a"
                          ],
                          [
                            0.8888888888888888,
                            "#fdca26"
                          ],
                          [
                            1,
                            "#f0f921"
                          ]
                        ],
                        "type": "heatmapgl"
                      }
                    ],
                    "histogram": [
                      {
                        "marker": {
                          "pattern": {
                            "fillmode": "overlay",
                            "size": 10,
                            "solidity": 0.2
                          }
                        },
                        "type": "histogram"
                      }
                    ],
                    "histogram2d": [
                      {
                        "colorbar": {
                          "outlinewidth": 0,
                          "ticks": ""
                        },
                        "colorscale": [
                          [
                            0,
                            "#0d0887"
                          ],
                          [
                            0.1111111111111111,
                            "#46039f"
                          ],
                          [
                            0.2222222222222222,
                            "#7201a8"
                          ],
                          [
                            0.3333333333333333,
                            "#9c179e"
                          ],
                          [
                            0.4444444444444444,
                            "#bd3786"
                          ],
                          [
                            0.5555555555555556,
                            "#d8576b"
                          ],
                          [
                            0.6666666666666666,
                            "#ed7953"
                          ],
                          [
                            0.7777777777777778,
                            "#fb9f3a"
                          ],
                          [
                            0.8888888888888888,
                            "#fdca26"
                          ],
                          [
                            1,
                            "#f0f921"
                          ]
                        ],
                        "type": "histogram2d"
                      }
                    ],
                    "histogram2dcontour": [
                      {
                        "colorbar": {
                          "outlinewidth": 0,
                          "ticks": ""
                        },
                        "colorscale": [
                          [
                            0,
                            "#0d0887"
                          ],
                          [
                            0.1111111111111111,
                            "#46039f"
                          ],
                          [
                            0.2222222222222222,
                            "#7201a8"
                          ],
                          [
                            0.3333333333333333,
                            "#9c179e"
                          ],
                          [
                            0.4444444444444444,
                            "#bd3786"
                          ],
                          [
                            0.5555555555555556,
                            "#d8576b"
                          ],
                          [
                            0.6666666666666666,
                            "#ed7953"
                          ],
                          [
                            0.7777777777777778,
                            "#fb9f3a"
                          ],
                          [
                            0.8888888888888888,
                            "#fdca26"
                          ],
                          [
                            1,
                            "#f0f921"
                          ]
                        ],
                        "type": "histogram2dcontour"
                      }
                    ],
                    "mesh3d": [
                      {
                        "colorbar": {
                          "outlinewidth": 0,
                          "ticks": ""
                        },
                        "type": "mesh3d"
                      }
                    ],
                    "parcoords": [
                      {
                        "line": {
                          "colorbar": {
                            "outlinewidth": 0,
                            "ticks": ""
                          }
                        },
                        "type": "parcoords"
                      }
                    ],
                    "pie": [
                      {
                        "automargin": true,
                        "type": "pie"
                      }
                    ],
                    "scatter": [
                      {
                        "marker": {
                          "colorbar": {
                            "outlinewidth": 0,
                            "ticks": ""
                          }
                        },
                        "type": "scatter"
                      }
                    ],
                    "scatter3d": [
                      {
                        "line": {
                          "colorbar": {
                            "outlinewidth": 0,
                            "ticks": ""
                          }
                        },
                        "marker": {
                          "colorbar": {
                            "outlinewidth": 0,
                            "ticks": ""
                          }
                        },
                        "type": "scatter3d"
                      }
                    ],
                    "scattercarpet": [
                      {
                        "marker": {
                          "colorbar": {
                            "outlinewidth": 0,
                            "ticks": ""
                          }
                        },
                        "type": "scattercarpet"
                      }
                    ],
                    "scattergeo": [
                      {
                        "marker": {
                          "colorbar": {
                            "outlinewidth": 0,
                            "ticks": ""
                          }
                        },
                        "type": "scattergeo"
                      }
                    ],
                    "scattergl": [
                      {
                        "marker": {
                          "colorbar": {
                            "outlinewidth": 0,
                            "ticks": ""
                          }
                        },
                        "type": "scattergl"
                      }
                    ],
                    "scattermapbox": [
                      {
                        "marker": {
                          "colorbar": {
                            "outlinewidth": 0,
                            "ticks": ""
                          }
                        },
                        "type": "scattermapbox"
                      }
                    ],
                    "scatterpolar": [
                      {
                        "marker": {
                          "colorbar": {
                            "outlinewidth": 0,
                            "ticks": ""
                          }
                        },
                        "type": "scatterpolar"
                      }
                    ],
                    "scatterpolargl": [
                      {
                        "marker": {
                          "colorbar": {
                            "outlinewidth": 0,
                            "ticks": ""
                          }
                        },
                        "type": "scatterpolargl"
                      }
                    ],
                    "scatterternary": [
                      {
                        "marker": {
                          "colorbar": {
                            "outlinewidth": 0,
                            "ticks": ""
                          }
                        },
                        "type": "scatterternary"
                      }
                    ],
                    "surface": [
                      {
                        "colorbar": {
                          "outlinewidth": 0,
                          "ticks": ""
                        },
                        "colorscale": [
                          [
                            0,
                            "#0d0887"
                          ],
                          [
                            0.1111111111111111,
                            "#46039f"
                          ],
                          [
                            0.2222222222222222,
                            "#7201a8"
                          ],
                          [
                            0.3333333333333333,
                            "#9c179e"
                          ],
                          [
                            0.4444444444444444,
                            "#bd3786"
                          ],
                          [
                            0.5555555555555556,
                            "#d8576b"
                          ],
                          [
                            0.6666666666666666,
                            "#ed7953"
                          ],
                          [
                            0.7777777777777778,
                            "#fb9f3a"
                          ],
                          [
                            0.8888888888888888,
                            "#fdca26"
                          ],
                          [
                            1,
                            "#f0f921"
                          ]
                        ],
                        "type": "surface"
                      }
                    ],
                    "table": [
                      {
                        "cells": {
                          "fill": {
                            "color": "#EBF0F8"
                          },
                          "line": {
                            "color": "white"
                          }
                        },
                        "header": {
                          "fill": {
                            "color": "#C8D4E3"
                          },
                          "line": {
                            "color": "white"
                          }
                        },
                        "type": "table"
                      }
                    ]
                  },
                  "layout": {
                    "annotationdefaults": {
                      "arrowcolor": "#2a3f5f",
                      "arrowhead": 0,
                      "arrowwidth": 1
                    },
                    "autotypenumbers": "strict",
                    "coloraxis": {
                      "colorbar": {
                        "outlinewidth": 0,
                        "ticks": ""
                      }
                    },
                    "colorscale": {
                      "diverging": [
                        [
                          0,
                          "#8e0152"
                        ],
                        [
                          0.1,
                          "#c51b7d"
                        ],
                        [
                          0.2,
                          "#de77ae"
                        ],
                        [
                          0.3,
                          "#f1b6da"
                        ],
                        [
                          0.4,
                          "#fde0ef"
                        ],
                        [
                          0.5,
                          "#f7f7f7"
                        ],
                        [
                          0.6,
                          "#e6f5d0"
                        ],
                        [
                          0.7,
                          "#b8e186"
                        ],
                        [
                          0.8,
                          "#7fbc41"
                        ],
                        [
                          0.9,
                          "#4d9221"
                        ],
                        [
                          1,
                          "#276419"
                        ]
                      ],
                      "sequential": [
                        [
                          0,
                          "#0d0887"
                        ],
                        [
                          0.1111111111111111,
                          "#46039f"
                        ],
                        [
                          0.2222222222222222,
                          "#7201a8"
                        ],
                        [
                          0.3333333333333333,
                          "#9c179e"
                        ],
                        [
                          0.4444444444444444,
                          "#bd3786"
                        ],
                        [
                          0.5555555555555556,
                          "#d8576b"
                        ],
                        [
                          0.6666666666666666,
                          "#ed7953"
                        ],
                        [
                          0.7777777777777778,
                          "#fb9f3a"
                        ],
                        [
                          0.8888888888888888,
                          "#fdca26"
                        ],
                        [
                          1,
                          "#f0f921"
                        ]
                      ],
                      "sequentialminus": [
                        [
                          0,
                          "#0d0887"
                        ],
                        [
                          0.1111111111111111,
                          "#46039f"
                        ],
                        [
                          0.2222222222222222,
                          "#7201a8"
                        ],
                        [
                          0.3333333333333333,
                          "#9c179e"
                        ],
                        [
                          0.4444444444444444,
                          "#bd3786"
                        ],
                        [
                          0.5555555555555556,
                          "#d8576b"
                        ],
                        [
                          0.6666666666666666,
                          "#ed7953"
                        ],
                        [
                          0.7777777777777778,
                          "#fb9f3a"
                        ],
                        [
                          0.8888888888888888,
                          "#fdca26"
                        ],
                        [
                          1,
                          "#f0f921"
                        ]
                      ]
                    },
                    "colorway": [
                      "#636efa",
                      "#EF553B",
                      "#00cc96",
                      "#ab63fa",
                      "#FFA15A",
                      "#19d3f3",
                      "#FF6692",
                      "#B6E880",
                      "#FF97FF",
                      "#FECB52"
                    ],
                    "font": {
                      "color": "#2a3f5f"
                    },
                    "geo": {
                      "bgcolor": "white",
                      "lakecolor": "white",
                      "landcolor": "#E5ECF6",
                      "showlakes": true,
                      "showland": true,
                      "subunitcolor": "white"
                    },
                    "hoverlabel": {
                      "align": "left"
                    },
                    "hovermode": "closest",
                    "mapbox": {
                      "style": "light"
                    },
                    "paper_bgcolor": "white",
                    "plot_bgcolor": "#E5ECF6",
                    "polar": {
                      "angularaxis": {
                        "gridcolor": "white",
                        "linecolor": "white",
                        "ticks": ""
                      },
                      "bgcolor": "#E5ECF6",
                      "radialaxis": {
                        "gridcolor": "white",
                        "linecolor": "white",
                        "ticks": ""
                      }
                    },
                    "scene": {
                      "xaxis": {
                        "backgroundcolor": "#E5ECF6",
                        "gridcolor": "white",
                        "gridwidth": 2,
                        "linecolor": "white",
                        "showbackground": true,
                        "ticks": "",
                        "zerolinecolor": "white"
                      },
                      "yaxis": {
                        "backgroundcolor": "#E5ECF6",
                        "gridcolor": "white",
                        "gridwidth": 2,
                        "linecolor": "white",
                        "showbackground": true,
                        "ticks": "",
                        "zerolinecolor": "white"
                      },
                      "zaxis": {
                        "backgroundcolor": "#E5ECF6",
                        "gridcolor": "white",
                        "gridwidth": 2,
                        "linecolor": "white",
                        "showbackground": true,
                        "ticks": "",
                        "zerolinecolor": "white"
                      }
                    },
                    "shapedefaults": {
                      "line": {
                        "color": "#2a3f5f"
                      }
                    },
                    "ternary": {
                      "aaxis": {
                        "gridcolor": "white",
                        "linecolor": "white",
                        "ticks": ""
                      },
                      "baxis": {
                        "gridcolor": "white",
                        "linecolor": "white",
                        "ticks": ""
                      },
                      "bgcolor": "#E5ECF6",
                      "caxis": {
                        "gridcolor": "white",
                        "linecolor": "white",
                        "ticks": ""
                      }
                    },
                    "title": {
                      "x": 0.05
                    },
                    "xaxis": {
                      "automargin": true,
                      "gridcolor": "white",
                      "linecolor": "white",
                      "ticks": "",
                      "title": {
                        "standoff": 15
                      },
                      "zerolinecolor": "white",
                      "zerolinewidth": 2
                    },
                    "yaxis": {
                      "automargin": true,
                      "gridcolor": "white",
                      "linecolor": "white",
                      "ticks": "",
                      "title": {
                        "standoff": 15
                      },
                      "zerolinecolor": "white",
                      "zerolinewidth": 2
                    }
                  }
                },
                "title": {
                  "text": "Time dependant SIR model"
                },
                "width": 1000,
                "xaxis": {
                  "title": {
                    "text": "Weeks"
                  }
                },
                "yaxis": {
                  "title": {
                    "text": "Admissions"
                  }
                }
              }
            }
          },
          "metadata": {},
          "output_type": "display_data"
        }
      ],
      "source": [
        "#Weiss implementering \n",
        "\n",
        "# Contact rate, transmisabilty, beta, and mean recovery rate gamma.\n",
        "#nunmpy quantile för confidensintervall för beta\n",
        "#försjkut admissions\n",
        "#Lagen borde inte vara i modelfunction, för den modellerar antalet infected, lagen borde bara vara på predicted admissions\n",
        "\n",
        "# Total population, N.\n",
        "N = 700000 #göteborg stad\n",
        "# Initial number of infected and recovered individuals, I0 and R0.\n",
        "I0, R0 = 1, 0\n",
        "# Everyone else, S0, is susceptible to infection initially.\n",
        "S0 = N - I0 - R0\n",
        "\n",
        "tau = 1         #transmisability chance\n",
        "gamma =  1.4    #recovery rate 1/days\n",
        "lag = 3\n",
        "\n",
        "\n",
        "# Initial conditions vector\n",
        "y0 = S0, I0, R0\n",
        "p = 0.013 #fraction of the present number of infectious individuals\n",
        "\n",
        "def modelfunction(t,c0,c1): #Enbedded function that takes \n",
        "  def betafunc(t):\n",
        "    kappa =  c0+c1*VT_mobilityfunc(t)\n",
        "    b = kappa*tau\n",
        "    beta = b/N\n",
        "    return beta\n",
        "\n",
        "  # The SIR model differential equations.\n",
        "  def deriv(y, t, N):\n",
        "    S, I, R = y\n",
        "    dSdt = -betafunc(t-lag) * S * I \n",
        "    dIdt = betafunc(t-lag) * S * I - gamma * I\n",
        "    dRdt = gamma * I\n",
        "    return dSdt, dIdt, dRdt\n",
        "  \n",
        "  result = odeint(deriv, y0, t, args=(N,))\n",
        "  S, I, R = result.T\n",
        "  #Returerar totalt antal inskrivningar varje dag\n",
        "  return I*p\n",
        "\n",
        "\n",
        "\n",
        "#Curve fit function that takes the modelfunction with the given parameters to optimize and returns them with optimal value and covariance\n",
        "popt, pcov = curve_fit(modelfunction, t_fittingdata, weeklyAdmissions[:fittingPoints], p0=[2.7,0.5])\n",
        "\n",
        "#best VT guess p0=[2.7,0.5])\n",
        "#Best google guess p0=[3,0.6])\n",
        "\n",
        "print(popt)\n",
        "print(pcov)\n",
        "print(mean_squared_error(weeklyAdmissions,modelfunction(t,*popt), squared = False))\n",
        "\n",
        "fig = go.Figure() #Creates a plot using graph objects and then adds each graph to figure\n",
        "fig.add_trace(go.Scatter(\n",
        "                    x=pd.Series(pd.date_range(\"2020-03-01\", freq=\"W\", periods=fittingPoints)), \n",
        "                    y=weeklyAdmissions,\n",
        "                    mode='markers',\n",
        "                    name='Admission data'))\n",
        "fig.add_trace(go.Scatter(\n",
        "                    x=pd.Series(pd.date_range(\"2020-03-01\", freq=\"W\", periods=prediction_time)), \n",
        "                    y=modelfunction(t,*popt),\n",
        "                    mode='lines',\n",
        "                    name='Predicted admissions'))\n",
        "fig.update_layout(\n",
        "                    title='Time dependant SIR model',\n",
        "                    xaxis_title='Weeks',\n",
        "                    yaxis_title='Admissions',\n",
        "                    autosize=False,\n",
        "                    width=1000,\n",
        "                    \n",
        "                    font=dict(\n",
        "                    family=\"Courier New, monospace\",\n",
        "                    size=14,\n",
        "                    color=\"RebeccaPurple\"\n",
        "    )\n",
        ")\n",
        "fig.show()"
      ]
    },
    {
      "cell_type": "markdown",
      "metadata": {
        "id": "oCXhPt4_1FF4"
      },
      "source": [
        "Plots the predicted admissions and the admission data, for comparison"
      ]
    },
    {
      "cell_type": "markdown",
      "metadata": {
        "id": "61q2IELFj0L4"
      },
      "source": [
        "Plots confidence intervals of model"
      ]
    },
    {
      "cell_type": "code",
      "execution_count": 6,
      "metadata": {
        "colab": {
          "base_uri": "https://localhost:8080/",
          "height": 542
        },
        "id": "txCxr1cdjxsY",
        "outputId": "3f9e8f82-3aa4-4397-a43f-b3b568d8a389"
      },
      "outputs": [
        {
          "data": {
            "application/vnd.plotly.v1+json": {
              "config": {
                "plotlyServerURL": "https://plot.ly"
              },
              "data": [
                {
                  "mode": "markers",
                  "name": "Fitting admission points",
                  "type": "scatter",
                  "x": [
                    "2020-03-01T00:00:00",
                    "2020-03-08T00:00:00",
                    "2020-03-15T00:00:00",
                    "2020-03-22T00:00:00",
                    "2020-03-29T00:00:00",
                    "2020-04-05T00:00:00",
                    "2020-04-12T00:00:00",
                    "2020-04-19T00:00:00",
                    "2020-04-26T00:00:00",
                    "2020-05-03T00:00:00",
                    "2020-05-10T00:00:00",
                    "2020-05-17T00:00:00",
                    "2020-05-24T00:00:00",
                    "2020-05-31T00:00:00",
                    "2020-06-07T00:00:00",
                    "2020-06-14T00:00:00",
                    "2020-06-21T00:00:00",
                    "2020-06-28T00:00:00",
                    "2020-07-05T00:00:00",
                    "2020-07-12T00:00:00",
                    "2020-07-19T00:00:00",
                    "2020-07-26T00:00:00",
                    "2020-08-02T00:00:00"
                  ],
                  "y": [
                    0,
                    0,
                    0,
                    6,
                    12,
                    32,
                    51,
                    75,
                    123,
                    114,
                    161,
                    135,
                    119,
                    74,
                    86,
                    98,
                    78,
                    81,
                    82,
                    51,
                    51,
                    33,
                    24
                  ]
                },
                {
                  "marker": {
                    "color": "red"
                  },
                  "mode": "markers",
                  "name": "Admission data",
                  "type": "scatter",
                  "x": [],
                  "y": []
                },
                {
                  "mode": "lines",
                  "name": "Predicted admissions",
                  "type": "scatter",
                  "x": [
                    "2020-03-01T00:00:00",
                    "2020-03-08T00:00:00",
                    "2020-03-15T00:00:00",
                    "2020-03-22T00:00:00",
                    "2020-03-29T00:00:00",
                    "2020-04-05T00:00:00",
                    "2020-04-12T00:00:00",
                    "2020-04-19T00:00:00",
                    "2020-04-26T00:00:00",
                    "2020-05-03T00:00:00",
                    "2020-05-10T00:00:00",
                    "2020-05-17T00:00:00",
                    "2020-05-24T00:00:00",
                    "2020-05-31T00:00:00",
                    "2020-06-07T00:00:00",
                    "2020-06-14T00:00:00",
                    "2020-06-21T00:00:00",
                    "2020-06-28T00:00:00",
                    "2020-07-05T00:00:00",
                    "2020-07-12T00:00:00",
                    "2020-07-19T00:00:00",
                    "2020-07-26T00:00:00",
                    "2020-08-02T00:00:00"
                  ],
                  "y": [
                    0.013,
                    0.08667779378557913,
                    0.5115887332558955,
                    2.6714240843438684,
                    12.29529473403583,
                    44.93216205858287,
                    91.09059557068171,
                    118.84410398433393,
                    131.54611251060325,
                    120.53014948011575,
                    105.48803848648377,
                    102.58380254014831,
                    98.22557321198737,
                    95.08157822933448,
                    94.488377077167,
                    86.67018710580905,
                    85.89747008652567,
                    89.42861367946225,
                    94.49205729009391,
                    83.94230811068981,
                    70.75592381956551,
                    59.11990171835678,
                    45.81532402967374
                  ]
                },
                {
                  "line": {
                    "dash": "dash",
                    "width": 2
                  },
                  "mode": "lines",
                  "name": "Undre prediktionsintervall",
                  "type": "scatter",
                  "x": [
                    "2020-03-01T00:00:00",
                    "2020-03-08T00:00:00",
                    "2020-03-15T00:00:00",
                    "2020-03-22T00:00:00",
                    "2020-03-29T00:00:00",
                    "2020-04-05T00:00:00",
                    "2020-04-12T00:00:00",
                    "2020-04-19T00:00:00",
                    "2020-04-26T00:00:00",
                    "2020-05-03T00:00:00",
                    "2020-05-10T00:00:00",
                    "2020-05-17T00:00:00",
                    "2020-05-24T00:00:00",
                    "2020-05-31T00:00:00",
                    "2020-06-07T00:00:00",
                    "2020-06-14T00:00:00",
                    "2020-06-21T00:00:00",
                    "2020-06-28T00:00:00",
                    "2020-07-05T00:00:00",
                    "2020-07-12T00:00:00",
                    "2020-07-19T00:00:00",
                    "2020-07-26T00:00:00",
                    "2020-08-02T00:00:00"
                  ],
                  "y": [
                    0.013,
                    0.08310459798289666,
                    0.4712835315293056,
                    2.370867111141606,
                    10.55105663248623,
                    37.54439943851207,
                    75.39515047237688,
                    98.79334314984527,
                    110.50239952086747,
                    102.2542657139342,
                    89.8411396211681,
                    88.26721528466263,
                    85.07146290743506,
                    81.46546324040422,
                    80.77889503331997,
                    74.26550218904882,
                    74.33216507121726,
                    76.82259047843213,
                    81.4187221792882,
                    71.73189618317198,
                    60.340581441436896,
                    49.6936651538453,
                    37.64165579905282
                  ]
                },
                {
                  "line": {
                    "dash": "dash",
                    "width": 2
                  },
                  "mode": "lines",
                  "name": "Övre konfidensintervall",
                  "type": "scatter",
                  "x": [
                    "2020-03-01T00:00:00",
                    "2020-03-08T00:00:00",
                    "2020-03-15T00:00:00",
                    "2020-03-22T00:00:00",
                    "2020-03-29T00:00:00",
                    "2020-04-05T00:00:00",
                    "2020-04-12T00:00:00",
                    "2020-04-19T00:00:00",
                    "2020-04-26T00:00:00",
                    "2020-05-03T00:00:00",
                    "2020-05-10T00:00:00",
                    "2020-05-17T00:00:00",
                    "2020-05-24T00:00:00",
                    "2020-05-31T00:00:00",
                    "2020-06-07T00:00:00",
                    "2020-06-14T00:00:00",
                    "2020-06-21T00:00:00",
                    "2020-06-28T00:00:00",
                    "2020-07-05T00:00:00",
                    "2020-07-12T00:00:00",
                    "2020-07-19T00:00:00",
                    "2020-07-26T00:00:00",
                    "2020-08-02T00:00:00"
                  ],
                  "y": [
                    0.013,
                    0.0903893892598352,
                    0.5550283431751999,
                    3.011031046499561,
                    14.365894312436474,
                    54.12833640918473,
                    111.66594154804652,
                    146.1568345482667,
                    158.37817904651655,
                    141.80688141306035,
                    122.6227635040751,
                    119.6276210374789,
                    114.54847822295908,
                    109.83679253774604,
                    108.71413692684136,
                    98.6978832612543,
                    96.85746198821009,
                    101.31656575337198,
                    106.83342290034216,
                    95.42485070251674,
                    81.1497132991315,
                    68.1369628912973,
                    53.598766525279345
                  ]
                },
                {
                  "line": {
                    "dash": "dot",
                    "width": 2
                  },
                  "mode": "lines",
                  "name": "Lower prediction interval",
                  "type": "scatter",
                  "x": [
                    "2020-03-01T00:00:00",
                    "2020-03-08T00:00:00",
                    "2020-03-15T00:00:00",
                    "2020-03-22T00:00:00",
                    "2020-03-29T00:00:00",
                    "2020-04-05T00:00:00",
                    "2020-04-12T00:00:00",
                    "2020-04-19T00:00:00",
                    "2020-04-26T00:00:00",
                    "2020-05-03T00:00:00",
                    "2020-05-10T00:00:00",
                    "2020-05-17T00:00:00",
                    "2020-05-24T00:00:00",
                    "2020-05-31T00:00:00",
                    "2020-06-07T00:00:00",
                    "2020-06-14T00:00:00",
                    "2020-06-21T00:00:00",
                    "2020-06-28T00:00:00",
                    "2020-07-05T00:00:00",
                    "2020-07-12T00:00:00",
                    "2020-07-19T00:00:00",
                    "2020-07-26T00:00:00",
                    "2020-08-02T00:00:00"
                  ],
                  "y": [
                    0,
                    0,
                    0,
                    0,
                    0,
                    0,
                    40.687985625414434,
                    66.25048092833019,
                    78.50238687688798,
                    68.29896523780918,
                    54.909398985991544,
                    52.43299376841989,
                    47.83842497977937,
                    45.211167100066525,
                    44.98745765673541,
                    37.01132474204783,
                    36.57062817653315,
                    39.8874711435596,
                    44.87801263224797,
                    34.84467894485618,
                    21.468749073139435,
                    11.0815887990661,
                    0
                  ]
                },
                {
                  "line": {
                    "dash": "dot",
                    "width": 2
                  },
                  "mode": "lines",
                  "name": "Övre prediktionsintervall",
                  "type": "scatter",
                  "x": [
                    "2020-03-01T00:00:00",
                    "2020-03-08T00:00:00",
                    "2020-03-15T00:00:00",
                    "2020-03-22T00:00:00",
                    "2020-03-29T00:00:00",
                    "2020-04-05T00:00:00",
                    "2020-04-12T00:00:00",
                    "2020-04-19T00:00:00",
                    "2020-04-26T00:00:00",
                    "2020-05-03T00:00:00",
                    "2020-05-10T00:00:00",
                    "2020-05-17T00:00:00",
                    "2020-05-24T00:00:00",
                    "2020-05-31T00:00:00",
                    "2020-06-07T00:00:00",
                    "2020-06-14T00:00:00",
                    "2020-06-21T00:00:00",
                    "2020-06-28T00:00:00",
                    "2020-07-05T00:00:00",
                    "2020-07-12T00:00:00",
                    "2020-07-19T00:00:00",
                    "2020-07-26T00:00:00",
                    "2020-08-02T00:00:00"
                  ],
                  "y": [
                    47.54100437270732,
                    46.837715010219014,
                    47.614663277028505,
                    50.47544903140704,
                    60.00763516280477,
                    92.85106185198129,
                    141.69143870661384,
                    171.61915662426208,
                    184.78850650615905,
                    172.12030301072377,
                    155.89426895316592,
                    151.55015216400008,
                    146.90618532414328,
                    143.43331189662018,
                    142.99729959462405,
                    134.72357430361765,
                    134.45189762749794,
                    138.57479842147234,
                    143.55322826102076,
                    132.88834790297645,
                    119.148680903913,
                    107.49143349335237,
                    93.90619813446966
                  ]
                }
              ],
              "layout": {
                "annotations": [
                  {
                    "bordercolor": "black",
                    "showarrow": false,
                    "text": "RMSE: 22",
                    "x": "2020-03-01T00:00:00",
                    "xshift": 48,
                    "y": 0,
                    "yshift": 270
                  }
                ],
                "autosize": false,
                "font": {
                  "color": "RebeccaPurple",
                  "family": "Courier New, monospace",
                  "size": 14
                },
                "template": {
                  "data": {
                    "bar": [
                      {
                        "error_x": {
                          "color": "#2a3f5f"
                        },
                        "error_y": {
                          "color": "#2a3f5f"
                        },
                        "marker": {
                          "line": {
                            "color": "#E5ECF6",
                            "width": 0.5
                          },
                          "pattern": {
                            "fillmode": "overlay",
                            "size": 10,
                            "solidity": 0.2
                          }
                        },
                        "type": "bar"
                      }
                    ],
                    "barpolar": [
                      {
                        "marker": {
                          "line": {
                            "color": "#E5ECF6",
                            "width": 0.5
                          },
                          "pattern": {
                            "fillmode": "overlay",
                            "size": 10,
                            "solidity": 0.2
                          }
                        },
                        "type": "barpolar"
                      }
                    ],
                    "carpet": [
                      {
                        "aaxis": {
                          "endlinecolor": "#2a3f5f",
                          "gridcolor": "white",
                          "linecolor": "white",
                          "minorgridcolor": "white",
                          "startlinecolor": "#2a3f5f"
                        },
                        "baxis": {
                          "endlinecolor": "#2a3f5f",
                          "gridcolor": "white",
                          "linecolor": "white",
                          "minorgridcolor": "white",
                          "startlinecolor": "#2a3f5f"
                        },
                        "type": "carpet"
                      }
                    ],
                    "choropleth": [
                      {
                        "colorbar": {
                          "outlinewidth": 0,
                          "ticks": ""
                        },
                        "type": "choropleth"
                      }
                    ],
                    "contour": [
                      {
                        "colorbar": {
                          "outlinewidth": 0,
                          "ticks": ""
                        },
                        "colorscale": [
                          [
                            0,
                            "#0d0887"
                          ],
                          [
                            0.1111111111111111,
                            "#46039f"
                          ],
                          [
                            0.2222222222222222,
                            "#7201a8"
                          ],
                          [
                            0.3333333333333333,
                            "#9c179e"
                          ],
                          [
                            0.4444444444444444,
                            "#bd3786"
                          ],
                          [
                            0.5555555555555556,
                            "#d8576b"
                          ],
                          [
                            0.6666666666666666,
                            "#ed7953"
                          ],
                          [
                            0.7777777777777778,
                            "#fb9f3a"
                          ],
                          [
                            0.8888888888888888,
                            "#fdca26"
                          ],
                          [
                            1,
                            "#f0f921"
                          ]
                        ],
                        "type": "contour"
                      }
                    ],
                    "contourcarpet": [
                      {
                        "colorbar": {
                          "outlinewidth": 0,
                          "ticks": ""
                        },
                        "type": "contourcarpet"
                      }
                    ],
                    "heatmap": [
                      {
                        "colorbar": {
                          "outlinewidth": 0,
                          "ticks": ""
                        },
                        "colorscale": [
                          [
                            0,
                            "#0d0887"
                          ],
                          [
                            0.1111111111111111,
                            "#46039f"
                          ],
                          [
                            0.2222222222222222,
                            "#7201a8"
                          ],
                          [
                            0.3333333333333333,
                            "#9c179e"
                          ],
                          [
                            0.4444444444444444,
                            "#bd3786"
                          ],
                          [
                            0.5555555555555556,
                            "#d8576b"
                          ],
                          [
                            0.6666666666666666,
                            "#ed7953"
                          ],
                          [
                            0.7777777777777778,
                            "#fb9f3a"
                          ],
                          [
                            0.8888888888888888,
                            "#fdca26"
                          ],
                          [
                            1,
                            "#f0f921"
                          ]
                        ],
                        "type": "heatmap"
                      }
                    ],
                    "heatmapgl": [
                      {
                        "colorbar": {
                          "outlinewidth": 0,
                          "ticks": ""
                        },
                        "colorscale": [
                          [
                            0,
                            "#0d0887"
                          ],
                          [
                            0.1111111111111111,
                            "#46039f"
                          ],
                          [
                            0.2222222222222222,
                            "#7201a8"
                          ],
                          [
                            0.3333333333333333,
                            "#9c179e"
                          ],
                          [
                            0.4444444444444444,
                            "#bd3786"
                          ],
                          [
                            0.5555555555555556,
                            "#d8576b"
                          ],
                          [
                            0.6666666666666666,
                            "#ed7953"
                          ],
                          [
                            0.7777777777777778,
                            "#fb9f3a"
                          ],
                          [
                            0.8888888888888888,
                            "#fdca26"
                          ],
                          [
                            1,
                            "#f0f921"
                          ]
                        ],
                        "type": "heatmapgl"
                      }
                    ],
                    "histogram": [
                      {
                        "marker": {
                          "pattern": {
                            "fillmode": "overlay",
                            "size": 10,
                            "solidity": 0.2
                          }
                        },
                        "type": "histogram"
                      }
                    ],
                    "histogram2d": [
                      {
                        "colorbar": {
                          "outlinewidth": 0,
                          "ticks": ""
                        },
                        "colorscale": [
                          [
                            0,
                            "#0d0887"
                          ],
                          [
                            0.1111111111111111,
                            "#46039f"
                          ],
                          [
                            0.2222222222222222,
                            "#7201a8"
                          ],
                          [
                            0.3333333333333333,
                            "#9c179e"
                          ],
                          [
                            0.4444444444444444,
                            "#bd3786"
                          ],
                          [
                            0.5555555555555556,
                            "#d8576b"
                          ],
                          [
                            0.6666666666666666,
                            "#ed7953"
                          ],
                          [
                            0.7777777777777778,
                            "#fb9f3a"
                          ],
                          [
                            0.8888888888888888,
                            "#fdca26"
                          ],
                          [
                            1,
                            "#f0f921"
                          ]
                        ],
                        "type": "histogram2d"
                      }
                    ],
                    "histogram2dcontour": [
                      {
                        "colorbar": {
                          "outlinewidth": 0,
                          "ticks": ""
                        },
                        "colorscale": [
                          [
                            0,
                            "#0d0887"
                          ],
                          [
                            0.1111111111111111,
                            "#46039f"
                          ],
                          [
                            0.2222222222222222,
                            "#7201a8"
                          ],
                          [
                            0.3333333333333333,
                            "#9c179e"
                          ],
                          [
                            0.4444444444444444,
                            "#bd3786"
                          ],
                          [
                            0.5555555555555556,
                            "#d8576b"
                          ],
                          [
                            0.6666666666666666,
                            "#ed7953"
                          ],
                          [
                            0.7777777777777778,
                            "#fb9f3a"
                          ],
                          [
                            0.8888888888888888,
                            "#fdca26"
                          ],
                          [
                            1,
                            "#f0f921"
                          ]
                        ],
                        "type": "histogram2dcontour"
                      }
                    ],
                    "mesh3d": [
                      {
                        "colorbar": {
                          "outlinewidth": 0,
                          "ticks": ""
                        },
                        "type": "mesh3d"
                      }
                    ],
                    "parcoords": [
                      {
                        "line": {
                          "colorbar": {
                            "outlinewidth": 0,
                            "ticks": ""
                          }
                        },
                        "type": "parcoords"
                      }
                    ],
                    "pie": [
                      {
                        "automargin": true,
                        "type": "pie"
                      }
                    ],
                    "scatter": [
                      {
                        "marker": {
                          "colorbar": {
                            "outlinewidth": 0,
                            "ticks": ""
                          }
                        },
                        "type": "scatter"
                      }
                    ],
                    "scatter3d": [
                      {
                        "line": {
                          "colorbar": {
                            "outlinewidth": 0,
                            "ticks": ""
                          }
                        },
                        "marker": {
                          "colorbar": {
                            "outlinewidth": 0,
                            "ticks": ""
                          }
                        },
                        "type": "scatter3d"
                      }
                    ],
                    "scattercarpet": [
                      {
                        "marker": {
                          "colorbar": {
                            "outlinewidth": 0,
                            "ticks": ""
                          }
                        },
                        "type": "scattercarpet"
                      }
                    ],
                    "scattergeo": [
                      {
                        "marker": {
                          "colorbar": {
                            "outlinewidth": 0,
                            "ticks": ""
                          }
                        },
                        "type": "scattergeo"
                      }
                    ],
                    "scattergl": [
                      {
                        "marker": {
                          "colorbar": {
                            "outlinewidth": 0,
                            "ticks": ""
                          }
                        },
                        "type": "scattergl"
                      }
                    ],
                    "scattermapbox": [
                      {
                        "marker": {
                          "colorbar": {
                            "outlinewidth": 0,
                            "ticks": ""
                          }
                        },
                        "type": "scattermapbox"
                      }
                    ],
                    "scatterpolar": [
                      {
                        "marker": {
                          "colorbar": {
                            "outlinewidth": 0,
                            "ticks": ""
                          }
                        },
                        "type": "scatterpolar"
                      }
                    ],
                    "scatterpolargl": [
                      {
                        "marker": {
                          "colorbar": {
                            "outlinewidth": 0,
                            "ticks": ""
                          }
                        },
                        "type": "scatterpolargl"
                      }
                    ],
                    "scatterternary": [
                      {
                        "marker": {
                          "colorbar": {
                            "outlinewidth": 0,
                            "ticks": ""
                          }
                        },
                        "type": "scatterternary"
                      }
                    ],
                    "surface": [
                      {
                        "colorbar": {
                          "outlinewidth": 0,
                          "ticks": ""
                        },
                        "colorscale": [
                          [
                            0,
                            "#0d0887"
                          ],
                          [
                            0.1111111111111111,
                            "#46039f"
                          ],
                          [
                            0.2222222222222222,
                            "#7201a8"
                          ],
                          [
                            0.3333333333333333,
                            "#9c179e"
                          ],
                          [
                            0.4444444444444444,
                            "#bd3786"
                          ],
                          [
                            0.5555555555555556,
                            "#d8576b"
                          ],
                          [
                            0.6666666666666666,
                            "#ed7953"
                          ],
                          [
                            0.7777777777777778,
                            "#fb9f3a"
                          ],
                          [
                            0.8888888888888888,
                            "#fdca26"
                          ],
                          [
                            1,
                            "#f0f921"
                          ]
                        ],
                        "type": "surface"
                      }
                    ],
                    "table": [
                      {
                        "cells": {
                          "fill": {
                            "color": "#EBF0F8"
                          },
                          "line": {
                            "color": "white"
                          }
                        },
                        "header": {
                          "fill": {
                            "color": "#C8D4E3"
                          },
                          "line": {
                            "color": "white"
                          }
                        },
                        "type": "table"
                      }
                    ]
                  },
                  "layout": {
                    "annotationdefaults": {
                      "arrowcolor": "#2a3f5f",
                      "arrowhead": 0,
                      "arrowwidth": 1
                    },
                    "autotypenumbers": "strict",
                    "coloraxis": {
                      "colorbar": {
                        "outlinewidth": 0,
                        "ticks": ""
                      }
                    },
                    "colorscale": {
                      "diverging": [
                        [
                          0,
                          "#8e0152"
                        ],
                        [
                          0.1,
                          "#c51b7d"
                        ],
                        [
                          0.2,
                          "#de77ae"
                        ],
                        [
                          0.3,
                          "#f1b6da"
                        ],
                        [
                          0.4,
                          "#fde0ef"
                        ],
                        [
                          0.5,
                          "#f7f7f7"
                        ],
                        [
                          0.6,
                          "#e6f5d0"
                        ],
                        [
                          0.7,
                          "#b8e186"
                        ],
                        [
                          0.8,
                          "#7fbc41"
                        ],
                        [
                          0.9,
                          "#4d9221"
                        ],
                        [
                          1,
                          "#276419"
                        ]
                      ],
                      "sequential": [
                        [
                          0,
                          "#0d0887"
                        ],
                        [
                          0.1111111111111111,
                          "#46039f"
                        ],
                        [
                          0.2222222222222222,
                          "#7201a8"
                        ],
                        [
                          0.3333333333333333,
                          "#9c179e"
                        ],
                        [
                          0.4444444444444444,
                          "#bd3786"
                        ],
                        [
                          0.5555555555555556,
                          "#d8576b"
                        ],
                        [
                          0.6666666666666666,
                          "#ed7953"
                        ],
                        [
                          0.7777777777777778,
                          "#fb9f3a"
                        ],
                        [
                          0.8888888888888888,
                          "#fdca26"
                        ],
                        [
                          1,
                          "#f0f921"
                        ]
                      ],
                      "sequentialminus": [
                        [
                          0,
                          "#0d0887"
                        ],
                        [
                          0.1111111111111111,
                          "#46039f"
                        ],
                        [
                          0.2222222222222222,
                          "#7201a8"
                        ],
                        [
                          0.3333333333333333,
                          "#9c179e"
                        ],
                        [
                          0.4444444444444444,
                          "#bd3786"
                        ],
                        [
                          0.5555555555555556,
                          "#d8576b"
                        ],
                        [
                          0.6666666666666666,
                          "#ed7953"
                        ],
                        [
                          0.7777777777777778,
                          "#fb9f3a"
                        ],
                        [
                          0.8888888888888888,
                          "#fdca26"
                        ],
                        [
                          1,
                          "#f0f921"
                        ]
                      ]
                    },
                    "colorway": [
                      "#636efa",
                      "#EF553B",
                      "#00cc96",
                      "#ab63fa",
                      "#FFA15A",
                      "#19d3f3",
                      "#FF6692",
                      "#B6E880",
                      "#FF97FF",
                      "#FECB52"
                    ],
                    "font": {
                      "color": "#2a3f5f"
                    },
                    "geo": {
                      "bgcolor": "white",
                      "lakecolor": "white",
                      "landcolor": "#E5ECF6",
                      "showlakes": true,
                      "showland": true,
                      "subunitcolor": "white"
                    },
                    "hoverlabel": {
                      "align": "left"
                    },
                    "hovermode": "closest",
                    "mapbox": {
                      "style": "light"
                    },
                    "paper_bgcolor": "white",
                    "plot_bgcolor": "#E5ECF6",
                    "polar": {
                      "angularaxis": {
                        "gridcolor": "white",
                        "linecolor": "white",
                        "ticks": ""
                      },
                      "bgcolor": "#E5ECF6",
                      "radialaxis": {
                        "gridcolor": "white",
                        "linecolor": "white",
                        "ticks": ""
                      }
                    },
                    "scene": {
                      "xaxis": {
                        "backgroundcolor": "#E5ECF6",
                        "gridcolor": "white",
                        "gridwidth": 2,
                        "linecolor": "white",
                        "showbackground": true,
                        "ticks": "",
                        "zerolinecolor": "white"
                      },
                      "yaxis": {
                        "backgroundcolor": "#E5ECF6",
                        "gridcolor": "white",
                        "gridwidth": 2,
                        "linecolor": "white",
                        "showbackground": true,
                        "ticks": "",
                        "zerolinecolor": "white"
                      },
                      "zaxis": {
                        "backgroundcolor": "#E5ECF6",
                        "gridcolor": "white",
                        "gridwidth": 2,
                        "linecolor": "white",
                        "showbackground": true,
                        "ticks": "",
                        "zerolinecolor": "white"
                      }
                    },
                    "shapedefaults": {
                      "line": {
                        "color": "#2a3f5f"
                      }
                    },
                    "ternary": {
                      "aaxis": {
                        "gridcolor": "white",
                        "linecolor": "white",
                        "ticks": ""
                      },
                      "baxis": {
                        "gridcolor": "white",
                        "linecolor": "white",
                        "ticks": ""
                      },
                      "bgcolor": "#E5ECF6",
                      "caxis": {
                        "gridcolor": "white",
                        "linecolor": "white",
                        "ticks": ""
                      }
                    },
                    "title": {
                      "x": 0.05
                    },
                    "xaxis": {
                      "automargin": true,
                      "gridcolor": "white",
                      "linecolor": "white",
                      "ticks": "",
                      "title": {
                        "standoff": 15
                      },
                      "zerolinecolor": "white",
                      "zerolinewidth": 2
                    },
                    "yaxis": {
                      "automargin": true,
                      "gridcolor": "white",
                      "linecolor": "white",
                      "ticks": "",
                      "title": {
                        "standoff": 15
                      },
                      "zerolinecolor": "white",
                      "zerolinewidth": 2
                    }
                  }
                },
                "title": {
                  "text": "Västtrafik mobilitets baserad SIR modell"
                },
                "width": 1000,
                "xaxis": {
                  "range": [
                    "2020-03-01",
                    "2020-08-02"
                  ],
                  "title": {
                    "text": "Datum"
                  }
                },
                "yaxis": {
                  "title": {
                    "text": "Inskrivningar"
                  }
                }
              }
            }
          },
          "metadata": {},
          "output_type": "display_data"
        }
      ],
      "source": [
        "numBetas = 100 #number of betas used for normal dist for conf. intervalls\n",
        "numEpsilon = 500\n",
        "\n",
        "##################  Confidence intervall calculation\n",
        "confint = np.zeros([prediction_time,2]) #defines confidence intervall arrays\n",
        "\n",
        "\n",
        "# Generates an array of betas using normal dist.\n",
        "betas=np.random.multivariate_normal(popt,pcov,numBetas) \n",
        "values = np.zeros((prediction_time,numBetas))\n",
        "\n",
        "for beta in range(len(betas)): \n",
        "  values[:,beta] = (modelfunction(t,*betas[beta]))\n",
        "  \n",
        "for day in range(len(t)):\n",
        "  confint[day,0]=np.quantile(values[day,:],0.025)\n",
        "  confint[day,1]=np.quantile(values[day,:],0.975)\n",
        "  \n",
        "\n",
        "##################  Prediction intervall calculation\n",
        "#få med beta skattning i predictionsintervall, dvs generera beta och fel för varje dag \n",
        "\n",
        "std_residual = np.std(modelfunction(t_fittingdata,*popt)-weeklyAdmissions[:fittingPoints], ddof=2) #calcuales standard deviation of residual between model and data\n",
        "predint = np.zeros([prediction_time,2])\n",
        "\n",
        "temp = []\n",
        "pred_matrix = np.zeros((prediction_time,(numBetas*numEpsilon)))\n",
        "for day in range(prediction_time): #loops trough model values each day a adds the error values generated from t-dist to each prediction \n",
        "  for beta in range(len(betas)):\n",
        "      temp =  np.add(modelfunction(t,*betas[beta])[day],tdist.rvs(prediction_time,0,std_residual,numEpsilon))\n",
        "      pred_matrix[day,(beta*numEpsilon):(beta*numEpsilon+numEpsilon)] = temp\n",
        "\n",
        "for day in range(prediction_time): #calculates the prediction intervals\n",
        "    predint[day,0] = np.quantile(pred_matrix[day],0.025)\n",
        "    predint[day,1] = np.quantile(pred_matrix[day],0.975)\n",
        "    \n",
        "predint = np.clip(predint,0,None) #removes all negative values from lover prediction interval\n",
        "\n",
        "fig = go.Figure() #Creates a plot using graph objects and then adds each graph to figure\n",
        "fig.add_trace(go.Scatter( #plots the fitting admission data points\n",
        "                    x=pd.Series(pd.date_range(\"2020-03-01\", freq=\"W\", periods=fittingPoints)), \n",
        "                    y=weeklyAdmissions,\n",
        "                    mode='markers',\n",
        "                    name='Fitting admission points'))\n",
        "fig.add_trace(go.Scatter( #plots all the available admission data points\n",
        "                    x=pd.Series(pd.date_range(pd.to_datetime('2020-03-01')+timedelta(weeks=fittingPoints), freq=\"W\", periods=prediction_time-fittingPoints)),\n",
        "                    y=weeklyAdmissions[fittingPoints:],\n",
        "                    mode='markers',\n",
        "                    marker=dict(\n",
        "                        color='red',\n",
        "                    ),\n",
        "                    name='Admission data'))\n",
        "fig.add_trace(go.Scatter(\n",
        "                    x=pd.Series(pd.date_range(\"2020-03-01\", freq=\"W\", periods=prediction_time)), \n",
        "                    y=modelfunction(t,*popt),\n",
        "                    mode='lines',\n",
        "                    name='Predicted admissions'))\n",
        "fig.add_trace(go.Scatter(\n",
        "                    x=pd.Series(pd.date_range(\"2020-03-01\", freq=\"W\", periods=prediction_time)), \n",
        "                    y=confint[:,0],\n",
        "                    mode='lines',\n",
        "                    name='Undre prediktionsintervall',\n",
        "                    line = dict( width=2, dash='dash')))\n",
        "fig.add_trace(go.Scatter(\n",
        "                    x=pd.Series(pd.date_range(\"2020-03-01\", freq=\"W\", periods=prediction_time)), \n",
        "                    y=confint[:,1],\n",
        "                    mode='lines',\n",
        "                    name='Övre konfidensintervall',\n",
        "                    line = dict(width=2, dash='dash')))\n",
        "fig.add_trace(go.Scatter(\n",
        "                    x=pd.Series(pd.date_range(\"2020-03-01\", freq=\"W\", periods=prediction_time)), \n",
        "                    y=predint[:,0],\n",
        "                    mode='lines',\n",
        "                    name='Lower prediction interval',\n",
        "                    line = dict(width=2, dash='dot')))\n",
        "fig.add_trace(go.Scatter(\n",
        "                    x=pd.Series(pd.date_range(\"2020-03-01\", freq=\"W\", periods=prediction_time)), \n",
        "                    y=predint[:,1],\n",
        "                    mode='lines',\n",
        "                    name='Övre prediktionsintervall',\n",
        "                    line = dict(width=2, dash='dot')))\n",
        "fig.add_annotation(x=pd.to_datetime(\"2020-03-01\"),y=0, \n",
        "                   text=f\"RMSE: {math.floor(mean_squared_error(weeklyAdmissions,modelfunction(t,*popt), squared = False))}\",\n",
        "                   showarrow=False,\n",
        "                   bordercolor=\"black\",\n",
        "                   xshift=48,\n",
        "                   yshift=270\n",
        "                  )\n",
        "fig.update_layout(\n",
        "                    title='Västtrafik mobilitets baserad SIR modell',\n",
        "                    xaxis_title='Datum',\n",
        "                    yaxis_title='Inskrivningar',\n",
        "                    autosize=False,\n",
        "                    width=1000,\n",
        "                    xaxis_range=[\"2020-03-01\",\"2020-08-02\"],\n",
        "                    \n",
        "                    font=dict(\n",
        "                      family=\"Courier New, monospace\",\n",
        "                      size=14,\n",
        "                      color=\"RebeccaPurple\"\n",
        "                    )\n",
        ")\n",
        "fig.show()"
      ]
    },
    {
      "cell_type": "markdown",
      "metadata": {},
      "source": [
        "Cell calcualtes the cumulative admissions and confidens/prediktion intervalls"
      ]
    },
    {
      "cell_type": "code",
      "execution_count": 7,
      "metadata": {},
      "outputs": [
        {
          "data": {
            "application/vnd.plotly.v1+json": {
              "config": {
                "plotlyServerURL": "https://plot.ly"
              },
              "data": [
                {
                  "mode": "markers",
                  "name": "Inskrivningsdata",
                  "type": "scatter",
                  "x": [
                    "2020-03-01T00:00:00",
                    "2020-03-08T00:00:00",
                    "2020-03-15T00:00:00",
                    "2020-03-22T00:00:00",
                    "2020-03-29T00:00:00",
                    "2020-04-05T00:00:00",
                    "2020-04-12T00:00:00",
                    "2020-04-19T00:00:00",
                    "2020-04-26T00:00:00",
                    "2020-05-03T00:00:00",
                    "2020-05-10T00:00:00",
                    "2020-05-17T00:00:00",
                    "2020-05-24T00:00:00",
                    "2020-05-31T00:00:00",
                    "2020-06-07T00:00:00",
                    "2020-06-14T00:00:00",
                    "2020-06-21T00:00:00",
                    "2020-06-28T00:00:00",
                    "2020-07-05T00:00:00",
                    "2020-07-12T00:00:00",
                    "2020-07-19T00:00:00",
                    "2020-07-26T00:00:00",
                    "2020-08-02T00:00:00"
                  ],
                  "y": [
                    0,
                    0,
                    0,
                    6,
                    18,
                    50,
                    101,
                    176,
                    299,
                    413,
                    574,
                    709,
                    828,
                    902,
                    988,
                    1086,
                    1164,
                    1245,
                    1327,
                    1378,
                    1429,
                    1462,
                    1486
                  ]
                },
                {
                  "marker": {
                    "color": "firebrick"
                  },
                  "mode": "markers",
                  "name": "Admission data",
                  "type": "scatter",
                  "x": [],
                  "y": []
                },
                {
                  "mode": "lines",
                  "name": "predikterade kumulativa inskrivningar",
                  "type": "scatter",
                  "x": [
                    "2020-03-01T00:00:00",
                    "2020-03-08T00:00:00",
                    "2020-03-15T00:00:00",
                    "2020-03-22T00:00:00",
                    "2020-03-29T00:00:00",
                    "2020-04-05T00:00:00",
                    "2020-04-12T00:00:00",
                    "2020-04-19T00:00:00",
                    "2020-04-26T00:00:00",
                    "2020-05-03T00:00:00",
                    "2020-05-10T00:00:00",
                    "2020-05-17T00:00:00",
                    "2020-05-24T00:00:00",
                    "2020-05-31T00:00:00",
                    "2020-06-07T00:00:00",
                    "2020-06-14T00:00:00",
                    "2020-06-21T00:00:00",
                    "2020-06-28T00:00:00",
                    "2020-07-05T00:00:00",
                    "2020-07-12T00:00:00",
                    "2020-07-19T00:00:00",
                    "2020-07-26T00:00:00",
                    "2020-08-02T00:00:00"
                  ],
                  "y": [
                    0.013,
                    0.09967779378557913,
                    0.6112665270414747,
                    3.282690611385343,
                    15.577985345421173,
                    60.510147404004044,
                    151.60074297468577,
                    270.4448469590197,
                    401.9909594696229,
                    522.5211089497386,
                    628.0091474362224,
                    730.5929499763707,
                    828.8185231883581,
                    923.9001014176926,
                    1018.3884784948596,
                    1105.0586656006685,
                    1190.956135687194,
                    1280.3847493666563,
                    1374.8768066567502,
                    1458.81911476744,
                    1529.5750385870056,
                    1588.6949403053623,
                    1634.510264335036
                  ]
                },
                {
                  "line": {
                    "dash": "dash",
                    "width": 2
                  },
                  "mode": "lines",
                  "name": "Undre konfidensintervall",
                  "type": "scatter",
                  "x": [
                    "2020-03-01T00:00:00",
                    "2020-03-08T00:00:00",
                    "2020-03-15T00:00:00",
                    "2020-03-22T00:00:00",
                    "2020-03-29T00:00:00",
                    "2020-04-05T00:00:00",
                    "2020-04-12T00:00:00",
                    "2020-04-19T00:00:00",
                    "2020-04-26T00:00:00",
                    "2020-05-03T00:00:00",
                    "2020-05-10T00:00:00",
                    "2020-05-17T00:00:00",
                    "2020-05-24T00:00:00",
                    "2020-05-31T00:00:00",
                    "2020-06-07T00:00:00",
                    "2020-06-14T00:00:00",
                    "2020-06-21T00:00:00",
                    "2020-06-28T00:00:00",
                    "2020-07-05T00:00:00",
                    "2020-07-12T00:00:00",
                    "2020-07-19T00:00:00",
                    "2020-07-26T00:00:00",
                    "2020-08-02T00:00:00"
                  ],
                  "y": [
                    0.013,
                    0.09646620460484218,
                    0.5717181414735186,
                    2.9703717000352348,
                    13.664919598788568,
                    51.71802250769762,
                    127.73677494932413,
                    225.66194099663065,
                    332.66372852362366,
                    435.6138295464704,
                    519.6017750533488,
                    600.5469427320749,
                    682.5534666987609,
                    763.526058178505,
                    845.873113284754,
                    918.9179052407399,
                    992.8520327713809,
                    1074.7078487813724,
                    1167.0216312900986,
                    1251.718179844384,
                    1322.9861432815094,
                    1384.4282922720215,
                    1433.377089322506
                  ]
                },
                {
                  "line": {
                    "dash": "dash",
                    "width": 2
                  },
                  "mode": "lines",
                  "name": "Övre konfidensintervall",
                  "type": "scatter",
                  "x": [
                    "2020-03-01T00:00:00",
                    "2020-03-08T00:00:00",
                    "2020-03-15T00:00:00",
                    "2020-03-22T00:00:00",
                    "2020-03-29T00:00:00",
                    "2020-04-05T00:00:00",
                    "2020-04-12T00:00:00",
                    "2020-04-19T00:00:00",
                    "2020-04-26T00:00:00",
                    "2020-05-03T00:00:00",
                    "2020-05-10T00:00:00",
                    "2020-05-17T00:00:00",
                    "2020-05-24T00:00:00",
                    "2020-05-31T00:00:00",
                    "2020-06-07T00:00:00",
                    "2020-06-14T00:00:00",
                    "2020-06-21T00:00:00",
                    "2020-06-28T00:00:00",
                    "2020-07-05T00:00:00",
                    "2020-07-12T00:00:00",
                    "2020-07-19T00:00:00",
                    "2020-07-26T00:00:00",
                    "2020-08-02T00:00:00"
                  ],
                  "y": [
                    0.013,
                    0.10394324172256808,
                    0.6647997355803279,
                    3.7066709552624455,
                    18.16621173678404,
                    72.31496237269485,
                    182.09283267339032,
                    323.4033108458404,
                    474.1563893127648,
                    611.3208417086191,
                    731.3524058376408,
                    849.3390199464643,
                    963.773199759827,
                    1072.9051901774656,
                    1179.0731107600898,
                    1272.9574078193646,
                    1357.8175553763658,
                    1443.1356159427305,
                    1530.435533255515,
                    1605.9820592410488,
                    1673.939722445294,
                    1730.0297749049134,
                    1772.8708161486193
                  ]
                },
                {
                  "line": {
                    "dash": "dot",
                    "width": 2
                  },
                  "mode": "lines",
                  "name": "Undre prediktionsintervall",
                  "type": "scatter",
                  "x": [
                    "2020-03-01T00:00:00",
                    "2020-03-08T00:00:00",
                    "2020-03-15T00:00:00",
                    "2020-03-22T00:00:00",
                    "2020-03-29T00:00:00",
                    "2020-04-05T00:00:00",
                    "2020-04-12T00:00:00",
                    "2020-04-19T00:00:00",
                    "2020-04-26T00:00:00",
                    "2020-05-03T00:00:00",
                    "2020-05-10T00:00:00",
                    "2020-05-17T00:00:00",
                    "2020-05-24T00:00:00",
                    "2020-05-31T00:00:00",
                    "2020-06-07T00:00:00",
                    "2020-06-14T00:00:00",
                    "2020-06-21T00:00:00",
                    "2020-06-28T00:00:00",
                    "2020-07-05T00:00:00",
                    "2020-07-12T00:00:00",
                    "2020-07-19T00:00:00",
                    "2020-07-26T00:00:00",
                    "2020-08-02T00:00:00"
                  ],
                  "y": [
                    0,
                    0,
                    0,
                    0,
                    0,
                    12.899378899918437,
                    98.00251058729107,
                    203.85793865315384,
                    317.64032324262854,
                    420.4044103765188,
                    508.7715452484717,
                    595.4212771703889,
                    676.704411747226,
                    754.7781245946605,
                    833.3190096441658,
                    908.1054981073663,
                    985.3082677305545,
                    1066.3740591536605,
                    1156.429638280878,
                    1235.447464920286,
                    1308.4503056447188,
                    1367.9559901448113,
                    1418.6864534886035
                  ]
                },
                {
                  "line": {
                    "dash": "dot",
                    "width": 2
                  },
                  "mode": "lines",
                  "name": "Övre prediktionsintervall",
                  "type": "scatter",
                  "x": [
                    "2020-03-01T00:00:00",
                    "2020-03-08T00:00:00",
                    "2020-03-15T00:00:00",
                    "2020-03-22T00:00:00",
                    "2020-03-29T00:00:00",
                    "2020-04-05T00:00:00",
                    "2020-04-12T00:00:00",
                    "2020-04-19T00:00:00",
                    "2020-04-26T00:00:00",
                    "2020-05-03T00:00:00",
                    "2020-05-10T00:00:00",
                    "2020-05-17T00:00:00",
                    "2020-05-24T00:00:00",
                    "2020-05-31T00:00:00",
                    "2020-06-07T00:00:00",
                    "2020-06-14T00:00:00",
                    "2020-06-21T00:00:00",
                    "2020-06-28T00:00:00",
                    "2020-07-05T00:00:00",
                    "2020-07-12T00:00:00",
                    "2020-07-19T00:00:00",
                    "2020-07-26T00:00:00",
                    "2020-08-02T00:00:00"
                  ],
                  "y": [
                    47.25296836368406,
                    47.13579806542799,
                    46.936744582372405,
                    50.247489989430136,
                    63.44965008088848,
                    109.69447991093286,
                    210.3699244283828,
                    345.1234495811379,
                    497.21405494537146,
                    636.3203826074221,
                    757.4892967302605,
                    872.9800248022548,
                    983.1162953916812,
                    1087.7432267838603,
                    1190.3199879367053,
                    1281.7724853465065,
                    1369.92696496274,
                    1458.4825118682752,
                    1550.8343993098674,
                    1630.9542280124879,
                    1696.3322849088302,
                    1751.8504597899841,
                    1794.6293077584508
                  ]
                }
              ],
              "layout": {
                "annotations": [
                  {
                    "bordercolor": "black",
                    "showarrow": false,
                    "text": "RMSE: 22",
                    "x": "2020-03-01T00:00:00",
                    "xshift": 48,
                    "y": 0,
                    "yshift": 270
                  }
                ],
                "autosize": false,
                "font": {
                  "color": "RebeccaPurple",
                  "family": "Courier New, monospace",
                  "size": 14
                },
                "template": {
                  "data": {
                    "bar": [
                      {
                        "error_x": {
                          "color": "#2a3f5f"
                        },
                        "error_y": {
                          "color": "#2a3f5f"
                        },
                        "marker": {
                          "line": {
                            "color": "#E5ECF6",
                            "width": 0.5
                          },
                          "pattern": {
                            "fillmode": "overlay",
                            "size": 10,
                            "solidity": 0.2
                          }
                        },
                        "type": "bar"
                      }
                    ],
                    "barpolar": [
                      {
                        "marker": {
                          "line": {
                            "color": "#E5ECF6",
                            "width": 0.5
                          },
                          "pattern": {
                            "fillmode": "overlay",
                            "size": 10,
                            "solidity": 0.2
                          }
                        },
                        "type": "barpolar"
                      }
                    ],
                    "carpet": [
                      {
                        "aaxis": {
                          "endlinecolor": "#2a3f5f",
                          "gridcolor": "white",
                          "linecolor": "white",
                          "minorgridcolor": "white",
                          "startlinecolor": "#2a3f5f"
                        },
                        "baxis": {
                          "endlinecolor": "#2a3f5f",
                          "gridcolor": "white",
                          "linecolor": "white",
                          "minorgridcolor": "white",
                          "startlinecolor": "#2a3f5f"
                        },
                        "type": "carpet"
                      }
                    ],
                    "choropleth": [
                      {
                        "colorbar": {
                          "outlinewidth": 0,
                          "ticks": ""
                        },
                        "type": "choropleth"
                      }
                    ],
                    "contour": [
                      {
                        "colorbar": {
                          "outlinewidth": 0,
                          "ticks": ""
                        },
                        "colorscale": [
                          [
                            0,
                            "#0d0887"
                          ],
                          [
                            0.1111111111111111,
                            "#46039f"
                          ],
                          [
                            0.2222222222222222,
                            "#7201a8"
                          ],
                          [
                            0.3333333333333333,
                            "#9c179e"
                          ],
                          [
                            0.4444444444444444,
                            "#bd3786"
                          ],
                          [
                            0.5555555555555556,
                            "#d8576b"
                          ],
                          [
                            0.6666666666666666,
                            "#ed7953"
                          ],
                          [
                            0.7777777777777778,
                            "#fb9f3a"
                          ],
                          [
                            0.8888888888888888,
                            "#fdca26"
                          ],
                          [
                            1,
                            "#f0f921"
                          ]
                        ],
                        "type": "contour"
                      }
                    ],
                    "contourcarpet": [
                      {
                        "colorbar": {
                          "outlinewidth": 0,
                          "ticks": ""
                        },
                        "type": "contourcarpet"
                      }
                    ],
                    "heatmap": [
                      {
                        "colorbar": {
                          "outlinewidth": 0,
                          "ticks": ""
                        },
                        "colorscale": [
                          [
                            0,
                            "#0d0887"
                          ],
                          [
                            0.1111111111111111,
                            "#46039f"
                          ],
                          [
                            0.2222222222222222,
                            "#7201a8"
                          ],
                          [
                            0.3333333333333333,
                            "#9c179e"
                          ],
                          [
                            0.4444444444444444,
                            "#bd3786"
                          ],
                          [
                            0.5555555555555556,
                            "#d8576b"
                          ],
                          [
                            0.6666666666666666,
                            "#ed7953"
                          ],
                          [
                            0.7777777777777778,
                            "#fb9f3a"
                          ],
                          [
                            0.8888888888888888,
                            "#fdca26"
                          ],
                          [
                            1,
                            "#f0f921"
                          ]
                        ],
                        "type": "heatmap"
                      }
                    ],
                    "heatmapgl": [
                      {
                        "colorbar": {
                          "outlinewidth": 0,
                          "ticks": ""
                        },
                        "colorscale": [
                          [
                            0,
                            "#0d0887"
                          ],
                          [
                            0.1111111111111111,
                            "#46039f"
                          ],
                          [
                            0.2222222222222222,
                            "#7201a8"
                          ],
                          [
                            0.3333333333333333,
                            "#9c179e"
                          ],
                          [
                            0.4444444444444444,
                            "#bd3786"
                          ],
                          [
                            0.5555555555555556,
                            "#d8576b"
                          ],
                          [
                            0.6666666666666666,
                            "#ed7953"
                          ],
                          [
                            0.7777777777777778,
                            "#fb9f3a"
                          ],
                          [
                            0.8888888888888888,
                            "#fdca26"
                          ],
                          [
                            1,
                            "#f0f921"
                          ]
                        ],
                        "type": "heatmapgl"
                      }
                    ],
                    "histogram": [
                      {
                        "marker": {
                          "pattern": {
                            "fillmode": "overlay",
                            "size": 10,
                            "solidity": 0.2
                          }
                        },
                        "type": "histogram"
                      }
                    ],
                    "histogram2d": [
                      {
                        "colorbar": {
                          "outlinewidth": 0,
                          "ticks": ""
                        },
                        "colorscale": [
                          [
                            0,
                            "#0d0887"
                          ],
                          [
                            0.1111111111111111,
                            "#46039f"
                          ],
                          [
                            0.2222222222222222,
                            "#7201a8"
                          ],
                          [
                            0.3333333333333333,
                            "#9c179e"
                          ],
                          [
                            0.4444444444444444,
                            "#bd3786"
                          ],
                          [
                            0.5555555555555556,
                            "#d8576b"
                          ],
                          [
                            0.6666666666666666,
                            "#ed7953"
                          ],
                          [
                            0.7777777777777778,
                            "#fb9f3a"
                          ],
                          [
                            0.8888888888888888,
                            "#fdca26"
                          ],
                          [
                            1,
                            "#f0f921"
                          ]
                        ],
                        "type": "histogram2d"
                      }
                    ],
                    "histogram2dcontour": [
                      {
                        "colorbar": {
                          "outlinewidth": 0,
                          "ticks": ""
                        },
                        "colorscale": [
                          [
                            0,
                            "#0d0887"
                          ],
                          [
                            0.1111111111111111,
                            "#46039f"
                          ],
                          [
                            0.2222222222222222,
                            "#7201a8"
                          ],
                          [
                            0.3333333333333333,
                            "#9c179e"
                          ],
                          [
                            0.4444444444444444,
                            "#bd3786"
                          ],
                          [
                            0.5555555555555556,
                            "#d8576b"
                          ],
                          [
                            0.6666666666666666,
                            "#ed7953"
                          ],
                          [
                            0.7777777777777778,
                            "#fb9f3a"
                          ],
                          [
                            0.8888888888888888,
                            "#fdca26"
                          ],
                          [
                            1,
                            "#f0f921"
                          ]
                        ],
                        "type": "histogram2dcontour"
                      }
                    ],
                    "mesh3d": [
                      {
                        "colorbar": {
                          "outlinewidth": 0,
                          "ticks": ""
                        },
                        "type": "mesh3d"
                      }
                    ],
                    "parcoords": [
                      {
                        "line": {
                          "colorbar": {
                            "outlinewidth": 0,
                            "ticks": ""
                          }
                        },
                        "type": "parcoords"
                      }
                    ],
                    "pie": [
                      {
                        "automargin": true,
                        "type": "pie"
                      }
                    ],
                    "scatter": [
                      {
                        "marker": {
                          "colorbar": {
                            "outlinewidth": 0,
                            "ticks": ""
                          }
                        },
                        "type": "scatter"
                      }
                    ],
                    "scatter3d": [
                      {
                        "line": {
                          "colorbar": {
                            "outlinewidth": 0,
                            "ticks": ""
                          }
                        },
                        "marker": {
                          "colorbar": {
                            "outlinewidth": 0,
                            "ticks": ""
                          }
                        },
                        "type": "scatter3d"
                      }
                    ],
                    "scattercarpet": [
                      {
                        "marker": {
                          "colorbar": {
                            "outlinewidth": 0,
                            "ticks": ""
                          }
                        },
                        "type": "scattercarpet"
                      }
                    ],
                    "scattergeo": [
                      {
                        "marker": {
                          "colorbar": {
                            "outlinewidth": 0,
                            "ticks": ""
                          }
                        },
                        "type": "scattergeo"
                      }
                    ],
                    "scattergl": [
                      {
                        "marker": {
                          "colorbar": {
                            "outlinewidth": 0,
                            "ticks": ""
                          }
                        },
                        "type": "scattergl"
                      }
                    ],
                    "scattermapbox": [
                      {
                        "marker": {
                          "colorbar": {
                            "outlinewidth": 0,
                            "ticks": ""
                          }
                        },
                        "type": "scattermapbox"
                      }
                    ],
                    "scatterpolar": [
                      {
                        "marker": {
                          "colorbar": {
                            "outlinewidth": 0,
                            "ticks": ""
                          }
                        },
                        "type": "scatterpolar"
                      }
                    ],
                    "scatterpolargl": [
                      {
                        "marker": {
                          "colorbar": {
                            "outlinewidth": 0,
                            "ticks": ""
                          }
                        },
                        "type": "scatterpolargl"
                      }
                    ],
                    "scatterternary": [
                      {
                        "marker": {
                          "colorbar": {
                            "outlinewidth": 0,
                            "ticks": ""
                          }
                        },
                        "type": "scatterternary"
                      }
                    ],
                    "surface": [
                      {
                        "colorbar": {
                          "outlinewidth": 0,
                          "ticks": ""
                        },
                        "colorscale": [
                          [
                            0,
                            "#0d0887"
                          ],
                          [
                            0.1111111111111111,
                            "#46039f"
                          ],
                          [
                            0.2222222222222222,
                            "#7201a8"
                          ],
                          [
                            0.3333333333333333,
                            "#9c179e"
                          ],
                          [
                            0.4444444444444444,
                            "#bd3786"
                          ],
                          [
                            0.5555555555555556,
                            "#d8576b"
                          ],
                          [
                            0.6666666666666666,
                            "#ed7953"
                          ],
                          [
                            0.7777777777777778,
                            "#fb9f3a"
                          ],
                          [
                            0.8888888888888888,
                            "#fdca26"
                          ],
                          [
                            1,
                            "#f0f921"
                          ]
                        ],
                        "type": "surface"
                      }
                    ],
                    "table": [
                      {
                        "cells": {
                          "fill": {
                            "color": "#EBF0F8"
                          },
                          "line": {
                            "color": "white"
                          }
                        },
                        "header": {
                          "fill": {
                            "color": "#C8D4E3"
                          },
                          "line": {
                            "color": "white"
                          }
                        },
                        "type": "table"
                      }
                    ]
                  },
                  "layout": {
                    "annotationdefaults": {
                      "arrowcolor": "#2a3f5f",
                      "arrowhead": 0,
                      "arrowwidth": 1
                    },
                    "autotypenumbers": "strict",
                    "coloraxis": {
                      "colorbar": {
                        "outlinewidth": 0,
                        "ticks": ""
                      }
                    },
                    "colorscale": {
                      "diverging": [
                        [
                          0,
                          "#8e0152"
                        ],
                        [
                          0.1,
                          "#c51b7d"
                        ],
                        [
                          0.2,
                          "#de77ae"
                        ],
                        [
                          0.3,
                          "#f1b6da"
                        ],
                        [
                          0.4,
                          "#fde0ef"
                        ],
                        [
                          0.5,
                          "#f7f7f7"
                        ],
                        [
                          0.6,
                          "#e6f5d0"
                        ],
                        [
                          0.7,
                          "#b8e186"
                        ],
                        [
                          0.8,
                          "#7fbc41"
                        ],
                        [
                          0.9,
                          "#4d9221"
                        ],
                        [
                          1,
                          "#276419"
                        ]
                      ],
                      "sequential": [
                        [
                          0,
                          "#0d0887"
                        ],
                        [
                          0.1111111111111111,
                          "#46039f"
                        ],
                        [
                          0.2222222222222222,
                          "#7201a8"
                        ],
                        [
                          0.3333333333333333,
                          "#9c179e"
                        ],
                        [
                          0.4444444444444444,
                          "#bd3786"
                        ],
                        [
                          0.5555555555555556,
                          "#d8576b"
                        ],
                        [
                          0.6666666666666666,
                          "#ed7953"
                        ],
                        [
                          0.7777777777777778,
                          "#fb9f3a"
                        ],
                        [
                          0.8888888888888888,
                          "#fdca26"
                        ],
                        [
                          1,
                          "#f0f921"
                        ]
                      ],
                      "sequentialminus": [
                        [
                          0,
                          "#0d0887"
                        ],
                        [
                          0.1111111111111111,
                          "#46039f"
                        ],
                        [
                          0.2222222222222222,
                          "#7201a8"
                        ],
                        [
                          0.3333333333333333,
                          "#9c179e"
                        ],
                        [
                          0.4444444444444444,
                          "#bd3786"
                        ],
                        [
                          0.5555555555555556,
                          "#d8576b"
                        ],
                        [
                          0.6666666666666666,
                          "#ed7953"
                        ],
                        [
                          0.7777777777777778,
                          "#fb9f3a"
                        ],
                        [
                          0.8888888888888888,
                          "#fdca26"
                        ],
                        [
                          1,
                          "#f0f921"
                        ]
                      ]
                    },
                    "colorway": [
                      "#636efa",
                      "#EF553B",
                      "#00cc96",
                      "#ab63fa",
                      "#FFA15A",
                      "#19d3f3",
                      "#FF6692",
                      "#B6E880",
                      "#FF97FF",
                      "#FECB52"
                    ],
                    "font": {
                      "color": "#2a3f5f"
                    },
                    "geo": {
                      "bgcolor": "white",
                      "lakecolor": "white",
                      "landcolor": "#E5ECF6",
                      "showlakes": true,
                      "showland": true,
                      "subunitcolor": "white"
                    },
                    "hoverlabel": {
                      "align": "left"
                    },
                    "hovermode": "closest",
                    "mapbox": {
                      "style": "light"
                    },
                    "paper_bgcolor": "white",
                    "plot_bgcolor": "#E5ECF6",
                    "polar": {
                      "angularaxis": {
                        "gridcolor": "white",
                        "linecolor": "white",
                        "ticks": ""
                      },
                      "bgcolor": "#E5ECF6",
                      "radialaxis": {
                        "gridcolor": "white",
                        "linecolor": "white",
                        "ticks": ""
                      }
                    },
                    "scene": {
                      "xaxis": {
                        "backgroundcolor": "#E5ECF6",
                        "gridcolor": "white",
                        "gridwidth": 2,
                        "linecolor": "white",
                        "showbackground": true,
                        "ticks": "",
                        "zerolinecolor": "white"
                      },
                      "yaxis": {
                        "backgroundcolor": "#E5ECF6",
                        "gridcolor": "white",
                        "gridwidth": 2,
                        "linecolor": "white",
                        "showbackground": true,
                        "ticks": "",
                        "zerolinecolor": "white"
                      },
                      "zaxis": {
                        "backgroundcolor": "#E5ECF6",
                        "gridcolor": "white",
                        "gridwidth": 2,
                        "linecolor": "white",
                        "showbackground": true,
                        "ticks": "",
                        "zerolinecolor": "white"
                      }
                    },
                    "shapedefaults": {
                      "line": {
                        "color": "#2a3f5f"
                      }
                    },
                    "ternary": {
                      "aaxis": {
                        "gridcolor": "white",
                        "linecolor": "white",
                        "ticks": ""
                      },
                      "baxis": {
                        "gridcolor": "white",
                        "linecolor": "white",
                        "ticks": ""
                      },
                      "bgcolor": "#E5ECF6",
                      "caxis": {
                        "gridcolor": "white",
                        "linecolor": "white",
                        "ticks": ""
                      }
                    },
                    "title": {
                      "x": 0.05
                    },
                    "xaxis": {
                      "automargin": true,
                      "gridcolor": "white",
                      "linecolor": "white",
                      "ticks": "",
                      "title": {
                        "standoff": 15
                      },
                      "zerolinecolor": "white",
                      "zerolinewidth": 2
                    },
                    "yaxis": {
                      "automargin": true,
                      "gridcolor": "white",
                      "linecolor": "white",
                      "ticks": "",
                      "title": {
                        "standoff": 15
                      },
                      "zerolinecolor": "white",
                      "zerolinewidth": 2
                    }
                  }
                },
                "title": {
                  "text": "Västtrafik mobilitets baserad SIR modell"
                },
                "width": 1000,
                "xaxis": {
                  "range": [
                    "2020-03-01",
                    "2020-08-02T00:00:00"
                  ],
                  "title": {
                    "text": "Datum"
                  }
                },
                "yaxis": {
                  "title": {
                    "text": "Inskrivningar"
                  }
                }
              }
            }
          },
          "metadata": {},
          "output_type": "display_data"
        }
      ],
      "source": [
        "numBetas = 100 #number of betas used for normal dist for conf. intervalls\n",
        "numEpsilon = 500\n",
        "\n",
        "##################  Confidence intervall calculation\n",
        "confint = np.zeros([prediction_time,2]) #defines confidence intervall arrays\n",
        "\n",
        "\n",
        "# Generates an array of betas using normal dist.\n",
        "betas=np.random.multivariate_normal(popt,pcov,numBetas) \n",
        "values = np.zeros((prediction_time,numBetas))\n",
        "\n",
        "for beta in range(len(betas)): \n",
        "  values[:,beta] = np.cumsum(modelfunction(t,*betas[beta]))\n",
        "  \n",
        "for day in range(len(t)):\n",
        "  confint[day,0]=np.quantile(values[day,:],0.025)\n",
        "  confint[day,1]=np.quantile(values[day,:],0.975)\n",
        "  \n",
        "\n",
        "##################  Prediction intervall calculation\n",
        "#få med beta skattning i predictionsintervall, dvs generera beta och fel för varje dag \n",
        "\n",
        "std_residual = np.std(modelfunction(t_fittingdata,*popt)-weeklyAdmissions[:fittingPoints], ddof=2) #calcuales standard deviation of residual between model and data\n",
        "predint = np.zeros([prediction_time,2])\n",
        "\n",
        "temp = []\n",
        "pred_matrix = np.zeros((prediction_time,(numBetas*numEpsilon)))\n",
        "for day in range(prediction_time): #loops trough model values each day a adds the error values generated from t-dist to each prediction \n",
        "  for beta in range(len(betas)):\n",
        "      temp =  np.add(np.cumsum(modelfunction(t,*betas[beta]))[day],tdist.rvs(prediction_time,0,std_residual,numEpsilon))\n",
        "      pred_matrix[day,(beta*numEpsilon):(beta*numEpsilon+numEpsilon)] = temp\n",
        "\n",
        "for day in range(prediction_time): #calculates the prediction intervals\n",
        "    predint[day,0] = np.quantile(pred_matrix[day],0.025)\n",
        "    predint[day,1] = np.quantile(pred_matrix[day],0.975)\n",
        "    \n",
        "predint = np.clip(predint,0,None) #removes all negative values from lover prediction interval\n",
        "\n",
        "fig = go.Figure() #Creates a plot using graph objects and then adds each graph to figure\n",
        "fig.add_trace(go.Scatter( #plots the fitting admission data points\n",
        "                    x=pd.Series(pd.date_range(\"2020-03-01\", freq=\"W\", periods=fittingPoints)), \n",
        "                    y=np.cumsum(weeklyAdmissions),\n",
        "                    mode='markers',\n",
        "                    name='Inskrivningsdata'))\n",
        "fig.add_trace(go.Scatter( #plots all the available admission data points\n",
        "                    x=pd.Series(pd.date_range(pd.to_datetime('2020-03-01')+timedelta(weeks=fittingPoints), freq=\"W\", periods=prediction_time-fittingPoints)),\n",
        "                    y=np.cumsum(weeklyAdmissions)[fittingPoints:],\n",
        "                    mode='markers',\n",
        "                    marker=dict(\n",
        "                        color='firebrick',\n",
        "                    ),\n",
        "                    name='Admission data'))\n",
        "fig.add_trace(go.Scatter(\n",
        "                    x=pd.Series(pd.date_range(\"2020-03-01\", freq=\"W\", periods=prediction_time)), \n",
        "                    y=np.cumsum(modelfunction(t,*popt)),\n",
        "                    mode='lines',\n",
        "                    name='predikterade kumulativa inskrivningar'))\n",
        "fig.add_trace(go.Scatter(\n",
        "                    x=pd.Series(pd.date_range(\"2020-03-01\", freq=\"W\", periods=prediction_time)), \n",
        "                    y=confint[:,0],\n",
        "                    mode='lines',\n",
        "                    name='Undre konfidensintervall',\n",
        "                    line = dict( width=2, dash='dash')))\n",
        "fig.add_trace(go.Scatter(\n",
        "                    x=pd.Series(pd.date_range(\"2020-03-01\", freq=\"W\", periods=prediction_time)), \n",
        "                    y=confint[:,1],\n",
        "                    mode='lines',\n",
        "                    name='Övre konfidensintervall',\n",
        "                    line = dict(width=2, dash='dash')))\n",
        "fig.add_trace(go.Scatter(\n",
        "                    x=pd.Series(pd.date_range(\"2020-03-01\", freq=\"W\", periods=prediction_time)), \n",
        "                    y=predint[:,0],\n",
        "                    mode='lines',\n",
        "                    name='Undre prediktionsintervall',\n",
        "                    line = dict(width=2, dash='dot')))\n",
        "fig.add_trace(go.Scatter(\n",
        "                    x=pd.Series(pd.date_range(\"2020-03-01\", freq=\"W\", periods=prediction_time)), \n",
        "                    y=predint[:,1],\n",
        "                    mode='lines',\n",
        "                    name='Övre prediktionsintervall',\n",
        "                    line = dict(width=2, dash='dot')))\n",
        "fig.add_annotation(x=pd.to_datetime(\"2020-03-01\"),y=0, \n",
        "                   text=f\"RMSE: {math.floor(mean_squared_error(weeklyAdmissions,modelfunction(t,*popt), squared = False))}\",\n",
        "                   showarrow=False,\n",
        "                   bordercolor=\"black\",\n",
        "                   xshift=48,\n",
        "                   yshift=270\n",
        "                  )\n",
        "fig.update_layout(\n",
        "                    title='Västtrafik mobilitets baserad SIR modell',\n",
        "                    xaxis_title='Datum',\n",
        "                    yaxis_title='Inskrivningar',\n",
        "                    autosize=False,\n",
        "                    width=1000,\n",
        "                    xaxis_range=[\"2020-03-01\",pd.to_datetime('2020-03-01')+timedelta(weeks=prediction_time-1)],\n",
        "                    \n",
        "                    font=dict(\n",
        "                      family=\"Courier New, monospace\",\n",
        "                      size=14,\n",
        "                      color=\"RebeccaPurple\"\n",
        "                    )\n",
        ")\n",
        "fig.show()"
      ]
    },
    {
      "cell_type": "markdown",
      "metadata": {},
      "source": [
        "Calculate MAPE of the model as the amout of fitting data for curve fit increases"
      ]
    },
    {
      "cell_type": "code",
      "execution_count": 8,
      "metadata": {},
      "outputs": [
        {
          "ename": "ValueError",
          "evalue": "setting an array element with a sequence. The requested array has an inhomogeneous shape after 1 dimensions. The detected shape was (3,) + inhomogeneous part.",
          "output_type": "error",
          "traceback": [
            "\u001b[1;31m---------------------------------------------------------------------------\u001b[0m",
            "\u001b[1;31mValueError\u001b[0m                                Traceback (most recent call last)",
            "\u001b[1;32m~\\AppData\\Local\\Temp/ipykernel_23460/2271619384.py\u001b[0m in \u001b[0;36m<module>\u001b[1;34m\u001b[0m\n\u001b[0;32m     28\u001b[0m         \u001b[0mtemp_RMSEovertime\u001b[0m\u001b[1;33m.\u001b[0m\u001b[0mappend\u001b[0m\u001b[1;33m(\u001b[0m\u001b[0mweek\u001b[0m\u001b[1;33m)\u001b[0m\u001b[1;33m\u001b[0m\u001b[1;33m\u001b[0m\u001b[0m\n\u001b[0;32m     29\u001b[0m         \u001b[0mtemp_RMSEovertime\u001b[0m\u001b[1;33m.\u001b[0m\u001b[0mappend\u001b[0m\u001b[1;33m(\u001b[0m\u001b[0mweek\u001b[0m\u001b[1;33m+\u001b[0m\u001b[0mstartdata\u001b[0m\u001b[1;33m)\u001b[0m\u001b[1;33m\u001b[0m\u001b[1;33m\u001b[0m\u001b[0m\n\u001b[1;32m---> 30\u001b[1;33m         \u001b[0mtemp_RMSEovertime\u001b[0m\u001b[1;33m.\u001b[0m\u001b[0mappend\u001b[0m\u001b[1;33m(\u001b[0m\u001b[0mmean_absolute_percentage_error\u001b[0m\u001b[1;33m(\u001b[0m\u001b[0mnp\u001b[0m\u001b[1;33m.\u001b[0m\u001b[0mcumsum\u001b[0m\u001b[1;33m(\u001b[0m\u001b[0mweeklyAdmissions\u001b[0m\u001b[1;33m[\u001b[0m\u001b[1;33m:\u001b[0m\u001b[0mweek\u001b[0m\u001b[1;33m+\u001b[0m\u001b[0mstartdata\u001b[0m\u001b[1;33m+\u001b[0m\u001b[1;36m3\u001b[0m\u001b[1;33m]\u001b[0m\u001b[1;33m)\u001b[0m\u001b[1;33m[\u001b[0m\u001b[1;33m-\u001b[0m\u001b[1;36m3\u001b[0m\u001b[1;33m:\u001b[0m\u001b[1;33m]\u001b[0m\u001b[1;33m,\u001b[0m\u001b[0mnp\u001b[0m\u001b[1;33m.\u001b[0m\u001b[0mcumsum\u001b[0m\u001b[1;33m(\u001b[0m\u001b[0mmodelfunction\u001b[0m\u001b[1;33m(\u001b[0m\u001b[0mt_MAPE2\u001b[0m\u001b[1;33m,\u001b[0m\u001b[1;33m*\u001b[0m\u001b[0mMAPE_popt\u001b[0m\u001b[1;33m)\u001b[0m\u001b[1;33m)\u001b[0m\u001b[1;33m[\u001b[0m\u001b[1;33m-\u001b[0m\u001b[1;36m3\u001b[0m\u001b[1;33m:\u001b[0m\u001b[1;33m]\u001b[0m\u001b[1;33m)\u001b[0m\u001b[1;33m)\u001b[0m\u001b[1;33m\u001b[0m\u001b[1;33m\u001b[0m\u001b[0m\n\u001b[0m\u001b[0;32m     31\u001b[0m \u001b[1;33m\u001b[0m\u001b[0m\n\u001b[0;32m     32\u001b[0m         \u001b[1;31m#Appends matrix of all MAP vallues\u001b[0m\u001b[1;33m\u001b[0m\u001b[1;33m\u001b[0m\u001b[0m\n",
            "\u001b[1;32m~\\AppData\\Local\\Temp/ipykernel_23460/471703449.py\u001b[0m in \u001b[0;36mmodelfunction\u001b[1;34m(t, c0, c1)\u001b[0m\n\u001b[0;32m     37\u001b[0m     \u001b[1;32mreturn\u001b[0m \u001b[0mdSdt\u001b[0m\u001b[1;33m,\u001b[0m \u001b[0mdIdt\u001b[0m\u001b[1;33m,\u001b[0m \u001b[0mdRdt\u001b[0m\u001b[1;33m\u001b[0m\u001b[1;33m\u001b[0m\u001b[0m\n\u001b[0;32m     38\u001b[0m \u001b[1;33m\u001b[0m\u001b[0m\n\u001b[1;32m---> 39\u001b[1;33m   \u001b[0mresult\u001b[0m \u001b[1;33m=\u001b[0m \u001b[0modeint\u001b[0m\u001b[1;33m(\u001b[0m\u001b[0mderiv\u001b[0m\u001b[1;33m,\u001b[0m \u001b[0my0\u001b[0m\u001b[1;33m,\u001b[0m \u001b[0mt\u001b[0m\u001b[1;33m,\u001b[0m \u001b[0margs\u001b[0m\u001b[1;33m=\u001b[0m\u001b[1;33m(\u001b[0m\u001b[0mN\u001b[0m\u001b[1;33m,\u001b[0m\u001b[1;33m)\u001b[0m\u001b[1;33m)\u001b[0m\u001b[1;33m\u001b[0m\u001b[1;33m\u001b[0m\u001b[0m\n\u001b[0m\u001b[0;32m     40\u001b[0m   \u001b[0mS\u001b[0m\u001b[1;33m,\u001b[0m \u001b[0mI\u001b[0m\u001b[1;33m,\u001b[0m \u001b[0mR\u001b[0m \u001b[1;33m=\u001b[0m \u001b[0mresult\u001b[0m\u001b[1;33m.\u001b[0m\u001b[0mT\u001b[0m\u001b[1;33m\u001b[0m\u001b[1;33m\u001b[0m\u001b[0m\n\u001b[0;32m     41\u001b[0m   \u001b[1;31m#Returerar totalt antal inskrivningar varje dag\u001b[0m\u001b[1;33m\u001b[0m\u001b[1;33m\u001b[0m\u001b[0m\n",
            "\u001b[1;32m~\\AppData\\Local\\Programs\\Python\\Python39\\lib\\site-packages\\scipy\\integrate\\_odepack_py.py\u001b[0m in \u001b[0;36modeint\u001b[1;34m(func, y0, t, args, Dfun, col_deriv, full_output, ml, mu, rtol, atol, tcrit, h0, hmax, hmin, ixpr, mxstep, mxhnil, mxordn, mxords, printmessg, tfirst)\u001b[0m\n\u001b[0;32m    239\u001b[0m     \u001b[0mt\u001b[0m \u001b[1;33m=\u001b[0m \u001b[0mcopy\u001b[0m\u001b[1;33m(\u001b[0m\u001b[0mt\u001b[0m\u001b[1;33m)\u001b[0m\u001b[1;33m\u001b[0m\u001b[1;33m\u001b[0m\u001b[0m\n\u001b[0;32m    240\u001b[0m     \u001b[0my0\u001b[0m \u001b[1;33m=\u001b[0m \u001b[0mcopy\u001b[0m\u001b[1;33m(\u001b[0m\u001b[0my0\u001b[0m\u001b[1;33m)\u001b[0m\u001b[1;33m\u001b[0m\u001b[1;33m\u001b[0m\u001b[0m\n\u001b[1;32m--> 241\u001b[1;33m     output = _odepack.odeint(func, y0, t, args, Dfun, col_deriv, ml, mu,\n\u001b[0m\u001b[0;32m    242\u001b[0m                              \u001b[0mfull_output\u001b[0m\u001b[1;33m,\u001b[0m \u001b[0mrtol\u001b[0m\u001b[1;33m,\u001b[0m \u001b[0matol\u001b[0m\u001b[1;33m,\u001b[0m \u001b[0mtcrit\u001b[0m\u001b[1;33m,\u001b[0m \u001b[0mh0\u001b[0m\u001b[1;33m,\u001b[0m \u001b[0mhmax\u001b[0m\u001b[1;33m,\u001b[0m \u001b[0mhmin\u001b[0m\u001b[1;33m,\u001b[0m\u001b[1;33m\u001b[0m\u001b[1;33m\u001b[0m\u001b[0m\n\u001b[0;32m    243\u001b[0m                              \u001b[0mixpr\u001b[0m\u001b[1;33m,\u001b[0m \u001b[0mmxstep\u001b[0m\u001b[1;33m,\u001b[0m \u001b[0mmxhnil\u001b[0m\u001b[1;33m,\u001b[0m \u001b[0mmxordn\u001b[0m\u001b[1;33m,\u001b[0m \u001b[0mmxords\u001b[0m\u001b[1;33m,\u001b[0m\u001b[1;33m\u001b[0m\u001b[1;33m\u001b[0m\u001b[0m\n",
            "\u001b[1;31mValueError\u001b[0m: setting an array element with a sequence. The requested array has an inhomogeneous shape after 1 dimensions. The detected shape was (3,) + inhomogeneous part."
          ]
        }
      ],
      "source": [
        "header = ['Idex', 'Fitting points', 'MAPE'] #header for csv file\n",
        "RMSEovertime = []   #init RMSE array\n",
        "\n",
        "\n",
        "#writes a csv file of Index, number of fitting points and MAP\n",
        "with open('SIR_MAPE_weekly.csv', 'w', encoding='UTF8', newline='') as f:\n",
        "    writer = csv.writer(f)\n",
        "\n",
        "    # write the header\n",
        "    writer.writerow(header)\n",
        "    \n",
        "    #loops over all data point for fitting and curve fits the model and calculates MAPE\n",
        "    for week in range(len(weeklyAdmissions)):\n",
        "        #breaks loop when reaching final value\n",
        "        if week+startdata+3 > len(weeklyAdmissions):\n",
        "            break\n",
        "        \n",
        "        #inits temp array for writing to csv file and time array for model\n",
        "        temp_RMSEovertime = []\n",
        "        t_MAPE1 = np.linspace(0,week+startdata,week+startdata)\n",
        "        t_MAPE2 = np.linspace(0,week+startdata+3,week+startdata+3)\n",
        "        \n",
        "        #curve fits model to fitting data\n",
        "        MAPE_popt = curve_fit(modelfunction, t_MAPE1, weeklyAdmissions[:week+startdata], p0=[2.7,0.5])\n",
        "        \n",
        "        \n",
        "        #creates temp list of Index, number of fitting points and MAP\n",
        "        temp_RMSEovertime.append(week)\n",
        "        temp_RMSEovertime.append(week+startdata)\n",
        "        temp_RMSEovertime.append(mean_absolute_percentage_error(np.cumsum(weeklyAdmissions[:week+startdata+3])[-3:],np.cumsum(modelfunction(t_MAPE2,*MAPE_popt))[-3:]))\n",
        "        \n",
        "        #Appends matrix of all MAP vallues\n",
        "        RMSEovertime.append(temp_RMSEovertime)\n",
        "        \n",
        "        # write the data\n",
        "        writer.writerow(temp_RMSEovertime)"
      ]
    },
    {
      "cell_type": "markdown",
      "metadata": {},
      "source": [
        "Cell that calcualtes the IS_alpha for the model"
      ]
    },
    {
      "cell_type": "code",
      "execution_count": null,
      "metadata": {},
      "outputs": [],
      "source": [
        "numBetas = 100 #number of betas used for normal dist for conf. intervalls\n",
        "numEpsilon = 500\n",
        "alpha = 0.05\n",
        "ISalpha_score = []\n",
        "\n",
        "header = [ 'Fitting points', 'ISalpha'] #header for csv file\n",
        "\n",
        "\n",
        "with open('SIR_ISalpha_weekly.csv', 'w', encoding='UTF8', newline='') as f:\n",
        "    writer = csv.writer(f)\n",
        "\n",
        "    # write the header\n",
        "    writer.writerow(header)\n",
        "\n",
        "    for week in range(len(weeklyAdmissions)):\n",
        "            #breaks loop when reaching final value\n",
        "            if week+startdata+3 > len(weeklyAdmissions):\n",
        "                break\n",
        "            t_ISalpha1 = np.linspace(0,week+startdata,week+startdata)       #used for fitting\n",
        "            t_ISalpha2 = np.linspace(0,week+startdata+3,week+startdata+3)     #used for residual calculation\n",
        "            \n",
        "            #curve fits model to fitting data\n",
        "            ISalpha_popt, ISalpha_pcov = curve_fit(modelfunction, t_ISalpha1, weeklyAdmissions[:week+startdata], p0=[2.7,0.5])\n",
        "            \n",
        "            #calcuales standard deviation of residual between model and data using the fitting data + 3 weeks forward\n",
        "            std_residual_ISalpha = np.std(modelfunction(t_ISalpha1,*ISalpha_popt)-weeklyAdmissions[:week+startdata], ddof=2)\n",
        "            # Generates an array of betas using normal dist.\n",
        "            ISalpha_betas=np.random.multivariate_normal(ISalpha_popt,ISalpha_pcov,numBetas)  \n",
        "            \n",
        "            #Generates the prediction matrix for the prediction interval\n",
        "            predint_ISalpha = np.zeros([3,3])\n",
        "            \n",
        "            temp = []\n",
        "            pred_matrix = np.zeros((3,(numBetas*numEpsilon)))\n",
        "            for weekInInterval in range(3): #loops trough model values each week a adds the error values generated from t-dist to each prediction \n",
        "                for beta in range(len(ISalpha_betas)):\n",
        "                    temp =  np.add(np.cumsum(modelfunction(t_ISalpha2,*ISalpha_betas[beta]))[week+startdata+weekInInterval],tdist.rvs(weekInInterval+startdata+3,0,std_residual_ISalpha,numEpsilon))\n",
        "                    pred_matrix[weekInInterval,(beta*numEpsilon):(beta*numEpsilon+numEpsilon)] = temp\n",
        "\n",
        "            for weekInInterval in range(3): #calculates the prediction intervals\n",
        "                predint_ISalpha[weekInInterval,0] = np.quantile(pred_matrix[weekInInterval],0.025)\n",
        "                predint_ISalpha[weekInInterval,1] = np.quantile(pred_matrix[weekInInterval],0.975)\n",
        "                predint_ISalpha[:,2] = np.cumsum(modelfunction(t_ISalpha2,*ISalpha_betas[beta]))[-3:]\n",
        "                \n",
        "            predint_ISalpha = np.clip(predint_ISalpha,0,None) #removes all negative values from lover prediction interval\n",
        "            \n",
        "            #predint_ISalpha now contains lower, upper and the model output (columms) for the 3 weeks (rows)\n",
        "            \n",
        "            temp_score = []\n",
        "\n",
        "            #calculates the score for each week of the 3 week interval and then avrages them\n",
        "            for weekInInterval,value in enumerate(predint_ISalpha):\n",
        "\n",
        "                u = predint_ISalpha[weekInInterval,0]\n",
        "                l = predint_ISalpha[weekInInterval,1]\n",
        "                y = predint_ISalpha[weekInInterval,2]\n",
        "\n",
        "                coeff1 = 1 if y < l else 0\n",
        "                coeff2 = 1 if y > u else 0\n",
        "\n",
        "                \n",
        "                temp_score.append((u-l)+2/alpha*(l-y)*coeff1+2/alpha*(y-u)*coeff2)\n",
        "\n",
        "            temp_ISalpha_score = [week+startdata-3, np.average(temp_score)]\n",
        "            ISalpha_score.append(temp_ISalpha_score)\n",
        "            \n",
        "            # write the data\n",
        "            writer.writerow(temp_ISalpha_score)"
      ]
    },
    {
      "cell_type": "markdown",
      "metadata": {},
      "source": [
        "Calcualates the final cumulative value of of the model as fitting points increase"
      ]
    },
    {
      "cell_type": "code",
      "execution_count": 18,
      "metadata": {},
      "outputs": [
        {
          "name": "stdout",
          "output_type": "stream",
          "text": [
            "(array([2.77838401, 0.02649503]), array([[2.08451127e-04, 6.24421989e-05],\n",
            "       [6.24421989e-05, 2.69026275e-05]]))\n"
          ]
        },
        {
          "ename": "ValueError",
          "evalue": "setting an array element with a sequence. The requested array has an inhomogeneous shape after 1 dimensions. The detected shape was (3,) + inhomogeneous part.",
          "output_type": "error",
          "traceback": [
            "\u001b[1;31m---------------------------------------------------------------------------\u001b[0m",
            "\u001b[1;31mValueError\u001b[0m                                Traceback (most recent call last)",
            "\u001b[1;32m~\\AppData\\Local\\Temp/ipykernel_23460/1677266960.py\u001b[0m in \u001b[0;36m<module>\u001b[1;34m\u001b[0m\n\u001b[0;32m     26\u001b[0m \u001b[1;33m\u001b[0m\u001b[0m\n\u001b[0;32m     27\u001b[0m         \u001b[1;31m#creates temp list of Index, number of fitting points and MAP\u001b[0m\u001b[1;33m\u001b[0m\u001b[1;33m\u001b[0m\u001b[0m\n\u001b[1;32m---> 28\u001b[1;33m         \u001b[0mtemp_totaladmissions\u001b[0m \u001b[1;33m=\u001b[0m \u001b[1;33m[\u001b[0m\u001b[0mweek\u001b[0m\u001b[1;33m+\u001b[0m\u001b[0mstartdata\u001b[0m\u001b[1;33m-\u001b[0m\u001b[1;36m3\u001b[0m\u001b[1;33m,\u001b[0m\u001b[0mnp\u001b[0m\u001b[1;33m.\u001b[0m\u001b[0mcumsum\u001b[0m\u001b[1;33m(\u001b[0m\u001b[0mmodelfunction\u001b[0m\u001b[1;33m(\u001b[0m\u001b[0mt\u001b[0m\u001b[1;33m,\u001b[0m\u001b[1;33m*\u001b[0m\u001b[0mTotalAdmissions_popt\u001b[0m\u001b[1;33m)\u001b[0m\u001b[1;33m)\u001b[0m\u001b[1;33m[\u001b[0m\u001b[1;33m-\u001b[0m\u001b[1;36m1\u001b[0m\u001b[1;33m]\u001b[0m\u001b[1;33m]\u001b[0m\u001b[1;33m\u001b[0m\u001b[1;33m\u001b[0m\u001b[0m\n\u001b[0m\u001b[0;32m     29\u001b[0m \u001b[1;33m\u001b[0m\u001b[0m\n\u001b[0;32m     30\u001b[0m \u001b[1;33m\u001b[0m\u001b[0m\n",
            "\u001b[1;32m~\\AppData\\Local\\Temp/ipykernel_23460/471703449.py\u001b[0m in \u001b[0;36mmodelfunction\u001b[1;34m(t, c0, c1)\u001b[0m\n\u001b[0;32m     37\u001b[0m     \u001b[1;32mreturn\u001b[0m \u001b[0mdSdt\u001b[0m\u001b[1;33m,\u001b[0m \u001b[0mdIdt\u001b[0m\u001b[1;33m,\u001b[0m \u001b[0mdRdt\u001b[0m\u001b[1;33m\u001b[0m\u001b[1;33m\u001b[0m\u001b[0m\n\u001b[0;32m     38\u001b[0m \u001b[1;33m\u001b[0m\u001b[0m\n\u001b[1;32m---> 39\u001b[1;33m   \u001b[0mresult\u001b[0m \u001b[1;33m=\u001b[0m \u001b[0modeint\u001b[0m\u001b[1;33m(\u001b[0m\u001b[0mderiv\u001b[0m\u001b[1;33m,\u001b[0m \u001b[0my0\u001b[0m\u001b[1;33m,\u001b[0m \u001b[0mt\u001b[0m\u001b[1;33m,\u001b[0m \u001b[0margs\u001b[0m\u001b[1;33m=\u001b[0m\u001b[1;33m(\u001b[0m\u001b[0mN\u001b[0m\u001b[1;33m,\u001b[0m\u001b[1;33m)\u001b[0m\u001b[1;33m)\u001b[0m\u001b[1;33m\u001b[0m\u001b[1;33m\u001b[0m\u001b[0m\n\u001b[0m\u001b[0;32m     40\u001b[0m   \u001b[0mS\u001b[0m\u001b[1;33m,\u001b[0m \u001b[0mI\u001b[0m\u001b[1;33m,\u001b[0m \u001b[0mR\u001b[0m \u001b[1;33m=\u001b[0m \u001b[0mresult\u001b[0m\u001b[1;33m.\u001b[0m\u001b[0mT\u001b[0m\u001b[1;33m\u001b[0m\u001b[1;33m\u001b[0m\u001b[0m\n\u001b[0;32m     41\u001b[0m   \u001b[1;31m#Returerar totalt antal inskrivningar varje dag\u001b[0m\u001b[1;33m\u001b[0m\u001b[1;33m\u001b[0m\u001b[0m\n",
            "\u001b[1;32m~\\AppData\\Local\\Programs\\Python\\Python39\\lib\\site-packages\\scipy\\integrate\\_odepack_py.py\u001b[0m in \u001b[0;36modeint\u001b[1;34m(func, y0, t, args, Dfun, col_deriv, full_output, ml, mu, rtol, atol, tcrit, h0, hmax, hmin, ixpr, mxstep, mxhnil, mxordn, mxords, printmessg, tfirst)\u001b[0m\n\u001b[0;32m    239\u001b[0m     \u001b[0mt\u001b[0m \u001b[1;33m=\u001b[0m \u001b[0mcopy\u001b[0m\u001b[1;33m(\u001b[0m\u001b[0mt\u001b[0m\u001b[1;33m)\u001b[0m\u001b[1;33m\u001b[0m\u001b[1;33m\u001b[0m\u001b[0m\n\u001b[0;32m    240\u001b[0m     \u001b[0my0\u001b[0m \u001b[1;33m=\u001b[0m \u001b[0mcopy\u001b[0m\u001b[1;33m(\u001b[0m\u001b[0my0\u001b[0m\u001b[1;33m)\u001b[0m\u001b[1;33m\u001b[0m\u001b[1;33m\u001b[0m\u001b[0m\n\u001b[1;32m--> 241\u001b[1;33m     output = _odepack.odeint(func, y0, t, args, Dfun, col_deriv, ml, mu,\n\u001b[0m\u001b[0;32m    242\u001b[0m                              \u001b[0mfull_output\u001b[0m\u001b[1;33m,\u001b[0m \u001b[0mrtol\u001b[0m\u001b[1;33m,\u001b[0m \u001b[0matol\u001b[0m\u001b[1;33m,\u001b[0m \u001b[0mtcrit\u001b[0m\u001b[1;33m,\u001b[0m \u001b[0mh0\u001b[0m\u001b[1;33m,\u001b[0m \u001b[0mhmax\u001b[0m\u001b[1;33m,\u001b[0m \u001b[0mhmin\u001b[0m\u001b[1;33m,\u001b[0m\u001b[1;33m\u001b[0m\u001b[1;33m\u001b[0m\u001b[0m\n\u001b[0;32m    243\u001b[0m                              \u001b[0mixpr\u001b[0m\u001b[1;33m,\u001b[0m \u001b[0mmxstep\u001b[0m\u001b[1;33m,\u001b[0m \u001b[0mmxhnil\u001b[0m\u001b[1;33m,\u001b[0m \u001b[0mmxordn\u001b[0m\u001b[1;33m,\u001b[0m \u001b[0mmxords\u001b[0m\u001b[1;33m,\u001b[0m\u001b[1;33m\u001b[0m\u001b[1;33m\u001b[0m\u001b[0m\n",
            "\u001b[1;31mValueError\u001b[0m: setting an array element with a sequence. The requested array has an inhomogeneous shape after 1 dimensions. The detected shape was (3,) + inhomogeneous part."
          ]
        }
      ],
      "source": [
        "header = ['Idex', 'Fitting points', 'Total admissions'] #header for csv file\n",
        "Totaladmissionsovertime = []   #init RMSE array\n",
        "\n",
        "\n",
        "#writes a csv file of Index, number of fitting points and MAP\n",
        "with open('Totaladmissions_weekly.csv', 'w', encoding='UTF8', newline='') as f:\n",
        "    writer = csv.writer(f)\n",
        "\n",
        "    # write the header\n",
        "    writer.writerow(header)\n",
        "    \n",
        "    #loops over all data point for fitting and curve fits the model and calculates MAPE\n",
        "    for week in range(len(weeklyAdmissions)):\n",
        "        #breaks loop when reaching final value\n",
        "        if week+startdata+3 > len(weeklyAdmissions):\n",
        "            break\n",
        "        \n",
        "        #inits temp array for writing to csv file and time array for model\n",
        "        temp_totaladmissions = []\n",
        "        t_totaladmissions = np.linspace(0,week+startdata,week+startdata)\n",
        "        \n",
        "        #curve fits model to fitting data\n",
        "        TotalAdmissions_popt, TotalAdmissions_covt = curve_fit(modelfunction, t_totaladmissions, weeklyAdmissions[:week+startdata], p0=[2.7,0.5])\n",
        "        \n",
        "        print(TotalAdmissions_popt)\n",
        "        \n",
        "        #creates temp list of Index, number of fitting points and MAP\n",
        "        temp_totaladmissions = [week+startdata-3,np.cumsum(modelfunction(t,*TotalAdmissions_popt))[-1]]\n",
        "        \n",
        "        \n",
        "        #Appends matrix of all MAP vallues\n",
        "        Totaladmissionsovertime.append(temp_RMSEovertime)\n",
        "        \n",
        "        # write the data\n",
        "        writer.writerow(temp_totaladmissions)"
      ]
    },
    {
      "cell_type": "code",
      "execution_count": 16,
      "metadata": {},
      "outputs": [
        {
          "data": {
            "text/plain": [
              "3984.182991716148"
            ]
          },
          "execution_count": 16,
          "metadata": {},
          "output_type": "execute_result"
        }
      ],
      "source": [
        "pd.to_datetime('2020-03-01')+timedelta(weeks=21)\n",
        "np.cumsum(modelfunction(t,*[2.7,0.5]))[-1]"
      ]
    },
    {
      "cell_type": "markdown",
      "metadata": {
        "id": "9acQUL9UHZyX"
      },
      "source": [
        "Cell that seatches for a global minimum of the paramaters given using RMSE"
      ]
    },
    {
      "cell_type": "code",
      "execution_count": null,
      "metadata": {},
      "outputs": [
        {
          "data": {
            "application/vnd.plotly.v1+json": {
              "config": {
                "plotlyServerURL": "https://plot.ly"
              },
              "data": [
                {
                  "colorbar": {
                    "title": {
                      "side": "right",
                      "text": "Log RMSE"
                    }
                  },
                  "type": "contour",
                  "x": [
                    0,
                    0.08163265306122448,
                    0.16326530612244897,
                    0.24489795918367346,
                    0.32653061224489793,
                    0.4081632653061224,
                    0.4897959183673469,
                    0.5714285714285714,
                    0.6530612244897959,
                    0.7346938775510203,
                    0.8163265306122448,
                    0.8979591836734693,
                    0.9795918367346939,
                    1.0612244897959182,
                    1.1428571428571428,
                    1.2244897959183672,
                    1.3061224489795917,
                    1.3877551020408163,
                    1.4693877551020407,
                    1.5510204081632653,
                    1.6326530612244896,
                    1.7142857142857142,
                    1.7959183673469385,
                    1.8775510204081631,
                    1.9591836734693877,
                    2.0408163265306123,
                    2.1224489795918364,
                    2.204081632653061,
                    2.2857142857142856,
                    2.36734693877551,
                    2.4489795918367343,
                    2.530612244897959,
                    2.6122448979591835,
                    2.693877551020408,
                    2.7755102040816326,
                    2.8571428571428568,
                    2.9387755102040813,
                    3.020408163265306,
                    3.1020408163265305,
                    3.1836734693877546,
                    3.265306122448979,
                    3.346938775510204,
                    3.4285714285714284,
                    3.510204081632653,
                    3.591836734693877,
                    3.6734693877551017,
                    3.7551020408163263,
                    3.836734693877551,
                    3.9183673469387754,
                    4
                  ],
                  "y": [
                    0,
                    0.02040816326530612,
                    0.04081632653061224,
                    0.061224489795918366,
                    0.08163265306122448,
                    0.1020408163265306,
                    0.12244897959183673,
                    0.14285714285714285,
                    0.16326530612244897,
                    0.18367346938775508,
                    0.2040816326530612,
                    0.22448979591836732,
                    0.24489795918367346,
                    0.26530612244897955,
                    0.2857142857142857,
                    0.3061224489795918,
                    0.32653061224489793,
                    0.3469387755102041,
                    0.36734693877551017,
                    0.3877551020408163,
                    0.4081632653061224,
                    0.42857142857142855,
                    0.44897959183673464,
                    0.4693877551020408,
                    0.4897959183673469,
                    0.5102040816326531,
                    0.5306122448979591,
                    0.5510204081632653,
                    0.5714285714285714,
                    0.5918367346938775,
                    0.6122448979591836,
                    0.6326530612244897,
                    0.6530612244897959,
                    0.673469387755102,
                    0.6938775510204082,
                    0.7142857142857142,
                    0.7346938775510203,
                    0.7551020408163265,
                    0.7755102040816326,
                    0.7959183673469387,
                    0.8163265306122448,
                    0.836734693877551,
                    0.8571428571428571,
                    0.8775510204081632,
                    0.8979591836734693,
                    0.9183673469387754,
                    0.9387755102040816,
                    0.9591836734693877,
                    0.9795918367346939,
                    1
                  ],
                  "z": [
                    [
                      4.37302626299335,
                      4.373026259088077,
                      4.3730262528497175,
                      4.373026243684652,
                      4.373026230396525,
                      4.373026211183086,
                      4.373026183406054,
                      4.373026143224347,
                      4.373026085063805,
                      4.37302600084203,
                      4.373025878862326,
                      4.373025702235069,
                      4.373025446659505,
                      4.373025077347823,
                      4.373024544880699,
                      4.373023779855647,
                      4.373022686507491,
                      4.373021136336073,
                      4.373018964836339,
                      4.37301597910474,
                      4.373011994380654,
                      4.373006939615064,
                      4.373001118928565,
                      4.372995813810861,
                      4.372994615145457,
                      4.373006297132665,
                      4.37305091587298,
                      4.373172595360188,
                      4.373466061472212,
                      4.374131122250713,
                      4.375582964849646,
                      4.378670517457915,
                      4.385091797525982,
                      4.398124808814848,
                      4.423715754658442,
                      4.4715008559362,
                      4.554180117639432,
                      4.682896454050735,
                      4.859618504198207,
                      5.073784521689534,
                      5.307503713666732,
                      5.5433076165424895,
                      5.768121798654199,
                      5.97349484895996,
                      6.1543996493261375,
                      6.308050154564139,
                      6.433241619209882,
                      6.530164181952117,
                      6.600354184688501,
                      6.646495792936558
                    ],
                    [
                      4.373026257985846,
                      4.373026253053642,
                      4.373026244842243,
                      4.373026232721445,
                      4.373026215147005,
                      4.3730261897604485,
                      4.373026153102811,
                      4.373026100142106,
                      4.373026023577624,
                      4.373025912837252,
                      4.3730257526388385,
                      4.373025520952202,
                      4.373025186142005,
                      4.373024703043008,
                      4.3730240077317974,
                      4.373023010920579,
                      4.373021590413008,
                      4.373019584408422,
                      4.373016790595845,
                      4.373012983064532,
                      4.373007974492653,
                      4.373001784149113,
                      4.372995042044893,
                      4.372989905999186,
                      4.372992073282538,
                      4.373015099313383,
                      4.3730895335428395,
                      4.373282025874412,
                      4.373734864673437,
                      4.374746786019899,
                      4.376935168390038,
                      4.38155170997944,
                      4.391062390179059,
                      4.410094630572034,
                      4.446606696143185,
                      4.512274234784974,
                      4.619811921397082,
                      4.776037309988139,
                      4.975583614732049,
                      5.202637269917016,
                      5.4387570731115815,
                      5.668874629525179,
                      5.882854140313928,
                      6.074588872064961,
                      6.240602768659712,
                      6.379069208483281,
                      6.489452214528054,
                      6.572509326272229,
                      6.63025798748435,
                      6.665710001769534
                    ],
                    [
                      4.373026250754218,
                      4.373026244660328,
                      4.3730262338607595,
                      4.373026217813724,
                      4.373026194535064,
                      4.373026160940628,
                      4.37302611249281,
                      4.3730260425925405,
                      4.373025941671918,
                      4.373025795891519,
                      4.373025585274587,
                      4.3730252810740735,
                      4.3730248421032805,
                      4.373024209743052,
                      4.373023301386741,
                      4.373022002383939,
                      4.373020157375533,
                      4.373017564015041,
                      4.373013976908563,
                      4.373009140373284,
                      4.373002891902199,
                      4.372995427988629,
                      4.37298792888897,
                      4.372983958699572,
                      4.372992514677044,
                      4.373034545467362,
                      4.373156698774741,
                      4.373459993496643,
                      4.374158928075388,
                      4.37570148591528,
                      4.379006927896834,
                      4.385916846116667,
                      4.399980584403384,
                      4.427589611991415,
                      4.478920659655359,
                      4.566894005849885,
                      4.70187530267364,
                      4.884025320632347,
                      5.101120541170811,
                      5.334796481470659,
                      5.568166223685253,
                      5.789187030074408,
                      5.990457916564633,
                      6.167767415594937,
                      6.31877015201814,
                      6.442327926893767,
                      6.538448535750534,
                      6.608395224005944,
                      6.654599178610537,
                      6.680315074136162
                    ],
                    [
                      4.373026240157639,
                      4.373026232906353,
                      4.373026218725503,
                      4.373026197457538,
                      4.373026166575921,
                      4.373026122047995,
                      4.373026057919178,
                      4.373025965526241,
                      4.373025832321606,
                      4.373025640174363,
                      4.373025362956855,
                      4.373024963144985,
                      4.373024387118012,
                      4.373023558830433,
                      4.37302237166617,
                      4.373020678776661,
                      4.373018283570429,
                      4.373014935280409,
                      4.373010341989861,
                      4.373004229860981,
                      4.372996512718025,
                      4.372987711286417,
                      4.372979919999189,
                      4.372978951194785,
                      4.372998976339667,
                      4.373072408771489,
                      4.37327068399547,
                      4.373747451916255,
                      4.374827145276716,
                      4.377183033290046,
                      4.382183283326289,
                      4.3925220439457,
                      4.413228297014984,
                      4.452831274559302,
                      4.523475170719978,
                      4.6375596530035175,
                      4.800314072676592,
                      5.004301882871161,
                      5.232602114191419,
                      5.4670029075909605,
                      5.6934203416745115,
                      5.902886429791207,
                      6.090312780054423,
                      6.252890394083607,
                      6.389036478913692,
                      6.498118274887694,
                      6.580624336488246,
                      6.63827993399784,
                      6.673860994885933,
                      6.690781645313625
                    ],
                    [
                      4.373026224371141,
                      4.373026216321028,
                      4.373026197752822,
                      4.373026169539809,
                      4.3730261285087275,
                      4.3730260693891205,
                      4.373025984363941,
                      4.373025862052698,
                      4.373025685983433,
                      4.37302543238861,
                      4.373025067076152,
                      4.373024541051502,
                      4.373023784513468,
                      4.373022698883429,
                      4.373021146787149,
                      4.373018940753943,
                      4.373015833565358,
                      4.37301151827761,
                      4.373005657427873,
                      4.372997985981776,
                      4.372988586503109,
                      4.372978549396469,
                      4.372971471964461,
                      4.372976753791403,
                      4.373016691941804,
                      4.373141532874433,
                      4.373461015003888,
                      4.374209634441533,
                      4.375879443626907,
                      4.379483116766043,
                      4.387050418208272,
                      4.402479483970756,
                      4.432714438800503,
                      4.488549262961713,
                      4.58302058708708,
                      4.725340053116576,
                      4.913448074477942,
                      5.133351263493087,
                      5.366378860054495,
                      5.596454465454035,
                      5.812760331880904,
                      6.00909035874943,
                      6.182136479246574,
                      6.330019595774073,
                      6.4516446123646904,
                      6.546791618550621,
                      6.61640637791055,
                      6.662634166362117,
                      6.688520743843161,
                      6.697560343845701
                    ],
                    [
                      4.373026200405119,
                      4.373026192734466,
                      4.373026168523844,
                      4.373026131074055,
                      4.373026076469143,
                      4.373025997841264,
                      4.373025884917733,
                      4.373025722736617,
                      4.3730254896578336,
                      4.373025154501902,
                      4.3730246725006365,
                      4.373023979670379,
                      4.37302298517412,
                      4.373021561356527,
                      4.373019531611642,
                      4.373016657654513,
                      4.373012631200904,
                      4.373007083043848,
                      4.37299964022252,
                      4.372990100571248,
                      4.372978876420583,
                      4.37296803421761,
                      4.372963624925797,
                      4.372980768416126,
                      4.373054547969364,
                      4.373263035126558,
                      4.373775340214111,
                      4.374950408026224,
                      4.377535748565487,
                      4.383052428204529,
                      4.394489344803253,
                      4.417380197299037,
                      4.460931789945754,
                      4.53774155234145,
                      4.659597925054981,
                      4.829669815805669,
                      5.038202488614453,
                      5.267275257881809,
                      5.499146003644613,
                      5.72092632237475,
                      5.924974976403054,
                      6.107331194471215,
                      6.2659045970587135,
                      6.399352398380345,
                      6.506906227036016,
                      6.588738175489133,
                      6.646242156911985,
                      6.681931434268511,
                      6.699042511845296,
                      6.7010777020457954
                    ],
                    [
                      4.373026163233631,
                      4.373026158900524,
                      4.373026127547785,
                      4.3730260778163865,
                      4.373026005037738,
                      4.3730259002708,
                      4.373025750024988,
                      4.373025534611882,
                      4.3730252255767885,
                      4.373024781988134,
                      4.373024145204039,
                      4.373023231661955,
                      4.373021923213921,
                      4.373020054794542,
                      4.3730174000554936,
                      4.373013657895642,
                      4.373008448296676,
                      4.373001338345273,
                      4.372991946868439,
                      4.372980235580855,
                      4.3729672219005105,
                      4.372956617496236,
                      4.372958462042364,
                      4.372996999751196,
                      4.373127479347022,
                      4.373471511646977,
                      4.374290454105972,
                      4.37613492088641,
                      4.380140399532881,
                      4.388580689717102,
                      4.405796442635094,
                      4.439403702479243,
                      4.500867979094213,
                      4.603151313821168,
                      4.75383969426697,
                      4.948262799409908,
                      5.17066330527044,
                      5.402305954077322,
                      5.628160102067873,
                      5.83880484112672,
                      6.029351907557727,
                      6.197471082691739,
                      6.341769142153253,
                      6.461168608624045,
                      6.5551756846243805,
                      6.624374073210765,
                      6.670590161318051,
                      6.696639926705862,
                      6.7058713144353534,
                      6.701733377258214
                    ],
                    [
                      4.373026104162088,
                      4.373026109928743,
                      4.373026069744471,
                      4.3730260037073005,
                      4.373025906554153,
                      4.373025766703938,
                      4.3730255664262225,
                      4.373025279798172,
                      4.373024869377591,
                      4.373024281393546,
                      4.373023439005803,
                      4.373022233094496,
                      4.373020510123078,
                      4.373018057096646,
                      4.373014585112702,
                      4.373009716722799,
                      4.373002991054525,
                      4.372993920195526,
                      4.37298217331015,
                      4.372968057260363,
                      4.37295365949607,
                      4.372945435021643,
                      4.3729598914392005,
                      4.373035839700962,
                      4.373260402739647,
                      4.373823475560484,
                      4.375129902731444,
                      4.3780249505891415,
                      4.384228633743937,
                      4.397106533789292,
                      4.422816525111958,
                      4.471343775822747,
                      4.55565574796286,
                      4.686518642609353,
                      4.864538950907589,
                      5.077504019139152,
                      5.306710730105284,
                      5.535154349829606,
                      5.751332004725574,
                      5.949060021007981,
                      6.125594718648671,
                      6.279607072434721,
                      6.409987852358851,
                      6.515794209686003,
                      6.596834617540909,
                      6.654132408857702,
                      6.6899116982939555,
                      6.707215686474154,
                      6.709429023621307,
                      6.699898887762965
                    ],
                    [
                      4.3730260076704095,
                      4.373026038361766,
                      4.373025987672928,
                      4.373025900039861,
                      4.373025770164075,
                      4.37302558312725,
                      4.373025315639617,
                      4.373024933547527,
                      4.373024387544993,
                      4.373023606956757,
                      4.373022491074461,
                      4.373020897457829,
                      4.37301862685013,
                      4.3730154052036525,
                      4.373010865851261,
                      4.37300454086005,
                      4.3729958844718455,
                      4.372984382435707,
                      4.372969868128479,
                      4.372953310581162,
                      4.372938646080466,
                      4.372936871363505,
                      4.372974968657053,
                      4.373115031243352,
                      4.373494659159855,
                      4.374410984608416,
                      4.376491867820947,
                      4.381033084897383,
                      4.390622174224746,
                      4.4101540679705185,
                      4.448042609976652,
                      4.516434525981562,
                      4.627910485975338,
                      4.787876420249018,
                      4.988738151128996,
                      5.213120994850742,
                      5.442527096267179,
                      5.663193251848348,
                      5.867233525990221,
                      6.051173151550963,
                      6.213719713106467,
                      6.35398115498628,
                      6.470872425789256,
                      6.563580788453921,
                      6.632283773979603,
                      6.678456222293646,
                      6.704663882588806,
                      6.714096999152924,
                      6.710111487973216,
                      6.695917432647759
                    ],
                    [
                      4.373025845080774,
                      4.373025932710757,
                      4.373025870361491,
                      4.37302575423773,
                      4.373025580391235,
                      4.373025329769522,
                      4.373024971804798,
                      4.3730244614783675,
                      4.373023733820117,
                      4.3730226958949645,
                      4.373021215710532,
                      4.373019107480078,
                      4.373016113109291,
                      4.373011881411448,
                      4.373005950649223,
                      4.3729977497788175,
                      4.372986655896984,
                      4.372972194196975,
                      4.372954572293603,
                      4.372935966862116,
                      4.372923460219298,
                      4.372935533067134,
                      4.373016122371281,
                      4.373264576310387,
                      4.3738985310539125,
                      4.375383508315779,
                      4.378692746308212,
                      4.3858033574033115,
                      4.400557547608867,
                      4.42987144561359,
                      4.484587219380705,
                      4.577858569291936,
                      4.718895289651792,
                      4.905260687440587,
                      5.122299500307797,
                      5.350846779654886,
                      5.574906640010754,
                      5.784516031444457,
                      5.975044441244678,
                      6.145032880493075,
                      6.293948009297647,
                      6.4209075594090885,
                      6.524757162330855,
                      6.604895810792834,
                      6.66193783966317,
                      6.6977920870842915,
                      6.715293176806976,
                      6.717700217261131,
                      6.708287107741472,
                      6.69010470883292
                    ],
                    [
                      4.373025561330087,
                      4.373025775068045,
                      4.373025701514602,
                      4.373025548034133,
                      4.373025315071384,
                      4.373024978608941,
                      4.37302449858677,
                      4.373023815647876,
                      4.373022844139808,
                      4.37302146182524,
                      4.373019495766601,
                      4.373016703931906,
                      4.3730127529656135,
                      4.373007195343128,
                      4.372999455943973,
                      4.372988853856259,
                      4.372974720659371,
                      4.372956753729737,
                      4.372935910038018,
                      4.372916502109273,
                      4.37291091118866,
                      4.372949912905847,
                      4.37310488538395,
                      4.373534836279462,
                      4.374584324469019,
                      4.376982663701597,
                      4.382233765842426,
                      4.393325500996802,
                      4.415837811113198,
                      4.459104482224216,
                      4.535887649248915,
                      4.657937950674278,
                      4.827879194977056,
                      5.0350205332343405,
                      5.260666580828446,
                      5.4868931507998955,
                      5.701393707586602,
                      5.897913728629,
                      6.074457427160046,
                      6.230815386699437,
                      6.366609444777248,
                      6.480724057205364,
                      6.5719846071089245,
                      6.640119897970299,
                      6.686221163253278,
                      6.712583991600734,
                      6.7222299509347385,
                      6.71841678493416,
                      6.704296450736455,
                      6.682750453681898
                    ],
                    [
                      4.373025046023457,
                      4.373025537200867,
                      4.373025456766045,
                      4.373025254746538,
                      4.373024942303397,
                      4.373024489756203,
                      4.373023844724816,
                      4.373022928953259,
                      4.373021629491691,
                      4.3730197855605875,
                      4.373017170739584,
                      4.3730134703344365,
                      4.373008255509857,
                      4.373000960444144,
                      4.372990879972172,
                      4.37297723080413,
                      4.372959376073568,
                      4.372937436254671,
                      4.372913774245372,
                      4.372896406007106,
                      4.3729065763749135,
                      4.3729952199158335,
                      4.373278125819613,
                      4.374009844491731,
                      4.375735893202034,
                      4.379596481539486,
                      4.38789922835457,
                      4.405083479336515,
                      4.438967267048455,
                      4.501280934889445,
                      4.6050429090324565,
                      4.757260210121381,
                      4.952063693661161,
                      5.172558319533658,
                      5.399517279241251,
                      5.61820403091867,
                      5.820303981427849,
                      6.002797386500694,
                      6.165554987931014,
                      6.308865990124589,
                      6.432069814660489,
                      6.533766713247314,
                      6.612902474343331,
                      6.669645102632173,
                      6.7055628930476745,
                      6.723267219222449,
                      6.7258841970816645,
                      6.716611595363187,
                      6.69845287144434,
                      6.674120554710446
                    ],
                    [
                      4.373024066521646,
                      4.373025174004951,
                      4.3730250994193,
                      4.373024835185909,
                      4.373024415950805,
                      4.373023806173128,
                      4.373022937609691,
                      4.373021707131308,
                      4.373019965794306,
                      4.373017502210014,
                      4.373014020309745,
                      4.373009112106997,
                      4.373002229099668,
                      4.372992663854873,
                      4.3729795717225075,
                      4.372962104200624,
                      4.372939816451907,
                      4.3729137087615,
                      4.372888683578034,
                      4.372879094445582,
                      4.372920942304651,
                      4.37309816957495,
                      4.373598412540945,
                      4.3748290474332645,
                      4.377652445156985,
                      4.383841958426369,
                      4.396892827846184,
                      4.423218750080462,
                      4.473173789179427,
                      4.559953917710827,
                      4.693874036414969,
                      4.874188625505453,
                      5.087136994146678,
                      5.313135916142912,
                      5.535173510354407,
                      5.742542804159531,
                      5.930673090579158,
                      6.099082597865438,
                      6.248675665989124,
                      6.379598936844905,
                      6.490686691172112,
                      6.580362639153656,
                      6.647866005449365,
                      6.693873618547157,
                      6.720391772870166,
                      6.730263069753663,
                      6.726642368917958,
                      6.712622303665469,
                      6.691043913858401,
                      6.664459515471225
                    ],
                    [
                      4.373022102716148,
                      4.373024612525089,
                      4.3730245738028986,
                      4.373024231478123,
                      4.373023668972919,
                      4.373022845952441,
                      4.37302167397787,
                      4.3730200172825535,
                      4.373017679541781,
                      4.37301438307699,
                      4.373009741555704,
                      4.373003228277417,
                      4.3729941474159055,
                      4.37298162876278,
                      4.372964696862627,
                      4.372942532752665,
                      4.372915193503919,
                      4.372885371157848,
                      4.3728624472450885,
                      4.3728715237857925,
                      4.3729730861473755,
                      4.373305057497893,
                      4.374171169469034,
                      4.376222476583528,
                      4.380816873099099,
                      4.390685191339592,
                      4.411007030643988,
                      4.4506446974550276,
                      4.522163447127315,
                      4.637950882203752,
                      4.80209218679028,
                      5.005069102824167,
                      5.228145367757736,
                      5.452474172448377,
                      5.664786980473101,
                      5.858477476668331,
                      6.032157457960808,
                      6.18705038920319,
                      6.324287498816349,
                      6.443426214997597,
                      6.542791160231378,
                      6.620833883967481,
                      6.677240409732264,
                      6.713214474827871,
                      6.731130349300916,
                      6.733974307856235,
                      6.724865393763965,
                      6.70675988191638,
                      6.682333224120333,
                      6.653993197091704
                    ],
                    [
                      4.373017905086664,
                      4.373023733085399,
                      4.373023794887834,
                      4.37302335769397,
                      4.373022603492426,
                      4.373021490969429,
                      4.373019906405649,
                      4.373017671385103,
                      4.373014527393147,
                      4.373010110266438,
                      4.373003917504073,
                      4.3729952733368,
                      4.372983305462533,
                      4.372966969366304,
                      4.372945205989269,
                      4.372917428045301,
                      4.3728847681461,
                      4.3728530312851435,
                      4.372839376002226,
                      4.372887020586682,
                      4.37309697472498,
                      4.37369530677928,
                      4.37517285741262,
                      4.378566799651641,
                      4.385998917794154,
                      4.401603281208517,
                      4.4327895159424235,
                      4.490980919020211,
                      4.589461164750387,
                      4.736353750385587,
                      4.927060047221654,
                      5.145016659566096,
                      5.370285862492836,
                      5.587078055288292,
                      5.78637634129862,
                      5.965304787209011,
                      6.124901877137259,
                      6.267202108184567,
                      6.392885253214129,
                      6.50071876073469,
                      6.588688312507179,
                      6.655504963788832,
                      6.701402169776626,
                      6.728079016232878,
                      6.738189624674842,
                      6.73478178635964,
                      6.720887870636309,
                      6.699309644715309,
                      6.672562868452862,
                      6.642931693103504
                    ],
                    [
                      4.373008195124182,
                      4.373022336525216,
                      4.3730226318181975,
                      4.373022085558378,
                      4.373021075962276,
                      4.3730195701677355,
                      4.373017423630951,
                      4.373014402550062,
                      4.373010167144202,
                      4.373004241090509,
                      4.3729959739288935,
                      4.37298450640295,
                      4.372968764041114,
                      4.372947540963706,
                      4.372919817742442,
                      4.372885636084842,
                      4.372848238797734,
                      4.372819006145033,
                      4.372828457442503,
                      4.37295020954499,
                      4.37335219359891,
                      4.374404066320692,
                      4.376896748564613,
                      4.3824724912489,
                      4.3944025419409956,
                      4.418772771394447,
                      4.465610301401881,
                      4.548125977403305,
                      4.677380458758827,
                      4.853820709466395,
                      5.064313045887588,
                      5.288852822621675,
                      5.50941452640606,
                      5.714351962353181,
                      5.898781480878029,
                      6.062934270946887,
                      6.209387973655541,
                      6.340126374528859,
                      6.454921573600633,
                      6.551795710210806,
                      6.628668201531341,
                      6.684709781212269,
                      6.720737370776149,
                      6.738875438224396,
                      6.741964317668936,
                      6.733042131806565,
                      6.715018217843128,
                      6.690533081655391,
                      6.661955972267159,
                      6.631472259065034
                    ],
                    [
                      4.372983415716257,
                      4.373020086208211,
                      4.373020881770658,
                      4.373020222595735,
                      4.37301887492251,
                      4.3730168348652185,
                      4.373013921836208,
                      4.373009830784522,
                      4.373004116427791,
                      4.372996158298408,
                      4.372985120412276,
                      4.372969924629986,
                      4.37294928275246,
                      4.372921893207505,
                      4.37288704329513,
                      4.37284615036935,
                      4.372806402884086,
                      4.372788993104991,
                      4.372847226091889,
                      4.373105551444331,
                      4.373842131368154,
                      4.375659582500435,
                      4.379825939538956,
                      4.38891401518694,
                      4.407856504198171,
                      4.4452228148239215,
                      4.513456297496457,
                      4.625364583916388,
                      4.786016560299103,
                      4.986686085993739,
                      5.208525472781551,
                      5.431825648724952,
                      5.642277247626361,
                      5.832593821357644,
                      6.001569603311001,
                      6.151743271355756,
                      6.286279469672403,
                      6.406394479373558,
                      6.510774089076437,
                      6.596933146808843,
                      6.6630191499070115,
                      6.708795495638459,
                      6.7356378021019765,
                      6.746003297950578,
                      6.742829101073763,
                      6.729086616105678,
                      6.707539565864268,
                      6.680669986143232,
                      6.650719527723483,
                      6.619802133512805
                    ],
                    [
                      4.372912226494551,
                      4.373016403683035,
                      4.373018228025509,
                      4.373017478487771,
                      4.373015687543411,
                      4.373012922166559,
                      4.373008962670109,
                      4.3730034135913325,
                      4.372995694054199,
                      4.372985000839443,
                      4.372970270896393,
                      4.3729501784494405,
                      4.372923245519225,
                      4.372888246024725,
                      4.37284530638872,
                      4.372798585294509,
                      4.372762437640966,
                      4.37277512344975,
                      4.3729286030232934,
                      4.373432065368053,
                      4.374744592518823,
                      4.37784416462229,
                      4.384746336025951,
                      4.399410944800035,
                      4.429015013629497,
                      4.484811838150591,
                      4.580264313257839,
                      4.724207379902419,
                      4.912849347517938,
                      5.129782572589025,
                      5.35443419238248,
                      5.57000276333158,
                      5.766561817372037,
                      5.940926851025646,
                      6.094907692673973,
                      6.2324150024841245,
                      6.356283400024001,
                      6.466494063728461,
                      6.560742728404178,
                      6.636382661282784,
                      6.692039216156324,
                      6.728122381433047,
                      6.746495748332675,
                      6.749848447762309,
                      6.741135906774459,
                      6.723221019524755,
                      6.698711307483754,
                      6.669940965761636,
                      6.639047169008577,
                      6.608101317690055
                    ],
                    [
                      4.3726788315567715,
                      4.3730102772334964,
                      4.3730141723078235,
                      4.373013413137182,
                      4.373011049146402,
                      4.373007300672175,
                      4.373001911798819,
                      4.372994374723174,
                      4.372983936925139,
                      4.372969568318023,
                      4.372949938689598,
                      4.372923468822709,
                      4.372888591877689,
                      4.372844530679468,
                      4.372793265083973,
                      4.372744150793591,
                      4.372724320827417,
                      4.372801487257194,
                      4.373132918512864,
                      4.374068572558725,
                      4.376362798335695,
                      4.381591402924407,
                      4.392912669422756,
                      4.416248260886555,
                      4.461466920184536,
                      4.54181299582538,
                      4.6687896107530475,
                      4.843532465387865,
                      5.053231791238675,
                      5.277501038909343,
                      5.4974394375491435,
                      5.700411995741999,
                      5.880860170696567,
                      6.0391945797059075,
                      6.179407947838878,
                      6.305775123773994,
                      6.4200434062476255,
                      6.520802453241056,
                      6.605067336736863,
                      6.670390778279746,
                      6.716042519175303,
                      6.743060597624555,
                      6.753698190106018,
                      6.750778812598408,
                      6.737212522392069,
                      6.715726296840291,
                      6.6887711162465395,
                      6.658550134670379,
                      6.627122030755871,
                      6.596545103242363
                    ],
                    [
                      4.371807260049403,
                      4.372999903034213,
                      4.373007924677222,
                      4.373007356116063,
                      4.373004266852172,
                      4.372999189781408,
                      4.372991849007388,
                      4.3729816017044785,
                      4.372967483120565,
                      4.372948190930461,
                      4.372922101927225,
                      4.372887433660485,
                      4.372842786566385,
                      4.37278858448052,
                      4.372730541350946,
                      4.372687578144796,
                      4.372709336154331,
                      4.372914058867477,
                      4.37356893270152,
                      4.375256627138814,
                      4.379208903416538,
                      4.387935308696393,
                      4.406270497620166,
                      4.442671658591105,
                      4.50955455145868,
                      4.619953064364118,
                      4.779420007875796,
                      4.979588042577275,
                      5.2014485580752465,
                      5.424624918591653,
                      5.633877517328319,
                      5.821044629016564,
                      5.984586995292372,
                      6.12782524551331,
                      6.255956271845801,
                      6.372646614520637,
                      6.478075984555055,
                      6.569592580789092,
                      6.6439541736971455,
                      6.699214920386638,
                      6.735360725866658,
                      6.753984966799524,
                      6.757621347288872,
                      6.749141354028495,
                      6.731362000169128,
                      6.706859841688866,
                      6.677937295723303,
                      6.646687815199771,
                      6.6151194920173015,
                      6.585306354398555
                    ],
                    [
                      4.368197980835828,
                      4.372981996873245,
                      4.372998223081319,
                      4.37299828127857,
                      4.3729943038751165,
                      4.372987439707281,
                      4.372977436801343,
                      4.3729634989466275,
                      4.3729444088860765,
                      4.372918556295748,
                      4.372884040585728,
                      4.372839046964505,
                      4.372782900614362,
                      4.372718676450802,
                      4.372659252595528,
                      4.372640830041602,
                      4.372752371858841,
                      4.3731984210842585,
                      4.374430334681785,
                      4.377412554605625,
                      4.384136771562818,
                      4.398523837544745,
                      4.4277007043717935,
                      4.482896420487496,
                      4.577662214332665,
                      4.721085499916205,
                      4.909631470238349,
                      5.126861963436756,
                      5.3517682177115296,
                      5.566787242290317,
                      5.761086827033678,
                      5.930798343203188,
                      6.0778684400469505,
                      6.207668816122757,
                      6.32553946581689,
                      6.433740584377316,
                      6.530750410574101,
                      6.613060341716535,
                      6.677602192688967,
                      6.723132578653915,
                      6.750340330242382,
                      6.761268866177533,
                      6.758625914980371,
                      6.745260123920593,
                      6.72386311800069,
                      6.6968573476501305,
                      6.66641132453982,
                      6.634533332542264,
                      6.603209727870785,
                      6.574557367658397
                    ],
                    [
                      4.353379878166786,
                      4.3729504385888145,
                      4.3729830350967624,
                      4.372984610847454,
                      4.372979603952387,
                      4.372970353233324,
                      4.372956729092466,
                      4.372937779006414,
                      4.372912005169893,
                      4.372877487196126,
                      4.3728321593037185,
                      4.372774589743698,
                      4.372705957940608,
                      4.37263471489502,
                      4.372587092825385,
                      4.372630134166777,
                      4.372921084700399,
                      4.373811203111198,
                      4.37605842552917,
                      4.381245567298844,
                      4.3925422966392,
                      4.415886460956303,
                      4.461168645241261,
                      4.541665681369196,
                      4.6689309795024885,
                      4.844148038660516,
                      5.054469636990582,
                      5.279271355396412,
                      5.499133373791772,
                      5.700635552265747,
                      5.877379661982864,
                      6.029389685728626,
                      6.161399586460185,
                      6.279814613863722,
                      6.389092836738055,
                      6.489595135355187,
                      6.578304326077835,
                      6.651359663248768,
                      6.706223556707641,
                      6.742444120459628,
                      6.76133727618358,
                      6.765278146627596,
                      6.757053564752473,
                      6.739435451732955,
                      6.714971348512914,
                      6.685935019752671,
                      6.654380489810058,
                      6.622257720276645,
                      6.591560084726377,
                      6.5644712956825115
                    ],
                    [
                      4.333471321899618,
                      4.372893519591934,
                      4.3729590611681655,
                      4.372963908513765,
                      4.372957824938863,
                      4.372945421623196,
                      4.3729268943454525,
                      4.372901169666701,
                      4.372866479348726,
                      4.372820674749502,
                      4.372761842146147,
                      4.372689827398623,
                      4.372609863321091,
                      4.372540818839686,
                      4.372533374222286,
                      4.372709163454335,
                      4.373343398710588,
                      4.375035306036206,
                      4.379047771534581,
                      4.387943653074296,
                      4.406637461419385,
                      4.443678665090555,
                      4.511530896099459,
                      4.623144951932007,
                      4.783859122522174,
                      4.985102861990759,
                      5.207729388254418,
                      5.43111397257575,
                      5.639474711341435,
                      5.823845455704525,
                      5.9819756944061515,
                      6.117237124014122,
                      6.23627107035861,
                      6.345408155617435,
                      6.447388303897877,
                      6.54056277512304,
                      6.620881520133167,
                      6.684636267083675,
                      6.730055601967686,
                      6.757470459991044,
                      6.7687103494317595,
                      6.766365854800409,
                      6.753224494267536,
                      6.7319439059196355,
                      6.704920574419185,
                      6.674291935047513,
                      6.642020613042907,
                      6.610026312852496,
                      6.580337059195544,
                      6.555222910887041
                    ],
                    [
                      4.652525482864174,
                      4.372788144677067,
                      4.3729209003863385,
                      4.3729323975390395,
                      4.372925435190769,
                      4.3729089353763335,
                      4.372883819394772,
                      4.372849011524509,
                      4.372802575127255,
                      4.372742399628871,
                      4.372667455564398,
                      4.372580680396128,
                      4.372495544825418,
                      4.372450569680036,
                      4.372540669942639,
                      4.372983497456781,
                      4.37425689842623,
                      4.377375369859083,
                      4.3844184518673766,
                      4.3994448253239264,
                      4.429755035684511,
                      4.486694976805117,
                      4.583686627726701,
                      4.7293505096529085,
                      4.919637256456168,
                      5.137909561000777,
                      5.363151578379458,
                      5.577590146713426,
                      5.769792294822792,
                      5.935074937569091,
                      6.074909426856816,
                      6.195309079375425,
                      6.303774210604944,
                      6.405490668034451,
                      6.500976734113833,
                      6.586836906799687,
                      6.658576758068596,
                      6.713052484666371,
                      6.749364896509231,
                      6.768547368268013,
                      6.772814443014199,
                      6.7648681096653105,
                      6.747436212404845,
                      6.723039153691781,
                      6.693925067559719,
                      6.6621126328222395,
                      6.629498690836139,
                      6.5980011240524945,
                      6.569707984190091,
                      6.546988674816167
                    ],
                    [
                      5.0947170520726,
                      4.372587046372687,
                      4.372859638261376,
                      4.372884203542549,
                      4.372877104518372,
                      4.372855416325014,
                      4.372821552888129,
                      4.372774725280029,
                      4.3727131294975825,
                      4.372635341817824,
                      4.372542765522814,
                      4.3724449870599456,
                      4.372371561447417,
                      4.372397458102024,
                      4.372696955704973,
                      4.373655544243801,
                      4.376096254994507,
                      4.381718220267221,
                      4.393880275558337,
                      4.418777318691041,
                      4.466520921587383,
                      4.5502991189227,
                      4.681012032806755,
                      4.858919747008717,
                      5.070709853610939,
                      5.295889205437059,
                      5.51520866758522,
                      5.714993051376246,
                      5.88813610658717,
                      6.03389101150197,
                      6.156903851687235,
                      6.264936901337141,
                      6.365206597827595,
                      6.460885626569898,
                      6.550184116878155,
                      6.628501058901201,
                      6.691476735766093,
                      6.736802259674219,
                      6.76444504207879,
                      6.776018198647439,
                      6.773994551038607,
                      6.761101156212438,
                      6.739963133862562,
                      6.712953403824059,
                      6.682181759513509,
                      6.6495696983770936,
                      6.616975497521287,
                      6.586343034350528,
                      6.559842050516333,
                      6.5399458759408295
                    ],
                    [
                      5.262661205984792,
                      4.3721888692418025,
                      4.37276043766049,
                      4.372810165789709,
                      4.372804792381169,
                      4.372776802332361,
                      4.372731547872715,
                      4.372669151908231,
                      4.372588653547986,
                      4.372490730651518,
                      4.372382347285278,
                      4.372286573647204,
                      4.372263619836474,
                      4.372455282357891,
                      4.373177192579497,
                      4.375105852639054,
                      4.37964415043858,
                      4.389589070156135,
                      4.410192796159669,
                      4.450349331776913,
                      4.5225471170151845,
                      4.6390000791710495,
                      4.803689156725943,
                      5.007097877066297,
                      5.230165495579344,
                      5.452811534003385,
                      5.65946065833411,
                      5.840731006599364,
                      5.993547539705951,
                      6.1206665952493715,
                      6.229204041117837,
                      6.3276070895190175,
                      6.421704930586143,
                      6.512145890331786,
                      6.595150303242526,
                      6.665584057650357,
                      6.719689980793735,
                      6.756116096917396,
                      6.775610493094322,
                      6.780226313823554,
                      6.772581062201543,
                      6.755359608749089,
                      6.73105722557737,
                      6.70189918262987,
                      6.669872693643099,
                      6.636826428050552,
                      6.604607995624739,
                      6.575213472616255,
                      6.55091073631313,
                      6.5342708564895995
                    ],
                    [
                      5.365766546961766,
                      4.3713625500246,
                      4.37259839994027,
                      4.37269597878731,
                      4.372696402372261,
                      4.372661310714222,
                      4.372601688688351,
                      4.372519844843772,
                      4.372417188300169,
                      4.372299417064458,
                      4.372185205666736,
                      4.372124066036281,
                      4.372233716975669,
                      4.372777357915645,
                      4.374320242870756,
                      4.378036913022597,
                      4.386280428915826,
                      4.403522556717969,
                      4.437539614473226,
                      4.499869504109693,
                      4.60322981867343,
                      4.7545025322607835,
                      4.9480328542567,
                      5.166967666157441,
                      5.391124645398601,
                      5.6034820379488925,
                      5.792647520059349,
                      5.953283111464926,
                      6.08597272965706,
                      6.196437927570191,
                      6.293375056229697,
                      6.384756522459832,
                      6.4741319155718395,
                      6.559560509701022,
                      6.635890631761271,
                      6.698108523693347,
                      6.743364086149927,
                      6.771258772456894,
                      6.783188438989061,
                      6.781508400000289,
                      6.768886123629065,
                      6.747915804282077,
                      6.720949135095328,
                      6.690071495530186,
                      6.657167550842477,
                      6.624039333477056,
                      6.592551544730931,
                      6.564775867592583,
                      6.5430874840358655,
                      6.530136165928728
                    ],
                    [
                      5.4655572729357775,
                      4.369536518549946,
                      4.372331411757657,
                      4.372519312571214,
                      4.37253384549538,
                      4.372491934492673,
                      4.372415180742538,
                      4.372310587712716,
                      4.372185060411953,
                      4.372055148510677,
                      4.371963119794714,
                      4.372009251862953,
                      4.372417876511941,
                      4.37367063336266,
                      4.376767972090595,
                      4.383717385183866,
                      4.398360281747784,
                      4.42749845608265,
                      4.481636185212177,
                      4.573397986617522,
                      4.711680411328285,
                      4.894377745892095,
                      5.10736299820348,
                      5.331085170290107,
                      5.54762457424902,
                      5.743948234059137,
                      5.912664310593602,
                      6.052120831929345,
                      6.166139548367908,
                      6.262720439301136,
                      6.3510828212806665,
                      6.437602136718473,
                      6.523030196614847,
                      6.603206592538102,
                      6.672361849892969,
                      6.7261254371444705,
                      6.762691541602211,
                      6.782522498046775,
                      6.787510305688147,
                      6.78018889947396,
                      6.76320147279484,
                      6.739020092954289,
                      6.70984985049073,
                      6.677650169065793,
                      6.644226210745676,
                      6.611360604810669,
                      6.580961831523139,
                      6.555196305661852,
                      6.536546346867853,
                      6.527706655295821
                    ],
                    [
                      5.557649017544357,
                      4.3651412824871665,
                      4.37188773397554,
                      4.372245425957593,
                      4.372290377471716,
                      4.372244654581996,
                      4.372149642566394,
                      4.372021880665428,
                      4.371879988346826,
                      4.371762787087288,
                      4.371758814604409,
                      4.372064344173651,
                      4.373099131964482,
                      4.37573265903882,
                      4.381707501497089,
                      4.394367024330509,
                      4.419696736303043,
                      4.467200254338274,
                      4.549029934913378,
                      4.675282951736262,
                      4.846814389601441,
                      5.05241095151749,
                      5.2737842713698395,
                      5.492716977740986,
                      5.6949970577375355,
                      5.871508794129051,
                      6.0184848647200315,
                      6.137595986424922,
                      6.235393560587582,
                      6.321294449998451,
                      6.40388383821134,
                      6.487030768654352,
                      6.568641238107088,
                      6.643024105160546,
                      6.704518016717548,
                      6.749733609809312,
                      6.77790705872588,
                      6.790217681540305,
                      6.788904222279526,
                      6.776575829426348,
                      6.7557974433779515,
                      6.728901709730014,
                      6.6979526757476835,
                      6.6648022378603535,
                      6.631201238224272,
                      6.598940336727656,
                      6.569996386049573,
                      6.546643619799968,
                      6.531459806132419,
                      6.527134675888626
                    ],
                    [
                      5.635711206213311,
                      4.353340446567321,
                      4.37114446011147,
                      4.371820697203657,
                      4.371927257367638,
                      4.371886840413326,
                      4.371777399089312,
                      4.371634218493168,
                      4.3714997787691665,
                      4.371457221719895,
                      4.371684148584805,
                      4.372555929721811,
                      4.374845430365211,
                      4.380095748037694,
                      4.391265216925625,
                      4.413678454703807,
                      4.455941209761928,
                      4.5295413833325275,
                      4.6451224109301235,
                      4.805778125581026,
                      5.003064977448742,
                      5.220385041013022,
                      5.439803886651526,
                      5.646456581255828,
                      5.829936904815064,
                      5.9846359159069396,
                      6.110049647236309,
                      6.210791092886647,
                      6.295499176766779,
                      6.373979708472986,
                      6.453055858636244,
                      6.533562115406946,
                      6.610971050476722,
                      6.678892388645495,
                      6.732349519952219,
                      6.769085880908286,
                      6.789279820173086,
                      6.794663485115549,
                      6.787688561224002,
                      6.7709580832147385,
                      6.746922837989073,
                      6.717770262414115,
                      6.685435433196074,
                      6.651684489080002,
                      6.618240337213372,
                      6.586928564335062,
                      6.559815633097924,
                      6.539288602569473,
                      6.527995361202105,
                      6.52855455691946
                    ],
                    [
                      5.702605445144772,
                      4.318184105901949,
                      4.369890350201076,
                      4.371163665689966,
                      4.371390407234461,
                      4.371377341516354,
                      4.371269552094322,
                      4.371138407378265,
                      4.371073661441308,
                      4.371244814096085,
                      4.371998224773159,
                      4.374038145151673,
                      4.37876120997039,
                      4.388835247388704,
                      4.409066398934653,
                      4.447299587955488,
                      4.514305703119758,
                      4.620811108033944,
                      4.7714283530265655,
                      4.960080273430206,
                      5.17202147388839,
                      5.390073131378754,
                      5.5992569429080845,
                      5.788389452022831,
                      5.95042421091635,
                      6.082851655150354,
                      6.188119982404219,
                      6.273336684212407,
                      6.348419802266159,
                      6.4224266144210835,
                      6.499493426317708,
                      6.577380173890006,
                      6.649878127670045,
                      6.710693291530344,
                      6.755904410821218,
                      6.784386024285866,
                      6.797103005952921,
                      6.796179307153297,
                      6.784167164797654,
                      6.763604032876173,
                      6.736805646900511,
                      6.705817580900382,
                      6.6724628407657205,
                      6.638445866408546,
                      6.605488602660927,
                      6.57547696895613,
                      6.550583262742132,
                      6.533302265351129,
                      6.526311251398306,
                      6.53207672632093
                    ],
                    [
                      5.764991324827923,
                      4.218957141906769,
                      4.367762841329818,
                      4.370154273803406,
                      4.3706095518600305,
                      4.370672333584458,
                      4.370610060682051,
                      4.370562505439054,
                      4.370711268999434,
                      4.371391218530538,
                      4.373262907743634,
                      4.377620342211757,
                      4.386919148537943,
                      4.405571902672059,
                      4.440808816255201,
                      4.50272272218205,
                      4.60183856928148,
                      4.743666762937792,
                      4.9239493221082995,
                      5.129691729487767,
                      5.34475798792788,
                      5.554535662099725,
                      5.747614362740898,
                      5.916022293682733,
                      6.055578529735993,
                      6.166572974438478,
                      6.254105076586645,
                      6.327207099884789,
                      6.396095485513922,
                      6.467951802228525,
                      6.543681030394907,
                      6.6184128662646105,
                      6.685160209235814,
                      6.738354293299463,
                      6.775294722653979,
                      6.795879522500213,
                      6.801683349276497,
                      6.795077370572725,
                      6.778626161875437,
                      6.754761056467727,
                      6.725654272569233,
                      6.693219740033804,
                      6.659188858046851,
                      6.625229897733119,
                      6.59309064005772,
                      6.564740126407352,
                      6.542465951519395,
                      6.528853071188939,
                      6.526551285464097,
                      6.537781909531591
                    ],
                    [
                      5.826966252506503,
                      4.101449070146998,
                      4.364145750038657,
                      4.368625840749643,
                      4.369507044764108,
                      4.369747092214227,
                      4.36983431503824,
                      4.370036403394755,
                      4.3707103825414855,
                      4.372501777372903,
                      4.3766414141495975,
                      4.385438395047891,
                      4.403018187616968,
                      4.436135442597599,
                      4.494293599358985,
                      4.58767345279334,
                      4.7222084059464065,
                      4.894888550764978,
                      5.094169534726386,
                      5.305025322863658,
                      5.5135491211855605,
                      5.708623233531524,
                      5.881933649015177,
                      6.0281062502624785,
                      6.145480159035019,
                      6.236937445285479,
                      6.309873132393352,
                      6.374506017632717,
                      6.440241383737284,
                      6.511441544136241,
                      6.58573693491559,
                      6.656432529946084,
                      6.716624285400631,
                      6.761871192614758,
                      6.790692513280311,
                      6.803842103415113,
                      6.803331333372956,
                      6.791657419918844,
                      6.771332006347836,
                      6.744656015037306,
                      6.713659234710418,
                      6.6801393662030675,
                      6.645759134729921,
                      6.612176970871095,
                      6.58119236501515,
                      6.554876221361487,
                      6.535632087442794,
                      6.526103182705887,
                      6.528839089500341,
                      6.545715971351736
                    ],
                    [
                      5.888875912190671,
                      4.167018931343032,
                      4.358019707424341,
                      4.3663758505103045,
                      4.368035384343363,
                      4.368657994869979,
                      4.369124752143128,
                      4.369938714635468,
                      4.37178525483644,
                      4.375877555469818,
                      4.38443750342909,
                      4.401393357084268,
                      4.43314683534453,
                      4.488717166489763,
                      4.577893721961257,
                      4.706707406654609,
                      4.872894193990343,
                      5.065963947367995,
                      5.271871870284133,
                      5.477563420160088,
                      5.672618010967685,
                      5.8489696899903265,
                      6.000644919666781,
                      6.124418529402967,
                      6.220980753152986,
                      6.295623088105152,
                      6.357555414075682,
                      6.417255903639299,
                      6.48219122973166,
                      6.553334691659721,
                      6.625505745223752,
                      6.6911523759211375,
                      6.744133237848783,
                      6.781314538080029,
                      6.802319273547662,
                      6.808567887389569,
                      6.802353093719294,
                      6.7862028171243525,
                      6.762530796952362,
                      6.733496289573006,
                      6.700995129651178,
                      6.666727940540876,
                      6.632313333488122,
                      6.599426491093896,
                      6.5699424443940435,
                      6.546047143833332,
                      6.530249594444005,
                      6.525203720450569,
                      6.533272187438457,
                      6.555885898742773
                    ],
                    [
                      5.949089979867472,
                      4.195352592395019,
                      4.347806896213142,
                      4.363243768724471,
                      4.366290790439941,
                      4.367700473204256,
                      4.369033655731196,
                      4.371215840993244,
                      4.375528011324633,
                      4.384172176018671,
                      4.400958502512718,
                      4.432036655423586,
                      4.486038302688379,
                      4.572363952907587,
                      4.696943095528004,
                      4.857879958438642,
                      5.045356105074643,
                      5.246061593979762,
                      5.44774335260646,
                      5.640892377600033,
                      5.818196829209369,
                      5.973739541047229,
                      6.1032775293805015,
                      6.20554252239762,
                      6.283522046061521,
                      6.344671075518836,
                      6.39934824744182,
                      6.457207672223126,
                      6.522809058505808,
                      6.593677543269176,
                      6.662670592623128,
                      6.722302860008344,
                      6.767629903303972,
                      6.796824133044963,
                      6.810433133083852,
                      6.810358442472206,
                      6.799044270273734,
                      6.778978228928631,
                      6.752448398016937,
                      6.7214713069243714,
                      6.687822753289221,
                      6.653128081212657,
                      6.61898745851888,
                      6.587118765408276,
                      6.559493327838462,
                      6.538417691847736,
                      6.52648274111423,
                      6.526289286839012,
                      6.539916378975723,
                      6.568257429813506
                    ],
                    [
                      6.005217138399851,
                      4.309423170950738,
                      4.331481286306805,
                      4.359388813613009,
                      4.364815094540178,
                      4.367783876834406,
                      4.370973598952147,
                      4.376034497279755,
                      4.38526809121784,
                      4.402449680473569,
                      4.433554931255542,
                      4.486895865156068,
                      4.571497776915081,
                      4.693085380274016,
                      4.849905240303496,
                      5.032535295224891,
                      5.228139830996012,
                      5.425071125714167,
                      5.614721560500489,
                      5.790855669991301,
                      5.9482405388187365,
                      6.082286397671419,
                      6.190192244538584,
                      6.2726734949014995,
                      6.3349718313880325,
                      6.3863112512996185,
                      6.437319442784018,
                      6.495693174470092,
                      6.562480052246053,
                      6.632228234205683,
                      6.696858591171353,
                      6.7496814472388165,
                      6.787142719868121,
                      6.808597386891347,
                      6.815315512308234,
                      6.809513864517318,
                      6.793685551165342,
                      6.770228561874445,
                      6.74129131807762,
                      6.7087543674133565,
                      6.674291342853915,
                      6.639475934468882,
                      6.6059159802779615,
                      6.575396606539606,
                      6.550001608995769,
                      6.532153964025821,
                      6.524487894092572,
                      6.529472094329135,
                      6.548800967382225,
                      6.582754598820403
                    ],
                    [
                      6.057856148635212,
                      4.614342182456822,
                      4.308119414113746,
                      4.356107095102183,
                      4.365332274294221,
                      4.3712592703777835,
                      4.3782133135214085,
                      4.388979431375495,
                      4.4074219439951445,
                      4.439400803446094,
                      4.492931156317797,
                      4.576657771344834,
                      4.696070677244095,
                      4.849505458073319,
                      5.027842899861298,
                      5.218549998460803,
                      5.410331103691462,
                      5.595266370353485,
                      5.768260427516584,
                      5.925245863629657,
                      6.0620092218123744,
                      6.1748185548125285,
                      6.262359425171592,
                      6.327460078857434,
                      6.377473952293521,
                      6.422787046581084,
                      6.473230246857949,
                      6.533543064625994,
                      6.601174908877834,
                      6.668579243605571,
                      6.727722890786713,
                      6.773177579336103,
                      6.802779220611234,
                      6.816874770180078,
                      6.817259164687847,
                      6.806325748868994,
                      6.786539932859849,
                      6.760178835597449,
                      6.7292480808922654,
                      6.695504711046098,
                      6.660540835515275,
                      6.6259034231399365,
                      6.59323380718088,
                      6.564406581883508,
                      6.541627729090983,
                      6.527420686878264,
                      6.5244084445412875,
                      6.534836078750179,
                      6.559915371774658,
                      6.599261391174472
                    ],
                    [
                      6.105735272186721,
                      4.954820215240208,
                      4.285066804833865,
                      4.357940414489868,
                      4.372372675749829,
                      4.383547056822974,
                      4.397605063711573,
                      4.418776476580293,
                      4.45281466667143,
                      4.507389251249683,
                      4.590720709388682,
                      4.708107045915514,
                      4.858125586082148,
                      5.032118063193554,
                      5.2178593509688245,
                      5.404188237387471,
                      5.583523623560442,
                      5.751695096646204,
                      5.906017791527972,
                      6.043311797947075,
                      6.159649942898812,
                      6.252132518977071,
                      6.321197542599229,
                      6.371875578246571,
                      6.413302328249453,
                      6.456179231837332,
                      6.508395248468981,
                      6.571083763691931,
                      6.6385638952633,
                      6.702271226170505,
                      6.754995475551131,
                      6.792777572429396,
                      6.814712747919458,
                      6.821925102157318,
                      6.816558182564742,
                      6.801072232171701,
                      6.77785124470085,
                      6.74903484631077,
                      6.7164909226117135,
                      6.68186957968465,
                      6.646704169517897,
                      6.612540377512394,
                      6.581078014799165,
                      6.554299663243436,
                      6.534534849993809,
                      6.524377557488858,
                      6.526369099970413,
                      6.54243154178087,
                      6.573207456390373,
                      6.6176253749562
                    ],
                    [
                      6.150134532677751,
                      5.2504462350977095,
                      4.299434953293711,
                      4.377136438061064,
                      4.396216330052245,
                      4.4156046599847905,
                      4.4415706642693875,
                      4.479306406919836,
                      4.535797979693157,
                      4.618696554266714,
                      4.733225801928926,
                      4.878602375807026,
                      5.047102284022841,
                      5.227064788338849,
                      5.40736102369289,
                      5.58034912477831,
                      5.74233095543634,
                      5.891882098378428,
                      6.027301056404653,
                      6.145245403919347,
                      6.2418648193823065,
                      6.315436852588576,
                      6.36846131472807,
                      6.408102672940614,
                      6.444708750098921,
                      6.488239279050759,
                      6.543604133052027,
                      6.608208823678349,
                      6.674149066615243,
                      6.732880296829269,
                      6.778512431625309,
                      6.808556844593284,
                      6.82316619353074,
                      6.824032407609743,
                      6.813500245592306,
                      6.7940147323484545,
                      6.767843791050891,
                      6.736984394419878,
                      6.703177712059839,
                      6.667986541806736,
                      6.632909490468167,
                      6.599516562231474,
                      6.569589263094126,
                      6.5452313372615984,
                      6.5288867269176185,
                      6.523174611566349,
                      6.530469909086444,
                      6.5522708759534245,
                      6.58858398148604,
                      6.637663028802266
                    ],
                    [
                      6.192802368978424,
                      5.488342359040981,
                      4.4336923132271435,
                      4.439067234837729,
                      4.455876881164193,
                      4.485286024089568,
                      4.527477701593757,
                      4.586304366050742,
                      4.66794451240163,
                      4.777526407979554,
                      4.915467281287207,
                      5.075766846671977,
                      5.247895132191676,
                      5.4208448457919625,
                      5.586551988273896,
                      5.74118674557646,
                      5.884122759451236,
                      6.015238197155372,
                      6.132457810531795,
                      6.2317616379740794,
                      6.309703640187511,
                      6.366252434471923,
                      6.406155411143225,
                      6.438414870167489,
                      6.473762248333335,
                      6.520253446177627,
                      6.579122072429716,
                      6.644501305575114,
                      6.707385355567422,
                      6.760073353660083,
                      6.798218303891191,
                      6.820664811512416,
                      6.828395948594636,
                      6.823484889274324,
                      6.808361048426816,
                      6.785396114547155,
                      6.756722831824507,
                      6.7241988539425845,
                      6.689454022057864,
                      6.653985615805147,
                      6.619282310682479,
                      6.586963502649059,
                      6.558912694327963,
                      6.5373609087554145,
                      6.524844626703143,
                      6.523946837660399,
                      6.5367805508309464,
                      6.5643258300801905,
                      6.605913038066135,
                      6.659166222638115
                    ],
                    [
                      6.2299175434776775,
                      5.6764339537558515,
                      4.719548060167773,
                      4.576469629155707,
                      4.575365194828515,
                      4.611720694320714,
                      4.669434823218629,
                      4.747249762957853,
                      4.848414821053315,
                      4.974573725011051,
                      5.122260744407617,
                      5.282932567010972,
                      5.446082401281776,
                      5.603014602546096,
                      5.749133305377289,
                      5.883887524758863,
                      6.008428469374399,
                      6.122368510923648,
                      6.2223472357064615,
                      6.303835697834773,
                      6.364467900339914,
                      6.406353741102982,
                      6.436451195073005,
                      6.465043364099201,
                      6.502189527735905,
                      6.552965963502717,
                      6.6147660065365885,
                      6.6793742355960335,
                      6.737772900078323,
                      6.7836337718035615,
                      6.814156741582267,
                      6.829307046529161,
                      6.8306774350469865,
                      6.820566469387198,
                      6.801400545291355,
                      6.775440151202772,
                      6.744675619559628,
                      6.7108349486099055,
                      6.67545527688709,
                      6.639991507896506,
                      6.605947530064546,
                      6.575015997262037,
                      6.549198397713092,
                      6.530849932086946,
                      6.52256321520238,
                      6.526808278811322,
                      6.545335322623719,
                      6.578526680198487,
                      6.625028399259973,
                      6.68190948555763
                    ],
                    [
                      6.262127424321008,
                      5.826670751316732,
                      5.062375721233183,
                      4.798930799926387,
                      4.765785321017685,
                      4.8001217426715765,
                      4.865239316112673,
                      4.952506014439129,
                      5.0615444709257185,
                      5.191068380811105,
                      5.335287208136414,
                      5.484917788501141,
                      5.630745172365077,
                      5.766911368625163,
                      5.892110833303164,
                      6.008095109932515,
                      6.116190408202188,
                      6.214422849203266,
                      6.297989725298697,
                      6.362595382679503,
                      6.40767977385582,
                      6.437720855904092,
                      6.461589415341448,
                      6.490027198290814,
                      6.531241347737043,
                      6.586580485236338,
                      6.6500338897416205,
                      6.712198611914701,
                      6.764914526931296,
                      6.803464961321654,
                      6.826453583603886,
                      6.834727707920181,
                      6.8302931670919165,
                      6.815550509551105,
                      6.792860798243083,
                      6.764351692896327,
                      6.731872815520847,
                      6.697036805454596,
                      6.661308900118784,
                      6.62612570820822,
                      6.593031340536283,
                      6.563813281436301,
                      6.540601102467661,
                      6.525859669420971,
                      6.522185571899907,
                      6.531846104780055,
                      6.556129441216659,
                      6.594763487377482,
                      6.645735352911718,
                      6.705657355455141
                    ],
                    [
                      6.295035747061987,
                      5.948958852158112,
                      5.374561252708654,
                      5.0735006431322764,
                      5.009450841466974,
                      5.032643658122324,
                      5.0942146994659705,
                      5.179637994927347,
                      5.285347378771019,
                      5.407642872084364,
                      5.539173092029108,
                      5.670748476605272,
                      5.795101114433286,
                      5.909445381131446,
                      6.015245921297382,
                      6.11513928325795,
                      6.208993920701488,
                      6.292621110321266,
                      6.360421109342199,
                      6.409315121677387,
                      6.441070816562812,
                      6.462478791720493,
                      6.4837604005630665,
                      6.5150585588321785,
                      6.561614635844119,
                      6.620839669718583,
                      6.684252305054018,
                      6.74240032777018,
                      6.788541984413552,
                      6.819579302066908,
                      6.835297406220853,
                      6.837193846353137,
                      6.827523433401644,
                      6.808695619777965,
                      6.7829651531196475,
                      6.7523175843000605,
                      6.718470237357513,
                      6.682937995773397,
                      6.647136454758409,
                      6.612508584631284,
                      6.580662820329491,
                      6.553499732998724,
                      6.5332791154904175,
                      6.522547539263498,
                      6.5238375322178745,
                      6.539115100213202,
                      6.5691170428736525,
                      6.612889306848845,
                      6.667817600716125,
                      6.730171433277844
                    ],
                    [
                      6.327922094651249,
                      6.049819006645305,
                      5.629346865120993,
                      5.352812430921545,
                      5.271086792054725,
                      5.279323329906924,
                      5.329720758489052,
                      5.405624887130722,
                      5.5010177118394825,
                      5.609878828063116,
                      5.723663163103583,
                      5.833988387778784,
                      5.936180681874933,
                      6.030542755642761,
                      6.120279541005641,
                      6.207162366657763,
                      6.288436586282456,
                      6.35802911986505,
                      6.410700938726325,
                      6.445446290675952,
                      6.466558895756837,
                      6.482814335763576,
                      6.504961496985559,
                      6.541348752712041,
                      6.593453252153879,
                      6.655159577081369,
                      6.716711010865264,
                      6.769519803785271,
                      6.808518354080251,
                      6.832079570123285,
                      6.840920413699323,
                      6.836982483316969,
                      6.822639389161969,
                      6.800243226866466,
                      6.771918203649393,
                      6.739507976972406,
                      6.704610798716305,
                      6.668663613975654,
                      6.633055757904839,
                      6.599261218107509,
                      6.568975294265518,
                      6.5442249656694145,
                      6.527392322126552,
                      6.521062626814894,
                      6.527621711623537,
                      6.548633123517672,
                      6.584211193884699,
                      6.632725215984595,
                      6.6910445737656445,
                      6.755216646906393
                    ],
                    [
                      6.354550684474192,
                      6.1329458251876074,
                      5.82962039718842,
                      5.604503683146027,
                      5.51937724470963,
                      5.514018386725538,
                      5.55085084839792,
                      5.614369535053822,
                      5.696611849121947,
                      5.78930169874803,
                      5.883342509699066,
                      5.97214220713999,
                      6.0541869169214735,
                      6.132362243215866,
                      6.209985204160731,
                      6.286317758252079,
                      6.355776279822176,
                      6.411558953631165,
                      6.4499904508987935,
                      6.472636943332094,
                      6.486201400643825,
                      6.50086426255893,
                      6.5268444695552255,
                      6.569547664413078,
                      6.626428997716675,
                      6.688784052841014,
                      6.746763979068004,
                      6.793238407833849,
                      6.824825500806379,
                      6.841137741803997,
                      6.843581573731138,
                      6.83437039979156,
                      6.815898500168432,
                      6.790416370672203,
                      6.75990654383301,
                      6.726077997290978,
                      6.690426454318133,
                      6.654332398461506,
                      6.619182913676445,
                      6.586507178479186,
                      6.558107269182998,
                      6.536143182681271,
                      6.5230992016703135,
                      6.521540336302566,
                      6.5336116684446655,
                      6.560378077951356,
                      6.601285916140086,
                      6.654066613400388,
                      6.715178650495181,
                      6.780566713660879
                    ],
                    [
                      6.373716411959717,
                      6.202145269404418,
                      5.986164836831552,
                      5.8147453950567485,
                      5.735566530031585,
                      5.720786691061169,
                      5.745853441567271,
                      5.79766319070279,
                      5.866457531253374,
                      5.942246088980153,
                      6.016609657748645,
                      6.085844913208801,
                      6.1516857808374,
                      6.218313106492659,
                      6.287212549660533,
                      6.354244358327985,
                      6.4118848513957545,
                      6.454094273513212,
                      6.479625572708848,
                      6.492722259950819,
                      6.502118948519247,
                      6.518577518732224,
                      6.550579833965906,
                      6.599742400897708,
                      6.659880498851489,
                      6.720924785041058,
                      6.77389117747906,
                      6.8133800134994775,
                      6.837543734898437,
                      6.846974446488296,
                      6.843552568382884,
                      6.829626753935848,
                      6.807541641676299,
                      6.779419510190155,
                      6.747100008539324,
                      6.712169530031189,
                      6.67604025214078,
                      6.640058810274961,
                      6.605634216678494,
                      6.574373963859871,
                      6.548202827901924,
                      6.5294117183465215,
                      6.520552858456193,
                      6.524096583637311,
                      6.541846737225841,
                      6.574286644795015,
                      6.620180229189147,
                      6.676690341953959,
                      6.73998201162508,
                      6.8060083686486195
                    ],
                    [
                      6.391840891905605,
                      6.2625959981055805,
                      6.109176267352198,
                      5.98152938847949,
                      5.912392945950661,
                      5.893461964963101,
                      5.910899264342086,
                      5.953248016008219,
                      6.009169141940171,
                      6.068340277403091,
                      6.124652751654629,
                      6.178020495078239,
                      6.232640771881352,
                      6.29200126450828,
                      6.354168107190664,
                      6.411922320266002,
                      6.457410328687755,
                      6.486632172238626,
                      6.5011520604525295,
                      6.507681783766201,
                      6.516388696851811,
                      6.537562981970297,
                      6.576772448613437,
                      6.631538585982913,
                      6.692972981119069,
                      6.7508667335680395,
                      6.797725246353708,
                      6.829896850846793,
                      6.846828906191177,
                      6.849840806833243,
                      6.841106904452274,
                      6.82300797252502,
                      6.797791681782734,
                      6.767439175589586,
                      6.733653180847474,
                      6.697913157815246,
                      6.661568419041819,
                      6.62595499556914,
                      6.592527941726104,
                      6.562994137067156,
                      6.539411415667496,
                      6.524188602493141,
                      6.519896121826961,
                      6.528821770692699,
                      6.552328015141883,
                      6.590255155890569,
                      6.640703701678662,
                      6.700361971379359,
                      6.7652225320684485,
                      6.831344586677516
                    ],
                    [
                      6.415434566135094,
                      6.3173421773946545,
                      6.205219763194113,
                      6.108740009490132,
                      6.051013808565097,
                      6.03326642147651,
                      6.047456050190859,
                      6.082256209770508,
                      6.125741652911976,
                      6.169328368762901,
                      6.210630118798267,
                      6.253008990289417,
                      6.301357051919767,
                      6.356340220326147,
                      6.412119630761752,
                      6.4598430148585555,
                      6.493000067176869,
                      6.51037733993704,
                      6.516316015707748,
                      6.5195659083446795,
                      6.5309084167666995,
                      6.558951045509633,
                      6.605456792379138,
                      6.664202307771326,
                      6.724844081028632,
                      6.778031722495475,
                      6.818052100665843,
                      6.842847425129777,
                      6.852890473938736,
                      6.850003409789242,
                      6.836511898770296,
                      6.814754529845349,
                      6.786853111212123,
                      6.7546450127974085,
                      6.719707129825409,
                      6.6834301724312395,
                      6.647122319860067,
                      6.6121327675929,
                      6.579985916572642,
                      6.552506003981275,
                      6.531886836685888,
                      6.52062914121076,
                      6.521255990846167,
                      6.535775176027768,
                      6.5650160140943115,
                      6.60814245465903,
                      6.662643094522118,
                      6.724842984197486,
                      6.790678717684566,
                      6.856396740400672
                    ],
                    [
                      6.443655286643738,
                      6.36469532233825,
                      6.277885253417545,
                      6.203237482088449,
                      6.15801795218071,
                      6.145740217629525,
                      6.159337190218238,
                      6.187050157056134,
                      6.218351383537782,
                      6.248390786840692,
                      6.278993269047378,
                      6.315630409479625,
                      6.361500786069926,
                      6.4130700491518695,
                      6.461524160361824,
                      6.498316694116924,
                      6.519475991820791,
                      6.526773247914071,
                      6.527018861902919,
                      6.530390612447669,
                      6.547244174701598,
                      6.583304748438093,
                      6.636177510628425,
                      6.696825143334458,
                      6.754712820539091,
                      6.802005450919951,
                      6.834795316055584,
                      6.852372082816813,
                      6.855971982574114,
                      6.847732707804283,
                      6.830023072444985,
                      6.8050892471514235,
                      6.774912508912139,
                      6.7411912380145464,
                      6.705391317928106,
                      6.668834513282743,
                      6.632810509214019,
                      6.598705383266217,
                      6.568134786380615,
                      6.543053740892596,
                      6.5257853467465115,
                      6.518881540175297,
                      6.524737629238544,
                      6.5449801634484475,
                      6.5798302754383124,
                      6.627774528332984,
                      6.68576969041788,
                      6.749897161525875,
                      6.816143549363704,
                      6.881005864889596
                    ],
                    [
                      6.469474503887366,
                      6.4010952871945275,
                      6.330777926958756,
                      6.2737848256735536,
                      6.242336114759672,
                      6.237351723481887,
                      6.250251498784213,
                      6.27007962541088,
                      6.2899451423481265,
                      6.309775553038522,
                      6.33478900728819,
                      6.370226513214875,
                      6.415436644016561,
                      6.462777337549593,
                      6.502402106784047,
                      6.527750952193629,
                      6.537921812521435,
                      6.537482837043252,
                      6.535242185612634,
                      6.542003242563023,
                      6.566488589571454,
                      6.610610809551777,
                      6.66813380091334,
                      6.728474721463759,
                      6.781945404248266,
                      6.822537309729531,
                      6.84799242547158,
                      6.85866940004259,
                      6.856335226433225,
                      6.843294330326392,
                      6.82188062499269,
                      6.794216798576254,
                      6.762139494908971,
                      6.7272183123132505,
                      6.690825476357109,
                      6.654234801917358,
                      6.618740603520112,
                      6.5857891885052435,
                      6.557106941118494,
                      6.5347868249539225,
                      6.521262835686484,
                      6.519081671668456,
                      6.5304184761791975,
                      6.556420843503826,
                      6.596651034815139,
                      6.648950653864846,
                      6.7098465188343015,
                      6.77529614121285,
                      6.84142725002215,
                      6.905033116228131
                    ]
                  ]
                }
              ],
              "layout": {
                "autosize": false,
                "font": {
                  "color": "RebeccaPurple",
                  "family": "Courier New, monospace",
                  "size": 18
                },
                "height": 800,
                "template": {
                  "data": {
                    "bar": [
                      {
                        "error_x": {
                          "color": "#2a3f5f"
                        },
                        "error_y": {
                          "color": "#2a3f5f"
                        },
                        "marker": {
                          "line": {
                            "color": "#E5ECF6",
                            "width": 0.5
                          },
                          "pattern": {
                            "fillmode": "overlay",
                            "size": 10,
                            "solidity": 0.2
                          }
                        },
                        "type": "bar"
                      }
                    ],
                    "barpolar": [
                      {
                        "marker": {
                          "line": {
                            "color": "#E5ECF6",
                            "width": 0.5
                          },
                          "pattern": {
                            "fillmode": "overlay",
                            "size": 10,
                            "solidity": 0.2
                          }
                        },
                        "type": "barpolar"
                      }
                    ],
                    "carpet": [
                      {
                        "aaxis": {
                          "endlinecolor": "#2a3f5f",
                          "gridcolor": "white",
                          "linecolor": "white",
                          "minorgridcolor": "white",
                          "startlinecolor": "#2a3f5f"
                        },
                        "baxis": {
                          "endlinecolor": "#2a3f5f",
                          "gridcolor": "white",
                          "linecolor": "white",
                          "minorgridcolor": "white",
                          "startlinecolor": "#2a3f5f"
                        },
                        "type": "carpet"
                      }
                    ],
                    "choropleth": [
                      {
                        "colorbar": {
                          "outlinewidth": 0,
                          "ticks": ""
                        },
                        "type": "choropleth"
                      }
                    ],
                    "contour": [
                      {
                        "colorbar": {
                          "outlinewidth": 0,
                          "ticks": ""
                        },
                        "colorscale": [
                          [
                            0,
                            "#0d0887"
                          ],
                          [
                            0.1111111111111111,
                            "#46039f"
                          ],
                          [
                            0.2222222222222222,
                            "#7201a8"
                          ],
                          [
                            0.3333333333333333,
                            "#9c179e"
                          ],
                          [
                            0.4444444444444444,
                            "#bd3786"
                          ],
                          [
                            0.5555555555555556,
                            "#d8576b"
                          ],
                          [
                            0.6666666666666666,
                            "#ed7953"
                          ],
                          [
                            0.7777777777777778,
                            "#fb9f3a"
                          ],
                          [
                            0.8888888888888888,
                            "#fdca26"
                          ],
                          [
                            1,
                            "#f0f921"
                          ]
                        ],
                        "type": "contour"
                      }
                    ],
                    "contourcarpet": [
                      {
                        "colorbar": {
                          "outlinewidth": 0,
                          "ticks": ""
                        },
                        "type": "contourcarpet"
                      }
                    ],
                    "heatmap": [
                      {
                        "colorbar": {
                          "outlinewidth": 0,
                          "ticks": ""
                        },
                        "colorscale": [
                          [
                            0,
                            "#0d0887"
                          ],
                          [
                            0.1111111111111111,
                            "#46039f"
                          ],
                          [
                            0.2222222222222222,
                            "#7201a8"
                          ],
                          [
                            0.3333333333333333,
                            "#9c179e"
                          ],
                          [
                            0.4444444444444444,
                            "#bd3786"
                          ],
                          [
                            0.5555555555555556,
                            "#d8576b"
                          ],
                          [
                            0.6666666666666666,
                            "#ed7953"
                          ],
                          [
                            0.7777777777777778,
                            "#fb9f3a"
                          ],
                          [
                            0.8888888888888888,
                            "#fdca26"
                          ],
                          [
                            1,
                            "#f0f921"
                          ]
                        ],
                        "type": "heatmap"
                      }
                    ],
                    "heatmapgl": [
                      {
                        "colorbar": {
                          "outlinewidth": 0,
                          "ticks": ""
                        },
                        "colorscale": [
                          [
                            0,
                            "#0d0887"
                          ],
                          [
                            0.1111111111111111,
                            "#46039f"
                          ],
                          [
                            0.2222222222222222,
                            "#7201a8"
                          ],
                          [
                            0.3333333333333333,
                            "#9c179e"
                          ],
                          [
                            0.4444444444444444,
                            "#bd3786"
                          ],
                          [
                            0.5555555555555556,
                            "#d8576b"
                          ],
                          [
                            0.6666666666666666,
                            "#ed7953"
                          ],
                          [
                            0.7777777777777778,
                            "#fb9f3a"
                          ],
                          [
                            0.8888888888888888,
                            "#fdca26"
                          ],
                          [
                            1,
                            "#f0f921"
                          ]
                        ],
                        "type": "heatmapgl"
                      }
                    ],
                    "histogram": [
                      {
                        "marker": {
                          "pattern": {
                            "fillmode": "overlay",
                            "size": 10,
                            "solidity": 0.2
                          }
                        },
                        "type": "histogram"
                      }
                    ],
                    "histogram2d": [
                      {
                        "colorbar": {
                          "outlinewidth": 0,
                          "ticks": ""
                        },
                        "colorscale": [
                          [
                            0,
                            "#0d0887"
                          ],
                          [
                            0.1111111111111111,
                            "#46039f"
                          ],
                          [
                            0.2222222222222222,
                            "#7201a8"
                          ],
                          [
                            0.3333333333333333,
                            "#9c179e"
                          ],
                          [
                            0.4444444444444444,
                            "#bd3786"
                          ],
                          [
                            0.5555555555555556,
                            "#d8576b"
                          ],
                          [
                            0.6666666666666666,
                            "#ed7953"
                          ],
                          [
                            0.7777777777777778,
                            "#fb9f3a"
                          ],
                          [
                            0.8888888888888888,
                            "#fdca26"
                          ],
                          [
                            1,
                            "#f0f921"
                          ]
                        ],
                        "type": "histogram2d"
                      }
                    ],
                    "histogram2dcontour": [
                      {
                        "colorbar": {
                          "outlinewidth": 0,
                          "ticks": ""
                        },
                        "colorscale": [
                          [
                            0,
                            "#0d0887"
                          ],
                          [
                            0.1111111111111111,
                            "#46039f"
                          ],
                          [
                            0.2222222222222222,
                            "#7201a8"
                          ],
                          [
                            0.3333333333333333,
                            "#9c179e"
                          ],
                          [
                            0.4444444444444444,
                            "#bd3786"
                          ],
                          [
                            0.5555555555555556,
                            "#d8576b"
                          ],
                          [
                            0.6666666666666666,
                            "#ed7953"
                          ],
                          [
                            0.7777777777777778,
                            "#fb9f3a"
                          ],
                          [
                            0.8888888888888888,
                            "#fdca26"
                          ],
                          [
                            1,
                            "#f0f921"
                          ]
                        ],
                        "type": "histogram2dcontour"
                      }
                    ],
                    "mesh3d": [
                      {
                        "colorbar": {
                          "outlinewidth": 0,
                          "ticks": ""
                        },
                        "type": "mesh3d"
                      }
                    ],
                    "parcoords": [
                      {
                        "line": {
                          "colorbar": {
                            "outlinewidth": 0,
                            "ticks": ""
                          }
                        },
                        "type": "parcoords"
                      }
                    ],
                    "pie": [
                      {
                        "automargin": true,
                        "type": "pie"
                      }
                    ],
                    "scatter": [
                      {
                        "marker": {
                          "colorbar": {
                            "outlinewidth": 0,
                            "ticks": ""
                          }
                        },
                        "type": "scatter"
                      }
                    ],
                    "scatter3d": [
                      {
                        "line": {
                          "colorbar": {
                            "outlinewidth": 0,
                            "ticks": ""
                          }
                        },
                        "marker": {
                          "colorbar": {
                            "outlinewidth": 0,
                            "ticks": ""
                          }
                        },
                        "type": "scatter3d"
                      }
                    ],
                    "scattercarpet": [
                      {
                        "marker": {
                          "colorbar": {
                            "outlinewidth": 0,
                            "ticks": ""
                          }
                        },
                        "type": "scattercarpet"
                      }
                    ],
                    "scattergeo": [
                      {
                        "marker": {
                          "colorbar": {
                            "outlinewidth": 0,
                            "ticks": ""
                          }
                        },
                        "type": "scattergeo"
                      }
                    ],
                    "scattergl": [
                      {
                        "marker": {
                          "colorbar": {
                            "outlinewidth": 0,
                            "ticks": ""
                          }
                        },
                        "type": "scattergl"
                      }
                    ],
                    "scattermapbox": [
                      {
                        "marker": {
                          "colorbar": {
                            "outlinewidth": 0,
                            "ticks": ""
                          }
                        },
                        "type": "scattermapbox"
                      }
                    ],
                    "scatterpolar": [
                      {
                        "marker": {
                          "colorbar": {
                            "outlinewidth": 0,
                            "ticks": ""
                          }
                        },
                        "type": "scatterpolar"
                      }
                    ],
                    "scatterpolargl": [
                      {
                        "marker": {
                          "colorbar": {
                            "outlinewidth": 0,
                            "ticks": ""
                          }
                        },
                        "type": "scatterpolargl"
                      }
                    ],
                    "scatterternary": [
                      {
                        "marker": {
                          "colorbar": {
                            "outlinewidth": 0,
                            "ticks": ""
                          }
                        },
                        "type": "scatterternary"
                      }
                    ],
                    "surface": [
                      {
                        "colorbar": {
                          "outlinewidth": 0,
                          "ticks": ""
                        },
                        "colorscale": [
                          [
                            0,
                            "#0d0887"
                          ],
                          [
                            0.1111111111111111,
                            "#46039f"
                          ],
                          [
                            0.2222222222222222,
                            "#7201a8"
                          ],
                          [
                            0.3333333333333333,
                            "#9c179e"
                          ],
                          [
                            0.4444444444444444,
                            "#bd3786"
                          ],
                          [
                            0.5555555555555556,
                            "#d8576b"
                          ],
                          [
                            0.6666666666666666,
                            "#ed7953"
                          ],
                          [
                            0.7777777777777778,
                            "#fb9f3a"
                          ],
                          [
                            0.8888888888888888,
                            "#fdca26"
                          ],
                          [
                            1,
                            "#f0f921"
                          ]
                        ],
                        "type": "surface"
                      }
                    ],
                    "table": [
                      {
                        "cells": {
                          "fill": {
                            "color": "#EBF0F8"
                          },
                          "line": {
                            "color": "white"
                          }
                        },
                        "header": {
                          "fill": {
                            "color": "#C8D4E3"
                          },
                          "line": {
                            "color": "white"
                          }
                        },
                        "type": "table"
                      }
                    ]
                  },
                  "layout": {
                    "annotationdefaults": {
                      "arrowcolor": "#2a3f5f",
                      "arrowhead": 0,
                      "arrowwidth": 1
                    },
                    "autotypenumbers": "strict",
                    "coloraxis": {
                      "colorbar": {
                        "outlinewidth": 0,
                        "ticks": ""
                      }
                    },
                    "colorscale": {
                      "diverging": [
                        [
                          0,
                          "#8e0152"
                        ],
                        [
                          0.1,
                          "#c51b7d"
                        ],
                        [
                          0.2,
                          "#de77ae"
                        ],
                        [
                          0.3,
                          "#f1b6da"
                        ],
                        [
                          0.4,
                          "#fde0ef"
                        ],
                        [
                          0.5,
                          "#f7f7f7"
                        ],
                        [
                          0.6,
                          "#e6f5d0"
                        ],
                        [
                          0.7,
                          "#b8e186"
                        ],
                        [
                          0.8,
                          "#7fbc41"
                        ],
                        [
                          0.9,
                          "#4d9221"
                        ],
                        [
                          1,
                          "#276419"
                        ]
                      ],
                      "sequential": [
                        [
                          0,
                          "#0d0887"
                        ],
                        [
                          0.1111111111111111,
                          "#46039f"
                        ],
                        [
                          0.2222222222222222,
                          "#7201a8"
                        ],
                        [
                          0.3333333333333333,
                          "#9c179e"
                        ],
                        [
                          0.4444444444444444,
                          "#bd3786"
                        ],
                        [
                          0.5555555555555556,
                          "#d8576b"
                        ],
                        [
                          0.6666666666666666,
                          "#ed7953"
                        ],
                        [
                          0.7777777777777778,
                          "#fb9f3a"
                        ],
                        [
                          0.8888888888888888,
                          "#fdca26"
                        ],
                        [
                          1,
                          "#f0f921"
                        ]
                      ],
                      "sequentialminus": [
                        [
                          0,
                          "#0d0887"
                        ],
                        [
                          0.1111111111111111,
                          "#46039f"
                        ],
                        [
                          0.2222222222222222,
                          "#7201a8"
                        ],
                        [
                          0.3333333333333333,
                          "#9c179e"
                        ],
                        [
                          0.4444444444444444,
                          "#bd3786"
                        ],
                        [
                          0.5555555555555556,
                          "#d8576b"
                        ],
                        [
                          0.6666666666666666,
                          "#ed7953"
                        ],
                        [
                          0.7777777777777778,
                          "#fb9f3a"
                        ],
                        [
                          0.8888888888888888,
                          "#fdca26"
                        ],
                        [
                          1,
                          "#f0f921"
                        ]
                      ]
                    },
                    "colorway": [
                      "#636efa",
                      "#EF553B",
                      "#00cc96",
                      "#ab63fa",
                      "#FFA15A",
                      "#19d3f3",
                      "#FF6692",
                      "#B6E880",
                      "#FF97FF",
                      "#FECB52"
                    ],
                    "font": {
                      "color": "#2a3f5f"
                    },
                    "geo": {
                      "bgcolor": "white",
                      "lakecolor": "white",
                      "landcolor": "#E5ECF6",
                      "showlakes": true,
                      "showland": true,
                      "subunitcolor": "white"
                    },
                    "hoverlabel": {
                      "align": "left"
                    },
                    "hovermode": "closest",
                    "mapbox": {
                      "style": "light"
                    },
                    "paper_bgcolor": "white",
                    "plot_bgcolor": "#E5ECF6",
                    "polar": {
                      "angularaxis": {
                        "gridcolor": "white",
                        "linecolor": "white",
                        "ticks": ""
                      },
                      "bgcolor": "#E5ECF6",
                      "radialaxis": {
                        "gridcolor": "white",
                        "linecolor": "white",
                        "ticks": ""
                      }
                    },
                    "scene": {
                      "xaxis": {
                        "backgroundcolor": "#E5ECF6",
                        "gridcolor": "white",
                        "gridwidth": 2,
                        "linecolor": "white",
                        "showbackground": true,
                        "ticks": "",
                        "zerolinecolor": "white"
                      },
                      "yaxis": {
                        "backgroundcolor": "#E5ECF6",
                        "gridcolor": "white",
                        "gridwidth": 2,
                        "linecolor": "white",
                        "showbackground": true,
                        "ticks": "",
                        "zerolinecolor": "white"
                      },
                      "zaxis": {
                        "backgroundcolor": "#E5ECF6",
                        "gridcolor": "white",
                        "gridwidth": 2,
                        "linecolor": "white",
                        "showbackground": true,
                        "ticks": "",
                        "zerolinecolor": "white"
                      }
                    },
                    "shapedefaults": {
                      "line": {
                        "color": "#2a3f5f"
                      }
                    },
                    "ternary": {
                      "aaxis": {
                        "gridcolor": "white",
                        "linecolor": "white",
                        "ticks": ""
                      },
                      "baxis": {
                        "gridcolor": "white",
                        "linecolor": "white",
                        "ticks": ""
                      },
                      "bgcolor": "#E5ECF6",
                      "caxis": {
                        "gridcolor": "white",
                        "linecolor": "white",
                        "ticks": ""
                      }
                    },
                    "title": {
                      "x": 0.05
                    },
                    "xaxis": {
                      "automargin": true,
                      "gridcolor": "white",
                      "linecolor": "white",
                      "ticks": "",
                      "title": {
                        "standoff": 15
                      },
                      "zerolinecolor": "white",
                      "zerolinewidth": 2
                    },
                    "yaxis": {
                      "automargin": true,
                      "gridcolor": "white",
                      "linecolor": "white",
                      "ticks": "",
                      "title": {
                        "standoff": 15
                      },
                      "zerolinecolor": "white",
                      "zerolinewidth": 2
                    }
                  }
                },
                "title": {
                  "text": "Global parameter search Google mobility data"
                },
                "width": 800,
                "xaxis": {
                  "title": {
                    "text": "c0 value"
                  }
                },
                "yaxis": {
                  "title": {
                    "text": "c1 value"
                  }
                }
              }
            }
          },
          "metadata": {},
          "output_type": "display_data"
        }
      ],
      "source": [
        "#VT global param search\n",
        "paramC0 = np.linspace(0,4,50)  #x-values\n",
        "paramC1 = np.linspace(0,1,50)  #y-values\n",
        "\n",
        "# #Google global param search\n",
        "# params.append(np.linspace(0,4,50)) \n",
        "# params.append(np.linspace(0,1,50))\n",
        "\n",
        "result = np.zeros((len(paramC0),len(paramC1)))\n",
        "for param1 in range(len(paramC0)):\n",
        "    for param0 in range(len(paramC1)):\n",
        "        result[param0,param1] = math.log(mean_squared_error(weeklyAdmissions,modelfunction(t,paramC0[param0],paramC1[param1]), squared = False))\n",
        "\n",
        "\n",
        "\n",
        "fig = go.Figure() #Creates a plot using graph objects and then adds each graph to figure\n",
        "# fig.add_trace(go.Scatter(x=t, y=weeklyAdmissions,\n",
        "#                     mode='lines',\n",
        "#                     name='Admission data'))\n",
        "# fig.add_trace(go.Scatter(x=t, y=modelfunction(t,*best[0]),\n",
        "#                     mode='lines',\n",
        "#                     name='Predicted admissions'))\n",
        "\n",
        "fig.add_contour(\n",
        "                    z=result,\n",
        "                    x=paramC0,\n",
        "                    y=paramC1,\n",
        "                    colorbar=dict(\n",
        "                        titleside='right',\n",
        "                        title='Log RMSE', # title here\n",
        "                    )\n",
        ")  \n",
        "  \n",
        "\n",
        "fig.update_layout(\n",
        "                    title='Global parameter search Google mobility data',\n",
        "                    xaxis_title='c0 value',\n",
        "                    yaxis_title='c1 value',\n",
        "                    autosize=False,\n",
        "                    width=800,\n",
        "                    height=800,\n",
        "                    font=dict(\n",
        "                        family=\"Courier New, monospace\",\n",
        "                        size=18,\n",
        "                        color=\"RebeccaPurple\"\n",
        "    )\n",
        ")\n",
        "fig.show()\n",
        "\n",
        "#Countour plot plotta log(RMSE) för Z axeln\n"
      ]
    }
  ],
  "metadata": {
    "colab": {
      "collapsed_sections": [],
      "name": "Mobility based SIR.ipynb",
      "provenance": []
    },
    "kernelspec": {
      "display_name": "Python 3",
      "name": "python3"
    },
    "language_info": {
      "codemirror_mode": {
        "name": "ipython",
        "version": 3
      },
      "file_extension": ".py",
      "mimetype": "text/x-python",
      "name": "python",
      "nbconvert_exporter": "python",
      "pygments_lexer": "ipython3",
      "version": "3.9.7"
    }
  },
  "nbformat": 4,
  "nbformat_minor": 0
}
